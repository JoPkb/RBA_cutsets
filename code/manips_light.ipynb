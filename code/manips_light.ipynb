{
 "cells": [
  {
   "attachments": {},
   "cell_type": "markdown",
   "metadata": {},
   "source": [
    " ### Imports"
   ]
  },
  {
   "cell_type": "code",
   "execution_count": 5,
   "metadata": {},
   "outputs": [
    {
     "name": "stdout",
     "output_type": "stream",
     "text": [
      "pyparsing import\n",
      "\n",
      "INFO: No xlwt module available, Excel spreadsheet creation disabled\n",
      "CBGLPK based on swiglpk: not all methods implimented yet! 5.0\n",
      "\n",
      "*****\n",
      "Using CPLEX\n",
      "*****\n",
      "\n",
      "doFBAMinSum not available with GLPK\n",
      "\n",
      "INFO: No xlrd module available, Excel spreadsheet reading disabled\n",
      "\n",
      "\n",
      "***********************************************************************\n",
      "* Welcome to CBMPy (0.8.4) - PySCeS Constraint Based Modelling        *\n",
      "*                http://cbmpy.sourceforge.net                         *\n",
      "* Copyright(C) Brett G. Olivier 2014 - 2020                           *\n",
      "* Systems Biology Lab, Vrije Universiteit Amsterdam                   *\n",
      "* Amsterdam, The Netherlands                                          *\n",
      "* CBMPy is developed as part of the BeBasic MetaToolKit Project       *\n",
      "* Distributed under the GNU GPL v 3.0 licence, see                    *\n",
      "* LICENCE (supplied with this release) for details                    *\n",
      "***********************************************************************\n",
      "\n"
     ]
    }
   ],
   "source": [
    "import matplotlib.pyplot as plt\n",
    "import cobra\n",
    "from cobra.io import validate_sbml_model\n",
    "import importlib\n",
    "from xml.etree import ElementTree\n",
    "import utils.Model_correction as mc\n",
    "import sys\n",
    "import utils.model_maj as mj\n",
    "import utils.viz_utils as vu\n",
    "#import cplex\n",
    "import cbmpy\n",
    "import pandas as pd\n",
    "import plotly.express as px\n",
    "from plotly.subplots import make_subplots\n",
    "import plotly.graph_objects as go\n",
    "from tqdm import tqdm\n",
    "from itertools import cycle"
   ]
  },
  {
   "cell_type": "code",
   "execution_count": null,
   "metadata": {},
   "outputs": [],
   "source": [
    "importlib.reload(mj)\n",
    "importlib.reload(vu)\n",
    "importlib.reload(mc)"
   ]
  },
  {
   "attachments": {},
   "cell_type": "markdown",
   "metadata": {},
   "source": [
    "### Chargement des modèles"
   ]
  },
  {
   "cell_type": "code",
   "execution_count": 66,
   "metadata": {},
   "outputs": [],
   "source": [
    "HepG2, errors = validate_sbml_model(\"../models_storage/Hep_G2_v7.xml\")"
   ]
  },
  {
   "cell_type": "code",
   "execution_count": null,
   "metadata": {},
   "outputs": [],
   "source": [
    "r = HepG2.reactions.HMR_0030\n",
    "r.compartments.add(\"C_x\")\n",
    "r.boundary"
   ]
  },
  {
   "cell_type": "code",
   "execution_count": null,
   "metadata": {},
   "outputs": [],
   "source": [
    "iHep, errors = validate_sbml_model(\"../models_storage/iHep_v3.xml\")"
   ]
  },
  {
   "cell_type": "code",
   "execution_count": null,
   "metadata": {},
   "outputs": [],
   "source": [
    "i = 0\n",
    "for S_r in iHep.boundary :\n",
    "    if S_r.bounds == (-1000.0,1000.0) :\n",
    "        i+=1\n",
    "    else :\n",
    "        vu.print_reactions(S_r)\n",
    "        print(S_r.bounds, \"\\n\\n\")\n",
    "print(f\"{i}/{len(iHep.boundary)}\")"
   ]
  },
  {
   "cell_type": "code",
   "execution_count": null,
   "metadata": {},
   "outputs": [],
   "source": [
    "iHep_ex = mj.maj(\"iHep_v2.xml\", \"Hep_G2_v6.xml\", \"../models_storage/\", bounds_check = False, genes_id_copy= False, alt_gene_ids= False, metab_id_check= False, bounds_value_check= False, subsystem_copy= False,add_exchanges=False, get_names=True)"
   ]
  },
  {
   "cell_type": "code",
   "execution_count": null,
   "metadata": {},
   "outputs": [],
   "source": [
    "iHep_ex.reactions.HMR_4281.name"
   ]
  },
  {
   "cell_type": "code",
   "execution_count": 63,
   "metadata": {},
   "outputs": [],
   "source": [
    "cobra.io.write_sbml_model(HepG2, \"../models_storage/Hep_G2_v7_mod.xml\")"
   ]
  },
  {
   "cell_type": "code",
   "execution_count": null,
   "metadata": {},
   "outputs": [],
   "source": [
    "# Bidouillage pour ajouter des subsystems aux réactions d'échange. (Va ajouter \"exchange reactions\" normalement.)\n",
    "for r in HepG2.reactions :\n",
    "    if \"EX_\" in r.id :\n",
    "        m = [m_id for m_id, _ in HepG2.reactions.get_by_id(r.id).metabolites.items()]\n",
    "        sub = [r.subsystem for r in m[0].reactions if \"EX_\" not in r.id]\n",
    "        r.subsystem = sub[0]"
   ]
  },
  {
   "attachments": {},
   "cell_type": "markdown",
   "metadata": {},
   "source": [
    "### Bounds modifications"
   ]
  },
  {
   "cell_type": "code",
   "execution_count": 66,
   "metadata": {},
   "outputs": [],
   "source": [
    "HepG2.reactions.EX_m01965x.bounds = (-565.0,-565.0) #Glucose exchange, set to the maximal input value observed with FVA\n",
    "#iHep.reactions.EX_m01965x.bounds = (-1000.0, -1000.0)"
   ]
  },
  {
   "cell_type": "code",
   "execution_count": 67,
   "metadata": {},
   "outputs": [],
   "source": [
    "HepG2.reactions.HMR_3883.bounds = (0.0,0.0) #Serine --> Pyruvate exchange\n",
    "HepG2.reactions.EX_m02630x.bounds = (-1000.0,1000.0) #O2 exchange\n",
    "HepG2.reactions.EX_m02819x.bounds = (0.0,1000.0) #Pyruvate exchange\n",
    "HepG2.reactions.EX_m01910x.bounds = (0.0,0.0) #Galactose exchange\n",
    "HepG2.reactions.EX_m01743x.bounds = (0.0, 1000.0) #D-Ribulose exchange\n",
    "HepG2.reactions.EX_m01962x.bounds = (0.0,1000.0) #glucosamine exchange\n",
    "HepG2.reactions.HMR_4316.bounds = (-1000.0,1000.0) # Glucose --> D-Glucitol\n",
    "HepG2.reactions.EX_m02896x.bounds = (0.0,1000.0) # Serine intake\n",
    "HepG2.reactions.EX_m01682x.bounds = (-1000.0,0.0) # Glucitol secretion blocked. Kept the intake just in case.\n",
    "HepG2.reactions.EX_m01840x.bounds = (-1000.0,0.0) #Fructose exchange\n",
    "#HepG2.reactions.HMR_4930.bounds = (-1000.0,1000.0) # Pyruvate transfer from cytoplasm to peroxysome\n",
    "#HepG2.reactions.HMR_4281.bounds = (0.0,0.0) # Fermentation in peroxysome"
   ]
  },
  {
   "cell_type": "code",
   "execution_count": null,
   "metadata": {},
   "outputs": [],
   "source": [
    "# ADI-PEG20 treatment\n",
    "\n",
    "HepG2.reactions.EX_m01365x.bounds = (0.0,0.0) # Arginine intake\n",
    "HepG2.reactions.HMR_3813.bounds = (0.0,0.0) # Arginosuccinate synthase"
   ]
  },
  {
   "cell_type": "code",
   "execution_count": null,
   "metadata": {},
   "outputs": [],
   "source": [
    "#HepG2.reactions.EX_m02403x.bounds = (0.0,1000.0) #Lactate exchange\n",
    "HepG2.reactions.EX_m02819x.bounds = (0.0,1000.0) #Pyruvate exchange\n",
    "#HepG2.reactions.EX_m01840x.bounds = (0.0,0.0) #Fructose exchange"
   ]
  },
  {
   "cell_type": "code",
   "execution_count": null,
   "metadata": {},
   "outputs": [],
   "source": [
    "HepG2.reactions.HMR_4281.bounds = (-1000.0,1000.0) # Pyruvate fermentation in peroxysome\n",
    "HepG2.reactions.HMR_4281.name = \"Lactic Fermentation\""
   ]
  },
  {
   "cell_type": "code",
   "execution_count": null,
   "metadata": {},
   "outputs": [],
   "source": [
    "HepG2.reactions.EX_m02630x.bounds = (0.0,1000.0) #O2 exchange"
   ]
  },
  {
   "cell_type": "code",
   "execution_count": null,
   "metadata": {},
   "outputs": [],
   "source": [
    "HepG2.reactions.EX_m02630x.bounds = (-1000.0,1000.0) #O2 exchange\n",
    "HepG2.reactions.EX_m02819x.bounds = (0.0,1000.0) #Pyruvate exchange\n",
    "HepG2.reactions.EX_m01910x.bounds = (0.0,0.0) #Galactose exchange\n",
    "HepG2.reactions.EX_m01743x.bounds = (0.0, 1000.0) #D-Ribulose exchange\n",
    "HepG2.reactions.EX_m01962x.bounds = (0.0,1000.0) #glucosamine exchange\n",
    "#HepG2.reactions.EX_m01965x.bounds = (-1000,1000.0) #Glucose exchange\n",
    "#HepG2.reactions.EX_m01286x.bounds = (0.0,0.0) #ADP-Glucose exchange\n",
    "#HepG2.reactions.EX_m01840x.bounds = (-1000.0,0.0) #Fructose exchange\n",
    "#HepG2.reactions.EX_m01743x.bounds = (-1000.0,1000.0) #D-Ribulose exchange\n",
    "#HepG2.reactions.EX_m02453x.bounds = (0.0,0.0) #Mannose exchange\n",
    "#HepG2.reactions.EX_m02470x.bounds = (0.0,0.0) #Methanol exchange\n",
    "\n",
    "# --> After Methanol cut, Glucose uptake flux went from 0.0 to -190.0\n",
    "# Without O2, glucose uptake went down to -23"
   ]
  },
  {
   "attachments": {},
   "cell_type": "markdown",
   "metadata": {},
   "source": [
    "### Optimization"
   ]
  },
  {
   "cell_type": "code",
   "execution_count": null,
   "metadata": {},
   "outputs": [],
   "source": [
    "iHep.objective = \"biomass_components\"\n",
    "sol = iHep.optimize()\n",
    "sol"
   ]
  },
  {
   "cell_type": "code",
   "execution_count": 21,
   "metadata": {},
   "outputs": [
    {
     "data": {
      "text/plain": [
       "27.150400483557483"
      ]
     },
     "execution_count": 21,
     "metadata": {},
     "output_type": "execute_result"
    }
   ],
   "source": [
    "HepG2.objective = \"biomass_components\"\n",
    "val = HepG2.optimize()\n",
    "val.objective_value"
   ]
  },
  {
   "attachments": {},
   "cell_type": "markdown",
   "metadata": {},
   "source": [
    "### See exchanges"
   ]
  },
  {
   "cell_type": "code",
   "execution_count": null,
   "metadata": {},
   "outputs": [],
   "source": [
    "[(m.name, m.id) for m in HepG2.reactions.biomass_components.metabolites]"
   ]
  },
  {
   "cell_type": "code",
   "execution_count": null,
   "metadata": {},
   "outputs": [],
   "source": [
    "importlib.reload(vu)\n",
    "vu.print_exchanges(HepG2, filter = \"all\")"
   ]
  },
  {
   "cell_type": "markdown",
   "metadata": {},
   "source": [
    "### run_parcours"
   ]
  },
  {
   "cell_type": "code",
   "execution_count": null,
   "metadata": {},
   "outputs": [],
   "source": [
    "vu.run_parcours(HepG2.reactions.EX_m01965x, HepG2)\n",
    "\n",
    "#m01682c glucitol"
   ]
  },
  {
   "cell_type": "markdown",
   "metadata": {},
   "source": [
    "### see parcours"
   ]
  },
  {
   "cell_type": "code",
   "execution_count": null,
   "metadata": {},
   "outputs": [],
   "source": [
    "for reaction, flux in f.items() :\n",
    "    vu.print_reactions(HepG2.reactions.get_by_id(reaction), flux)\n",
    "    print(f\"FLUX : {flux} --- ID : {HepG2.reactions.get_by_id(reaction).id} --- compartment : {HepG2.reactions.get_by_id(reaction).compartments} \\n\\n---\\n\\n\")"
   ]
  },
  {
   "cell_type": "code",
   "execution_count": null,
   "metadata": {},
   "outputs": [],
   "source": [
    "vu.print_reactions(HepG2.reactions.biomass_components)"
   ]
  },
  {
   "attachments": {},
   "cell_type": "markdown",
   "metadata": {},
   "source": [
    "### FVA"
   ]
  },
  {
   "cell_type": "code",
   "execution_count": 40,
   "metadata": {},
   "outputs": [],
   "source": [
    "from cobra.flux_analysis import flux_variability_analysis"
   ]
  },
  {
   "cell_type": "code",
   "execution_count": 68,
   "metadata": {},
   "outputs": [],
   "source": [
    "fva = flux_variability_analysis(HepG2)"
   ]
  },
  {
   "cell_type": "code",
   "execution_count": 67,
   "metadata": {},
   "outputs": [],
   "source": [
    "HepG2.objective = \"biomass_components\""
   ]
  },
  {
   "cell_type": "code",
   "execution_count": null,
   "metadata": {},
   "outputs": [],
   "source": [
    "indispensable = []\n",
    "unisens = []\n",
    "reversible = []\n",
    "unknown = []\n",
    "other = []\n",
    "\n",
    "for reaction_id, flux_values in fva.iterrows() :\n",
    "    min_flux = flux_values[\"minimum\"]\n",
    "    max_flux = flux_values[\"maximum\"]\n",
    "    difference = abs(max_flux - min_flux)\n",
    "\n",
    "    if max_flux > 0.0 and min_flux > 0.0 :\n",
    "        f = max_flux\n",
    "    elif max_flux > 0.0 and min_flux < 0.0 :\n",
    "        f = 0.0\n",
    "    elif max_flux < 0.0 and min_flux < 0.0 :\n",
    "        f = min_flux\n",
    "    else :\n",
    "        f = 0.0\n",
    "\n",
    "\n",
    "    if difference < 1e-9 and min_flux + max_flux != 0.0 and abs(min_flux + max_flux) > 0.01 :\n",
    "       indispensable.append((reaction_id, flux_values, f))\n",
    "\n",
    "    elif min_flux < 0.0 and max_flux > 0.0 :\n",
    "        reversible.append((reaction_id, flux_values, f))\n",
    "\n",
    "    elif min_flux > 0.0 and max_flux > 0.0 or min_flux < 0.0 and max_flux < 0.0 :\n",
    "        if difference > 1e-9 :\n",
    "            unisens.append((reaction_id, flux_values, f))\n",
    "    elif min_flux == max_flux == 0.0 :\n",
    "        unknown.append((reaction_id, flux_values, f))\n",
    "    else :\n",
    "        other.append((reaction_id, flux_values, f))\n",
    "\n",
    "print(\"\\n--------INDISPENSABLE--------\\n\") \n",
    "for reaction_id, flux_values, f in indispensable : \n",
    "    min_flux = flux_values[\"minimum\"]\n",
    "    max_flux = flux_values[\"maximum\"]   \n",
    "    vu.print_reactions(HepG2.reactions.get_by_id(reaction_id), f)\n",
    "    print(f\"\\nMIN FLUX -- {min_flux} === {max_flux} -- MAX FLUX\")\n",
    "    print(f\"\\nID : {reaction_id} -- NAME : {HepG2.reactions.get_by_id(reaction_id).name}\\n\\n\")\n",
    "\n",
    "print(\"\\n--------UNISENS--------\\n\")\n",
    "for reaction_id, flux_values, f in unisens :    \n",
    "    min_flux = flux_values[\"minimum\"]\n",
    "    max_flux = flux_values[\"maximum\"]\n",
    "    vu.print_reactions(HepG2.reactions.get_by_id(reaction_id), f)\n",
    "    print(f\"\\nMIN FLUX -- {min_flux} === {max_flux} -- MAX FLUX\")\n",
    "    print(f\"\\nID : {reaction_id} -- NAME : {HepG2.reactions.get_by_id(reaction_id).name}\\n\\n\")\n",
    "\n",
    "print(\"\\n--------REVERSIBLE--------\\n\")\n",
    "for reaction_id, flux_values, f in reversible :  \n",
    "    min_flux = flux_values[\"minimum\"]\n",
    "    max_flux = flux_values[\"maximum\"]  \n",
    "    vu.print_reactions(HepG2.reactions.get_by_id(reaction_id), f)\n",
    "    print(f\"\\nMIN FLUX -- {min_flux} === {max_flux} -- MAX FLUX\")\n",
    "    print(f\"\\nID : {reaction_id} -- NAME : {HepG2.reactions.get_by_id(reaction_id).name}\\n\\n\")\n",
    "\n",
    "if len(unknown) >0 :\n",
    "    print(\"\\n--------UNKNOWN--------\\n\")\n",
    "    for reaction_id, flux_values, f in unknown :    \n",
    "        min_flux = flux_values[\"minimum\"]\n",
    "        max_flux = flux_values[\"maximum\"]\n",
    "        vu.print_reactions(HepG2.reactions.get_by_id(reaction_id), f)\n",
    "        print(f\"\\nMIN FLUX -- {min_flux} === {max_flux} -- MAX FLUX\")\n",
    "        print(f\"\\nID : {reaction_id} -- NAME : {HepG2.reactions.get_by_id(reaction_id).name}\\n\\n\")\n",
    "\n",
    "if len(other) >0 :\n",
    "    print(\"\\n--------OTHER--------\\n\")\n",
    "    for reaction_id, flux_values, f in other :    \n",
    "        min_flux = flux_values[\"minimum\"]\n",
    "        max_flux = flux_values[\"maximum\"]\n",
    "        vu.print_reactions(HepG2.reactions.get_by_id(reaction_id), f)\n",
    "        print(f\"\\nMIN FLUX -- {min_flux} === {max_flux} -- MAX FLUX\")\n",
    "        print(f\"\\nID : {reaction_id} -- NAME : {HepG2.reactions.get_by_id(reaction_id).name}\\n\\n\")"
   ]
  },
  {
   "cell_type": "code",
   "execution_count": 69,
   "metadata": {},
   "outputs": [],
   "source": [
    "def cut_and_optimize(model:cobra.core.model.Model, reaction_id:str, objective:str = \"biomass_components\") :\n",
    "    reaction_to_cut = model.reactions.get_by_id(reaction_id)\n",
    "    original_bounds = reaction_to_cut.bounds\n",
    "    reaction_to_cut.bounds = (0.0,0.0)\n",
    "\n",
    "    model.objective = objective\n",
    "    solution = model.optimize()\n",
    "    objective_value = solution.objective_value\n",
    "\n",
    "    if objective_value:\n",
    "        return objective_value\n",
    "    else :\n",
    "        reaction_to_cut.bounds = original_bounds # Backtrack if no solution is found\n",
    "    \n",
    "    "
   ]
  },
  {
   "cell_type": "code",
   "execution_count": 70,
   "metadata": {},
   "outputs": [],
   "source": [
    "values = []\n",
    "reactions_cut = []\n",
    "for reaction_id, flux_values in fva.iterrows() :\n",
    "    min_flux = flux_values[\"minimum\"]\n",
    "    max_flux = flux_values[\"maximum\"]\n",
    "    if max_flux == 0.0 and min_flux == 0.0 :\n",
    "        pass\n",
    "    elif max_flux == 0.0 or min_flux == 0.0 :\n",
    "        val = cut_and_optimize(HepG2, reaction_id)\n",
    "        if val == None :\n",
    "            values.append(0.0)\n",
    "        else :\n",
    "            values.append(val)\n",
    "        reactions_cut.append(reaction_id)\n",
    "        \n",
    "    else :\n",
    "        pass"
   ]
  },
  {
   "cell_type": "code",
   "execution_count": 81,
   "metadata": {},
   "outputs": [
    {
     "name": "stdout",
     "output_type": "stream",
     "text": [
      "galactose-1-phosphate uridylyltransferase\n",
      "thioredoxin\n",
      "deoxycytidine kinase\n",
      "uridine-cytidine kinase 1\n",
      "adenosine deaminase\n",
      "thymidine kinase 1\n",
      "thioredoxin reductase 3\n",
      "carbonic anhydrase 5B\n",
      "branched chain amino acid transaminase 2\n",
      "branched chain keto acid dehydrogenase E1 subunit alpha\n",
      "methylcrotonyl-CoA carboxylase subunit 2\n",
      "AU RNA binding methylglutaconyl-CoA hydratase\n",
      "acetyl-CoA acyltransferase 1\n",
      "acetyl-CoA acyltransferase 1\n",
      "glycerol-3-phosphate dehydrogenase 1\n",
      "cytochrome P450 family 27 subfamily A member 1\n",
      "cytochrome P450 family 27 subfamily A member 1\n",
      "cytochrome P450 family 27 subfamily A member 1\n"
     ]
    }
   ],
   "source": [
    "\n",
    "\n",
    "for value, id in zip(values, x) :\n",
    "    if value == 0.0 and id < 1200 :\n",
    "        print(HepG2.reactions.get_by_id(reactions_cut[id]).name)"
   ]
  },
  {
   "cell_type": "code",
   "execution_count": 71,
   "metadata": {},
   "outputs": [],
   "source": [
    "x = [i for i in range(len(values))]"
   ]
  },
  {
   "cell_type": "code",
   "execution_count": 72,
   "metadata": {},
   "outputs": [
    {
     "name": "stderr",
     "output_type": "stream",
     "text": [
      "/tmp/ipykernel_17635/2315745455.py:5: UserWarning: Matplotlib is currently using module://matplotlib_inline.backend_inline, which is a non-GUI backend, so cannot show the figure.\n",
      "  fig.show()\n"
     ]
    },
    {
     "data": {
      "image/png": "[encoded data removed]",
      "text/plain": [
       "<Figure size 2000x1000 with 1 Axes>"
      ]
     },
     "metadata": {},
     "output_type": "display_data"
    }
   ],
   "source": [
    "plt.rcParams[\"figure.figsize\"] = (20,10)\n",
    "fig, ax = plt.subplots()\n",
    "\n",
    "ax.plot(x, values)\n",
    "fig.show()"
   ]
  },
  {
   "cell_type": "code",
   "execution_count": null,
   "metadata": {},
   "outputs": [],
   "source": [
    "unknown_ids = [i[0] for i in unknown]\n",
    "\n",
    "for id in unknown_ids :\n",
    "    r_to_change = HepG2.reactions.get_by_id(id)\n",
    "    r_to_change.bounds=(0.0,0.0)\n",
    "    print(f\"\\nchanged {id}'s bounds\")"
   ]
  },
  {
   "cell_type": "code",
   "execution_count": 49,
   "metadata": {},
   "outputs": [],
   "source": [
    "with open(\"zero_reactions.txt\", \"w\") as out :\n",
    "    for id in unknown_ids :\n",
    "        out.write(f\"{id}\\n\")"
   ]
  },
  {
   "cell_type": "code",
   "execution_count": null,
   "metadata": {},
   "outputs": [],
   "source": [
    "for r in HepG2.reactions :\n",
    "    if len(r.name) > 1 :\n",
    "        print(r.name)"
   ]
  },
  {
   "attachments": {},
   "cell_type": "markdown",
   "metadata": {},
   "source": [
    "### Visualisation"
   ]
  },
  {
   "cell_type": "code",
   "execution_count": null,
   "metadata": {},
   "outputs": [],
   "source": [
    "df_Ci, df_Ri, df_Si, df_Mi, df_Pi, df_Xi, df_Li, df_Gi, df_Ni = vu.build_reaction_df(iHep)\n",
    "df_C, df_R, df_S, df_M, df_P, df_X, df_L, df_G, df_N = vu.build_reaction_df(HepG2)"
   ]
  },
  {
   "cell_type": "code",
   "execution_count": null,
   "metadata": {},
   "outputs": [],
   "source": [
    "flux_filter = 0.0"
   ]
  },
  {
   "cell_type": "code",
   "execution_count": null,
   "metadata": {},
   "outputs": [],
   "source": [
    "cols = ['#E48F72','#FC6955','#7E7DCD','#BC7196','#86CE00','#E3EE9E','#22FFA7','#FF0092','#C9FBE5','#B68E00','#00B5F7','#6E899C','#D626FF','#AF0038',\n",
    " '#0D2A63',\n",
    " '#6C4516',\n",
    " '#DA60CA',\n",
    " '#1616A7',\n",
    " '#620042',\n",
    " '#A777F1',\n",
    " '#862A16',\n",
    " '#778AAE',\n",
    " '#6C7C32',\n",
    " '#B2828D',\n",
    " '#FC0080',\n",
    " '#FB00D1',\n",
    " '#00A08B',\n",
    " '#511CFB',\n",
    " '#EB663B',\n",
    " '#750D86',\n",
    " '#B68100',\n",
    " '#222A2A',\n",
    " '#DA16FF',\n",
    " '#FB0D0D',\n",
    " '#1CA71C',\n",
    " '#E15F99',\n",
    " '#2E91E5','#DC587D','#EEA6FB','#479B55','#FF9616','#F6F926','#0DF9FF','#FE00CE','#FED4C4','#6A76FC','#00FE35','#FD3216','#2E91E5','#E15F99','#1CA71C','#FB0D0D','#DA16FF','#222A2A','#B68100','#750D86','#EB663B','#511CFB','#00A08B','#FB00D1','#FC0080','#B2828D','#6C7C32','#778AAE','#862A16','#A777F1','#620042','#1616A7','#DA60CA','#6C4516','#0D2A63','#AF0038']"
   ]
  },
  {
   "cell_type": "code",
   "execution_count": null,
   "metadata": {},
   "outputs": [],
   "source": [
    "len(cols)"
   ]
  },
  {
   "cell_type": "code",
   "execution_count": null,
   "metadata": {},
   "outputs": [],
   "source": [
    "subsystems = set()\n",
    "for r in iHep.reactions :\n",
    "    if len(r.subsystem) >0  :\n",
    "        subsystems.add(r.subsystem)"
   ]
  },
  {
   "cell_type": "code",
   "execution_count": null,
   "metadata": {},
   "outputs": [],
   "source": [
    "cmap = {}\n",
    "for sub, col in zip(subsystems, cycle(set(cols))) :\n",
    "    cmap[sub] = col"
   ]
  },
  {
   "cell_type": "code",
   "execution_count": null,
   "metadata": {},
   "outputs": [],
   "source": [
    "fig = px.treemap(df_Ci.loc[(df_Ci[\"flux\"] >= flux_filter) & (df_Ci[\"name\"] != \"Null\")].to_dict() , path=['subSystem', 'id'], \n",
    "                 values='flux', hover_name= \"name\" ,color='subSystem',color_discrete_map=cmap)\n",
    "\n",
    "fig.update_layout(title_text=\"Cytoplasm reactions -- <b>HEALTHY MODEL<br />\", font_size=12)\n",
    "fig.show(renderer='notebook')"
   ]
  },
  {
   "cell_type": "code",
   "execution_count": null,
   "metadata": {},
   "outputs": [],
   "source": [
    " \n",
    "fig = px.treemap(df_C.loc[(df_C[\"flux\"] >= flux_filter) & (df_C[\"name\"] != \"Null\")].to_dict() , path=['subSystem', 'id'], \n",
    "                 values='flux', hover_name = \"name\", color='subSystem',color_discrete_map=cmap)\n",
    "\n",
    "fig.update_layout(title_text=\"Cytoplasm reactions -- <b>CANCER MODEL<br />\", font_size=12)\n",
    "fig.show(renderer='notebook')"
   ]
  },
  {
   "cell_type": "code",
   "execution_count": null,
   "metadata": {},
   "outputs": [],
   "source": [
    "fig = px.treemap(df_R.loc[(df_R[\"flux\"] >= flux_filter) & (df_R[\"name\"] != \"Null\")], path=['subSystem', 'name'], \n",
    "                 values='flux', color='subSystem',color_discrete_sequence=px.colors.qualitative.Light24_r)\n",
    "fig.update_layout(title_text=\"Endoplasmic Reticulum reactions\", font_size=12)\n",
    "fig.show(renderer='notebook')"
   ]
  },
  {
   "cell_type": "code",
   "execution_count": null,
   "metadata": {},
   "outputs": [],
   "source": [
    "fig = px.treemap(df_S.loc[(df_S[\"flux\"] >= flux_filter) & (df_S[\"name\"] != \"Null\")], path= ['subSystem', 'name'], \n",
    "                 values='flux', color='subSystem',color_discrete_sequence=px.colors.qualitative.Light24_r)\n",
    "fig.update_layout(title_text=\"Endomembraneous reactions\", font_size=12)\n",
    "fig.show(renderer='notebook')"
   ]
  },
  {
   "cell_type": "code",
   "execution_count": null,
   "metadata": {},
   "outputs": [],
   "source": [
    "fig = px.treemap(df_Mi.loc[(df_Mi[\"flux\"] >= flux_filter) & (df_Mi[\"name\"] != \"Null\")], path= [px.Constant(\"Mitochondria\"),'subSystem', 'name'], \n",
    "                 values='flux',hover_name = \"name\", color='subSystem',color_discrete_map=cmap)\n",
    "fig.update_layout(title_text=\"Mitochondrial reactions -- <b>HEALTHY MODEL<br />\", font_size=12)\n",
    "fig.show(renderer='notebook')"
   ]
  },
  {
   "cell_type": "code",
   "execution_count": null,
   "metadata": {},
   "outputs": [],
   "source": [
    "fig = px.treemap(df_M.loc[(df_M[\"flux\"] >= flux_filter) & (df_M[\"name\"] != \"Null\")], path= [px.Constant(\"Mitochondria\"),'subSystem', 'name'], \n",
    "                 values='flux', hover_name = \"name\", color='subSystem',color_discrete_map=cmap)\n",
    "fig.update_layout(title_text=\"Mitochondrial reactions -- <b>CANCER MODEL<br />\", font_size=12)\n",
    "fig.show(renderer='notebook')"
   ]
  },
  {
   "cell_type": "code",
   "execution_count": null,
   "metadata": {},
   "outputs": [],
   "source": [
    "fig = px.treemap(df_Pi.loc[(df_Pi[\"flux\"] >= flux_filter) & (df_Pi[\"name\"] != \"Null\")], path= [px.Constant(\"Peroxysome\"),'subSystem', 'name'], \n",
    "                 values='flux', hover_name = \"name\", color='subSystem',color_discrete_map=cmap)\n",
    "fig.update_layout(title_text=\"Peroxysomal reactions -- <b>HEALTHY MODEL<br />\", font_size=12)\n",
    "fig.show(renderer='notebook')"
   ]
  },
  {
   "cell_type": "code",
   "execution_count": null,
   "metadata": {},
   "outputs": [],
   "source": [
    "fig = px.treemap(df_P.loc[(df_P[\"flux\"] >= flux_filter) & (df_P[\"name\"] != \"Null\")], path= [px.Constant(\"Peroxysome\"),'subSystem', 'name'], \n",
    "                 values='flux', hover_name=\"name\", color='subSystem',color_discrete_map=cmap)\n",
    "fig.update_layout(title_text=\"Peroxysomal reactions -- <b>CANCER MODEL<br />\", font_size=12)\n",
    "fig.show(renderer='notebook')"
   ]
  },
  {
   "cell_type": "code",
   "execution_count": null,
   "metadata": {},
   "outputs": [],
   "source": [
    "fig = px.treemap(df_X.loc[(df_X[\"flux\"] >= flux_filter) & (df_X[\"name\"] != \"Null\")], path= ['subSystem', 'name'], \n",
    "                 values='flux', color='subSystem',color_discrete_sequence=px.colors.qualitative.Light24_r)\n",
    "fig.update_layout(title_text=\"Exchange reactions\", font_size=12)\n",
    "fig.show(renderer='notebook')"
   ]
  },
  {
   "cell_type": "code",
   "execution_count": null,
   "metadata": {},
   "outputs": [],
   "source": []
  },
  {
   "attachments": {},
   "cell_type": "markdown",
   "metadata": {},
   "source": [
    "### Tests"
   ]
  },
  {
   "cell_type": "code",
   "execution_count": null,
   "metadata": {},
   "outputs": [],
   "source": [
    "def get_exchanges_reactions(target_model) :\n",
    "    Ex_reactions_to_add = []\n",
    "    target_model.compartments[\"C_x\"] = \"C_x\"\n",
    "    for C_s_reaction in tqdm(target_model.boundary) :\n",
    "        if len(C_s_reaction.products) == 0 :\n",
    "            if len(C_s_reaction.reactants) == 1 :\n",
    "                \n",
    "                # Création du métabolite externe\n",
    "                x_metabolite_id = C_s_reaction.reactants[0].id[:-1] + \"x\" # Creating external metabolite ID\n",
    "                x_metabolite = C_s_reaction.reactants[0].copy()\n",
    "                x_metabolite.id = x_metabolite_id\n",
    "                target_model.add_metabolites([ \\\n",
    "                    cobra.core.metabolite.Metabolite( \\\n",
    "                    x_metabolite_id, \\\n",
    "                    name=x_metabolite_id, \\\n",
    "                    compartment='C_x')])\n",
    "                \n",
    "                # Création de la réaction externe.\n",
    "                C_x_reaction_id = C_s_reaction.id = \"EX_\" + x_metabolite_id  # Copying C_s reaction to make it an EX_ reaction\n",
    "\n",
    "                # Ajout du métabolite externe à la réaction S\n",
    "                C_s_reaction.add_metabolites({x_metabolite : 1.0})\n",
    "                \n",
    "                # Ajout du métabolite externe à la réaction X, et enlèvement du métabolite S.\n",
    "                try :\n",
    "                    C_x_reaction = target_model.add_boundary(x_metabolite, type=\"exchange\",reaction_id=C_x_reaction_id, lb=0.0, ub=1000.0,sbo_term=\"SBO:0000627\")\n",
    "                    Ex_reactions_to_add.append(C_x_reaction)\n",
    "                except ValueError :\n",
    "                    continue\n",
    "        elif len(C_s_reaction.reactants) == 0 :\n",
    "            if len(C_s_reaction.products) == 1 :\n",
    "                # Création du métabolite externe\n",
    "                x_metabolite_id = C_s_reaction.products[0].id[:-1] + \"x\"\n",
    "                x_metabolite = C_s_reaction.products[0].copy()\n",
    "                x_metabolite.id = x_metabolite_id\n",
    "                target_model.add_metabolites([ \\\n",
    "                    cobra.core.metabolite.Metabolite( \\\n",
    "                    x_metabolite_id, \\\n",
    "                    name=x_metabolite_id, \\\n",
    "                    compartment='C_x')])\n",
    "                \n",
    "                # Création de la réaction externe.\n",
    "                C_x_reaction_id = C_s_reaction.id = \"EX_\" + x_metabolite_id\n",
    "\n",
    "\n",
    "                C_s_reaction.add_metabolites({x_metabolite : -1.0})\n",
    "                try:\n",
    "                    C_x_reaction = target_model.add_boundary(x_metabolite, type=\"exchange\",reaction_id=C_x_reaction_id, lb=-1000.0, ub=0.0,sbo_term=\"SBO:0000627\")\n",
    "                    Ex_reactions_to_add.append(C_x_reaction)\n",
    "                except ValueError :\n",
    "                    continue\n",
    "        else :\n",
    "            pass\n",
    "    target_model.add_reactions(Ex_reactions_to_add)"
   ]
  },
  {
   "cell_type": "code",
   "execution_count": null,
   "metadata": {},
   "outputs": [],
   "source": [
    "iHep_to_fix, errors = cobra.io.validate_sbml_model(\"../models_storage/iHepatocytes2322_Cobra.xml\")"
   ]
  },
  {
   "cell_type": "code",
   "execution_count": null,
   "metadata": {},
   "outputs": [],
   "source": [
    "help(cobra.core.reaction.Reaction)"
   ]
  },
  {
   "attachments": {},
   "cell_type": "markdown",
   "metadata": {},
   "source": [
    "438 boundary reactions originally"
   ]
  },
  {
   "cell_type": "code",
   "execution_count": null,
   "metadata": {},
   "outputs": [],
   "source": [
    "boundary_reactions = iHep_to_fix.boundary\n",
    "reactions_to_add = []\n",
    "for b_r in boundary_reactions :\n",
    "    for metab, sto in b_r.metabolites.items() :\n",
    "        # Creating boundary metabolite\n",
    "        lb = b_r.lower_bound\n",
    "        ub = b_r.upper_bound\n",
    "        new_metab_x = cobra.core.metabolite.Metabolite(metab.id[:-1]+\"x\", name = metab.id[:-1]+\"x\", compartment = \"C_x\")\n",
    "        if sto > 0.0 :\n",
    "            b_r.add_metabolites({new_metab_x: -1.0}) # Intake\n",
    "\n",
    "        else :\n",
    "            b_r.add_metabolites({new_metab_x : 1.0}) # Secretion\n",
    "        new_reaction_x = cobra.core.reaction.Reaction(id = \"EX_\" + new_metab_x.id, name = \"EX_\" + new_metab_x.id, subsystem= \"Exchange reactions\", lower_bound= lb, upper_bound = ub)\n",
    "        new_reaction_x.add_metabolites({new_metab_x : 1.0})\n",
    "        reactions_to_add.append(new_reaction_x)\n",
    "iHep_to_fix.add_reactions(reactions_to_add)\n"
   ]
  },
  {
   "cell_type": "code",
   "execution_count": null,
   "metadata": {},
   "outputs": [],
   "source": [
    "cobra.io.write_sbml_model(iHep_to_fix, \"../models_storage/iHep_v2.xml\")"
   ]
  },
  {
   "cell_type": "code",
   "execution_count": null,
   "metadata": {},
   "outputs": [],
   "source": [
    "len(HepG2.boundary)"
   ]
  },
  {
   "cell_type": "code",
   "execution_count": null,
   "metadata": {},
   "outputs": [],
   "source": [
    "list(rtest.genes)[0].id"
   ]
  },
  {
   "cell_type": "code",
   "execution_count": null,
   "metadata": {},
   "outputs": [],
   "source": []
  }
 ],
 "metadata": {
  "kernelspec": {
   "display_name": "rba",
   "language": "python",
   "name": "python3"
  },
  "language_info": {
   "codemirror_mode": {
    "name": "ipython",
    "version": 3
   },
   "file_extension": ".py",
   "mimetype": "text/x-python",
   "name": "python",
   "nbconvert_exporter": "python",
   "pygments_lexer": "ipython3",
   "version": "3.10.6"
  },
  "orig_nbformat": 4,
  "vscode": {
   "interpreter": {
    "hash": "091a71e7c50cf0e219a1de20c9e23827dddb8fa15fb07150b2e4983b80593661"
   }
  }
 },
 "nbformat": 4,
 "nbformat_minor": 2
}
