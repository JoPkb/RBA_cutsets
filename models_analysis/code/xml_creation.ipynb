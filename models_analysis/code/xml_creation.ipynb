{
 "cells": [
  {
   "cell_type": "code",
   "execution_count": 1,
   "metadata": {},
   "outputs": [
    {
     "name": "stdout",
     "output_type": "stream",
     "text": [
      "pyparsing import\n",
      "\n",
      "INFO: No xlwt module available, Excel spreadsheet creation disabled\n",
      "CBGLPK based on swiglpk: not all methods implimented yet! 5.0\n",
      "\n",
      "*****\n",
      "Using CPLEX\n",
      "*****\n",
      "\n",
      "doFBAMinSum not available with GLPK\n",
      "\n",
      "INFO: No xlrd module available, Excel spreadsheet reading disabled\n",
      "\n",
      "\n",
      "***********************************************************************\n",
      "* Welcome to CBMPy (0.8.4) - PySCeS Constraint Based Modelling        *\n",
      "*                http://cbmpy.sourceforge.net                         *\n",
      "* Copyright(C) Brett G. Olivier 2014 - 2020                           *\n",
      "* Systems Biology Lab, Vrije Universiteit Amsterdam                   *\n",
      "* Amsterdam, The Netherlands                                          *\n",
      "* CBMPy is developed as part of the BeBasic MetaToolKit Project       *\n",
      "* Distributed under the GNU GPL v 3.0 licence, see                    *\n",
      "* LICENCE (supplied with this release) for details                    *\n",
      "***********************************************************************\n",
      "\n"
     ]
    }
   ],
   "source": [
    "import matplotlib.pyplot as plt\n",
    "import cobra\n",
    "from cobra.io import validate_sbml_model\n",
    "import importlib\n",
    "from xml.etree import ElementTree\n",
    "import utils.Model_correction as mc\n",
    "import sys\n",
    "import utils.model_maj as mj\n",
    "import utils.viz_utils as vu\n",
    "#import cplex\n",
    "import cbmpy\n",
    "import pandas as pd\n",
    "import plotly.express as px\n",
    "from plotly.subplots import make_subplots\n",
    "import plotly.graph_objects as go\n",
    "from tqdm import tqdm\n",
    "from itertools import cycle\n",
    "import seaborn as sns\n",
    "from cobra.flux_analysis import flux_variability_analysis\n",
    "import xml.etree.ElementTree as ET"
   ]
  },
  {
   "cell_type": "code",
   "execution_count": 2,
   "metadata": {},
   "outputs": [],
   "source": [
    "model, errors = validate_sbml_model(\"../models_storage/HepG2_medium.xml\")"
   ]
  },
  {
   "attachments": {},
   "cell_type": "markdown",
   "metadata": {},
   "source": [
    "### Metabolism.xml\n",
    "--> Compartments (ID)\n",
    "--> Metabolites (ID, boundaryCondition=False)\n",
    "--> Reactions w/stoichiometry (ID, Reversible)\n",
    "    Reactants \n",
    "        SpeciesReference (species, stoichiometry)\n",
    "    Products\n",
    "        SpeciesReference (species, stoichiometry)"
   ]
  },
  {
   "cell_type": "code",
   "execution_count": 11,
   "metadata": {},
   "outputs": [
    {
     "data": {
      "text/plain": [
       "{}"
      ]
     },
     "execution_count": 11,
     "metadata": {},
     "output_type": "execute_result"
    }
   ],
   "source": [
    "model.metabolites.get_by_id(\"m01477l\")._annotation"
   ]
  },
  {
   "cell_type": "code",
   "execution_count": 12,
   "metadata": {},
   "outputs": [
    {
     "data": {
      "text/plain": [
       "True"
      ]
     },
     "execution_count": 12,
     "metadata": {},
     "output_type": "execute_result"
    }
   ],
   "source": [
    "a = (0.0,1000.0)\n",
    "0.0 in a"
   ]
  },
  {
   "cell_type": "code",
   "execution_count": 5,
   "metadata": {},
   "outputs": [
    {
     "name": "stdout",
     "output_type": "stream",
     "text": [
      "<class 'str'>\n",
      "<class 'str'>\n",
      "<class 'str'>\n",
      "<class 'str'>\n",
      "<class 'str'>\n",
      "<class 'str'>\n",
      "<class 'str'>\n",
      "<class 'str'>\n",
      "<class 'str'>\n"
     ]
    }
   ],
   "source": [
    "root = ET.Element(\"RBAMetabolism\") # Defining the root of the RDF tree\n",
    "listOfCompartments = ET.SubElement(root, \"listOfCompartments\") # Creating the first branch which will just be the list of compartments\n",
    "# Filling the list of compartments:\n",
    "for compartment in model.compartments:\n",
    "    ET.SubElement(listOfCompartments, 'compartment', id=compartment)\n",
    "\n",
    "# Creating listOfSpecies for metabolites: \n",
    "listOfSpecies = ET.SubElement(root, \"listOfSpecies\")\n",
    "#Filling the list of species:\n",
    "for metabolite in model.metabolites:\n",
    "    ET.SubElement(listOfSpecies, 'species', id=metabolite.id, boundaryCondition=\"false\")\n",
    "\n",
    "# Creating listOfReactions, for metabolites:\n",
    "listOfReactions = ET.SubElement(root, \"listOfReactions\")\n",
    "# Filling it\n",
    "for reaction in model.reactions:\n",
    "    if 0.0 in reaction.bounds:\n",
    "        reversibility = \"false\"\n",
    "    else:\n",
    "        reversibility = \"true\"\n",
    "    Reaction_line = ET.SubElement(listOfReactions, \"reaction\", id=reaction.id, reversible=reversibility)\n",
    "    # Creating nodes for reactants and products list\n",
    "    Reactants_obj = ET.SubElement(Reaction_line)\n",
    "    \n"
   ]
  },
  {
   "cell_type": "code",
   "execution_count": null,
   "metadata": {},
   "outputs": [],
   "source": []
  }
 ],
 "metadata": {
  "kernelspec": {
   "display_name": "rba",
   "language": "python",
   "name": "python3"
  },
  "language_info": {
   "codemirror_mode": {
    "name": "ipython",
    "version": 3
   },
   "file_extension": ".py",
   "mimetype": "text/x-python",
   "name": "python",
   "nbconvert_exporter": "python",
   "pygments_lexer": "ipython3",
   "version": "3.10.6"
  },
  "orig_nbformat": 4
 },
 "nbformat": 4,
 "nbformat_minor": 2
}
