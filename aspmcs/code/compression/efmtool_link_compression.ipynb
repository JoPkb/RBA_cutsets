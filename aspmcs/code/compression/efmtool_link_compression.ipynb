{
 "cells": [
  {
   "cell_type": "markdown",
   "id": "074d43ad",
   "metadata": {},
   "source": [
    "# Network compression"
   ]
  },
  {
   "cell_type": "markdown",
   "id": "1616bf22",
   "metadata": {},
   "source": [
    "Network compression for the computation of EFMs, allowing for greatly reducing the number of model reactions, using some code done by Marco Terzer for EFMTool, and the Stephen Klamt team for the `efmtool_link` python package which is used in CNApy."
   ]
  },
  {
   "cell_type": "code",
   "execution_count": 2,
   "id": "7b815a87",
   "metadata": {},
   "outputs": [
    {
     "ename": "KeyboardInterrupt",
     "evalue": "",
     "output_type": "error",
     "traceback": [
      "\u001b[0;31m---------------------------------------------------------------------------\u001b[0m",
      "\u001b[0;31mKeyboardInterrupt\u001b[0m                         Traceback (most recent call last)",
      "Cell \u001b[0;32mIn[2], line 1\u001b[0m\n\u001b[0;32m----> 1\u001b[0m \u001b[39mimport\u001b[39;00m \u001b[39mnumpy\u001b[39;00m\u001b[39m,\u001b[39m \u001b[39mcobra\u001b[39;00m\n\u001b[1;32m      2\u001b[0m \u001b[39mimport\u001b[39;00m \u001b[39mefmtool_link\u001b[39;00m\u001b[39m.\u001b[39;00m\u001b[39mefmtool_intern\u001b[39;00m \u001b[39mas\u001b[39;00m \u001b[39mefmtool_intern\u001b[39;00m\n\u001b[1;32m      3\u001b[0m \u001b[39mimport\u001b[39;00m \u001b[39mefmtool_link\u001b[39;00m\u001b[39m.\u001b[39;00m\u001b[39mefmtool_extern\u001b[39;00m \u001b[39mas\u001b[39;00m \u001b[39mefmtool_extern\u001b[39;00m\n",
      "File \u001b[0;32m~/miniconda3/envs/rba/lib/python3.10/site-packages/cobra/__init__.py:17\u001b[0m\n\u001b[1;32m      5\u001b[0m \u001b[39mfrom\u001b[39;00m \u001b[39mcobra\u001b[39;00m\u001b[39m.\u001b[39;00m\u001b[39mcore\u001b[39;00m \u001b[39mimport\u001b[39;00m (\n\u001b[1;32m      6\u001b[0m     Configuration,\n\u001b[1;32m      7\u001b[0m     DictList,\n\u001b[0;32m   (...)\u001b[0m\n\u001b[1;32m     14\u001b[0m     Species,\n\u001b[1;32m     15\u001b[0m )\n\u001b[1;32m     16\u001b[0m \u001b[39mfrom\u001b[39;00m \u001b[39mcobra\u001b[39;00m \u001b[39mimport\u001b[39;00m flux_analysis\n\u001b[0;32m---> 17\u001b[0m \u001b[39mfrom\u001b[39;00m \u001b[39mcobra\u001b[39;00m \u001b[39mimport\u001b[39;00m io\n\u001b[1;32m     18\u001b[0m \u001b[39mfrom\u001b[39;00m \u001b[39mcobra\u001b[39;00m \u001b[39mimport\u001b[39;00m medium\n\u001b[1;32m     19\u001b[0m \u001b[39mfrom\u001b[39;00m \u001b[39mcobra\u001b[39;00m \u001b[39mimport\u001b[39;00m sampling\n",
      "File \u001b[0;32m~/miniconda3/envs/rba/lib/python3.10/site-packages/cobra/io/__init__.py:9\u001b[0m\n\u001b[1;32m      7\u001b[0m \u001b[39mfrom\u001b[39;00m \u001b[39mcobra\u001b[39;00m\u001b[39m.\u001b[39;00m\u001b[39mio\u001b[39;00m\u001b[39m.\u001b[39;00m\u001b[39msbml\u001b[39;00m \u001b[39mimport\u001b[39;00m read_sbml_model, write_sbml_model, validate_sbml_model\n\u001b[1;32m      8\u001b[0m \u001b[39mfrom\u001b[39;00m \u001b[39mcobra\u001b[39;00m\u001b[39m.\u001b[39;00m\u001b[39mio\u001b[39;00m\u001b[39m.\u001b[39;00m\u001b[39myaml\u001b[39;00m \u001b[39mimport\u001b[39;00m from_yaml, load_yaml_model, save_yaml_model, to_yaml\n\u001b[0;32m----> 9\u001b[0m \u001b[39mfrom\u001b[39;00m \u001b[39mcobra\u001b[39;00m\u001b[39m.\u001b[39;00m\u001b[39mio\u001b[39;00m\u001b[39m.\u001b[39;00m\u001b[39mweb\u001b[39;00m \u001b[39mimport\u001b[39;00m AbstractModelRepository, BiGGModels, BioModels, load_model\n",
      "File \u001b[0;32m~/miniconda3/envs/rba/lib/python3.10/site-packages/cobra/io/web/__init__.py:4\u001b[0m\n\u001b[1;32m      1\u001b[0m \u001b[39m\"\"\"Provide functionality to access remote model repositories.\"\"\"\u001b[39;00m\n\u001b[0;32m----> 4\u001b[0m \u001b[39mfrom\u001b[39;00m \u001b[39m.\u001b[39;00m\u001b[39mabstract_model_repository\u001b[39;00m \u001b[39mimport\u001b[39;00m AbstractModelRepository\n\u001b[1;32m      5\u001b[0m \u001b[39mfrom\u001b[39;00m \u001b[39m.\u001b[39;00m\u001b[39mbigg_models_repository\u001b[39;00m \u001b[39mimport\u001b[39;00m BiGGModels\n\u001b[1;32m      6\u001b[0m \u001b[39mfrom\u001b[39;00m \u001b[39m.\u001b[39;00m\u001b[39mbiomodels_repository\u001b[39;00m \u001b[39mimport\u001b[39;00m BioModels\n",
      "File \u001b[0;32m~/miniconda3/envs/rba/lib/python3.10/site-packages/cobra/io/web/abstract_model_repository.py:7\u001b[0m\n\u001b[1;32m      4\u001b[0m \u001b[39mfrom\u001b[39;00m \u001b[39mabc\u001b[39;00m \u001b[39mimport\u001b[39;00m ABC, abstractmethod\n\u001b[1;32m      5\u001b[0m \u001b[39mfrom\u001b[39;00m \u001b[39mtyping\u001b[39;00m \u001b[39mimport\u001b[39;00m Union\n\u001b[0;32m----> 7\u001b[0m \u001b[39mimport\u001b[39;00m \u001b[39mhttpx\u001b[39;00m\n\u001b[1;32m      8\u001b[0m \u001b[39mfrom\u001b[39;00m \u001b[39mrich\u001b[39;00m\u001b[39m.\u001b[39;00m\u001b[39mprogress\u001b[39;00m \u001b[39mimport\u001b[39;00m (\n\u001b[1;32m      9\u001b[0m     BarColumn,\n\u001b[1;32m     10\u001b[0m     DownloadColumn,\n\u001b[0;32m   (...)\u001b[0m\n\u001b[1;32m     14\u001b[0m     TransferSpeedColumn,\n\u001b[1;32m     15\u001b[0m )\n\u001b[1;32m     18\u001b[0m \u001b[39mclass\u001b[39;00m \u001b[39mAbstractModelRepository\u001b[39;00m(ABC):\n",
      "File \u001b[0;32m~/miniconda3/envs/rba/lib/python3.10/site-packages/httpx/__init__.py:2\u001b[0m\n\u001b[1;32m      1\u001b[0m \u001b[39mfrom\u001b[39;00m \u001b[39m.\u001b[39;00m\u001b[39m__version__\u001b[39;00m \u001b[39mimport\u001b[39;00m __description__, __title__, __version__\n\u001b[0;32m----> 2\u001b[0m \u001b[39mfrom\u001b[39;00m \u001b[39m.\u001b[39;00m\u001b[39m_api\u001b[39;00m \u001b[39mimport\u001b[39;00m delete, get, head, options, patch, post, put, request, stream\n\u001b[1;32m      3\u001b[0m \u001b[39mfrom\u001b[39;00m \u001b[39m.\u001b[39;00m\u001b[39m_auth\u001b[39;00m \u001b[39mimport\u001b[39;00m Auth, BasicAuth, DigestAuth\n\u001b[1;32m      4\u001b[0m \u001b[39mfrom\u001b[39;00m \u001b[39m.\u001b[39;00m\u001b[39m_client\u001b[39;00m \u001b[39mimport\u001b[39;00m USE_CLIENT_DEFAULT, AsyncClient, Client\n",
      "File \u001b[0;32m~/miniconda3/envs/rba/lib/python3.10/site-packages/httpx/_api.py:4\u001b[0m\n\u001b[1;32m      1\u001b[0m \u001b[39mimport\u001b[39;00m \u001b[39mtyping\u001b[39;00m\n\u001b[1;32m      2\u001b[0m \u001b[39mfrom\u001b[39;00m \u001b[39mcontextlib\u001b[39;00m \u001b[39mimport\u001b[39;00m contextmanager\n\u001b[0;32m----> 4\u001b[0m \u001b[39mfrom\u001b[39;00m \u001b[39m.\u001b[39;00m\u001b[39m_client\u001b[39;00m \u001b[39mimport\u001b[39;00m Client\n\u001b[1;32m      5\u001b[0m \u001b[39mfrom\u001b[39;00m \u001b[39m.\u001b[39;00m\u001b[39m_config\u001b[39;00m \u001b[39mimport\u001b[39;00m DEFAULT_TIMEOUT_CONFIG\n\u001b[1;32m      6\u001b[0m \u001b[39mfrom\u001b[39;00m \u001b[39m.\u001b[39;00m\u001b[39m_models\u001b[39;00m \u001b[39mimport\u001b[39;00m Response\n",
      "File \u001b[0;32m~/miniconda3/envs/rba/lib/python3.10/site-packages/httpx/_client.py:29\u001b[0m\n\u001b[1;32m     27\u001b[0m \u001b[39mfrom\u001b[39;00m \u001b[39m.\u001b[39;00m\u001b[39m_transports\u001b[39;00m\u001b[39m.\u001b[39;00m\u001b[39masgi\u001b[39;00m \u001b[39mimport\u001b[39;00m ASGITransport\n\u001b[1;32m     28\u001b[0m \u001b[39mfrom\u001b[39;00m \u001b[39m.\u001b[39;00m\u001b[39m_transports\u001b[39;00m\u001b[39m.\u001b[39;00m\u001b[39mbase\u001b[39;00m \u001b[39mimport\u001b[39;00m AsyncBaseTransport, BaseTransport\n\u001b[0;32m---> 29\u001b[0m \u001b[39mfrom\u001b[39;00m \u001b[39m.\u001b[39;00m\u001b[39m_transports\u001b[39;00m\u001b[39m.\u001b[39;00m\u001b[39mdefault\u001b[39;00m \u001b[39mimport\u001b[39;00m AsyncHTTPTransport, HTTPTransport\n\u001b[1;32m     30\u001b[0m \u001b[39mfrom\u001b[39;00m \u001b[39m.\u001b[39;00m\u001b[39m_transports\u001b[39;00m\u001b[39m.\u001b[39;00m\u001b[39mwsgi\u001b[39;00m \u001b[39mimport\u001b[39;00m WSGITransport\n\u001b[1;32m     31\u001b[0m \u001b[39mfrom\u001b[39;00m \u001b[39m.\u001b[39;00m\u001b[39m_types\u001b[39;00m \u001b[39mimport\u001b[39;00m (\n\u001b[1;32m     32\u001b[0m     AsyncByteStream,\n\u001b[1;32m     33\u001b[0m     AuthTypes,\n\u001b[0;32m   (...)\u001b[0m\n\u001b[1;32m     46\u001b[0m     VerifyTypes,\n\u001b[1;32m     47\u001b[0m )\n",
      "File \u001b[0;32m~/miniconda3/envs/rba/lib/python3.10/site-packages/httpx/_transports/default.py:30\u001b[0m\n\u001b[1;32m     27\u001b[0m \u001b[39mimport\u001b[39;00m \u001b[39mtyping\u001b[39;00m\n\u001b[1;32m     28\u001b[0m \u001b[39mfrom\u001b[39;00m \u001b[39mtypes\u001b[39;00m \u001b[39mimport\u001b[39;00m TracebackType\n\u001b[0;32m---> 30\u001b[0m \u001b[39mimport\u001b[39;00m \u001b[39mhttpcore\u001b[39;00m\n\u001b[1;32m     32\u001b[0m \u001b[39mfrom\u001b[39;00m \u001b[39m.\u001b[39;00m\u001b[39m.\u001b[39;00m\u001b[39m_config\u001b[39;00m \u001b[39mimport\u001b[39;00m DEFAULT_LIMITS, Limits, Proxy, create_ssl_context\n\u001b[1;32m     33\u001b[0m \u001b[39mfrom\u001b[39;00m \u001b[39m.\u001b[39;00m\u001b[39m.\u001b[39;00m\u001b[39m_exceptions\u001b[39;00m \u001b[39mimport\u001b[39;00m (\n\u001b[1;32m     34\u001b[0m     ConnectError,\n\u001b[1;32m     35\u001b[0m     ConnectTimeout,\n\u001b[0;32m   (...)\u001b[0m\n\u001b[1;32m     47\u001b[0m     WriteTimeout,\n\u001b[1;32m     48\u001b[0m )\n",
      "File \u001b[0;32m~/miniconda3/envs/rba/lib/python3.10/site-packages/httpcore/__init__.py:1\u001b[0m\n\u001b[0;32m----> 1\u001b[0m \u001b[39mfrom\u001b[39;00m \u001b[39m.\u001b[39;00m\u001b[39m_api\u001b[39;00m \u001b[39mimport\u001b[39;00m request, stream\n\u001b[1;32m      2\u001b[0m \u001b[39mfrom\u001b[39;00m \u001b[39m.\u001b[39;00m\u001b[39m_async\u001b[39;00m \u001b[39mimport\u001b[39;00m (\n\u001b[1;32m      3\u001b[0m     AsyncConnectionInterface,\n\u001b[1;32m      4\u001b[0m     AsyncConnectionPool,\n\u001b[0;32m   (...)\u001b[0m\n\u001b[1;32m      9\u001b[0m     AsyncSOCKSProxy,\n\u001b[1;32m     10\u001b[0m )\n\u001b[1;32m     11\u001b[0m \u001b[39mfrom\u001b[39;00m \u001b[39m.\u001b[39;00m\u001b[39m_exceptions\u001b[39;00m \u001b[39mimport\u001b[39;00m (\n\u001b[1;32m     12\u001b[0m     ConnectError,\n\u001b[1;32m     13\u001b[0m     ConnectionNotAvailable,\n\u001b[0;32m   (...)\u001b[0m\n\u001b[1;32m     26\u001b[0m     WriteTimeout,\n\u001b[1;32m     27\u001b[0m )\n",
      "File \u001b[0;32m~/miniconda3/envs/rba/lib/python3.10/site-packages/httpcore/_api.py:5\u001b[0m\n\u001b[1;32m      2\u001b[0m \u001b[39mfrom\u001b[39;00m \u001b[39mtyping\u001b[39;00m \u001b[39mimport\u001b[39;00m Iterator, Optional, Union\n\u001b[1;32m      4\u001b[0m \u001b[39mfrom\u001b[39;00m \u001b[39m.\u001b[39;00m\u001b[39m_models\u001b[39;00m \u001b[39mimport\u001b[39;00m URL, Extensions, HeaderTypes, Response\n\u001b[0;32m----> 5\u001b[0m \u001b[39mfrom\u001b[39;00m \u001b[39m.\u001b[39;00m\u001b[39m_sync\u001b[39;00m\u001b[39m.\u001b[39;00m\u001b[39mconnection_pool\u001b[39;00m \u001b[39mimport\u001b[39;00m ConnectionPool\n\u001b[1;32m      8\u001b[0m \u001b[39mdef\u001b[39;00m \u001b[39mrequest\u001b[39m(\n\u001b[1;32m      9\u001b[0m     method: Union[\u001b[39mbytes\u001b[39m, \u001b[39mstr\u001b[39m],\n\u001b[1;32m     10\u001b[0m     url: Union[URL, \u001b[39mbytes\u001b[39m, \u001b[39mstr\u001b[39m],\n\u001b[0;32m   (...)\u001b[0m\n\u001b[1;32m     14\u001b[0m     extensions: Optional[Extensions] \u001b[39m=\u001b[39m \u001b[39mNone\u001b[39;00m,\n\u001b[1;32m     15\u001b[0m ) \u001b[39m-\u001b[39m\u001b[39m>\u001b[39m Response:\n\u001b[1;32m     16\u001b[0m \u001b[39m    \u001b[39m\u001b[39m\"\"\"\u001b[39;00m\n\u001b[1;32m     17\u001b[0m \u001b[39m    Sends an HTTP request, returning the response.\u001b[39;00m\n\u001b[1;32m     18\u001b[0m \n\u001b[0;32m   (...)\u001b[0m\n\u001b[1;32m     36\u001b[0m \u001b[39m        An instance of `httpcore.Response`.\u001b[39;00m\n\u001b[1;32m     37\u001b[0m \u001b[39m    \"\"\"\u001b[39;00m\n",
      "File \u001b[0;32m~/miniconda3/envs/rba/lib/python3.10/site-packages/httpcore/_sync/__init__.py:1\u001b[0m\n\u001b[0;32m----> 1\u001b[0m \u001b[39mfrom\u001b[39;00m \u001b[39m.\u001b[39;00m\u001b[39mconnection\u001b[39;00m \u001b[39mimport\u001b[39;00m HTTPConnection\n\u001b[1;32m      2\u001b[0m \u001b[39mfrom\u001b[39;00m \u001b[39m.\u001b[39;00m\u001b[39mconnection_pool\u001b[39;00m \u001b[39mimport\u001b[39;00m ConnectionPool\n\u001b[1;32m      3\u001b[0m \u001b[39mfrom\u001b[39;00m \u001b[39m.\u001b[39;00m\u001b[39mhttp11\u001b[39;00m \u001b[39mimport\u001b[39;00m HTTP11Connection\n",
      "File \u001b[0;32m~/miniconda3/envs/rba/lib/python3.10/site-packages/httpcore/_sync/connection.py:6\u001b[0m\n\u001b[1;32m      3\u001b[0m \u001b[39mfrom\u001b[39;00m \u001b[39mtypes\u001b[39;00m \u001b[39mimport\u001b[39;00m TracebackType\n\u001b[1;32m      4\u001b[0m \u001b[39mfrom\u001b[39;00m \u001b[39mtyping\u001b[39;00m \u001b[39mimport\u001b[39;00m Iterator, Optional, Type\n\u001b[0;32m----> 6\u001b[0m \u001b[39mfrom\u001b[39;00m \u001b[39m.\u001b[39;00m\u001b[39m.\u001b[39;00m\u001b[39m_exceptions\u001b[39;00m \u001b[39mimport\u001b[39;00m ConnectError, ConnectionNotAvailable, ConnectTimeout\n\u001b[1;32m      7\u001b[0m \u001b[39mfrom\u001b[39;00m \u001b[39m.\u001b[39;00m\u001b[39m.\u001b[39;00m\u001b[39m_models\u001b[39;00m \u001b[39mimport\u001b[39;00m Origin, Request, Response\n\u001b[1;32m      8\u001b[0m \u001b[39mfrom\u001b[39;00m \u001b[39m.\u001b[39;00m\u001b[39m.\u001b[39;00m\u001b[39m_ssl\u001b[39;00m \u001b[39mimport\u001b[39;00m default_ssl_context\n",
      "File \u001b[0;32m<frozen importlib._bootstrap>:1027\u001b[0m, in \u001b[0;36m_find_and_load\u001b[0;34m(name, import_)\u001b[0m\n",
      "File \u001b[0;32m<frozen importlib._bootstrap>:1006\u001b[0m, in \u001b[0;36m_find_and_load_unlocked\u001b[0;34m(name, import_)\u001b[0m\n",
      "File \u001b[0;32m<frozen importlib._bootstrap>:688\u001b[0m, in \u001b[0;36m_load_unlocked\u001b[0;34m(spec)\u001b[0m\n",
      "File \u001b[0;32m<frozen importlib._bootstrap_external>:879\u001b[0m, in \u001b[0;36mexec_module\u001b[0;34m(self, module)\u001b[0m\n",
      "File \u001b[0;32m<frozen importlib._bootstrap_external>:975\u001b[0m, in \u001b[0;36mget_code\u001b[0;34m(self, fullname)\u001b[0m\n",
      "File \u001b[0;32m<frozen importlib._bootstrap_external>:1074\u001b[0m, in \u001b[0;36mget_data\u001b[0;34m(self, path)\u001b[0m\n",
      "\u001b[0;31mKeyboardInterrupt\u001b[0m: "
     ]
    }
   ],
   "source": [
    "import numpy, cobra\n",
    "import efmtool_link.efmtool_intern as efmtool_intern\n",
    "import efmtool_link.efmtool_extern as efmtool_extern\n",
    "import efmtool_link.efmtool4cobra as efmtool4cobra"
   ]
  },
  {
   "cell_type": "code",
   "execution_count": null,
   "id": "f62454ae",
   "metadata": {},
   "outputs": [
    {
     "ename": "",
     "evalue": "",
     "output_type": "error",
     "traceback": [
      "\u001b[1;31mFailed to start the Kernel. \n",
      "\u001b[1;31mUnable to start Kernel 'rba (Python 3.10.6)' due to connection timeout. \n",
      "\u001b[1;31mView Jupyter <a href='command:jupyter.viewOutput'>log</a> for further details."
     ]
    }
   ],
   "source": [
    "# all parameters here for simpler utilisation\n",
    "model_file = 'models_storage/HepG2_medium.xml' # model file name\n",
    "dir_name = './' # parent directory of the directory where mparser_cli is\n",
    "module_name = './' # directory where mparser_cli is\n",
    "generated_files_path = '../compressed_HepG2/' # path where the generated files go\n",
    "model_name = 'new' # prefix name for all generated files (do not put a path there)"
   ]
  },
  {
   "cell_type": "code",
   "execution_count": 65,
   "id": "67b19464",
   "metadata": {},
   "outputs": [],
   "source": [
    "# example of filling the values (put absolute paths, not relative paths)\n",
    "model_file = '/home/maxime/Bureau/Thesis/asp-efm/data/sbml/mitocore/mitocore.xml' # model file name\n",
    "dir_name = '/home/maxime/Bureau/Thesis/' # parent directory of the directory where mparser_cli is\n",
    "module_name = 'asp-efm' # directory where mparser_cli is\n",
    "generated_files_path = '/home/maxime/Bureau/Thesis/asp-efm/data/sbml/mitocore/' # path where the generated files go\n",
    "model_name = 'mitocore_rd' # prefix name for all generated files (do not put a path there)"
   ]
  },
  {
   "cell_type": "code",
   "execution_count": 70,
   "id": "84d85299",
   "metadata": {},
   "outputs": [
    {
     "name": "stderr",
     "output_type": "stream",
     "text": [
      "Could not identify an external compartment by name and choosing one with the most boundary reactions. That might be complete nonsense or change suddenly. Consider renaming your compartments using `Model.compartments` to fix this.\n"
     ]
    },
    {
     "data": {
      "text/plain": [
       "[<Reaction EX_m00097x at 0x7f236fc63c10>,\n",
       " <Reaction EX_m00157x at 0x7f236fc63b20>,\n",
       " <Reaction EX_m00648x at 0x7f236fcc8790>,\n",
       " <Reaction EX_m01107x at 0x7f236fcc8e50>,\n",
       " <Reaction EX_m01115x at 0x7f236fcc9090>,\n",
       " <Reaction EX_m01252x at 0x7f236fcc93f0>,\n",
       " <Reaction EX_m01253x at 0x7f236fcc9510>,\n",
       " <Reaction EX_m01280x at 0x7f236fcc9870>,\n",
       " <Reaction EX_m01285x at 0x7f236fcc9990>,\n",
       " <Reaction EX_m01306x at 0x7f236fcca050>,\n",
       " <Reaction EX_m01307x at 0x7f236fcca170>,\n",
       " <Reaction EX_m01308x at 0x7f236fcca290>,\n",
       " <Reaction EX_m01334x at 0x7f236fcca5f0>,\n",
       " <Reaction EX_m01365x at 0x7f236fcca950>,\n",
       " <Reaction EX_m01369x at 0x7f236fccab90>,\n",
       " <Reaction EX_m01370x at 0x7f236fccacb0>,\n",
       " <Reaction EX_m01410x at 0x7f236fccb7f0>,\n",
       " <Reaction EX_m01419x at 0x7f236fccb910>,\n",
       " <Reaction EX_m01433x at 0x7f236fccba30>,\n",
       " <Reaction EX_m01445x at 0x7f236fccbd90>,\n",
       " <Reaction EX_m01450x at 0x7f236fccbeb0>,\n",
       " <Reaction EX_m01513x at 0x7f236fccbfa0>,\n",
       " <Reaction EX_m01590x at 0x7f236fcecb50>,\n",
       " <Reaction EX_m01596x at 0x7f236fcecc70>,\n",
       " <Reaction EX_m01626x at 0x7f236fced0f0>,\n",
       " <Reaction EX_m01628x at 0x7f236fced210>,\n",
       " <Reaction EX_m01629x at 0x7f236fced330>,\n",
       " <Reaction EX_m01630x at 0x7f236fced450>,\n",
       " <Reaction EX_m01638x at 0x7f236fced570>,\n",
       " <Reaction EX_m01666x at 0x7f236fcedc30>,\n",
       " <Reaction EX_m01668x at 0x7f236fcedd50>,\n",
       " <Reaction EX_m01669x at 0x7f236fcede70>,\n",
       " <Reaction EX_m01671x at 0x7f236fcedf90>,\n",
       " <Reaction EX_m01673x at 0x7f236fcee0b0>,\n",
       " <Reaction EX_m01682x at 0x7f236fcee1d0>,\n",
       " <Reaction EX_m01797x at 0x7f236fcef3d0>,\n",
       " <Reaction EX_m01830x at 0x7f236fcef970>,\n",
       " <Reaction EX_m01833x at 0x7f236fcefa90>,\n",
       " <Reaction EX_m01840x at 0x7f236fcefbb0>,\n",
       " <Reaction EX_m01910x at 0x7f236fcefdf0>,\n",
       " <Reaction EX_m01965x at 0x7f236fb0c610>,\n",
       " <Reaction EX_m01974x at 0x7f236fb0c730>,\n",
       " <Reaction EX_m01975x at 0x7f236fb0c850>,\n",
       " <Reaction EX_m01983x at 0x7f236fb0c970>,\n",
       " <Reaction EX_m01986x at 0x7f236fb0ca90>,\n",
       " <Reaction EX_m02026x at 0x7f236fb0d150>,\n",
       " <Reaction EX_m02027x at 0x7f236fb0d270>,\n",
       " <Reaction EX_m02038x at 0x7f236fb0d4b0>,\n",
       " <Reaction EX_m02039x at 0x7f236fb0d5d0>,\n",
       " <Reaction EX_m02040x at 0x7f236fb0d6f0>,\n",
       " <Reaction EX_m02041x at 0x7f236fb0d810>,\n",
       " <Reaction EX_m02046x at 0x7f236fb0d930>,\n",
       " <Reaction EX_m02125x at 0x7f236fb0e470>,\n",
       " <Reaction EX_m02147x at 0x7f236fb0e8f0>,\n",
       " <Reaction EX_m02170x at 0x7f236fb0ec50>,\n",
       " <Reaction EX_m02171x at 0x7f236fb0ed70>,\n",
       " <Reaction EX_m02184x at 0x7f236fb0ee90>,\n",
       " <Reaction EX_m02348x at 0x7f236fb0f8b0>,\n",
       " <Reaction EX_m02352x at 0x7f236fb0f9d0>,\n",
       " <Reaction EX_m02360x at 0x7f236fb0fe50>,\n",
       " <Reaction EX_m02387x at 0x7f236fb0fee0>,\n",
       " <Reaction EX_m02403x at 0x7f236fb30670>,\n",
       " <Reaction EX_m02426x at 0x7f236fb308b0>,\n",
       " <Reaction EX_m02471x at 0x7f236fb30e50>,\n",
       " <Reaction EX_m02560x at 0x7f236fb312d0>,\n",
       " <Reaction EX_m02578x at 0x7f236fb313f0>,\n",
       " <Reaction EX_m02630x at 0x7f236fb31750>,\n",
       " <Reaction EX_m02631x at 0x7f236fb31870>,\n",
       " <Reaction EX_m02642x at 0x7f236fb31990>,\n",
       " <Reaction EX_m02658x at 0x7f236fb31ab0>,\n",
       " <Reaction EX_m02661x at 0x7f236fb31bd0>,\n",
       " <Reaction EX_m02724x at 0x7f236fb32170>,\n",
       " <Reaction EX_m02751x at 0x7f236fb32320>,\n",
       " <Reaction EX_m02770x at 0x7f236fb32620>,\n",
       " <Reaction EX_m02772x at 0x7f236fb32740>,\n",
       " <Reaction EX_m02819x at 0x7f236fb32ce0>,\n",
       " <Reaction EX_m02896x at 0x7f236fb33160>,\n",
       " <Reaction EX_m02897x at 0x7f236fb33280>,\n",
       " <Reaction EX_m02946x at 0x7f236fb33940>,\n",
       " <Reaction EX_m02980x at 0x7f236fb33fd0>,\n",
       " <Reaction EX_m02982x at 0x7f236fb301f0>,\n",
       " <Reaction EX_m02983x at 0x7f236fb30280>,\n",
       " <Reaction EX_m02985x at 0x7f236fb33f70>,\n",
       " <Reaction EX_m02993x at 0x7f236fb544c0>,\n",
       " <Reaction EX_m02996x at 0x7f236fb545e0>,\n",
       " <Reaction EX_m03089x at 0x7f236fb54b80>,\n",
       " <Reaction EX_m03101x at 0x7f236fb54ca0>,\n",
       " <Reaction EX_m03106x at 0x7f236fb54dc0>,\n",
       " <Reaction EX_m03114x at 0x7f236fb54ee0>,\n",
       " <Reaction EX_m03123x at 0x7f236fb55360>,\n",
       " <Reaction EX_m03130x at 0x7f236fb55480>,\n",
       " <Reaction EX_m03135x at 0x7f236fb556c0>,\n",
       " <Reaction EX_temp001x at 0x7f236fb55ea0>,\n",
       " <Reaction EX_temp006x at 0x7f236fb55fc0>]"
      ]
     },
     "execution_count": 70,
     "metadata": {},
     "output_type": "execute_result"
    }
   ],
   "source": [
    "model.exchanges"
   ]
  },
  {
   "cell_type": "code",
   "execution_count": null,
   "id": "a8c0031a",
   "metadata": {},
   "outputs": [
    {
     "ename": "",
     "evalue": "",
     "output_type": "error",
     "traceback": [
      "\u001b[1;31mFailed to start the Kernel. \n",
      "\u001b[1;31mUnable to start Kernel 'rba (Python 3.10.6)' due to connection timeout. \n",
      "\u001b[1;31mView Jupyter <a href='command:jupyter.viewOutput'>log</a> for further details."
     ]
    }
   ],
   "source": [
    "from pathlib import Path\n",
    "def flux_variability_analysis(model: cobra.Model, loopless=False, fraction_of_optimum=0.0,\n",
    "                              processes=None, results_cache_dir: Path=None, fva_hash=None, print_func=print):\n",
    "    # all bounds in the model must be finite because the COBRApy FVA treats unbounded results as errors\n",
    "    if results_cache_dir is not None:\n",
    "        fva_hash.update(pickle.dumps((loopless, fraction_of_optimum, model.tolerance))) # integrate solver tolerances?\n",
    "        if fraction_of_optimum > 0:\n",
    "            fva_hash.update(pickle.dumps(model.reactions.list_attr(\"objective_coefficient\")))\n",
    "            fva_hash.update(model.objective_direction.encode())\n",
    "        file_path = results_cache_dir / (model.id+\"_FVA_\"+fva_hash.hexdigest())\n",
    "        fva_result = None\n",
    "        if Path.exists(file_path):\n",
    "            try:\n",
    "                fva_result = pandas.read_pickle(file_path)\n",
    "                print_func(\"Loaded FVA result from\", str(file_path))\n",
    "            except:\n",
    "                print_func(\"Loading FVA result from\", str(file_path), \"failed, running FVA.\")\n",
    "        else:\n",
    "            print_func(\"No cached result available, running FVA...\")\n",
    "        if fva_result is None:\n",
    "            fva_result = cobra.flux_analysis.flux_variability_analysis(model, reaction_list=None, loopless=loopless,\n",
    "                                                             fraction_of_optimum=fraction_of_optimum,\n",
    "                                                             pfba_factor=None, processes=processes)\n",
    "            try:\n",
    "                fva_result.to_pickle(file_path)\n",
    "                print_func(\"Saved FVA result to \", str(file_path))\n",
    "            except:\n",
    "                print_func(\"Failed to write FVA result to \", str(file_path))\n",
    "        return fva_result\n",
    "    else:\n",
    "        return cobra.flux_analysis.flux_variability_analysis(model, reaction_list=None, loopless=loopless,\n",
    "                                                             fraction_of_optimum=fraction_of_optimum,\n",
    "                                                             pfba_factor=None, processes=processes)"
   ]
  },
  {
   "cell_type": "code",
   "execution_count": null,
   "id": "f1e0d6d3",
   "metadata": {},
   "outputs": [
    {
     "ename": "",
     "evalue": "",
     "output_type": "error",
     "traceback": [
      "\u001b[1;31mFailed to start the Kernel. \n",
      "\u001b[1;31mUnable to start Kernel 'rba (Python 3.10.6)' due to connection timeout. \n",
      "\u001b[1;31mView Jupyter <a href='command:jupyter.viewOutput'>log</a> for further details."
     ]
    }
   ],
   "source": [
    "def fva_model(compressed_model):\n",
    "    fva_tolerance=1e-9\n",
    "    with model as fva: # can be skipped when a compressed model is available\n",
    "        # when include_model_bounds=False modify bounds so that only reversibilites are used?\n",
    "        # fva.solver = 'glpk_exact' # too slow for large models\n",
    "        fva.tolerance = fva_tolerance\n",
    "        fva.objective = model.problem.Objective(0.0)\n",
    "        if fva.problem.__name__ == 'optlang.glpk_interface':\n",
    "            # should emulate setting an optimality tolerance (which GLPK simplex does not have)\n",
    "            fva.solver.configuration._smcp.meth = GLP_DUAL\n",
    "            fva.solver.configuration._smcp.tol_dj = fva_tolerance\n",
    "        elif fva.problem.__name__ == 'optlang.coinor_cbc_interface':\n",
    "            fva.solver.problem.opt_tol = fva_tolerance\n",
    "        fva_res = flux_variability_analysis(fva, fraction_of_optimum=0.0, processes=1, \n",
    "            results_cache_dir=None, fva_hash=None)\n",
    "    for i in range(fva_res.values.shape[0]): # assumes the FVA results are ordered same as the model reactions\n",
    "        if abs(fva_res.values[i, 0]) > fva_tolerance: # resolve with glpk_exact?\n",
    "            compressed_model.reactions[i].lower_bound = fva_res.values[i, 0]\n",
    "        else:\n",
    "            compressed_model.reactions[i].lower_bound = 0\n",
    "        if abs(fva_res.values[i, 1]) > fva_tolerance: # resolve with glpk_exact?\n",
    "            compressed_model.reactions[i].upper_bound = fva_res.values[i, 1]\n",
    "        else:\n",
    "            compressed_model.reactions[i].upper_bound = 0\n",
    "    return compressed_model"
   ]
  },
  {
   "cell_type": "code",
   "execution_count": null,
   "id": "a531bc4f",
   "metadata": {},
   "outputs": [
    {
     "ename": "",
     "evalue": "",
     "output_type": "error",
     "traceback": [
      "\u001b[1;31mFailed to start the Kernel. \n",
      "\u001b[1;31mUnable to start Kernel 'rba (Python 3.10.6)' due to connection timeout. \n",
      "\u001b[1;31mView Jupyter <a href='command:jupyter.viewOutput'>log</a> for further details."
     ]
    }
   ],
   "source": [
    "model = cobra.io.read_sbml_model(model_file)\n",
    "original_model = model.copy()"
   ]
  },
  {
   "cell_type": "code",
   "execution_count": null,
   "id": "353fd2bd",
   "metadata": {
    "scrolled": false
   },
   "outputs": [
    {
     "ename": "",
     "evalue": "",
     "output_type": "error",
     "traceback": [
      "\u001b[1;31mFailed to start the Kernel. \n",
      "\u001b[1;31mUnable to start Kernel 'rba (Python 3.10.6)' due to connection timeout. \n",
      "\u001b[1;31mView Jupyter <a href='command:jupyter.viewOutput'>log</a> for further details."
     ]
    }
   ],
   "source": [
    "# network compression (currently combination of reaction subsets only)\n",
    "# IMPORTANT: the model is modified by this function, if you want to keep the full model copy it first\n",
    "model = fva_model(model)\n",
    "subT = efmtool4cobra.compress_model_sympy(model) # subT is a matrix for conversion of flux vectors between the full and compressed model\n",
    "rd = cobra.util.array.create_stoichiometric_matrix(model, array_type='lil')\n",
    "# model compression makes sure that irreversible reactions always point in the forward direction\n",
    "rev_rd = [int(r.reversibility) for r in model.reactions]\n",
    "len(model.reactions)"
   ]
  },
  {
   "cell_type": "code",
   "execution_count": null,
   "id": "95dc974f",
   "metadata": {},
   "outputs": [
    {
     "ename": "",
     "evalue": "",
     "output_type": "error",
     "traceback": [
      "\u001b[1;31mFailed to start the Kernel. \n",
      "\u001b[1;31mUnable to start Kernel 'rba (Python 3.10.6)' due to connection timeout. \n",
      "\u001b[1;31mView Jupyter <a href='command:jupyter.viewOutput'>log</a> for further details."
     ]
    }
   ],
   "source": [
    "print(sum(rev_rd), 'reversible reactions and', len(rev_rd) - sum(rev_rd), 'irreversible')"
   ]
  },
  {
   "cell_type": "code",
   "execution_count": null,
   "id": "6210a37d",
   "metadata": {},
   "outputs": [
    {
     "ename": "",
     "evalue": "",
     "output_type": "error",
     "traceback": [
      "\u001b[1;31mFailed to start the Kernel. \n",
      "\u001b[1;31mUnable to start Kernel 'rba (Python 3.10.6)' due to connection timeout. \n",
      "\u001b[1;31mView Jupyter <a href='command:jupyter.viewOutput'>log</a> for further details."
     ]
    }
   ],
   "source": [
    "import pandas"
   ]
  },
  {
   "cell_type": "code",
   "execution_count": null,
   "id": "fcc58c9d",
   "metadata": {},
   "outputs": [
    {
     "ename": "",
     "evalue": "",
     "output_type": "error",
     "traceback": [
      "\u001b[1;31mFailed to start the Kernel. \n",
      "\u001b[1;31mUnable to start Kernel 'rba (Python 3.10.6)' due to connection timeout. \n",
      "\u001b[1;31mView Jupyter <a href='command:jupyter.viewOutput'>log</a> for further details."
     ]
    }
   ],
   "source": [
    "# Fonction qui, pour chaque élément itérable l, lui applique la fonction qui en éxtrait l'id de ses éléments.\n",
    "names = lambda l: list(map(lambda x: x.id, l))"
   ]
  },
  {
   "cell_type": "code",
   "execution_count": null,
   "id": "50ba0944",
   "metadata": {},
   "outputs": [
    {
     "ename": "",
     "evalue": "",
     "output_type": "error",
     "traceback": [
      "\u001b[1;31mFailed to start the Kernel. \n",
      "\u001b[1;31mUnable to start Kernel 'rba (Python 3.10.6)' due to connection timeout. \n",
      "\u001b[1;31mView Jupyter <a href='command:jupyter.viewOutput'>log</a> for further details."
     ]
    }
   ],
   "source": [
    "df = pandas.DataFrame.sparse.from_spmatrix(rd, index=names(model.metabolites), columns=names(model.reactions))\n",
    "df"
   ]
  },
  {
   "cell_type": "code",
   "execution_count": null,
   "id": "ca5beece",
   "metadata": {},
   "outputs": [
    {
     "ename": "",
     "evalue": "",
     "output_type": "error",
     "traceback": [
      "\u001b[1;31mFailed to start the Kernel. \n",
      "\u001b[1;31mUnable to start Kernel 'rba (Python 3.10.6)' due to connection timeout. \n",
      "\u001b[1;31mView Jupyter <a href='command:jupyter.viewOutput'>log</a> for further details."
     ]
    }
   ],
   "source": [
    "import io\n",
    "with io.StringIO() as output:\n",
    "    for column in df.columns:\n",
    "        dfc = df[column]\n",
    "        ftime=True\n",
    "        print(column, ': ', end='', file=output, flush=True)\n",
    "        for k, v in dfc[dfc < 0].items():\n",
    "            if ftime:\n",
    "                ftime=False\n",
    "            else:\n",
    "                print('+', end=' ', file=output, flush=True)\n",
    "            print(-v, k, end=' ', file=output, flush=True)\n",
    "        print('=' if model.reactions.get_by_id(column).reversibility else '=>', end=' ', file=output, flush=True)\n",
    "        ftime=True\n",
    "        for k, v in dfc[dfc > 0].items():\n",
    "            if ftime:\n",
    "                ftime=False\n",
    "            else:\n",
    "                print('+', end=' ', file=output, flush=True)\n",
    "            print(v, k, end=' ', file=output, flush=True)\n",
    "        print(file=output, flush=True)\n",
    "    lines_r = output.getvalue()\n",
    "print(lines_r)"
   ]
  },
  {
   "cell_type": "code",
   "execution_count": null,
   "id": "672267d9",
   "metadata": {},
   "outputs": [
    {
     "ename": "",
     "evalue": "",
     "output_type": "error",
     "traceback": [
      "\u001b[1;31mFailed to start the Kernel. \n",
      "\u001b[1;31mUnable to start Kernel 'rba (Python 3.10.6)' due to connection timeout. \n",
      "\u001b[1;31mView Jupyter <a href='command:jupyter.viewOutput'>log</a> for further details."
     ]
    }
   ],
   "source": [
    "rxn_in_sub = [numpy.where(subT[:, i])[0] for i in range(subT.shape[1])]"
   ]
  },
  {
   "cell_type": "code",
   "execution_count": null,
   "id": "15a69eae",
   "metadata": {
    "scrolled": false
   },
   "outputs": [
    {
     "ename": "",
     "evalue": "",
     "output_type": "error",
     "traceback": [
      "\u001b[1;31mFailed to start the Kernel. \n",
      "\u001b[1;31mUnable to start Kernel 'rba (Python 3.10.6)' due to connection timeout. \n",
      "\u001b[1;31mView Jupyter <a href='command:jupyter.viewOutput'>log</a> for further details."
     ]
    }
   ],
   "source": [
    "for i, reactions in enumerate(model.reactions):\n",
    "    print(f'rsub_{i+1}', list(map(lambda x: original_model.reactions[x].id, rxn_in_sub[i])))"
   ]
  },
  {
   "cell_type": "code",
   "execution_count": null,
   "id": "8a41ab0a",
   "metadata": {
    "scrolled": false
   },
   "outputs": [
    {
     "ename": "",
     "evalue": "",
     "output_type": "error",
     "traceback": [
      "\u001b[1;31mFailed to start the Kernel. \n",
      "\u001b[1;31mUnable to start Kernel 'rba (Python 3.10.6)' due to connection timeout. \n",
      "\u001b[1;31mView Jupyter <a href='command:jupyter.viewOutput'>log</a> for further details."
     ]
    }
   ],
   "source": [
    "lines = ''\n",
    "nb_ext = 1\n",
    "for i, column in enumerate(df.columns):\n",
    "    dfc = df[column]\n",
    "    ftime=True\n",
    "    lines += f'rsub_{i+1}' + ' : '\n",
    "    for k, v in dfc[dfc < 0].items():\n",
    "        if ftime:\n",
    "            ftime=False\n",
    "        else:\n",
    "            lines += ' + '\n",
    "        lines += str(-v) + ' ' + k\n",
    "    if ftime:\n",
    "        lines += f'ext_{nb_ext}'\n",
    "        nb_ext += 1\n",
    "    lines += ' = ' if model.reactions.get_by_id(column).reversibility else ' => '\n",
    "    ftime=True\n",
    "    for k, v in dfc[dfc > 0].items():\n",
    "        if ftime:\n",
    "            ftime=False\n",
    "        else:\n",
    "            lines += ' + '\n",
    "        lines += str(v) + ' ' + k\n",
    "    if ftime:\n",
    "        lines += f'ext_{nb_ext}'\n",
    "        nb_ext += 1\n",
    "    lines += '\\n'\n",
    "lines = '-METEXT\\n' + ' '.join(['ext_' + str(i+1) for i in range(nb_ext-1)]) + '\\n' + '\\n-CAT\\n' + lines\n",
    "print(lines)"
   ]
  },
  {
   "cell_type": "code",
   "execution_count": null,
   "id": "d4188938",
   "metadata": {},
   "outputs": [
    {
     "ename": "",
     "evalue": "",
     "output_type": "error",
     "traceback": [
      "\u001b[1;31mFailed to start the Kernel. \n",
      "\u001b[1;31mUnable to start Kernel 'rba (Python 3.10.6)' due to connection timeout. \n",
      "\u001b[1;31mView Jupyter <a href='command:jupyter.viewOutput'>log</a> for further details."
     ]
    }
   ],
   "source": [
    "dicto_rsub = {}\n",
    "biomass = f'rsub_1'\n",
    "for i, reactions in enumerate(model.reactions[:-1]):\n",
    "    lm = list(map(lambda x: original_model.reactions[x].id, rxn_in_sub[i]))\n",
    "    if any(('biomass' in k) or ('BIOMASS' in k) or ('Biomass' in k) for k in lm):\n",
    "        biomass = f'rsub_{i+1}'\n",
    "    for r in lm:\n",
    "        dicto_rsub[r] = f'rsub_{i+1}'\n",
    "print(biomass)"
   ]
  },
  {
   "cell_type": "code",
   "execution_count": null,
   "id": "e8412fea",
   "metadata": {},
   "outputs": [
    {
     "ename": "",
     "evalue": "",
     "output_type": "error",
     "traceback": [
      "\u001b[1;31mFailed to start the Kernel. \n",
      "\u001b[1;31mUnable to start Kernel 'rba (Python 3.10.6)' due to connection timeout. \n",
      "\u001b[1;31mView Jupyter <a href='command:jupyter.viewOutput'>log</a> for further details."
     ]
    }
   ],
   "source": [
    "biomass = biomass # change biomass here if not good\n",
    "print(biomass)"
   ]
  },
  {
   "cell_type": "code",
   "execution_count": null,
   "id": "403d77f7",
   "metadata": {
    "scrolled": false
   },
   "outputs": [
    {
     "ename": "",
     "evalue": "",
     "output_type": "error",
     "traceback": [
      "\u001b[1;31mFailed to start the Kernel. \n",
      "\u001b[1;31mUnable to start Kernel 'rba (Python 3.10.6)' due to connection timeout. \n",
      "\u001b[1;31mView Jupyter <a href='command:jupyter.viewOutput'>log</a> for further details."
     ]
    }
   ],
   "source": [
    "for reaction in model.reactions:\n",
    "    print(reaction.id, reaction.lower_bound, reaction.upper_bound, reaction.subset_stoich)"
   ]
  },
  {
   "cell_type": "markdown",
   "id": "fa5a5e41",
   "metadata": {},
   "source": [
    "# File creation"
   ]
  },
  {
   "cell_type": "code",
   "execution_count": null,
   "id": "e25a7642",
   "metadata": {},
   "outputs": [
    {
     "ename": "",
     "evalue": "",
     "output_type": "error",
     "traceback": [
      "\u001b[1;31mFailed to start the Kernel. \n",
      "\u001b[1;31mUnable to start Kernel 'rba (Python 3.10.6)' due to connection timeout. \n",
      "\u001b[1;31mView Jupyter <a href='command:jupyter.viewOutput'>log</a> for further details."
     ]
    }
   ],
   "source": [
    "from pathlib import Path\n",
    "from os import chdir\n",
    "chdir(dir_name)"
   ]
  },
  {
   "cell_type": "code",
   "execution_count": null,
   "id": "878c4a21",
   "metadata": {},
   "outputs": [
    {
     "ename": "",
     "evalue": "",
     "output_type": "error",
     "traceback": [
      "\u001b[1;31mFailed to start the Kernel. \n",
      "\u001b[1;31mUnable to start Kernel 'rba (Python 3.10.6)' due to connection timeout. \n",
      "\u001b[1;31mView Jupyter <a href='command:jupyter.viewOutput'>log</a> for further details."
     ]
    }
   ],
   "source": [
    "import sys\n",
    "sys.path.append(module_name)\n",
    "import mparser"
   ]
  },
  {
   "cell_type": "code",
   "execution_count": null,
   "id": "964e109c",
   "metadata": {},
   "outputs": [
    {
     "ename": "",
     "evalue": "",
     "output_type": "error",
     "traceback": [
      "\u001b[1;31mFailed to start the Kernel. \n",
      "\u001b[1;31mUnable to start Kernel 'rba (Python 3.10.6)' due to connection timeout. \n",
      "\u001b[1;31mView Jupyter <a href='command:jupyter.viewOutput'>log</a> for further details."
     ]
    }
   ],
   "source": [
    "path = generated_files_path"
   ]
  },
  {
   "cell_type": "code",
   "execution_count": null,
   "id": "2b8ab0f2",
   "metadata": {},
   "outputs": [
    {
     "ename": "",
     "evalue": "",
     "output_type": "error",
     "traceback": [
      "\u001b[1;31mFailed to start the Kernel. \n",
      "\u001b[1;31mUnable to start Kernel 'rba (Python 3.10.6)' due to connection timeout. \n",
      "\u001b[1;31mView Jupyter <a href='command:jupyter.viewOutput'>log</a> for further details."
     ]
    }
   ],
   "source": [
    "txtfile = path + f'{model_name}_reduced.txt'"
   ]
  },
  {
   "cell_type": "code",
   "execution_count": null,
   "id": "7dbd0e8f",
   "metadata": {},
   "outputs": [
    {
     "ename": "",
     "evalue": "",
     "output_type": "error",
     "traceback": [
      "\u001b[1;31mFailed to start the Kernel. \n",
      "\u001b[1;31mUnable to start Kernel 'rba (Python 3.10.6)' due to connection timeout. \n",
      "\u001b[1;31mView Jupyter <a href='command:jupyter.viewOutput'>log</a> for further details."
     ]
    }
   ],
   "source": [
    "with open(txtfile, 'w') as f:\n",
    "    f.writelines(lines)"
   ]
  },
  {
   "cell_type": "code",
   "execution_count": null,
   "id": "b1895d28",
   "metadata": {},
   "outputs": [
    {
     "ename": "",
     "evalue": "",
     "output_type": "error",
     "traceback": [
      "\u001b[1;31mFailed to start the Kernel. \n",
      "\u001b[1;31mUnable to start Kernel 'rba (Python 3.10.6)' due to connection timeout. \n",
      "\u001b[1;31mView Jupyter <a href='command:jupyter.viewOutput'>log</a> for further details."
     ]
    }
   ],
   "source": [
    "ri = lambda i: original_model.reactions[i].id"
   ]
  },
  {
   "cell_type": "code",
   "execution_count": null,
   "id": "44be5c4d",
   "metadata": {},
   "outputs": [
    {
     "ename": "",
     "evalue": "",
     "output_type": "error",
     "traceback": [
      "\u001b[1;31mFailed to start the Kernel. \n",
      "\u001b[1;31mUnable to start Kernel 'rba (Python 3.10.6)' due to connection timeout. \n",
      "\u001b[1;31mView Jupyter <a href='command:jupyter.viewOutput'>log</a> for further details."
     ]
    }
   ],
   "source": [
    "subname = lambda i: 'rsub_{}'.format(i+1)\n",
    "subnamerev = lambda i: 'rsub_{}_rev'.format(i+1)\n",
    "aq = lambda x: '\"{}\"'.format(x)\n",
    "aqrev = lambda x: '\"{}_rev\"'.format(x)\n",
    "rev = lambda x: '{}_rev'.format(x)  \n",
    "lines = 'subset(' + ';'.join([aq(subname(i)) for i in range(len(df.columns))]) + ').\\n'\n",
    "lines += 'subset(' + ';'.join([aq(subnamerev(i)) for i in range(len(df.columns))]) + ').\\n'\n",
    "dicto = {}\n",
    "\n",
    "for r, ls in enumerate(rxn_in_sub):\n",
    "    dicto[subname(r)] = {'reacs': [ri(rk) if subT[rk, r] >= 0 else rev(ri(rk)) for rk in ls],\n",
    "         'coeffs': [abs(subT[rk, r]) for rk in ls],\n",
    "         'full': [(ri(rk), subT[rk, r]) for rk in ls]}\n",
    "    if model.reactions.get_by_any(r)[0].reversibility:\n",
    "        dicto[subnamerev(r)] = {'reacs': [ri(rk) if subT[rk, r] < 0 else rev(ri(rk)) for rk in ls],\n",
    "             'coeffs': [abs(subT[rk, r]) for rk in ls],\n",
    "             'full': [(ri(rk), -subT[rk, r]) for rk in ls]}\n",
    "    for rk in ls:\n",
    "        fk = subT[rk, r]\n",
    "        lines += 'coefficient(' + aq(subname(r)) + ',' + ((aq(ri(rk))) if fk >= 0 else aqrev(ri(rk))) + ',' + aq(abs(fk)) + ').\\n'\n",
    "        lines += 'coefficient(' + aq(subnamerev(r)) + ',' + ((aqrev(ri(rk))) if fk >= 0 else aq(ri(rk))) + ',' + aq(abs(fk)) + ').\\n'"
   ]
  },
  {
   "cell_type": "code",
   "execution_count": null,
   "id": "3da7d9d7",
   "metadata": {},
   "outputs": [
    {
     "ename": "",
     "evalue": "",
     "output_type": "error",
     "traceback": [
      "\u001b[1;31mFailed to start the Kernel. \n",
      "\u001b[1;31mUnable to start Kernel 'rba (Python 3.10.6)' due to connection timeout. \n",
      "\u001b[1;31mView Jupyter <a href='command:jupyter.viewOutput'>log</a> for further details."
     ]
    }
   ],
   "source": [
    "lp4file = path + f'{model_name}_reactionSubsets.lp4'\n",
    "subfile = path + f'{model_name}_reactionSubsets.txt'"
   ]
  },
  {
   "cell_type": "code",
   "execution_count": null,
   "id": "52e5eddb",
   "metadata": {},
   "outputs": [
    {
     "ename": "",
     "evalue": "",
     "output_type": "error",
     "traceback": [
      "\u001b[1;31mFailed to start the Kernel. \n",
      "\u001b[1;31mUnable to start Kernel 'rba (Python 3.10.6)' due to connection timeout. \n",
      "\u001b[1;31mView Jupyter <a href='command:jupyter.viewOutput'>log</a> for further details."
     ]
    }
   ],
   "source": [
    "with open(lp4file, 'w') as f:\n",
    "    f.writelines(lines)"
   ]
  },
  {
   "cell_type": "code",
   "execution_count": null,
   "id": "d65f5d1d",
   "metadata": {},
   "outputs": [
    {
     "ename": "",
     "evalue": "",
     "output_type": "error",
     "traceback": [
      "\u001b[1;31mFailed to start the Kernel. \n",
      "\u001b[1;31mUnable to start Kernel 'rba (Python 3.10.6)' due to connection timeout. \n",
      "\u001b[1;31mView Jupyter <a href='command:jupyter.viewOutput'>log</a> for further details."
     ]
    }
   ],
   "source": [
    "with open(subfile, 'w') as f:\n",
    "    f.write(str(dicto))"
   ]
  },
  {
   "cell_type": "code",
   "execution_count": null,
   "id": "da062453",
   "metadata": {},
   "outputs": [
    {
     "ename": "",
     "evalue": "",
     "output_type": "error",
     "traceback": [
      "\u001b[1;31mFailed to start the Kernel. \n",
      "\u001b[1;31mUnable to start Kernel 'rba (Python 3.10.6)' due to connection timeout. \n",
      "\u001b[1;31mView Jupyter <a href='command:jupyter.viewOutput'>log</a> for further details."
     ]
    }
   ],
   "source": [
    "mcssubname = lambda i: '\"mcs_rsub_{}\"'.format(i+1)\n",
    "mcssubnamerev = lambda i: '\"mcs_rsub_{}_rev\"'.format(i+1)\n",
    "aq = lambda x: '\"{}\"'.format(x)\n",
    "aqrev = lambda x: '\"{}_rev\"'.format(x)    \n",
    "lines = 'subset(' + ';'.join([mcssubname(i) for i in range(len(df.columns))]) + ').\\n'\n",
    "lines += 'subset(' + ';'.join([mcssubnamerev(i) for i in range(len(df.columns))]) + ').\\n'\n",
    "\n",
    "for r, ls in enumerate(rxn_in_sub):\n",
    "    for rk in ls:\n",
    "        fk = subT[rk, r]\n",
    "        lines += 'coefficient(' + mcssubname(r) + ',' + ((aq(ri(rk))) if fk >= 0 else aqrev(ri(rk))) + ',' + aq(abs(fk)) + ').\\n'\n",
    "        lines += 'coefficient(' + mcssubnamerev(r) + ',' + ((aqrev(ri(rk))) if fk >= 0 else aq(ri(rk))) + ',' + aq(abs(fk)) + ').\\n'"
   ]
  },
  {
   "cell_type": "code",
   "execution_count": null,
   "id": "2cae29c4",
   "metadata": {},
   "outputs": [
    {
     "ename": "",
     "evalue": "",
     "output_type": "error",
     "traceback": [
      "\u001b[1;31mFailed to start the Kernel. \n",
      "\u001b[1;31mUnable to start Kernel 'rba (Python 3.10.6)' due to connection timeout. \n",
      "\u001b[1;31mView Jupyter <a href='command:jupyter.viewOutput'>log</a> for further details."
     ]
    }
   ],
   "source": [
    "lp4file = path + f'{model_name}_mcsReactionSubsets.lp4'     "
   ]
  },
  {
   "cell_type": "code",
   "execution_count": null,
   "id": "09d042ce",
   "metadata": {},
   "outputs": [
    {
     "ename": "",
     "evalue": "",
     "output_type": "error",
     "traceback": [
      "\u001b[1;31mFailed to start the Kernel. \n",
      "\u001b[1;31mUnable to start Kernel 'rba (Python 3.10.6)' due to connection timeout. \n",
      "\u001b[1;31mView Jupyter <a href='command:jupyter.viewOutput'>log</a> for further details."
     ]
    }
   ],
   "source": [
    "with open(lp4file, 'w') as f:\n",
    "    f.writelines(lines)"
   ]
  },
  {
   "cell_type": "code",
   "execution_count": null,
   "id": "748f9329",
   "metadata": {},
   "outputs": [
    {
     "ename": "",
     "evalue": "",
     "output_type": "error",
     "traceback": [
      "\u001b[1;31mFailed to start the Kernel. \n",
      "\u001b[1;31mUnable to start Kernel 'rba (Python 3.10.6)' due to connection timeout. \n",
      "\u001b[1;31mView Jupyter <a href='command:jupyter.viewOutput'>log</a> for further details."
     ]
    }
   ],
   "source": [
    "len(original_model.reactions)"
   ]
  },
  {
   "cell_type": "code",
   "execution_count": null,
   "id": "2b2f134d",
   "metadata": {},
   "outputs": [
    {
     "ename": "",
     "evalue": "",
     "output_type": "error",
     "traceback": [
      "\u001b[1;31mFailed to start the Kernel. \n",
      "\u001b[1;31mUnable to start Kernel 'rba (Python 3.10.6)' due to connection timeout. \n",
      "\u001b[1;31mView Jupyter <a href='command:jupyter.viewOutput'>log</a> for further details."
     ]
    }
   ],
   "source": [
    "txtfile=f'{path}{model_name}_reduced.txt'\n",
    "#pklfile=f'{path}{model_name}_reduced.pkl'\n",
    "aspfile=f'{path}{model_name}_reduced.lp4'\n",
    "sbmlfile=f'{path}{model_name}_reduced.xml'\n",
    "#mcs_pklfile=f'{path}{model_name}_reduced_mcs.pkl'\n",
    "mcs_aspfile=f'{path}{model_name}_reduced_mcs.lp4'\n",
    "#mcs_sbmlfile=f'{path}{model_name}_reduced_mcs.xml'"
   ]
  },
  {
   "cell_type": "markdown",
   "id": "c0598cfb",
   "metadata": {},
   "source": [
    "### Compressed network files for EFMs computation"
   ]
  },
  {
   "cell_type": "code",
   "execution_count": 1,
   "id": "73883aa5",
   "metadata": {},
   "outputs": [
    {
     "ename": "NameError",
     "evalue": "name 'mparser' is not defined",
     "output_type": "error",
     "traceback": [
      "\u001b[0;31m---------------------------------------------------------------------------\u001b[0m",
      "\u001b[0;31mNameError\u001b[0m                                 Traceback (most recent call last)",
      "Cell \u001b[0;32mIn[1], line 2\u001b[0m\n\u001b[1;32m      1\u001b[0m \u001b[39m#mparser.convert(mparser.conversion.InputFormatType.TXT, txtfile , mparser.conversion.OutputFormatType.PKL, pklfile, False, [])\u001b[39;00m\n\u001b[0;32m----> 2\u001b[0m mparser\u001b[39m.\u001b[39mconvert(mparser\u001b[39m.\u001b[39mconversion\u001b[39m.\u001b[39mInputFormatType\u001b[39m.\u001b[39mTXT, txtfile , mparser\u001b[39m.\u001b[39mconversion\u001b[39m.\u001b[39mOutputFormatType\u001b[39m.\u001b[39mASP, aspfile, \u001b[39mFalse\u001b[39;00m, [])\n\u001b[1;32m      3\u001b[0m mparser\u001b[39m.\u001b[39mconvert(mparser\u001b[39m.\u001b[39mconversion\u001b[39m.\u001b[39mInputFormatType\u001b[39m.\u001b[39mTXT, txtfile , mparser\u001b[39m.\u001b[39mconversion\u001b[39m.\u001b[39mOutputFormatType\u001b[39m.\u001b[39mSBML, sbmlfile, \u001b[39mFalse\u001b[39;00m, [])\n",
      "\u001b[0;31mNameError\u001b[0m: name 'mparser' is not defined"
     ]
    }
   ],
   "source": [
    "#mparser.convert(mparser.conversion.InputFormatType.TXT, txtfile , mparser.conversion.OutputFormatType.PKL, pklfile, False, [])\n",
    "mparser.convert(mparser.conversion.InputFormatType.TXT, txtfile , mparser.conversion.OutputFormatType.ASP, aspfile, False, [])\n",
    "mparser.convert(mparser.conversion.InputFormatType.TXT, txtfile , mparser.conversion.OutputFormatType.SBML, sbmlfile, False, [])"
   ]
  },
  {
   "cell_type": "markdown",
   "id": "e5d6f36a",
   "metadata": {},
   "source": [
    "### Compressed network files for MCSs computation with 'biomass' as target"
   ]
  },
  {
   "cell_type": "code",
   "execution_count": null,
   "id": "d82c2ce4",
   "metadata": {},
   "outputs": [
    {
     "name": "stdout",
     "output_type": "stream",
     "text": [
      "847 internal metabolites\n",
      "90 external metabolites\n",
      "2117 total reactions\n",
      "80 exchange reactions\n",
      "482 reversible reactions\n"
     ]
    },
    {
     "name": "stderr",
     "output_type": "stream",
     "text": [
      "/home/jmuller/Documents/Stage_metabo/mparser/meta_network.py:203: UserWarning: No external metabolite\n",
      "  self.structures_check()\n",
      "/home/jmuller/Documents/Stage_metabo/mparser/meta_network.py:43: UserWarning: Found reactions with missing overall metabolite production or consumption\n",
      "  warnings.warn('Found reactions with missing overall metabolite production or consumption')\n"
     ]
    },
    {
     "name": "stdout",
     "output_type": "stream",
     "text": [
      "-- Dual network --\n",
      "2117 internal metabolites\n",
      "0 external metabolites\n",
      "2965 total reactions\n",
      "80 exchange reactions\n",
      "1329 reversible reactions\n"
     ]
    }
   ],
   "source": [
    "#mparser.convert(mparser.conversion.InputFormatType.TXT, txtfile , mparser.conversion.OutputFormatType.PKL, mcs_pklfile, to_dual_mcs=True, target_reactions=[biomass])\n",
    "mparser.convert(mparser.conversion.InputFormatType.TXT, txtfile , mparser.conversion.OutputFormatType.ASP, mcs_aspfile, to_dual_mcs=True, target_reactions=[biomass])\n",
    "#mparser.convert(mparser.conversion.InputFormatType.TXT, txtfile , mparser.conversion.OutputFormatType.SBML, mcs_sbmlfile, to_dual_mcs=True, target_reactions=[biomass])"
   ]
  },
  {
   "cell_type": "code",
   "execution_count": null,
   "id": "ea10c0ab",
   "metadata": {},
   "outputs": [],
   "source": []
  },
  {
   "cell_type": "code",
   "execution_count": null,
   "id": "5dfd9513",
   "metadata": {},
   "outputs": [],
   "source": []
  }
 ],
 "metadata": {
  "kernelspec": {
   "display_name": "base",
   "language": "python",
   "name": "python3"
  },
  "language_info": {
   "codemirror_mode": {
    "name": "ipython",
    "version": 3
   },
   "file_extension": ".py",
   "mimetype": "text/x-python",
   "name": "python",
   "nbconvert_exporter": "python",
   "pygments_lexer": "ipython3",
   "version": "3.10.6"
  },
  "vscode": {
   "interpreter": {
    "hash": "091a71e7c50cf0e219a1de20c9e23827dddb8fa15fb07150b2e4983b80593661"
   }
  },
  "widgets": {
   "application/vnd.jupyter.widget-state+json": {
    "state": {},
    "version_major": 2,
    "version_minor": 0
   }
  }
 },
 "nbformat": 4,
 "nbformat_minor": 5
}
