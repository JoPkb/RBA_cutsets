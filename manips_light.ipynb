{
 "cells": [
  {
   "cell_type": "code",
   "execution_count": 2,
   "metadata": {},
   "outputs": [],
   "source": [
    "import matplotlib.pyplot as plt\n",
    "import cobra\n",
    "from cobra.io import validate_sbml_model\n",
    "import importlib\n",
    "from xml.etree import ElementTree\n",
    "import Model_correction as mc\n",
    "import sys\n",
    "import model_maj as mj\n",
    "import viz_utils as vu \n",
    "#import cplex\n",
    "import cbmpy"
   ]
  },
  {
   "cell_type": "code",
   "execution_count": 12,
   "metadata": {},
   "outputs": [
    {
     "data": {
      "text/plain": [
       "<module 'model_maj' from '/home/jerem/Documents/master/RBA_cutsets/model_maj.py'>"
      ]
     },
     "execution_count": 12,
     "metadata": {},
     "output_type": "execute_result"
    }
   ],
   "source": [
    "importlib.reload(mj)"
   ]
  },
  {
   "attachments": {},
   "cell_type": "markdown",
   "metadata": {},
   "source": [
    "### Chargement des modèles"
   ]
  },
  {
   "cell_type": "code",
   "execution_count": null,
   "metadata": {},
   "outputs": [],
   "source": [
    "HepG2_v2, errors = validate_sbml_model(\"./models_storage/Hep-G2_v2.xml\")"
   ]
  },
  {
   "cell_type": "code",
   "execution_count": 13,
   "metadata": {},
   "outputs": [
    {
     "name": "stdout",
     "output_type": "stream",
     "text": [
      "\n",
      "Loading model to update...\n",
      "\n",
      "\n",
      "Loading with cbmpy\n",
      "\n",
      "INFO: No boundary species detected, if this is not what you expect try searching for boundary species using <name>_b (with \"fake_boundary_species_search=True\")?\n",
      "\n",
      "WARNING: Missing FBA annotations found\n",
      "WARNING: No FluxBounds defined (generic bounds created)\n",
      "WARNING: No Objective function defined please create one\n",
      "INFO: used key(s) '['GENE_ASSOCIATION']'\n",
      "INFO: Added 2322 new genes and 5884 associations to model\n",
      "\n",
      "INFO: using FBC version: 2\n",
      "INFO: V2 bounds compression enabled\n",
      "INFO: Compartment \"C_c\" used by species \"M_m00001c\" is not defined, creating.\n",
      "INFO: Compartment \"C_s\" used by species \"M_m00001s\" is not defined, creating.\n",
      "INFO: Compartment \"C_l\" used by species \"M_m00003l\" is not defined, creating.\n",
      "INFO: Compartment \"C_r\" used by species \"M_m00003r\" is not defined, creating.\n",
      "INFO: Compartment \"C_m\" used by species \"M_m00004m\" is not defined, creating.\n",
      "INFO: Compartment \"C_p\" used by species \"M_m00007p\" is not defined, creating.\n",
      "INFO: Compartment \"C_g\" used by species \"M_m00138g\" is not defined, creating.\n",
      "INFO: Compartment \"C_n\" used by species \"M_m00204n\" is not defined, creating.\n",
      "INFO: added 0 non fluxbound parameters to model\n",
      "Model exported as: ./models_storage/iHepatocytes2322_Cobra_cbmpy.xml\n"
     ]
    },
    {
     "name": "stderr",
     "output_type": "stream",
     "text": [
      "COBRA errors in validation, check error log for details.\n",
      "COBRA warnings in validation, check error log for details.\n"
     ]
    },
    {
     "name": "stdout",
     "output_type": "stream",
     "text": [
      "Cobra model loading errors :\n",
      "\n",
      "['No objective coefficients in model. Unclear what should be optimized']\n",
      "\n",
      "Getting ENSEMBL and ncbi genes IDs to the annotations of the target model : \n",
      "\n"
     ]
    },
    {
     "name": "stderr",
     "output_type": "stream",
     "text": [
      "  0%|          | 0/2322 [00:00<?, ?it/s]"
     ]
    },
    {
     "name": "stdout",
     "output_type": "stream",
     "text": [
      "Checking out gene ENSG00000147576\n"
     ]
    },
    {
     "name": "stderr",
     "output_type": "stream",
     "text": [
      "  0%|          | 2/2322 [00:00<08:35,  4.50it/s]"
     ]
    },
    {
     "name": "stdout",
     "output_type": "stream",
     "text": [
      "Checking out gene ENSG00000172955\n",
      "Checking out gene ENSG00000180011\n"
     ]
    },
    {
     "name": "stderr",
     "output_type": "stream",
     "text": [
      "  0%|          | 4/2322 [00:00<06:37,  5.83it/s]"
     ]
    },
    {
     "name": "stdout",
     "output_type": "stream",
     "text": [
      "Checking out gene ENSG00000187758\n",
      "Checking out gene ENSG00000196344\n"
     ]
    },
    {
     "name": "stderr",
     "output_type": "stream",
     "text": [
      "  0%|          | 6/2322 [00:01<05:45,  6.71it/s]"
     ]
    },
    {
     "name": "stdout",
     "output_type": "stream",
     "text": [
      "Checking out gene ENSG00000196616\n",
      "Checking out gene ENSG00000197894\n"
     ]
    },
    {
     "name": "stderr",
     "output_type": "stream",
     "text": [
      "  0%|          | 8/2322 [00:01<06:20,  6.08it/s]"
     ]
    },
    {
     "name": "stdout",
     "output_type": "stream",
     "text": [
      "Checking out gene ENSG00000198099\n",
      "Checking out gene ENSG00000248144\n"
     ]
    },
    {
     "name": "stderr",
     "output_type": "stream",
     "text": [
      "  0%|          | 9/2322 [00:01<05:50,  6.61it/s]"
     ]
    },
    {
     "name": "stdout",
     "output_type": "stream",
     "text": [
      "Checking out gene ENSG00000117448\n"
     ]
    },
    {
     "name": "stderr",
     "output_type": "stream",
     "text": [
      "  0%|          | 11/2322 [00:01<06:41,  5.75it/s]"
     ]
    },
    {
     "name": "stdout",
     "output_type": "stream",
     "text": [
      "Checking out gene ENSG00000131069\n",
      "Checking out gene ENSG00000111058\n"
     ]
    },
    {
     "name": "stderr",
     "output_type": "stream",
     "text": [
      "  1%|          | 13/2322 [00:02<05:42,  6.73it/s]"
     ]
    },
    {
     "name": "stdout",
     "output_type": "stream",
     "text": [
      "Checking out gene ENSG00000154930\n",
      "Checking out gene ENSG00000091140\n"
     ]
    },
    {
     "name": "stderr",
     "output_type": "stream",
     "text": [
      "  1%|          | 15/2322 [00:02<05:50,  6.58it/s]"
     ]
    },
    {
     "name": "stdout",
     "output_type": "stream",
     "text": [
      "Checking out gene ENSG00000110435\n",
      "Checking out gene ENSG00000131828\n"
     ]
    },
    {
     "name": "stderr",
     "output_type": "stream",
     "text": [
      "  1%|          | 17/2322 [00:02<05:51,  6.55it/s]"
     ]
    },
    {
     "name": "stdout",
     "output_type": "stream",
     "text": [
      "Checking out gene ENSG00000150768\n",
      "Checking out gene ENSG00000163114\n"
     ]
    },
    {
     "name": "stderr",
     "output_type": "stream",
     "text": [
      "  1%|          | 19/2322 [00:03<07:16,  5.27it/s]"
     ]
    },
    {
     "name": "stdout",
     "output_type": "stream",
     "text": [
      "Checking out gene ENSG00000168291\n",
      "Checking out gene ENSG00000111716\n"
     ]
    },
    {
     "name": "stderr",
     "output_type": "stream",
     "text": [
      "  1%|          | 20/2322 [00:03<07:56,  4.83it/s]"
     ]
    },
    {
     "name": "stdout",
     "output_type": "stream",
     "text": [
      "Checking out gene ENSG00000151116\n"
     ]
    },
    {
     "name": "stderr",
     "output_type": "stream",
     "text": [
      "  1%|          | 22/2322 [00:04<08:43,  4.39it/s]"
     ]
    },
    {
     "name": "stdout",
     "output_type": "stream",
     "text": [
      "Checking out gene ENSG00000166796\n",
      "Checking out gene ENSG00000166800\n"
     ]
    },
    {
     "name": "stderr",
     "output_type": "stream",
     "text": [
      "  1%|          | 24/2322 [00:04<06:43,  5.70it/s]"
     ]
    },
    {
     "name": "stdout",
     "output_type": "stream",
     "text": [
      "Checking out gene ENSG00000171989\n",
      "Checking out gene ENSG00000006534\n"
     ]
    },
    {
     "name": "stderr",
     "output_type": "stream",
     "text": [
      "  1%|          | 26/2322 [00:04<06:44,  5.67it/s]"
     ]
    },
    {
     "name": "stdout",
     "output_type": "stream",
     "text": [
      "Checking out gene ENSG00000108602\n",
      "Checking out gene ENSG00000132746\n"
     ]
    },
    {
     "name": "stderr",
     "output_type": "stream",
     "text": [
      "  1%|          | 28/2322 [00:05<07:08,  5.35it/s]"
     ]
    },
    {
     "name": "stdout",
     "output_type": "stream",
     "text": [
      "Checking out gene ENSG00000184254\n",
      "Checking out gene ENSG00000067057\n"
     ]
    },
    {
     "name": "stderr",
     "output_type": "stream",
     "text": [
      "  1%|          | 29/2322 [00:05<06:25,  5.94it/s]"
     ]
    },
    {
     "name": "stdout",
     "output_type": "stream",
     "text": [
      "Checking out gene ENSG00000141959\n"
     ]
    },
    {
     "name": "stderr",
     "output_type": "stream",
     "text": [
      "  1%|▏         | 31/2322 [00:05<07:31,  5.08it/s]"
     ]
    },
    {
     "name": "stdout",
     "output_type": "stream",
     "text": [
      "Checking out gene ENSG00000152556\n",
      "Checking out gene ENSG00000160226\n"
     ]
    },
    {
     "name": "stderr",
     "output_type": "stream",
     "text": [
      "  1%|▏         | 33/2322 [00:05<06:11,  6.15it/s]"
     ]
    },
    {
     "name": "stdout",
     "output_type": "stream",
     "text": [
      "Checking out gene ENSG00000109107\n",
      "Checking out gene ENSG00000136872\n"
     ]
    },
    {
     "name": "stderr",
     "output_type": "stream",
     "text": [
      "  2%|▏         | 35/2322 [00:06<05:11,  7.35it/s]"
     ]
    },
    {
     "name": "stdout",
     "output_type": "stream",
     "text": [
      "Checking out gene ENSG00000149925\n",
      "Checking out gene ENSG00000067225\n"
     ]
    },
    {
     "name": "stderr",
     "output_type": "stream",
     "text": [
      "  2%|▏         | 37/2322 [00:06<05:07,  7.42it/s]"
     ]
    },
    {
     "name": "stdout",
     "output_type": "stream",
     "text": [
      "Checking out gene ENSG00000121900\n",
      "Checking out gene ENSG00000143627\n"
     ]
    },
    {
     "name": "stderr",
     "output_type": "stream",
     "text": [
      "  2%|▏         | 39/2322 [00:06<05:04,  7.50it/s]"
     ]
    },
    {
     "name": "stdout",
     "output_type": "stream",
     "text": [
      "Checking out gene ENSG00000143630\n",
      "Checking out gene ENSG00000074800\n"
     ]
    },
    {
     "name": "stderr",
     "output_type": "stream",
     "text": [
      "  2%|▏         | 41/2322 [00:06<04:57,  7.67it/s]"
     ]
    },
    {
     "name": "stdout",
     "output_type": "stream",
     "text": [
      "Checking out gene ENSG00000108515\n",
      "Checking out gene ENSG00000111674\n"
     ]
    },
    {
     "name": "stderr",
     "output_type": "stream",
     "text": [
      "  2%|▏         | 43/2322 [00:07<05:03,  7.50it/s]"
     ]
    },
    {
     "name": "stdout",
     "output_type": "stream",
     "text": [
      "Checking out gene ENSG00000164708\n",
      "Checking out gene ENSG00000171314\n"
     ]
    },
    {
     "name": "stderr",
     "output_type": "stream",
     "text": [
      "  2%|▏         | 45/2322 [00:07<04:50,  7.83it/s]"
     ]
    },
    {
     "name": "stdout",
     "output_type": "stream",
     "text": [
      "Checking out gene ENSG00000172331\n",
      "Checking out gene ENSG00000226784\n"
     ]
    },
    {
     "name": "stderr",
     "output_type": "stream",
     "text": [
      "  2%|▏         | 46/2322 [00:07<05:11,  7.30it/s]"
     ]
    },
    {
     "name": "stdout",
     "output_type": "stream",
     "text": [
      "Checking out gene ENSG00000102144\n"
     ]
    },
    {
     "name": "stderr",
     "output_type": "stream",
     "text": [
      "  2%|▏         | 48/2322 [00:08<06:02,  6.27it/s]"
     ]
    },
    {
     "name": "stdout",
     "output_type": "stream",
     "text": [
      "Checking out gene ENSG00000154305\n",
      "Checking out gene ENSG00000170950\n"
     ]
    },
    {
     "name": "stderr",
     "output_type": "stream",
     "text": [
      "  2%|▏         | 50/2322 [00:08<05:55,  6.39it/s]"
     ]
    },
    {
     "name": "stdout",
     "output_type": "stream",
     "text": [
      "Checking out gene ENSG00000119640\n",
      "Checking out gene ENSG00000170634\n"
     ]
    },
    {
     "name": "stderr",
     "output_type": "stream",
     "text": [
      "  2%|▏         | 52/2322 [00:08<05:53,  6.41it/s]"
     ]
    },
    {
     "name": "stdout",
     "output_type": "stream",
     "text": [
      "Checking out gene ENSG00000105679\n",
      "Checking out gene ENSG00000111640\n"
     ]
    },
    {
     "name": "stderr",
     "output_type": "stream",
     "text": [
      "  2%|▏         | 53/2322 [00:08<05:18,  7.13it/s]"
     ]
    },
    {
     "name": "stdout",
     "output_type": "stream",
     "text": [
      "Checking out gene ENSG00000130957\n"
     ]
    },
    {
     "name": "stderr",
     "output_type": "stream",
     "text": [
      "  2%|▏         | 55/2322 [00:09<06:06,  6.18it/s]"
     ]
    },
    {
     "name": "stdout",
     "output_type": "stream",
     "text": [
      "Checking out gene ENSG00000165140\n",
      "Checking out gene ENSG00000105220\n"
     ]
    },
    {
     "name": "stderr",
     "output_type": "stream",
     "text": [
      "  2%|▏         | 56/2322 [00:09<05:34,  6.77it/s]"
     ]
    },
    {
     "name": "stdout",
     "output_type": "stream",
     "text": [
      "Checking out gene ENSG00000111669\n",
      "Checking out gene ENSG00000230359\n"
     ]
    },
    {
     "name": "stderr",
     "output_type": "stream",
     "text": [
      "  2%|▏         | 58/2322 [00:09<05:45,  6.55it/s]"
     ]
    },
    {
     "name": "stdout",
     "output_type": "stream",
     "text": [
      "Checking out gene ENSG00000106633\n"
     ]
    },
    {
     "name": "stderr",
     "output_type": "stream",
     "text": [
      "  3%|▎         | 60/2322 [00:10<07:15,  5.20it/s]"
     ]
    },
    {
     "name": "stdout",
     "output_type": "stream",
     "text": [
      "Checking out gene ENSG00000156510\n",
      "Checking out gene ENSG00000156515\n"
     ]
    },
    {
     "name": "stderr",
     "output_type": "stream",
     "text": [
      "  3%|▎         | 62/2322 [00:10<06:32,  5.75it/s]"
     ]
    },
    {
     "name": "stdout",
     "output_type": "stream",
     "text": [
      "Checking out gene ENSG00000159322\n",
      "Checking out gene ENSG00000159399\n"
     ]
    },
    {
     "name": "stderr",
     "output_type": "stream",
     "text": [
      "  3%|▎         | 64/2322 [00:10<05:55,  6.35it/s]"
     ]
    },
    {
     "name": "stdout",
     "output_type": "stream",
     "text": [
      "Checking out gene ENSG00000160883\n",
      "Checking out gene ENSG00000079739\n"
     ]
    },
    {
     "name": "stderr",
     "output_type": "stream",
     "text": [
      "  3%|▎         | 66/2322 [00:11<07:51,  4.78it/s]"
     ]
    },
    {
     "name": "stdout",
     "output_type": "stream",
     "text": [
      "Checking out gene ENSG00000154330\n",
      "Checking out gene ENSG00000169299\n",
      "Checking out gene ENSG00000131482\n"
     ]
    },
    {
     "name": "stderr",
     "output_type": "stream",
     "text": [
      "  3%|▎         | 69/2322 [00:11<06:23,  5.88it/s]"
     ]
    },
    {
     "name": "stdout",
     "output_type": "stream",
     "text": [
      "Checking out gene ENSG00000141349\n",
      "Checking out gene ENSG00000152254\n"
     ]
    },
    {
     "name": "stderr",
     "output_type": "stream",
     "text": [
      "  3%|▎         | 71/2322 [00:12<06:33,  5.72it/s]"
     ]
    },
    {
     "name": "stdout",
     "output_type": "stream",
     "text": [
      "Checking out gene ENSG00000143891\n",
      "Checking out gene ENSG00000072210\n"
     ]
    },
    {
     "name": "stderr",
     "output_type": "stream",
     "text": [
      "  3%|▎         | 72/2322 [00:12<06:49,  5.50it/s]"
     ]
    },
    {
     "name": "stdout",
     "output_type": "stream",
     "text": [
      "Checking out gene ENSG00000111275\n"
     ]
    },
    {
     "name": "stderr",
     "output_type": "stream",
     "text": [
      "  3%|▎         | 74/2322 [00:12<09:01,  4.15it/s]"
     ]
    },
    {
     "name": "stdout",
     "output_type": "stream",
     "text": [
      "Checking out gene ENSG00000137124\n",
      "Checking out gene ENSG00000143149\n"
     ]
    },
    {
     "name": "stderr",
     "output_type": "stream",
     "text": [
      "  3%|▎         | 76/2322 [00:13<07:52,  4.76it/s]"
     ]
    },
    {
     "name": "stdout",
     "output_type": "stream",
     "text": [
      "Checking out gene ENSG00000164904\n",
      "Checking out gene ENSG00000121691\n"
     ]
    },
    {
     "name": "stderr",
     "output_type": "stream",
     "text": [
      "  3%|▎         | 78/2322 [00:13<07:04,  5.28it/s]"
     ]
    },
    {
     "name": "stdout",
     "output_type": "stream",
     "text": [
      "Checking out gene ENSG00000130649\n",
      "Checking out gene ENSG00000092529\n"
     ]
    },
    {
     "name": "stderr",
     "output_type": "stream",
     "text": [
      "  3%|▎         | 80/2322 [00:13<06:00,  6.22it/s]"
     ]
    },
    {
     "name": "stdout",
     "output_type": "stream",
     "text": [
      "Checking out gene ENSG00000171298\n",
      "Checking out gene ENSG00000179087\n"
     ]
    },
    {
     "name": "stderr",
     "output_type": "stream",
     "text": [
      "  4%|▎         | 82/2322 [00:14<05:48,  6.43it/s]"
     ]
    },
    {
     "name": "stdout",
     "output_type": "stream",
     "text": [
      "Checking out gene ENSG00000214013\n",
      "Checking out gene ENSG00000109814\n"
     ]
    },
    {
     "name": "stderr",
     "output_type": "stream",
     "text": [
      "  4%|▎         | 83/2322 [00:14<08:25,  4.43it/s]"
     ]
    },
    {
     "name": "stdout",
     "output_type": "stream",
     "text": [
      "Checking out gene ENSG00000118094\n"
     ]
    },
    {
     "name": "stderr",
     "output_type": "stream",
     "text": [
      "  4%|▎         | 84/2322 [00:14<08:12,  4.55it/s]"
     ]
    },
    {
     "name": "stdout",
     "output_type": "stream",
     "text": [
      "Checking out gene ENSG00000142102\n"
     ]
    },
    {
     "name": "stderr",
     "output_type": "stream",
     "text": [
      "  4%|▎         | 86/2322 [00:15<07:29,  4.98it/s]"
     ]
    },
    {
     "name": "stdout",
     "output_type": "stream",
     "text": [
      "Checking out gene ENSG00000056998\n",
      "Checking out gene ENSG00000163754\n"
     ]
    },
    {
     "name": "stderr",
     "output_type": "stream",
     "text": [
      "  4%|▍         | 88/2322 [00:15<06:56,  5.36it/s]"
     ]
    },
    {
     "name": "stdout",
     "output_type": "stream",
     "text": [
      "Checking out gene ENSG00000104812\n",
      "Checking out gene ENSG00000111713\n",
      "Checking out gene ENSG00000114480\n"
     ]
    },
    {
     "name": "stderr",
     "output_type": "stream",
     "text": [
      "  4%|▍         | 91/2322 [00:16<07:59,  4.66it/s]"
     ]
    },
    {
     "name": "stdout",
     "output_type": "stream",
     "text": [
      "Checking out gene ENSG00000068976\n",
      "Checking out gene ENSG00000100504\n",
      "Checking out gene ENSG00000100994\n"
     ]
    },
    {
     "name": "stderr",
     "output_type": "stream",
     "text": [
      "  4%|▍         | 93/2322 [00:16<06:14,  5.95it/s]"
     ]
    },
    {
     "name": "stdout",
     "output_type": "stream",
     "text": [
      "Checking out gene ENSG00000162688\n",
      "Checking out gene ENSG00000174876\n"
     ]
    },
    {
     "name": "stderr",
     "output_type": "stream",
     "text": [
      "  4%|▍         | 96/2322 [00:17<06:22,  5.83it/s]"
     ]
    },
    {
     "name": "stdout",
     "output_type": "stream",
     "text": [
      "Checking out gene ENSG00000187733\n",
      "Checking out gene ENSG00000237763\n"
     ]
    },
    {
     "name": "stderr",
     "output_type": "stream",
     "text": [
      "  4%|▍         | 98/2322 [00:17<05:57,  6.21it/s]"
     ]
    },
    {
     "name": "stdout",
     "output_type": "stream",
     "text": [
      "Checking out gene ENSG00000240038\n",
      "Checking out gene ENSG00000243480\n"
     ]
    },
    {
     "name": "stderr",
     "output_type": "stream",
     "text": [
      "  4%|▍         | 101/2322 [00:18<10:54,  3.39it/s]"
     ]
    },
    {
     "name": "stdout",
     "output_type": "stream",
     "text": [
      "Checking out gene ENSG00000090402\n",
      "Checking out gene ENSG00000119938\n",
      "Checking out gene ENSG00000173281\n"
     ]
    },
    {
     "name": "stderr",
     "output_type": "stream",
     "text": [
      "  4%|▍         | 103/2322 [00:19<08:13,  4.49it/s]"
     ]
    },
    {
     "name": "stdout",
     "output_type": "stream",
     "text": [
      "Checking out gene ENSG00000169764\n",
      "Checking out gene UGP1\n",
      "Checking out gene ENSG00000117308\n",
      "Checking out gene ENSG00000108479\n"
     ]
    },
    {
     "name": "stderr",
     "output_type": "stream",
     "text": [
      "  5%|▍         | 107/2322 [00:19<05:18,  6.95it/s]"
     ]
    },
    {
     "name": "stdout",
     "output_type": "stream",
     "text": [
      "Checking out gene ENSG00000156958\n",
      "Checking out gene ENSG00000213930\n"
     ]
    },
    {
     "name": "stderr",
     "output_type": "stream",
     "text": [
      "  5%|▍         | 109/2322 [00:19<05:00,  7.37it/s]"
     ]
    },
    {
     "name": "stdout",
     "output_type": "stream",
     "text": [
      "Checking out gene ENSG00000166262\n",
      "Checking out gene ENSG00000115850\n"
     ]
    },
    {
     "name": "stderr",
     "output_type": "stream",
     "text": [
      "  5%|▍         | 111/2322 [00:19<04:55,  7.48it/s]"
     ]
    },
    {
     "name": "stdout",
     "output_type": "stream",
     "text": [
      "Checking out gene ENSG00000163521\n",
      "Checking out gene ENSG00000170266\n"
     ]
    },
    {
     "name": "stderr",
     "output_type": "stream",
     "text": [
      "  5%|▍         | 112/2322 [00:19<04:42,  7.81it/s]"
     ]
    },
    {
     "name": "stdout",
     "output_type": "stream",
     "text": [
      "Checking out gene ENSG00000102393\n"
     ]
    },
    {
     "name": "stderr",
     "output_type": "stream",
     "text": [
      "  5%|▍         | 114/2322 [00:20<05:20,  6.89it/s]"
     ]
    },
    {
     "name": "stdout",
     "output_type": "stream",
     "text": [
      "Checking out gene ENSG00000086062\n",
      "Checking out gene ENSG00000117411\n"
     ]
    },
    {
     "name": "stderr",
     "output_type": "stream",
     "text": [
      "  5%|▍         | 116/2322 [00:20<07:09,  5.13it/s]"
     ]
    },
    {
     "name": "stdout",
     "output_type": "stream",
     "text": [
      "Checking out gene ENSG00000167531\n",
      "Checking out gene ENSG00000138030\n"
     ]
    },
    {
     "name": "stderr",
     "output_type": "stream",
     "text": [
      "  5%|▌         | 119/2322 [00:21<05:16,  6.95it/s]"
     ]
    },
    {
     "name": "stdout",
     "output_type": "stream",
     "text": [
      "Checking out gene ENSG00000085662\n",
      "Checking out gene ENSG00000198074\n",
      "Checking out gene ENSG00000114268\n"
     ]
    },
    {
     "name": "stderr",
     "output_type": "stream",
     "text": [
      "  5%|▌         | 122/2322 [00:21<04:23,  8.35it/s]"
     ]
    },
    {
     "name": "stdout",
     "output_type": "stream",
     "text": [
      "Checking out gene ENSG00000123836\n",
      "Checking out gene ENSG00000158571\n",
      "Checking out gene ENSG00000170525\n"
     ]
    },
    {
     "name": "stderr",
     "output_type": "stream",
     "text": [
      "  5%|▌         | 124/2322 [00:21<04:12,  8.71it/s]"
     ]
    },
    {
     "name": "stdout",
     "output_type": "stream",
     "text": [
      "Checking out gene ENSG00000095139\n",
      "Checking out gene ENSG00000105669\n"
     ]
    },
    {
     "name": "stderr",
     "output_type": "stream",
     "text": [
      "  5%|▌         | 126/2322 [00:22<04:41,  7.80it/s]"
     ]
    },
    {
     "name": "stdout",
     "output_type": "stream",
     "text": [
      "Checking out gene ENSG00000122218\n",
      "Checking out gene ENSG00000129083\n"
     ]
    },
    {
     "name": "stderr",
     "output_type": "stream",
     "text": [
      "  5%|▌         | 127/2322 [00:22<04:44,  7.71it/s]"
     ]
    },
    {
     "name": "stdout",
     "output_type": "stream",
     "text": [
      "Checking out gene ENSG00000181789\n",
      "Checking out gene ENSG00000184432\n"
     ]
    },
    {
     "name": "stderr",
     "output_type": "stream",
     "text": [
      "  6%|▌         | 130/2322 [00:22<04:23,  8.31it/s]"
     ]
    },
    {
     "name": "stdout",
     "output_type": "stream",
     "text": [
      "Checking out gene ENSG00000140263\n",
      "Checking out gene ENSG00000116199\n"
     ]
    },
    {
     "name": "stderr",
     "output_type": "stream",
     "text": [
      "  6%|▌         | 132/2322 [00:22<04:23,  8.33it/s]"
     ]
    },
    {
     "name": "stdout",
     "output_type": "stream",
     "text": [
      "Checking out gene ENSG00000178802\n",
      "Checking out gene ENSG00000100413\n",
      "Checking out gene ENSG00000100417\n"
     ]
    },
    {
     "name": "stderr",
     "output_type": "stream",
     "text": [
      "  6%|▌         | 134/2322 [00:22<04:13,  8.64it/s]"
     ]
    },
    {
     "name": "stdout",
     "output_type": "stream",
     "text": [
      "Checking out gene ENSG00000140650\n",
      "Checking out gene ENSG00000144591\n"
     ]
    },
    {
     "name": "stderr",
     "output_type": "stream",
     "text": [
      "  6%|▌         | 137/2322 [00:23<04:17,  8.48it/s]"
     ]
    },
    {
     "name": "stdout",
     "output_type": "stream",
     "text": [
      "Checking out gene ENSG00000164068\n",
      "Checking out gene ENSG00000173540\n",
      "Checking out gene ENSG00000112699\n"
     ]
    },
    {
     "name": "stderr",
     "output_type": "stream",
     "text": [
      "  6%|▌         | 140/2322 [00:23<05:04,  7.17it/s]"
     ]
    },
    {
     "name": "stdout",
     "output_type": "stream",
     "text": [
      "Checking out gene ENSG00000104522\n",
      "Checking out gene ENSG00000116783\n"
     ]
    },
    {
     "name": "stderr",
     "output_type": "stream",
     "text": [
      "  6%|▌         | 141/2322 [00:23<04:51,  7.49it/s]"
     ]
    },
    {
     "name": "stdout",
     "output_type": "stream",
     "text": [
      "Checking out gene ENSG00000157353\n",
      "Checking out gene ENSG00000078237\n"
     ]
    },
    {
     "name": "stderr",
     "output_type": "stream",
     "text": [
      "  6%|▌         | 144/2322 [00:24<04:24,  8.23it/s]"
     ]
    },
    {
     "name": "stdout",
     "output_type": "stream",
     "text": [
      "Checking out gene ENSG00000169738\n",
      "Checking out gene ENSG00000115425\n",
      "Checking out gene ENSG00000116353\n"
     ]
    },
    {
     "name": "stderr",
     "output_type": "stream",
     "text": [
      "  6%|▋         | 147/2322 [00:24<04:17,  8.45it/s]"
     ]
    },
    {
     "name": "stdout",
     "output_type": "stream",
     "text": [
      "Checking out gene ENSG00000093217\n",
      "Checking out gene ENSG00000053371\n"
     ]
    },
    {
     "name": "stderr",
     "output_type": "stream",
     "text": [
      "  6%|▋         | 150/2322 [00:24<03:59,  9.08it/s]"
     ]
    },
    {
     "name": "stdout",
     "output_type": "stream",
     "text": [
      "Checking out gene ENSG00000171174\n",
      "Checking out gene ENSG00000120697\n",
      "Checking out gene ENSG00000115652\n"
     ]
    },
    {
     "name": "stderr",
     "output_type": "stream",
     "text": [
      "  7%|▋         | 152/2322 [00:25<03:44,  9.68it/s]"
     ]
    },
    {
     "name": "stdout",
     "output_type": "stream",
     "text": [
      "Checking out gene ENSG00000124767\n",
      "Checking out gene ENSG00000167699\n"
     ]
    },
    {
     "name": "stderr",
     "output_type": "stream",
     "text": [
      "  7%|▋         | 154/2322 [00:25<04:32,  7.95it/s]"
     ]
    },
    {
     "name": "stdout",
     "output_type": "stream",
     "text": [
      "Checking out gene ENSG00000063854\n",
      "Checking out gene ENSG00000103253\n"
     ]
    },
    {
     "name": "stderr",
     "output_type": "stream",
     "text": [
      "  7%|▋         | 157/2322 [00:25<03:58,  9.07it/s]"
     ]
    },
    {
     "name": "stdout",
     "output_type": "stream",
     "text": [
      "Checking out gene ENSG00000166816\n",
      "Checking out gene ENSG00000182224\n",
      "Checking out gene ENSG00000082212\n"
     ]
    },
    {
     "name": "stderr",
     "output_type": "stream",
     "text": [
      "  7%|▋         | 159/2322 [00:25<03:55,  9.18it/s]"
     ]
    },
    {
     "name": "stdout",
     "output_type": "stream",
     "text": [
      "Checking out gene ENSG00000151376\n",
      "Checking out gene ENSG00000013392\n"
     ]
    },
    {
     "name": "stderr",
     "output_type": "stream",
     "text": [
      "  7%|▋         | 161/2322 [00:26<04:13,  8.52it/s]"
     ]
    },
    {
     "name": "stdout",
     "output_type": "stream",
     "text": [
      "Checking out gene ENSG00000065833\n",
      "Checking out gene ENSG00000172497\n"
     ]
    },
    {
     "name": "stderr",
     "output_type": "stream",
     "text": [
      "  7%|▋         | 162/2322 [00:26<04:20,  8.29it/s]"
     ]
    },
    {
     "name": "stdout",
     "output_type": "stream",
     "text": [
      "Checking out gene ENSG00000124253\n"
     ]
    },
    {
     "name": "stderr",
     "output_type": "stream",
     "text": [
      "  7%|▋         | 164/2322 [00:27<07:20,  4.90it/s]"
     ]
    },
    {
     "name": "stdout",
     "output_type": "stream",
     "text": [
      "Checking out gene ENSG00000100889\n",
      "Checking out gene ENSG00000173599\n"
     ]
    },
    {
     "name": "stderr",
     "output_type": "stream",
     "text": [
      "  7%|▋         | 166/2322 [00:27<07:14,  4.96it/s]"
     ]
    },
    {
     "name": "stdout",
     "output_type": "stream",
     "text": [
      "Checking out gene ENSG00000134333\n",
      "Checking out gene ENSG00000137106\n"
     ]
    },
    {
     "name": "stderr",
     "output_type": "stream",
     "text": [
      "  7%|▋         | 168/2322 [00:28<08:13,  4.37it/s]"
     ]
    },
    {
     "name": "stdout",
     "output_type": "stream",
     "text": [
      "Checking out gene ENSG00000148090\n",
      "Checking out gene ENSG00000111271\n"
     ]
    },
    {
     "name": "stderr",
     "output_type": "stream",
     "text": [
      "  7%|▋         | 170/2322 [00:28<06:43,  5.34it/s]"
     ]
    },
    {
     "name": "stdout",
     "output_type": "stream",
     "text": [
      "Checking out gene ENSG00000117054\n",
      "Checking out gene ENSG00000122971\n"
     ]
    },
    {
     "name": "stderr",
     "output_type": "stream",
     "text": [
      "  7%|▋         | 172/2322 [00:28<06:07,  5.84it/s]"
     ]
    },
    {
     "name": "stdout",
     "output_type": "stream",
     "text": [
      "Checking out gene ENSG00000151498\n",
      "Checking out gene ENSG00000177646\n"
     ]
    },
    {
     "name": "stderr",
     "output_type": "stream",
     "text": [
      "  7%|▋         | 173/2322 [00:28<05:28,  6.55it/s]"
     ]
    },
    {
     "name": "stdout",
     "output_type": "stream",
     "text": [
      "Checking out gene ENSG00000196177\n"
     ]
    },
    {
     "name": "stderr",
     "output_type": "stream",
     "text": [
      "  8%|▊         | 175/2322 [00:30<12:48,  2.79it/s]"
     ]
    },
    {
     "name": "stdout",
     "output_type": "stream",
     "text": [
      "Checking out gene ENSG00000240303\n",
      "Checking out gene ENSG00000103150\n"
     ]
    },
    {
     "name": "stderr",
     "output_type": "stream",
     "text": [
      "  8%|▊         | 177/2322 [00:30<09:09,  3.90it/s]"
     ]
    },
    {
     "name": "stdout",
     "output_type": "stream",
     "text": [
      "Checking out gene ENSG00000119711\n",
      "Checking out gene ENSG00000116133\n"
     ]
    },
    {
     "name": "stderr",
     "output_type": "stream",
     "text": [
      "  8%|▊         | 180/2322 [00:30<05:46,  6.18it/s]"
     ]
    },
    {
     "name": "stdout",
     "output_type": "stream",
     "text": [
      "Checking out gene ENSG00000198130\n",
      "Checking out gene ENSG00000087076\n",
      "Checking out gene ENSG00000099377\n"
     ]
    },
    {
     "name": "stderr",
     "output_type": "stream",
     "text": [
      "  8%|▊         | 182/2322 [00:30<05:21,  6.65it/s]"
     ]
    },
    {
     "name": "stdout",
     "output_type": "stream",
     "text": [
      "Checking out gene ENSG00000109854\n",
      "Checking out gene ENSG00000112474\n"
     ]
    },
    {
     "name": "stderr",
     "output_type": "stream",
     "text": [
      "  8%|▊         | 183/2322 [00:31<04:58,  7.15it/s]"
     ]
    },
    {
     "name": "stdout",
     "output_type": "stream",
     "text": [
      "Checking out gene ENSG00000121039\n",
      "Checking out gene ENSG00000138400\n"
     ]
    },
    {
     "name": "stderr",
     "output_type": "stream",
     "text": [
      "  8%|▊         | 185/2322 [00:31<05:06,  6.96it/s]"
     ]
    },
    {
     "name": "stdout",
     "output_type": "stream",
     "text": [
      "Checking out gene ENSG00000139988\n",
      "Checking out gene ENSG00000145439\n"
     ]
    },
    {
     "name": "stderr",
     "output_type": "stream",
     "text": [
      "  8%|▊         | 188/2322 [00:31<04:47,  7.42it/s]"
     ]
    },
    {
     "name": "stdout",
     "output_type": "stream",
     "text": [
      "Checking out gene ENSG00000159692\n",
      "Checking out gene ENSG00000160439\n"
     ]
    },
    {
     "name": "stderr",
     "output_type": "stream",
     "text": [
      "  8%|▊         | 190/2322 [00:31<04:12,  8.46it/s]"
     ]
    },
    {
     "name": "stdout",
     "output_type": "stream",
     "text": [
      "Checking out gene ENSG00000164039\n",
      "Checking out gene ENSG00000170426\n"
     ]
    },
    {
     "name": "stderr",
     "output_type": "stream",
     "text": [
      "  8%|▊         | 191/2322 [00:32<05:14,  6.77it/s]"
     ]
    },
    {
     "name": "stdout",
     "output_type": "stream",
     "text": [
      "Checking out gene ENSG00000170786\n",
      "Checking out gene ENSG00000176387\n"
     ]
    },
    {
     "name": "stderr",
     "output_type": "stream",
     "text": [
      "  8%|▊         | 195/2322 [00:32<04:41,  7.55it/s]"
     ]
    },
    {
     "name": "stdout",
     "output_type": "stream",
     "text": [
      "Checking out gene ENSG00000187134\n",
      "Checking out gene ENSG00000198189\n",
      "Checking out gene ENSG00000198610\n"
     ]
    },
    {
     "name": "stderr",
     "output_type": "stream",
     "text": [
      "  8%|▊         | 197/2322 [00:32<04:25,  7.99it/s]"
     ]
    },
    {
     "name": "stdout",
     "output_type": "stream",
     "text": [
      "Checking out gene ENSG00000204228\n",
      "Checking out gene ENSG00000240857\n"
     ]
    },
    {
     "name": "stderr",
     "output_type": "stream",
     "text": [
      "  9%|▊         | 199/2322 [00:33<04:14,  8.34it/s]"
     ]
    },
    {
     "name": "stdout",
     "output_type": "stream",
     "text": [
      "Checking out gene ENSG00000087299\n",
      "Checking out gene ENSG00000092621\n"
     ]
    },
    {
     "name": "stderr",
     "output_type": "stream",
     "text": [
      "  9%|▊         | 200/2322 [00:33<04:07,  8.58it/s]"
     ]
    },
    {
     "name": "stdout",
     "output_type": "stream",
     "text": [
      "Checking out gene ENSG00000120437\n",
      "Checking out gene ENSG00000081760\n"
     ]
    },
    {
     "name": "stderr",
     "output_type": "stream",
     "text": [
      "  9%|▊         | 203/2322 [00:33<04:01,  8.78it/s]"
     ]
    },
    {
     "name": "stdout",
     "output_type": "stream",
     "text": [
      "Checking out gene ENSG00000161267\n",
      "Checking out gene ENSG00000112972\n"
     ]
    },
    {
     "name": "stderr",
     "output_type": "stream",
     "text": [
      "  9%|▉         | 204/2322 [00:33<05:08,  6.86it/s]"
     ]
    },
    {
     "name": "stdout",
     "output_type": "stream",
     "text": [
      "Checking out gene ENSG00000134240\n",
      "Checking out gene ENSG00000121310\n"
     ]
    },
    {
     "name": "stderr",
     "output_type": "stream",
     "text": [
      "  9%|▉         | 207/2322 [00:34<04:34,  7.69it/s]"
     ]
    },
    {
     "name": "stdout",
     "output_type": "stream",
     "text": [
      "Checking out gene ENSG00000101911\n",
      "Checking out gene ENSG00000147224\n"
     ]
    },
    {
     "name": "stderr",
     "output_type": "stream",
     "text": [
      "  9%|▉         | 209/2322 [00:34<04:05,  8.60it/s]"
     ]
    },
    {
     "name": "stdout",
     "output_type": "stream",
     "text": [
      "Checking out gene ENSG00000229937\n",
      "Checking out gene ENSG00000160211\n"
     ]
    },
    {
     "name": "stderr",
     "output_type": "stream",
     "text": [
      "  9%|▉         | 211/2322 [00:34<04:29,  7.84it/s]"
     ]
    },
    {
     "name": "stdout",
     "output_type": "stream",
     "text": [
      "Checking out gene ENSG00000158019\n",
      "Checking out gene ENSG00000153574\n"
     ]
    },
    {
     "name": "stderr",
     "output_type": "stream",
     "text": [
      "  9%|▉         | 213/2322 [00:34<04:11,  8.37it/s]"
     ]
    },
    {
     "name": "stdout",
     "output_type": "stream",
     "text": [
      "Checking out gene ENSG00000023697\n",
      "Checking out gene ENSG00000007350\n"
     ]
    },
    {
     "name": "stderr",
     "output_type": "stream",
     "text": [
      "  9%|▉         | 215/2322 [00:35<04:03,  8.66it/s]"
     ]
    },
    {
     "name": "stdout",
     "output_type": "stream",
     "text": [
      "Checking out gene ENSG00000151005\n",
      "Checking out gene ENSG00000163931\n",
      "Checking out gene ENSG00000142657\n"
     ]
    },
    {
     "name": "stderr",
     "output_type": "stream",
     "text": [
      "  9%|▉         | 218/2322 [00:35<03:44,  9.38it/s]"
     ]
    },
    {
     "name": "stdout",
     "output_type": "stream",
     "text": [
      "Checking out gene ENSG00000130066\n",
      "Checking out gene ENSG00000141504\n",
      "Checking out gene ENSG00000197713\n"
     ]
    },
    {
     "name": "stderr",
     "output_type": "stream",
     "text": [
      " 10%|▉         | 222/2322 [00:35<03:24, 10.25it/s]"
     ]
    },
    {
     "name": "stdout",
     "output_type": "stream",
     "text": [
      "Checking out gene ENSG00000177156\n",
      "Checking out gene ENSG00000049239\n",
      "Checking out gene ENSG00000130313\n"
     ]
    },
    {
     "name": "stderr",
     "output_type": "stream",
     "text": [
      " 10%|▉         | 224/2322 [00:35<03:33,  9.82it/s]"
     ]
    },
    {
     "name": "stdout",
     "output_type": "stream",
     "text": [
      "Checking out gene ENSG00000054179\n",
      "Checking out gene ENSG00000138185\n"
     ]
    },
    {
     "name": "stderr",
     "output_type": "stream",
     "text": [
      " 10%|▉         | 227/2322 [00:36<03:41,  9.45it/s]"
     ]
    },
    {
     "name": "stdout",
     "output_type": "stream",
     "text": [
      "Checking out gene ENSG00000168032\n",
      "Checking out gene ENSG00000171302\n",
      "Checking out gene ENSG00000187097\n"
     ]
    },
    {
     "name": "stderr",
     "output_type": "stream",
     "text": [
      " 10%|▉         | 229/2322 [00:36<03:31,  9.90it/s]"
     ]
    },
    {
     "name": "stdout",
     "output_type": "stream",
     "text": [
      "Checking out gene ENSG00000188833\n",
      "Checking out gene ENSG00000197217\n"
     ]
    },
    {
     "name": "stderr",
     "output_type": "stream",
     "text": [
      " 10%|▉         | 232/2322 [00:36<03:37,  9.59it/s]"
     ]
    },
    {
     "name": "stdout",
     "output_type": "stream",
     "text": [
      "Checking out gene ENSG00000197586\n",
      "Checking out gene ENSG00000061918\n",
      "Checking out gene ENSG00000070019\n"
     ]
    },
    {
     "name": "stderr",
     "output_type": "stream",
     "text": [
      " 10%|█         | 235/2322 [00:37<03:35,  9.68it/s]"
     ]
    },
    {
     "name": "stdout",
     "output_type": "stream",
     "text": [
      "Checking out gene ENSG00000078295\n",
      "Checking out gene ENSG00000101890\n",
      "Checking out gene ENSG00000121281\n"
     ]
    },
    {
     "name": "stderr",
     "output_type": "stream",
     "text": [
      " 10%|█         | 237/2322 [00:37<03:29,  9.95it/s]"
     ]
    },
    {
     "name": "stdout",
     "output_type": "stream",
     "text": [
      "Checking out gene ENSG00000123201\n",
      "Checking out gene ENSG00000129467\n"
     ]
    },
    {
     "name": "stderr",
     "output_type": "stream",
     "text": [
      " 10%|█         | 239/2322 [00:37<04:14,  8.19it/s]"
     ]
    },
    {
     "name": "stdout",
     "output_type": "stream",
     "text": [
      "Checking out gene ENSG00000132518\n",
      "Checking out gene ENSG00000138031\n",
      "Checking out gene ENSG00000143199\n"
     ]
    },
    {
     "name": "stderr",
     "output_type": "stream",
     "text": [
      " 10%|█         | 243/2322 [00:38<06:39,  5.20it/s]"
     ]
    },
    {
     "name": "stdout",
     "output_type": "stream",
     "text": [
      "Checking out gene ENSG00000152402\n",
      "Checking out gene ENSG00000155897\n",
      "Checking out gene ENSG00000159899\n"
     ]
    },
    {
     "name": "stderr",
     "output_type": "stream",
     "text": [
      " 11%|█         | 246/2322 [00:39<05:07,  6.75it/s]"
     ]
    },
    {
     "name": "stdout",
     "output_type": "stream",
     "text": [
      "Checking out gene ENSG00000162104\n",
      "Checking out gene ENSG00000164116\n",
      "Checking out gene ENSG00000164742\n"
     ]
    },
    {
     "name": "stderr",
     "output_type": "stream",
     "text": [
      " 11%|█         | 248/2322 [00:39<04:55,  7.01it/s]"
     ]
    },
    {
     "name": "stdout",
     "output_type": "stream",
     "text": [
      "Checking out gene ENSG00000169418\n",
      "Checking out gene ENSG00000173175\n",
      "Checking out gene ENSG00000174233\n"
     ]
    },
    {
     "name": "stderr",
     "output_type": "stream",
     "text": [
      " 11%|█         | 251/2322 [00:39<04:26,  7.77it/s]"
     ]
    },
    {
     "name": "stdout",
     "output_type": "stream",
     "text": [
      "Checking out gene ENSG00000004455\n",
      "Checking out gene ENSG00000106992\n"
     ]
    },
    {
     "name": "stderr",
     "output_type": "stream",
     "text": [
      " 11%|█         | 253/2322 [00:39<04:06,  8.40it/s]"
     ]
    },
    {
     "name": "stdout",
     "output_type": "stream",
     "text": [
      "Checking out gene ENSG00000140057\n",
      "Checking out gene ENSG00000147853\n"
     ]
    },
    {
     "name": "stderr",
     "output_type": "stream",
     "text": [
      " 11%|█         | 254/2322 [00:39<04:01,  8.56it/s]"
     ]
    },
    {
     "name": "stdout",
     "output_type": "stream",
     "text": [
      "Checking out gene ENSG00000154027\n"
     ]
    },
    {
     "name": "stderr",
     "output_type": "stream",
     "text": [
      " 11%|█         | 256/2322 [00:40<04:44,  7.26it/s]"
     ]
    },
    {
     "name": "stdout",
     "output_type": "stream",
     "text": [
      "Checking out gene ENSG00000162433\n",
      "Checking out gene ENSG00000165695\n"
     ]
    },
    {
     "name": "stderr",
     "output_type": "stream",
     "text": [
      " 11%|█         | 257/2322 [00:40<04:31,  7.62it/s]"
     ]
    },
    {
     "name": "stdout",
     "output_type": "stream",
     "text": [
      "Checking out gene ENSG00000014257\n",
      "Checking out gene ENSG00000076685\n"
     ]
    },
    {
     "name": "stderr",
     "output_type": "stream",
     "text": [
      " 11%|█         | 260/2322 [00:40<04:22,  7.86it/s]"
     ]
    },
    {
     "name": "stdout",
     "output_type": "stream",
     "text": [
      "Checking out gene ENSG00000116981\n",
      "Checking out gene ENSG00000122643\n"
     ]
    },
    {
     "name": "stderr",
     "output_type": "stream",
     "text": [
      " 11%|█▏        | 262/2322 [00:41<04:12,  8.14it/s]"
     ]
    },
    {
     "name": "stdout",
     "output_type": "stream",
     "text": [
      "Checking out gene ENSG00000125458\n",
      "Checking out gene ENSG00000135318\n"
     ]
    },
    {
     "name": "stderr",
     "output_type": "stream",
     "text": [
      " 11%|█▏        | 264/2322 [00:41<03:39,  9.37it/s]"
     ]
    },
    {
     "name": "stdout",
     "output_type": "stream",
     "text": [
      "Checking out gene ENSG00000141698\n",
      "Checking out gene ENSG00000185013\n"
     ]
    },
    {
     "name": "stderr",
     "output_type": "stream",
     "text": [
      " 11%|█▏        | 267/2322 [00:41<03:45,  9.10it/s]"
     ]
    },
    {
     "name": "stdout",
     "output_type": "stream",
     "text": [
      "Checking out gene ENSG00000205309\n",
      "Checking out gene ENSG00000156110\n",
      "Checking out gene ENSG00000156136\n"
     ]
    },
    {
     "name": "stderr",
     "output_type": "stream",
     "text": [
      " 12%|█▏        | 269/2322 [00:41<04:06,  8.31it/s]"
     ]
    },
    {
     "name": "stdout",
     "output_type": "stream",
     "text": [
      "Checking out gene ENSG00000065989\n",
      "Checking out gene ENSG00000073417\n"
     ]
    },
    {
     "name": "stderr",
     "output_type": "stream",
     "text": [
      " 12%|█▏        | 271/2322 [00:42<04:07,  8.29it/s]"
     ]
    },
    {
     "name": "stdout",
     "output_type": "stream",
     "text": [
      "Checking out gene ENSG00000095464\n",
      "Checking out gene ENSG00000105650\n"
     ]
    },
    {
     "name": "stderr",
     "output_type": "stream",
     "text": [
      " 12%|█▏        | 273/2322 [00:42<04:11,  8.15it/s]"
     ]
    },
    {
     "name": "stdout",
     "output_type": "stream",
     "text": [
      "Checking out gene ENSG00000112541\n",
      "Checking out gene ENSG00000113231\n"
     ]
    },
    {
     "name": "stderr",
     "output_type": "stream",
     "text": [
      " 12%|█▏        | 275/2322 [00:42<03:56,  8.65it/s]"
     ]
    },
    {
     "name": "stdout",
     "output_type": "stream",
     "text": [
      "Checking out gene ENSG00000113448\n",
      "Checking out gene ENSG00000115252\n",
      "Checking out gene ENSG00000123360\n"
     ]
    },
    {
     "name": "stderr",
     "output_type": "stream",
     "text": [
      " 12%|█▏        | 278/2322 [00:42<03:37,  9.39it/s]"
     ]
    },
    {
     "name": "stdout",
     "output_type": "stream",
     "text": [
      "Checking out gene ENSG00000128655\n",
      "Checking out gene ENSG00000132915\n",
      "Checking out gene ENSG00000133256\n"
     ]
    },
    {
     "name": "stderr",
     "output_type": "stream",
     "text": [
      " 12%|█▏        | 281/2322 [00:43<03:42,  9.19it/s]"
     ]
    },
    {
     "name": "stdout",
     "output_type": "stream",
     "text": [
      "Checking out gene ENSG00000137496\n",
      "Checking out gene ENSG00000138735\n"
     ]
    },
    {
     "name": "stderr",
     "output_type": "stream",
     "text": [
      " 12%|█▏        | 283/2322 [00:43<03:53,  8.74it/s]"
     ]
    },
    {
     "name": "stdout",
     "output_type": "stream",
     "text": [
      "Checking out gene ENSG00000139053\n",
      "Checking out gene ENSG00000152270\n"
     ]
    },
    {
     "name": "stderr",
     "output_type": "stream",
     "text": [
      " 12%|█▏        | 285/2322 [00:43<04:06,  8.27it/s]"
     ]
    },
    {
     "name": "stdout",
     "output_type": "stream",
     "text": [
      "Checking out gene ENSG00000154678\n",
      "Checking out gene ENSG00000156973\n"
     ]
    },
    {
     "name": "stderr",
     "output_type": "stream",
     "text": [
      " 12%|█▏        | 288/2322 [00:43<03:40,  9.23it/s]"
     ]
    },
    {
     "name": "stdout",
     "output_type": "stream",
     "text": [
      "Checking out gene ENSG00000160191\n",
      "Checking out gene ENSG00000171408\n",
      "Checking out gene ENSG00000172572\n"
     ]
    },
    {
     "name": "stderr",
     "output_type": "stream",
     "text": [
      " 13%|█▎        | 291/2322 [00:44<03:25,  9.87it/s]"
     ]
    },
    {
     "name": "stdout",
     "output_type": "stream",
     "text": [
      "Checking out gene ENSG00000184588\n",
      "Checking out gene ENSG00000185527\n",
      "Checking out gene ENSG00000186642\n"
     ]
    },
    {
     "name": "stderr",
     "output_type": "stream",
     "text": [
      " 13%|█▎        | 293/2322 [00:44<03:45,  9.00it/s]"
     ]
    },
    {
     "name": "stdout",
     "output_type": "stream",
     "text": [
      "Checking out gene ENSG00000205268\n",
      "Checking out gene ENSG00000011052\n"
     ]
    },
    {
     "name": "stderr",
     "output_type": "stream",
     "text": [
      " 13%|█▎        | 295/2322 [00:44<03:35,  9.41it/s]"
     ]
    },
    {
     "name": "stdout",
     "output_type": "stream",
     "text": [
      "Checking out gene ENSG00000103024\n",
      "Checking out gene ENSG00000103202\n",
      "Checking out gene ENSG00000112981\n"
     ]
    },
    {
     "name": "stderr",
     "output_type": "stream",
     "text": [
      " 13%|█▎        | 297/2322 [00:44<03:25,  9.83it/s]"
     ]
    },
    {
     "name": "stdout",
     "output_type": "stream",
     "text": [
      "Checking out gene ENSG00000143156\n",
      "Checking out gene ENSG00000172113\n"
     ]
    },
    {
     "name": "stderr",
     "output_type": "stream",
     "text": [
      " 13%|█▎        | 300/2322 [00:45<03:49,  8.81it/s]"
     ]
    },
    {
     "name": "stdout",
     "output_type": "stream",
     "text": [
      "Checking out gene ENSG00000239672\n",
      "Checking out gene ENSG00000243678\n"
     ]
    },
    {
     "name": "stderr",
     "output_type": "stream",
     "text": [
      " 13%|█▎        | 301/2322 [00:45<03:49,  8.79it/s]"
     ]
    },
    {
     "name": "stdout",
     "output_type": "stream",
     "text": [
      "Checking out gene ENSG00000143774\n",
      "Checking out gene ENSG00000138363\n"
     ]
    },
    {
     "name": "stderr",
     "output_type": "stream",
     "text": [
      " 13%|█▎        | 304/2322 [00:45<04:04,  8.26it/s]"
     ]
    },
    {
     "name": "stdout",
     "output_type": "stream",
     "text": [
      "Checking out gene ENSG00000106348\n",
      "Checking out gene ENSG00000178035\n"
     ]
    },
    {
     "name": "stderr",
     "output_type": "stream",
     "text": [
      " 13%|█▎        | 306/2322 [00:46<04:11,  8.02it/s]"
     ]
    },
    {
     "name": "stdout",
     "output_type": "stream",
     "text": [
      "Checking out gene ENSG00000035687\n",
      "Checking out gene ENSG00000185100\n"
     ]
    },
    {
     "name": "stderr",
     "output_type": "stream",
     "text": [
      " 13%|█▎        | 308/2322 [00:46<03:54,  8.60it/s]"
     ]
    },
    {
     "name": "stdout",
     "output_type": "stream",
     "text": [
      "Checking out gene ENSG00000163655\n",
      "Checking out gene ENSG00000116337\n"
     ]
    },
    {
     "name": "stderr",
     "output_type": "stream",
     "text": [
      " 13%|█▎        | 310/2322 [00:46<03:52,  8.67it/s]"
     ]
    },
    {
     "name": "stdout",
     "output_type": "stream",
     "text": [
      "Checking out gene ENSG00000116748\n",
      "Checking out gene ENSG00000133805\n"
     ]
    },
    {
     "name": "stderr",
     "output_type": "stream",
     "text": [
      " 13%|█▎        | 312/2322 [00:46<03:29,  9.59it/s]"
     ]
    },
    {
     "name": "stdout",
     "output_type": "stream",
     "text": [
      "Checking out gene ENSG00000198931\n",
      "Checking out gene ENSG00000125877\n"
     ]
    },
    {
     "name": "stderr",
     "output_type": "stream",
     "text": [
      " 14%|█▎        | 314/2322 [00:46<03:45,  8.89it/s]"
     ]
    },
    {
     "name": "stdout",
     "output_type": "stream",
     "text": [
      "Checking out gene ENSG00000128059\n",
      "Checking out gene ENSG00000100354\n"
     ]
    },
    {
     "name": "stderr",
     "output_type": "stream",
     "text": [
      " 14%|█▎        | 317/2322 [00:47<03:30,  9.53it/s]"
     ]
    },
    {
     "name": "stdout",
     "output_type": "stream",
     "text": [
      "Checking out gene ENSG00000239900\n",
      "Checking out gene ENSG00000165704\n",
      "Checking out gene ENSG00000100938\n"
     ]
    },
    {
     "name": "stderr",
     "output_type": "stream",
     "text": [
      " 14%|█▎        | 318/2322 [00:47<03:38,  9.17it/s]"
     ]
    },
    {
     "name": "stdout",
     "output_type": "stream",
     "text": [
      "Checking out gene ENSG00000137198\n",
      "Checking out gene ENSG00000072778\n"
     ]
    },
    {
     "name": "stderr",
     "output_type": "stream",
     "text": [
      " 14%|█▍        | 321/2322 [00:47<03:33,  9.36it/s]"
     ]
    },
    {
     "name": "stdout",
     "output_type": "stream",
     "text": [
      "Checking out gene ENSG00000087008\n",
      "Checking out gene ENSG00000093072\n",
      "Checking out gene ENSG00000196839\n"
     ]
    },
    {
     "name": "stderr",
     "output_type": "stream",
     "text": [
      " 14%|█▍        | 325/2322 [00:48<03:57,  8.42it/s]"
     ]
    },
    {
     "name": "stdout",
     "output_type": "stream",
     "text": [
      "Checking out gene ENSG00000119125\n",
      "Checking out gene ENSG00000158125\n",
      "Checking out gene ENSG00000198805\n"
     ]
    },
    {
     "name": "stderr",
     "output_type": "stream",
     "text": [
      " 14%|█▍        | 328/2322 [00:48<03:29,  9.51it/s]"
     ]
    },
    {
     "name": "stdout",
     "output_type": "stream",
     "text": [
      "Checking out gene ENSG00000114956\n",
      "Checking out gene ENSG00000025708\n",
      "Checking out gene ENSG00000048392\n"
     ]
    },
    {
     "name": "stderr",
     "output_type": "stream",
     "text": [
      " 14%|█▍        | 331/2322 [00:48<03:23,  9.78it/s]"
     ]
    },
    {
     "name": "stdout",
     "output_type": "stream",
     "text": [
      "Checking out gene ENSG00000136810\n",
      "Checking out gene ENSG00000167325\n",
      "Checking out gene ENSG00000171848\n"
     ]
    },
    {
     "name": "stderr",
     "output_type": "stream",
     "text": [
      " 14%|█▍        | 332/2322 [00:48<03:43,  8.90it/s]"
     ]
    },
    {
     "name": "stdout",
     "output_type": "stream",
     "text": [
      "Checking out gene ENSG00000159131\n"
     ]
    },
    {
     "name": "stderr",
     "output_type": "stream",
     "text": [
      " 14%|█▍        | 333/2322 [00:49<09:13,  3.59it/s]"
     ]
    },
    {
     "name": "stdout",
     "output_type": "stream",
     "text": [
      "Checking out gene ENSG00000128050\n",
      "Checking out gene ENSG00000178921\n"
     ]
    },
    {
     "name": "stderr",
     "output_type": "stream",
     "text": [
      " 14%|█▍        | 336/2322 [00:50<06:46,  4.89it/s]"
     ]
    },
    {
     "name": "stdout",
     "output_type": "stream",
     "text": [
      "Checking out gene ENSG00000130717\n",
      "Checking out gene ENSG00000143179\n"
     ]
    },
    {
     "name": "stderr",
     "output_type": "stream",
     "text": [
      " 15%|█▍        | 337/2322 [00:50<06:43,  4.92it/s]"
     ]
    },
    {
     "name": "stdout",
     "output_type": "stream",
     "text": [
      "Checking out gene ENSG00000198276\n",
      "Checking out gene ENSG00000151360\n"
     ]
    },
    {
     "name": "stderr",
     "output_type": "stream",
     "text": [
      " 15%|█▍        | 339/2322 [00:50<05:30,  6.00it/s]"
     ]
    },
    {
     "name": "stdout",
     "output_type": "stream",
     "text": [
      "Checking out gene ENSG00000117592\n",
      "Checking out gene ENSG00000121053\n"
     ]
    },
    {
     "name": "stderr",
     "output_type": "stream",
     "text": [
      " 15%|█▍        | 342/2322 [00:51<05:26,  6.06it/s]"
     ]
    },
    {
     "name": "stdout",
     "output_type": "stream",
     "text": [
      "Checking out gene ENSG00000147485\n",
      "Checking out gene ENSG00000167419\n"
     ]
    },
    {
     "name": "stderr",
     "output_type": "stream",
     "text": [
      " 15%|█▍        | 344/2322 [00:51<04:39,  7.09it/s]"
     ]
    },
    {
     "name": "stdout",
     "output_type": "stream",
     "text": [
      "Checking out gene ENSG00000165609\n",
      "Checking out gene ENSG00000113492\n"
     ]
    },
    {
     "name": "stderr",
     "output_type": "stream",
     "text": [
      " 15%|█▍        | 346/2322 [00:51<04:48,  6.85it/s]"
     ]
    },
    {
     "name": "stdout",
     "output_type": "stream",
     "text": [
      "Checking out gene ENSG00000184470\n",
      "Checking out gene ENSG00000197763\n"
     ]
    },
    {
     "name": "stderr",
     "output_type": "stream",
     "text": [
      " 15%|█▍        | 347/2322 [00:51<04:28,  7.37it/s]"
     ]
    },
    {
     "name": "stdout",
     "output_type": "stream",
     "text": [
      "Checking out gene ENSG00000198431\n"
     ]
    },
    {
     "name": "stderr",
     "output_type": "stream",
     "text": [
      " 15%|█▌        | 349/2322 [00:52<05:10,  6.36it/s]"
     ]
    },
    {
     "name": "stdout",
     "output_type": "stream",
     "text": [
      "Checking out gene ENSG00000162368\n",
      "Checking out gene ENSG00000047230\n"
     ]
    },
    {
     "name": "stderr",
     "output_type": "stream",
     "text": [
      " 15%|█▌        | 351/2322 [00:52<04:21,  7.55it/s]"
     ]
    },
    {
     "name": "stdout",
     "output_type": "stream",
     "text": [
      "Checking out gene ENSG00000171793\n",
      "Checking out gene ENSG00000084774\n"
     ]
    },
    {
     "name": "stderr",
     "output_type": "stream",
     "text": [
      " 15%|█▌        | 353/2322 [00:53<07:14,  4.54it/s]"
     ]
    },
    {
     "name": "stdout",
     "output_type": "stream",
     "text": [
      "Checking out gene ENSG00000114491\n",
      "Checking out gene ENSG00000154269\n"
     ]
    },
    {
     "name": "stderr",
     "output_type": "stream",
     "text": [
      " 15%|█▌        | 355/2322 [00:53<05:31,  5.93it/s]"
     ]
    },
    {
     "name": "stdout",
     "output_type": "stream",
     "text": [
      "Checking out gene ENSG00000183828\n",
      "Checking out gene ENSG00000197594\n",
      "Checking out gene ENSG00000188641\n"
     ]
    },
    {
     "name": "stderr",
     "output_type": "stream",
     "text": [
      " 15%|█▌        | 359/2322 [00:53<04:02,  8.09it/s]"
     ]
    },
    {
     "name": "stdout",
     "output_type": "stream",
     "text": [
      "Checking out gene ENSG00000092964\n",
      "Checking out gene ENSG00000113657\n",
      "Checking out gene ENSG00000147647\n"
     ]
    },
    {
     "name": "stderr",
     "output_type": "stream",
     "text": [
      " 16%|█▌        | 362/2322 [00:54<04:04,  8.01it/s]"
     ]
    },
    {
     "name": "stdout",
     "output_type": "stream",
     "text": [
      "Checking out gene ENSG00000111732\n",
      "Checking out gene ENSG00000158825\n",
      "Checking out gene ENSG00000007001\n",
      "Checking out gene ENSG00000183696\n"
     ]
    },
    {
     "name": "stderr",
     "output_type": "stream",
     "text": [
      " 16%|█▌        | 365/2322 [00:54<03:55,  8.30it/s]"
     ]
    },
    {
     "name": "stdout",
     "output_type": "stream",
     "text": [
      "Checking out gene ENSG00000173627\n",
      "Checking out gene ENSG00000168393\n"
     ]
    },
    {
     "name": "stderr",
     "output_type": "stream",
     "text": [
      " 16%|█▌        | 367/2322 [00:54<03:38,  8.93it/s]"
     ]
    },
    {
     "name": "stdout",
     "output_type": "stream",
     "text": [
      "Checking out gene ENSG00000128951\n",
      "Checking out gene ENSG00000176890\n"
     ]
    },
    {
     "name": "stderr",
     "output_type": "stream",
     "text": [
      " 16%|█▌        | 369/2322 [00:55<07:36,  4.28it/s]"
     ]
    },
    {
     "name": "stdout",
     "output_type": "stream",
     "text": [
      "Checking out gene ENSG00000100024\n",
      "Checking out gene ENSG00000167900\n"
     ]
    },
    {
     "name": "stderr",
     "output_type": "stream",
     "text": [
      " 16%|█▌        | 371/2322 [00:55<06:07,  5.31it/s]"
     ]
    },
    {
     "name": "stdout",
     "output_type": "stream",
     "text": [
      "Checking out gene ENSG00000166548\n",
      "Checking out gene ENSG00000134326\n",
      "Checking out gene ENSG00000087470\n"
     ]
    },
    {
     "name": "stderr",
     "output_type": "stream",
     "text": [
      " 16%|█▌        | 375/2322 [00:56<05:08,  6.31it/s]"
     ]
    },
    {
     "name": "stdout",
     "output_type": "stream",
     "text": [
      "Checking out gene ENSG00000101210\n",
      "Checking out gene ENSG00000106976\n",
      "Checking out gene ENSG00000140598\n"
     ]
    },
    {
     "name": "stderr",
     "output_type": "stream",
     "text": [
      " 16%|█▌        | 377/2322 [00:56<04:38,  6.99it/s]"
     ]
    },
    {
     "name": "stdout",
     "output_type": "stream",
     "text": [
      "Checking out gene ENSG00000156508\n",
      "Checking out gene ENSG00000164347\n",
      "Checking out gene ENSG00000167658\n"
     ]
    },
    {
     "name": "stderr",
     "output_type": "stream",
     "text": [
      " 16%|█▋        | 379/2322 [00:56<04:20,  7.46it/s]"
     ]
    },
    {
     "name": "stdout",
     "output_type": "stream",
     "text": [
      "Checking out gene ENSG00000168827\n",
      "Checking out gene ENSG00000178952\n"
     ]
    },
    {
     "name": "stderr",
     "output_type": "stream",
     "text": [
      " 16%|█▋        | 382/2322 [00:57<03:58,  8.13it/s]"
     ]
    },
    {
     "name": "stdout",
     "output_type": "stream",
     "text": [
      "Checking out gene ENSG00000197959\n",
      "Checking out gene ENSG00000138801\n"
     ]
    },
    {
     "name": "stderr",
     "output_type": "stream",
     "text": [
      " 17%|█▋        | 385/2322 [00:57<03:36,  8.94it/s]"
     ]
    },
    {
     "name": "stdout",
     "output_type": "stream",
     "text": [
      "Checking out gene ENSG00000198682\n",
      "Checking out gene ENSG00000129187\n",
      "Checking out gene ENSG00000014138\n"
     ]
    },
    {
     "name": "stderr",
     "output_type": "stream",
     "text": [
      " 17%|█▋        | 387/2322 [00:57<03:26,  9.38it/s]"
     ]
    },
    {
     "name": "stdout",
     "output_type": "stream",
     "text": [
      "Checking out gene ENSG00000051341\n",
      "Checking out gene ENSG00000070501\n"
     ]
    },
    {
     "name": "stderr",
     "output_type": "stream",
     "text": [
      " 17%|█▋        | 388/2322 [00:57<03:27,  9.31it/s]"
     ]
    },
    {
     "name": "stdout",
     "output_type": "stream",
     "text": [
      "Checking out gene ENSG00000077514\n",
      "Checking out gene ENSG00000100479\n"
     ]
    },
    {
     "name": "stderr",
     "output_type": "stream",
     "text": [
      " 17%|█▋        | 392/2322 [00:58<03:19,  9.65it/s]"
     ]
    },
    {
     "name": "stdout",
     "output_type": "stream",
     "text": [
      "Checking out gene ENSG00000101751\n",
      "Checking out gene ENSG00000101868\n",
      "Checking out gene ENSG00000106628\n"
     ]
    },
    {
     "name": "stderr",
     "output_type": "stream",
     "text": [
      " 17%|█▋        | 394/2322 [00:58<03:18,  9.69it/s]"
     ]
    },
    {
     "name": "stdout",
     "output_type": "stream",
     "text": [
      "Checking out gene ENSG00000112941\n",
      "Checking out gene ENSG00000132382\n"
     ]
    },
    {
     "name": "stderr",
     "output_type": "stream",
     "text": [
      " 17%|█▋        | 397/2322 [00:58<03:22,  9.52it/s]"
     ]
    },
    {
     "name": "stdout",
     "output_type": "stream",
     "text": [
      "Checking out gene ENSG00000170734\n",
      "Checking out gene ENSG00000005075\n",
      "Checking out gene ENSG00000013503\n",
      "Checking out gene ENSG00000039523\n"
     ]
    },
    {
     "name": "stderr",
     "output_type": "stream",
     "text": [
      " 17%|█▋        | 399/2322 [00:59<04:22,  7.32it/s]"
     ]
    },
    {
     "name": "stdout",
     "output_type": "stream",
     "text": [
      "Checking out gene ENSG00000047315\n",
      "Checking out gene ENSG00000068654\n"
     ]
    },
    {
     "name": "stderr",
     "output_type": "stream",
     "text": [
      " 17%|█▋        | 402/2322 [00:59<04:16,  7.49it/s]"
     ]
    },
    {
     "name": "stdout",
     "output_type": "stream",
     "text": [
      "Checking out gene ENSG00000099817\n",
      "Checking out gene ENSG00000099821\n"
     ]
    },
    {
     "name": "stderr",
     "output_type": "stream",
     "text": [
      " 17%|█▋        | 404/2322 [00:59<03:52,  8.25it/s]"
     ]
    },
    {
     "name": "stdout",
     "output_type": "stream",
     "text": [
      "Checking out gene ENSG00000100142\n",
      "Checking out gene ENSG00000105258\n"
     ]
    },
    {
     "name": "stderr",
     "output_type": "stream",
     "text": [
      " 17%|█▋        | 406/2322 [00:59<04:01,  7.92it/s]"
     ]
    },
    {
     "name": "stdout",
     "output_type": "stream",
     "text": [
      "Checking out gene ENSG00000107951\n",
      "Checking out gene ENSG00000115421\n"
     ]
    },
    {
     "name": "stderr",
     "output_type": "stream",
     "text": [
      " 18%|█▊        | 409/2322 [01:00<03:57,  8.07it/s]"
     ]
    },
    {
     "name": "stdout",
     "output_type": "stream",
     "text": [
      "Checking out gene ENSG00000121851\n",
      "Checking out gene ENSG00000132664\n",
      "Checking out gene ENSG00000137054\n"
     ]
    },
    {
     "name": "stderr",
     "output_type": "stream",
     "text": [
      " 18%|█▊        | 411/2322 [01:00<03:53,  8.20it/s]"
     ]
    },
    {
     "name": "stdout",
     "output_type": "stream",
     "text": [
      "Checking out gene ENSG00000144231\n",
      "Checking out gene ENSG00000148606\n",
      "Checking out gene ENSG00000163882\n"
     ]
    },
    {
     "name": "stderr",
     "output_type": "stream",
     "text": [
      " 18%|█▊        | 414/2322 [01:00<03:29,  9.12it/s]"
     ]
    },
    {
     "name": "stdout",
     "output_type": "stream",
     "text": [
      "Checking out gene ENSG00000164329\n",
      "Checking out gene ENSG00000168002\n"
     ]
    },
    {
     "name": "stderr",
     "output_type": "stream",
     "text": [
      " 18%|█▊        | 416/2322 [01:01<03:16,  9.68it/s]"
     ]
    },
    {
     "name": "stdout",
     "output_type": "stream",
     "text": [
      "Checking out gene ENSG00000171453\n",
      "Checking out gene ENSG00000181222\n"
     ]
    },
    {
     "name": "stderr",
     "output_type": "stream",
     "text": [
      " 18%|█▊        | 418/2322 [01:02<11:03,  2.87it/s]"
     ]
    },
    {
     "name": "stdout",
     "output_type": "stream",
     "text": [
      "Checking out gene ENSG00000186184\n",
      "Checking out gene ENSG00000218823\n"
     ]
    },
    {
     "name": "stderr",
     "output_type": "stream",
     "text": [
      " 18%|█▊        | 421/2322 [01:03<06:34,  4.82it/s]"
     ]
    },
    {
     "name": "stdout",
     "output_type": "stream",
     "text": [
      "Checking out gene ENSG00000138035\n",
      "Checking out gene ENSG00000113456\n",
      "Checking out gene ENSG00000134575\n"
     ]
    },
    {
     "name": "stderr",
     "output_type": "stream",
     "text": [
      " 18%|█▊        | 423/2322 [01:03<05:11,  6.09it/s]"
     ]
    },
    {
     "name": "stdout",
     "output_type": "stream",
     "text": [
      "Checking out gene ENSG00000148672\n",
      "Checking out gene ENSG00000182890\n",
      "Checking out gene ENSG00000130707\n"
     ]
    },
    {
     "name": "stderr",
     "output_type": "stream",
     "text": [
      " 18%|█▊        | 426/2322 [01:03<04:08,  7.64it/s]"
     ]
    },
    {
     "name": "stdout",
     "output_type": "stream",
     "text": [
      "Checking out gene ENSG00000126522\n",
      "Checking out gene ENSG00000241258\n",
      "Checking out gene ENSG00000159423\n"
     ]
    },
    {
     "name": "stderr",
     "output_type": "stream",
     "text": [
      " 18%|█▊        | 429/2322 [01:03<04:03,  7.79it/s]"
     ]
    },
    {
     "name": "stdout",
     "output_type": "stream",
     "text": [
      "Checking out gene ENSG00000125166\n",
      "Checking out gene ENSG00000120053\n"
     ]
    },
    {
     "name": "stderr",
     "output_type": "stream",
     "text": [
      " 19%|█▊        | 431/2322 [01:04<03:46,  8.36it/s]"
     ]
    },
    {
     "name": "stdout",
     "output_type": "stream",
     "text": [
      "Checking out gene ENSG00000169154\n",
      "Checking out gene ENSG00000091483\n",
      "Checking out gene ENSG00000162174\n"
     ]
    },
    {
     "name": "stderr",
     "output_type": "stream",
     "text": [
      " 19%|█▊        | 435/2322 [01:04<03:49,  8.22it/s]"
     ]
    },
    {
     "name": "stdout",
     "output_type": "stream",
     "text": [
      "Checking out gene ENSG00000166183\n",
      "Checking out gene ENSG00000104687\n",
      "Checking out gene ENSG00000021826\n"
     ]
    },
    {
     "name": "stderr",
     "output_type": "stream",
     "text": [
      " 19%|█▉        | 437/2322 [01:04<03:32,  8.89it/s]"
     ]
    },
    {
     "name": "stdout",
     "output_type": "stream",
     "text": [
      "Checking out gene ENSG00000135821\n",
      "Checking out gene ENSG00000146166\n",
      "Checking out gene ENSG00000115419\n"
     ]
    },
    {
     "name": "stderr",
     "output_type": "stream",
     "text": [
      " 19%|█▉        | 440/2322 [01:05<03:41,  8.49it/s]"
     ]
    },
    {
     "name": "stdout",
     "output_type": "stream",
     "text": [
      "Checking out gene ENSG00000135423\n",
      "Checking out gene ENSG00000167701\n"
     ]
    },
    {
     "name": "stderr",
     "output_type": "stream",
     "text": [
      " 19%|█▉        | 442/2322 [01:05<03:27,  9.07it/s]"
     ]
    },
    {
     "name": "stdout",
     "output_type": "stream",
     "text": [
      "Checking out gene ENSG00000070669\n",
      "Checking out gene ENSG00000166123\n"
     ]
    },
    {
     "name": "stderr",
     "output_type": "stream",
     "text": [
      " 19%|█▉        | 444/2322 [01:05<03:24,  9.17it/s]"
     ]
    },
    {
     "name": "stdout",
     "output_type": "stream",
     "text": [
      "Checking out gene ENSG00000114021\n",
      "Checking out gene ENSG00000171097\n",
      "Checking out gene ENSG00000109576\n"
     ]
    },
    {
     "name": "stderr",
     "output_type": "stream",
     "text": [
      " 19%|█▉        | 446/2322 [01:05<03:17,  9.52it/s]"
     ]
    },
    {
     "name": "stdout",
     "output_type": "stream",
     "text": [
      "Checking out gene ENSG00000137944\n",
      "Checking out gene ENSG00000128683\n"
     ]
    },
    {
     "name": "stderr",
     "output_type": "stream",
     "text": [
      " 19%|█▉        | 448/2322 [01:06<03:15,  9.58it/s]"
     ]
    },
    {
     "name": "stdout",
     "output_type": "stream",
     "text": [
      "Checking out gene ENSG00000136750\n",
      "Checking out gene ENSG00000183044\n"
     ]
    },
    {
     "name": "stderr",
     "output_type": "stream",
     "text": [
      " 19%|█▉        | 452/2322 [01:06<03:09,  9.88it/s]"
     ]
    },
    {
     "name": "stdout",
     "output_type": "stream",
     "text": [
      "Checking out gene ENSG00000198650\n",
      "Checking out gene ENSG00000161653\n",
      "Checking out gene ENSG00000108381\n"
     ]
    },
    {
     "name": "stderr",
     "output_type": "stream",
     "text": [
      " 20%|█▉        | 454/2322 [01:06<03:03, 10.19it/s]"
     ]
    },
    {
     "name": "stdout",
     "output_type": "stream",
     "text": [
      "Checking out gene ENSG00000132744\n",
      "Checking out gene ENSG00000006625\n",
      "Checking out gene ENSG00000203797\n"
     ]
    },
    {
     "name": "stderr",
     "output_type": "stream",
     "text": [
      " 20%|█▉        | 457/2322 [01:07<03:41,  8.40it/s]"
     ]
    },
    {
     "name": "stdout",
     "output_type": "stream",
     "text": [
      "Checking out gene ENSG00000147471\n",
      "Checking out gene ENSG00000065154\n"
     ]
    },
    {
     "name": "stderr",
     "output_type": "stream",
     "text": [
      " 20%|█▉        | 459/2322 [01:07<03:34,  8.67it/s]"
     ]
    },
    {
     "name": "stdout",
     "output_type": "stream",
     "text": [
      "Checking out gene ENSG00000036473\n",
      "Checking out gene ENSG00000081181\n"
     ]
    },
    {
     "name": "stderr",
     "output_type": "stream",
     "text": [
      " 20%|█▉        | 460/2322 [01:08<09:56,  3.12it/s]"
     ]
    },
    {
     "name": "stdout",
     "output_type": "stream",
     "text": [
      "Checking out gene ENSG00000118520\n"
     ]
    },
    {
     "name": "stderr",
     "output_type": "stream",
     "text": [
      " 20%|█▉        | 463/2322 [01:08<06:49,  4.54it/s]"
     ]
    },
    {
     "name": "stdout",
     "output_type": "stream",
     "text": [
      "Checking out gene ENSG00000104524\n",
      "Checking out gene ENSG00000143811\n",
      "Checking out gene ENSG00000183010\n"
     ]
    },
    {
     "name": "stderr",
     "output_type": "stream",
     "text": [
      " 20%|██        | 465/2322 [01:09<05:16,  5.86it/s]"
     ]
    },
    {
     "name": "stdout",
     "output_type": "stream",
     "text": [
      "Checking out gene ENSG00000100033\n",
      "Checking out gene ENSG00000250799\n"
     ]
    },
    {
     "name": "stderr",
     "output_type": "stream",
     "text": [
      " 20%|██        | 467/2322 [01:09<04:15,  7.25it/s]"
     ]
    },
    {
     "name": "stdout",
     "output_type": "stream",
     "text": [
      "Checking out gene ENSG00000059573\n",
      "Checking out gene ENSG00000169239\n",
      "Checking out gene ENSG00000174990\n"
     ]
    },
    {
     "name": "stderr",
     "output_type": "stream",
     "text": [
      " 20%|██        | 471/2322 [01:09<03:36,  8.53it/s]"
     ]
    },
    {
     "name": "stdout",
     "output_type": "stream",
     "text": [
      "Checking out gene ENSG00000007171\n",
      "Checking out gene ENSG00000089250\n",
      "Checking out gene ENSG00000164867\n"
     ]
    },
    {
     "name": "stderr",
     "output_type": "stream",
     "text": [
      " 20%|██        | 473/2322 [01:09<03:20,  9.20it/s]"
     ]
    },
    {
     "name": "stdout",
     "output_type": "stream",
     "text": [
      "Checking out gene ENSG00000167494\n",
      "Checking out gene ENSG00000264216\n"
     ]
    },
    {
     "name": "stderr",
     "output_type": "stream",
     "text": [
      " 20%|██        | 475/2322 [01:10<03:41,  8.34it/s]"
     ]
    },
    {
     "name": "stdout",
     "output_type": "stream",
     "text": [
      "Checking out gene ENSG00000123505\n",
      "Checking out gene ENSG00000116649\n"
     ]
    },
    {
     "name": "stderr",
     "output_type": "stream",
     "text": [
      " 20%|██        | 476/2322 [01:10<03:34,  8.60it/s]"
     ]
    },
    {
     "name": "stdout",
     "output_type": "stream",
     "text": [
      "Checking out gene ENSG00000102172\n"
     ]
    },
    {
     "name": "stderr",
     "output_type": "stream",
     "text": [
      " 21%|██        | 478/2322 [01:10<05:19,  5.78it/s]"
     ]
    },
    {
     "name": "stdout",
     "output_type": "stream",
     "text": [
      "Checking out gene ENSG00000142920\n",
      "Checking out gene ENSG00000115758\n"
     ]
    },
    {
     "name": "stderr",
     "output_type": "stream",
     "text": [
      " 21%|██        | 480/2322 [01:11<04:13,  7.26it/s]"
     ]
    },
    {
     "name": "stdout",
     "output_type": "stream",
     "text": [
      "Checking out gene ENSG00000002726\n",
      "Checking out gene ENSG00000131471\n",
      "Checking out gene ENSG00000131480\n"
     ]
    },
    {
     "name": "stderr",
     "output_type": "stream",
     "text": [
      " 21%|██        | 483/2322 [01:12<08:04,  3.79it/s]"
     ]
    },
    {
     "name": "stdout",
     "output_type": "stream",
     "text": [
      "Checking out gene ENSG00000116771\n",
      "Checking out gene ENSG00000130005\n"
     ]
    },
    {
     "name": "stderr",
     "output_type": "stream",
     "text": [
      " 21%|██        | 485/2322 [01:12<06:04,  5.04it/s]"
     ]
    },
    {
     "name": "stdout",
     "output_type": "stream",
     "text": [
      "Checking out gene ENSG00000172508\n",
      "Checking out gene ENSG00000133313\n",
      "Checking out gene ENSG00000150656\n"
     ]
    },
    {
     "name": "stderr",
     "output_type": "stream",
     "text": [
      " 21%|██        | 487/2322 [01:12<05:00,  6.11it/s]"
     ]
    },
    {
     "name": "stdout",
     "output_type": "stream",
     "text": [
      "Checking out gene ENSG00000122884\n"
     ]
    },
    {
     "name": "stderr",
     "output_type": "stream",
     "text": [
      " 21%|██        | 489/2322 [01:13<05:27,  5.60it/s]"
     ]
    },
    {
     "name": "stdout",
     "output_type": "stream",
     "text": [
      "Checking out gene ENSG00000149380\n",
      "Checking out gene ENSG00000241935\n"
     ]
    },
    {
     "name": "stderr",
     "output_type": "stream",
     "text": [
      " 21%|██        | 491/2322 [01:13<04:27,  6.86it/s]"
     ]
    },
    {
     "name": "stdout",
     "output_type": "stream",
     "text": [
      "Checking out gene ENSG00000099810\n",
      "Checking out gene ENSG00000064763\n"
     ]
    },
    {
     "name": "stderr",
     "output_type": "stream",
     "text": [
      " 21%|██        | 493/2322 [01:13<04:03,  7.53it/s]"
     ]
    },
    {
     "name": "stdout",
     "output_type": "stream",
     "text": [
      "Checking out gene ENSG00000118514\n",
      "Checking out gene ENSG00000197601\n",
      "Checking out gene ENSG00000088826\n"
     ]
    },
    {
     "name": "stderr",
     "output_type": "stream",
     "text": [
      " 21%|██▏       | 496/2322 [01:13<03:49,  7.94it/s]"
     ]
    },
    {
     "name": "stdout",
     "output_type": "stream",
     "text": [
      "Checking out gene ENSG00000148832\n",
      "Checking out gene ENSG00000095059\n"
     ]
    },
    {
     "name": "stderr",
     "output_type": "stream",
     "text": [
      " 21%|██▏       | 498/2322 [01:14<03:50,  7.90it/s]"
     ]
    },
    {
     "name": "stdout",
     "output_type": "stream",
     "text": [
      "Checking out gene ENSG00000114786\n",
      "Checking out gene ENSG00000243989\n"
     ]
    },
    {
     "name": "stderr",
     "output_type": "stream",
     "text": [
      " 22%|██▏       | 501/2322 [01:14<03:25,  8.87it/s]"
     ]
    },
    {
     "name": "stdout",
     "output_type": "stream",
     "text": [
      "Checking out gene ENSG00000104879\n",
      "Checking out gene ENSG00000131730\n",
      "Checking out gene ENSG00000166165\n"
     ]
    },
    {
     "name": "stderr",
     "output_type": "stream",
     "text": [
      " 22%|██▏       | 503/2322 [01:14<03:25,  8.85it/s]"
     ]
    },
    {
     "name": "stdout",
     "output_type": "stream",
     "text": [
      "Checking out gene ENSG00000223572\n",
      "Checking out gene ENSG00000237289\n",
      "Checking out gene ENSG00000123453\n"
     ]
    },
    {
     "name": "stderr",
     "output_type": "stream",
     "text": [
      " 22%|██▏       | 506/2322 [01:14<03:23,  8.92it/s]"
     ]
    },
    {
     "name": "stdout",
     "output_type": "stream",
     "text": [
      "Checking out gene ENSG00000069535\n",
      "Checking out gene ENSG00000189221\n"
     ]
    },
    {
     "name": "stderr",
     "output_type": "stream",
     "text": [
      " 22%|██▏       | 508/2322 [01:15<03:16,  9.22it/s]"
     ]
    },
    {
     "name": "stdout",
     "output_type": "stream",
     "text": [
      "Checking out gene ENSG00000110887\n",
      "Checking out gene ENSG00000112294\n"
     ]
    },
    {
     "name": "stderr",
     "output_type": "stream",
     "text": [
      " 22%|██▏       | 511/2322 [01:15<03:08,  9.62it/s]"
     ]
    },
    {
     "name": "stdout",
     "output_type": "stream",
     "text": [
      "Checking out gene ENSG00000137261\n",
      "Checking out gene ENSG00000168237\n",
      "Checking out gene ENSG00000149124\n"
     ]
    },
    {
     "name": "stderr",
     "output_type": "stream",
     "text": [
      " 22%|██▏       | 513/2322 [01:15<03:16,  9.21it/s]"
     ]
    },
    {
     "name": "stdout",
     "output_type": "stream",
     "text": [
      "Checking out gene ENSG00000166840\n",
      "Checking out gene ENSG00000134882\n"
     ]
    },
    {
     "name": "stderr",
     "output_type": "stream",
     "text": [
      " 22%|██▏       | 515/2322 [01:15<03:11,  9.42it/s]"
     ]
    },
    {
     "name": "stdout",
     "output_type": "stream",
     "text": [
      "Checking out gene ENSG00000135069\n",
      "Checking out gene ENSG00000146733\n",
      "Checking out gene ENSG00000226278\n"
     ]
    },
    {
     "name": "stderr",
     "output_type": "stream",
     "text": [
      " 22%|██▏       | 518/2322 [01:16<03:07,  9.60it/s]"
     ]
    },
    {
     "name": "stdout",
     "output_type": "stream",
     "text": [
      "Checking out gene ENSG00000176974\n",
      "Checking out gene ENSG00000100116\n"
     ]
    },
    {
     "name": "stderr",
     "output_type": "stream",
     "text": [
      " 22%|██▏       | 520/2322 [01:16<04:33,  6.60it/s]"
     ]
    },
    {
     "name": "stdout",
     "output_type": "stream",
     "text": [
      "Checking out gene ENSG00000179761\n",
      "Checking out gene ENSG00000135094\n"
     ]
    },
    {
     "name": "stderr",
     "output_type": "stream",
     "text": [
      " 22%|██▏       | 522/2322 [01:16<04:02,  7.43it/s]"
     ]
    },
    {
     "name": "stdout",
     "output_type": "stream",
     "text": [
      "Checking out gene ENSG00000139410\n",
      "Checking out gene ENSG00000167720\n"
     ]
    },
    {
     "name": "stderr",
     "output_type": "stream",
     "text": [
      " 23%|██▎       | 524/2322 [01:17<03:54,  7.67it/s]"
     ]
    },
    {
     "name": "stdout",
     "output_type": "stream",
     "text": [
      "Checking out gene ENSG00000124713\n",
      "Checking out gene ENSG00000023330\n"
     ]
    },
    {
     "name": "stderr",
     "output_type": "stream",
     "text": [
      " 23%|██▎       | 527/2322 [01:17<03:15,  9.19it/s]"
     ]
    },
    {
     "name": "stdout",
     "output_type": "stream",
     "text": [
      "Checking out gene ENSG00000158578\n",
      "Checking out gene ENSG00000178773\n",
      "Checking out gene ENSG00000172482\n"
     ]
    },
    {
     "name": "stderr",
     "output_type": "stream",
     "text": [
      " 23%|██▎       | 529/2322 [01:17<03:40,  8.13it/s]"
     ]
    },
    {
     "name": "stdout",
     "output_type": "stream",
     "text": [
      "Checking out gene ENSG00000178922\n",
      "Checking out gene ENSG00000171766\n"
     ]
    },
    {
     "name": "stderr",
     "output_type": "stream",
     "text": [
      " 23%|██▎       | 530/2322 [01:17<03:33,  8.39it/s]"
     ]
    },
    {
     "name": "stdout",
     "output_type": "stream",
     "text": [
      "Checking out gene ENSG00000016391\n"
     ]
    },
    {
     "name": "stderr",
     "output_type": "stream",
     "text": [
      " 23%|██▎       | 531/2322 [01:18<05:43,  5.21it/s]"
     ]
    },
    {
     "name": "stdout",
     "output_type": "stream",
     "text": [
      "Checking out gene ENSG00000132840\n"
     ]
    },
    {
     "name": "stderr",
     "output_type": "stream",
     "text": [
      " 23%|██▎       | 533/2322 [01:18<06:11,  4.82it/s]"
     ]
    },
    {
     "name": "stdout",
     "output_type": "stream",
     "text": [
      "Checking out gene ENSG00000145692\n",
      "Checking out gene ENSG00000090857\n",
      "Checking out gene ENSG00000132837\n"
     ]
    },
    {
     "name": "stderr",
     "output_type": "stream",
     "text": [
      " 23%|██▎       | 537/2322 [01:19<05:07,  5.80it/s]"
     ]
    },
    {
     "name": "stdout",
     "output_type": "stream",
     "text": [
      "Checking out gene ENSG00000182199\n",
      "Checking out gene ENSG00000099998\n",
      "Checking out gene ENSG00000100031\n"
     ]
    },
    {
     "name": "stderr",
     "output_type": "stream",
     "text": [
      " 23%|██▎       | 539/2322 [01:19<05:21,  5.55it/s]"
     ]
    },
    {
     "name": "stdout",
     "output_type": "stream",
     "text": [
      "Checking out gene ENSG00000100121\n",
      "Checking out gene ENSG00000131067\n"
     ]
    },
    {
     "name": "stderr",
     "output_type": "stream",
     "text": [
      " 23%|██▎       | 540/2322 [01:19<04:46,  6.22it/s]"
     ]
    },
    {
     "name": "stdout",
     "output_type": "stream",
     "text": [
      "Checking out gene ENSG00000133475\n"
     ]
    },
    {
     "name": "stderr",
     "output_type": "stream",
     "text": [
      " 23%|██▎       | 542/2322 [01:20<05:58,  4.97it/s]"
     ]
    },
    {
     "name": "stdout",
     "output_type": "stream",
     "text": [
      "Checking out gene ENSG00000167741\n",
      "Checking out gene ENSG00000183038\n"
     ]
    },
    {
     "name": "stderr",
     "output_type": "stream",
     "text": [
      " 23%|██▎       | 544/2322 [01:20<04:39,  6.35it/s]"
     ]
    },
    {
     "name": "stdout",
     "output_type": "stream",
     "text": [
      "Checking out gene ENSG00000140905\n",
      "Checking out gene ENSG00000145020\n"
     ]
    },
    {
     "name": "stderr",
     "output_type": "stream",
     "text": [
      " 24%|██▎       | 546/2322 [01:20<04:14,  6.97it/s]"
     ]
    },
    {
     "name": "stdout",
     "output_type": "stream",
     "text": [
      "Checking out gene ENSG00000178445\n",
      "Checking out gene ENSG00000101323\n"
     ]
    },
    {
     "name": "stderr",
     "output_type": "stream",
     "text": [
      " 24%|██▎       | 548/2322 [01:21<04:12,  7.04it/s]"
     ]
    },
    {
     "name": "stdout",
     "output_type": "stream",
     "text": [
      "Checking out gene ENSG00000116882\n",
      "Checking out gene ENSG00000136877\n"
     ]
    },
    {
     "name": "stderr",
     "output_type": "stream",
     "text": [
      " 24%|██▎       | 551/2322 [01:21<03:28,  8.48it/s]"
     ]
    },
    {
     "name": "stdout",
     "output_type": "stream",
     "text": [
      "Checking out gene ENSG00000137563\n",
      "Checking out gene ENSG00000102030\n",
      "Checking out gene ENSG00000122390\n"
     ]
    },
    {
     "name": "stderr",
     "output_type": "stream",
     "text": [
      " 24%|██▍       | 554/2322 [01:21<03:05,  9.52it/s]"
     ]
    },
    {
     "name": "stdout",
     "output_type": "stream",
     "text": [
      "Checking out gene ENSG00000164134\n",
      "Checking out gene ENSG00000132437\n",
      "Checking out gene ENSG00000140287\n"
     ]
    },
    {
     "name": "stderr",
     "output_type": "stream",
     "text": [
      " 24%|██▍       | 555/2322 [01:21<03:04,  9.56it/s]"
     ]
    },
    {
     "name": "stdout",
     "output_type": "stream",
     "text": [
      "Checking out gene ENSG00000150540\n"
     ]
    },
    {
     "name": "stderr",
     "output_type": "stream",
     "text": [
      " 24%|██▍       | 557/2322 [01:22<03:58,  7.39it/s]"
     ]
    },
    {
     "name": "stdout",
     "output_type": "stream",
     "text": [
      "Checking out gene ENSG00000084110\n",
      "Checking out gene ENSG00000160282\n"
     ]
    },
    {
     "name": "stderr",
     "output_type": "stream",
     "text": [
      " 24%|██▍       | 559/2322 [01:22<04:21,  6.73it/s]"
     ]
    },
    {
     "name": "stdout",
     "output_type": "stream",
     "text": [
      "Checking out gene ENSG00000139344\n",
      "Checking out gene ENSG00000159650\n"
     ]
    },
    {
     "name": "stderr",
     "output_type": "stream",
     "text": [
      " 24%|██▍       | 560/2322 [01:22<04:04,  7.21it/s]"
     ]
    },
    {
     "name": "stdout",
     "output_type": "stream",
     "text": [
      "Checking out gene ENSG00000068903\n"
     ]
    },
    {
     "name": "stderr",
     "output_type": "stream",
     "text": [
      " 24%|██▍       | 562/2322 [01:23<04:26,  6.59it/s]"
     ]
    },
    {
     "name": "stdout",
     "output_type": "stream",
     "text": [
      "Checking out gene ENSG00000096717\n",
      "Checking out gene ENSG00000124523\n"
     ]
    },
    {
     "name": "stderr",
     "output_type": "stream",
     "text": [
      " 24%|██▍       | 563/2322 [01:23<04:10,  7.02it/s]"
     ]
    },
    {
     "name": "stdout",
     "output_type": "stream",
     "text": [
      "Checking out gene ENSG00000124596\n",
      "Checking out gene ENSG00000133315\n"
     ]
    },
    {
     "name": "stderr",
     "output_type": "stream",
     "text": [
      " 24%|██▍       | 565/2322 [01:23<03:45,  7.78it/s]"
     ]
    },
    {
     "name": "stdout",
     "output_type": "stream",
     "text": [
      "Checking out gene ENSG00000138744\n"
     ]
    },
    {
     "name": "stderr",
     "output_type": "stream",
     "text": [
      " 24%|██▍       | 568/2322 [01:23<04:02,  7.22it/s]"
     ]
    },
    {
     "name": "stdout",
     "output_type": "stream",
     "text": [
      "Checking out gene ENSG00000142082\n",
      "Checking out gene ENSG00000156795\n"
     ]
    },
    {
     "name": "stderr",
     "output_type": "stream",
     "text": [
      " 25%|██▍       | 570/2322 [01:24<03:31,  8.29it/s]"
     ]
    },
    {
     "name": "stdout",
     "output_type": "stream",
     "text": [
      "Checking out gene ENSG00000006695\n",
      "Checking out gene ENSG00000117682\n",
      "Checking out gene ENSG00000183665\n"
     ]
    },
    {
     "name": "stderr",
     "output_type": "stream",
     "text": [
      " 25%|██▍       | 572/2322 [01:24<03:21,  8.68it/s]"
     ]
    },
    {
     "name": "stdout",
     "output_type": "stream",
     "text": [
      "Checking out gene ENSG00000012660\n",
      "Checking out gene ENSG00000066322\n"
     ]
    },
    {
     "name": "stderr",
     "output_type": "stream",
     "text": [
      " 25%|██▍       | 575/2322 [01:24<03:10,  9.18it/s]"
     ]
    },
    {
     "name": "stdout",
     "output_type": "stream",
     "text": [
      "Checking out gene ENSG00000118402\n",
      "Checking out gene ENSG00000119915\n",
      "Checking out gene ENSG00000164181\n"
     ]
    },
    {
     "name": "stderr",
     "output_type": "stream",
     "text": [
      " 25%|██▍       | 577/2322 [01:24<03:43,  7.79it/s]"
     ]
    },
    {
     "name": "stdout",
     "output_type": "stream",
     "text": [
      "Checking out gene ENSG00000170522\n",
      "Checking out gene ENSG00000197977\n"
     ]
    },
    {
     "name": "stderr",
     "output_type": "stream",
     "text": [
      " 25%|██▍       | 580/2322 [01:25<03:13,  8.99it/s]"
     ]
    },
    {
     "name": "stdout",
     "output_type": "stream",
     "text": [
      "Checking out gene ENSG00000105953\n",
      "Checking out gene ENSG00000119689\n",
      "Checking out gene ENSG00000181192\n"
     ]
    },
    {
     "name": "stderr",
     "output_type": "stream",
     "text": [
      " 25%|██▌       | 581/2322 [01:25<03:18,  8.79it/s]"
     ]
    },
    {
     "name": "stdout",
     "output_type": "stream",
     "text": [
      "Checking out gene ENSG00000197444\n",
      "Checking out gene ENSG00000005483\n"
     ]
    },
    {
     "name": "stderr",
     "output_type": "stream",
     "text": [
      " 25%|██▌       | 583/2322 [01:25<04:45,  6.09it/s]"
     ]
    },
    {
     "name": "stdout",
     "output_type": "stream",
     "text": [
      "Checking out gene ENSG00000099381\n",
      "Checking out gene ENSG00000104885\n"
     ]
    },
    {
     "name": "stderr",
     "output_type": "stream",
     "text": [
      " 25%|██▌       | 586/2322 [01:26<04:07,  7.01it/s]"
     ]
    },
    {
     "name": "stdout",
     "output_type": "stream",
     "text": [
      "Checking out gene ENSG00000105663\n",
      "Checking out gene ENSG00000108799\n"
     ]
    },
    {
     "name": "stderr",
     "output_type": "stream",
     "text": [
      " 25%|██▌       | 588/2322 [01:26<03:40,  7.87it/s]"
     ]
    },
    {
     "name": "stdout",
     "output_type": "stream",
     "text": [
      "Checking out gene ENSG00000109685\n",
      "Checking out gene ENSG00000110066\n"
     ]
    },
    {
     "name": "stderr",
     "output_type": "stream",
     "text": [
      " 25%|██▌       | 590/2322 [01:26<04:53,  5.90it/s]"
     ]
    },
    {
     "name": "stdout",
     "output_type": "stream",
     "text": [
      "Checking out gene ENSG00000118058\n",
      "Checking out gene ENSG00000136169\n"
     ]
    },
    {
     "name": "stderr",
     "output_type": "stream",
     "text": [
      " 25%|██▌       | 592/2322 [01:27<04:02,  7.14it/s]"
     ]
    },
    {
     "name": "stdout",
     "output_type": "stream",
     "text": [
      "Checking out gene ENSG00000139718\n",
      "Checking out gene ENSG00000147548\n"
     ]
    },
    {
     "name": "stderr",
     "output_type": "stream",
     "text": [
      " 26%|██▌       | 594/2322 [01:27<03:47,  7.59it/s]"
     ]
    },
    {
     "name": "stdout",
     "output_type": "stream",
     "text": [
      "Checking out gene ENSG00000152455\n",
      "Checking out gene ENSG00000185420\n"
     ]
    },
    {
     "name": "stderr",
     "output_type": "stream",
     "text": [
      " 26%|██▌       | 596/2322 [01:27<03:26,  8.38it/s]"
     ]
    },
    {
     "name": "stdout",
     "output_type": "stream",
     "text": [
      "Checking out gene ENSG00000008311\n",
      "Checking out gene ENSG00000143653\n"
     ]
    },
    {
     "name": "stderr",
     "output_type": "stream",
     "text": [
      " 26%|██▌       | 597/2322 [01:27<03:22,  8.52it/s]"
     ]
    },
    {
     "name": "stdout",
     "output_type": "stream",
     "text": [
      "Checking out gene ENSG00000079931\n",
      "Checking out gene ENSG00000123454\n"
     ]
    },
    {
     "name": "stderr",
     "output_type": "stream",
     "text": [
      " 26%|██▌       | 600/2322 [01:28<04:23,  6.54it/s]"
     ]
    },
    {
     "name": "stdout",
     "output_type": "stream",
     "text": [
      "Checking out gene ENSG00000114902\n",
      "Checking out gene ENSG00000118363\n"
     ]
    },
    {
     "name": "stderr",
     "output_type": "stream",
     "text": [
      " 26%|██▌       | 602/2322 [01:28<03:47,  7.55it/s]"
     ]
    },
    {
     "name": "stdout",
     "output_type": "stream",
     "text": [
      "Checking out gene ENSG00000129128\n",
      "Checking out gene ENSG00000185973\n",
      "Checking out gene ENSG00000129151\n"
     ]
    },
    {
     "name": "stderr",
     "output_type": "stream",
     "text": [
      " 26%|██▌       | 605/2322 [01:28<03:20,  8.57it/s]"
     ]
    },
    {
     "name": "stdout",
     "output_type": "stream",
     "text": [
      "Checking out gene ENSG00000106397\n",
      "Checking out gene ENSG00000152952\n"
     ]
    },
    {
     "name": "stderr",
     "output_type": "stream",
     "text": [
      " 26%|██▌       | 607/2322 [01:29<03:28,  8.23it/s]"
     ]
    },
    {
     "name": "stdout",
     "output_type": "stream",
     "text": [
      "Checking out gene ENSG00000167123\n",
      "Checking out gene ENSG00000198756\n"
     ]
    },
    {
     "name": "stderr",
     "output_type": "stream",
     "text": [
      " 26%|██▌       | 609/2322 [01:29<03:18,  8.61it/s]"
     ]
    },
    {
     "name": "stdout",
     "output_type": "stream",
     "text": [
      "Checking out gene ENSG00000183032\n",
      "Checking out gene ENSG00000084754\n"
     ]
    },
    {
     "name": "stderr",
     "output_type": "stream",
     "text": [
      " 26%|██▋       | 611/2322 [01:29<03:17,  8.65it/s]"
     ]
    },
    {
     "name": "stdout",
     "output_type": "stream",
     "text": [
      "Checking out gene ENSG00000127884\n",
      "Checking out gene ENSG00000072506\n",
      "Checking out gene ENSG00000138796\n"
     ]
    },
    {
     "name": "stderr",
     "output_type": "stream",
     "text": [
      " 26%|██▋       | 613/2322 [01:29<03:06,  9.14it/s]"
     ]
    },
    {
     "name": "stdout",
     "output_type": "stream",
     "text": [
      "Checking out gene ENSG00000075239\n",
      "Checking out gene ENSG00000138061\n"
     ]
    },
    {
     "name": "stderr",
     "output_type": "stream",
     "text": [
      " 27%|██▋       | 616/2322 [01:30<03:23,  8.39it/s]"
     ]
    },
    {
     "name": "stdout",
     "output_type": "stream",
     "text": [
      "Checking out gene ENSG00000140465\n",
      "Checking out gene ENSG00000140505\n"
     ]
    },
    {
     "name": "stderr",
     "output_type": "stream",
     "text": [
      " 27%|██▋       | 619/2322 [01:30<03:05,  9.17it/s]"
     ]
    },
    {
     "name": "stdout",
     "output_type": "stream",
     "text": [
      "Checking out gene ENSG00000165841\n",
      "Checking out gene ENSG00000117305\n",
      "Checking out gene ENSG00000138356\n"
     ]
    },
    {
     "name": "stderr",
     "output_type": "stream",
     "text": [
      " 27%|██▋       | 622/2322 [01:30<03:48,  7.43it/s]"
     ]
    },
    {
     "name": "stdout",
     "output_type": "stream",
     "text": [
      "Checking out gene ENSG00000115705\n",
      "Checking out gene ENSG00000196502\n"
     ]
    },
    {
     "name": "stderr",
     "output_type": "stream",
     "text": [
      " 27%|██▋       | 624/2322 [01:31<05:04,  5.58it/s]"
     ]
    },
    {
     "name": "stdout",
     "output_type": "stream",
     "text": [
      "Checking out gene ENSG00000197165\n",
      "Checking out gene ENSG00000137857\n",
      "Checking out gene ENSG00000140279\n"
     ]
    },
    {
     "name": "stderr",
     "output_type": "stream",
     "text": [
      " 27%|██▋       | 626/2322 [01:31<04:17,  6.59it/s]"
     ]
    },
    {
     "name": "stdout",
     "output_type": "stream",
     "text": [
      "Checking out gene ENSG00000213599\n",
      "Checking out gene ENSG00000077498\n"
     ]
    },
    {
     "name": "stderr",
     "output_type": "stream",
     "text": [
      " 27%|██▋       | 628/2322 [01:31<03:39,  7.71it/s]"
     ]
    },
    {
     "name": "stdout",
     "output_type": "stream",
     "text": [
      "Checking out gene ENSG00000180176\n",
      "Checking out gene ENSG00000138029\n"
     ]
    },
    {
     "name": "stderr",
     "output_type": "stream",
     "text": [
      " 27%|██▋       | 630/2322 [01:32<03:42,  7.60it/s]"
     ]
    },
    {
     "name": "stdout",
     "output_type": "stream",
     "text": [
      "Checking out gene ENSG00000167315\n",
      "Checking out gene ENSG00000114054\n"
     ]
    },
    {
     "name": "stderr",
     "output_type": "stream",
     "text": [
      " 27%|██▋       | 631/2322 [01:32<03:31,  7.98it/s]"
     ]
    },
    {
     "name": "stdout",
     "output_type": "stream",
     "text": [
      "Checking out gene ENSG00000175198\n"
     ]
    },
    {
     "name": "stderr",
     "output_type": "stream",
     "text": [
      " 27%|██▋       | 633/2322 [01:32<04:34,  6.15it/s]"
     ]
    },
    {
     "name": "stdout",
     "output_type": "stream",
     "text": [
      "Checking out gene ENSG00000124370\n",
      "Checking out gene ENSG00000146085\n"
     ]
    },
    {
     "name": "stderr",
     "output_type": "stream",
     "text": [
      " 27%|██▋       | 634/2322 [01:32<04:13,  6.65it/s]"
     ]
    },
    {
     "name": "stdout",
     "output_type": "stream",
     "text": [
      "Checking out gene ENSG00000105552\n"
     ]
    },
    {
     "name": "stderr",
     "output_type": "stream",
     "text": [
      " 27%|██▋       | 636/2322 [01:33<06:48,  4.13it/s]"
     ]
    },
    {
     "name": "stdout",
     "output_type": "stream",
     "text": [
      "Checking out gene ENSG00000060982\n",
      "Checking out gene ENSG00000106049\n"
     ]
    },
    {
     "name": "stderr",
     "output_type": "stream",
     "text": [
      " 27%|██▋       | 637/2322 [01:33<06:17,  4.46it/s]"
     ]
    },
    {
     "name": "stdout",
     "output_type": "stream",
     "text": [
      "Checking out gene ENSG00000137992\n"
     ]
    },
    {
     "name": "stderr",
     "output_type": "stream",
     "text": [
      " 28%|██▊       | 639/2322 [01:34<05:33,  5.04it/s]"
     ]
    },
    {
     "name": "stdout",
     "output_type": "stream",
     "text": [
      "Checking out gene ENSG00000083123\n",
      "Checking out gene ENSG00000248098\n"
     ]
    },
    {
     "name": "stderr",
     "output_type": "stream",
     "text": [
      " 28%|██▊       | 641/2322 [01:34<04:20,  6.45it/s]"
     ]
    },
    {
     "name": "stdout",
     "output_type": "stream",
     "text": [
      "Checking out gene ENSG00000179148\n",
      "Checking out gene ENSG00000078070\n"
     ]
    },
    {
     "name": "stderr",
     "output_type": "stream",
     "text": [
      " 28%|██▊       | 644/2322 [01:34<03:31,  7.93it/s]"
     ]
    },
    {
     "name": "stdout",
     "output_type": "stream",
     "text": [
      "Checking out gene ENSG00000131844\n",
      "Checking out gene ENSG00000171759\n",
      "Checking out gene ENSG00000131203\n"
     ]
    },
    {
     "name": "stderr",
     "output_type": "stream",
     "text": [
      " 28%|██▊       | 647/2322 [01:34<03:16,  8.52it/s]"
     ]
    },
    {
     "name": "stdout",
     "output_type": "stream",
     "text": [
      "Checking out gene ENSG00000151790\n",
      "Checking out gene ENSG00000183077\n",
      "Checking out gene ENSG00000115919\n"
     ]
    },
    {
     "name": "stderr",
     "output_type": "stream",
     "text": [
      " 28%|██▊       | 650/2322 [01:35<02:59,  9.32it/s]"
     ]
    },
    {
     "name": "stdout",
     "output_type": "stream",
     "text": [
      "Checking out gene ENSG00000117009\n",
      "Checking out gene ENSG00000153086\n",
      "Checking out gene ENSG00000105607\n"
     ]
    },
    {
     "name": "stderr",
     "output_type": "stream",
     "text": [
      " 28%|██▊       | 652/2322 [01:35<03:07,  8.90it/s]"
     ]
    },
    {
     "name": "stdout",
     "output_type": "stream",
     "text": [
      "Checking out gene ENSG00000010165\n",
      "Checking out gene ENSG00000029639\n"
     ]
    },
    {
     "name": "stderr",
     "output_type": "stream",
     "text": [
      " 28%|██▊       | 653/2322 [01:35<03:05,  9.01it/s]"
     ]
    },
    {
     "name": "stdout",
     "output_type": "stream",
     "text": [
      "Checking out gene ENSG00000059588\n"
     ]
    },
    {
     "name": "stderr",
     "output_type": "stream",
     "text": [
      " 28%|██▊       | 655/2322 [01:35<03:57,  7.03it/s]"
     ]
    },
    {
     "name": "stdout",
     "output_type": "stream",
     "text": [
      "Checking out gene ENSG00000068438\n",
      "Checking out gene ENSG00000071462\n"
     ]
    },
    {
     "name": "stderr",
     "output_type": "stream",
     "text": [
      " 28%|██▊       | 657/2322 [01:36<04:40,  5.93it/s]"
     ]
    },
    {
     "name": "stdout",
     "output_type": "stream",
     "text": [
      "Checking out gene ENSG00000100483\n",
      "Checking out gene ENSG00000101247\n"
     ]
    },
    {
     "name": "stderr",
     "output_type": "stream",
     "text": [
      " 28%|██▊       | 659/2322 [01:36<03:58,  6.97it/s]"
     ]
    },
    {
     "name": "stdout",
     "output_type": "stream",
     "text": [
      "Checking out gene ENSG00000101574\n",
      "Checking out gene ENSG00000103037\n"
     ]
    },
    {
     "name": "stderr",
     "output_type": "stream",
     "text": [
      " 28%|██▊       | 661/2322 [01:37<04:23,  6.30it/s]"
     ]
    },
    {
     "name": "stdout",
     "output_type": "stream",
     "text": [
      "Checking out gene ENSG00000110871\n",
      "Checking out gene ENSG00000111218\n"
     ]
    },
    {
     "name": "stderr",
     "output_type": "stream",
     "text": [
      " 29%|██▊       | 663/2322 [01:37<04:13,  6.55it/s]"
     ]
    },
    {
     "name": "stdout",
     "output_type": "stream",
     "text": [
      "Checking out gene ENSG00000111641\n",
      "Checking out gene ENSG00000114735\n"
     ]
    },
    {
     "name": "stderr",
     "output_type": "stream",
     "text": [
      " 29%|██▊       | 664/2322 [01:37<04:00,  6.89it/s]"
     ]
    },
    {
     "name": "stdout",
     "output_type": "stream",
     "text": [
      "Checking out gene ENSG00000117481\n",
      "Checking out gene ENSG00000122435\n"
     ]
    },
    {
     "name": "stderr",
     "output_type": "stream",
     "text": [
      " 29%|██▊       | 667/2322 [01:37<03:32,  7.79it/s]"
     ]
    },
    {
     "name": "stdout",
     "output_type": "stream",
     "text": [
      "Checking out gene ENSG00000123427\n",
      "Checking out gene ENSG00000123600\n"
     ]
    },
    {
     "name": "stderr",
     "output_type": "stream",
     "text": [
      " 29%|██▉       | 669/2322 [01:38<03:25,  8.05it/s]"
     ]
    },
    {
     "name": "stdout",
     "output_type": "stream",
     "text": [
      "Checking out gene ENSG00000127804\n",
      "Checking out gene ENSG00000129282\n"
     ]
    },
    {
     "name": "stderr",
     "output_type": "stream",
     "text": [
      " 29%|██▉       | 672/2322 [01:38<03:04,  8.94it/s]"
     ]
    },
    {
     "name": "stdout",
     "output_type": "stream",
     "text": [
      "Checking out gene ENSG00000130305\n",
      "Checking out gene ENSG00000132275\n",
      "Checking out gene ENSG00000137574\n"
     ]
    },
    {
     "name": "stderr",
     "output_type": "stream",
     "text": [
      " 29%|██▉       | 673/2322 [01:38<03:05,  8.89it/s]"
     ]
    },
    {
     "name": "stdout",
     "output_type": "stream",
     "text": [
      "Checking out gene ENSG00000137760\n",
      "Checking out gene ENSG00000138382\n"
     ]
    },
    {
     "name": "stderr",
     "output_type": "stream",
     "text": [
      " 29%|██▉       | 677/2322 [01:38<02:48,  9.76it/s]"
     ]
    },
    {
     "name": "stdout",
     "output_type": "stream",
     "text": [
      "Checking out gene ENSG00000139160\n",
      "Checking out gene ENSG00000139780\n",
      "Checking out gene ENSG00000142453\n"
     ]
    },
    {
     "name": "stderr",
     "output_type": "stream",
     "text": [
      " 29%|██▉       | 678/2322 [01:39<03:42,  7.38it/s]"
     ]
    },
    {
     "name": "stdout",
     "output_type": "stream",
     "text": [
      "Checking out gene ENSG00000143499\n",
      "Checking out gene ENSG00000144401\n"
     ]
    },
    {
     "name": "stderr",
     "output_type": "stream",
     "text": [
      " 29%|██▉       | 680/2322 [01:39<03:25,  7.98it/s]"
     ]
    },
    {
     "name": "stdout",
     "output_type": "stream",
     "text": [
      "Checking out gene ENSG00000145194\n"
     ]
    },
    {
     "name": "stderr",
     "output_type": "stream",
     "text": [
      " 29%|██▉       | 682/2322 [01:39<04:08,  6.59it/s]"
     ]
    },
    {
     "name": "stdout",
     "output_type": "stream",
     "text": [
      "Checking out gene ENSG00000146834\n",
      "Checking out gene ENSG00000156239\n"
     ]
    },
    {
     "name": "stderr",
     "output_type": "stream",
     "text": [
      " 29%|██▉       | 684/2322 [01:39<03:37,  7.53it/s]"
     ]
    },
    {
     "name": "stdout",
     "output_type": "stream",
     "text": [
      "Checking out gene ENSG00000162851\n",
      "Checking out gene ENSG00000164169\n"
     ]
    },
    {
     "name": "stderr",
     "output_type": "stream",
     "text": [
      " 30%|██▉       | 686/2322 [01:40<05:52,  4.64it/s]"
     ]
    },
    {
     "name": "stdout",
     "output_type": "stream",
     "text": [
      "Checking out gene ENSG00000165275\n",
      "Checking out gene ENSG00000165644\n"
     ]
    },
    {
     "name": "stderr",
     "output_type": "stream",
     "text": [
      " 30%|██▉       | 688/2322 [01:40<04:20,  6.28it/s]"
     ]
    },
    {
     "name": "stdout",
     "output_type": "stream",
     "text": [
      "Checking out gene ENSG00000165792\n",
      "Checking out gene ENSG00000168806\n"
     ]
    },
    {
     "name": "stderr",
     "output_type": "stream",
     "text": [
      " 30%|██▉       | 690/2322 [01:41<04:06,  6.62it/s]"
     ]
    },
    {
     "name": "stdout",
     "output_type": "stream",
     "text": [
      "Checking out gene ENSG00000169519\n",
      "Checking out gene ENSG00000170439\n"
     ]
    },
    {
     "name": "stderr",
     "output_type": "stream",
     "text": [
      " 30%|██▉       | 692/2322 [01:41<03:47,  7.17it/s]"
     ]
    },
    {
     "name": "stdout",
     "output_type": "stream",
     "text": [
      "Checking out gene ENSG00000171806\n",
      "Checking out gene ENSG00000171861\n"
     ]
    },
    {
     "name": "stderr",
     "output_type": "stream",
     "text": [
      " 30%|██▉       | 694/2322 [01:41<03:31,  7.68it/s]"
     ]
    },
    {
     "name": "stdout",
     "output_type": "stream",
     "text": [
      "Checking out gene ENSG00000178694\n",
      "Checking out gene ENSG00000180917\n"
     ]
    },
    {
     "name": "stderr",
     "output_type": "stream",
     "text": [
      " 30%|██▉       | 696/2322 [01:41<03:15,  8.32it/s]"
     ]
    },
    {
     "name": "stdout",
     "output_type": "stream",
     "text": [
      "Checking out gene ENSG00000185432\n",
      "Checking out gene ENSG00000186666\n"
     ]
    },
    {
     "name": "stderr",
     "output_type": "stream",
     "text": [
      " 30%|███       | 698/2322 [01:42<03:24,  7.94it/s]"
     ]
    },
    {
     "name": "stdout",
     "output_type": "stream",
     "text": [
      "Checking out gene ENSG00000203791\n",
      "Checking out gene ENSG00000206562\n"
     ]
    },
    {
     "name": "stderr",
     "output_type": "stream",
     "text": [
      " 30%|███       | 700/2322 [01:42<03:18,  8.16it/s]"
     ]
    },
    {
     "name": "stdout",
     "output_type": "stream",
     "text": [
      "Checking out gene ENSG00000241058\n",
      "Checking out gene ENSG00000250305\n"
     ]
    },
    {
     "name": "stderr",
     "output_type": "stream",
     "text": [
      " 30%|███       | 703/2322 [01:42<02:59,  9.04it/s]"
     ]
    },
    {
     "name": "stdout",
     "output_type": "stream",
     "text": [
      "Checking out gene ENSG00000241644\n",
      "Checking out gene ENSG00000093010\n",
      "Checking out gene ENSG00000184154\n"
     ]
    },
    {
     "name": "stderr",
     "output_type": "stream",
     "text": [
      " 30%|███       | 706/2322 [01:43<03:27,  7.78it/s]"
     ]
    },
    {
     "name": "stdout",
     "output_type": "stream",
     "text": [
      "Checking out gene ENSG00000008394\n",
      "Checking out gene ENSG00000065621\n",
      "Checking out gene ENSG00000084207\n"
     ]
    },
    {
     "name": "stderr",
     "output_type": "stream",
     "text": [
      " 30%|███       | 708/2322 [01:43<03:53,  6.91it/s]"
     ]
    },
    {
     "name": "stdout",
     "output_type": "stream",
     "text": [
      "Checking out gene ENSG00000085871\n",
      "Checking out gene ENSG00000100577\n"
     ]
    },
    {
     "name": "stderr",
     "output_type": "stream",
     "text": [
      " 31%|███       | 710/2322 [01:43<03:28,  7.74it/s]"
     ]
    },
    {
     "name": "stdout",
     "output_type": "stream",
     "text": [
      "Checking out gene ENSG00000134184\n",
      "Checking out gene ENSG00000134201\n",
      "Checking out gene ENSG00000148834\n"
     ]
    },
    {
     "name": "stderr",
     "output_type": "stream",
     "text": [
      " 31%|███       | 712/2322 [01:44<04:19,  6.21it/s]"
     ]
    },
    {
     "name": "stdout",
     "output_type": "stream",
     "text": [
      "Checking out gene ENSG00000163106\n",
      "Checking out gene ENSG00000168765\n"
     ]
    },
    {
     "name": "stderr",
     "output_type": "stream",
     "text": [
      " 31%|███       | 714/2322 [01:44<04:35,  5.83it/s]"
     ]
    },
    {
     "name": "stdout",
     "output_type": "stream",
     "text": [
      "Checking out gene ENSG00000174156\n"
     ]
    },
    {
     "name": "stderr",
     "output_type": "stream",
     "text": [
      " 31%|███       | 715/2322 [01:44<05:57,  4.50it/s]"
     ]
    },
    {
     "name": "stdout",
     "output_type": "stream",
     "text": [
      "Checking out gene ENSG00000182793\n"
     ]
    },
    {
     "name": "stderr",
     "output_type": "stream",
     "text": [
      " 31%|███       | 716/2322 [01:45<07:07,  3.76it/s]"
     ]
    },
    {
     "name": "stdout",
     "output_type": "stream",
     "text": [
      "Checking out gene ENSG00000197448\n",
      "Checking out gene ENSG00000213366\n"
     ]
    },
    {
     "name": "stderr",
     "output_type": "stream",
     "text": [
      " 31%|███       | 720/2322 [01:45<04:25,  6.03it/s]"
     ]
    },
    {
     "name": "stdout",
     "output_type": "stream",
     "text": [
      "Checking out gene ENSG00000243955\n",
      "Checking out gene ENSG00000244067\n",
      "Checking out gene ENSG00000158104\n",
      "Checking out gene ENSG00000240972\n"
     ]
    },
    {
     "name": "stderr",
     "output_type": "stream",
     "text": [
      " 31%|███       | 723/2322 [01:46<03:44,  7.12it/s]"
     ]
    },
    {
     "name": "stdout",
     "output_type": "stream",
     "text": [
      "Checking out gene ENSG00000141744\n",
      "Checking out gene ENSG00000104951\n"
     ]
    },
    {
     "name": "stderr",
     "output_type": "stream",
     "text": [
      " 31%|███       | 725/2322 [01:46<03:42,  7.16it/s]"
     ]
    },
    {
     "name": "stdout",
     "output_type": "stream",
     "text": [
      "Checking out gene ENSG00000113924\n",
      "Checking out gene ENSG00000103876\n"
     ]
    },
    {
     "name": "stderr",
     "output_type": "stream",
     "text": [
      " 31%|███▏      | 727/2322 [01:46<03:25,  7.78it/s]"
     ]
    },
    {
     "name": "stdout",
     "output_type": "stream",
     "text": [
      "Checking out gene ENSG00000109181\n",
      "Checking out gene ENSG00000135220\n",
      "Checking out gene ENSG00000135226\n"
     ]
    },
    {
     "name": "stderr",
     "output_type": "stream",
     "text": [
      " 31%|███▏      | 731/2322 [01:46<02:56,  9.02it/s]"
     ]
    },
    {
     "name": "stdout",
     "output_type": "stream",
     "text": [
      "Checking out gene ENSG00000156096\n",
      "Checking out gene ENSG00000167165\n"
     ]
    },
    {
     "name": "stderr",
     "output_type": "stream",
     "text": [
      " 32%|███▏      | 733/2322 [01:47<02:54,  9.08it/s]"
     ]
    },
    {
     "name": "stdout",
     "output_type": "stream",
     "text": [
      "Checking out gene ENSG00000171234\n",
      "Checking out gene ENSG00000173610\n",
      "Checking out gene ENSG00000196620\n"
     ]
    },
    {
     "name": "stderr",
     "output_type": "stream",
     "text": [
      " 32%|███▏      | 735/2322 [01:47<03:00,  8.79it/s]"
     ]
    },
    {
     "name": "stdout",
     "output_type": "stream",
     "text": [
      "Checking out gene ENSG00000197888\n",
      "Checking out gene ENSG00000213759\n",
      "Checking out gene ENSG00000240224\n"
     ]
    },
    {
     "name": "stderr",
     "output_type": "stream",
     "text": [
      " 32%|███▏      | 738/2322 [01:47<03:03,  8.64it/s]"
     ]
    },
    {
     "name": "stdout",
     "output_type": "stream",
     "text": [
      "Checking out gene ENSG00000241635\n",
      "Checking out gene ENSG00000242366\n"
     ]
    },
    {
     "name": "stderr",
     "output_type": "stream",
     "text": [
      " 32%|███▏      | 739/2322 [01:47<03:03,  8.63it/s]"
     ]
    },
    {
     "name": "stdout",
     "output_type": "stream",
     "text": [
      "Checking out gene ENSG00000242515\n",
      "Checking out gene ENSG00000243135\n"
     ]
    },
    {
     "name": "stderr",
     "output_type": "stream",
     "text": [
      " 32%|███▏      | 741/2322 [01:48<03:43,  7.09it/s]"
     ]
    },
    {
     "name": "stdout",
     "output_type": "stream",
     "text": [
      "Checking out gene ENSG00000244474\n",
      "Checking out gene ENSG00000005381\n"
     ]
    },
    {
     "name": "stderr",
     "output_type": "stream",
     "text": [
      " 32%|███▏      | 743/2322 [01:48<03:25,  7.67it/s]"
     ]
    },
    {
     "name": "stdout",
     "output_type": "stream",
     "text": [
      "Checking out gene ENSG00000116791\n"
     ]
    },
    {
     "name": "stderr",
     "output_type": "stream",
     "text": [
      " 32%|███▏      | 744/2322 [01:48<04:29,  5.85it/s]"
     ]
    },
    {
     "name": "stdout",
     "output_type": "stream",
     "text": [
      "Checking out gene ENSG00000211448\n"
     ]
    },
    {
     "name": "stderr",
     "output_type": "stream",
     "text": [
      " 32%|███▏      | 746/2322 [01:49<04:38,  5.65it/s]"
     ]
    },
    {
     "name": "stdout",
     "output_type": "stream",
     "text": [
      "Checking out gene ENSG00000211452\n",
      "Checking out gene ENSG00000070614\n"
     ]
    },
    {
     "name": "stderr",
     "output_type": "stream",
     "text": [
      " 32%|███▏      | 747/2322 [01:49<05:18,  4.94it/s]"
     ]
    },
    {
     "name": "stdout",
     "output_type": "stream",
     "text": [
      "Checking out gene ENSG00000111962\n",
      "Checking out gene ENSG00000115526\n"
     ]
    },
    {
     "name": "stderr",
     "output_type": "stream",
     "text": [
      " 32%|███▏      | 749/2322 [01:49<04:18,  6.08it/s]"
     ]
    },
    {
     "name": "stdout",
     "output_type": "stream",
     "text": [
      "Checking out gene ENSG00000140835\n",
      "Checking out gene ENSG00000147119\n"
     ]
    },
    {
     "name": "stderr",
     "output_type": "stream",
     "text": [
      " 32%|███▏      | 751/2322 [01:50<05:06,  5.13it/s]"
     ]
    },
    {
     "name": "stdout",
     "output_type": "stream",
     "text": [
      "Checking out gene ENSG00000153936\n",
      "Checking out gene ENSG00000154080\n"
     ]
    },
    {
     "name": "stderr",
     "output_type": "stream",
     "text": [
      " 32%|███▏      | 754/2322 [01:50<04:01,  6.48it/s]"
     ]
    },
    {
     "name": "stdout",
     "output_type": "stream",
     "text": [
      "Checking out gene ENSG00000164100\n",
      "Checking out gene ENSG00000166507\n",
      "Checking out gene ENSG00000173597\n"
     ]
    },
    {
     "name": "stderr",
     "output_type": "stream",
     "text": [
      " 33%|███▎      | 757/2322 [01:50<03:25,  7.63it/s]"
     ]
    },
    {
     "name": "stdout",
     "output_type": "stream",
     "text": [
      "Checking out gene ENSG00000175040\n",
      "Checking out gene ENSG00000175229\n"
     ]
    },
    {
     "name": "stderr",
     "output_type": "stream",
     "text": [
      " 33%|███▎      | 759/2322 [01:51<03:03,  8.54it/s]"
     ]
    },
    {
     "name": "stdout",
     "output_type": "stream",
     "text": [
      "Checking out gene ENSG00000185352\n",
      "Checking out gene ENSG00000197093\n"
     ]
    },
    {
     "name": "stderr",
     "output_type": "stream",
     "text": [
      " 33%|███▎      | 761/2322 [01:51<03:10,  8.18it/s]"
     ]
    },
    {
     "name": "stdout",
     "output_type": "stream",
     "text": [
      "Checking out gene ENSG00000198075\n",
      "Checking out gene ENSG00000198203\n",
      "Checking out gene ENSG00000101846\n"
     ]
    },
    {
     "name": "stderr",
     "output_type": "stream",
     "text": [
      " 33%|███▎      | 765/2322 [01:51<03:16,  7.91it/s]"
     ]
    },
    {
     "name": "stdout",
     "output_type": "stream",
     "text": [
      "Checking out gene ENSG00000080166\n",
      "Checking out gene ENSG00000107165\n",
      "Checking out gene ENSG00000165591\n"
     ]
    },
    {
     "name": "stderr",
     "output_type": "stream",
     "text": [
      " 33%|███▎      | 767/2322 [01:52<03:10,  8.17it/s]"
     ]
    },
    {
     "name": "stdout",
     "output_type": "stream",
     "text": [
      "Checking out gene ENSG00000038274\n",
      "Checking out gene ENSG00000151224\n",
      "Checking out gene ENSG00000168906\n"
     ]
    },
    {
     "name": "stderr",
     "output_type": "stream",
     "text": [
      " 33%|███▎      | 770/2322 [01:52<03:05,  8.35it/s]"
     ]
    },
    {
     "name": "stdout",
     "output_type": "stream",
     "text": [
      "Checking out gene ENSG00000101444\n",
      "Checking out gene ENSG00000158467\n"
     ]
    },
    {
     "name": "stderr",
     "output_type": "stream",
     "text": [
      " 33%|███▎      | 771/2322 [01:52<03:04,  8.40it/s]"
     ]
    },
    {
     "name": "stdout",
     "output_type": "stream",
     "text": [
      "Checking out gene ENSG00000168710\n"
     ]
    },
    {
     "name": "stderr",
     "output_type": "stream",
     "text": [
      " 33%|███▎      | 772/2322 [01:52<03:53,  6.65it/s]"
     ]
    },
    {
     "name": "stdout",
     "output_type": "stream",
     "text": [
      "Checking out gene ENSG00000160200\n"
     ]
    },
    {
     "name": "stderr",
     "output_type": "stream",
     "text": [
      " 33%|███▎      | 773/2322 [01:53<04:57,  5.21it/s]"
     ]
    },
    {
     "name": "stdout",
     "output_type": "stream",
     "text": [
      "Checking out gene ENSG00000116761\n",
      "Checking out gene ENSG00000116984\n"
     ]
    },
    {
     "name": "stderr",
     "output_type": "stream",
     "text": [
      " 33%|███▎      | 776/2322 [01:53<04:57,  5.20it/s]"
     ]
    },
    {
     "name": "stdout",
     "output_type": "stream",
     "text": [
      "Checking out gene ENSG00000005421\n",
      "Checking out gene ENSG00000105852\n"
     ]
    },
    {
     "name": "stderr",
     "output_type": "stream",
     "text": [
      " 34%|███▎      | 778/2322 [01:54<05:00,  5.13it/s]"
     ]
    },
    {
     "name": "stdout",
     "output_type": "stream",
     "text": [
      "Checking out gene ENSG00000105854\n",
      "Checking out gene ENSG00000128309\n",
      "Checking out gene ENSG00000128311\n"
     ]
    },
    {
     "name": "stderr",
     "output_type": "stream",
     "text": [
      " 34%|███▎      | 781/2322 [01:54<03:33,  7.20it/s]"
     ]
    },
    {
     "name": "stdout",
     "output_type": "stream",
     "text": [
      "Checking out gene ENSG00000181652\n",
      "Checking out gene ENSG00000107614\n"
     ]
    },
    {
     "name": "stderr",
     "output_type": "stream",
     "text": [
      " 34%|███▍      | 784/2322 [01:54<03:49,  6.72it/s]"
     ]
    },
    {
     "name": "stdout",
     "output_type": "stream",
     "text": [
      "Checking out gene ENSG00000119772\n",
      "Checking out gene ENSG00000139531\n",
      "Checking out gene ENSG00000037757\n"
     ]
    },
    {
     "name": "stderr",
     "output_type": "stream",
     "text": [
      " 34%|███▍      | 787/2322 [01:55<03:13,  7.94it/s]"
     ]
    },
    {
     "name": "stdout",
     "output_type": "stream",
     "text": [
      "Checking out gene ENSG00000149089\n",
      "Checking out gene ENSG00000145293\n",
      "Checking out gene ENSG00000182551\n"
     ]
    },
    {
     "name": "stderr",
     "output_type": "stream",
     "text": [
      " 34%|███▍      | 789/2322 [01:55<02:57,  8.66it/s]"
     ]
    },
    {
     "name": "stdout",
     "output_type": "stream",
     "text": [
      "Checking out gene ENSG00000142046\n",
      "Checking out gene ENSG00000255730\n",
      "Checking out gene ENSG00000014641\n"
     ]
    },
    {
     "name": "stderr",
     "output_type": "stream",
     "text": [
      " 34%|███▍      | 792/2322 [01:55<03:31,  7.23it/s]"
     ]
    },
    {
     "name": "stdout",
     "output_type": "stream",
     "text": [
      "Checking out gene ENSG00000146701\n",
      "Checking out gene ENSG00000178814\n"
     ]
    },
    {
     "name": "stderr",
     "output_type": "stream",
     "text": [
      " 34%|███▍      | 795/2322 [01:56<03:14,  7.85it/s]"
     ]
    },
    {
     "name": "stdout",
     "output_type": "stream",
     "text": [
      "Checking out gene ENSG00000139684\n",
      "Checking out gene ENSG00000116157\n",
      "Checking out gene ENSG00000117450\n",
      "Checking out gene ENSG00000165672\n"
     ]
    },
    {
     "name": "stderr",
     "output_type": "stream",
     "text": [
      " 34%|███▍      | 797/2322 [01:56<03:11,  7.97it/s]"
     ]
    },
    {
     "name": "stdout",
     "output_type": "stream",
     "text": [
      "Checking out gene ENSG00000167468\n",
      "Checking out gene ENSG00000167815\n"
     ]
    },
    {
     "name": "stderr",
     "output_type": "stream",
     "text": [
      " 34%|███▍      | 799/2322 [01:56<03:09,  8.05it/s]"
     ]
    },
    {
     "name": "stdout",
     "output_type": "stream",
     "text": [
      "Checking out gene ENSG00000176153\n",
      "Checking out gene ENSG00000198704\n"
     ]
    },
    {
     "name": "stderr",
     "output_type": "stream",
     "text": [
      " 34%|███▍      | 801/2322 [01:57<02:58,  8.50it/s]"
     ]
    },
    {
     "name": "stdout",
     "output_type": "stream",
     "text": [
      "Checking out gene ENSG00000211445\n",
      "Checking out gene ENSG00000224586\n"
     ]
    },
    {
     "name": "stderr",
     "output_type": "stream",
     "text": [
      " 35%|███▍      | 804/2322 [01:57<02:54,  8.70it/s]"
     ]
    },
    {
     "name": "stdout",
     "output_type": "stream",
     "text": [
      "Checking out gene ENSG00000233276\n",
      "Checking out gene ENSG00000001084\n"
     ]
    },
    {
     "name": "stderr",
     "output_type": "stream",
     "text": [
      " 35%|███▍      | 806/2322 [01:57<02:56,  8.58it/s]"
     ]
    },
    {
     "name": "stdout",
     "output_type": "stream",
     "text": [
      "Checking out gene ENSG00000023909\n",
      "Checking out gene ENSG00000100983\n"
     ]
    },
    {
     "name": "stderr",
     "output_type": "stream",
     "text": [
      " 35%|███▍      | 807/2322 [01:57<02:59,  8.44it/s]"
     ]
    },
    {
     "name": "stdout",
     "output_type": "stream",
     "text": [
      "Checking out gene ENSG00000002549\n"
     ]
    },
    {
     "name": "stderr",
     "output_type": "stream",
     "text": [
      " 35%|███▍      | 809/2322 [01:58<03:22,  7.48it/s]"
     ]
    },
    {
     "name": "stdout",
     "output_type": "stream",
     "text": [
      "Checking out gene ENSG00000141279\n",
      "Checking out gene ENSG00000166825\n"
     ]
    },
    {
     "name": "stderr",
     "output_type": "stream",
     "text": [
      " 35%|███▍      | 811/2322 [01:58<03:03,  8.25it/s]"
     ]
    },
    {
     "name": "stdout",
     "output_type": "stream",
     "text": [
      "Checking out gene ENSG00000197421\n",
      "Checking out gene ENSG00000086475\n"
     ]
    },
    {
     "name": "stderr",
     "output_type": "stream",
     "text": [
      " 35%|███▌      | 814/2322 [01:58<02:45,  9.13it/s]"
     ]
    },
    {
     "name": "stdout",
     "output_type": "stream",
     "text": [
      "Checking out gene ENSG00000179918\n",
      "Checking out gene ENSG00000132330\n",
      "Checking out gene ENSG00000007933\n"
     ]
    },
    {
     "name": "stderr",
     "output_type": "stream",
     "text": [
      " 35%|███▌      | 817/2322 [01:58<02:34,  9.72it/s]"
     ]
    },
    {
     "name": "stdout",
     "output_type": "stream",
     "text": [
      "Checking out gene ENSG00000010932\n",
      "Checking out gene ENSG00000076258\n",
      "Checking out gene ENSG00000094963\n"
     ]
    },
    {
     "name": "stderr",
     "output_type": "stream",
     "text": [
      " 35%|███▌      | 820/2322 [01:59<02:30,  9.97it/s]"
     ]
    },
    {
     "name": "stdout",
     "output_type": "stream",
     "text": [
      "Checking out gene ENSG00000131781\n",
      "Checking out gene ENSG00000166986\n",
      "Checking out gene ENSG00000247626\n"
     ]
    },
    {
     "name": "stderr",
     "output_type": "stream",
     "text": [
      " 35%|███▌      | 821/2322 [01:59<02:33,  9.76it/s]"
     ]
    },
    {
     "name": "stdout",
     "output_type": "stream",
     "text": [
      "Checking out gene ENSG00000128928\n",
      "Checking out gene ENSG00000049860\n"
     ]
    },
    {
     "name": "stderr",
     "output_type": "stream",
     "text": [
      " 35%|███▌      | 823/2322 [01:59<02:36,  9.59it/s]"
     ]
    },
    {
     "name": "stdout",
     "output_type": "stream",
     "text": [
      "Checking out gene ENSG00000213614\n"
     ]
    },
    {
     "name": "stderr",
     "output_type": "stream",
     "text": [
      " 36%|███▌      | 825/2322 [01:59<03:22,  7.40it/s]"
     ]
    },
    {
     "name": "stdout",
     "output_type": "stream",
     "text": [
      "Checking out gene ENSG00000117143\n",
      "Checking out gene ENSG00000197355\n"
     ]
    },
    {
     "name": "stderr",
     "output_type": "stream",
     "text": [
      " 36%|███▌      | 828/2322 [02:00<02:54,  8.54it/s]"
     ]
    },
    {
     "name": "stdout",
     "output_type": "stream",
     "text": [
      "Checking out gene ENSG00000113552\n",
      "Checking out gene ENSG00000163281\n",
      "Checking out gene ENSG00000131459\n"
     ]
    },
    {
     "name": "stderr",
     "output_type": "stream",
     "text": [
      " 36%|███▌      | 831/2322 [02:00<02:38,  9.39it/s]"
     ]
    },
    {
     "name": "stdout",
     "output_type": "stream",
     "text": [
      "Checking out gene ENSG00000198380\n",
      "Checking out gene ENSG00000124357\n",
      "Checking out gene ENSG00000159921\n"
     ]
    },
    {
     "name": "stderr",
     "output_type": "stream",
     "text": [
      " 36%|███▌      | 834/2322 [02:00<02:36,  9.52it/s]"
     ]
    },
    {
     "name": "stdout",
     "output_type": "stream",
     "text": [
      "Checking out gene ENSG00000102032\n",
      "Checking out gene ENSG00000095380\n",
      "Checking out gene ENSG00000170191\n"
     ]
    },
    {
     "name": "stderr",
     "output_type": "stream",
     "text": [
      " 36%|███▌      | 835/2322 [02:00<02:42,  9.17it/s]"
     ]
    },
    {
     "name": "stdout",
     "output_type": "stream",
     "text": [
      "Checking out gene ENSG00000111726\n",
      "Checking out gene ENSG00000100522\n"
     ]
    },
    {
     "name": "stderr",
     "output_type": "stream",
     "text": [
      " 36%|███▌      | 838/2322 [02:01<02:46,  8.92it/s]"
     ]
    },
    {
     "name": "stdout",
     "output_type": "stream",
     "text": [
      "Checking out gene ENSG00000162066\n",
      "Checking out gene ENSG00000013375\n"
     ]
    },
    {
     "name": "stderr",
     "output_type": "stream",
     "text": [
      " 36%|███▌      | 840/2322 [02:01<03:49,  6.46it/s]"
     ]
    },
    {
     "name": "stdout",
     "output_type": "stream",
     "text": [
      "Checking out gene ENSG00000088451\n",
      "Checking out gene ENSG00000111261\n"
     ]
    },
    {
     "name": "stderr",
     "output_type": "stream",
     "text": [
      " 36%|███▋      | 843/2322 [02:02<03:06,  7.95it/s]"
     ]
    },
    {
     "name": "stdout",
     "output_type": "stream",
     "text": [
      "Checking out gene ENSG00000133063\n",
      "Checking out gene ENSG00000134216\n",
      "Checking out gene ENSG00000134684\n"
     ]
    },
    {
     "name": "stderr",
     "output_type": "stream",
     "text": [
      " 36%|███▋      | 845/2322 [02:02<03:02,  8.09it/s]"
     ]
    },
    {
     "name": "stdout",
     "output_type": "stream",
     "text": [
      "Checking out gene ENSG00000139131\n",
      "Checking out gene ENSG00000090861\n"
     ]
    },
    {
     "name": "stderr",
     "output_type": "stream",
     "text": [
      " 37%|███▋      | 848/2322 [02:02<02:43,  9.00it/s]"
     ]
    },
    {
     "name": "stdout",
     "output_type": "stream",
     "text": [
      "Checking out gene ENSG00000124608\n",
      "Checking out gene ENSG00000146282\n",
      "Checking out gene ENSG00000134440\n"
     ]
    },
    {
     "name": "stderr",
     "output_type": "stream",
     "text": [
      " 37%|███▋      | 850/2322 [02:02<02:51,  8.60it/s]"
     ]
    },
    {
     "name": "stdout",
     "output_type": "stream",
     "text": [
      "Checking out gene ENSG00000137513\n",
      "Checking out gene ENSG00000115866\n",
      "Checking out gene ENSG00000117593\n"
     ]
    },
    {
     "name": "stderr",
     "output_type": "stream",
     "text": [
      " 37%|███▋      | 852/2322 [02:03<03:11,  7.67it/s]"
     ]
    },
    {
     "name": "stdout",
     "output_type": "stream",
     "text": [
      "Checking out gene ENSG00000134905\n"
     ]
    },
    {
     "name": "stderr",
     "output_type": "stream",
     "text": [
      " 37%|███▋      | 854/2322 [02:03<03:50,  6.38it/s]"
     ]
    },
    {
     "name": "stdout",
     "output_type": "stream",
     "text": [
      "Checking out gene ENSG00000172053\n",
      "Checking out gene ENSG00000103356\n"
     ]
    },
    {
     "name": "stderr",
     "output_type": "stream",
     "text": [
      " 37%|███▋      | 857/2322 [02:04<04:00,  6.08it/s]"
     ]
    },
    {
     "name": "stdout",
     "output_type": "stream",
     "text": [
      "Checking out gene ENSG00000136628\n",
      "Checking out gene ENSG00000106105\n",
      "Checking out gene ENSG00000112855\n",
      "Checking out gene ENSG00000170445\n"
     ]
    },
    {
     "name": "stderr",
     "output_type": "stream",
     "text": [
      " 37%|███▋      | 859/2322 [02:04<04:01,  6.06it/s]"
     ]
    },
    {
     "name": "stdout",
     "output_type": "stream",
     "text": [
      "Checking out gene ENSG00000067704\n"
     ]
    },
    {
     "name": "stderr",
     "output_type": "stream",
     "text": [
      " 37%|███▋      | 860/2322 [02:04<04:45,  5.13it/s]"
     ]
    },
    {
     "name": "stdout",
     "output_type": "stream",
     "text": [
      "Checking out gene ENSG00000196305\n",
      "Checking out gene ENSG00000011376\n"
     ]
    },
    {
     "name": "stderr",
     "output_type": "stream",
     "text": [
      " 37%|███▋      | 863/2322 [02:05<04:00,  6.07it/s]"
     ]
    },
    {
     "name": "stdout",
     "output_type": "stream",
     "text": [
      "Checking out gene ENSG00000133706\n",
      "Checking out gene ENSG00000065427\n"
     ]
    },
    {
     "name": "stderr",
     "output_type": "stream",
     "text": [
      " 37%|███▋      | 864/2322 [02:05<03:44,  6.49it/s]"
     ]
    },
    {
     "name": "stdout",
     "output_type": "stream",
     "text": [
      "Checking out gene ENSG00000103707\n",
      "Checking out gene ENSG00000145982\n"
     ]
    },
    {
     "name": "stderr",
     "output_type": "stream",
     "text": [
      " 37%|███▋      | 866/2322 [02:05<03:24,  7.10it/s]"
     ]
    },
    {
     "name": "stdout",
     "output_type": "stream",
     "text": [
      "Checking out gene ENSG00000162396\n",
      "Checking out gene ENSG00000104835\n"
     ]
    },
    {
     "name": "stderr",
     "output_type": "stream",
     "text": [
      " 37%|███▋      | 869/2322 [02:05<02:59,  8.08it/s]"
     ]
    },
    {
     "name": "stdout",
     "output_type": "stream",
     "text": [
      "Checking out gene ENSG00000113407\n",
      "Checking out gene ENSG00000143374\n"
     ]
    },
    {
     "name": "stderr",
     "output_type": "stream",
     "text": [
      " 38%|███▊      | 871/2322 [02:06<03:10,  7.62it/s]"
     ]
    },
    {
     "name": "stdout",
     "output_type": "stream",
     "text": [
      "Checking out gene ENSG00000140105\n",
      "Checking out gene ENSG00000137411\n"
     ]
    },
    {
     "name": "stderr",
     "output_type": "stream",
     "text": [
      " 38%|███▊      | 873/2322 [02:06<03:37,  6.67it/s]"
     ]
    },
    {
     "name": "stdout",
     "output_type": "stream",
     "text": [
      "Checking out gene ENSG00000204394\n",
      "Checking out gene ENSG00000008513\n"
     ]
    },
    {
     "name": "stderr",
     "output_type": "stream",
     "text": [
      " 38%|███▊      | 875/2322 [02:06<04:19,  5.57it/s]"
     ]
    },
    {
     "name": "stdout",
     "output_type": "stream",
     "text": [
      "Checking out gene ENSG00000157350\n",
      "Checking out gene ENSG00000070526\n"
     ]
    },
    {
     "name": "stderr",
     "output_type": "stream",
     "text": [
      " 38%|███▊      | 877/2322 [02:07<03:27,  6.96it/s]"
     ]
    },
    {
     "name": "stdout",
     "output_type": "stream",
     "text": [
      "Checking out gene ENSG00000198488\n",
      "Checking out gene ENSG00000140297\n"
     ]
    },
    {
     "name": "stderr",
     "output_type": "stream",
     "text": [
      " 38%|███▊      | 880/2322 [02:07<02:49,  8.53it/s]"
     ]
    },
    {
     "name": "stdout",
     "output_type": "stream",
     "text": [
      "Checking out gene ENSG00000176928\n",
      "Checking out gene ENSG00000187210\n"
     ]
    },
    {
     "name": "stderr",
     "output_type": "stream",
     "text": [
      " 38%|███▊      | 881/2322 [02:07<02:43,  8.84it/s]"
     ]
    },
    {
     "name": "stdout",
     "output_type": "stream",
     "text": [
      "Checking out gene ENSG00000158470\n",
      "Checking out gene ENSG00000110328\n",
      "Checking out gene ENSG00000115339\n"
     ]
    },
    {
     "name": "stderr",
     "output_type": "stream",
     "text": [
      " 38%|███▊      | 884/2322 [02:07<02:39,  9.03it/s]"
     ]
    },
    {
     "name": "stdout",
     "output_type": "stream",
     "text": [
      "Checking out gene ENSG00000130035\n",
      "Checking out gene ENSG00000131386\n"
     ]
    },
    {
     "name": "stderr",
     "output_type": "stream",
     "text": [
      " 38%|███▊      | 885/2322 [02:08<02:40,  8.95it/s]"
     ]
    },
    {
     "name": "stdout",
     "output_type": "stream",
     "text": [
      "Checking out gene ENSG00000136542\n"
     ]
    },
    {
     "name": "stderr",
     "output_type": "stream",
     "text": [
      " 38%|███▊      | 887/2322 [02:08<03:06,  7.69it/s]"
     ]
    },
    {
     "name": "stdout",
     "output_type": "stream",
     "text": [
      "Checking out gene ENSG00000141429\n",
      "Checking out gene ENSG00000143641\n"
     ]
    },
    {
     "name": "stderr",
     "output_type": "stream",
     "text": [
      " 38%|███▊      | 888/2322 [02:08<03:15,  7.34it/s]"
     ]
    },
    {
     "name": "stdout",
     "output_type": "stream",
     "text": [
      "Checking out gene ENSG00000178234\n",
      "Checking out gene ENSG00000106392\n"
     ]
    },
    {
     "name": "stderr",
     "output_type": "stream",
     "text": [
      " 38%|███▊      | 891/2322 [02:08<02:47,  8.52it/s]"
     ]
    },
    {
     "name": "stdout",
     "output_type": "stream",
     "text": [
      "Checking out gene ENSG00000171155\n",
      "Checking out gene ENSG00000118017\n"
     ]
    },
    {
     "name": "stderr",
     "output_type": "stream",
     "text": [
      " 38%|███▊      | 892/2322 [02:08<02:54,  8.18it/s]"
     ]
    },
    {
     "name": "stdout",
     "output_type": "stream",
     "text": [
      "Checking out gene ENSG00000152904\n",
      "Checking out gene ENSG00000160752\n"
     ]
    },
    {
     "name": "stderr",
     "output_type": "stream",
     "text": [
      " 39%|███▊      | 894/2322 [02:09<03:16,  7.27it/s]"
     ]
    },
    {
     "name": "stdout",
     "output_type": "stream",
     "text": [
      "Checking out gene ENSG00000167130\n"
     ]
    },
    {
     "name": "stderr",
     "output_type": "stream",
     "text": [
      " 39%|███▊      | 895/2322 [02:10<08:45,  2.71it/s]"
     ]
    },
    {
     "name": "stdout",
     "output_type": "stream",
     "text": [
      "Checking out gene ENSG00000139133\n"
     ]
    },
    {
     "name": "stderr",
     "output_type": "stream",
     "text": [
      " 39%|███▊      | 897/2322 [02:10<06:49,  3.48it/s]"
     ]
    },
    {
     "name": "stdout",
     "output_type": "stream",
     "text": [
      "Checking out gene ENSG00000175283\n",
      "Checking out gene ENSG00000172269\n"
     ]
    },
    {
     "name": "stderr",
     "output_type": "stream",
     "text": [
      " 39%|███▊      | 899/2322 [02:11<05:13,  4.54it/s]"
     ]
    },
    {
     "name": "stdout",
     "output_type": "stream",
     "text": [
      "Checking out gene ENSG00000172339\n",
      "Checking out gene ENSG00000033011\n"
     ]
    },
    {
     "name": "stderr",
     "output_type": "stream",
     "text": [
      " 39%|███▉      | 900/2322 [02:11<04:49,  4.92it/s]"
     ]
    },
    {
     "name": "stdout",
     "output_type": "stream",
     "text": [
      "Checking out gene ENSG00000119523\n",
      "Checking out gene ENSG00000253710\n"
     ]
    },
    {
     "name": "stderr",
     "output_type": "stream",
     "text": [
      " 39%|███▉      | 903/2322 [02:11<03:27,  6.85it/s]"
     ]
    },
    {
     "name": "stdout",
     "output_type": "stream",
     "text": [
      "Checking out gene ENSG00000000419\n",
      "Checking out gene ENSG00000179085\n"
     ]
    },
    {
     "name": "stderr",
     "output_type": "stream",
     "text": [
      " 39%|███▉      | 904/2322 [02:11<03:13,  7.32it/s]"
     ]
    },
    {
     "name": "stdout",
     "output_type": "stream",
     "text": [
      "Checking out gene ENSG00000214160\n",
      "Checking out gene ENSG00000086848\n"
     ]
    },
    {
     "name": "stderr",
     "output_type": "stream",
     "text": [
      " 39%|███▉      | 906/2322 [02:11<03:06,  7.61it/s]"
     ]
    },
    {
     "name": "stdout",
     "output_type": "stream",
     "text": [
      "Checking out gene ENSG00000182858\n",
      "Checking out gene ENSG00000088035\n"
     ]
    },
    {
     "name": "stderr",
     "output_type": "stream",
     "text": [
      " 39%|███▉      | 908/2322 [02:12<03:25,  6.87it/s]"
     ]
    },
    {
     "name": "stdout",
     "output_type": "stream",
     "text": [
      "Checking out gene ENSG00000159063\n",
      "Checking out gene ENSG00000175548\n"
     ]
    },
    {
     "name": "stderr",
     "output_type": "stream",
     "text": [
      " 39%|███▉      | 911/2322 [02:12<03:02,  7.73it/s]"
     ]
    },
    {
     "name": "stdout",
     "output_type": "stream",
     "text": [
      "Checking out gene ENSG00000104723\n",
      "Checking out gene ENSG00000118705\n"
     ]
    },
    {
     "name": "stderr",
     "output_type": "stream",
     "text": [
      " 39%|███▉      | 913/2322 [02:12<02:58,  7.87it/s]"
     ]
    },
    {
     "name": "stdout",
     "output_type": "stream",
     "text": [
      "Checking out gene ENSG00000129562\n",
      "Checking out gene ENSG00000134910\n"
     ]
    },
    {
     "name": "stderr",
     "output_type": "stream",
     "text": [
      " 39%|███▉      | 915/2322 [02:13<03:52,  6.06it/s]"
     ]
    },
    {
     "name": "stdout",
     "output_type": "stream",
     "text": [
      "Checking out gene ENSG00000163527\n",
      "Checking out gene ENSG00000163902\n"
     ]
    },
    {
     "name": "stderr",
     "output_type": "stream",
     "text": [
      " 39%|███▉      | 917/2322 [02:13<03:24,  6.87it/s]"
     ]
    },
    {
     "name": "stdout",
     "output_type": "stream",
     "text": [
      "Checking out gene ENSG00000244038\n",
      "Checking out gene ENSG00000115275\n"
     ]
    },
    {
     "name": "stderr",
     "output_type": "stream",
     "text": [
      " 40%|███▉      | 919/2322 [02:13<03:00,  7.76it/s]"
     ]
    },
    {
     "name": "stdout",
     "output_type": "stream",
     "text": [
      "Checking out gene ENSG00000089597\n",
      "Checking out gene ENSG00000111885\n",
      "Checking out gene ENSG00000117643\n"
     ]
    },
    {
     "name": "stderr",
     "output_type": "stream",
     "text": [
      " 40%|███▉      | 922/2322 [02:14<03:34,  6.54it/s]"
     ]
    },
    {
     "name": "stdout",
     "output_type": "stream",
     "text": [
      "Checking out gene ENSG00000177239\n",
      "Checking out gene ENSG00000198162\n"
     ]
    },
    {
     "name": "stderr",
     "output_type": "stream",
     "text": [
      " 40%|███▉      | 925/2322 [02:14<02:56,  7.92it/s]"
     ]
    },
    {
     "name": "stdout",
     "output_type": "stream",
     "text": [
      "Checking out gene ENSG00000131446\n",
      "Checking out gene ENSG00000112893\n",
      "Checking out gene ENSG00000196547\n"
     ]
    },
    {
     "name": "stderr",
     "output_type": "stream",
     "text": [
      " 40%|███▉      | 927/2322 [02:18<16:54,  1.37it/s]"
     ]
    },
    {
     "name": "stdout",
     "output_type": "stream",
     "text": [
      "Checking out gene ENSG00000168282\n",
      "Checking out gene ENSG00000128268\n"
     ]
    },
    {
     "name": "stderr",
     "output_type": "stream",
     "text": [
      " 40%|███▉      | 928/2322 [02:19<19:06,  1.22it/s]"
     ]
    },
    {
     "name": "stdout",
     "output_type": "stream",
     "text": [
      "Checking out gene ENSG00000071073\n"
     ]
    },
    {
     "name": "stderr",
     "output_type": "stream",
     "text": [
      " 40%|████      | 930/2322 [02:20<12:21,  1.88it/s]"
     ]
    },
    {
     "name": "stdout",
     "output_type": "stream",
     "text": [
      "Checking out gene ENSG00000161013\n",
      "Checking out gene ENSG00000182050\n"
     ]
    },
    {
     "name": "stderr",
     "output_type": "stream",
     "text": [
      " 40%|████      | 932/2322 [02:20<07:53,  2.93it/s]"
     ]
    },
    {
     "name": "stdout",
     "output_type": "stream",
     "text": [
      "Checking out gene ENSG00000152127\n",
      "Checking out gene ENSG00000033170\n"
     ]
    },
    {
     "name": "stderr",
     "output_type": "stream",
     "text": [
      " 40%|████      | 933/2322 [02:20<06:37,  3.50it/s]"
     ]
    },
    {
     "name": "stdout",
     "output_type": "stream",
     "text": [
      "Checking out gene ENSG00000073849\n"
     ]
    },
    {
     "name": "stderr",
     "output_type": "stream",
     "text": [
      " 40%|████      | 935/2322 [02:20<05:58,  3.87it/s]"
     ]
    },
    {
     "name": "stdout",
     "output_type": "stream",
     "text": [
      "Checking out gene ENSG00000144057\n",
      "Checking out gene ENSG00000104774\n"
     ]
    },
    {
     "name": "stderr",
     "output_type": "stream",
     "text": [
      " 40%|████      | 937/2322 [02:21<05:01,  4.59it/s]"
     ]
    },
    {
     "name": "stdout",
     "output_type": "stream",
     "text": [
      "Checking out gene ENSG00000140400\n",
      "Checking out gene ENSG00000109323\n"
     ]
    },
    {
     "name": "stderr",
     "output_type": "stream",
     "text": [
      " 40%|████      | 939/2322 [02:21<03:48,  6.05it/s]"
     ]
    },
    {
     "name": "stdout",
     "output_type": "stream",
     "text": [
      "Checking out gene ENSG00000038002\n",
      "Checking out gene ENSG00000167280\n",
      "Checking out gene ENSG00000064601\n"
     ]
    },
    {
     "name": "stderr",
     "output_type": "stream",
     "text": [
      " 41%|████      | 941/2322 [02:21<03:12,  7.18it/s]"
     ]
    },
    {
     "name": "stdout",
     "output_type": "stream",
     "text": [
      "Checking out gene ENSG00000115488\n",
      "Checking out gene ENSG00000162139\n"
     ]
    },
    {
     "name": "stderr",
     "output_type": "stream",
     "text": [
      " 41%|████      | 943/2322 [02:21<02:59,  7.67it/s]"
     ]
    },
    {
     "name": "stdout",
     "output_type": "stream",
     "text": [
      "Checking out gene ENSG00000204099\n",
      "Checking out gene ENSG00000204386\n"
     ]
    },
    {
     "name": "stderr",
     "output_type": "stream",
     "text": [
      " 41%|████      | 946/2322 [02:22<02:48,  8.18it/s]"
     ]
    },
    {
     "name": "stdout",
     "output_type": "stream",
     "text": [
      "Checking out gene ENSG00000141012\n",
      "Checking out gene ENSG00000001036\n"
     ]
    },
    {
     "name": "stderr",
     "output_type": "stream",
     "text": [
      " 41%|████      | 947/2322 [02:22<02:48,  8.16it/s]"
     ]
    },
    {
     "name": "stdout",
     "output_type": "stream",
     "text": [
      "Checking out gene ENSG00000179163\n"
     ]
    },
    {
     "name": "stderr",
     "output_type": "stream",
     "text": [
      " 41%|████      | 948/2322 [02:22<03:53,  5.89it/s]"
     ]
    },
    {
     "name": "stdout",
     "output_type": "stream",
     "text": [
      "Checking out gene ENSG00000000938\n"
     ]
    },
    {
     "name": "stderr",
     "output_type": "stream",
     "text": [
      " 41%|████      | 951/2322 [02:23<03:34,  6.39it/s]"
     ]
    },
    {
     "name": "stdout",
     "output_type": "stream",
     "text": [
      "Checking out gene ENSG00000007264\n",
      "Checking out gene ENSG00000010219\n",
      "Checking out gene ENSG00000010810\n"
     ]
    },
    {
     "name": "stderr",
     "output_type": "stream",
     "text": [
      " 41%|████      | 952/2322 [02:23<03:23,  6.74it/s]"
     ]
    },
    {
     "name": "stdout",
     "output_type": "stream",
     "text": [
      "Checking out gene ENSG00000013441\n"
     ]
    },
    {
     "name": "stderr",
     "output_type": "stream",
     "text": [
      " 41%|████      | 954/2322 [02:23<04:07,  5.53it/s]"
     ]
    },
    {
     "name": "stdout",
     "output_type": "stream",
     "text": [
      "Checking out gene ENSG00000027644\n",
      "Checking out gene ENSG00000030304\n"
     ]
    },
    {
     "name": "stderr",
     "output_type": "stream",
     "text": [
      " 41%|████      | 956/2322 [02:23<03:26,  6.61it/s]"
     ]
    },
    {
     "name": "stdout",
     "output_type": "stream",
     "text": [
      "Checking out gene ENSG00000044524\n",
      "Checking out gene ENSG00000061938\n"
     ]
    },
    {
     "name": "stderr",
     "output_type": "stream",
     "text": [
      " 41%|████▏     | 958/2322 [02:24<03:10,  7.16it/s]"
     ]
    },
    {
     "name": "stdout",
     "output_type": "stream",
     "text": [
      "Checking out gene ENSG00000065361\n",
      "Checking out gene ENSG00000066468\n"
     ]
    },
    {
     "name": "stderr",
     "output_type": "stream",
     "text": [
      " 41%|████▏     | 960/2322 [02:24<02:57,  7.65it/s]"
     ]
    },
    {
     "name": "stdout",
     "output_type": "stream",
     "text": [
      "Checking out gene ENSG00000068078\n",
      "Checking out gene ENSG00000070886\n"
     ]
    },
    {
     "name": "stderr",
     "output_type": "stream",
     "text": [
      " 41%|████▏     | 962/2322 [02:24<02:51,  7.94it/s]"
     ]
    },
    {
     "name": "stdout",
     "output_type": "stream",
     "text": [
      "Checking out gene ENSG00000076984\n",
      "Checking out gene ENSG00000077782\n"
     ]
    },
    {
     "name": "stderr",
     "output_type": "stream",
     "text": [
      " 42%|████▏     | 964/2322 [02:24<02:34,  8.82it/s]"
     ]
    },
    {
     "name": "stdout",
     "output_type": "stream",
     "text": [
      "Checking out gene ENSG00000080224\n",
      "Checking out gene ENSG00000096968\n"
     ]
    },
    {
     "name": "stderr",
     "output_type": "stream",
     "text": [
      " 42%|████▏     | 966/2322 [02:25<02:36,  8.66it/s]"
     ]
    },
    {
     "name": "stdout",
     "output_type": "stream",
     "text": [
      "Checking out gene ENSG00000097007\n",
      "Checking out gene ENSG00000101213\n",
      "Checking out gene ENSG00000102010\n"
     ]
    },
    {
     "name": "stderr",
     "output_type": "stream",
     "text": [
      " 42%|████▏     | 969/2322 [02:25<02:35,  8.70it/s]"
     ]
    },
    {
     "name": "stdout",
     "output_type": "stream",
     "text": [
      "Checking out gene ENSG00000103653\n",
      "Checking out gene ENSG00000105397\n"
     ]
    },
    {
     "name": "stderr",
     "output_type": "stream",
     "text": [
      " 42%|████▏     | 971/2322 [02:25<02:33,  8.78it/s]"
     ]
    },
    {
     "name": "stdout",
     "output_type": "stream",
     "text": [
      "Checking out gene ENSG00000105976\n",
      "Checking out gene ENSG00000107140\n",
      "Checking out gene ENSG00000108984\n"
     ]
    },
    {
     "name": "stderr",
     "output_type": "stream",
     "text": [
      " 42%|████▏     | 974/2322 [02:25<02:32,  8.85it/s]"
     ]
    },
    {
     "name": "stdout",
     "output_type": "stream",
     "text": [
      "Checking out gene ENSG00000111816\n",
      "Checking out gene ENSG00000112742\n"
     ]
    },
    {
     "name": "stderr",
     "output_type": "stream",
     "text": [
      " 42%|████▏     | 976/2322 [02:26<02:25,  9.24it/s]"
     ]
    },
    {
     "name": "stdout",
     "output_type": "stream",
     "text": [
      "Checking out gene ENSG00000113240\n",
      "Checking out gene ENSG00000113263\n"
     ]
    },
    {
     "name": "stderr",
     "output_type": "stream",
     "text": [
      " 42%|████▏     | 977/2322 [02:26<02:32,  8.85it/s]"
     ]
    },
    {
     "name": "stdout",
     "output_type": "stream",
     "text": [
      "Checking out gene ENSG00000113721\n",
      "Checking out gene ENSG00000116106\n"
     ]
    },
    {
     "name": "stderr",
     "output_type": "stream",
     "text": [
      " 42%|████▏     | 980/2322 [02:26<02:57,  7.57it/s]"
     ]
    },
    {
     "name": "stdout",
     "output_type": "stream",
     "text": [
      "Checking out gene ENSG00000122025\n",
      "Checking out gene ENSG00000126934\n"
     ]
    },
    {
     "name": "stderr",
     "output_type": "stream",
     "text": [
      " 42%|████▏     | 982/2322 [02:27<02:41,  8.28it/s]"
     ]
    },
    {
     "name": "stdout",
     "output_type": "stream",
     "text": [
      "Checking out gene ENSG00000127334\n",
      "Checking out gene ENSG00000133216\n"
     ]
    },
    {
     "name": "stderr",
     "output_type": "stream",
     "text": [
      " 42%|████▏     | 984/2322 [02:27<02:44,  8.12it/s]"
     ]
    },
    {
     "name": "stdout",
     "output_type": "stream",
     "text": [
      "Checking out gene ENSG00000134853\n",
      "Checking out gene ENSG00000135333\n"
     ]
    },
    {
     "name": "stderr",
     "output_type": "stream",
     "text": [
      " 42%|████▏     | 986/2322 [02:27<03:03,  7.30it/s]"
     ]
    },
    {
     "name": "stdout",
     "output_type": "stream",
     "text": [
      "Checking out gene ENSG00000135605\n",
      "Checking out gene ENSG00000136573\n"
     ]
    },
    {
     "name": "stderr",
     "output_type": "stream",
     "text": [
      " 43%|████▎     | 988/2322 [02:27<02:52,  7.72it/s]"
     ]
    },
    {
     "name": "stdout",
     "output_type": "stream",
     "text": [
      "Checking out gene ENSG00000137764\n",
      "Checking out gene ENSG00000140443\n"
     ]
    },
    {
     "name": "stderr",
     "output_type": "stream",
     "text": [
      " 43%|████▎     | 990/2322 [02:27<02:38,  8.43it/s]"
     ]
    },
    {
     "name": "stdout",
     "output_type": "stream",
     "text": [
      "Checking out gene ENSG00000140538\n",
      "Checking out gene ENSG00000141736\n"
     ]
    },
    {
     "name": "stderr",
     "output_type": "stream",
     "text": [
      " 43%|████▎     | 991/2322 [02:28<02:36,  8.49it/s]"
     ]
    },
    {
     "name": "stdout",
     "output_type": "stream",
     "text": [
      "Checking out gene ENSG00000142627\n",
      "Checking out gene ENSG00000143322\n"
     ]
    },
    {
     "name": "stderr",
     "output_type": "stream",
     "text": [
      " 43%|████▎     | 993/2322 [02:28<02:30,  8.82it/s]"
     ]
    },
    {
     "name": "stdout",
     "output_type": "stream",
     "text": [
      "Checking out gene ENSG00000146648\n"
     ]
    },
    {
     "name": "stderr",
     "output_type": "stream",
     "text": [
      " 43%|████▎     | 995/2322 [02:28<03:11,  6.91it/s]"
     ]
    },
    {
     "name": "stdout",
     "output_type": "stream",
     "text": [
      "Checking out gene ENSG00000146904\n",
      "Checking out gene ENSG00000148053\n"
     ]
    },
    {
     "name": "stderr",
     "output_type": "stream",
     "text": [
      " 43%|████▎     | 997/2322 [02:28<02:52,  7.68it/s]"
     ]
    },
    {
     "name": "stdout",
     "output_type": "stream",
     "text": [
      "Checking out gene ENSG00000151422\n",
      "Checking out gene ENSG00000153208\n",
      "Checking out gene ENSG00000157404\n"
     ]
    },
    {
     "name": "stderr",
     "output_type": "stream",
     "text": [
      " 43%|████▎     | 1000/2322 [02:29<03:00,  7.34it/s]"
     ]
    },
    {
     "name": "stdout",
     "output_type": "stream",
     "text": [
      "Checking out gene ENSG00000160867\n",
      "Checking out gene ENSG00000162434\n",
      "Checking out gene ENSG00000163785\n"
     ]
    },
    {
     "name": "stderr",
     "output_type": "stream",
     "text": [
      " 43%|████▎     | 1004/2322 [02:30<03:15,  6.75it/s]"
     ]
    },
    {
     "name": "stdout",
     "output_type": "stream",
     "text": [
      "Checking out gene ENSG00000164078\n",
      "Checking out gene ENSG00000164715\n",
      "Checking out gene ENSG00000165025\n"
     ]
    },
    {
     "name": "stderr",
     "output_type": "stream",
     "text": [
      " 43%|████▎     | 1006/2322 [02:30<02:54,  7.55it/s]"
     ]
    },
    {
     "name": "stdout",
     "output_type": "stream",
     "text": [
      "Checking out gene ENSG00000165731\n",
      "Checking out gene ENSG00000167601\n"
     ]
    },
    {
     "name": "stderr",
     "output_type": "stream",
     "text": [
      " 43%|████▎     | 1007/2322 [02:30<02:51,  7.69it/s]"
     ]
    },
    {
     "name": "stdout",
     "output_type": "stream",
     "text": [
      "Checking out gene ENSG00000167778\n",
      "Checking out gene ENSG00000168078\n"
     ]
    },
    {
     "name": "stderr",
     "output_type": "stream",
     "text": [
      " 43%|████▎     | 1009/2322 [02:30<03:21,  6.52it/s]"
     ]
    },
    {
     "name": "stdout",
     "output_type": "stream",
     "text": [
      "Checking out gene ENSG00000169032\n",
      "Checking out gene ENSG00000169398\n"
     ]
    },
    {
     "name": "stderr",
     "output_type": "stream",
     "text": [
      " 44%|████▎     | 1012/2322 [02:31<02:54,  7.52it/s]"
     ]
    },
    {
     "name": "stdout",
     "output_type": "stream",
     "text": [
      "Checking out gene ENSG00000171105\n",
      "Checking out gene ENSG00000173517\n"
     ]
    },
    {
     "name": "stderr",
     "output_type": "stream",
     "text": [
      " 44%|████▎     | 1014/2322 [02:31<02:51,  7.63it/s]"
     ]
    },
    {
     "name": "stdout",
     "output_type": "stream",
     "text": [
      "Checking out gene ENSG00000174292\n",
      "Checking out gene ENSG00000176105\n"
     ]
    },
    {
     "name": "stderr",
     "output_type": "stream",
     "text": [
      " 44%|████▍     | 1017/2322 [02:31<02:25,  8.96it/s]"
     ]
    },
    {
     "name": "stdout",
     "output_type": "stream",
     "text": [
      "Checking out gene ENSG00000178568\n",
      "Checking out gene ENSG00000179335\n",
      "Checking out gene ENSG00000182319\n"
     ]
    },
    {
     "name": "stderr",
     "output_type": "stream",
     "text": [
      " 44%|████▍     | 1019/2322 [02:31<02:20,  9.28it/s]"
     ]
    },
    {
     "name": "stdout",
     "output_type": "stream",
     "text": [
      "Checking out gene ENSG00000182511\n",
      "Checking out gene ENSG00000182578\n"
     ]
    },
    {
     "name": "stderr",
     "output_type": "stream",
     "text": [
      " 44%|████▍     | 1021/2322 [02:32<02:28,  8.74it/s]"
     ]
    },
    {
     "name": "stdout",
     "output_type": "stream",
     "text": [
      "Checking out gene ENSG00000182580\n",
      "Checking out gene ENSG00000185483\n"
     ]
    },
    {
     "name": "stderr",
     "output_type": "stream",
     "text": [
      " 44%|████▍     | 1024/2322 [02:32<03:05,  7.00it/s]"
     ]
    },
    {
     "name": "stdout",
     "output_type": "stream",
     "text": [
      "Checking out gene ENSG00000196411\n",
      "Checking out gene ENSG00000198400\n",
      "Checking out gene ENSG00000204580\n"
     ]
    },
    {
     "name": "stderr",
     "output_type": "stream",
     "text": [
      " 44%|████▍     | 1025/2322 [02:32<02:59,  7.24it/s]"
     ]
    },
    {
     "name": "stdout",
     "output_type": "stream",
     "text": [
      "Checking out gene ENSG00000060656\n",
      "Checking out gene ENSG00000064655\n"
     ]
    },
    {
     "name": "stderr",
     "output_type": "stream",
     "text": [
      " 44%|████▍     | 1028/2322 [02:33<02:51,  7.54it/s]"
     ]
    },
    {
     "name": "stdout",
     "output_type": "stream",
     "text": [
      "Checking out gene ENSG00000070159\n",
      "Checking out gene ENSG00000070778\n"
     ]
    },
    {
     "name": "stderr",
     "output_type": "stream",
     "text": [
      " 44%|████▍     | 1031/2322 [02:33<02:48,  7.64it/s]"
     ]
    },
    {
     "name": "stdout",
     "output_type": "stream",
     "text": [
      "Checking out gene ENSG00000072135\n",
      "Checking out gene ENSG00000076201\n",
      "Checking out gene ENSG00000079335\n"
     ]
    },
    {
     "name": "stderr",
     "output_type": "stream",
     "text": [
      " 44%|████▍     | 1033/2322 [02:33<02:40,  8.01it/s]"
     ]
    },
    {
     "name": "stdout",
     "output_type": "stream",
     "text": [
      "Checking out gene ENSG00000079393\n",
      "Checking out gene ENSG00000080031\n"
     ]
    },
    {
     "name": "stderr",
     "output_type": "stream",
     "text": [
      " 45%|████▍     | 1035/2322 [02:34<02:44,  7.81it/s]"
     ]
    },
    {
     "name": "stdout",
     "output_type": "stream",
     "text": [
      "Checking out gene ENSG00000084112\n",
      "Checking out gene ENSG00000100330\n",
      "Checking out gene ENSG00000100526\n"
     ]
    },
    {
     "name": "stderr",
     "output_type": "stream",
     "text": [
      " 45%|████▍     | 1039/2322 [02:34<02:52,  7.43it/s]"
     ]
    },
    {
     "name": "stdout",
     "output_type": "stream",
     "text": [
      "Checking out gene ENSG00000108861\n",
      "Checking out gene ENSG00000110536\n",
      "Checking out gene ENSG00000110786\n"
     ]
    },
    {
     "name": "stderr",
     "output_type": "stream",
     "text": [
      " 45%|████▍     | 1041/2322 [02:34<02:34,  8.27it/s]"
     ]
    },
    {
     "name": "stdout",
     "output_type": "stream",
     "text": [
      "Checking out gene ENSG00000111266\n",
      "Checking out gene ENSG00000112319\n",
      "Checking out gene ENSG00000112679\n"
     ]
    },
    {
     "name": "stderr",
     "output_type": "stream",
     "text": [
      " 45%|████▍     | 1043/2322 [02:35<02:56,  7.23it/s]"
     ]
    },
    {
     "name": "stdout",
     "output_type": "stream",
     "text": [
      "Checking out gene ENSG00000120129\n",
      "Checking out gene ENSG00000127329\n"
     ]
    },
    {
     "name": "stderr",
     "output_type": "stream",
     "text": [
      " 45%|████▌     | 1046/2322 [02:35<02:39,  7.98it/s]"
     ]
    },
    {
     "name": "stdout",
     "output_type": "stream",
     "text": [
      "Checking out gene ENSG00000127947\n",
      "Checking out gene ENSG00000130829\n"
     ]
    },
    {
     "name": "stderr",
     "output_type": "stream",
     "text": [
      " 45%|████▌     | 1049/2322 [02:35<02:17,  9.25it/s]"
     ]
    },
    {
     "name": "stdout",
     "output_type": "stream",
     "text": [
      "Checking out gene ENSG00000132334\n",
      "Checking out gene ENSG00000132670\n",
      "Checking out gene ENSG00000134242\n",
      "Checking out gene ENSG00000139318\n"
     ]
    },
    {
     "name": "stderr",
     "output_type": "stream",
     "text": [
      " 45%|████▌     | 1052/2322 [02:36<02:39,  7.95it/s]"
     ]
    },
    {
     "name": "stdout",
     "output_type": "stream",
     "text": [
      "Checking out gene ENSG00000141298\n",
      "Checking out gene ENSG00000142949\n"
     ]
    },
    {
     "name": "stderr",
     "output_type": "stream",
     "text": [
      " 45%|████▌     | 1054/2322 [02:36<02:31,  8.39it/s]"
     ]
    },
    {
     "name": "stdout",
     "output_type": "stream",
     "text": [
      "Checking out gene ENSG00000143507\n",
      "Checking out gene ENSG00000143727\n"
     ]
    },
    {
     "name": "stderr",
     "output_type": "stream",
     "text": [
      " 45%|████▌     | 1056/2322 [02:36<02:26,  8.63it/s]"
     ]
    },
    {
     "name": "stdout",
     "output_type": "stream",
     "text": [
      "Checking out gene ENSG00000149177\n",
      "Checking out gene ENSG00000152104\n",
      "Checking out gene ENSG00000153233\n"
     ]
    },
    {
     "name": "stderr",
     "output_type": "stream",
     "text": [
      " 46%|████▌     | 1058/2322 [02:36<02:20,  8.99it/s]"
     ]
    },
    {
     "name": "stdout",
     "output_type": "stream",
     "text": [
      "Checking out gene ENSG00000153707\n",
      "Checking out gene ENSG00000158079\n"
     ]
    },
    {
     "name": "stderr",
     "output_type": "stream",
     "text": [
      " 46%|████▌     | 1061/2322 [02:37<02:19,  9.07it/s]"
     ]
    },
    {
     "name": "stdout",
     "output_type": "stream",
     "text": [
      "Checking out gene ENSG00000158716\n",
      "Checking out gene ENSG00000161326\n"
     ]
    },
    {
     "name": "stderr",
     "output_type": "stream",
     "text": [
      " 46%|████▌     | 1064/2322 [02:37<02:11,  9.59it/s]"
     ]
    },
    {
     "name": "stdout",
     "output_type": "stream",
     "text": [
      "Checking out gene ENSG00000162999\n",
      "Checking out gene ENSG00000163629\n",
      "Checking out gene ENSG00000164045\n"
     ]
    },
    {
     "name": "stderr",
     "output_type": "stream",
     "text": [
      " 46%|████▌     | 1066/2322 [02:37<02:07,  9.84it/s]"
     ]
    },
    {
     "name": "stdout",
     "output_type": "stream",
     "text": [
      "Checking out gene ENSG00000167065\n",
      "Checking out gene ENSG00000169410\n",
      "Checking out gene ENSG00000170324\n"
     ]
    },
    {
     "name": "stderr",
     "output_type": "stream",
     "text": [
      " 46%|████▌     | 1069/2322 [02:38<02:11,  9.56it/s]"
     ]
    },
    {
     "name": "stdout",
     "output_type": "stream",
     "text": [
      "Checking out gene ENSG00000173482\n",
      "Checking out gene ENSG00000175354\n"
     ]
    },
    {
     "name": "stderr",
     "output_type": "stream",
     "text": [
      " 46%|████▌     | 1071/2322 [02:38<02:10,  9.58it/s]"
     ]
    },
    {
     "name": "stdout",
     "output_type": "stream",
     "text": [
      "Checking out gene ENSG00000184007\n",
      "Checking out gene ENSG00000188716\n",
      "Checking out gene ENSG00000196396\n"
     ]
    },
    {
     "name": "stderr",
     "output_type": "stream",
     "text": [
      " 46%|████▌     | 1073/2322 [02:38<02:01, 10.27it/s]"
     ]
    },
    {
     "name": "stdout",
     "output_type": "stream",
     "text": [
      "Checking out gene ENSG00000128294\n",
      "Checking out gene ENSG00000169902\n"
     ]
    },
    {
     "name": "stderr",
     "output_type": "stream",
     "text": [
      " 46%|████▋     | 1077/2322 [02:38<02:08,  9.72it/s]"
     ]
    },
    {
     "name": "stdout",
     "output_type": "stream",
     "text": [
      "Checking out gene ENSG00000117115\n",
      "Checking out gene ENSG00000142619\n"
     ]
    },
    {
     "name": "stderr",
     "output_type": "stream",
     "text": [
      " 46%|████▋     | 1078/2322 [02:38<02:17,  9.04it/s]"
     ]
    },
    {
     "name": "stdout",
     "output_type": "stream",
     "text": [
      "Checking out gene ENSG00000142623\n",
      "Checking out gene ENSG00000159339\n"
     ]
    },
    {
     "name": "stderr",
     "output_type": "stream",
     "text": [
      " 47%|████▋     | 1080/2322 [02:39<02:39,  7.79it/s]"
     ]
    },
    {
     "name": "stdout",
     "output_type": "stream",
     "text": [
      "Checking out gene ENSG00000144843\n",
      "Checking out gene ENSG00000101160\n"
     ]
    },
    {
     "name": "stderr",
     "output_type": "stream",
     "text": [
      " 47%|████▋     | 1082/2322 [02:39<02:39,  7.75it/s]"
     ]
    },
    {
     "name": "stdout",
     "output_type": "stream",
     "text": [
      "Checking out gene ENSG00000103811\n",
      "Checking out gene ENSG00000109861\n"
     ]
    },
    {
     "name": "stderr",
     "output_type": "stream",
     "text": [
      " 47%|████▋     | 1083/2322 [02:39<02:35,  7.97it/s]"
     ]
    },
    {
     "name": "stdout",
     "output_type": "stream",
     "text": [
      "Checking out gene ENSG00000117984\n"
     ]
    },
    {
     "name": "stderr",
     "output_type": "stream",
     "text": [
      " 47%|████▋     | 1085/2322 [02:39<02:58,  6.91it/s]"
     ]
    },
    {
     "name": "stdout",
     "output_type": "stream",
     "text": [
      "Checking out gene ENSG00000135047\n",
      "Checking out gene ENSG00000136943\n"
     ]
    },
    {
     "name": "stderr",
     "output_type": "stream",
     "text": [
      " 47%|████▋     | 1086/2322 [02:40<02:55,  7.03it/s]"
     ]
    },
    {
     "name": "stdout",
     "output_type": "stream",
     "text": [
      "Checking out gene ENSG00000143387\n",
      "Checking out gene ENSG00000164733\n"
     ]
    },
    {
     "name": "stderr",
     "output_type": "stream",
     "text": [
      " 47%|████▋     | 1088/2322 [02:40<02:36,  7.91it/s]"
     ]
    },
    {
     "name": "stdout",
     "output_type": "stream",
     "text": [
      "Checking out gene ENSG00000166340\n"
     ]
    },
    {
     "name": "stderr",
     "output_type": "stream",
     "text": [
      " 47%|████▋     | 1090/2322 [02:40<03:05,  6.66it/s]"
     ]
    },
    {
     "name": "stdout",
     "output_type": "stream",
     "text": [
      "Checking out gene ENSG00000172543\n",
      "Checking out gene ENSG00000174080\n"
     ]
    },
    {
     "name": "stderr",
     "output_type": "stream",
     "text": [
      " 47%|████▋     | 1092/2322 [02:40<02:44,  7.49it/s]"
     ]
    },
    {
     "name": "stdout",
     "output_type": "stream",
     "text": [
      "Checking out gene ENSG00000196188\n",
      "Checking out gene ENSG00000256043\n"
     ]
    },
    {
     "name": "stderr",
     "output_type": "stream",
     "text": [
      " 47%|████▋     | 1094/2322 [02:41<02:31,  8.12it/s]"
     ]
    },
    {
     "name": "stdout",
     "output_type": "stream",
     "text": [
      "Checking out gene ENSG00000165996\n",
      "Checking out gene ENSG00000206527\n"
     ]
    },
    {
     "name": "stderr",
     "output_type": "stream",
     "text": [
      " 47%|████▋     | 1096/2322 [02:41<02:25,  8.41it/s]"
     ]
    },
    {
     "name": "stdout",
     "output_type": "stream",
     "text": [
      "Checking out gene ENSG00000074410\n",
      "Checking out gene ENSG00000104267\n"
     ]
    },
    {
     "name": "stderr",
     "output_type": "stream",
     "text": [
      " 47%|████▋     | 1098/2322 [02:41<02:24,  8.49it/s]"
     ]
    },
    {
     "name": "stdout",
     "output_type": "stream",
     "text": [
      "Checking out gene ENSG00000107159\n",
      "Checking out gene ENSG00000118298\n",
      "Checking out gene ENSG00000131686\n"
     ]
    },
    {
     "name": "stderr",
     "output_type": "stream",
     "text": [
      " 47%|████▋     | 1101/2322 [02:41<02:20,  8.71it/s]"
     ]
    },
    {
     "name": "stdout",
     "output_type": "stream",
     "text": [
      "Checking out gene ENSG00000133742\n",
      "Checking out gene ENSG00000159593\n"
     ]
    },
    {
     "name": "stderr",
     "output_type": "stream",
     "text": [
      " 48%|████▊     | 1103/2322 [02:42<02:15,  9.02it/s]"
     ]
    },
    {
     "name": "stdout",
     "output_type": "stream",
     "text": [
      "Checking out gene ENSG00000164879\n",
      "Checking out gene ENSG00000167434\n"
     ]
    },
    {
     "name": "stderr",
     "output_type": "stream",
     "text": [
      " 48%|████▊     | 1104/2322 [02:42<05:13,  3.89it/s]"
     ]
    },
    {
     "name": "stdout",
     "output_type": "stream",
     "text": [
      "Checking out gene ENSG00000168748\n"
     ]
    },
    {
     "name": "stderr",
     "output_type": "stream",
     "text": [
      " 48%|████▊     | 1106/2322 [02:44<08:10,  2.48it/s]"
     ]
    },
    {
     "name": "stdout",
     "output_type": "stream",
     "text": [
      "Checking out gene ENSG00000178538\n",
      "Checking out gene ENSG00000185015\n"
     ]
    },
    {
     "name": "stderr",
     "output_type": "stream",
     "text": [
      " 48%|████▊     | 1108/2322 [02:44<05:10,  3.91it/s]"
     ]
    },
    {
     "name": "stdout",
     "output_type": "stream",
     "text": [
      "Checking out gene ENSG00000104331\n",
      "Checking out gene ENSG00000162813\n"
     ]
    },
    {
     "name": "stderr",
     "output_type": "stream",
     "text": [
      " 48%|████▊     | 1110/2322 [02:44<03:51,  5.24it/s]"
     ]
    },
    {
     "name": "stdout",
     "output_type": "stream",
     "text": [
      "Checking out gene ENSG00000136143\n",
      "Checking out gene ENSG00000163541\n"
     ]
    },
    {
     "name": "stderr",
     "output_type": "stream",
     "text": [
      " 48%|████▊     | 1113/2322 [02:44<02:42,  7.42it/s]"
     ]
    },
    {
     "name": "stdout",
     "output_type": "stream",
     "text": [
      "Checking out gene ENSG00000172340\n",
      "Checking out gene ENSG00000138413\n"
     ]
    },
    {
     "name": "stderr",
     "output_type": "stream",
     "text": [
      " 48%|████▊     | 1114/2322 [02:44<02:33,  7.88it/s]"
     ]
    },
    {
     "name": "stdout",
     "output_type": "stream",
     "text": [
      "Checking out gene ENSG00000182054\n",
      "Checking out gene ENSG00000083720\n"
     ]
    },
    {
     "name": "stderr",
     "output_type": "stream",
     "text": [
      " 48%|████▊     | 1115/2322 [02:45<02:34,  7.82it/s]"
     ]
    },
    {
     "name": "stdout",
     "output_type": "stream",
     "text": [
      "Checking out gene ENSG00000198754\n",
      "Checking out gene ENSG00000067829\n"
     ]
    },
    {
     "name": "stderr",
     "output_type": "stream",
     "text": [
      " 48%|████▊     | 1118/2322 [02:45<02:29,  8.05it/s]"
     ]
    },
    {
     "name": "stdout",
     "output_type": "stream",
     "text": [
      "Checking out gene ENSG00000101365\n",
      "Checking out gene ENSG00000166411\n"
     ]
    },
    {
     "name": "stderr",
     "output_type": "stream",
     "text": [
      " 48%|████▊     | 1120/2322 [02:45<02:21,  8.52it/s]"
     ]
    },
    {
     "name": "stdout",
     "output_type": "stream",
     "text": [
      "Checking out gene ENSG00000062485\n",
      "Checking out gene ENSG00000107104\n"
     ]
    },
    {
     "name": "stderr",
     "output_type": "stream",
     "text": [
      " 48%|████▊     | 1123/2322 [02:46<02:12,  9.07it/s]"
     ]
    },
    {
     "name": "stdout",
     "output_type": "stream",
     "text": [
      "Checking out gene ENSG00000131473\n",
      "Checking out gene ENSG00000122729\n",
      "Checking out gene ENSG00000136381\n"
     ]
    },
    {
     "name": "stderr",
     "output_type": "stream",
     "text": [
      " 48%|████▊     | 1124/2322 [02:46<02:43,  7.33it/s]"
     ]
    },
    {
     "name": "stdout",
     "output_type": "stream",
     "text": [
      "Checking out gene ENSG00000100412\n"
     ]
    },
    {
     "name": "stderr",
     "output_type": "stream",
     "text": [
      " 48%|████▊     | 1125/2322 [02:46<03:30,  5.67it/s]"
     ]
    },
    {
     "name": "stdout",
     "output_type": "stream",
     "text": [
      "Checking out gene ENSG00000073578\n",
      "Checking out gene ENSG00000117118\n"
     ]
    },
    {
     "name": "stderr",
     "output_type": "stream",
     "text": [
      " 49%|████▊     | 1129/2322 [02:46<02:36,  7.65it/s]"
     ]
    },
    {
     "name": "stdout",
     "output_type": "stream",
     "text": [
      "Checking out gene ENSG00000143252\n",
      "Checking out gene ENSG00000204370\n",
      "Checking out gene ENSG00000125246\n"
     ]
    },
    {
     "name": "stderr",
     "output_type": "stream",
     "text": [
      " 49%|████▊     | 1130/2322 [02:47<02:32,  7.80it/s]"
     ]
    },
    {
     "name": "stdout",
     "output_type": "stream",
     "text": [
      "Checking out gene ENSG00000107902\n",
      "Checking out gene ENSG00000138777\n"
     ]
    },
    {
     "name": "stderr",
     "output_type": "stream",
     "text": [
      " 49%|████▉     | 1133/2322 [02:47<02:27,  8.08it/s]"
     ]
    },
    {
     "name": "stdout",
     "output_type": "stream",
     "text": [
      "Checking out gene ENSG00000180817\n",
      "Checking out gene ENSG00000105379\n"
     ]
    },
    {
     "name": "stderr",
     "output_type": "stream",
     "text": [
      " 49%|████▉     | 1135/2322 [02:47<02:31,  7.82it/s]"
     ]
    },
    {
     "name": "stdout",
     "output_type": "stream",
     "text": [
      "Checking out gene ENSG00000140374\n",
      "Checking out gene ENSG00000171503\n"
     ]
    },
    {
     "name": "stderr",
     "output_type": "stream",
     "text": [
      " 49%|████▉     | 1137/2322 [02:48<03:35,  5.49it/s]"
     ]
    },
    {
     "name": "stdout",
     "output_type": "stream",
     "text": [
      "Checking out gene ENSG00000014919\n",
      "Checking out gene ENSG00000111775\n"
     ]
    },
    {
     "name": "stderr",
     "output_type": "stream",
     "text": [
      " 49%|████▉     | 1139/2322 [02:48<03:06,  6.36it/s]"
     ]
    },
    {
     "name": "stdout",
     "output_type": "stream",
     "text": [
      "Checking out gene ENSG00000112695\n",
      "Checking out gene ENSG00000115944\n"
     ]
    },
    {
     "name": "stderr",
     "output_type": "stream",
     "text": [
      " 49%|████▉     | 1141/2322 [02:48<03:02,  6.46it/s]"
     ]
    },
    {
     "name": "stdout",
     "output_type": "stream",
     "text": [
      "Checking out gene ENSG00000126267\n",
      "Checking out gene ENSG00000127184\n"
     ]
    },
    {
     "name": "stderr",
     "output_type": "stream",
     "text": [
      " 49%|████▉     | 1144/2322 [02:49<02:58,  6.62it/s]"
     ]
    },
    {
     "name": "stdout",
     "output_type": "stream",
     "text": [
      "Checking out gene ENSG00000131055\n",
      "Checking out gene ENSG00000131143\n",
      "Checking out gene ENSG00000131174\n"
     ]
    },
    {
     "name": "stderr",
     "output_type": "stream",
     "text": [
      " 49%|████▉     | 1146/2322 [02:49<02:36,  7.49it/s]"
     ]
    },
    {
     "name": "stdout",
     "output_type": "stream",
     "text": [
      "Checking out gene ENSG00000135940\n",
      "Checking out gene ENSG00000138495\n"
     ]
    },
    {
     "name": "stderr",
     "output_type": "stream",
     "text": [
      " 49%|████▉     | 1149/2322 [02:49<02:10,  9.01it/s]"
     ]
    },
    {
     "name": "stdout",
     "output_type": "stream",
     "text": [
      "Checking out gene ENSG00000156885\n",
      "Checking out gene ENSG00000160471\n",
      "Checking out gene ENSG00000161281\n"
     ]
    },
    {
     "name": "stderr",
     "output_type": "stream",
     "text": [
      " 50%|████▉     | 1151/2322 [02:50<02:13,  8.79it/s]"
     ]
    },
    {
     "name": "stdout",
     "output_type": "stream",
     "text": [
      "Checking out gene ENSG00000164919\n",
      "Checking out gene ENSG00000170516\n"
     ]
    },
    {
     "name": "stderr",
     "output_type": "stream",
     "text": [
      " 50%|████▉     | 1153/2322 [02:50<02:11,  8.91it/s]"
     ]
    },
    {
     "name": "stdout",
     "output_type": "stream",
     "text": [
      "Checking out gene ENSG00000176340\n",
      "Checking out gene ENSG00000178741\n"
     ]
    },
    {
     "name": "stderr",
     "output_type": "stream",
     "text": [
      " 50%|████▉     | 1154/2322 [02:50<02:11,  8.86it/s]"
     ]
    },
    {
     "name": "stdout",
     "output_type": "stream",
     "text": [
      "Checking out gene ENSG00000187581\n",
      "Checking out gene ENSG00000198712\n"
     ]
    },
    {
     "name": "stderr",
     "output_type": "stream",
     "text": [
      " 50%|████▉     | 1157/2322 [02:50<02:27,  7.92it/s]"
     ]
    },
    {
     "name": "stdout",
     "output_type": "stream",
     "text": [
      "Checking out gene ENSG00000198804\n",
      "Checking out gene ENSG00000198938\n"
     ]
    },
    {
     "name": "stderr",
     "output_type": "stream",
     "text": [
      " 50%|████▉     | 1160/2322 [02:51<02:11,  8.85it/s]"
     ]
    },
    {
     "name": "stdout",
     "output_type": "stream",
     "text": [
      "Checking out gene ENSG00000001626\n",
      "Checking out gene ENSG00000004700\n",
      "Checking out gene ENSG00000017260\n"
     ]
    },
    {
     "name": "stderr",
     "output_type": "stream",
     "text": [
      " 50%|█████     | 1163/2322 [02:51<02:05,  9.26it/s]"
     ]
    },
    {
     "name": "stdout",
     "output_type": "stream",
     "text": [
      "Checking out gene ENSG00000018625\n",
      "Checking out gene ENSG00000021574\n",
      "Checking out gene ENSG00000033627\n"
     ]
    },
    {
     "name": "stderr",
     "output_type": "stream",
     "text": [
      " 50%|█████     | 1165/2322 [02:51<03:03,  6.30it/s]"
     ]
    },
    {
     "name": "stdout",
     "output_type": "stream",
     "text": [
      "Checking out gene ENSG00000039123\n",
      "Checking out gene ENSG00000047249\n"
     ]
    },
    {
     "name": "stderr",
     "output_type": "stream",
     "text": [
      " 50%|█████     | 1167/2322 [02:52<02:32,  7.57it/s]"
     ]
    },
    {
     "name": "stdout",
     "output_type": "stream",
     "text": [
      "Checking out gene ENSG00000058668\n",
      "Checking out gene ENSG00000064703\n"
     ]
    },
    {
     "name": "stderr",
     "output_type": "stream",
     "text": [
      " 50%|█████     | 1170/2322 [02:52<02:11,  8.75it/s]"
     ]
    },
    {
     "name": "stdout",
     "output_type": "stream",
     "text": [
      "Checking out gene ENSG00000069849\n",
      "Checking out gene ENSG00000070961\n",
      "Checking out gene ENSG00000071553\n"
     ]
    },
    {
     "name": "stderr",
     "output_type": "stream",
     "text": [
      " 50%|█████     | 1172/2322 [02:52<02:10,  8.78it/s]"
     ]
    },
    {
     "name": "stdout",
     "output_type": "stream",
     "text": [
      "Checking out gene ENSG00000073146\n",
      "Checking out gene ENSG00000073969\n"
     ]
    },
    {
     "name": "stderr",
     "output_type": "stream",
     "text": [
      " 51%|█████     | 1175/2322 [02:52<02:09,  8.88it/s]"
     ]
    },
    {
     "name": "stdout",
     "output_type": "stream",
     "text": [
      "Checking out gene ENSG00000074370\n",
      "Checking out gene ENSG00000079785\n",
      "Checking out gene ENSG00000080007\n"
     ]
    },
    {
     "name": "stderr",
     "output_type": "stream",
     "text": [
      " 51%|█████     | 1177/2322 [02:53<02:21,  8.11it/s]"
     ]
    },
    {
     "name": "stdout",
     "output_type": "stream",
     "text": [
      "Checking out gene ENSG00000081923\n",
      "Checking out gene ENSG00000085224\n"
     ]
    },
    {
     "name": "stderr",
     "output_type": "stream",
     "text": [
      " 51%|█████     | 1179/2322 [02:53<02:52,  6.62it/s]"
     ]
    },
    {
     "name": "stdout",
     "output_type": "stream",
     "text": [
      "Checking out gene ENSG00000088205\n",
      "Checking out gene ENSG00000089737\n",
      "Checking out gene ENSG00000099624\n"
     ]
    },
    {
     "name": "stderr",
     "output_type": "stream",
     "text": [
      " 51%|█████     | 1183/2322 [02:54<02:15,  8.38it/s]"
     ]
    },
    {
     "name": "stdout",
     "output_type": "stream",
     "text": [
      "Checking out gene ENSG00000100554\n",
      "Checking out gene ENSG00000101892\n"
     ]
    },
    {
     "name": "stderr",
     "output_type": "stream",
     "text": [
      " 51%|█████     | 1184/2322 [02:54<02:17,  8.29it/s]"
     ]
    },
    {
     "name": "stdout",
     "output_type": "stream",
     "text": [
      "Checking out gene ENSG00000101974\n",
      "Checking out gene ENSG00000102781\n"
     ]
    },
    {
     "name": "stderr",
     "output_type": "stream",
     "text": [
      " 51%|█████     | 1186/2322 [02:54<02:19,  8.15it/s]"
     ]
    },
    {
     "name": "stdout",
     "output_type": "stream",
     "text": [
      "Checking out gene ENSG00000104043\n",
      "Checking out gene ENSG00000104738\n"
     ]
    },
    {
     "name": "stderr",
     "output_type": "stream",
     "text": [
      " 51%|█████     | 1187/2322 [02:54<02:51,  6.61it/s]"
     ]
    },
    {
     "name": "stdout",
     "output_type": "stream",
     "text": [
      "Checking out gene ENSG00000105409\n"
     ]
    },
    {
     "name": "stderr",
     "output_type": "stream",
     "text": [
      " 51%|█████     | 1188/2322 [02:55<04:44,  3.98it/s]"
     ]
    },
    {
     "name": "stdout",
     "output_type": "stream",
     "text": [
      "Checking out gene ENSG00000105671\n"
     ]
    },
    {
     "name": "stderr",
     "output_type": "stream",
     "text": [
      " 51%|█████     | 1190/2322 [02:56<07:19,  2.57it/s]"
     ]
    },
    {
     "name": "stdout",
     "output_type": "stream",
     "text": [
      "Checking out gene ENSG00000105675\n",
      "Checking out gene ENSG00000105929\n"
     ]
    },
    {
     "name": "stderr",
     "output_type": "stream",
     "text": [
      " 51%|█████▏    | 1192/2322 [02:56<04:48,  3.92it/s]"
     ]
    },
    {
     "name": "stdout",
     "output_type": "stream",
     "text": [
      "Checking out gene ENSG00000108469\n",
      "Checking out gene ENSG00000108654\n"
     ]
    },
    {
     "name": "stderr",
     "output_type": "stream",
     "text": [
      " 51%|█████▏    | 1195/2322 [02:56<03:03,  6.14it/s]"
     ]
    },
    {
     "name": "stdout",
     "output_type": "stream",
     "text": [
      "Checking out gene ENSG00000110367\n",
      "Checking out gene ENSG00000110719\n",
      "Checking out gene ENSG00000110955\n"
     ]
    },
    {
     "name": "stderr",
     "output_type": "stream",
     "text": [
      " 52%|█████▏    | 1197/2322 [02:57<02:41,  6.95it/s]"
     ]
    },
    {
     "name": "stdout",
     "output_type": "stream",
     "text": [
      "Checking out gene ENSG00000111642\n",
      "Checking out gene ENSG00000111877\n"
     ]
    },
    {
     "name": "stderr",
     "output_type": "stream",
     "text": [
      " 52%|█████▏    | 1199/2322 [02:57<02:21,  7.95it/s]"
     ]
    },
    {
     "name": "stdout",
     "output_type": "stream",
     "text": [
      "Checking out gene ENSG00000113732\n",
      "Checking out gene ENSG00000114573\n"
     ]
    },
    {
     "name": "stderr",
     "output_type": "stream",
     "text": [
      " 52%|█████▏    | 1201/2322 [02:57<02:18,  8.07it/s]"
     ]
    },
    {
     "name": "stdout",
     "output_type": "stream",
     "text": [
      "Checking out gene ENSG00000115267\n",
      "Checking out gene ENSG00000116039\n"
     ]
    },
    {
     "name": "stderr",
     "output_type": "stream",
     "text": [
      " 52%|█████▏    | 1203/2322 [02:57<02:05,  8.88it/s]"
     ]
    },
    {
     "name": "stdout",
     "output_type": "stream",
     "text": [
      "Checking out gene ENSG00000116254\n",
      "Checking out gene ENSG00000116459\n",
      "Checking out gene ENSG00000117410\n"
     ]
    },
    {
     "name": "stderr",
     "output_type": "stream",
     "text": [
      " 52%|█████▏    | 1206/2322 [02:58<02:00,  9.23it/s]"
     ]
    },
    {
     "name": "stdout",
     "output_type": "stream",
     "text": [
      "Checking out gene ENSG00000123136\n",
      "Checking out gene ENSG00000123472\n"
     ]
    },
    {
     "name": "stderr",
     "output_type": "stream",
     "text": [
      " 52%|█████▏    | 1209/2322 [02:58<01:54,  9.74it/s]"
     ]
    },
    {
     "name": "stdout",
     "output_type": "stream",
     "text": [
      "Checking out gene ENSG00000124172\n",
      "Checking out gene ENSG00000124228\n",
      "Checking out gene ENSG00000124406\n"
     ]
    },
    {
     "name": "stderr",
     "output_type": "stream",
     "text": [
      " 52%|█████▏    | 1210/2322 [02:58<01:58,  9.39it/s]"
     ]
    },
    {
     "name": "stdout",
     "output_type": "stream",
     "text": [
      "Checking out gene ENSG00000125375\n",
      "Checking out gene ENSG00000128524\n"
     ]
    },
    {
     "name": "stderr",
     "output_type": "stream",
     "text": [
      " 52%|█████▏    | 1213/2322 [02:59<04:45,  3.88it/s]"
     ]
    },
    {
     "name": "stdout",
     "output_type": "stream",
     "text": [
      "Checking out gene ENSG00000129244\n",
      "Checking out gene ENSG00000131100\n"
     ]
    },
    {
     "name": "stderr",
     "output_type": "stream",
     "text": [
      " 52%|█████▏    | 1216/2322 [03:00<03:52,  4.76it/s]"
     ]
    },
    {
     "name": "stdout",
     "output_type": "stream",
     "text": [
      "Checking out gene ENSG00000132153\n",
      "Checking out gene ENSG00000132681\n",
      "Checking out gene ENSG00000134452\n"
     ]
    },
    {
     "name": "stderr",
     "output_type": "stream",
     "text": [
      " 52%|█████▏    | 1218/2322 [03:00<03:10,  5.79it/s]"
     ]
    },
    {
     "name": "stdout",
     "output_type": "stream",
     "text": [
      "Checking out gene ENSG00000135390\n",
      "Checking out gene ENSG00000135829\n"
     ]
    },
    {
     "name": "stderr",
     "output_type": "stream",
     "text": [
      " 53%|█████▎    | 1221/2322 [03:00<02:22,  7.73it/s]"
     ]
    },
    {
     "name": "stdout",
     "output_type": "stream",
     "text": [
      "Checking out gene ENSG00000136271\n",
      "Checking out gene ENSG00000136492\n",
      "Checking out gene ENSG00000136888\n"
     ]
    },
    {
     "name": "stderr",
     "output_type": "stream",
     "text": [
      " 53%|█████▎    | 1223/2322 [03:01<02:18,  7.95it/s]"
     ]
    },
    {
     "name": "stdout",
     "output_type": "stream",
     "text": [
      "Checking out gene ENSG00000138346\n",
      "Checking out gene ENSG00000138375\n"
     ]
    },
    {
     "name": "stderr",
     "output_type": "stream",
     "text": [
      " 53%|█████▎    | 1225/2322 [03:01<02:13,  8.23it/s]"
     ]
    },
    {
     "name": "stdout",
     "output_type": "stream",
     "text": [
      "Checking out gene ENSG00000140451\n",
      "Checking out gene ENSG00000140829\n"
     ]
    },
    {
     "name": "stderr",
     "output_type": "stream",
     "text": [
      " 53%|█████▎    | 1228/2322 [03:01<02:00,  9.12it/s]"
     ]
    },
    {
     "name": "stdout",
     "output_type": "stream",
     "text": [
      "Checking out gene ENSG00000141543\n",
      "Checking out gene ENSG00000143153\n",
      "Checking out gene ENSG00000143882\n"
     ]
    },
    {
     "name": "stderr",
     "output_type": "stream",
     "text": [
      " 53%|█████▎    | 1230/2322 [03:01<01:57,  9.26it/s]"
     ]
    },
    {
     "name": "stdout",
     "output_type": "stream",
     "text": [
      "Checking out gene ENSG00000144045\n",
      "Checking out gene ENSG00000145246\n"
     ]
    },
    {
     "name": "stderr",
     "output_type": "stream",
     "text": [
      " 53%|█████▎    | 1233/2322 [03:02<02:56,  6.18it/s]"
     ]
    },
    {
     "name": "stdout",
     "output_type": "stream",
     "text": [
      "Checking out gene ENSG00000145833\n",
      "Checking out gene ENSG00000147416\n",
      "Checking out gene ENSG00000147614\n"
     ]
    },
    {
     "name": "stderr",
     "output_type": "stream",
     "text": [
      " 53%|█████▎    | 1235/2322 [03:02<02:27,  7.39it/s]"
     ]
    },
    {
     "name": "stdout",
     "output_type": "stream",
     "text": [
      "Checking out gene ENSG00000150990\n",
      "Checking out gene ENSG00000151418\n",
      "Checking out gene ENSG00000152234\n"
     ]
    },
    {
     "name": "stderr",
     "output_type": "stream",
     "text": [
      " 53%|█████▎    | 1238/2322 [03:03<02:13,  8.13it/s]"
     ]
    },
    {
     "name": "stdout",
     "output_type": "stream",
     "text": [
      "Checking out gene ENSG00000153922\n",
      "Checking out gene ENSG00000154518\n"
     ]
    },
    {
     "name": "stderr",
     "output_type": "stream",
     "text": [
      " 53%|█████▎    | 1240/2322 [03:03<02:07,  8.49it/s]"
     ]
    },
    {
     "name": "stdout",
     "output_type": "stream",
     "text": [
      "Checking out gene ENSG00000154723\n",
      "Checking out gene ENSG00000155097\n"
     ]
    },
    {
     "name": "stderr",
     "output_type": "stream",
     "text": [
      " 54%|█████▎    | 1243/2322 [03:03<01:59,  9.01it/s]"
     ]
    },
    {
     "name": "stdout",
     "output_type": "stream",
     "text": [
      "Checking out gene ENSG00000156976\n",
      "Checking out gene ENSG00000157087\n",
      "Checking out gene ENSG00000159199\n"
     ]
    },
    {
     "name": "stderr",
     "output_type": "stream",
     "text": [
      " 54%|█████▎    | 1245/2322 [03:04<02:30,  7.17it/s]"
     ]
    },
    {
     "name": "stdout",
     "output_type": "stream",
     "text": [
      "Checking out gene ENSG00000159720\n",
      "Checking out gene ENSG00000163161\n"
     ]
    },
    {
     "name": "stderr",
     "output_type": "stream",
     "text": [
      " 54%|█████▎    | 1246/2322 [03:04<02:23,  7.52it/s]"
     ]
    },
    {
     "name": "stdout",
     "output_type": "stream",
     "text": [
      "Checking out gene ENSG00000163399\n",
      "Checking out gene ENSG00000164080\n"
     ]
    },
    {
     "name": "stderr",
     "output_type": "stream",
     "text": [
      " 54%|█████▍    | 1249/2322 [03:04<02:13,  8.01it/s]"
     ]
    },
    {
     "name": "stdout",
     "output_type": "stream",
     "text": [
      "Checking out gene ENSG00000165629\n",
      "Checking out gene ENSG00000166833\n"
     ]
    },
    {
     "name": "stderr",
     "output_type": "stream",
     "text": [
      " 54%|█████▍    | 1251/2322 [03:04<02:00,  8.86it/s]"
     ]
    },
    {
     "name": "stdout",
     "output_type": "stream",
     "text": [
      "Checking out gene ENSG00000167216\n",
      "Checking out gene ENSG00000167283\n",
      "Checking out gene ENSG00000167863\n"
     ]
    },
    {
     "name": "stderr",
     "output_type": "stream",
     "text": [
      " 54%|█████▍    | 1254/2322 [03:05<01:56,  9.18it/s]"
     ]
    },
    {
     "name": "stdout",
     "output_type": "stream",
     "text": [
      "Checking out gene ENSG00000169020\n",
      "Checking out gene ENSG00000171953\n",
      "Checking out gene ENSG00000174243\n"
     ]
    },
    {
     "name": "stderr",
     "output_type": "stream",
     "text": [
      " 54%|█████▍    | 1258/2322 [03:05<01:44, 10.18it/s]"
     ]
    },
    {
     "name": "stdout",
     "output_type": "stream",
     "text": [
      "Checking out gene ENSG00000174953\n",
      "Checking out gene ENSG00000177200\n",
      "Checking out gene ENSG00000183207\n",
      "Checking out gene ENSG00000185344\n"
     ]
    },
    {
     "name": "stderr",
     "output_type": "stream",
     "text": [
      " 54%|█████▍    | 1261/2322 [03:06<04:21,  4.05it/s]"
     ]
    },
    {
     "name": "stdout",
     "output_type": "stream",
     "text": [
      "Checking out gene ENSG00000185883\n",
      "Checking out gene ENSG00000186009\n"
     ]
    },
    {
     "name": "stderr",
     "output_type": "stream",
     "text": [
      " 54%|█████▍    | 1264/2322 [03:07<03:09,  5.58it/s]"
     ]
    },
    {
     "name": "stdout",
     "output_type": "stream",
     "text": [
      "Checking out gene ENSG00000186625\n",
      "Checking out gene ENSG00000187240\n",
      "Checking out gene ENSG00000188342\n"
     ]
    },
    {
     "name": "stderr",
     "output_type": "stream",
     "text": [
      " 55%|█████▍    | 1266/2322 [03:07<02:57,  5.95it/s]"
     ]
    },
    {
     "name": "stdout",
     "output_type": "stream",
     "text": [
      "Checking out gene ENSG00000196296\n",
      "Checking out gene ENSG00000198231\n"
     ]
    },
    {
     "name": "stderr",
     "output_type": "stream",
     "text": [
      " 55%|█████▍    | 1268/2322 [03:21<47:35,  2.71s/it]  "
     ]
    },
    {
     "name": "stdout",
     "output_type": "stream",
     "text": [
      "Checking out gene ENSG00000198563\n",
      "Checking out gene ENSG00000198899\n"
     ]
    },
    {
     "name": "stderr",
     "output_type": "stream",
     "text": [
      " 55%|█████▍    | 1271/2322 [03:21<20:22,  1.16s/it]"
     ]
    },
    {
     "name": "stdout",
     "output_type": "stream",
     "text": [
      "Checking out gene ENSG00000204560\n",
      "Checking out gene ENSG00000206190\n",
      "Checking out gene ENSG00000213782\n"
     ]
    },
    {
     "name": "stderr",
     "output_type": "stream",
     "text": [
      " 55%|█████▍    | 1273/2322 [03:22<13:09,  1.33it/s]"
     ]
    },
    {
     "name": "stdout",
     "output_type": "stream",
     "text": [
      "Checking out gene ENSG00000229604\n",
      "Checking out gene ENSG00000234920\n"
     ]
    },
    {
     "name": "stderr",
     "output_type": "stream",
     "text": [
      " 55%|█████▍    | 1275/2322 [03:22<08:41,  2.01it/s]"
     ]
    },
    {
     "name": "stdout",
     "output_type": "stream",
     "text": [
      "Checking out gene ENSG00000241468\n",
      "Checking out gene ENSG00000241837\n"
     ]
    },
    {
     "name": "stderr",
     "output_type": "stream",
     "text": [
      " 55%|█████▍    | 1277/2322 [03:22<05:50,  2.98it/s]"
     ]
    },
    {
     "name": "stdout",
     "output_type": "stream",
     "text": [
      "Checking out gene ENSG00000249222\n",
      "Checking out gene ENSG00000250565\n"
     ]
    },
    {
     "name": "stderr",
     "output_type": "stream",
     "text": [
      " 55%|█████▌    | 1279/2322 [03:22<04:28,  3.89it/s]"
     ]
    },
    {
     "name": "stdout",
     "output_type": "stream",
     "text": [
      "Checking out gene ENSG00000010256\n",
      "Checking out gene ENSG00000127540\n"
     ]
    },
    {
     "name": "stderr",
     "output_type": "stream",
     "text": [
      " 55%|█████▌    | 1281/2322 [03:23<03:22,  5.13it/s]"
     ]
    },
    {
     "name": "stdout",
     "output_type": "stream",
     "text": [
      "Checking out gene ENSG00000140740\n",
      "Checking out gene ENSG00000156467\n",
      "Checking out gene ENSG00000164405\n"
     ]
    },
    {
     "name": "stderr",
     "output_type": "stream",
     "text": [
      " 55%|█████▌    | 1283/2322 [03:23<02:40,  6.49it/s]"
     ]
    },
    {
     "name": "stdout",
     "output_type": "stream",
     "text": [
      "Checking out gene ENSG00000169021\n",
      "Checking out gene ENSG00000173660\n"
     ]
    },
    {
     "name": "stderr",
     "output_type": "stream",
     "text": [
      " 55%|█████▌    | 1286/2322 [03:23<02:16,  7.59it/s]"
     ]
    },
    {
     "name": "stdout",
     "output_type": "stream",
     "text": [
      "Checking out gene ENSG00000179091\n",
      "Checking out gene ENSG00000184076\n"
     ]
    },
    {
     "name": "stderr",
     "output_type": "stream",
     "text": [
      " 55%|█████▌    | 1288/2322 [03:23<02:07,  8.10it/s]"
     ]
    },
    {
     "name": "stdout",
     "output_type": "stream",
     "text": [
      "Checking out gene ENSG00000198727\n",
      "Checking out gene ENSG00000004779\n"
     ]
    },
    {
     "name": "stderr",
     "output_type": "stream",
     "text": [
      " 56%|█████▌    | 1290/2322 [03:24<02:30,  6.87it/s]"
     ]
    },
    {
     "name": "stdout",
     "output_type": "stream",
     "text": [
      "Checking out gene ENSG00000023228\n",
      "Checking out gene ENSG00000065518\n"
     ]
    },
    {
     "name": "stderr",
     "output_type": "stream",
     "text": [
      " 56%|█████▌    | 1292/2322 [03:24<02:31,  6.79it/s]"
     ]
    },
    {
     "name": "stdout",
     "output_type": "stream",
     "text": [
      "Checking out gene ENSG00000090266\n",
      "Checking out gene ENSG00000099795\n"
     ]
    },
    {
     "name": "stderr",
     "output_type": "stream",
     "text": [
      " 56%|█████▌    | 1295/2322 [03:24<02:00,  8.49it/s]"
     ]
    },
    {
     "name": "stdout",
     "output_type": "stream",
     "text": [
      "Checking out gene ENSG00000109390\n",
      "Checking out gene ENSG00000110717\n",
      "Checking out gene ENSG00000115286\n"
     ]
    },
    {
     "name": "stderr",
     "output_type": "stream",
     "text": [
      " 56%|█████▌    | 1297/2322 [03:25<02:15,  7.59it/s]"
     ]
    },
    {
     "name": "stdout",
     "output_type": "stream",
     "text": [
      "Checking out gene ENSG00000119013\n",
      "Checking out gene ENSG00000119421\n"
     ]
    },
    {
     "name": "stderr",
     "output_type": "stream",
     "text": [
      " 56%|█████▌    | 1299/2322 [03:25<02:22,  7.19it/s]"
     ]
    },
    {
     "name": "stdout",
     "output_type": "stream",
     "text": [
      "Checking out gene ENSG00000125356\n",
      "Checking out gene ENSG00000128609\n"
     ]
    },
    {
     "name": "stderr",
     "output_type": "stream",
     "text": [
      " 56%|█████▌    | 1301/2322 [03:25<02:02,  8.35it/s]"
     ]
    },
    {
     "name": "stdout",
     "output_type": "stream",
     "text": [
      "Checking out gene ENSG00000130414\n",
      "Checking out gene ENSG00000131495\n"
     ]
    },
    {
     "name": "stderr",
     "output_type": "stream",
     "text": [
      " 56%|█████▌    | 1303/2322 [03:25<02:36,  6.51it/s]"
     ]
    },
    {
     "name": "stdout",
     "output_type": "stream",
     "text": [
      "Checking out gene ENSG00000136521\n",
      "Checking out gene ENSG00000139180\n"
     ]
    },
    {
     "name": "stderr",
     "output_type": "stream",
     "text": [
      " 56%|█████▌    | 1304/2322 [03:26<02:27,  6.88it/s]"
     ]
    },
    {
     "name": "stdout",
     "output_type": "stream",
     "text": [
      "Checking out gene ENSG00000140990\n"
     ]
    },
    {
     "name": "stderr",
     "output_type": "stream",
     "text": [
      " 56%|█████▌    | 1306/2322 [03:26<03:17,  5.15it/s]"
     ]
    },
    {
     "name": "stdout",
     "output_type": "stream",
     "text": [
      "Checking out gene ENSG00000145494\n",
      "Checking out gene ENSG00000147123\n"
     ]
    },
    {
     "name": "stderr",
     "output_type": "stream",
     "text": [
      " 56%|█████▋    | 1309/2322 [03:27<02:58,  5.69it/s]"
     ]
    },
    {
     "name": "stdout",
     "output_type": "stream",
     "text": [
      "Checking out gene ENSG00000147684\n",
      "Checking out gene ENSG00000151366\n",
      "Checking out gene ENSG00000158864\n"
     ]
    },
    {
     "name": "stderr",
     "output_type": "stream",
     "text": [
      " 56%|█████▋    | 1311/2322 [03:27<02:36,  6.48it/s]"
     ]
    },
    {
     "name": "stdout",
     "output_type": "stream",
     "text": [
      "Checking out gene ENSG00000160194\n",
      "Checking out gene ENSG00000164258\n"
     ]
    },
    {
     "name": "stderr",
     "output_type": "stream",
     "text": [
      " 57%|█████▋    | 1313/2322 [03:27<02:18,  7.31it/s]"
     ]
    },
    {
     "name": "stdout",
     "output_type": "stream",
     "text": [
      "Checking out gene ENSG00000165264\n",
      "Checking out gene ENSG00000166136\n"
     ]
    },
    {
     "name": "stderr",
     "output_type": "stream",
     "text": [
      " 57%|█████▋    | 1315/2322 [03:27<02:18,  7.26it/s]"
     ]
    },
    {
     "name": "stdout",
     "output_type": "stream",
     "text": [
      "Checking out gene ENSG00000167774\n",
      "Checking out gene ENSG00000167792\n"
     ]
    },
    {
     "name": "stderr",
     "output_type": "stream",
     "text": [
      " 57%|█████▋    | 1318/2322 [03:28<01:53,  8.87it/s]"
     ]
    },
    {
     "name": "stdout",
     "output_type": "stream",
     "text": [
      "Checking out gene ENSG00000168653\n",
      "Checking out gene ENSG00000170906\n",
      "Checking out gene ENSG00000174886\n"
     ]
    },
    {
     "name": "stderr",
     "output_type": "stream",
     "text": [
      " 57%|█████▋    | 1320/2322 [03:28<01:51,  8.96it/s]"
     ]
    },
    {
     "name": "stdout",
     "output_type": "stream",
     "text": [
      "Checking out gene ENSG00000178127\n",
      "Checking out gene ENSG00000183648\n"
     ]
    },
    {
     "name": "stderr",
     "output_type": "stream",
     "text": [
      " 57%|█████▋    | 1321/2322 [03:28<02:06,  7.93it/s]"
     ]
    },
    {
     "name": "stdout",
     "output_type": "stream",
     "text": [
      "Checking out gene ENSG00000184752\n",
      "Checking out gene ENSG00000184983\n"
     ]
    },
    {
     "name": "stderr",
     "output_type": "stream",
     "text": [
      " 57%|█████▋    | 1324/2322 [03:29<02:05,  7.92it/s]"
     ]
    },
    {
     "name": "stdout",
     "output_type": "stream",
     "text": [
      "Checking out gene ENSG00000185633\n",
      "Checking out gene ENSG00000186010\n"
     ]
    },
    {
     "name": "stderr",
     "output_type": "stream",
     "text": [
      " 57%|█████▋    | 1326/2322 [03:29<02:02,  8.11it/s]"
     ]
    },
    {
     "name": "stdout",
     "output_type": "stream",
     "text": [
      "Checking out gene ENSG00000189043\n",
      "Checking out gene ENSG00000198695\n"
     ]
    },
    {
     "name": "stderr",
     "output_type": "stream",
     "text": [
      " 57%|█████▋    | 1328/2322 [03:29<02:08,  7.76it/s]"
     ]
    },
    {
     "name": "stdout",
     "output_type": "stream",
     "text": [
      "Checking out gene ENSG00000198763\n",
      "Checking out gene ENSG00000198786\n"
     ]
    },
    {
     "name": "stderr",
     "output_type": "stream",
     "text": [
      " 57%|█████▋    | 1330/2322 [03:29<02:04,  7.96it/s]"
     ]
    },
    {
     "name": "stdout",
     "output_type": "stream",
     "text": [
      "Checking out gene ENSG00000198840\n",
      "Checking out gene ENSG00000198886\n",
      "Checking out gene ENSG00000198888\n"
     ]
    },
    {
     "name": "stderr",
     "output_type": "stream",
     "text": [
      " 57%|█████▋    | 1333/2322 [03:30<01:54,  8.65it/s]"
     ]
    },
    {
     "name": "stdout",
     "output_type": "stream",
     "text": [
      "Checking out gene ENSG00000212907\n",
      "Checking out gene ENSG00000213619\n"
     ]
    },
    {
     "name": "stderr",
     "output_type": "stream",
     "text": [
      " 57%|█████▋    | 1335/2322 [03:30<02:01,  8.13it/s]"
     ]
    },
    {
     "name": "stdout",
     "output_type": "stream",
     "text": [
      "Checking out gene ENSG00000109610\n",
      "Checking out gene ENSG00000112096\n"
     ]
    },
    {
     "name": "stderr",
     "output_type": "stream",
     "text": [
      " 58%|█████▊    | 1337/2322 [03:30<01:59,  8.23it/s]"
     ]
    },
    {
     "name": "stdout",
     "output_type": "stream",
     "text": [
      "Checking out gene ENSG00000142168\n",
      "Checking out gene ENSG00000005187\n"
     ]
    },
    {
     "name": "stderr",
     "output_type": "stream",
     "text": [
      " 58%|█████▊    | 1339/2322 [03:30<01:52,  8.76it/s]"
     ]
    },
    {
     "name": "stdout",
     "output_type": "stream",
     "text": [
      "Checking out gene ENSG00000166743\n",
      "Checking out gene ENSG00000183549\n"
     ]
    },
    {
     "name": "stderr",
     "output_type": "stream",
     "text": [
      " 58%|█████▊    | 1341/2322 [03:31<02:02,  8.04it/s]"
     ]
    },
    {
     "name": "stdout",
     "output_type": "stream",
     "text": [
      "Checking out gene ENSG00000183747\n",
      "Checking out gene ENSG00000215009\n"
     ]
    },
    {
     "name": "stderr",
     "output_type": "stream",
     "text": [
      " 58%|█████▊    | 1343/2322 [03:31<01:58,  8.27it/s]"
     ]
    },
    {
     "name": "stdout",
     "output_type": "stream",
     "text": [
      "Checking out gene ENSG00000068366\n",
      "Checking out gene ENSG00000123983\n"
     ]
    },
    {
     "name": "stderr",
     "output_type": "stream",
     "text": [
      " 58%|█████▊    | 1344/2322 [03:31<01:58,  8.28it/s]"
     ]
    },
    {
     "name": "stdout",
     "output_type": "stream",
     "text": [
      "Checking out gene ENSG00000130377\n",
      "Checking out gene ENSG00000140284\n"
     ]
    },
    {
     "name": "stderr",
     "output_type": "stream",
     "text": [
      " 58%|█████▊    | 1347/2322 [03:31<02:03,  7.92it/s]"
     ]
    },
    {
     "name": "stdout",
     "output_type": "stream",
     "text": [
      "Checking out gene ENSG00000151726\n",
      "Checking out gene ENSG00000164398\n"
     ]
    },
    {
     "name": "stderr",
     "output_type": "stream",
     "text": [
      " 58%|█████▊    | 1348/2322 [03:31<02:04,  7.84it/s]"
     ]
    },
    {
     "name": "stdout",
     "output_type": "stream",
     "text": [
      "Checking out gene ENSG00000197142\n",
      "Checking out gene ENSG00000119673\n"
     ]
    },
    {
     "name": "stderr",
     "output_type": "stream",
     "text": [
      " 58%|█████▊    | 1351/2322 [03:32<02:27,  6.60it/s]"
     ]
    },
    {
     "name": "stdout",
     "output_type": "stream",
     "text": [
      "Checking out gene ENSG00000177465\n",
      "Checking out gene ENSG00000151093\n"
     ]
    },
    {
     "name": "stderr",
     "output_type": "stream",
     "text": [
      " 58%|█████▊    | 1353/2322 [03:32<02:09,  7.49it/s]"
     ]
    },
    {
     "name": "stdout",
     "output_type": "stream",
     "text": [
      "Checking out gene ENSG00000169710\n",
      "Checking out gene ENSG00000076555\n"
     ]
    },
    {
     "name": "stderr",
     "output_type": "stream",
     "text": [
      " 58%|█████▊    | 1354/2322 [03:34<07:16,  2.22it/s]"
     ]
    },
    {
     "name": "stdout",
     "output_type": "stream",
     "text": [
      "Checking out gene ENSG00000132142\n"
     ]
    },
    {
     "name": "stderr",
     "output_type": "stream",
     "text": [
      " 58%|█████▊    | 1356/2322 [03:34<05:26,  2.96it/s]"
     ]
    },
    {
     "name": "stdout",
     "output_type": "stream",
     "text": [
      "Checking out gene ENSG00000149084\n",
      "Checking out gene ENSG00000074696\n"
     ]
    },
    {
     "name": "stderr",
     "output_type": "stream",
     "text": [
      " 58%|█████▊    | 1358/2322 [03:34<03:46,  4.26it/s]"
     ]
    },
    {
     "name": "stdout",
     "output_type": "stream",
     "text": [
      "Checking out gene ENSG00000146066\n",
      "Checking out gene ENSG00000099797\n"
     ]
    },
    {
     "name": "stderr",
     "output_type": "stream",
     "text": [
      " 59%|█████▊    | 1360/2322 [03:35<02:58,  5.38it/s]"
     ]
    },
    {
     "name": "stdout",
     "output_type": "stream",
     "text": [
      "Checking out gene ENSG00000099194\n",
      "Checking out gene ENSG00000145284\n"
     ]
    },
    {
     "name": "stderr",
     "output_type": "stream",
     "text": [
      " 59%|█████▊    | 1362/2322 [03:35<02:22,  6.73it/s]"
     ]
    },
    {
     "name": "stdout",
     "output_type": "stream",
     "text": [
      "Checking out gene ENSG00000172782\n",
      "Checking out gene ENSG00000134824\n",
      "Checking out gene ENSG00000149485\n"
     ]
    },
    {
     "name": "stderr",
     "output_type": "stream",
     "text": [
      " 59%|█████▉    | 1365/2322 [03:35<02:11,  7.28it/s]"
     ]
    },
    {
     "name": "stdout",
     "output_type": "stream",
     "text": [
      "Checking out gene ENSG00000221968\n",
      "Checking out gene ENSG00000097021\n"
     ]
    },
    {
     "name": "stderr",
     "output_type": "stream",
     "text": [
      " 59%|█████▉    | 1366/2322 [03:35<02:07,  7.51it/s]"
     ]
    },
    {
     "name": "stdout",
     "output_type": "stream",
     "text": [
      "Checking out gene ENSG00000131238\n",
      "Checking out gene ENSG00000136881\n"
     ]
    },
    {
     "name": "stderr",
     "output_type": "stream",
     "text": [
      " 59%|█████▉    | 1369/2322 [03:36<02:06,  7.56it/s]"
     ]
    },
    {
     "name": "stdout",
     "output_type": "stream",
     "text": [
      "Checking out gene ENSG00000184227\n",
      "Checking out gene ENSG00000221988\n"
     ]
    },
    {
     "name": "stderr",
     "output_type": "stream",
     "text": [
      " 59%|█████▉    | 1371/2322 [03:36<01:59,  7.93it/s]"
     ]
    },
    {
     "name": "stdout",
     "output_type": "stream",
     "text": [
      "Checking out gene ENSG00000100294\n",
      "Checking out gene ENSG00000152463\n"
     ]
    },
    {
     "name": "stderr",
     "output_type": "stream",
     "text": [
      " 59%|█████▉    | 1374/2322 [03:36<01:45,  9.01it/s]"
     ]
    },
    {
     "name": "stdout",
     "output_type": "stream",
     "text": [
      "Checking out gene ENSG00000073756\n",
      "Checking out gene ENSG00000095303\n",
      "Checking out gene ENSG00000161905\n"
     ]
    },
    {
     "name": "stderr",
     "output_type": "stream",
     "text": [
      " 59%|█████▉    | 1376/2322 [03:37<01:45,  8.94it/s]"
     ]
    },
    {
     "name": "stdout",
     "output_type": "stream",
     "text": [
      "Checking out gene ENSG00000021461\n",
      "Checking out gene ENSG00000100197\n"
     ]
    },
    {
     "name": "stderr",
     "output_type": "stream",
     "text": [
      " 59%|█████▉    | 1379/2322 [03:37<01:37,  9.70it/s]"
     ]
    },
    {
     "name": "stdout",
     "output_type": "stream",
     "text": [
      "Checking out gene ENSG00000106258\n",
      "Checking out gene ENSG00000108242\n",
      "Checking out gene ENSG00000137869\n"
     ]
    },
    {
     "name": "stderr",
     "output_type": "stream",
     "text": [
      " 59%|█████▉    | 1381/2322 [03:37<01:38,  9.59it/s]"
     ]
    },
    {
     "name": "stdout",
     "output_type": "stream",
     "text": [
      "Checking out gene ENSG00000138109\n",
      "Checking out gene ENSG00000138115\n"
     ]
    },
    {
     "name": "stderr",
     "output_type": "stream",
     "text": [
      " 60%|█████▉    | 1383/2322 [03:37<01:48,  8.62it/s]"
     ]
    },
    {
     "name": "stdout",
     "output_type": "stream",
     "text": [
      "Checking out gene ENSG00000160868\n",
      "Checking out gene ENSG00000160870\n"
     ]
    },
    {
     "name": "stderr",
     "output_type": "stream",
     "text": [
      " 60%|█████▉    | 1385/2322 [03:38<01:51,  8.43it/s]"
     ]
    },
    {
     "name": "stdout",
     "output_type": "stream",
     "text": [
      "Checking out gene ENSG00000171903\n",
      "Checking out gene ENSG00000186160\n"
     ]
    },
    {
     "name": "stderr",
     "output_type": "stream",
     "text": [
      " 60%|█████▉    | 1387/2322 [03:38<01:50,  8.43it/s]"
     ]
    },
    {
     "name": "stdout",
     "output_type": "stream",
     "text": [
      "Checking out gene ENSG00000186204\n",
      "Checking out gene ENSG00000197408\n"
     ]
    },
    {
     "name": "stderr",
     "output_type": "stream",
     "text": [
      " 60%|█████▉    | 1389/2322 [03:38<01:52,  8.33it/s]"
     ]
    },
    {
     "name": "stdout",
     "output_type": "stream",
     "text": [
      "Checking out gene ENSG00000197446\n",
      "Checking out gene ENSG00000197838\n"
     ]
    },
    {
     "name": "stderr",
     "output_type": "stream",
     "text": [
      " 60%|█████▉    | 1391/2322 [03:38<01:51,  8.32it/s]"
     ]
    },
    {
     "name": "stdout",
     "output_type": "stream",
     "text": [
      "Checking out gene ENSG00000198077\n",
      "Checking out gene ENSG00000255974\n"
     ]
    },
    {
     "name": "stderr",
     "output_type": "stream",
     "text": [
      " 60%|█████▉    | 1393/2322 [03:39<02:12,  6.99it/s]"
     ]
    },
    {
     "name": "stdout",
     "output_type": "stream",
     "text": [
      "Checking out gene ENSG00000120915\n"
     ]
    },
    {
     "name": "stderr",
     "output_type": "stream",
     "text": [
      " 60%|██████    | 1394/2322 [03:39<02:02,  7.56it/s]"
     ]
    },
    {
     "name": "stdout",
     "output_type": "stream",
     "text": [
      "Checking out gene ENSG00000143819\n",
      "Checking out gene ENSG00000144182\n",
      "Checking out gene ENSG00000121897\n"
     ]
    },
    {
     "name": "stderr",
     "output_type": "stream",
     "text": [
      " 60%|██████    | 1396/2322 [03:39<01:51,  8.32it/s]"
     ]
    },
    {
     "name": "stdout",
     "output_type": "stream",
     "text": [
      "Checking out gene ENSG00000175536\n",
      "Checking out gene ENSG00000161533\n"
     ]
    },
    {
     "name": "stderr",
     "output_type": "stream",
     "text": [
      " 60%|██████    | 1398/2322 [03:39<01:50,  8.37it/s]"
     ]
    },
    {
     "name": "stdout",
     "output_type": "stream",
     "text": [
      "Checking out gene ENSG00000113790\n",
      "Checking out gene ENSG00000133835\n"
     ]
    },
    {
     "name": "stderr",
     "output_type": "stream",
     "text": [
      " 60%|██████    | 1401/2322 [03:39<01:47,  8.57it/s]"
     ]
    },
    {
     "name": "stdout",
     "output_type": "stream",
     "text": [
      "Checking out gene ENSG00000060971\n",
      "Checking out gene ENSG00000167306\n"
     ]
    },
    {
     "name": "stderr",
     "output_type": "stream",
     "text": [
      " 60%|██████    | 1403/2322 [03:40<01:44,  8.83it/s]"
     ]
    },
    {
     "name": "stdout",
     "output_type": "stream",
     "text": [
      "Checking out gene ENSG00000012779\n",
      "Checking out gene ENSG00000157326\n"
     ]
    },
    {
     "name": "stderr",
     "output_type": "stream",
     "text": [
      " 61%|██████    | 1405/2322 [03:40<01:39,  9.26it/s]"
     ]
    },
    {
     "name": "stdout",
     "output_type": "stream",
     "text": [
      "Checking out gene ENSG00000159228\n",
      "Checking out gene ENSG00000159231\n",
      "Checking out gene ENSG00000111144\n"
     ]
    },
    {
     "name": "stderr",
     "output_type": "stream",
     "text": [
      " 61%|██████    | 1409/2322 [03:40<01:34,  9.69it/s]"
     ]
    },
    {
     "name": "stdout",
     "output_type": "stream",
     "text": [
      "Checking out gene ENSG00000213316\n",
      "Checking out gene ENSG00000186115\n",
      "Checking out gene ENSG00000105254\n"
     ]
    },
    {
     "name": "stderr",
     "output_type": "stream",
     "text": [
      " 61%|██████    | 1411/2322 [03:40<01:32,  9.87it/s]"
     ]
    },
    {
     "name": "stdout",
     "output_type": "stream",
     "text": [
      "Checking out gene ENSG00000148334\n",
      "Checking out gene ENSG00000148344\n"
     ]
    },
    {
     "name": "stderr",
     "output_type": "stream",
     "text": [
      " 61%|██████    | 1413/2322 [03:41<01:34,  9.59it/s]"
     ]
    },
    {
     "name": "stdout",
     "output_type": "stream",
     "text": [
      "Checking out gene ENSG00000115361\n",
      "Checking out gene ENSG00000167969\n"
     ]
    },
    {
     "name": "stderr",
     "output_type": "stream",
     "text": [
      " 61%|██████    | 1414/2322 [03:41<02:41,  5.63it/s]"
     ]
    },
    {
     "name": "stdout",
     "output_type": "stream",
     "text": [
      "Checking out gene ENSG00000198721\n"
     ]
    },
    {
     "name": "stderr",
     "output_type": "stream",
     "text": [
      " 61%|██████    | 1416/2322 [03:42<02:38,  5.72it/s]"
     ]
    },
    {
     "name": "stdout",
     "output_type": "stream",
     "text": [
      "Checking out gene ENSG00000104325\n",
      "Checking out gene ENSG00000242612\n",
      "Checking out gene ENSG00000104823\n"
     ]
    },
    {
     "name": "stderr",
     "output_type": "stream",
     "text": [
      " 61%|██████    | 1418/2322 [03:42<02:08,  7.05it/s]"
     ]
    },
    {
     "name": "stdout",
     "output_type": "stream",
     "text": [
      "Checking out gene ENSG00000187048\n"
     ]
    },
    {
     "name": "stderr",
     "output_type": "stream",
     "text": [
      " 61%|██████    | 1421/2322 [03:42<02:19,  6.44it/s]"
     ]
    },
    {
     "name": "stdout",
     "output_type": "stream",
     "text": [
      "Checking out gene ENSG00000108839\n",
      "Checking out gene ENSG00000101473\n",
      "Checking out gene ENSG00000130304\n"
     ]
    },
    {
     "name": "stderr",
     "output_type": "stream",
     "text": [
      " 61%|██████▏   | 1423/2322 [03:42<02:05,  7.19it/s]"
     ]
    },
    {
     "name": "stdout",
     "output_type": "stream",
     "text": [
      "Checking out gene ENSG00000143554\n",
      "Checking out gene ENSG00000157426\n"
     ]
    },
    {
     "name": "stderr",
     "output_type": "stream",
     "text": [
      " 61%|██████▏   | 1425/2322 [03:43<01:54,  7.82it/s]"
     ]
    },
    {
     "name": "stdout",
     "output_type": "stream",
     "text": [
      "Checking out gene ENSG00000167107\n",
      "Checking out gene ENSG00000167114\n",
      "Checking out gene ENSG00000176715\n"
     ]
    },
    {
     "name": "stderr",
     "output_type": "stream",
     "text": [
      " 62%|██████▏   | 1429/2322 [03:43<01:39,  8.96it/s]"
     ]
    },
    {
     "name": "stdout",
     "output_type": "stream",
     "text": [
      "Checking out gene ENSG00000242110\n",
      "Checking out gene ENSG00000106853\n",
      "Checking out gene ENSG00000117480\n"
     ]
    },
    {
     "name": "stderr",
     "output_type": "stream",
     "text": [
      " 62%|██████▏   | 1431/2322 [03:43<01:34,  9.41it/s]"
     ]
    },
    {
     "name": "stdout",
     "output_type": "stream",
     "text": [
      "Checking out gene ENSG00000167261\n",
      "Checking out gene ENSG00000054392\n"
     ]
    },
    {
     "name": "stderr",
     "output_type": "stream",
     "text": [
      " 62%|██████▏   | 1433/2322 [03:44<01:40,  8.84it/s]"
     ]
    },
    {
     "name": "stdout",
     "output_type": "stream",
     "text": [
      "Checking out gene ENSG00000087253\n",
      "Checking out gene ENSG00000097033\n"
     ]
    },
    {
     "name": "stderr",
     "output_type": "stream",
     "text": [
      " 62%|██████▏   | 1434/2322 [03:44<01:41,  8.71it/s]"
     ]
    },
    {
     "name": "stdout",
     "output_type": "stream",
     "text": [
      "Checking out gene ENSG00000099904\n",
      "Checking out gene ENSG00000100344\n"
     ]
    },
    {
     "name": "stderr",
     "output_type": "stream",
     "text": [
      " 62%|██████▏   | 1436/2322 [03:44<01:38,  9.00it/s]"
     ]
    },
    {
     "name": "stdout",
     "output_type": "stream",
     "text": [
      "Checking out gene ENSG00000102383\n",
      "Checking out gene ENSG00000103066\n"
     ]
    },
    {
     "name": "stderr",
     "output_type": "stream",
     "text": [
      " 62%|██████▏   | 1439/2322 [03:44<01:57,  7.53it/s]"
     ]
    },
    {
     "name": "stdout",
     "output_type": "stream",
     "text": [
      "Checking out gene ENSG00000106636\n",
      "Checking out gene ENSG00000110583\n"
     ]
    },
    {
     "name": "stderr",
     "output_type": "stream",
     "text": [
      " 62%|██████▏   | 1441/2322 [03:45<01:55,  7.62it/s]"
     ]
    },
    {
     "name": "stdout",
     "output_type": "stream",
     "text": [
      "Checking out gene ENSG00000111684\n",
      "Checking out gene ENSG00000123684\n"
     ]
    },
    {
     "name": "stderr",
     "output_type": "stream",
     "text": [
      " 62%|██████▏   | 1443/2322 [03:45<02:45,  5.33it/s]"
     ]
    },
    {
     "name": "stdout",
     "output_type": "stream",
     "text": [
      "Checking out gene ENSG00000125505\n",
      "Checking out gene ENSG00000136247\n"
     ]
    },
    {
     "name": "stderr",
     "output_type": "stream",
     "text": [
      " 62%|██████▏   | 1445/2322 [03:45<02:15,  6.49it/s]"
     ]
    },
    {
     "name": "stdout",
     "output_type": "stream",
     "text": [
      "Checking out gene ENSG00000141446\n",
      "Checking out gene ENSG00000143797\n"
     ]
    },
    {
     "name": "stderr",
     "output_type": "stream",
     "text": [
      " 62%|██████▏   | 1447/2322 [03:46<01:59,  7.31it/s]"
     ]
    },
    {
     "name": "stdout",
     "output_type": "stream",
     "text": [
      "Checking out gene ENSG00000144035\n",
      "Checking out gene ENSG00000153395\n"
     ]
    },
    {
     "name": "stderr",
     "output_type": "stream",
     "text": [
      " 62%|██████▏   | 1449/2322 [03:46<01:50,  7.91it/s]"
     ]
    },
    {
     "name": "stdout",
     "output_type": "stream",
     "text": [
      "Checking out gene ENSG00000156599\n",
      "Checking out gene ENSG00000159714\n"
     ]
    },
    {
     "name": "stderr",
     "output_type": "stream",
     "text": [
      " 62%|██████▏   | 1451/2322 [03:46<02:35,  5.60it/s]"
     ]
    },
    {
     "name": "stdout",
     "output_type": "stream",
     "text": [
      "Checking out gene ENSG00000163812\n",
      "Checking out gene ENSG00000167011\n"
     ]
    },
    {
     "name": "stderr",
     "output_type": "stream",
     "text": [
      " 63%|██████▎   | 1453/2322 [03:47<02:21,  6.13it/s]"
     ]
    },
    {
     "name": "stdout",
     "output_type": "stream",
     "text": [
      "Checking out gene ENSG00000171307\n",
      "Checking out gene ENSG00000171320\n"
     ]
    },
    {
     "name": "stderr",
     "output_type": "stream",
     "text": [
      " 63%|██████▎   | 1455/2322 [03:47<02:50,  5.09it/s]"
     ]
    },
    {
     "name": "stdout",
     "output_type": "stream",
     "text": [
      "Checking out gene ENSG00000172197\n",
      "Checking out gene ENSG00000172954\n"
     ]
    },
    {
     "name": "stderr",
     "output_type": "stream",
     "text": [
      " 63%|██████▎   | 1458/2322 [03:47<01:58,  7.27it/s]"
     ]
    },
    {
     "name": "stdout",
     "output_type": "stream",
     "text": [
      "Checking out gene ENSG00000174165\n",
      "Checking out gene ENSG00000175048\n",
      "Checking out gene ENSG00000176454\n"
     ]
    },
    {
     "name": "stderr",
     "output_type": "stream",
     "text": [
      " 63%|██████▎   | 1460/2322 [03:48<01:46,  8.08it/s]"
     ]
    },
    {
     "name": "stdout",
     "output_type": "stream",
     "text": [
      "Checking out gene ENSG00000177054\n",
      "Checking out gene ENSG00000180776\n",
      "Checking out gene ENSG00000184210\n"
     ]
    },
    {
     "name": "stderr",
     "output_type": "stream",
     "text": [
      " 63%|██████▎   | 1464/2322 [03:48<01:34,  9.06it/s]"
     ]
    },
    {
     "name": "stdout",
     "output_type": "stream",
     "text": [
      "Checking out gene ENSG00000184307\n",
      "Checking out gene ENSG00000186908\n",
      "Checking out gene ENSG00000188706\n"
     ]
    },
    {
     "name": "stderr",
     "output_type": "stream",
     "text": [
      " 63%|██████▎   | 1465/2322 [03:48<01:35,  8.99it/s]"
     ]
    },
    {
     "name": "stdout",
     "output_type": "stream",
     "text": [
      "Checking out gene ENSG00000243477\n"
     ]
    },
    {
     "name": "stderr",
     "output_type": "stream",
     "text": [
      " 63%|██████▎   | 1468/2322 [03:49<02:03,  6.92it/s]"
     ]
    },
    {
     "name": "stdout",
     "output_type": "stream",
     "text": [
      "Checking out gene ENSG00000164120\n",
      "Checking out gene ENSG00000107317\n",
      "Checking out gene ENSG00000110090\n"
     ]
    },
    {
     "name": "stderr",
     "output_type": "stream",
     "text": [
      " 63%|██████▎   | 1469/2322 [03:49<01:59,  7.11it/s]"
     ]
    },
    {
     "name": "stdout",
     "output_type": "stream",
     "text": [
      "Checking out gene ENSG00000169169\n"
     ]
    },
    {
     "name": "stderr",
     "output_type": "stream",
     "text": [
      " 63%|██████▎   | 1470/2322 [03:49<03:17,  4.31it/s]"
     ]
    },
    {
     "name": "stdout",
     "output_type": "stream",
     "text": [
      "Checking out gene ENSG00000205560\n"
     ]
    },
    {
     "name": "stderr",
     "output_type": "stream",
     "text": [
      " 63%|██████▎   | 1472/2322 [03:50<02:58,  4.77it/s]"
     ]
    },
    {
     "name": "stdout",
     "output_type": "stream",
     "text": [
      "Checking out gene ENSG00000178537\n",
      "Checking out gene ENSG00000095321\n"
     ]
    },
    {
     "name": "stderr",
     "output_type": "stream",
     "text": [
      " 63%|██████▎   | 1474/2322 [03:50<02:16,  6.20it/s]"
     ]
    },
    {
     "name": "stdout",
     "output_type": "stream",
     "text": [
      "Checking out gene ENSG00000157184\n",
      "Checking out gene ENSG00000005469\n"
     ]
    },
    {
     "name": "stderr",
     "output_type": "stream",
     "text": [
      " 64%|██████▎   | 1476/2322 [03:50<02:07,  6.65it/s]"
     ]
    },
    {
     "name": "stdout",
     "output_type": "stream",
     "text": [
      "Checking out gene ENSG00000197119\n",
      "Checking out gene ENSG00000149742\n"
     ]
    },
    {
     "name": "stderr",
     "output_type": "stream",
     "text": [
      " 64%|██████▎   | 1478/2322 [03:51<01:55,  7.30it/s]"
     ]
    },
    {
     "name": "stdout",
     "output_type": "stream",
     "text": [
      "Checking out gene ENSG00000175003\n",
      "Checking out gene ENSG00000197208\n"
     ]
    },
    {
     "name": "stderr",
     "output_type": "stream",
     "text": [
      " 64%|██████▎   | 1480/2322 [03:51<01:54,  7.38it/s]"
     ]
    },
    {
     "name": "stdout",
     "output_type": "stream",
     "text": [
      "Checking out gene ENSG00000197375\n",
      "Checking out gene ENSG00000115159\n"
     ]
    },
    {
     "name": "stderr",
     "output_type": "stream",
     "text": [
      " 64%|██████▍   | 1482/2322 [03:51<01:49,  7.70it/s]"
     ]
    },
    {
     "name": "stdout",
     "output_type": "stream",
     "text": [
      "Checking out gene ENSG00000058866\n",
      "Checking out gene ENSG00000065357\n"
     ]
    },
    {
     "name": "stderr",
     "output_type": "stream",
     "text": [
      " 64%|██████▍   | 1484/2322 [03:52<02:27,  5.69it/s]"
     ]
    },
    {
     "name": "stdout",
     "output_type": "stream",
     "text": [
      "Checking out gene ENSG00000077044\n",
      "Checking out gene ENSG00000102780\n"
     ]
    },
    {
     "name": "stderr",
     "output_type": "stream",
     "text": [
      " 64%|██████▍   | 1487/2322 [03:52<01:48,  7.68it/s]"
     ]
    },
    {
     "name": "stdout",
     "output_type": "stream",
     "text": [
      "Checking out gene ENSG00000136267\n",
      "Checking out gene ENSG00000145214\n",
      "Checking out gene ENSG00000149091\n"
     ]
    },
    {
     "name": "stderr",
     "output_type": "stream",
     "text": [
      " 64%|██████▍   | 1489/2322 [03:52<01:36,  8.66it/s]"
     ]
    },
    {
     "name": "stdout",
     "output_type": "stream",
     "text": [
      "Checking out gene ENSG00000153933\n",
      "Checking out gene ENSG00000157680\n"
     ]
    },
    {
     "name": "stderr",
     "output_type": "stream",
     "text": [
      " 64%|██████▍   | 1491/2322 [03:52<01:38,  8.46it/s]"
     ]
    },
    {
     "name": "stdout",
     "output_type": "stream",
     "text": [
      "Checking out gene ENSG00000204466\n",
      "Checking out gene ENSG00000062282\n",
      "Checking out gene ENSG00000106384\n"
     ]
    },
    {
     "name": "stderr",
     "output_type": "stream",
     "text": [
      " 64%|██████▍   | 1495/2322 [03:53<01:56,  7.12it/s]"
     ]
    },
    {
     "name": "stdout",
     "output_type": "stream",
     "text": [
      "Checking out gene ENSG00000124003\n",
      "Checking out gene ENSG00000166391\n",
      "Checking out gene ENSG00000185000\n"
     ]
    },
    {
     "name": "stderr",
     "output_type": "stream",
     "text": [
      " 64%|██████▍   | 1497/2322 [03:53<01:48,  7.63it/s]"
     ]
    },
    {
     "name": "stdout",
     "output_type": "stream",
     "text": [
      "Checking out gene ENSG00000006757\n",
      "Checking out gene ENSG00000079435\n"
     ]
    },
    {
     "name": "stderr",
     "output_type": "stream",
     "text": [
      " 65%|██████▍   | 1499/2322 [03:53<01:42,  8.01it/s]"
     ]
    },
    {
     "name": "stdout",
     "output_type": "stream",
     "text": [
      "Checking out gene ENSG00000101670\n",
      "Checking out gene ENSG00000114771\n"
     ]
    },
    {
     "name": "stderr",
     "output_type": "stream",
     "text": [
      " 65%|██████▍   | 1501/2322 [03:54<01:42,  8.01it/s]"
     ]
    },
    {
     "name": "stdout",
     "output_type": "stream",
     "text": [
      "Checking out gene ENSG00000165862\n",
      "Checking out gene ENSG00000166035\n"
     ]
    },
    {
     "name": "stderr",
     "output_type": "stream",
     "text": [
      " 65%|██████▍   | 1503/2322 [03:54<01:32,  8.87it/s]"
     ]
    },
    {
     "name": "stdout",
     "output_type": "stream",
     "text": [
      "Checking out gene ENSG00000170835\n",
      "Checking out gene ENSG00000175535\n"
     ]
    },
    {
     "name": "stderr",
     "output_type": "stream",
     "text": [
      " 65%|██████▍   | 1504/2322 [03:54<01:33,  8.74it/s]"
     ]
    },
    {
     "name": "stdout",
     "output_type": "stream",
     "text": [
      "Checking out gene ENSG00000182333\n"
     ]
    },
    {
     "name": "stderr",
     "output_type": "stream",
     "text": [
      " 65%|██████▍   | 1506/2322 [03:54<01:51,  7.31it/s]"
     ]
    },
    {
     "name": "stdout",
     "output_type": "stream",
     "text": [
      "Checking out gene ENSG00000187021\n",
      "Checking out gene ENSG00000203837\n"
     ]
    },
    {
     "name": "stderr",
     "output_type": "stream",
     "text": [
      " 65%|██████▍   | 1507/2322 [03:54<01:46,  7.68it/s]"
     ]
    },
    {
     "name": "stdout",
     "output_type": "stream",
     "text": [
      "Checking out gene ENSG00000074416\n",
      "Checking out gene ENSG00000163686\n"
     ]
    },
    {
     "name": "stderr",
     "output_type": "stream",
     "text": [
      " 65%|██████▍   | 1509/2322 [03:55<01:41,  8.01it/s]"
     ]
    },
    {
     "name": "stdout",
     "output_type": "stream",
     "text": [
      "Checking out gene ENSG00000116906\n",
      "Checking out gene ENSG00000107537\n"
     ]
    },
    {
     "name": "stderr",
     "output_type": "stream",
     "text": [
      " 65%|██████▌   | 1512/2322 [03:55<01:33,  8.69it/s]"
     ]
    },
    {
     "name": "stdout",
     "output_type": "stream",
     "text": [
      "Checking out gene ENSG00000131373\n",
      "Checking out gene ENSG00000148459\n"
     ]
    },
    {
     "name": "stderr",
     "output_type": "stream",
     "text": [
      " 65%|██████▌   | 1515/2322 [03:55<01:25,  9.39it/s]"
     ]
    },
    {
     "name": "stdout",
     "output_type": "stream",
     "text": [
      "Checking out gene ENSG00000164494\n",
      "Checking out gene ENSG00000173085\n",
      "Checking out gene ENSG00000119723\n"
     ]
    },
    {
     "name": "stderr",
     "output_type": "stream",
     "text": [
      " 65%|██████▌   | 1516/2322 [03:55<01:24,  9.51it/s]"
     ]
    },
    {
     "name": "stdout",
     "output_type": "stream",
     "text": [
      "Checking out gene ENSG00000132423\n",
      "Checking out gene ENSG00000167186\n"
     ]
    },
    {
     "name": "stderr",
     "output_type": "stream",
     "text": [
      " 65%|██████▌   | 1519/2322 [03:56<01:27,  9.16it/s]"
     ]
    },
    {
     "name": "stdout",
     "output_type": "stream",
     "text": [
      "Checking out gene ENSG00000125954\n",
      "Checking out gene ENSG00000168522\n"
     ]
    },
    {
     "name": "stderr",
     "output_type": "stream",
     "text": [
      " 66%|██████▌   | 1521/2322 [03:56<01:35,  8.42it/s]"
     ]
    },
    {
     "name": "stdout",
     "output_type": "stream",
     "text": [
      "Checking out gene ENSG00000116237\n",
      "Checking out gene ENSG00000116005\n"
     ]
    },
    {
     "name": "stderr",
     "output_type": "stream",
     "text": [
      " 66%|██████▌   | 1522/2322 [03:56<01:31,  8.77it/s]"
     ]
    },
    {
     "name": "stdout",
     "output_type": "stream",
     "text": [
      "Checking out gene ENSG00000084090\n",
      "Checking out gene ENSG00000133121\n"
     ]
    },
    {
     "name": "stderr",
     "output_type": "stream",
     "text": [
      " 66%|██████▌   | 1525/2322 [03:56<01:35,  8.38it/s]"
     ]
    },
    {
     "name": "stdout",
     "output_type": "stream",
     "text": [
      "Checking out gene ENSG00000159433\n",
      "Checking out gene ENSG00000164211\n"
     ]
    },
    {
     "name": "stderr",
     "output_type": "stream",
     "text": [
      " 66%|██████▌   | 1527/2322 [03:57<01:49,  7.27it/s]"
     ]
    },
    {
     "name": "stdout",
     "output_type": "stream",
     "text": [
      "Checking out gene ENSG00000172345\n",
      "Checking out gene ENSG00000174448\n"
     ]
    },
    {
     "name": "stderr",
     "output_type": "stream",
     "text": [
      " 66%|██████▌   | 1529/2322 [03:57<01:36,  8.19it/s]"
     ]
    },
    {
     "name": "stdout",
     "output_type": "stream",
     "text": [
      "Checking out gene ENSG00000145476\n",
      "Checking out gene ENSG00000140459\n"
     ]
    },
    {
     "name": "stderr",
     "output_type": "stream",
     "text": [
      " 66%|██████▌   | 1531/2322 [03:57<01:41,  7.80it/s]"
     ]
    },
    {
     "name": "stdout",
     "output_type": "stream",
     "text": [
      "Checking out gene ENSG00000148795\n",
      "Checking out gene ENSG00000231852\n"
     ]
    },
    {
     "name": "stderr",
     "output_type": "stream",
     "text": [
      " 66%|██████▌   | 1533/2322 [03:58<01:53,  6.96it/s]"
     ]
    },
    {
     "name": "stdout",
     "output_type": "stream",
     "text": [
      "Checking out gene ENSG00000203857\n",
      "Checking out gene ENSG00000203859\n"
     ]
    },
    {
     "name": "stderr",
     "output_type": "stream",
     "text": [
      " 66%|██████▌   | 1534/2322 [03:58<02:08,  6.15it/s]"
     ]
    },
    {
     "name": "stdout",
     "output_type": "stream",
     "text": [
      "Checking out gene ENSG00000179142\n"
     ]
    },
    {
     "name": "stderr",
     "output_type": "stream",
     "text": [
      " 66%|██████▌   | 1537/2322 [03:58<02:00,  6.51it/s]"
     ]
    },
    {
     "name": "stdout",
     "output_type": "stream",
     "text": [
      "Checking out gene ENSG00000172817\n",
      "Checking out gene ENSG00000151632\n",
      "Checking out gene ENSG00000196139\n"
     ]
    },
    {
     "name": "stderr",
     "output_type": "stream",
     "text": [
      " 66%|██████▋   | 1539/2322 [03:59<01:46,  7.32it/s]"
     ]
    },
    {
     "name": "stdout",
     "output_type": "stream",
     "text": [
      "Checking out gene ENSG00000117594\n",
      "Checking out gene ENSG00000025423\n"
     ]
    },
    {
     "name": "stderr",
     "output_type": "stream",
     "text": [
      " 66%|██████▋   | 1542/2322 [03:59<01:31,  8.55it/s]"
     ]
    },
    {
     "name": "stdout",
     "output_type": "stream",
     "text": [
      "Checking out gene ENSG00000086696\n",
      "Checking out gene ENSG00000099251\n",
      "Checking out gene ENSG00000108786\n",
      "Checking out gene ENSG00000132196\n"
     ]
    },
    {
     "name": "stderr",
     "output_type": "stream",
     "text": [
      " 67%|██████▋   | 1546/2322 [04:00<01:58,  6.55it/s]"
     ]
    },
    {
     "name": "stdout",
     "output_type": "stream",
     "text": [
      "Checking out gene ENSG00000105398\n",
      "Checking out gene ENSG00000088002\n",
      "Checking out gene ENSG00000197580\n"
     ]
    },
    {
     "name": "stderr",
     "output_type": "stream",
     "text": [
      " 67%|██████▋   | 1548/2322 [04:00<01:50,  7.00it/s]"
     ]
    },
    {
     "name": "stdout",
     "output_type": "stream",
     "text": [
      "Checking out gene ENSG00000109193\n",
      "Checking out gene ENSG00000128039\n"
     ]
    },
    {
     "name": "stderr",
     "output_type": "stream",
     "text": [
      " 67%|██████▋   | 1551/2322 [04:00<01:29,  8.58it/s]"
     ]
    },
    {
     "name": "stdout",
     "output_type": "stream",
     "text": [
      "Checking out gene ENSG00000122787\n",
      "Checking out gene ENSG00000113161\n",
      "Checking out gene ENSG00000110921\n"
     ]
    },
    {
     "name": "stderr",
     "output_type": "stream",
     "text": [
      " 67%|██████▋   | 1553/2322 [04:00<01:25,  9.03it/s]"
     ]
    },
    {
     "name": "stdout",
     "output_type": "stream",
     "text": [
      "Checking out gene ENSG00000163344\n",
      "Checking out gene ENSG00000067064\n",
      "Checking out gene ENSG00000148377\n"
     ]
    },
    {
     "name": "stderr",
     "output_type": "stream",
     "text": [
      " 67%|██████▋   | 1555/2322 [04:01<01:29,  8.62it/s]"
     ]
    },
    {
     "name": "stdout",
     "output_type": "stream",
     "text": [
      "Checking out gene ENSG00000079459\n",
      "Checking out gene ENSG00000104549\n"
     ]
    },
    {
     "name": "stderr",
     "output_type": "stream",
     "text": [
      " 67%|██████▋   | 1558/2322 [04:01<01:28,  8.68it/s]"
     ]
    },
    {
     "name": "stdout",
     "output_type": "stream",
     "text": [
      "Checking out gene ENSG00000160285\n",
      "Checking out gene ENSG00000001630\n"
     ]
    },
    {
     "name": "stderr",
     "output_type": "stream",
     "text": [
      " 67%|██████▋   | 1560/2322 [04:01<01:28,  8.62it/s]"
     ]
    },
    {
     "name": "stdout",
     "output_type": "stream",
     "text": [
      "Checking out gene ENSG00000149809\n",
      "Checking out gene ENSG00000052802\n"
     ]
    },
    {
     "name": "stderr",
     "output_type": "stream",
     "text": [
      " 67%|██████▋   | 1562/2322 [04:01<01:27,  8.70it/s]"
     ]
    },
    {
     "name": "stdout",
     "output_type": "stream",
     "text": [
      "Checking out gene ENSG00000170271\n",
      "Checking out gene ENSG00000147383\n",
      "Checking out gene ENSG00000147155\n"
     ]
    },
    {
     "name": "stderr",
     "output_type": "stream",
     "text": [
      " 67%|██████▋   | 1566/2322 [04:02<01:18,  9.59it/s]"
     ]
    },
    {
     "name": "stdout",
     "output_type": "stream",
     "text": [
      "Checking out gene ENSG00000109929\n",
      "Checking out gene ENSG00000172893\n",
      "Checking out gene ENSG00000167508\n"
     ]
    },
    {
     "name": "stderr",
     "output_type": "stream",
     "text": [
      " 68%|██████▊   | 1568/2322 [04:02<01:16,  9.91it/s]"
     ]
    },
    {
     "name": "stdout",
     "output_type": "stream",
     "text": [
      "Checking out gene ENSG00000135929\n",
      "Checking out gene ENSG00000146151\n",
      "Checking out gene ENSG00000006756\n"
     ]
    },
    {
     "name": "stderr",
     "output_type": "stream",
     "text": [
      " 68%|██████▊   | 1570/2322 [04:02<01:18,  9.55it/s]"
     ]
    },
    {
     "name": "stdout",
     "output_type": "stream",
     "text": [
      "Checking out gene ENSG00000107798\n",
      "Checking out gene ENSG00000057252\n"
     ]
    },
    {
     "name": "stderr",
     "output_type": "stream",
     "text": [
      " 68%|██████▊   | 1573/2322 [04:03<01:20,  9.26it/s]"
     ]
    },
    {
     "name": "stdout",
     "output_type": "stream",
     "text": [
      "Checking out gene ENSG00000167780\n",
      "Checking out gene ENSG00000168350\n"
     ]
    },
    {
     "name": "stderr",
     "output_type": "stream",
     "text": [
      " 68%|██████▊   | 1575/2322 [04:03<01:24,  8.83it/s]"
     ]
    },
    {
     "name": "stdout",
     "output_type": "stream",
     "text": [
      "Checking out gene ENSG00000104763\n",
      "Checking out gene ENSG00000167769\n"
     ]
    },
    {
     "name": "stderr",
     "output_type": "stream",
     "text": [
      " 68%|██████▊   | 1576/2322 [04:03<01:31,  8.12it/s]"
     ]
    },
    {
     "name": "stdout",
     "output_type": "stream",
     "text": [
      "Checking out gene ENSG00000177076\n"
     ]
    },
    {
     "name": "stderr",
     "output_type": "stream",
     "text": [
      " 68%|██████▊   | 1578/2322 [04:09<15:54,  1.28s/it]"
     ]
    },
    {
     "name": "stdout",
     "output_type": "stream",
     "text": [
      "Checking out gene ENSG00000164023\n",
      "Checking out gene ENSG00000198964\n"
     ]
    },
    {
     "name": "stderr",
     "output_type": "stream",
     "text": [
      " 68%|██████▊   | 1580/2322 [04:10<09:09,  1.35it/s]"
     ]
    },
    {
     "name": "stdout",
     "output_type": "stream",
     "text": [
      "Checking out gene ENSG00000090054\n",
      "Checking out gene ENSG00000100596\n"
     ]
    },
    {
     "name": "stderr",
     "output_type": "stream",
     "text": [
      " 68%|██████▊   | 1582/2322 [04:10<05:14,  2.35it/s]"
     ]
    },
    {
     "name": "stdout",
     "output_type": "stream",
     "text": [
      "Checking out gene ENSG00000119537\n",
      "Checking out gene ENSG00000063176\n"
     ]
    },
    {
     "name": "stderr",
     "output_type": "stream",
     "text": [
      " 68%|██████▊   | 1584/2322 [04:10<03:20,  3.68it/s]"
     ]
    },
    {
     "name": "stdout",
     "output_type": "stream",
     "text": [
      "Checking out gene ENSG00000176170\n",
      "Checking out gene ENSG00000067113\n"
     ]
    },
    {
     "name": "stderr",
     "output_type": "stream",
     "text": [
      " 68%|██████▊   | 1586/2322 [04:10<02:20,  5.23it/s]"
     ]
    },
    {
     "name": "stdout",
     "output_type": "stream",
     "text": [
      "Checking out gene ENSG00000101577\n",
      "Checking out gene ENSG00000134324\n"
     ]
    },
    {
     "name": "stderr",
     "output_type": "stream",
     "text": [
      " 68%|██████▊   | 1588/2322 [04:11<01:52,  6.53it/s]"
     ]
    },
    {
     "name": "stdout",
     "output_type": "stream",
     "text": [
      "Checking out gene ENSG00000141934\n",
      "Checking out gene ENSG00000162407\n"
     ]
    },
    {
     "name": "stderr",
     "output_type": "stream",
     "text": [
      " 68%|██████▊   | 1590/2322 [04:11<01:39,  7.36it/s]"
     ]
    },
    {
     "name": "stdout",
     "output_type": "stream",
     "text": [
      "Checking out gene ENSG00000166224\n",
      "Checking out gene ENSG00000090661\n",
      "Checking out gene ENSG00000139624\n"
     ]
    },
    {
     "name": "stderr",
     "output_type": "stream",
     "text": [
      " 69%|██████▊   | 1593/2322 [04:11<01:27,  8.30it/s]"
     ]
    },
    {
     "name": "stdout",
     "output_type": "stream",
     "text": [
      "Checking out gene ENSG00000143418\n",
      "Checking out gene ENSG00000154227\n"
     ]
    },
    {
     "name": "stderr",
     "output_type": "stream",
     "text": [
      " 69%|██████▊   | 1595/2322 [04:11<01:20,  9.04it/s]"
     ]
    },
    {
     "name": "stdout",
     "output_type": "stream",
     "text": [
      "Checking out gene ENSG00000172292\n",
      "Checking out gene ENSG00000223802\n"
     ]
    },
    {
     "name": "stderr",
     "output_type": "stream",
     "text": [
      " 69%|██████▉   | 1597/2322 [04:12<01:19,  9.17it/s]"
     ]
    },
    {
     "name": "stdout",
     "output_type": "stream",
     "text": [
      "Checking out gene ENSG00000143753\n",
      "Checking out gene ENSG00000100422\n"
     ]
    },
    {
     "name": "stderr",
     "output_type": "stream",
     "text": [
      " 69%|██████▉   | 1599/2322 [04:12<01:37,  7.41it/s]"
     ]
    },
    {
     "name": "stdout",
     "output_type": "stream",
     "text": [
      "Checking out gene ENSG00000148154\n",
      "Checking out gene ENSG00000070610\n"
     ]
    },
    {
     "name": "stderr",
     "output_type": "stream",
     "text": [
      " 69%|██████▉   | 1601/2322 [04:12<01:36,  7.44it/s]"
     ]
    },
    {
     "name": "stdout",
     "output_type": "stream",
     "text": [
      "Checking out gene ENSG00000177628\n",
      "Checking out gene ENSG00000016864\n"
     ]
    },
    {
     "name": "stderr",
     "output_type": "stream",
     "text": [
      " 69%|██████▉   | 1603/2322 [04:12<01:28,  8.15it/s]"
     ]
    },
    {
     "name": "stdout",
     "output_type": "stream",
     "text": [
      "Checking out gene ENSG00000027847\n",
      "Checking out gene ENSG00000060642\n"
     ]
    },
    {
     "name": "stderr",
     "output_type": "stream",
     "text": [
      " 69%|██████▉   | 1605/2322 [04:13<01:28,  8.09it/s]"
     ]
    },
    {
     "name": "stdout",
     "output_type": "stream",
     "text": [
      "Checking out gene ENSG00000069943\n",
      "Checking out gene ENSG00000085998\n"
     ]
    },
    {
     "name": "stderr",
     "output_type": "stream",
     "text": [
      " 69%|██████▉   | 1606/2322 [04:13<01:27,  8.20it/s]"
     ]
    },
    {
     "name": "stdout",
     "output_type": "stream",
     "text": [
      "Checking out gene ENSG00000118276\n"
     ]
    },
    {
     "name": "stderr",
     "output_type": "stream",
     "text": [
      " 69%|██████▉   | 1608/2322 [04:13<02:11,  5.41it/s]"
     ]
    },
    {
     "name": "stdout",
     "output_type": "stream",
     "text": [
      "Checking out gene ENSG00000119227\n",
      "Checking out gene ENSG00000120820\n"
     ]
    },
    {
     "name": "stderr",
     "output_type": "stream",
     "text": [
      " 69%|██████▉   | 1610/2322 [04:14<01:54,  6.24it/s]"
     ]
    },
    {
     "name": "stdout",
     "output_type": "stream",
     "text": [
      "Checking out gene ENSG00000121578\n",
      "Checking out gene ENSG00000124091\n"
     ]
    },
    {
     "name": "stderr",
     "output_type": "stream",
     "text": [
      " 69%|██████▉   | 1612/2322 [04:14<02:02,  5.78it/s]"
     ]
    },
    {
     "name": "stdout",
     "output_type": "stream",
     "text": [
      "Checking out gene ENSG00000136731\n",
      "Checking out gene ENSG00000139044\n"
     ]
    },
    {
     "name": "stderr",
     "output_type": "stream",
     "text": [
      " 70%|██████▉   | 1614/2322 [04:14<01:36,  7.33it/s]"
     ]
    },
    {
     "name": "stdout",
     "output_type": "stream",
     "text": [
      "Checking out gene ENSG00000147162\n",
      "Checking out gene ENSG00000148288\n",
      "Checking out gene ENSG00000162885\n"
     ]
    },
    {
     "name": "stderr",
     "output_type": "stream",
     "text": [
      " 70%|██████▉   | 1617/2322 [04:14<01:23,  8.45it/s]"
     ]
    },
    {
     "name": "stdout",
     "output_type": "stream",
     "text": [
      "Checking out gene ENSG00000167080\n",
      "Checking out gene ENSG00000170340\n"
     ]
    },
    {
     "name": "stderr",
     "output_type": "stream",
     "text": [
      " 70%|██████▉   | 1620/2322 [04:15<01:44,  6.75it/s]"
     ]
    },
    {
     "name": "stdout",
     "output_type": "stream",
     "text": [
      "Checking out gene ENSG00000172318\n",
      "Checking out gene ENSG00000172461\n",
      "Checking out gene ENSG00000175711\n"
     ]
    },
    {
     "name": "stderr",
     "output_type": "stream",
     "text": [
      " 70%|██████▉   | 1622/2322 [04:15<01:38,  7.14it/s]"
     ]
    },
    {
     "name": "stdout",
     "output_type": "stream",
     "text": [
      "Checking out gene ENSG00000176597\n",
      "Checking out gene ENSG00000179913\n"
     ]
    },
    {
     "name": "stderr",
     "output_type": "stream",
     "text": [
      " 70%|██████▉   | 1624/2322 [04:16<01:39,  7.05it/s]"
     ]
    },
    {
     "name": "stdout",
     "output_type": "stream",
     "text": [
      "Checking out gene ENSG00000182272\n",
      "Checking out gene ENSG00000183778\n"
     ]
    },
    {
     "name": "stderr",
     "output_type": "stream",
     "text": [
      " 70%|██████▉   | 1625/2322 [04:16<01:33,  7.42it/s]"
     ]
    },
    {
     "name": "stdout",
     "output_type": "stream",
     "text": [
      "Checking out gene ENSG00000196968\n",
      "Checking out gene ENSG00000204007\n"
     ]
    },
    {
     "name": "stderr",
     "output_type": "stream",
     "text": [
      " 70%|███████   | 1627/2322 [04:16<01:24,  8.26it/s]"
     ]
    },
    {
     "name": "stdout",
     "output_type": "stream",
     "text": [
      "Checking out gene ENSG00000205301\n"
     ]
    },
    {
     "name": "stderr",
     "output_type": "stream",
     "text": [
      " 70%|███████   | 1630/2322 [04:16<01:32,  7.46it/s]"
     ]
    },
    {
     "name": "stdout",
     "output_type": "stream",
     "text": [
      "Checking out gene ENSG00000237172\n",
      "Checking out gene ENSG00000105520\n",
      "Checking out gene ENSG00000117600\n"
     ]
    },
    {
     "name": "stderr",
     "output_type": "stream",
     "text": [
      " 70%|███████   | 1632/2322 [04:17<01:22,  8.35it/s]"
     ]
    },
    {
     "name": "stdout",
     "output_type": "stream",
     "text": [
      "Checking out gene ENSG00000147535\n",
      "Checking out gene ENSG00000203805\n"
     ]
    },
    {
     "name": "stderr",
     "output_type": "stream",
     "text": [
      " 70%|███████   | 1633/2322 [04:17<01:51,  6.17it/s]"
     ]
    },
    {
     "name": "stdout",
     "output_type": "stream",
     "text": [
      "Checking out gene ENSG00000103056\n"
     ]
    },
    {
     "name": "stderr",
     "output_type": "stream",
     "text": [
      " 70%|███████   | 1634/2322 [04:18<04:34,  2.51it/s]"
     ]
    },
    {
     "name": "stdout",
     "output_type": "stream",
     "text": [
      "Checking out gene ENSG00000135587\n"
     ]
    },
    {
     "name": "stderr",
     "output_type": "stream",
     "text": [
      " 70%|███████   | 1636/2322 [04:19<03:42,  3.09it/s]"
     ]
    },
    {
     "name": "stdout",
     "output_type": "stream",
     "text": [
      "Checking out gene ENSG00000166311\n",
      "Checking out gene ENSG00000128274\n"
     ]
    },
    {
     "name": "stderr",
     "output_type": "stream",
     "text": [
      " 71%|███████   | 1638/2322 [04:19<03:06,  3.66it/s]"
     ]
    },
    {
     "name": "stdout",
     "output_type": "stream",
     "text": [
      "Checking out gene ENSG00000169255\n",
      "Checking out gene ENSG00000070731\n"
     ]
    },
    {
     "name": "stderr",
     "output_type": "stream",
     "text": [
      " 71%|███████   | 1640/2322 [04:19<02:12,  5.13it/s]"
     ]
    },
    {
     "name": "stdout",
     "output_type": "stream",
     "text": [
      "Checking out gene ENSG00000111728\n",
      "Checking out gene ENSG00000135454\n"
     ]
    },
    {
     "name": "stderr",
     "output_type": "stream",
     "text": [
      " 71%|███████   | 1642/2322 [04:19<01:40,  6.78it/s]"
     ]
    },
    {
     "name": "stdout",
     "output_type": "stream",
     "text": [
      "Checking out gene ENSG00000206285\n",
      "Checking out gene ENSG00000235863\n",
      "Checking out gene ENSG00000160408\n"
     ]
    },
    {
     "name": "stderr",
     "output_type": "stream",
     "text": [
      " 71%|███████   | 1645/2322 [04:20<01:25,  7.88it/s]"
     ]
    },
    {
     "name": "stdout",
     "output_type": "stream",
     "text": [
      "Checking out gene ENSG00000101638\n",
      "Checking out gene ENSG00000115525\n"
     ]
    },
    {
     "name": "stderr",
     "output_type": "stream",
     "text": [
      " 71%|███████   | 1647/2322 [04:20<01:24,  8.01it/s]"
     ]
    },
    {
     "name": "stdout",
     "output_type": "stream",
     "text": [
      "Checking out gene ENSG00000198951\n",
      "Checking out gene ENSG00000128242\n",
      "Checking out gene ENSG00000100299\n"
     ]
    },
    {
     "name": "stderr",
     "output_type": "stream",
     "text": [
      " 71%|███████   | 1650/2322 [04:20<01:20,  8.33it/s]"
     ]
    },
    {
     "name": "stdout",
     "output_type": "stream",
     "text": [
      "Checking out gene ENSG00000054983\n",
      "Checking out gene ENSG00000174951\n"
     ]
    },
    {
     "name": "stderr",
     "output_type": "stream",
     "text": [
      " 71%|███████   | 1652/2322 [04:21<01:14,  9.05it/s]"
     ]
    },
    {
     "name": "stdout",
     "output_type": "stream",
     "text": [
      "Checking out gene ENSG00000176920\n",
      "Checking out gene ENSG00000169359\n",
      "Checking out gene ENSG00000126821\n"
     ]
    },
    {
     "name": "stderr",
     "output_type": "stream",
     "text": [
      " 71%|███████   | 1654/2322 [04:21<01:09,  9.59it/s]"
     ]
    },
    {
     "name": "stdout",
     "output_type": "stream",
     "text": [
      "Checking out gene ENSG00000069764\n",
      "Checking out gene ENSG00000100078\n"
     ]
    },
    {
     "name": "stderr",
     "output_type": "stream",
     "text": [
      " 71%|███████▏  | 1657/2322 [04:21<01:18,  8.51it/s]"
     ]
    },
    {
     "name": "stdout",
     "output_type": "stream",
     "text": [
      "Checking out gene ENSG00000105499\n",
      "Checking out gene ENSG00000116711\n"
     ]
    },
    {
     "name": "stderr",
     "output_type": "stream",
     "text": [
      " 71%|███████▏  | 1659/2322 [04:21<01:13,  9.05it/s]"
     ]
    },
    {
     "name": "stdout",
     "output_type": "stream",
     "text": [
      "Checking out gene ENSG00000117215\n",
      "Checking out gene ENSG00000123739\n"
     ]
    },
    {
     "name": "stderr",
     "output_type": "stream",
     "text": [
      " 72%|███████▏  | 1661/2322 [04:22<01:23,  7.93it/s]"
     ]
    },
    {
     "name": "stdout",
     "output_type": "stream",
     "text": [
      "Checking out gene ENSG00000127472\n",
      "Checking out gene ENSG00000158786\n"
     ]
    },
    {
     "name": "stderr",
     "output_type": "stream",
     "text": [
      " 72%|███████▏  | 1663/2322 [04:22<01:15,  8.76it/s]"
     ]
    },
    {
     "name": "stdout",
     "output_type": "stream",
     "text": [
      "Checking out gene ENSG00000159337\n",
      "Checking out gene ENSG00000163803\n",
      "Checking out gene ENSG00000168907\n"
     ]
    },
    {
     "name": "stderr",
     "output_type": "stream",
     "text": [
      " 72%|███████▏  | 1665/2322 [04:22<01:10,  9.29it/s]"
     ]
    },
    {
     "name": "stdout",
     "output_type": "stream",
     "text": [
      "Checking out gene ENSG00000168970\n"
     ]
    },
    {
     "name": "stderr",
     "output_type": "stream",
     "text": [
      " 72%|███████▏  | 1667/2322 [04:22<01:35,  6.87it/s]"
     ]
    },
    {
     "name": "stdout",
     "output_type": "stream",
     "text": [
      "Checking out gene ENSG00000170890\n",
      "Checking out gene ENSG00000176485\n"
     ]
    },
    {
     "name": "stderr",
     "output_type": "stream",
     "text": [
      " 72%|███████▏  | 1668/2322 [04:23<01:28,  7.40it/s]"
     ]
    },
    {
     "name": "stdout",
     "output_type": "stream",
     "text": [
      "Checking out gene ENSG00000184381\n",
      "Checking out gene ENSG00000188089\n"
     ]
    },
    {
     "name": "stderr",
     "output_type": "stream",
     "text": [
      " 72%|███████▏  | 1670/2322 [04:23<01:19,  8.18it/s]"
     ]
    },
    {
     "name": "stdout",
     "output_type": "stream",
     "text": [
      "Checking out gene ENSG00000188257\n",
      "Checking out gene ENSG00000188784\n"
     ]
    },
    {
     "name": "stderr",
     "output_type": "stream",
     "text": [
      " 72%|███████▏  | 1672/2322 [04:23<01:17,  8.39it/s]"
     ]
    },
    {
     "name": "stdout",
     "output_type": "stream",
     "text": [
      "Checking out gene ENSG00000119927\n"
     ]
    },
    {
     "name": "stderr",
     "output_type": "stream",
     "text": [
      " 72%|███████▏  | 1674/2322 [04:23<01:47,  6.02it/s]"
     ]
    },
    {
     "name": "stdout",
     "output_type": "stream",
     "text": [
      "Checking out gene ENSG00000138678\n",
      "Checking out gene ENSG00000158669\n"
     ]
    },
    {
     "name": "stderr",
     "output_type": "stream",
     "text": [
      " 72%|███████▏  | 1676/2322 [04:24<01:32,  6.99it/s]"
     ]
    },
    {
     "name": "stdout",
     "output_type": "stream",
     "text": [
      "Checking out gene ENSG00000026652\n",
      "Checking out gene ENSG00000155189\n"
     ]
    },
    {
     "name": "stderr",
     "output_type": "stream",
     "text": [
      " 72%|███████▏  | 1678/2322 [04:24<01:25,  7.57it/s]"
     ]
    },
    {
     "name": "stdout",
     "output_type": "stream",
     "text": [
      "Checking out gene ENSG00000160216\n",
      "Checking out gene ENSG00000169692\n"
     ]
    },
    {
     "name": "stderr",
     "output_type": "stream",
     "text": [
      " 72%|███████▏  | 1680/2322 [04:24<01:39,  6.43it/s]"
     ]
    },
    {
     "name": "stdout",
     "output_type": "stream",
     "text": [
      "Checking out gene ENSG00000204310\n",
      "Checking out gene ENSG00000206324\n",
      "Checking out gene ENSG00000006530\n"
     ]
    },
    {
     "name": "stderr",
     "output_type": "stream",
     "text": [
      " 73%|███████▎  | 1684/2322 [04:25<02:14,  4.75it/s]"
     ]
    },
    {
     "name": "stdout",
     "output_type": "stream",
     "text": [
      "Checking out gene ENSG00000164089\n",
      "Checking out gene ENSG00000162551\n",
      "Checking out gene ENSG00000163283\n"
     ]
    },
    {
     "name": "stderr",
     "output_type": "stream",
     "text": [
      " 73%|███████▎  | 1687/2322 [04:26<01:39,  6.37it/s]"
     ]
    },
    {
     "name": "stdout",
     "output_type": "stream",
     "text": [
      "Checking out gene ENSG00000163286\n",
      "Checking out gene ENSG00000163295\n",
      "Checking out gene ENSG00000134255\n"
     ]
    },
    {
     "name": "stderr",
     "output_type": "stream",
     "text": [
      " 73%|███████▎  | 1688/2322 [04:26<01:32,  6.82it/s]"
     ]
    },
    {
     "name": "stdout",
     "output_type": "stream",
     "text": [
      "Checking out gene ENSG00000175066\n"
     ]
    },
    {
     "name": "stderr",
     "output_type": "stream",
     "text": [
      " 73%|███████▎  | 1690/2322 [04:26<02:07,  4.97it/s]"
     ]
    },
    {
     "name": "stdout",
     "output_type": "stream",
     "text": [
      "Checking out gene ENSG00000196475\n",
      "Checking out gene ENSG00000198814\n"
     ]
    },
    {
     "name": "stderr",
     "output_type": "stream",
     "text": [
      " 73%|███████▎  | 1692/2322 [04:27<01:38,  6.39it/s]"
     ]
    },
    {
     "name": "stdout",
     "output_type": "stream",
     "text": [
      "Checking out gene ENSG00000229894\n",
      "Checking out gene ENSG00000111666\n",
      "Checking out gene ENSG00000167588\n"
     ]
    },
    {
     "name": "stderr",
     "output_type": "stream",
     "text": [
      " 73%|███████▎  | 1695/2322 [04:27<01:24,  7.45it/s]"
     ]
    },
    {
     "name": "stdout",
     "output_type": "stream",
     "text": [
      "Checking out gene ENSG00000152642\n",
      "Checking out gene ENSG00000101290\n"
     ]
    },
    {
     "name": "stderr",
     "output_type": "stream",
     "text": [
      " 73%|███████▎  | 1697/2322 [04:28<02:00,  5.19it/s]"
     ]
    },
    {
     "name": "stdout",
     "output_type": "stream",
     "text": [
      "Checking out gene ENSG00000163624\n",
      "Checking out gene ENSG00000087157\n"
     ]
    },
    {
     "name": "stderr",
     "output_type": "stream",
     "text": [
      " 73%|███████▎  | 1699/2322 [04:28<01:35,  6.53it/s]"
     ]
    },
    {
     "name": "stdout",
     "output_type": "stream",
     "text": [
      "Checking out gene ENSG00000103502\n",
      "Checking out gene ENSG00000241878\n"
     ]
    },
    {
     "name": "stderr",
     "output_type": "stream",
     "text": [
      " 73%|███████▎  | 1701/2322 [04:28<01:22,  7.50it/s]"
     ]
    },
    {
     "name": "stdout",
     "output_type": "stream",
     "text": [
      "Checking out gene ENSG00000174915\n",
      "Checking out gene ENSG00000156471\n"
     ]
    },
    {
     "name": "stderr",
     "output_type": "stream",
     "text": [
      " 73%|███████▎  | 1703/2322 [04:28<01:14,  8.33it/s]"
     ]
    },
    {
     "name": "stdout",
     "output_type": "stream",
     "text": [
      "Checking out gene ENSG00000075651\n",
      "Checking out gene ENSG00000105223\n"
     ]
    },
    {
     "name": "stderr",
     "output_type": "stream",
     "text": [
      " 73%|███████▎  | 1705/2322 [04:29<01:49,  5.64it/s]"
     ]
    },
    {
     "name": "stdout",
     "output_type": "stream",
     "text": [
      "Checking out gene ENSG00000129219\n",
      "Checking out gene ENSG00000179598\n"
     ]
    },
    {
     "name": "stderr",
     "output_type": "stream",
     "text": [
      " 74%|███████▎  | 1707/2322 [04:29<01:34,  6.51it/s]"
     ]
    },
    {
     "name": "stdout",
     "output_type": "stream",
     "text": [
      "Checking out gene ENSG00000032444\n",
      "Checking out gene ENSG00000105198\n"
     ]
    },
    {
     "name": "stderr",
     "output_type": "stream",
     "text": [
      " 74%|███████▎  | 1709/2322 [04:29<01:18,  7.80it/s]"
     ]
    },
    {
     "name": "stdout",
     "output_type": "stream",
     "text": [
      "Checking out gene ENSG00000105205\n",
      "Checking out gene ENSG00000120992\n"
     ]
    },
    {
     "name": "stderr",
     "output_type": "stream",
     "text": [
      " 74%|███████▎  | 1711/2322 [04:29<01:12,  8.38it/s]"
     ]
    },
    {
     "name": "stdout",
     "output_type": "stream",
     "text": [
      "Checking out gene ENSG00000130653\n",
      "Checking out gene ENSG00000135241\n",
      "Checking out gene ENSG00000175505\n"
     ]
    },
    {
     "name": "stderr",
     "output_type": "stream",
     "text": [
      " 74%|███████▍  | 1713/2322 [04:30<01:06,  9.18it/s]"
     ]
    },
    {
     "name": "stdout",
     "output_type": "stream",
     "text": [
      "Checking out gene ENSG00000213398\n",
      "Checking out gene ENSG00000125772\n"
     ]
    },
    {
     "name": "stderr",
     "output_type": "stream",
     "text": [
      " 74%|███████▍  | 1716/2322 [04:30<01:07,  8.96it/s]"
     ]
    },
    {
     "name": "stdout",
     "output_type": "stream",
     "text": [
      "Checking out gene ENSG00000100288\n",
      "Checking out gene ENSG00000110721\n"
     ]
    },
    {
     "name": "stderr",
     "output_type": "stream",
     "text": [
      " 74%|███████▍  | 1718/2322 [04:30<01:06,  9.11it/s]"
     ]
    },
    {
     "name": "stdout",
     "output_type": "stream",
     "text": [
      "Checking out gene ENSG00000102230\n",
      "Checking out gene ENSG00000161217\n"
     ]
    },
    {
     "name": "stderr",
     "output_type": "stream",
     "text": [
      " 74%|███████▍  | 1720/2322 [04:30<01:04,  9.36it/s]"
     ]
    },
    {
     "name": "stdout",
     "output_type": "stream",
     "text": [
      "Checking out gene ENSG00000070748\n",
      "Checking out gene ENSG00000087085\n"
     ]
    },
    {
     "name": "stderr",
     "output_type": "stream",
     "text": [
      " 74%|███████▍  | 1723/2322 [04:31<01:02,  9.55it/s]"
     ]
    },
    {
     "name": "stdout",
     "output_type": "stream",
     "text": [
      "Checking out gene ENSG00000114200\n",
      "Checking out gene ENSG00000139163\n",
      "Checking out gene ENSG00000143845\n"
     ]
    },
    {
     "name": "stderr",
     "output_type": "stream",
     "text": [
      " 74%|███████▍  | 1724/2322 [04:31<01:07,  8.84it/s]"
     ]
    },
    {
     "name": "stdout",
     "output_type": "stream",
     "text": [
      "Checking out gene ENSG00000173868\n",
      "Checking out gene ENSG00000185813\n"
     ]
    },
    {
     "name": "stderr",
     "output_type": "stream",
     "text": [
      " 74%|███████▍  | 1727/2322 [04:31<01:08,  8.69it/s]"
     ]
    },
    {
     "name": "stdout",
     "output_type": "stream",
     "text": [
      "Checking out gene ENSG00000133027\n",
      "Checking out gene ENSG00000018510\n"
     ]
    },
    {
     "name": "stderr",
     "output_type": "stream",
     "text": [
      " 74%|███████▍  | 1729/2322 [04:31<01:07,  8.80it/s]"
     ]
    },
    {
     "name": "stdout",
     "output_type": "stream",
     "text": [
      "Checking out gene ENSG00000007168\n",
      "Checking out gene ENSG00000079462\n"
     ]
    },
    {
     "name": "stderr",
     "output_type": "stream",
     "text": [
      " 75%|███████▍  | 1731/2322 [04:32<01:10,  8.33it/s]"
     ]
    },
    {
     "name": "stdout",
     "output_type": "stream",
     "text": [
      "Checking out gene ENSG00000158006\n",
      "Checking out gene ENSG00000168092\n"
     ]
    },
    {
     "name": "stderr",
     "output_type": "stream",
     "text": [
      " 75%|███████▍  | 1734/2322 [04:32<01:06,  8.89it/s]"
     ]
    },
    {
     "name": "stdout",
     "output_type": "stream",
     "text": [
      "Checking out gene ENSG00000146070\n",
      "Checking out gene ENSG00000149476\n",
      "Checking out gene ENSG00000126091\n"
     ]
    },
    {
     "name": "stderr",
     "output_type": "stream",
     "text": [
      " 75%|███████▍  | 1736/2322 [04:32<01:27,  6.70it/s]"
     ]
    },
    {
     "name": "stdout",
     "output_type": "stream",
     "text": [
      "Checking out gene ENSG00000130383\n",
      "Checking out gene ENSG00000156413\n"
     ]
    },
    {
     "name": "stderr",
     "output_type": "stream",
     "text": [
      " 75%|███████▍  | 1738/2322 [04:33<01:24,  6.88it/s]"
     ]
    },
    {
     "name": "stdout",
     "output_type": "stream",
     "text": [
      "Checking out gene ENSG00000171124\n",
      "Checking out gene ENSG00000175164\n"
     ]
    },
    {
     "name": "stderr",
     "output_type": "stream",
     "text": [
      " 75%|███████▍  | 1740/2322 [04:33<01:17,  7.53it/s]"
     ]
    },
    {
     "name": "stdout",
     "output_type": "stream",
     "text": [
      "Checking out gene ENSG00000256062\n",
      "Checking out gene ENSG00000064225\n"
     ]
    },
    {
     "name": "stderr",
     "output_type": "stream",
     "text": [
      " 75%|███████▍  | 1741/2322 [04:33<01:15,  7.67it/s]"
     ]
    },
    {
     "name": "stdout",
     "output_type": "stream",
     "text": [
      "Checking out gene ENSG00000174684\n",
      "Checking out gene ENSG00000111846\n"
     ]
    },
    {
     "name": "stderr",
     "output_type": "stream",
     "text": [
      " 75%|███████▌  | 1743/2322 [04:33<01:10,  8.25it/s]"
     ]
    },
    {
     "name": "stdout",
     "output_type": "stream",
     "text": [
      "Checking out gene ENSG00000196743\n",
      "Checking out gene ENSG00000174607\n"
     ]
    },
    {
     "name": "stderr",
     "output_type": "stream",
     "text": [
      " 75%|███████▌  | 1746/2322 [04:34<01:07,  8.51it/s]"
     ]
    },
    {
     "name": "stdout",
     "output_type": "stream",
     "text": [
      "Checking out gene ENSG00000007541\n",
      "Checking out gene ENSG00000135845\n"
     ]
    },
    {
     "name": "stderr",
     "output_type": "stream",
     "text": [
      " 75%|███████▌  | 1748/2322 [04:34<01:06,  8.64it/s]"
     ]
    },
    {
     "name": "stdout",
     "output_type": "stream",
     "text": [
      "Checking out gene ENSG00000145337\n",
      "Checking out gene ENSG00000165195\n"
     ]
    },
    {
     "name": "stderr",
     "output_type": "stream",
     "text": [
      " 75%|███████▌  | 1750/2322 [04:35<02:23,  3.99it/s]"
     ]
    },
    {
     "name": "stdout",
     "output_type": "stream",
     "text": [
      "Checking out gene ENSG00000185808\n",
      "Checking out gene ENSG00000108474\n"
     ]
    },
    {
     "name": "stderr",
     "output_type": "stream",
     "text": [
      " 75%|███████▌  | 1752/2322 [04:35<01:51,  5.10it/s]"
     ]
    },
    {
     "name": "stdout",
     "output_type": "stream",
     "text": [
      "Checking out gene ENSG00000184886\n",
      "Checking out gene ENSG00000112293\n"
     ]
    },
    {
     "name": "stderr",
     "output_type": "stream",
     "text": [
      " 76%|███████▌  | 1754/2322 [04:35<01:32,  6.17it/s]"
     ]
    },
    {
     "name": "stdout",
     "output_type": "stream",
     "text": [
      "Checking out gene ENSG00000130714\n",
      "Checking out gene ENSG00000163964\n"
     ]
    },
    {
     "name": "stderr",
     "output_type": "stream",
     "text": [
      " 76%|███████▌  | 1756/2322 [04:36<01:28,  6.42it/s]"
     ]
    },
    {
     "name": "stdout",
     "output_type": "stream",
     "text": [
      "Checking out gene ENSG00000197563\n",
      "Checking out gene ENSG00000151665\n"
     ]
    },
    {
     "name": "stderr",
     "output_type": "stream",
     "text": [
      " 76%|███████▌  | 1758/2322 [04:36<01:20,  7.04it/s]"
     ]
    },
    {
     "name": "stdout",
     "output_type": "stream",
     "text": [
      "Checking out gene ENSG00000174227\n",
      "Checking out gene ENSG00000087111\n"
     ]
    },
    {
     "name": "stderr",
     "output_type": "stream",
     "text": [
      " 76%|███████▌  | 1760/2322 [04:36<01:08,  8.21it/s]"
     ]
    },
    {
     "name": "stdout",
     "output_type": "stream",
     "text": [
      "Checking out gene ENSG00000101464\n",
      "Checking out gene ENSG00000197858\n",
      "Checking out gene ENSG00000124212\n"
     ]
    },
    {
     "name": "stderr",
     "output_type": "stream",
     "text": [
      " 76%|███████▌  | 1763/2322 [04:36<01:07,  8.32it/s]"
     ]
    },
    {
     "name": "stdout",
     "output_type": "stream",
     "text": [
      "Checking out gene ENSG00000163684\n",
      "Checking out gene ENSG00000244486\n"
     ]
    },
    {
     "name": "stderr",
     "output_type": "stream",
     "text": [
      " 76%|███████▌  | 1765/2322 [04:37<01:07,  8.30it/s]"
     ]
    },
    {
     "name": "stdout",
     "output_type": "stream",
     "text": [
      "Checking out gene ENSG00000164303\n",
      "Checking out gene ENSG00000136960\n"
     ]
    },
    {
     "name": "stderr",
     "output_type": "stream",
     "text": [
      " 76%|███████▌  | 1767/2322 [04:37<01:02,  8.89it/s]"
     ]
    },
    {
     "name": "stdout",
     "output_type": "stream",
     "text": [
      "Checking out gene ENSG00000015532\n",
      "Checking out gene ENSG00000103489\n"
     ]
    },
    {
     "name": "stderr",
     "output_type": "stream",
     "text": [
      " 76%|███████▌  | 1769/2322 [04:37<01:03,  8.76it/s]"
     ]
    },
    {
     "name": "stdout",
     "output_type": "stream",
     "text": [
      "Checking out gene ENSG00000176022\n",
      "Checking out gene ENSG00000109956\n"
     ]
    },
    {
     "name": "stderr",
     "output_type": "stream",
     "text": [
      " 76%|███████▌  | 1770/2322 [04:37<01:04,  8.51it/s]"
     ]
    },
    {
     "name": "stdout",
     "output_type": "stream",
     "text": [
      "Checking out gene ENSG00000112309\n"
     ]
    },
    {
     "name": "stderr",
     "output_type": "stream",
     "text": [
      " 76%|███████▋  | 1772/2322 [04:38<01:20,  6.86it/s]"
     ]
    },
    {
     "name": "stdout",
     "output_type": "stream",
     "text": [
      "Checking out gene ENSG00000147408\n",
      "Checking out gene ENSG00000169826\n"
     ]
    },
    {
     "name": "stderr",
     "output_type": "stream",
     "text": [
      " 76%|███████▋  | 1774/2322 [04:38<01:08,  7.95it/s]"
     ]
    },
    {
     "name": "stdout",
     "output_type": "stream",
     "text": [
      "Checking out gene ENSG00000012232\n",
      "Checking out gene ENSG00000162694\n"
     ]
    },
    {
     "name": "stderr",
     "output_type": "stream",
     "text": [
      " 76%|███████▋  | 1775/2322 [04:38<01:19,  6.90it/s]"
     ]
    },
    {
     "name": "stdout",
     "output_type": "stream",
     "text": [
      "Checking out gene ENSG00000182197\n",
      "Checking out gene ENSG00000158008\n"
     ]
    },
    {
     "name": "stderr",
     "output_type": "stream",
     "text": [
      " 77%|███████▋  | 1778/2322 [04:38<01:09,  7.83it/s]"
     ]
    },
    {
     "name": "stdout",
     "output_type": "stream",
     "text": [
      "Checking out gene ENSG00000138604\n",
      "Checking out gene ENSG00000182601\n"
     ]
    },
    {
     "name": "stderr",
     "output_type": "stream",
     "text": [
      " 77%|███████▋  | 1780/2322 [04:39<01:01,  8.80it/s]"
     ]
    },
    {
     "name": "stdout",
     "output_type": "stream",
     "text": [
      "Checking out gene ENSG00000122254\n",
      "Checking out gene ENSG00000125430\n",
      "Checking out gene ENSG00000153976\n"
     ]
    },
    {
     "name": "stderr",
     "output_type": "stream",
     "text": [
      " 77%|███████▋  | 1782/2322 [04:39<00:58,  9.24it/s]"
     ]
    },
    {
     "name": "stdout",
     "output_type": "stream",
     "text": [
      "Checking out gene ENSG00000136213\n",
      "Checking out gene ENSG00000171310\n"
     ]
    },
    {
     "name": "stderr",
     "output_type": "stream",
     "text": [
      " 77%|███████▋  | 1786/2322 [04:39<00:57,  9.28it/s]"
     ]
    },
    {
     "name": "stdout",
     "output_type": "stream",
     "text": [
      "Checking out gene ENSG00000033100\n",
      "Checking out gene ENSG00000123989\n"
     ]
    },
    {
     "name": "stderr",
     "output_type": "stream",
     "text": [
      " 77%|███████▋  | 1787/2322 [04:39<00:58,  9.08it/s]"
     ]
    },
    {
     "name": "stdout",
     "output_type": "stream",
     "text": [
      "Checking out gene ENSG00000111817\n",
      "Checking out gene ENSG00000122863\n"
     ]
    },
    {
     "name": "stderr",
     "output_type": "stream",
     "text": [
      " 77%|███████▋  | 1790/2322 [04:40<00:55,  9.65it/s]"
     ]
    },
    {
     "name": "stdout",
     "output_type": "stream",
     "text": [
      "Checking out gene ENSG00000182022\n",
      "Checking out gene ENSG00000113273\n",
      "Checking out gene ENSG00000106302\n"
     ]
    },
    {
     "name": "stderr",
     "output_type": "stream",
     "text": [
      " 77%|███████▋  | 1791/2322 [04:40<00:56,  9.38it/s]"
     ]
    },
    {
     "name": "stdout",
     "output_type": "stream",
     "text": [
      "Checking out gene ENSG00000114378\n"
     ]
    },
    {
     "name": "stderr",
     "output_type": "stream",
     "text": [
      " 77%|███████▋  | 1794/2322 [04:41<02:18,  3.81it/s]"
     ]
    },
    {
     "name": "stdout",
     "output_type": "stream",
     "text": [
      "Checking out gene ENSG00000186792\n",
      "Checking out gene ENSG00000133116\n",
      "Checking out gene ENSG00000169919\n"
     ]
    },
    {
     "name": "stderr",
     "output_type": "stream",
     "text": [
      " 77%|███████▋  | 1796/2322 [04:41<01:46,  4.95it/s]"
     ]
    },
    {
     "name": "stdout",
     "output_type": "stream",
     "text": [
      "Checking out gene ENSG00000010404\n",
      "Checking out gene ENSG00000127415\n"
     ]
    },
    {
     "name": "stderr",
     "output_type": "stream",
     "text": [
      " 77%|███████▋  | 1798/2322 [04:42<01:23,  6.28it/s]"
     ]
    },
    {
     "name": "stdout",
     "output_type": "stream",
     "text": [
      "Checking out gene ENSG00000172987\n",
      "Checking out gene ENSG00000173083\n"
     ]
    },
    {
     "name": "stderr",
     "output_type": "stream",
     "text": [
      " 78%|███████▊  | 1800/2322 [04:42<01:14,  7.03it/s]"
     ]
    },
    {
     "name": "stdout",
     "output_type": "stream",
     "text": [
      "Checking out gene ENSG00000135677\n",
      "Checking out gene ENSG00000181523\n"
     ]
    },
    {
     "name": "stderr",
     "output_type": "stream",
     "text": [
      " 78%|███████▊  | 1802/2322 [04:42<01:06,  7.78it/s]"
     ]
    },
    {
     "name": "stdout",
     "output_type": "stream",
     "text": [
      "Checking out gene ENSG00000165102\n",
      "Checking out gene ENSG00000108784\n"
     ]
    },
    {
     "name": "stderr",
     "output_type": "stream",
     "text": [
      " 78%|███████▊  | 1803/2322 [04:42<01:05,  7.93it/s]"
     ]
    },
    {
     "name": "stdout",
     "output_type": "stream",
     "text": [
      "Checking out gene ENSG00000175264\n",
      "Checking out gene ENSG00000167910\n"
     ]
    },
    {
     "name": "stderr",
     "output_type": "stream",
     "text": [
      " 78%|███████▊  | 1806/2322 [04:43<01:02,  8.30it/s]"
     ]
    },
    {
     "name": "stdout",
     "output_type": "stream",
     "text": [
      "Checking out gene ENSG00000180432\n",
      "Checking out gene ENSG00000083807\n"
     ]
    },
    {
     "name": "stderr",
     "output_type": "stream",
     "text": [
      " 78%|███████▊  | 1808/2322 [04:43<01:02,  8.26it/s]"
     ]
    },
    {
     "name": "stdout",
     "output_type": "stream",
     "text": [
      "Checking out gene ENSG00000116171\n",
      "Checking out gene ENSG00000067840\n"
     ]
    },
    {
     "name": "stderr",
     "output_type": "stream",
     "text": [
      " 78%|███████▊  | 1809/2322 [04:43<01:01,  8.35it/s]"
     ]
    },
    {
     "name": "stdout",
     "output_type": "stream",
     "text": [
      "Checking out gene ENSG00000101986\n",
      "Checking out gene ENSG00000130821\n"
     ]
    },
    {
     "name": "stderr",
     "output_type": "stream",
     "text": [
      " 78%|███████▊  | 1813/2322 [04:43<00:56,  9.04it/s]"
     ]
    },
    {
     "name": "stdout",
     "output_type": "stream",
     "text": [
      "Checking out gene ENSG00000130822\n",
      "Checking out gene ENSG00000180879\n",
      "Checking out gene ENSG00000185825\n"
     ]
    },
    {
     "name": "stderr",
     "output_type": "stream",
     "text": [
      " 78%|███████▊  | 1815/2322 [04:44<00:56,  9.05it/s]"
     ]
    },
    {
     "name": "stdout",
     "output_type": "stream",
     "text": [
      "Checking out gene ENSG00000215151\n",
      "Checking out gene ENSG00000168306\n"
     ]
    },
    {
     "name": "stderr",
     "output_type": "stream",
     "text": [
      " 78%|███████▊  | 1818/2322 [04:44<00:54,  9.27it/s]"
     ]
    },
    {
     "name": "stdout",
     "output_type": "stream",
     "text": [
      "Checking out gene ENSG00000036530\n",
      "Checking out gene ENSG00000146233\n"
     ]
    },
    {
     "name": "stderr",
     "output_type": "stream",
     "text": [
      " 78%|███████▊  | 1820/2322 [04:47<06:10,  1.35it/s]"
     ]
    },
    {
     "name": "stdout",
     "output_type": "stream",
     "text": [
      "Checking out gene ENSG00000138135\n",
      "Checking out gene ENSG00000129596\n",
      "Checking out gene ENSG00000139631\n"
     ]
    },
    {
     "name": "stderr",
     "output_type": "stream",
     "text": [
      " 78%|███████▊  | 1822/2322 [04:47<03:40,  2.27it/s]"
     ]
    },
    {
     "name": "stdout",
     "output_type": "stream",
     "text": [
      "Checking out gene ENSG00000181915\n",
      "Checking out gene ENSG00000073734\n"
     ]
    },
    {
     "name": "stderr",
     "output_type": "stream",
     "text": [
      " 79%|███████▊  | 1824/2322 [04:48<02:21,  3.53it/s]"
     ]
    },
    {
     "name": "stdout",
     "output_type": "stream",
     "text": [
      "Checking out gene ENSG00000108846\n",
      "Checking out gene ENSG00000023839\n",
      "Checking out gene ENSG00000103222\n"
     ]
    },
    {
     "name": "stderr",
     "output_type": "stream",
     "text": [
      " 79%|███████▊  | 1827/2322 [04:48<01:36,  5.13it/s]"
     ]
    },
    {
     "name": "stdout",
     "output_type": "stream",
     "text": [
      "Checking out gene ENSG00000100652\n",
      "Checking out gene ENSG00000125255\n"
     ]
    },
    {
     "name": "stderr",
     "output_type": "stream",
     "text": [
      " 79%|███████▉  | 1829/2322 [04:48<01:17,  6.38it/s]"
     ]
    },
    {
     "name": "stdout",
     "output_type": "stream",
     "text": [
      "Checking out gene ENSG00000125257\n",
      "Checking out gene ENSG00000163959\n",
      "Checking out gene ENSG00000186198\n"
     ]
    },
    {
     "name": "stderr",
     "output_type": "stream",
     "text": [
      " 79%|███████▉  | 1833/2322 [04:49<00:58,  8.33it/s]"
     ]
    },
    {
     "name": "stdout",
     "output_type": "stream",
     "text": [
      "Checking out gene ENSG00000021488\n",
      "Checking out gene ENSG00000084453\n",
      "Checking out gene ENSG00000111700\n"
     ]
    },
    {
     "name": "stderr",
     "output_type": "stream",
     "text": [
      " 79%|███████▉  | 1835/2322 [04:49<00:59,  8.25it/s]"
     ]
    },
    {
     "name": "stdout",
     "output_type": "stream",
     "text": [
      "Checking out gene ENSG00000101187\n",
      "Checking out gene ENSG00000134538\n"
     ]
    },
    {
     "name": "stderr",
     "output_type": "stream",
     "text": [
      " 79%|███████▉  | 1837/2322 [04:49<01:08,  7.12it/s]"
     ]
    },
    {
     "name": "stdout",
     "output_type": "stream",
     "text": [
      "Checking out gene ENSG00000065615\n",
      "Checking out gene ENSG00000100243\n"
     ]
    },
    {
     "name": "stderr",
     "output_type": "stream",
     "text": [
      " 79%|███████▉  | 1839/2322 [04:49<00:59,  8.05it/s]"
     ]
    },
    {
     "name": "stdout",
     "output_type": "stream",
     "text": [
      "Checking out gene ENSG00000159348\n",
      "Checking out gene ENSG00000166394\n"
     ]
    },
    {
     "name": "stderr",
     "output_type": "stream",
     "text": [
      " 79%|███████▉  | 1841/2322 [04:50<01:00,  7.90it/s]"
     ]
    },
    {
     "name": "stdout",
     "output_type": "stream",
     "text": [
      "Checking out gene ENSG00000215883\n",
      "Checking out gene ENSG00000162882\n"
     ]
    },
    {
     "name": "stderr",
     "output_type": "stream",
     "text": [
      " 79%|███████▉  | 1843/2322 [04:50<00:58,  8.12it/s]"
     ]
    },
    {
     "name": "stdout",
     "output_type": "stream",
     "text": [
      "Checking out gene ENSG00000103485\n",
      "Checking out gene ENSG00000147813\n"
     ]
    },
    {
     "name": "stderr",
     "output_type": "stream",
     "text": [
      " 79%|███████▉  | 1844/2322 [04:50<01:02,  7.61it/s]"
     ]
    },
    {
     "name": "stdout",
     "output_type": "stream",
     "text": [
      "Checking out gene ENSG00000112874\n",
      "Checking out gene ENSG00000157064\n"
     ]
    },
    {
     "name": "stderr",
     "output_type": "stream",
     "text": [
      " 80%|███████▉  | 1847/2322 [04:50<00:55,  8.56it/s]"
     ]
    },
    {
     "name": "stdout",
     "output_type": "stream",
     "text": [
      "Checking out gene ENSG00000163864\n",
      "Checking out gene ENSG00000173614\n",
      "Checking out gene ENSG00000172890\n"
     ]
    },
    {
     "name": "stderr",
     "output_type": "stream",
     "text": [
      " 80%|███████▉  | 1850/2322 [04:51<00:53,  8.76it/s]"
     ]
    },
    {
     "name": "stdout",
     "output_type": "stream",
     "text": [
      "Checking out gene ENSG00000105835\n",
      "Checking out gene ENSG00000106733\n"
     ]
    },
    {
     "name": "stderr",
     "output_type": "stream",
     "text": [
      " 80%|███████▉  | 1852/2322 [04:51<00:56,  8.25it/s]"
     ]
    },
    {
     "name": "stdout",
     "output_type": "stream",
     "text": [
      "Checking out gene ENSG00000008130\n",
      "Checking out gene ENSG00000152620\n"
     ]
    },
    {
     "name": "stderr",
     "output_type": "stream",
     "text": [
      " 80%|███████▉  | 1855/2322 [04:51<00:58,  8.03it/s]"
     ]
    },
    {
     "name": "stdout",
     "output_type": "stream",
     "text": [
      "Checking out gene ENSG00000102575\n",
      "Checking out gene ENSG00000142513\n",
      "Checking out gene ENSG00000155893\n"
     ]
    },
    {
     "name": "stderr",
     "output_type": "stream",
     "text": [
      " 80%|███████▉  | 1857/2322 [04:52<01:12,  6.38it/s]"
     ]
    },
    {
     "name": "stdout",
     "output_type": "stream",
     "text": [
      "Checking out gene ENSG00000162836\n",
      "Checking out gene ENSG00000112992\n"
     ]
    },
    {
     "name": "stderr",
     "output_type": "stream",
     "text": [
      " 80%|████████  | 1858/2322 [04:52<01:32,  5.03it/s]"
     ]
    },
    {
     "name": "stdout",
     "output_type": "stream",
     "text": [
      "Checking out gene ENSG00000004468\n"
     ]
    },
    {
     "name": "stderr",
     "output_type": "stream",
     "text": [
      " 80%|████████  | 1859/2322 [04:52<01:52,  4.11it/s]"
     ]
    },
    {
     "name": "stdout",
     "output_type": "stream",
     "text": [
      "Checking out gene ENSG00000109743\n"
     ]
    },
    {
     "name": "stderr",
     "output_type": "stream",
     "text": [
      " 80%|████████  | 1861/2322 [04:54<02:53,  2.66it/s]"
     ]
    },
    {
     "name": "stdout",
     "output_type": "stream",
     "text": [
      "Checking out gene ENSG00000129744\n",
      "Checking out gene ENSG00000167311\n"
     ]
    },
    {
     "name": "stderr",
     "output_type": "stream",
     "text": [
      " 80%|████████  | 1862/2322 [04:54<02:16,  3.37it/s]"
     ]
    },
    {
     "name": "stdout",
     "output_type": "stream",
     "text": [
      "Checking out gene ENSG00000166741\n"
     ]
    },
    {
     "name": "stderr",
     "output_type": "stream",
     "text": [
      " 80%|████████  | 1864/2322 [04:54<01:49,  4.18it/s]"
     ]
    },
    {
     "name": "stdout",
     "output_type": "stream",
     "text": [
      "Checking out gene ENSG00000068120\n",
      "Checking out gene ENSG00000120137\n"
     ]
    },
    {
     "name": "stderr",
     "output_type": "stream",
     "text": [
      " 80%|████████  | 1866/2322 [04:54<01:19,  5.75it/s]"
     ]
    },
    {
     "name": "stdout",
     "output_type": "stream",
     "text": [
      "Checking out gene ENSG00000125779\n",
      "Checking out gene ENSG00000152782\n"
     ]
    },
    {
     "name": "stderr",
     "output_type": "stream",
     "text": [
      " 80%|████████  | 1868/2322 [04:55<01:33,  4.83it/s]"
     ]
    },
    {
     "name": "stdout",
     "output_type": "stream",
     "text": [
      "Checking out gene ENSG00000157881\n",
      "Checking out gene ENSG00000112299\n"
     ]
    },
    {
     "name": "stderr",
     "output_type": "stream",
     "text": [
      " 81%|████████  | 1870/2322 [04:55<01:10,  6.38it/s]"
     ]
    },
    {
     "name": "stdout",
     "output_type": "stream",
     "text": [
      "Checking out gene ENSG00000112303\n",
      "Checking out gene ENSG00000127125\n"
     ]
    },
    {
     "name": "stderr",
     "output_type": "stream",
     "text": [
      " 81%|████████  | 1872/2322 [04:55<00:59,  7.54it/s]"
     ]
    },
    {
     "name": "stdout",
     "output_type": "stream",
     "text": [
      "Checking out gene ENSG00000138621\n",
      "Checking out gene ENSG00000101333\n",
      "Checking out gene ENSG00000114805\n"
     ]
    },
    {
     "name": "stderr",
     "output_type": "stream",
     "text": [
      " 81%|████████  | 1876/2322 [04:56<00:49,  9.09it/s]"
     ]
    },
    {
     "name": "stdout",
     "output_type": "stream",
     "text": [
      "Checking out gene ENSG00000115556\n",
      "Checking out gene ENSG00000115896\n",
      "Checking out gene ENSG00000124181\n"
     ]
    },
    {
     "name": "stderr",
     "output_type": "stream",
     "text": [
      " 81%|████████  | 1878/2322 [04:56<00:49,  9.02it/s]"
     ]
    },
    {
     "name": "stdout",
     "output_type": "stream",
     "text": [
      "Checking out gene ENSG00000137841\n",
      "Checking out gene ENSG00000138193\n"
     ]
    },
    {
     "name": "stderr",
     "output_type": "stream",
     "text": [
      " 81%|████████  | 1880/2322 [04:56<00:49,  9.01it/s]"
     ]
    },
    {
     "name": "stdout",
     "output_type": "stream",
     "text": [
      "Checking out gene ENSG00000139151\n",
      "Checking out gene ENSG00000149527\n"
     ]
    },
    {
     "name": "stderr",
     "output_type": "stream",
     "text": [
      " 81%|████████  | 1881/2322 [04:57<01:43,  4.25it/s]"
     ]
    },
    {
     "name": "stdout",
     "output_type": "stream",
     "text": [
      "Checking out gene ENSG00000149782\n",
      "Checking out gene ENSG00000154822\n"
     ]
    },
    {
     "name": "stderr",
     "output_type": "stream",
     "text": [
      " 81%|████████  | 1884/2322 [04:57<01:25,  5.13it/s]"
     ]
    },
    {
     "name": "stdout",
     "output_type": "stream",
     "text": [
      "Checking out gene ENSG00000161714\n",
      "Checking out gene ENSG00000182621\n",
      "Checking out gene ENSG00000187091\n"
     ]
    },
    {
     "name": "stderr",
     "output_type": "stream",
     "text": [
      " 81%|████████▏ | 1888/2322 [04:58<00:59,  7.29it/s]"
     ]
    },
    {
     "name": "stdout",
     "output_type": "stream",
     "text": [
      "Checking out gene ENSG00000197943\n",
      "Checking out gene ENSG00000240891\n",
      "Checking out gene ENSG00000105655\n"
     ]
    },
    {
     "name": "stderr",
     "output_type": "stream",
     "text": [
      " 81%|████████▏ | 1889/2322 [04:58<00:56,  7.63it/s]"
     ]
    },
    {
     "name": "stdout",
     "output_type": "stream",
     "text": [
      "Checking out gene ENSG00000100253\n",
      "Checking out gene ENSG00000133731\n"
     ]
    },
    {
     "name": "stderr",
     "output_type": "stream",
     "text": [
      " 81%|████████▏ | 1892/2322 [04:58<00:51,  8.40it/s]"
     ]
    },
    {
     "name": "stdout",
     "output_type": "stream",
     "text": [
      "Checking out gene ENSG00000141401\n",
      "Checking out gene ENSG00000078142\n"
     ]
    },
    {
     "name": "stderr",
     "output_type": "stream",
     "text": [
      " 82%|████████▏ | 1895/2322 [04:59<00:46,  9.19it/s]"
     ]
    },
    {
     "name": "stdout",
     "output_type": "stream",
     "text": [
      "Checking out gene ENSG00000150712\n",
      "Checking out gene ENSG00000171100\n",
      "Checking out gene ENSG00000115020\n"
     ]
    },
    {
     "name": "stderr",
     "output_type": "stream",
     "text": [
      " 82%|████████▏ | 1897/2322 [04:59<00:44,  9.62it/s]"
     ]
    },
    {
     "name": "stdout",
     "output_type": "stream",
     "text": [
      "Checking out gene ENSG00000003987\n",
      "Checking out gene ENSG00000054148\n"
     ]
    },
    {
     "name": "stderr",
     "output_type": "stream",
     "text": [
      " 82%|████████▏ | 1900/2322 [04:59<00:44,  9.52it/s]"
     ]
    },
    {
     "name": "stdout",
     "output_type": "stream",
     "text": [
      "Checking out gene ENSG00000063601\n",
      "Checking out gene ENSG00000087053\n",
      "Checking out gene ENSG00000111077\n"
     ]
    },
    {
     "name": "stderr",
     "output_type": "stream",
     "text": [
      " 82%|████████▏ | 1902/2322 [04:59<00:46,  9.05it/s]"
     ]
    },
    {
     "name": "stdout",
     "output_type": "stream",
     "text": [
      "Checking out gene ENSG00000111696\n",
      "Checking out gene ENSG00000112367\n"
     ]
    },
    {
     "name": "stderr",
     "output_type": "stream",
     "text": [
      " 82%|████████▏ | 1905/2322 [05:00<00:45,  9.22it/s]"
     ]
    },
    {
     "name": "stdout",
     "output_type": "stream",
     "text": [
      "Checking out gene ENSG00000117598\n",
      "Checking out gene ENSG00000122484\n",
      "Checking out gene ENSG00000137770\n"
     ]
    },
    {
     "name": "stderr",
     "output_type": "stream",
     "text": [
      " 82%|████████▏ | 1907/2322 [05:00<00:47,  8.66it/s]"
     ]
    },
    {
     "name": "stdout",
     "output_type": "stream",
     "text": [
      "Checking out gene ENSG00000139304\n",
      "Checking out gene ENSG00000139505\n"
     ]
    },
    {
     "name": "stderr",
     "output_type": "stream",
     "text": [
      " 82%|████████▏ | 1909/2322 [05:00<00:45,  9.06it/s]"
     ]
    },
    {
     "name": "stdout",
     "output_type": "stream",
     "text": [
      "Checking out gene ENSG00000163082\n",
      "Checking out gene ENSG00000165458\n"
     ]
    },
    {
     "name": "stderr",
     "output_type": "stream",
     "text": [
      " 82%|████████▏ | 1911/2322 [05:00<00:45,  9.09it/s]"
     ]
    },
    {
     "name": "stdout",
     "output_type": "stream",
     "text": [
      "Checking out gene ENSG00000165688\n",
      "Checking out gene ENSG00000196455\n"
     ]
    },
    {
     "name": "stderr",
     "output_type": "stream",
     "text": [
      " 82%|████████▏ | 1912/2322 [05:00<00:46,  8.75it/s]"
     ]
    },
    {
     "name": "stdout",
     "output_type": "stream",
     "text": [
      "Checking out gene ENSG00000198825\n",
      "Checking out gene ENSG00000205808\n"
     ]
    },
    {
     "name": "stderr",
     "output_type": "stream",
     "text": [
      " 82%|████████▏ | 1915/2322 [05:02<01:51,  3.67it/s]"
     ]
    },
    {
     "name": "stdout",
     "output_type": "stream",
     "text": [
      "Checking out gene ENSG00000211456\n",
      "Checking out gene ENSG00000213920\n"
     ]
    },
    {
     "name": "stderr",
     "output_type": "stream",
     "text": [
      " 83%|████████▎ | 1917/2322 [05:02<01:30,  4.46it/s]"
     ]
    },
    {
     "name": "stdout",
     "output_type": "stream",
     "text": [
      "Checking out gene ENSG00000038210\n",
      "Checking out gene ENSG00000143393\n"
     ]
    },
    {
     "name": "stderr",
     "output_type": "stream",
     "text": [
      " 83%|████████▎ | 1920/2322 [05:02<00:59,  6.72it/s]"
     ]
    },
    {
     "name": "stdout",
     "output_type": "stream",
     "text": [
      "Checking out gene ENSG00000155252\n",
      "Checking out gene ENSG00000241973\n",
      "Checking out gene ENSG00000011405\n"
     ]
    },
    {
     "name": "stderr",
     "output_type": "stream",
     "text": [
      " 83%|████████▎ | 1922/2322 [05:03<00:58,  6.79it/s]"
     ]
    },
    {
     "name": "stdout",
     "output_type": "stream",
     "text": [
      "Checking out gene ENSG00000133056\n",
      "Checking out gene ENSG00000139144\n"
     ]
    },
    {
     "name": "stderr",
     "output_type": "stream",
     "text": [
      " 83%|████████▎ | 1924/2322 [05:03<00:54,  7.33it/s]"
     ]
    },
    {
     "name": "stdout",
     "output_type": "stream",
     "text": [
      "Checking out gene ENSG00000141506\n",
      "Checking out gene ENSG00000040933\n"
     ]
    },
    {
     "name": "stderr",
     "output_type": "stream",
     "text": [
      " 83%|████████▎ | 1926/2322 [05:03<00:47,  8.25it/s]"
     ]
    },
    {
     "name": "stdout",
     "output_type": "stream",
     "text": [
      "Checking out gene ENSG00000109452\n",
      "Checking out gene ENSG00000171862\n"
     ]
    },
    {
     "name": "stderr",
     "output_type": "stream",
     "text": [
      " 83%|████████▎ | 1927/2322 [05:03<00:47,  8.34it/s]"
     ]
    },
    {
     "name": "stdout",
     "output_type": "stream",
     "text": [
      "Checking out gene ENSG00000107242\n",
      "Checking out gene ENSG00000143398\n"
     ]
    },
    {
     "name": "stderr",
     "output_type": "stream",
     "text": [
      " 83%|████████▎ | 1930/2322 [05:04<00:46,  8.36it/s]"
     ]
    },
    {
     "name": "stdout",
     "output_type": "stream",
     "text": [
      "Checking out gene ENSG00000186111\n",
      "Checking out gene ENSG00000078269\n"
     ]
    },
    {
     "name": "stderr",
     "output_type": "stream",
     "text": [
      " 83%|████████▎ | 1932/2322 [05:04<00:43,  8.96it/s]"
     ]
    },
    {
     "name": "stdout",
     "output_type": "stream",
     "text": [
      "Checking out gene ENSG00000122126\n",
      "Checking out gene ENSG00000148384\n"
     ]
    },
    {
     "name": "stderr",
     "output_type": "stream",
     "text": [
      " 83%|████████▎ | 1934/2322 [05:04<00:45,  8.53it/s]"
     ]
    },
    {
     "name": "stdout",
     "output_type": "stream",
     "text": [
      "Checking out gene ENSG00000159082\n",
      "Checking out gene ENSG00000204084\n"
     ]
    },
    {
     "name": "stderr",
     "output_type": "stream",
     "text": [
      " 83%|████████▎ | 1936/2322 [05:04<00:47,  8.10it/s]"
     ]
    },
    {
     "name": "stdout",
     "output_type": "stream",
     "text": [
      "Checking out gene ENSG00000155099\n",
      "Checking out gene ENSG00000165782\n"
     ]
    },
    {
     "name": "stderr",
     "output_type": "stream",
     "text": [
      " 83%|████████▎ | 1938/2322 [05:04<00:46,  8.17it/s]"
     ]
    },
    {
     "name": "stdout",
     "output_type": "stream",
     "text": [
      "Checking out gene ENSG00000141720\n",
      "Checking out gene ENSG00000150867\n"
     ]
    },
    {
     "name": "stderr",
     "output_type": "stream",
     "text": [
      " 84%|████████▎ | 1940/2322 [05:05<00:47,  8.06it/s]"
     ]
    },
    {
     "name": "stdout",
     "output_type": "stream",
     "text": [
      "Checking out gene ENSG00000166908\n",
      "Checking out gene ENSG00000051382\n"
     ]
    },
    {
     "name": "stderr",
     "output_type": "stream",
     "text": [
      " 84%|████████▎ | 1942/2322 [05:05<00:43,  8.71it/s]"
     ]
    },
    {
     "name": "stdout",
     "output_type": "stream",
     "text": [
      "Checking out gene ENSG00000105647\n",
      "Checking out gene ENSG00000105851\n",
      "Checking out gene ENSG00000117461\n"
     ]
    },
    {
     "name": "stderr",
     "output_type": "stream",
     "text": [
      " 84%|████████▍ | 1945/2322 [05:05<00:43,  8.72it/s]"
     ]
    },
    {
     "name": "stdout",
     "output_type": "stream",
     "text": [
      "Checking out gene ENSG00000121879\n",
      "Checking out gene ENSG00000126264\n"
     ]
    },
    {
     "name": "stderr",
     "output_type": "stream",
     "text": [
      " 84%|████████▍ | 1948/2322 [05:06<00:39,  9.35it/s]"
     ]
    },
    {
     "name": "stdout",
     "output_type": "stream",
     "text": [
      "Checking out gene ENSG00000145675\n",
      "Checking out gene ENSG00000171608\n",
      "Checking out gene ENSG00000068383\n"
     ]
    },
    {
     "name": "stderr",
     "output_type": "stream",
     "text": [
      " 84%|████████▍ | 1949/2322 [05:06<00:39,  9.47it/s]"
     ]
    },
    {
     "name": "stdout",
     "output_type": "stream",
     "text": [
      "Checking out gene ENSG00000185133\n"
     ]
    },
    {
     "name": "stderr",
     "output_type": "stream",
     "text": [
      " 84%|████████▍ | 1951/2322 [05:06<00:55,  6.74it/s]"
     ]
    },
    {
     "name": "stdout",
     "output_type": "stream",
     "text": [
      "Checking out gene ENSG00000151689\n",
      "Checking out gene ENSG00000086544\n"
     ]
    },
    {
     "name": "stderr",
     "output_type": "stream",
     "text": [
      " 84%|████████▍ | 1953/2322 [05:06<00:52,  7.05it/s]"
     ]
    },
    {
     "name": "stdout",
     "output_type": "stream",
     "text": [
      "Checking out gene ENSG00000137825\n",
      "Checking out gene ENSG00000143772\n"
     ]
    },
    {
     "name": "stderr",
     "output_type": "stream",
     "text": [
      " 84%|████████▍ | 1955/2322 [05:07<01:12,  5.09it/s]"
     ]
    },
    {
     "name": "stdout",
     "output_type": "stream",
     "text": [
      "Checking out gene ENSG00000107789\n",
      "Checking out gene ENSG00000168918\n"
     ]
    },
    {
     "name": "stderr",
     "output_type": "stream",
     "text": [
      " 84%|████████▍ | 1957/2322 [05:07<00:55,  6.59it/s]"
     ]
    },
    {
     "name": "stdout",
     "output_type": "stream",
     "text": [
      "Checking out gene ENSG00000100605\n",
      "Checking out gene ENSG00000151151\n"
     ]
    },
    {
     "name": "stderr",
     "output_type": "stream",
     "text": [
      " 84%|████████▍ | 1960/2322 [05:08<00:52,  6.88it/s]"
     ]
    },
    {
     "name": "stdout",
     "output_type": "stream",
     "text": [
      "Checking out gene ENSG00000127080\n",
      "Checking out gene ENSG00000068745\n",
      "Checking out gene ENSG00000145725\n"
     ]
    },
    {
     "name": "stderr",
     "output_type": "stream",
     "text": [
      " 84%|████████▍ | 1962/2322 [05:08<00:47,  7.65it/s]"
     ]
    },
    {
     "name": "stdout",
     "output_type": "stream",
     "text": [
      "Checking out gene ENSG00000168781\n",
      "Checking out gene ENSG00000151552\n"
     ]
    },
    {
     "name": "stderr",
     "output_type": "stream",
     "text": [
      " 85%|████████▍ | 1963/2322 [05:08<00:47,  7.64it/s]"
     ]
    },
    {
     "name": "stdout",
     "output_type": "stream",
     "text": [
      "Checking out gene ENSG00000228716\n"
     ]
    },
    {
     "name": "stderr",
     "output_type": "stream",
     "text": [
      " 85%|████████▍ | 1966/2322 [05:08<00:46,  7.70it/s]"
     ]
    },
    {
     "name": "stdout",
     "output_type": "stream",
     "text": [
      "Checking out gene ENSG00000136010\n",
      "Checking out gene ENSG00000144908\n",
      "Checking out gene ENSG00000100714\n"
     ]
    },
    {
     "name": "stderr",
     "output_type": "stream",
     "text": [
      " 85%|████████▍ | 1967/2322 [05:09<00:43,  8.14it/s]"
     ]
    },
    {
     "name": "stdout",
     "output_type": "stream",
     "text": [
      "Checking out gene ENSG00000182021\n",
      "Checking out gene ENSG00000065911\n"
     ]
    },
    {
     "name": "stderr",
     "output_type": "stream",
     "text": [
      " 85%|████████▍ | 1970/2322 [05:09<00:43,  8.01it/s]"
     ]
    },
    {
     "name": "stdout",
     "output_type": "stream",
     "text": [
      "Checking out gene ENSG00000120254\n",
      "Checking out gene ENSG00000163738\n"
     ]
    },
    {
     "name": "stderr",
     "output_type": "stream",
     "text": [
      " 85%|████████▍ | 1973/2322 [05:10<01:25,  4.09it/s]"
     ]
    },
    {
     "name": "stdout",
     "output_type": "stream",
     "text": [
      "Checking out gene ENSG00000105618\n",
      "Checking out gene ENSG00000177000\n"
     ]
    },
    {
     "name": "stderr",
     "output_type": "stream",
     "text": [
      " 85%|████████▌ | 1974/2322 [05:10<01:14,  4.66it/s]"
     ]
    },
    {
     "name": "stdout",
     "output_type": "stream",
     "text": [
      "Checking out gene ENSG00000136371\n",
      "Checking out gene ENSG00000124615\n"
     ]
    },
    {
     "name": "stderr",
     "output_type": "stream",
     "text": [
      " 85%|████████▌ | 1976/2322 [05:11<00:58,  5.96it/s]"
     ]
    },
    {
     "name": "stdout",
     "output_type": "stream",
     "text": [
      "Checking out gene ENSG00000164172\n",
      "Checking out gene ENSG00000171723\n"
     ]
    },
    {
     "name": "stderr",
     "output_type": "stream",
     "text": [
      " 85%|████████▌ | 1978/2322 [05:11<01:08,  5.03it/s]"
     ]
    },
    {
     "name": "stdout",
     "output_type": "stream",
     "text": [
      "Checking out gene ENSG00000244681\n"
     ]
    },
    {
     "name": "stderr",
     "output_type": "stream",
     "text": [
      " 85%|████████▌ | 1979/2322 [05:11<01:01,  5.59it/s]"
     ]
    },
    {
     "name": "stdout",
     "output_type": "stream",
     "text": [
      "Checking out gene ENSG00000169814\n",
      "Checking out gene ENSG00000159267\n"
     ]
    },
    {
     "name": "stderr",
     "output_type": "stream",
     "text": [
      " 85%|████████▌ | 1981/2322 [05:11<00:49,  6.93it/s]"
     ]
    },
    {
     "name": "stdout",
     "output_type": "stream",
     "text": [
      "Checking out gene ENSG00000131979\n",
      "Checking out gene ENSG00000150787\n"
     ]
    },
    {
     "name": "stderr",
     "output_type": "stream",
     "text": [
      " 85%|████████▌ | 1983/2322 [05:12<00:45,  7.48it/s]"
     ]
    },
    {
     "name": "stdout",
     "output_type": "stream",
     "text": [
      "Checking out gene ENSG00000116096\n",
      "Checking out gene ENSG00000132570\n"
     ]
    },
    {
     "name": "stderr",
     "output_type": "stream",
     "text": [
      " 85%|████████▌ | 1985/2322 [05:12<00:43,  7.68it/s]"
     ]
    },
    {
     "name": "stdout",
     "output_type": "stream",
     "text": [
      "Checking out gene ENSG00000166228\n",
      "Checking out gene ENSG00000023572\n"
     ]
    },
    {
     "name": "stderr",
     "output_type": "stream",
     "text": [
      " 86%|████████▌ | 1987/2322 [05:12<00:39,  8.44it/s]"
     ]
    },
    {
     "name": "stdout",
     "output_type": "stream",
     "text": [
      "Checking out gene ENSG00000173221\n",
      "Checking out gene ENSG00000047457\n"
     ]
    },
    {
     "name": "stderr",
     "output_type": "stream",
     "text": [
      " 86%|████████▌ | 1989/2322 [05:12<00:37,  8.77it/s]"
     ]
    },
    {
     "name": "stdout",
     "output_type": "stream",
     "text": [
      "Checking out gene ENSG00000163755\n",
      "Checking out gene ENSG00000165060\n"
     ]
    },
    {
     "name": "stderr",
     "output_type": "stream",
     "text": [
      " 86%|████████▌ | 1991/2322 [05:13<00:36,  8.96it/s]"
     ]
    },
    {
     "name": "stdout",
     "output_type": "stream",
     "text": [
      "Checking out gene ENSG00000167996\n",
      "Checking out gene ENSG00000181867\n",
      "Checking out gene ENSG00000148218\n"
     ]
    },
    {
     "name": "stderr",
     "output_type": "stream",
     "text": [
      " 86%|████████▌ | 1994/2322 [05:13<00:44,  7.31it/s]"
     ]
    },
    {
     "name": "stdout",
     "output_type": "stream",
     "text": [
      "Checking out gene ENSG00000256269\n",
      "Checking out gene ENSG00000188690\n"
     ]
    },
    {
     "name": "stderr",
     "output_type": "stream",
     "text": [
      " 86%|████████▌ | 1996/2322 [05:14<00:56,  5.73it/s]"
     ]
    },
    {
     "name": "stdout",
     "output_type": "stream",
     "text": [
      "Checking out gene ENSG00000126088\n",
      "Checking out gene ENSG00000080819\n"
     ]
    },
    {
     "name": "stderr",
     "output_type": "stream",
     "text": [
      " 86%|████████▌ | 1998/2322 [05:14<00:46,  7.00it/s]"
     ]
    },
    {
     "name": "stdout",
     "output_type": "stream",
     "text": [
      "Checking out gene ENSG00000143224\n",
      "Checking out gene ENSG00000066926\n",
      "Checking out gene ENSG00000004961\n"
     ]
    },
    {
     "name": "stderr",
     "output_type": "stream",
     "text": [
      " 86%|████████▌ | 2001/2322 [05:14<00:45,  7.10it/s]"
     ]
    },
    {
     "name": "stdout",
     "output_type": "stream",
     "text": [
      "Checking out gene ENSG00000100292\n",
      "Checking out gene ENSG00000103415\n"
     ]
    },
    {
     "name": "stderr",
     "output_type": "stream",
     "text": [
      " 86%|████████▌ | 2002/2322 [05:14<00:43,  7.39it/s]"
     ]
    },
    {
     "name": "stdout",
     "output_type": "stream",
     "text": [
      "Checking out gene ENSG00000090013\n",
      "Checking out gene ENSG00000106605\n"
     ]
    },
    {
     "name": "stderr",
     "output_type": "stream",
     "text": [
      " 86%|████████▋ | 2006/2322 [05:15<00:51,  6.18it/s]"
     ]
    },
    {
     "name": "stdout",
     "output_type": "stream",
     "text": [
      "Checking out gene ENSG00000071967\n",
      "Checking out gene ENSG00000072042\n"
     ]
    },
    {
     "name": "stderr",
     "output_type": "stream",
     "text": [
      " 86%|████████▋ | 2008/2322 [05:15<00:43,  7.21it/s]"
     ]
    },
    {
     "name": "stdout",
     "output_type": "stream",
     "text": [
      "Checking out gene ENSG00000073737\n",
      "Checking out gene ENSG00000080511\n",
      "Checking out gene ENSG00000162496\n"
     ]
    },
    {
     "name": "stderr",
     "output_type": "stream",
     "text": [
      " 87%|████████▋ | 2010/2322 [05:15<00:40,  7.67it/s]"
     ]
    },
    {
     "name": "stdout",
     "output_type": "stream",
     "text": [
      "Checking out gene ENSG00000135437\n",
      "Checking out gene ENSG00000095596\n"
     ]
    },
    {
     "name": "stderr",
     "output_type": "stream",
     "text": [
      " 87%|████████▋ | 2013/2322 [05:16<00:34,  8.92it/s]"
     ]
    },
    {
     "name": "stdout",
     "output_type": "stream",
     "text": [
      "Checking out gene ENSG00000114115\n",
      "Checking out gene ENSG00000121207\n",
      "Checking out gene ENSG00000138207\n"
     ]
    },
    {
     "name": "stderr",
     "output_type": "stream",
     "text": [
      " 87%|████████▋ | 2014/2322 [05:16<00:35,  8.71it/s]"
     ]
    },
    {
     "name": "stdout",
     "output_type": "stream",
     "text": [
      "Checking out gene ENSG00000159398\n",
      "Checking out gene ENSG00000172828\n"
     ]
    },
    {
     "name": "stderr",
     "output_type": "stream",
     "text": [
      " 87%|████████▋ | 2017/2322 [05:16<00:35,  8.58it/s]"
     ]
    },
    {
     "name": "stdout",
     "output_type": "stream",
     "text": [
      "Checking out gene ENSG00000172831\n",
      "Checking out gene ENSG00000198848\n"
     ]
    },
    {
     "name": "stderr",
     "output_type": "stream",
     "text": [
      " 87%|████████▋ | 2019/2322 [05:17<00:41,  7.39it/s]"
     ]
    },
    {
     "name": "stdout",
     "output_type": "stream",
     "text": [
      "Checking out gene ENSG00000139547\n",
      "Checking out gene ENSG00000187630\n",
      "Checking out gene ENSG00000003137\n"
     ]
    },
    {
     "name": "stderr",
     "output_type": "stream",
     "text": [
      " 87%|████████▋ | 2022/2322 [05:17<00:39,  7.59it/s]"
     ]
    },
    {
     "name": "stdout",
     "output_type": "stream",
     "text": [
      "Checking out gene ENSG00000128918\n",
      "Checking out gene ENSG00000165092\n"
     ]
    },
    {
     "name": "stderr",
     "output_type": "stream",
     "text": [
      " 87%|████████▋ | 2024/2322 [05:17<00:38,  7.74it/s]"
     ]
    },
    {
     "name": "stdout",
     "output_type": "stream",
     "text": [
      "Checking out gene ENSG00000135697\n",
      "Checking out gene ENSG00000135002\n"
     ]
    },
    {
     "name": "stderr",
     "output_type": "stream",
     "text": [
      " 87%|████████▋ | 2025/2322 [05:17<00:42,  7.06it/s]"
     ]
    },
    {
     "name": "stdout",
     "output_type": "stream",
     "text": [
      "Checking out gene ENSG00000160688\n",
      "Checking out gene ENSG00000163352\n"
     ]
    },
    {
     "name": "stderr",
     "output_type": "stream",
     "text": [
      " 87%|████████▋ | 2028/2322 [05:18<00:42,  6.94it/s]"
     ]
    },
    {
     "name": "stdout",
     "output_type": "stream",
     "text": [
      "Checking out gene ENSG00000129167\n",
      "Checking out gene ENSG00000139287\n"
     ]
    },
    {
     "name": "stderr",
     "output_type": "stream",
     "text": [
      " 87%|████████▋ | 2030/2322 [05:19<01:20,  3.62it/s]"
     ]
    },
    {
     "name": "stdout",
     "output_type": "stream",
     "text": [
      "Checking out gene ENSG00000129673\n",
      "Checking out gene ENSG00000196433\n"
     ]
    },
    {
     "name": "stderr",
     "output_type": "stream",
     "text": [
      " 88%|████████▊ | 2033/2322 [05:19<00:49,  5.89it/s]"
     ]
    },
    {
     "name": "stdout",
     "output_type": "stream",
     "text": [
      "Checking out gene ENSG00000196511\n",
      "Checking out gene ENSG00000259431\n",
      "Checking out gene ENSG00000135778\n"
     ]
    },
    {
     "name": "stderr",
     "output_type": "stream",
     "text": [
      " 88%|████████▊ | 2035/2322 [05:19<00:44,  6.51it/s]"
     ]
    },
    {
     "name": "stdout",
     "output_type": "stream",
     "text": [
      "Checking out gene ENSG00000139428\n",
      "Checking out gene ENSG00000151611\n"
     ]
    },
    {
     "name": "stderr",
     "output_type": "stream",
     "text": [
      " 88%|████████▊ | 2037/2322 [05:20<00:37,  7.56it/s]"
     ]
    },
    {
     "name": "stdout",
     "output_type": "stream",
     "text": [
      "Checking out gene ENSG00000100092\n",
      "Checking out gene ENSG00000144362\n"
     ]
    },
    {
     "name": "stderr",
     "output_type": "stream",
     "text": [
      " 88%|████████▊ | 2040/2322 [05:20<00:33,  8.48it/s]"
     ]
    },
    {
     "name": "stdout",
     "output_type": "stream",
     "text": [
      "Checking out gene ENSG00000241360\n",
      "Checking out gene ENSG00000160209\n",
      "Checking out gene ENSG00000108439\n"
     ]
    },
    {
     "name": "stderr",
     "output_type": "stream",
     "text": [
      " 88%|████████▊ | 2042/2322 [05:20<00:33,  8.43it/s]"
     ]
    },
    {
     "name": "stdout",
     "output_type": "stream",
     "text": [
      "Checking out gene ENSG00000186104\n",
      "Checking out gene ENSG00000081479\n"
     ]
    },
    {
     "name": "stderr",
     "output_type": "stream",
     "text": [
      " 88%|████████▊ | 2044/2322 [05:20<00:31,  8.86it/s]"
     ]
    },
    {
     "name": "stdout",
     "output_type": "stream",
     "text": [
      "Checking out gene ENSG00000145321\n",
      "Checking out gene ENSG00000019186\n"
     ]
    },
    {
     "name": "stderr",
     "output_type": "stream",
     "text": [
      " 88%|████████▊ | 2046/2322 [05:21<00:30,  8.96it/s]"
     ]
    },
    {
     "name": "stdout",
     "output_type": "stream",
     "text": [
      "Checking out gene ENSG00000104808\n",
      "Checking out gene ENSG00000161513\n"
     ]
    },
    {
     "name": "stderr",
     "output_type": "stream",
     "text": [
      " 88%|████████▊ | 2048/2322 [05:21<00:35,  7.67it/s]"
     ]
    },
    {
     "name": "stdout",
     "output_type": "stream",
     "text": [
      "Checking out gene ENSG00000105355\n",
      "Checking out gene ENSG00000139914\n"
     ]
    },
    {
     "name": "stderr",
     "output_type": "stream",
     "text": [
      " 88%|████████▊ | 2050/2322 [05:21<00:36,  7.47it/s]"
     ]
    },
    {
     "name": "stdout",
     "output_type": "stream",
     "text": [
      "Checking out gene ENSG00000167676\n",
      "Checking out gene ENSG00000072062\n"
     ]
    },
    {
     "name": "stderr",
     "output_type": "stream",
     "text": [
      " 88%|████████▊ | 2052/2322 [05:21<00:33,  8.16it/s]"
     ]
    },
    {
     "name": "stdout",
     "output_type": "stream",
     "text": [
      "Checking out gene ENSG00000142875\n",
      "Checking out gene ENSG00000170323\n"
     ]
    },
    {
     "name": "stderr",
     "output_type": "stream",
     "text": [
      " 88%|████████▊ | 2054/2322 [05:22<00:31,  8.52it/s]"
     ]
    },
    {
     "name": "stdout",
     "output_type": "stream",
     "text": [
      "Checking out gene ENSG00000186298\n",
      "Checking out gene ENSG00000213639\n"
     ]
    },
    {
     "name": "stderr",
     "output_type": "stream",
     "text": [
      " 89%|████████▊ | 2055/2322 [05:22<00:44,  5.97it/s]"
     ]
    },
    {
     "name": "stdout",
     "output_type": "stream",
     "text": [
      "Checking out gene ENSG00000113396\n",
      "Checking out gene ENSG00000163586\n"
     ]
    },
    {
     "name": "stderr",
     "output_type": "stream",
     "text": [
      " 89%|████████▊ | 2058/2322 [05:22<00:38,  6.90it/s]"
     ]
    },
    {
     "name": "stdout",
     "output_type": "stream",
     "text": [
      "Checking out gene ENSG00000164687\n",
      "Checking out gene ENSG00000197416\n"
     ]
    },
    {
     "name": "stderr",
     "output_type": "stream",
     "text": [
      " 89%|████████▊ | 2060/2322 [05:23<00:34,  7.49it/s]"
     ]
    },
    {
     "name": "stdout",
     "output_type": "stream",
     "text": [
      "Checking out gene ENSG00000165029\n",
      "Checking out gene ENSG00000166747\n"
     ]
    },
    {
     "name": "stderr",
     "output_type": "stream",
     "text": [
      " 89%|████████▉ | 2062/2322 [05:23<00:30,  8.45it/s]"
     ]
    },
    {
     "name": "stdout",
     "output_type": "stream",
     "text": [
      "Checking out gene ENSG00000165269\n",
      "Checking out gene ENSG00000165272\n"
     ]
    },
    {
     "name": "stderr",
     "output_type": "stream",
     "text": [
      " 89%|████████▉ | 2064/2322 [05:23<00:30,  8.47it/s]"
     ]
    },
    {
     "name": "stdout",
     "output_type": "stream",
     "text": [
      "Checking out gene ENSG00000005471\n",
      "Checking out gene ENSG00000139433\n"
     ]
    },
    {
     "name": "stderr",
     "output_type": "stream",
     "text": [
      " 89%|████████▉ | 2066/2322 [05:23<00:30,  8.27it/s]"
     ]
    },
    {
     "name": "stdout",
     "output_type": "stream",
     "text": [
      "Checking out gene ENSG00000138075\n",
      "Checking out gene ENSG00000143921\n"
     ]
    },
    {
     "name": "stderr",
     "output_type": "stream",
     "text": [
      " 89%|████████▉ | 2067/2322 [05:23<00:30,  8.25it/s]"
     ]
    },
    {
     "name": "stdout",
     "output_type": "stream",
     "text": [
      "Checking out gene ENSG00000160179\n",
      "Checking out gene ENSG00000145217\n"
     ]
    },
    {
     "name": "stderr",
     "output_type": "stream",
     "text": [
      " 89%|████████▉ | 2070/2322 [05:24<00:35,  7.08it/s]"
     ]
    },
    {
     "name": "stdout",
     "output_type": "stream",
     "text": [
      "Checking out gene ENSG00000100156\n",
      "Checking out gene ENSG00000108932\n"
     ]
    },
    {
     "name": "stderr",
     "output_type": "stream",
     "text": [
      " 89%|████████▉ | 2072/2322 [05:24<00:31,  7.98it/s]"
     ]
    },
    {
     "name": "stdout",
     "output_type": "stream",
     "text": [
      "Checking out gene ENSG00000118596\n",
      "Checking out gene ENSG00000141526\n"
     ]
    },
    {
     "name": "stderr",
     "output_type": "stream",
     "text": [
      " 89%|████████▉ | 2074/2322 [05:24<00:31,  7.85it/s]"
     ]
    },
    {
     "name": "stdout",
     "output_type": "stream",
     "text": [
      "Checking out gene ENSG00000155380\n",
      "Checking out gene ENSG00000168679\n"
     ]
    },
    {
     "name": "stderr",
     "output_type": "stream",
     "text": [
      " 89%|████████▉ | 2076/2322 [05:25<00:31,  7.91it/s]"
     ]
    },
    {
     "name": "stdout",
     "output_type": "stream",
     "text": [
      "Checking out gene ENSG00000170190\n",
      "Checking out gene ENSG00000110195\n"
     ]
    },
    {
     "name": "stderr",
     "output_type": "stream",
     "text": [
      " 89%|████████▉ | 2078/2322 [05:25<00:28,  8.57it/s]"
     ]
    },
    {
     "name": "stdout",
     "output_type": "stream",
     "text": [
      "Checking out gene ENSG00000110203\n",
      "Checking out gene ENSG00000109667\n"
     ]
    },
    {
     "name": "stderr",
     "output_type": "stream",
     "text": [
      " 90%|████████▉ | 2080/2322 [05:25<00:29,  8.07it/s]"
     ]
    },
    {
     "name": "stdout",
     "output_type": "stream",
     "text": [
      "Checking out gene ENSG00000133460\n",
      "Checking out gene ENSG00000136856\n"
     ]
    },
    {
     "name": "stderr",
     "output_type": "stream",
     "text": [
      " 90%|████████▉ | 2082/2322 [05:25<00:30,  7.84it/s]"
     ]
    },
    {
     "name": "stdout",
     "output_type": "stream",
     "text": [
      "Checking out gene ENSG00000142583\n",
      "Checking out gene ENSG00000163581\n"
     ]
    },
    {
     "name": "stderr",
     "output_type": "stream",
     "text": [
      " 90%|████████▉ | 2084/2322 [05:25<00:28,  8.40it/s]"
     ]
    },
    {
     "name": "stdout",
     "output_type": "stream",
     "text": [
      "Checking out gene ENSG00000197241\n",
      "Checking out gene ENSG00000111181\n"
     ]
    },
    {
     "name": "stderr",
     "output_type": "stream",
     "text": [
      " 90%|████████▉ | 2086/2322 [05:26<00:32,  7.32it/s]"
     ]
    },
    {
     "name": "stdout",
     "output_type": "stream",
     "text": [
      "Checking out gene ENSG00000132164\n",
      "Checking out gene ENSG00000138074\n"
     ]
    },
    {
     "name": "stderr",
     "output_type": "stream",
     "text": [
      " 90%|████████▉ | 2088/2322 [05:26<00:34,  6.83it/s]"
     ]
    },
    {
     "name": "stdout",
     "output_type": "stream",
     "text": [
      "Checking out gene ENSG00000137860\n",
      "Checking out gene ENSG00000156222\n"
     ]
    },
    {
     "name": "stderr",
     "output_type": "stream",
     "text": [
      " 90%|█████████ | 2090/2322 [05:26<00:30,  7.63it/s]"
     ]
    },
    {
     "name": "stdout",
     "output_type": "stream",
     "text": [
      "Checking out gene ENSG00000197506\n",
      "Checking out gene ENSG00000174669\n"
     ]
    },
    {
     "name": "stderr",
     "output_type": "stream",
     "text": [
      " 90%|█████████ | 2091/2322 [05:27<00:32,  7.17it/s]"
     ]
    },
    {
     "name": "stdout",
     "output_type": "stream",
     "text": [
      "Checking out gene ENSG00000003989\n",
      "Checking out gene ENSG00000059804\n"
     ]
    },
    {
     "name": "stderr",
     "output_type": "stream",
     "text": [
      " 90%|█████████ | 2094/2322 [05:27<00:29,  7.78it/s]"
     ]
    },
    {
     "name": "stdout",
     "output_type": "stream",
     "text": [
      "Checking out gene ENSG00000117394\n",
      "Checking out gene ENSG00000197496\n"
     ]
    },
    {
     "name": "stderr",
     "output_type": "stream",
     "text": [
      " 90%|█████████ | 2096/2322 [05:27<00:28,  8.02it/s]"
     ]
    },
    {
     "name": "stdout",
     "output_type": "stream",
     "text": [
      "Checking out gene ENSG00000151229\n",
      "Checking out gene ENSG00000112077\n"
     ]
    },
    {
     "name": "stderr",
     "output_type": "stream",
     "text": [
      " 90%|█████████ | 2098/2322 [05:27<00:26,  8.33it/s]"
     ]
    },
    {
     "name": "stdout",
     "output_type": "stream",
     "text": [
      "Checking out gene ENSG00000086159\n",
      "Checking out gene ENSG00000100170\n"
     ]
    },
    {
     "name": "stderr",
     "output_type": "stream",
     "text": [
      " 90%|█████████ | 2100/2322 [05:28<00:26,  8.42it/s]"
     ]
    },
    {
     "name": "stdout",
     "output_type": "stream",
     "text": [
      "Checking out gene ENSG00000103375\n",
      "Checking out gene ENSG00000143595\n"
     ]
    },
    {
     "name": "stderr",
     "output_type": "stream",
     "text": [
      " 91%|█████████ | 2102/2322 [05:28<00:25,  8.50it/s]"
     ]
    },
    {
     "name": "stdout",
     "output_type": "stream",
     "text": [
      "Checking out gene ENSG00000161798\n",
      "Checking out gene ENSG00000167580\n"
     ]
    },
    {
     "name": "stderr",
     "output_type": "stream",
     "text": [
      " 91%|█████████ | 2104/2322 [05:28<00:24,  8.77it/s]"
     ]
    },
    {
     "name": "stdout",
     "output_type": "stream",
     "text": [
      "Checking out gene ENSG00000171885\n",
      "Checking out gene ENSG00000240583\n"
     ]
    },
    {
     "name": "stderr",
     "output_type": "stream",
     "text": [
      " 91%|█████████ | 2106/2322 [05:28<00:25,  8.37it/s]"
     ]
    },
    {
     "name": "stdout",
     "output_type": "stream",
     "text": [
      "Checking out gene ENSG00000112337\n",
      "Checking out gene ENSG00000124564\n"
     ]
    },
    {
     "name": "stderr",
     "output_type": "stream",
     "text": [
      " 91%|█████████ | 2108/2322 [05:29<00:26,  7.95it/s]"
     ]
    },
    {
     "name": "stdout",
     "output_type": "stream",
     "text": [
      "Checking out gene ENSG00000124568\n",
      "Checking out gene ENSG00000131183\n"
     ]
    },
    {
     "name": "stderr",
     "output_type": "stream",
     "text": [
      " 91%|█████████ | 2110/2322 [05:29<00:24,  8.70it/s]"
     ]
    },
    {
     "name": "stdout",
     "output_type": "stream",
     "text": [
      "Checking out gene ENSG00000146039\n",
      "Checking out gene ENSG00000157765\n"
     ]
    },
    {
     "name": "stderr",
     "output_type": "stream",
     "text": [
      " 91%|█████████ | 2112/2322 [05:29<00:28,  7.49it/s]"
     ]
    },
    {
     "name": "stdout",
     "output_type": "stream",
     "text": [
      "Checking out gene ENSG00000144136\n",
      "Checking out gene ENSG00000168575\n"
     ]
    },
    {
     "name": "stderr",
     "output_type": "stream",
     "text": [
      " 91%|█████████ | 2114/2322 [05:29<00:27,  7.64it/s]"
     ]
    },
    {
     "name": "stdout",
     "output_type": "stream",
     "text": [
      "Checking out gene ENSG00000198569\n",
      "Checking out gene ENSG00000151012\n"
     ]
    },
    {
     "name": "stderr",
     "output_type": "stream",
     "text": [
      " 91%|█████████ | 2116/2322 [05:29<00:23,  8.77it/s]"
     ]
    },
    {
     "name": "stdout",
     "output_type": "stream",
     "text": [
      "Checking out gene ENSG00000168003\n",
      "Checking out gene ENSG00000079215\n"
     ]
    },
    {
     "name": "stderr",
     "output_type": "stream",
     "text": [
      " 91%|█████████ | 2118/2322 [05:30<00:24,  8.22it/s]"
     ]
    },
    {
     "name": "stdout",
     "output_type": "stream",
     "text": [
      "Checking out gene ENSG00000105143\n",
      "Checking out gene ENSG00000106688\n"
     ]
    },
    {
     "name": "stderr",
     "output_type": "stream",
     "text": [
      " 91%|█████████▏| 2119/2322 [05:30<00:24,  8.27it/s]"
     ]
    },
    {
     "name": "stdout",
     "output_type": "stream",
     "text": [
      "Checking out gene ENSG00000110436\n",
      "Checking out gene ENSG00000162383\n"
     ]
    },
    {
     "name": "stderr",
     "output_type": "stream",
     "text": [
      " 91%|█████████▏| 2122/2322 [05:30<00:27,  7.39it/s]"
     ]
    },
    {
     "name": "stdout",
     "output_type": "stream",
     "text": [
      "Checking out gene ENSG00000125454\n",
      "Checking out gene ENSG00000158296\n"
     ]
    },
    {
     "name": "stderr",
     "output_type": "stream",
     "text": [
      " 91%|█████████▏| 2124/2322 [05:31<00:25,  7.70it/s]"
     ]
    },
    {
     "name": "stdout",
     "output_type": "stream",
     "text": [
      "Checking out gene ENSG00000007216\n",
      "Checking out gene ENSG00000091138\n"
     ]
    },
    {
     "name": "stderr",
     "output_type": "stream",
     "text": [
      " 92%|█████████▏| 2126/2322 [05:31<00:24,  7.96it/s]"
     ]
    },
    {
     "name": "stdout",
     "output_type": "stream",
     "text": [
      "Checking out gene ENSG00000112053\n",
      "Checking out gene ENSG00000155850\n"
     ]
    },
    {
     "name": "stderr",
     "output_type": "stream",
     "text": [
      " 92%|█████████▏| 2128/2322 [05:31<00:25,  7.66it/s]"
     ]
    },
    {
     "name": "stdout",
     "output_type": "stream",
     "text": [
      "Checking out gene ENSG00000103569\n",
      "Checking out gene ENSG00000132874\n"
     ]
    },
    {
     "name": "stderr",
     "output_type": "stream",
     "text": [
      " 92%|█████████▏| 2130/2322 [05:31<00:22,  8.43it/s]"
     ]
    },
    {
     "name": "stdout",
     "output_type": "stream",
     "text": [
      "Checking out gene ENSG00000141469\n",
      "Checking out gene ENSG00000070214\n"
     ]
    },
    {
     "name": "stderr",
     "output_type": "stream",
     "text": [
      " 92%|█████████▏| 2133/2322 [05:32<00:24,  7.71it/s]"
     ]
    },
    {
     "name": "stdout",
     "output_type": "stream",
     "text": [
      "Checking out gene ENSG00000112499\n",
      "Checking out gene ENSG00000129353\n",
      "Checking out gene ENSG00000137968\n"
     ]
    },
    {
     "name": "stderr",
     "output_type": "stream",
     "text": [
      " 92%|█████████▏| 2135/2322 [05:32<00:31,  6.00it/s]"
     ]
    },
    {
     "name": "stdout",
     "output_type": "stream",
     "text": [
      "Checking out gene ENSG00000143036\n",
      "Checking out gene ENSG00000204385\n"
     ]
    },
    {
     "name": "stderr",
     "output_type": "stream",
     "text": [
      " 92%|█████████▏| 2138/2322 [05:32<00:23,  7.92it/s]"
     ]
    },
    {
     "name": "stdout",
     "output_type": "stream",
     "text": [
      "Checking out gene ENSG00000064651\n",
      "Checking out gene ENSG00000074803\n",
      "Checking out gene ENSG00000117834\n"
     ]
    },
    {
     "name": "stderr",
     "output_type": "stream",
     "text": [
      " 92%|█████████▏| 2139/2322 [05:33<00:22,  8.15it/s]"
     ]
    },
    {
     "name": "stdout",
     "output_type": "stream",
     "text": [
      "Checking out gene ENSG00000181856\n",
      "Checking out gene ENSG00000146477\n"
     ]
    },
    {
     "name": "stderr",
     "output_type": "stream",
     "text": [
      " 92%|█████████▏| 2141/2322 [05:33<00:22,  8.21it/s]"
     ]
    },
    {
     "name": "stdout",
     "output_type": "stream",
     "text": [
      "Checking out gene ENSG00000112759\n"
     ]
    },
    {
     "name": "stderr",
     "output_type": "stream",
     "text": [
      " 92%|█████████▏| 2143/2322 [05:34<00:51,  3.50it/s]"
     ]
    },
    {
     "name": "stdout",
     "output_type": "stream",
     "text": [
      "Checking out gene ENSG00000089057\n",
      "Checking out gene ENSG00000170482\n",
      "Checking out gene ENSG00000140675\n"
     ]
    },
    {
     "name": "stderr",
     "output_type": "stream",
     "text": [
      " 92%|█████████▏| 2147/2322 [05:35<00:30,  5.82it/s]"
     ]
    },
    {
     "name": "stdout",
     "output_type": "stream",
     "text": [
      "Checking out gene ENSG00000146411\n",
      "Checking out gene ENSG00000160326\n"
     ]
    },
    {
     "name": "stderr",
     "output_type": "stream",
     "text": [
      " 93%|█████████▎| 2150/2322 [05:35<00:22,  7.50it/s]"
     ]
    },
    {
     "name": "stdout",
     "output_type": "stream",
     "text": [
      "Checking out gene ENSG00000173262\n",
      "Checking out gene ENSG00000164638\n",
      "Checking out gene ENSG00000139209\n",
      "Checking out gene ENSG00000139514\n"
     ]
    },
    {
     "name": "stderr",
     "output_type": "stream",
     "text": [
      " 93%|█████████▎| 2153/2322 [05:35<00:19,  8.69it/s]"
     ]
    },
    {
     "name": "stdout",
     "output_type": "stream",
     "text": [
      "Checking out gene ENSG00000165349\n",
      "Checking out gene ENSG00000092068\n",
      "Checking out gene ENSG00000103257\n"
     ]
    },
    {
     "name": "stderr",
     "output_type": "stream",
     "text": [
      " 93%|█████████▎| 2156/2322 [05:35<00:17,  9.55it/s]"
     ]
    },
    {
     "name": "stdout",
     "output_type": "stream",
     "text": [
      "Checking out gene ENSG00000123643\n",
      "Checking out gene ENSG00000149150\n",
      "Checking out gene ENSG00000155465\n"
     ]
    },
    {
     "name": "stderr",
     "output_type": "stream",
     "text": [
      " 93%|█████████▎| 2158/2322 [05:36<00:17,  9.42it/s]"
     ]
    },
    {
     "name": "stdout",
     "output_type": "stream",
     "text": [
      "Checking out gene ENSG00000167703\n",
      "Checking out gene ENSG00000112394\n"
     ]
    },
    {
     "name": "stderr",
     "output_type": "stream",
     "text": [
      " 93%|█████████▎| 2160/2322 [05:36<00:17,  9.35it/s]"
     ]
    },
    {
     "name": "stdout",
     "output_type": "stream",
     "text": [
      "Checking out gene ENSG00000130876\n",
      "Checking out gene ENSG00000164363\n"
     ]
    },
    {
     "name": "stderr",
     "output_type": "stream",
     "text": [
      " 93%|█████████▎| 2163/2322 [05:36<00:16,  9.70it/s]"
     ]
    },
    {
     "name": "stdout",
     "output_type": "stream",
     "text": [
      "Checking out gene ENSG00000130164\n",
      "Checking out gene ENSG00000072041\n",
      "Checking out gene ENSG00000087916\n"
     ]
    },
    {
     "name": "stderr",
     "output_type": "stream",
     "text": [
      " 93%|█████████▎| 2166/2322 [05:36<00:15, 10.06it/s]"
     ]
    },
    {
     "name": "stdout",
     "output_type": "stream",
     "text": [
      "Checking out gene ENSG00000105281\n",
      "Checking out gene ENSG00000111371\n",
      "Checking out gene ENSG00000115902\n"
     ]
    },
    {
     "name": "stderr",
     "output_type": "stream",
     "text": [
      " 93%|█████████▎| 2168/2322 [05:37<00:15,  9.96it/s]"
     ]
    },
    {
     "name": "stdout",
     "output_type": "stream",
     "text": [
      "Checking out gene ENSG00000134294\n",
      "Checking out gene ENSG00000174358\n"
     ]
    },
    {
     "name": "stderr",
     "output_type": "stream",
     "text": [
      " 93%|█████████▎| 2170/2322 [05:37<00:16,  9.20it/s]"
     ]
    },
    {
     "name": "stdout",
     "output_type": "stream",
     "text": [
      "Checking out gene ENSG00000017483\n",
      "Checking out gene ENSG00000188338\n"
     ]
    },
    {
     "name": "stderr",
     "output_type": "stream",
     "text": [
      " 94%|█████████▎| 2172/2322 [05:37<00:17,  8.64it/s]"
     ]
    },
    {
     "name": "stdout",
     "output_type": "stream",
     "text": [
      "Checking out gene ENSG00000011083\n",
      "Checking out gene ENSG00000163817\n"
     ]
    },
    {
     "name": "stderr",
     "output_type": "stream",
     "text": [
      " 94%|█████████▎| 2175/2322 [05:38<00:21,  6.82it/s]"
     ]
    },
    {
     "name": "stdout",
     "output_type": "stream",
     "text": [
      "Checking out gene ENSG00000104888\n",
      "Checking out gene ENSG00000066230\n",
      "Checking out gene ENSG00000090020\n"
     ]
    },
    {
     "name": "stderr",
     "output_type": "stream",
     "text": [
      " 94%|█████████▍| 2177/2322 [05:38<00:18,  7.70it/s]"
     ]
    },
    {
     "name": "stdout",
     "output_type": "stream",
     "text": [
      "Checking out gene ENSG00000115616\n",
      "Checking out gene ENSG00000135740\n",
      "Checking out gene ENSG00000180251\n"
     ]
    },
    {
     "name": "stderr",
     "output_type": "stream",
     "text": [
      " 94%|█████████▍| 2180/2322 [05:38<00:18,  7.69it/s]"
     ]
    },
    {
     "name": "stdout",
     "output_type": "stream",
     "text": [
      "Checking out gene ENSG00000181804\n",
      "Checking out gene ENSG00000033867\n"
     ]
    },
    {
     "name": "stderr",
     "output_type": "stream",
     "text": [
      " 94%|█████████▍| 2182/2322 [05:39<00:17,  8.00it/s]"
     ]
    },
    {
     "name": "stdout",
     "output_type": "stream",
     "text": [
      "Checking out gene ENSG00000080493\n",
      "Checking out gene ENSG00000188687\n",
      "Checking out gene ENSG00000148942\n"
     ]
    },
    {
     "name": "stderr",
     "output_type": "stream",
     "text": [
      " 94%|█████████▍| 2185/2322 [05:39<00:15,  8.85it/s]"
     ]
    },
    {
     "name": "stdout",
     "output_type": "stream",
     "text": [
      "Checking out gene ENSG00000158865\n",
      "Checking out gene ENSG00000131389\n"
     ]
    },
    {
     "name": "stderr",
     "output_type": "stream",
     "text": [
      " 94%|█████████▍| 2187/2322 [05:39<00:14,  9.35it/s]"
     ]
    },
    {
     "name": "stdout",
     "output_type": "stream",
     "text": [
      "Checking out gene ENSG00000196517\n",
      "Checking out gene ENSG00000165970\n"
     ]
    },
    {
     "name": "stderr",
     "output_type": "stream",
     "text": [
      " 94%|█████████▍| 2189/2322 [05:39<00:14,  8.91it/s]"
     ]
    },
    {
     "name": "stdout",
     "output_type": "stream",
     "text": [
      "Checking out gene ENSG00000138079\n",
      "Checking out gene ENSG00000103064\n"
     ]
    },
    {
     "name": "stderr",
     "output_type": "stream",
     "text": [
      " 94%|█████████▍| 2191/2322 [05:40<00:15,  8.27it/s]"
     ]
    },
    {
     "name": "stdout",
     "output_type": "stream",
     "text": [
      "Checking out gene ENSG00000018280\n",
      "Checking out gene ENSG00000110911\n"
     ]
    },
    {
     "name": "stderr",
     "output_type": "stream",
     "text": [
      " 94%|█████████▍| 2193/2322 [05:40<00:17,  7.58it/s]"
     ]
    },
    {
     "name": "stdout",
     "output_type": "stream",
     "text": [
      "Checking out gene ENSG00000138449\n",
      "Checking out gene ENSG00000104635\n"
     ]
    },
    {
     "name": "stderr",
     "output_type": "stream",
     "text": [
      " 95%|█████████▍| 2195/2322 [05:40<00:15,  8.26it/s]"
     ]
    },
    {
     "name": "stdout",
     "output_type": "stream",
     "text": [
      "Checking out gene ENSG00000138821\n",
      "Checking out gene ENSG00000139540\n"
     ]
    },
    {
     "name": "stderr",
     "output_type": "stream",
     "text": [
      " 95%|█████████▍| 2197/2322 [05:40<00:18,  6.87it/s]"
     ]
    },
    {
     "name": "stdout",
     "output_type": "stream",
     "text": [
      "Checking out gene ENSG00000141424\n",
      "Checking out gene ENSG00000141873\n"
     ]
    },
    {
     "name": "stderr",
     "output_type": "stream",
     "text": [
      " 95%|█████████▍| 2199/2322 [05:41<00:17,  7.15it/s]"
     ]
    },
    {
     "name": "stdout",
     "output_type": "stream",
     "text": [
      "Checking out gene ENSG00000147804\n",
      "Checking out gene ENSG00000165794\n",
      "Checking out gene ENSG00000113504\n"
     ]
    },
    {
     "name": "stderr",
     "output_type": "stream",
     "text": [
      " 95%|█████████▍| 2202/2322 [05:41<00:14,  8.13it/s]"
     ]
    },
    {
     "name": "stdout",
     "output_type": "stream",
     "text": [
      "Checking out gene ENSG00000124067\n",
      "Checking out gene ENSG00000124140\n"
     ]
    },
    {
     "name": "stderr",
     "output_type": "stream",
     "text": [
      " 95%|█████████▍| 2204/2322 [05:41<00:13,  8.87it/s]"
     ]
    },
    {
     "name": "stdout",
     "output_type": "stream",
     "text": [
      "Checking out gene ENSG00000140199\n",
      "Checking out gene ENSG00000141485\n"
     ]
    },
    {
     "name": "stderr",
     "output_type": "stream",
     "text": [
      " 95%|█████████▌| 2206/2322 [05:41<00:13,  8.85it/s]"
     ]
    },
    {
     "name": "stdout",
     "output_type": "stream",
     "text": [
      "Checking out gene ENSG00000139155\n",
      "Checking out gene ENSG00000147100\n"
     ]
    },
    {
     "name": "stderr",
     "output_type": "stream",
     "text": [
      " 95%|█████████▌| 2207/2322 [05:42<00:13,  8.27it/s]"
     ]
    },
    {
     "name": "stdout",
     "output_type": "stream",
     "text": [
      "Checking out gene ENSG00000176463\n"
     ]
    },
    {
     "name": "stderr",
     "output_type": "stream",
     "text": [
      " 95%|█████████▌| 2209/2322 [05:42<00:15,  7.44it/s]"
     ]
    },
    {
     "name": "stdout",
     "output_type": "stream",
     "text": [
      "Checking out gene ENSG00000117479\n",
      "Checking out gene ENSG00000135917\n"
     ]
    },
    {
     "name": "stderr",
     "output_type": "stream",
     "text": [
      " 95%|█████████▌| 2211/2322 [05:42<00:14,  7.85it/s]"
     ]
    },
    {
     "name": "stdout",
     "output_type": "stream",
     "text": [
      "Checking out gene ENSG00000174640\n",
      "Checking out gene ENSG00000137491\n"
     ]
    },
    {
     "name": "stderr",
     "output_type": "stream",
     "text": [
      " 95%|█████████▌| 2213/2322 [05:42<00:13,  7.97it/s]"
     ]
    },
    {
     "name": "stdout",
     "output_type": "stream",
     "text": [
      "Checking out gene ENSG00000103546\n",
      "Checking out gene ENSG00000142319\n"
     ]
    },
    {
     "name": "stderr",
     "output_type": "stream",
     "text": [
      " 95%|█████████▌| 2215/2322 [05:43<00:11,  8.96it/s]"
     ]
    },
    {
     "name": "stdout",
     "output_type": "stream",
     "text": [
      "Checking out gene ENSG00000108576\n",
      "Checking out gene ENSG00000121270\n"
     ]
    },
    {
     "name": "stderr",
     "output_type": "stream",
     "text": [
      " 95%|█████████▌| 2217/2322 [05:43<00:12,  8.68it/s]"
     ]
    },
    {
     "name": "stdout",
     "output_type": "stream",
     "text": [
      "Checking out gene ENSG00000170385\n",
      "Checking out gene ENSG00000180773\n"
     ]
    },
    {
     "name": "stderr",
     "output_type": "stream",
     "text": [
      " 96%|█████████▌| 2220/2322 [05:43<00:10,  9.61it/s]"
     ]
    },
    {
     "name": "stdout",
     "output_type": "stream",
     "text": [
      "Checking out gene ENSG00000072756\n",
      "Checking out gene ENSG00000070915\n",
      "Checking out gene ENSG00000091137\n"
     ]
    },
    {
     "name": "stderr",
     "output_type": "stream",
     "text": [
      " 96%|█████████▌| 2222/2322 [05:43<00:10,  9.89it/s]"
     ]
    },
    {
     "name": "stdout",
     "output_type": "stream",
     "text": [
      "Checking out gene ENSG00000164889\n",
      "Checking out gene ENSG00000225697\n",
      "Checking out gene ENSG00000050438\n"
     ]
    },
    {
     "name": "stderr",
     "output_type": "stream",
     "text": [
      " 96%|█████████▌| 2225/2322 [05:44<00:11,  8.46it/s]"
     ]
    },
    {
     "name": "stdout",
     "output_type": "stream",
     "text": [
      "Checking out gene ENSG00000105641\n",
      "Checking out gene ENSG00000103044\n"
     ]
    },
    {
     "name": "stderr",
     "output_type": "stream",
     "text": [
      " 96%|█████████▌| 2227/2322 [05:44<00:11,  7.99it/s]"
     ]
    },
    {
     "name": "stdout",
     "output_type": "stream",
     "text": [
      "Checking out gene ENSG00000105509\n",
      "Checking out gene ENSG00000170961\n"
     ]
    },
    {
     "name": "stderr",
     "output_type": "stream",
     "text": [
      " 96%|█████████▌| 2229/2322 [05:44<00:12,  7.44it/s]"
     ]
    },
    {
     "name": "stdout",
     "output_type": "stream",
     "text": [
      "Checking out gene ENSG00000100678\n",
      "Checking out gene ENSG00000183023\n"
     ]
    },
    {
     "name": "stderr",
     "output_type": "stream",
     "text": [
      " 96%|█████████▌| 2231/2322 [05:45<00:12,  7.02it/s]"
     ]
    },
    {
     "name": "stdout",
     "output_type": "stream",
     "text": [
      "Checking out gene ENSG00000155886\n",
      "Checking out gene ENSG00000185052\n"
     ]
    },
    {
     "name": "stderr",
     "output_type": "stream",
     "text": [
      " 96%|█████████▌| 2233/2322 [05:45<00:12,  7.18it/s]"
     ]
    },
    {
     "name": "stdout",
     "output_type": "stream",
     "text": [
      "Checking out gene ENSG00000036565\n",
      "Checking out gene ENSG00000165646\n"
     ]
    },
    {
     "name": "stderr",
     "output_type": "stream",
     "text": [
      " 96%|█████████▋| 2235/2322 [05:45<00:12,  7.10it/s]"
     ]
    },
    {
     "name": "stdout",
     "output_type": "stream",
     "text": [
      "Checking out gene ENSG00000088386\n",
      "Checking out gene ENSG00000163406\n"
     ]
    },
    {
     "name": "stderr",
     "output_type": "stream",
     "text": [
      " 96%|█████████▋| 2237/2322 [05:45<00:12,  7.00it/s]"
     ]
    },
    {
     "name": "stdout",
     "output_type": "stream",
     "text": [
      "Checking out gene ENSG00000173638\n",
      "Checking out gene ENSG00000081800\n"
     ]
    },
    {
     "name": "stderr",
     "output_type": "stream",
     "text": [
      " 96%|█████████▋| 2239/2322 [05:46<00:11,  7.49it/s]"
     ]
    },
    {
     "name": "stdout",
     "output_type": "stream",
     "text": [
      "Checking out gene ENSG00000164707\n",
      "Checking out gene ENSG00000115665\n"
     ]
    },
    {
     "name": "stderr",
     "output_type": "stream",
     "text": [
      " 97%|█████████▋| 2241/2322 [05:46<00:10,  7.61it/s]"
     ]
    },
    {
     "name": "stdout",
     "output_type": "stream",
     "text": [
      "Checking out gene ENSG00000076351\n",
      "Checking out gene ENSG00000101438\n"
     ]
    },
    {
     "name": "stderr",
     "output_type": "stream",
     "text": [
      " 97%|█████████▋| 2243/2322 [05:46<00:13,  5.74it/s]"
     ]
    },
    {
     "name": "stdout",
     "output_type": "stream",
     "text": [
      "Checking out gene ENSG00000139357\n",
      "Checking out gene ENSG00000214617\n"
     ]
    },
    {
     "name": "stderr",
     "output_type": "stream",
     "text": [
      " 97%|█████████▋| 2245/2322 [05:47<00:10,  7.15it/s]"
     ]
    },
    {
     "name": "stdout",
     "output_type": "stream",
     "text": [
      "Checking out gene ENSG00000004809\n",
      "Checking out gene ENSG00000163393\n",
      "Checking out gene ENSG00000198743\n"
     ]
    },
    {
     "name": "stderr",
     "output_type": "stream",
     "text": [
      " 97%|█████████▋| 2248/2322 [05:47<00:09,  7.92it/s]"
     ]
    },
    {
     "name": "stdout",
     "output_type": "stream",
     "text": [
      "Checking out gene ENSG00000089472\n",
      "Checking out gene ENSG00000142494\n"
     ]
    },
    {
     "name": "stderr",
     "output_type": "stream",
     "text": [
      " 97%|█████████▋| 2250/2322 [05:47<00:08,  8.05it/s]"
     ]
    },
    {
     "name": "stdout",
     "output_type": "stream",
     "text": [
      "Checking out gene ENSG00000145283\n",
      "Checking out gene ENSG00000137204\n"
     ]
    },
    {
     "name": "stderr",
     "output_type": "stream",
     "text": [
      " 97%|█████████▋| 2252/2322 [05:47<00:08,  8.74it/s]"
     ]
    },
    {
     "name": "stdout",
     "output_type": "stream",
     "text": [
      "Checking out gene ENSG00000102125\n",
      "Checking out gene ENSG00000175592\n"
     ]
    },
    {
     "name": "stderr",
     "output_type": "stream",
     "text": [
      " 97%|█████████▋| 2253/2322 [05:48<00:08,  8.47it/s]"
     ]
    },
    {
     "name": "stdout",
     "output_type": "stream",
     "text": [
      "Checking out gene ENSG00000004864\n",
      "Checking out gene ENSG00000115840\n"
     ]
    },
    {
     "name": "stderr",
     "output_type": "stream",
     "text": [
      " 97%|█████████▋| 2256/2322 [05:48<00:07,  8.97it/s]"
     ]
    },
    {
     "name": "stdout",
     "output_type": "stream",
     "text": [
      "Checking out gene ENSG00000183048\n",
      "Checking out gene ENSG00000102967\n"
     ]
    },
    {
     "name": "stderr",
     "output_type": "stream",
     "text": [
      " 97%|█████████▋| 2258/2322 [05:48<00:07,  8.48it/s]"
     ]
    },
    {
     "name": "stdout",
     "output_type": "stream",
     "text": [
      "Checking out gene ENSG00000115657\n",
      "Checking out gene ENSG00000108528\n"
     ]
    },
    {
     "name": "stderr",
     "output_type": "stream",
     "text": [
      " 97%|█████████▋| 2260/2322 [05:48<00:08,  7.55it/s]"
     ]
    },
    {
     "name": "stdout",
     "output_type": "stream",
     "text": [
      "Checking out gene ENSG00000122912\n",
      "Checking out gene ENSG00000060762\n"
     ]
    },
    {
     "name": "stderr",
     "output_type": "stream",
     "text": [
      " 97%|█████████▋| 2262/2322 [05:49<00:07,  8.25it/s]"
     ]
    },
    {
     "name": "stdout",
     "output_type": "stream",
     "text": [
      "Checking out gene ENSG00000143158\n",
      "Checking out gene ENSG00000100075\n"
     ]
    },
    {
     "name": "stderr",
     "output_type": "stream",
     "text": [
      " 98%|█████████▊| 2264/2322 [05:49<00:06,  8.44it/s]"
     ]
    },
    {
     "name": "stdout",
     "output_type": "stream",
     "text": [
      "Checking out gene ENSG00000132677\n",
      "Checking out gene ENSG00000140519\n"
     ]
    },
    {
     "name": "stderr",
     "output_type": "stream",
     "text": [
      " 98%|█████████▊| 2266/2322 [05:49<00:06,  8.60it/s]"
     ]
    },
    {
     "name": "stdout",
     "output_type": "stream",
     "text": [
      "Checking out gene ENSG00000075415\n",
      "Checking out gene ENSG00000131748\n"
     ]
    },
    {
     "name": "stderr",
     "output_type": "stream",
     "text": [
      " 98%|█████████▊| 2268/2322 [05:49<00:05,  9.04it/s]"
     ]
    },
    {
     "name": "stdout",
     "output_type": "stream",
     "text": [
      "Checking out gene ENSG00000102743\n",
      "Checking out gene ENSG00000120329\n"
     ]
    },
    {
     "name": "stderr",
     "output_type": "stream",
     "text": [
      " 98%|█████████▊| 2270/2322 [05:50<00:05,  8.70it/s]"
     ]
    },
    {
     "name": "stdout",
     "output_type": "stream",
     "text": [
      "Checking out gene ENSG00000177542\n",
      "Checking out gene ENSG00000182902\n"
     ]
    },
    {
     "name": "stderr",
     "output_type": "stream",
     "text": [
      " 98%|█████████▊| 2272/2322 [05:50<00:05,  8.98it/s]"
     ]
    },
    {
     "name": "stdout",
     "output_type": "stream",
     "text": [
      "Checking out gene ENSG00000165449\n",
      "Checking out gene ENSG00000147454\n"
     ]
    },
    {
     "name": "stderr",
     "output_type": "stream",
     "text": [
      " 98%|█████████▊| 2274/2322 [05:50<00:05,  9.25it/s]"
     ]
    },
    {
     "name": "stdout",
     "output_type": "stream",
     "text": [
      "Checking out gene ENSG00000155287\n",
      "Checking out gene ENSG00000005022\n"
     ]
    },
    {
     "name": "stderr",
     "output_type": "stream",
     "text": [
      " 98%|█████████▊| 2277/2322 [05:51<00:11,  3.88it/s]"
     ]
    },
    {
     "name": "stdout",
     "output_type": "stream",
     "text": [
      "Checking out gene ENSG00000151729\n",
      "Checking out gene ENSG00000169100\n",
      "Checking out gene ENSG00000160190\n"
     ]
    },
    {
     "name": "stderr",
     "output_type": "stream",
     "text": [
      " 98%|█████████▊| 2279/2322 [05:51<00:08,  5.02it/s]"
     ]
    },
    {
     "name": "stdout",
     "output_type": "stream",
     "text": [
      "Checking out gene ENSG00000102078\n",
      "Checking out gene ENSG00000109424\n"
     ]
    },
    {
     "name": "stderr",
     "output_type": "stream",
     "text": [
      " 98%|█████████▊| 2282/2322 [05:52<00:05,  6.95it/s]"
     ]
    },
    {
     "name": "stdout",
     "output_type": "stream",
     "text": [
      "Checking out gene ENSG00000153291\n",
      "Checking out gene ENSG00000175564\n",
      "Checking out gene ENSG00000175567\n"
     ]
    },
    {
     "name": "stderr",
     "output_type": "stream",
     "text": [
      " 98%|█████████▊| 2284/2322 [05:52<00:05,  7.46it/s]"
     ]
    },
    {
     "name": "stdout",
     "output_type": "stream",
     "text": [
      "Checking out gene ENSG00000155368\n",
      "Checking out gene ENSG00000144741\n"
     ]
    },
    {
     "name": "stderr",
     "output_type": "stream",
     "text": [
      " 98%|█████████▊| 2286/2322 [05:52<00:04,  7.96it/s]"
     ]
    },
    {
     "name": "stdout",
     "output_type": "stream",
     "text": [
      "Checking out gene ENSG00000100644\n",
      "Checking out gene ENSG00000100372\n",
      "Checking out gene ENSG00000164414\n"
     ]
    },
    {
     "name": "stderr",
     "output_type": "stream",
     "text": [
      " 99%|█████████▊| 2289/2322 [05:53<00:03,  8.45it/s]"
     ]
    },
    {
     "name": "stdout",
     "output_type": "stream",
     "text": [
      "Checking out gene ENSG00000093000\n",
      "Checking out gene ENSG00000108559\n"
     ]
    },
    {
     "name": "stderr",
     "output_type": "stream",
     "text": [
      " 99%|█████████▊| 2292/2322 [05:53<00:03,  8.88it/s]"
     ]
    },
    {
     "name": "stdout",
     "output_type": "stream",
     "text": [
      "Checking out gene ENSG00000111581\n",
      "Checking out gene ENSG00000113569\n"
     ]
    },
    {
     "name": "stderr",
     "output_type": "stream",
     "text": [
      " 99%|█████████▉| 2293/2322 [05:53<00:03,  9.08it/s]"
     ]
    },
    {
     "name": "stdout",
     "output_type": "stream",
     "text": [
      "Checking out gene ENSG00000120253\n",
      "Checking out gene ENSG00000124789\n"
     ]
    },
    {
     "name": "stderr",
     "output_type": "stream",
     "text": [
      " 99%|█████████▉| 2295/2322 [05:53<00:03,  8.20it/s]"
     ]
    },
    {
     "name": "stdout",
     "output_type": "stream",
     "text": [
      "Checking out gene ENSG00000126883\n",
      "Checking out gene ENSG00000139496\n"
     ]
    },
    {
     "name": "stderr",
     "output_type": "stream",
     "text": [
      " 99%|█████████▉| 2297/2322 [05:54<00:02,  8.58it/s]"
     ]
    },
    {
     "name": "stdout",
     "output_type": "stream",
     "text": [
      "Checking out gene ENSG00000163002\n",
      "Checking out gene ENSG00000213024\n"
     ]
    },
    {
     "name": "stderr",
     "output_type": "stream",
     "text": [
      " 99%|█████████▉| 2299/2322 [05:54<00:02,  8.10it/s]"
     ]
    },
    {
     "name": "stdout",
     "output_type": "stream",
     "text": [
      "Checking out gene ENSG00000115677\n",
      "Checking out gene ENSG00000141458\n"
     ]
    },
    {
     "name": "stderr",
     "output_type": "stream",
     "text": [
      " 99%|█████████▉| 2301/2322 [05:54<00:02,  8.88it/s]"
     ]
    },
    {
     "name": "stdout",
     "output_type": "stream",
     "text": [
      "Checking out gene ENSG00000119899\n",
      "Checking out gene ENSG00000198246\n"
     ]
    },
    {
     "name": "stderr",
     "output_type": "stream",
     "text": [
      " 99%|█████████▉| 2303/2322 [05:54<00:02,  7.60it/s]"
     ]
    },
    {
     "name": "stdout",
     "output_type": "stream",
     "text": [
      "Checking out gene ENSG00000130958\n",
      "Checking out gene ENSG00000205060\n"
     ]
    },
    {
     "name": "stderr",
     "output_type": "stream",
     "text": [
      " 99%|█████████▉| 2305/2322 [05:55<00:02,  8.22it/s]"
     ]
    },
    {
     "name": "stdout",
     "output_type": "stream",
     "text": [
      "Checking out gene ENSG00000102100\n",
      "Checking out gene ENSG00000065923\n"
     ]
    },
    {
     "name": "stderr",
     "output_type": "stream",
     "text": [
      " 99%|█████████▉| 2306/2322 [05:55<00:01,  8.59it/s]"
     ]
    },
    {
     "name": "stdout",
     "output_type": "stream",
     "text": [
      "Checking out gene ENSG00000181830\n"
     ]
    },
    {
     "name": "stderr",
     "output_type": "stream",
     "text": [
      " 99%|█████████▉| 2308/2322 [05:55<00:02,  6.26it/s]"
     ]
    },
    {
     "name": "stdout",
     "output_type": "stream",
     "text": [
      "Checking out gene ENSG00000157593\n",
      "Checking out gene ENSG00000025800\n"
     ]
    },
    {
     "name": "stderr",
     "output_type": "stream",
     "text": [
      " 99%|█████████▉| 2310/2322 [05:55<00:01,  7.11it/s]"
     ]
    },
    {
     "name": "stdout",
     "output_type": "stream",
     "text": [
      "Checking out gene ENSG00000169180\n",
      "Checking out gene ENSG00000107819\n"
     ]
    },
    {
     "name": "stderr",
     "output_type": "stream",
     "text": [
      "100%|█████████▉| 2312/2322 [05:56<00:01,  6.67it/s]"
     ]
    },
    {
     "name": "stdout",
     "output_type": "stream",
     "text": [
      "Checking out gene ENSG00000113163\n",
      "Checking out gene ENSG00000162695\n"
     ]
    },
    {
     "name": "stderr",
     "output_type": "stream",
     "text": [
      "100%|█████████▉| 2313/2322 [05:56<00:01,  5.31it/s]"
     ]
    },
    {
     "name": "stdout",
     "output_type": "stream",
     "text": [
      "Checking out gene ENSG00000141179\n",
      "Checking out gene ENSG00000101558\n"
     ]
    },
    {
     "name": "stderr",
     "output_type": "stream",
     "text": [
      "100%|█████████▉| 2316/2322 [05:56<00:01,  6.00it/s]"
     ]
    },
    {
     "name": "stdout",
     "output_type": "stream",
     "text": [
      "Checking out gene ENSG00000124164\n",
      "Checking out gene ENSG00000184304\n"
     ]
    },
    {
     "name": "stderr",
     "output_type": "stream",
     "text": [
      "100%|█████████▉| 2318/2322 [05:57<00:00,  6.92it/s]"
     ]
    },
    {
     "name": "stdout",
     "output_type": "stream",
     "text": [
      "Checking out gene ENSG00000137700\n",
      "Checking out gene ENSG00000116704\n"
     ]
    },
    {
     "name": "stderr",
     "output_type": "stream",
     "text": [
      "100%|█████████▉| 2320/2322 [05:57<00:00,  7.34it/s]"
     ]
    },
    {
     "name": "stdout",
     "output_type": "stream",
     "text": [
      "Checking out gene ENSG00000112473\n",
      "Checking out gene ENSG00000206217\n"
     ]
    },
    {
     "name": "stderr",
     "output_type": "stream",
     "text": [
      "100%|██████████| 2322/2322 [05:57<00:00,  6.49it/s]\n"
     ]
    },
    {
     "name": "stdout",
     "output_type": "stream",
     "text": [
      "Checking out gene ENSG00000206288\n",
      "\n",
      "[11:54:04] ERROR - No ncbi gene id found for gene ENSG00000179087.\n",
      "\n",
      "[11:54:09]ERROR - Gene id UGP1 is not an ENSEMBL id.\n",
      "\n",
      "[11:55:00] ERROR - No ncbi gene id found for gene ENSG00000167494.\n",
      "\n",
      "[11:55:00] ERROR - No ncbi gene id found for gene ENSG00000264216.\n",
      "\n",
      "[11:55:06] ERROR - No ncbi gene id found for gene ENSG00000226278.\n",
      "\n",
      "[11:55:10] ERROR - No ncbi gene id found for gene ENSG00000133475.\n",
      "\n",
      "[11:55:10] ERROR - No ncbi gene id found for gene ENSG00000183038.\n",
      "\n",
      "[11:55:16] ERROR - No ncbi gene id found for gene ENSG00000105663.\n",
      "\n",
      "[11:55:28] ERROR - No ncbi gene id found for gene ENSG00000129282.\n",
      "\n",
      "[11:55:37] ERROR - No ncbi gene id found for gene ENSG00000240224.\n",
      "\n",
      "[11:55:38] ERROR - No ncbi gene id found for gene ENSG00000243135.\n",
      "\n",
      "[11:55:45] ERROR - No ncbi gene id found for gene ENSG00000255730.\n",
      "\n",
      "[11:55:48] ERROR - No ncbi gene id found for gene ENSG00000197421.\n",
      "\n",
      "[11:56:21] ERROR - No ncbi gene id found for gene ENSG00000182319.\n",
      "\n",
      "[11:56:27] ERROR - No ncbi gene id found for gene ENSG00000161326.\n",
      "\n",
      "[11:57:12] ERROR - No ncbi gene id found for gene ENSG00000229604.\n",
      "\n",
      "[11:57:18] ERROR - No ncbi gene id found for gene ENSG00000167774.\n",
      "\n",
      "[11:57:20] ERROR - No ncbi gene id found for gene ENSG00000112096.\n",
      "\n",
      "[11:57:24] ERROR - No ncbi gene id found for gene ENSG00000132142.\n",
      "\n",
      "[11:57:42] ERROR - No ncbi gene id found for gene ENSG00000204466.\n",
      "\n",
      "[11:57:44] ERROR - No ncbi gene id found for gene ENSG00000165862.\n",
      "\n",
      "[11:57:49] ERROR - No ncbi gene id found for gene ENSG00000099251.\n",
      "\n",
      "[11:58:23] ERROR - No ncbi gene id found for gene ENSG00000256062.\n",
      "\n",
      "[11:58:25] ERROR - No ncbi gene id found for gene ENSG00000184886.\n",
      "\n",
      "[11:58:34] ERROR - No ncbi gene id found for gene ENSG00000215151.\n",
      "\n",
      "[11:58:55] ERROR - No ncbi gene id found for gene ENSG00000141720.\n",
      "\n",
      "[11:58:59] ERROR - No ncbi gene id found for gene ENSG00000182021.\n",
      "\n",
      "[11:59:26] ERROR - No ncbi gene id found for gene ENSG00000087916.\n",
      "\n",
      "[11:59:37] ERROR - No ncbi gene id found for gene ENSG00000139357.\n",
      "\n",
      "[11:59:37] ERROR - No ncbi gene id found for gene ENSG00000214617.\n",
      "\n",
      "[11:59:47] ERROR - No ncbi gene id found for gene ENSG00000206217.\n",
      "\n",
      "Cleaning up the metabolites list in the target model : \n",
      "\n",
      "\n",
      "Number of metabolites in target model : 5242\n",
      "\n",
      "Setting the reactions to finite bounds in the target model : \n",
      "\n",
      "\n",
      "\n",
      "DONE\n",
      "\n",
      "\n"
     ]
    },
    {
     "data": {
      "text/html": [
       "\n",
       "        <table>\n",
       "            <tr>\n",
       "                <td><strong>Name</strong></td>\n",
       "                <td>iHepatocytes2322</td>\n",
       "            </tr><tr>\n",
       "                <td><strong>Memory address</strong></td>\n",
       "                <td>7f65f15e8e20</td>\n",
       "            </tr><tr>\n",
       "                <td><strong>Number of metabolites</strong></td>\n",
       "                <td>5242</td>\n",
       "            </tr><tr>\n",
       "                <td><strong>Number of reactions</strong></td>\n",
       "                <td>7930</td>\n",
       "            </tr><tr>\n",
       "                <td><strong>Number of genes</strong></td>\n",
       "                <td>2322</td>\n",
       "            </tr><tr>\n",
       "                <td><strong>Number of groups</strong></td>\n",
       "                <td>0</td>\n",
       "            </tr><tr>\n",
       "                <td><strong>Objective expression</strong></td>\n",
       "                <td>0</td>\n",
       "            </tr><tr>\n",
       "                <td><strong>Compartments</strong></td>\n",
       "                <td>C_c, C_s, C_l, C_r, C_m, C_p, C_g, C_n</td>\n",
       "            </tr>\n",
       "          </table>"
      ],
      "text/plain": [
       "<Model iHepatocytes2322 at 0x7f65f15e8e20>"
      ]
     },
     "execution_count": 13,
     "metadata": {},
     "output_type": "execute_result"
    }
   ],
   "source": [
    "mj.maj(\"Hep-G2_v2.xml\", \"iHepatocytes2322_Cobra.xml\", \"./models_storage/\", bounds_check = True, genes_id_copy= False, alt_gene_ids= True, metab_id_check= True, bounds_value_check= True, subsystem_copy= False )"
   ]
  },
  {
   "cell_type": "code",
   "execution_count": 3,
   "metadata": {},
   "outputs": [
    {
     "name": "stderr",
     "output_type": "stream",
     "text": [
      "SBML warnings in validation, check error log for details.\n",
      "COBRA warnings in validation, check error log for details.\n"
     ]
    }
   ],
   "source": [
    "iHep, errors = validate_sbml_model(\"./models_storage/iHepatocytes2322_Cobra.xml\")"
   ]
  },
  {
   "attachments": {},
   "cell_type": "markdown",
   "metadata": {},
   "source": [
    "### Bounds modifications"
   ]
  },
  {
   "cell_type": "code",
   "execution_count": null,
   "metadata": {},
   "outputs": [],
   "source": [
    "HepG2_v2.reactions.EX_m01965x.bounds = (-1000.0,-1000.0) #Glucose exchange"
   ]
  },
  {
   "cell_type": "code",
   "execution_count": null,
   "metadata": {},
   "outputs": [],
   "source": [
    "HepG2_v2.reactions.HMR_3883.bounds = (0.0,0.0) #Serine --> Pyruvate exchange\n",
    "HepG2_v2.reactions.EX_m02630x.bounds = (0.0,1000.0) #O2 exchange\n",
    "HepG2_v2.reactions.EX_m02819x.bounds = (0.0,1000.0) #Pyruvate exchange\n",
    "HepG2_v2.reactions.EX_m01910x.bounds = (0.0,0.0) #Galactose exchange\n",
    "HepG2_v2.reactions.EX_m01743x.bounds = (0.0, 1000.0) #D-Ribulose exchange\n",
    "HepG2_v2.reactions.EX_m01962x.bounds = (0.0,1000.0) #glucosamine exchange\n",
    "#HepG2_v2.reactions.HMR_4930.bounds = (-1000.0,1000.0) # Pyruvate transfer from cytoplasm to peroxysome\n",
    "#HepG2_v2.reactions.HMR_4281.bounds = (0.0,0.0) # Fermentation in peroxysome"
   ]
  },
  {
   "cell_type": "code",
   "execution_count": null,
   "metadata": {},
   "outputs": [],
   "source": [
    "#HepG2_v2.reactions.EX_m02403x.bounds = (0.0,1000.0) #Lactate exchange\n",
    "HepG2_v2.reactions.EX_m02819x.bounds = (0.0,1000.0) #Pyruvate exchange\n",
    "#HepG2_v2.reactions.EX_m01840x.bounds = (0.0,0.0) #Fructose exchange"
   ]
  },
  {
   "cell_type": "code",
   "execution_count": null,
   "metadata": {},
   "outputs": [],
   "source": [
    "HepG2_v2.reactions.HMR_4281.bounds = (-1000.0,0.0) # Pyruvate fermentation in peroxysome"
   ]
  },
  {
   "cell_type": "code",
   "execution_count": null,
   "metadata": {},
   "outputs": [],
   "source": [
    "HepG2_v2.reactions.EX_m02630x.bounds = (0.0,1000.0) #O2 exchange"
   ]
  },
  {
   "cell_type": "code",
   "execution_count": null,
   "metadata": {},
   "outputs": [],
   "source": [
    "HepG2_v2.reactions.EX_m02630x.bounds = (-1000.0,1000.0) #O2 exchange\n",
    "HepG2_v2.reactions.EX_m02819x.bounds = (0.0,1000.0) #Pyruvate exchange\n",
    "HepG2_v2.reactions.EX_m01910x.bounds = (0.0,0.0) #Galactose exchange\n",
    "HepG2_v2.reactions.EX_m01743x.bounds = (0.0, 1000.0) #D-Ribulose exchange\n",
    "HepG2_v2.reactions.EX_m01962x.bounds = (0.0,1000.0) #glucosamine exchange\n",
    "#HepG2_v2.reactions.EX_m01965x.bounds = (-1000,1000.0) #Glucose exchange\n",
    "#HepG2_v2.reactions.EX_m01286x.bounds = (0.0,0.0) #ADP-Glucose exchange\n",
    "#HepG2_v2.reactions.EX_m01840x.bounds = (0.0,0.0) #Fructose exchange\n",
    "#HepG2_v2.reactions.EX_m01743x.bounds = (-1000.0,1000.0) #D-Ribulose exchange\n",
    "#HepG2_v2.reactions.EX_m02453x.bounds = (0.0,0.0) #Mannose exchange\n",
    "#HepG2_v2.reactions.EX_m02470x.bounds = (0.0,0.0) #Methanol exchange\n",
    "\n",
    "# --> After Methanol cut, Glucose uptake flux went from 0.0 to -190.0\n",
    "# Without O2, glucose uptake went down to -23"
   ]
  },
  {
   "attachments": {},
   "cell_type": "markdown",
   "metadata": {},
   "source": [
    "### Optimization"
   ]
  },
  {
   "cell_type": "code",
   "execution_count": 8,
   "metadata": {},
   "outputs": [
    {
     "data": {
      "text/html": [
       "<h3>Objective</h3><p>1.0 biomass_components = 1.7804436296102202</p><h4>Uptake</h4><table border=\"1\" class=\"dataframe\">\n",
       "  <thead>\n",
       "    <tr style=\"text-align: right;\">\n",
       "      <th>Metabolite</th>\n",
       "      <th>Reaction</th>\n",
       "      <th>Flux</th>\n",
       "      <th>C-Number</th>\n",
       "      <th>C-Flux</th>\n",
       "    </tr>\n",
       "  </thead>\n",
       "  <tbody>\n",
       "    <tr>\n",
       "      <td>m03146s</td>\n",
       "      <td>HMR_9029</td>\n",
       "      <td>0.002002</td>\n",
       "      <td>0</td>\n",
       "      <td>0.00%</td>\n",
       "    </tr>\n",
       "    <tr>\n",
       "      <td>m02560s</td>\n",
       "      <td>HMR_9033</td>\n",
       "      <td>5.702</td>\n",
       "      <td>0</td>\n",
       "      <td>0.00%</td>\n",
       "    </tr>\n",
       "    <tr>\n",
       "      <td>m02389s</td>\n",
       "      <td>HMR_9036</td>\n",
       "      <td>0.02422</td>\n",
       "      <td>0</td>\n",
       "      <td>0.00%</td>\n",
       "    </tr>\n",
       "    <tr>\n",
       "      <td>m02125s</td>\n",
       "      <td>HMR_9038</td>\n",
       "      <td>30.01</td>\n",
       "      <td>0</td>\n",
       "      <td>0.00%</td>\n",
       "    </tr>\n",
       "    <tr>\n",
       "      <td>m02184s</td>\n",
       "      <td>HMR_9039</td>\n",
       "      <td>11.86</td>\n",
       "      <td>0</td>\n",
       "      <td>0.00%</td>\n",
       "    </tr>\n",
       "    <tr>\n",
       "      <td>m02360s</td>\n",
       "      <td>HMR_9040</td>\n",
       "      <td>139</td>\n",
       "      <td>0</td>\n",
       "      <td>0.00%</td>\n",
       "    </tr>\n",
       "    <tr>\n",
       "      <td>m02426s</td>\n",
       "      <td>HMR_9041</td>\n",
       "      <td>64.98</td>\n",
       "      <td>0</td>\n",
       "      <td>0.00%</td>\n",
       "    </tr>\n",
       "    <tr>\n",
       "      <td>m02471s</td>\n",
       "      <td>HMR_9042</td>\n",
       "      <td>33.56</td>\n",
       "      <td>0</td>\n",
       "      <td>0.00%</td>\n",
       "    </tr>\n",
       "    <tr>\n",
       "      <td>m02724s</td>\n",
       "      <td>HMR_9043</td>\n",
       "      <td>33.32</td>\n",
       "      <td>0</td>\n",
       "      <td>0.00%</td>\n",
       "    </tr>\n",
       "    <tr>\n",
       "      <td>m02993s</td>\n",
       "      <td>HMR_9044</td>\n",
       "      <td>40.18</td>\n",
       "      <td>0</td>\n",
       "      <td>0.00%</td>\n",
       "    </tr>\n",
       "    <tr>\n",
       "      <td>m03089s</td>\n",
       "      <td>HMR_9045</td>\n",
       "      <td>15.84</td>\n",
       "      <td>0</td>\n",
       "      <td>0.00%</td>\n",
       "    </tr>\n",
       "    <tr>\n",
       "      <td>m03135s</td>\n",
       "      <td>HMR_9046</td>\n",
       "      <td>63.26</td>\n",
       "      <td>0</td>\n",
       "      <td>0.00%</td>\n",
       "    </tr>\n",
       "    <tr>\n",
       "      <td>m02040s</td>\n",
       "      <td>HMR_9047</td>\n",
       "      <td>934.5</td>\n",
       "      <td>0</td>\n",
       "      <td>0.00%</td>\n",
       "    </tr>\n",
       "    <tr>\n",
       "      <td>m02630s</td>\n",
       "      <td>HMR_9048</td>\n",
       "      <td>752.9</td>\n",
       "      <td>0</td>\n",
       "      <td>0.00%</td>\n",
       "    </tr>\n",
       "    <tr>\n",
       "      <td>m01369s</td>\n",
       "      <td>HMR_9062</td>\n",
       "      <td>19.08</td>\n",
       "      <td>0</td>\n",
       "      <td>0.00%</td>\n",
       "    </tr>\n",
       "    <tr>\n",
       "      <td>m01975s</td>\n",
       "      <td>HMR_9063</td>\n",
       "      <td>1000</td>\n",
       "      <td>0</td>\n",
       "      <td>0.00%</td>\n",
       "    </tr>\n",
       "    <tr>\n",
       "      <td>m03101s</td>\n",
       "      <td>HMR_9064</td>\n",
       "      <td>40.59</td>\n",
       "      <td>0</td>\n",
       "      <td>0.00%</td>\n",
       "    </tr>\n",
       "    <tr>\n",
       "      <td>m01365s</td>\n",
       "      <td>HMR_9066</td>\n",
       "      <td>239</td>\n",
       "      <td>0</td>\n",
       "      <td>0.00%</td>\n",
       "    </tr>\n",
       "    <tr>\n",
       "      <td>m01986s</td>\n",
       "      <td>HMR_9067</td>\n",
       "      <td>54.24</td>\n",
       "      <td>0</td>\n",
       "      <td>0.00%</td>\n",
       "    </tr>\n",
       "    <tr>\n",
       "      <td>m02896s</td>\n",
       "      <td>HMR_9069</td>\n",
       "      <td>74.87</td>\n",
       "      <td>0</td>\n",
       "      <td>0.00%</td>\n",
       "    </tr>\n",
       "    <tr>\n",
       "      <td>m01974s</td>\n",
       "      <td>HMR_9071</td>\n",
       "      <td>979</td>\n",
       "      <td>0</td>\n",
       "      <td>0.00%</td>\n",
       "    </tr>\n",
       "    <tr>\n",
       "      <td>m02049s</td>\n",
       "      <td>HMR_9107</td>\n",
       "      <td>1.78</td>\n",
       "      <td>0</td>\n",
       "      <td>0.00%</td>\n",
       "    </tr>\n",
       "    <tr>\n",
       "      <td>m01401s</td>\n",
       "      <td>HMR_9109</td>\n",
       "      <td>1.78</td>\n",
       "      <td>0</td>\n",
       "      <td>0.00%</td>\n",
       "    </tr>\n",
       "    <tr>\n",
       "      <td>m03155s</td>\n",
       "      <td>HMR_9138</td>\n",
       "      <td>0.178</td>\n",
       "      <td>0</td>\n",
       "      <td>0.00%</td>\n",
       "    </tr>\n",
       "    <tr>\n",
       "      <td>m01288s</td>\n",
       "      <td>HMR_9141</td>\n",
       "      <td>10.24</td>\n",
       "      <td>0</td>\n",
       "      <td>0.00%</td>\n",
       "    </tr>\n",
       "    <tr>\n",
       "      <td>m02842s</td>\n",
       "      <td>HMR_9143</td>\n",
       "      <td>3.561</td>\n",
       "      <td>0</td>\n",
       "      <td>0.00%</td>\n",
       "    </tr>\n",
       "    <tr>\n",
       "      <td>m02680s</td>\n",
       "      <td>HMR_9145</td>\n",
       "      <td>1.78</td>\n",
       "      <td>0</td>\n",
       "      <td>0.00%</td>\n",
       "    </tr>\n",
       "    <tr>\n",
       "      <td>m01830s</td>\n",
       "      <td>HMR_9146</td>\n",
       "      <td>1.78</td>\n",
       "      <td>0</td>\n",
       "      <td>0.00%</td>\n",
       "    </tr>\n",
       "    <tr>\n",
       "      <td>m01330s</td>\n",
       "      <td>HMR_9152</td>\n",
       "      <td>0.178</td>\n",
       "      <td>0</td>\n",
       "      <td>0.00%</td>\n",
       "    </tr>\n",
       "    <tr>\n",
       "      <td>m01938s</td>\n",
       "      <td>HMR_9154</td>\n",
       "      <td>0.178</td>\n",
       "      <td>0</td>\n",
       "      <td>0.00%</td>\n",
       "    </tr>\n",
       "    <tr>\n",
       "      <td>m02394s</td>\n",
       "      <td>HMR_9167</td>\n",
       "      <td>1.78</td>\n",
       "      <td>0</td>\n",
       "      <td>0.00%</td>\n",
       "    </tr>\n",
       "    <tr>\n",
       "      <td>m00549s</td>\n",
       "      <td>HMR_9172</td>\n",
       "      <td>0.004273</td>\n",
       "      <td>0</td>\n",
       "      <td>0.00%</td>\n",
       "    </tr>\n",
       "    <tr>\n",
       "      <td>m01415s</td>\n",
       "      <td>HMR_9215</td>\n",
       "      <td>0.7122</td>\n",
       "      <td>0</td>\n",
       "      <td>0.00%</td>\n",
       "    </tr>\n",
       "    <tr>\n",
       "      <td>m00648s</td>\n",
       "      <td>HMR_9216</td>\n",
       "      <td>266.9</td>\n",
       "      <td>0</td>\n",
       "      <td>0.00%</td>\n",
       "    </tr>\n",
       "    <tr>\n",
       "      <td>m01280s</td>\n",
       "      <td>HMR_9254</td>\n",
       "      <td>8.493</td>\n",
       "      <td>0</td>\n",
       "      <td>0.00%</td>\n",
       "    </tr>\n",
       "    <tr>\n",
       "      <td>m01306s</td>\n",
       "      <td>HMR_9259</td>\n",
       "      <td>327</td>\n",
       "      <td>0</td>\n",
       "      <td>0.00%</td>\n",
       "    </tr>\n",
       "    <tr>\n",
       "      <td>m01361s</td>\n",
       "      <td>HMR_9269</td>\n",
       "      <td>1.78</td>\n",
       "      <td>0</td>\n",
       "      <td>0.00%</td>\n",
       "    </tr>\n",
       "    <tr>\n",
       "      <td>m01630s</td>\n",
       "      <td>HMR_9295</td>\n",
       "      <td>1.246</td>\n",
       "      <td>0</td>\n",
       "      <td>0.00%</td>\n",
       "    </tr>\n",
       "    <tr>\n",
       "      <td>m01666s</td>\n",
       "      <td>HMR_9297</td>\n",
       "      <td>993.3</td>\n",
       "      <td>0</td>\n",
       "      <td>0.00%</td>\n",
       "    </tr>\n",
       "    <tr>\n",
       "      <td>m01669s</td>\n",
       "      <td>HMR_9300</td>\n",
       "      <td>6.659</td>\n",
       "      <td>0</td>\n",
       "      <td>0.00%</td>\n",
       "    </tr>\n",
       "    <tr>\n",
       "      <td>m00577s</td>\n",
       "      <td>HMR_9307</td>\n",
       "      <td>78.61</td>\n",
       "      <td>0</td>\n",
       "      <td>0.00%</td>\n",
       "    </tr>\n",
       "    <tr>\n",
       "      <td>m02041s</td>\n",
       "      <td>HMR_9354</td>\n",
       "      <td>1000</td>\n",
       "      <td>0</td>\n",
       "      <td>0.00%</td>\n",
       "    </tr>\n",
       "    <tr>\n",
       "      <td>m02171s</td>\n",
       "      <td>HMR_9361</td>\n",
       "      <td>1.781</td>\n",
       "      <td>0</td>\n",
       "      <td>0.00%</td>\n",
       "    </tr>\n",
       "    <tr>\n",
       "      <td>m01629s</td>\n",
       "      <td>HMR_9363</td>\n",
       "      <td>6.193</td>\n",
       "      <td>0</td>\n",
       "      <td>0.00%</td>\n",
       "    </tr>\n",
       "    <tr>\n",
       "      <td>m02470s</td>\n",
       "      <td>HMR_9372</td>\n",
       "      <td>7.122</td>\n",
       "      <td>0</td>\n",
       "      <td>0.00%</td>\n",
       "    </tr>\n",
       "    <tr>\n",
       "      <td>m02475s</td>\n",
       "      <td>HMR_9375</td>\n",
       "      <td>295.8</td>\n",
       "      <td>0</td>\n",
       "      <td>0.00%</td>\n",
       "    </tr>\n",
       "    <tr>\n",
       "      <td>m02583s</td>\n",
       "      <td>HMR_9378</td>\n",
       "      <td>3.561</td>\n",
       "      <td>0</td>\n",
       "      <td>0.00%</td>\n",
       "    </tr>\n",
       "    <tr>\n",
       "      <td>m02631s</td>\n",
       "      <td>HMR_9383</td>\n",
       "      <td>1000</td>\n",
       "      <td>0</td>\n",
       "      <td>0.00%</td>\n",
       "    </tr>\n",
       "    <tr>\n",
       "      <td>m02833s</td>\n",
       "      <td>HMR_9404</td>\n",
       "      <td>3.739</td>\n",
       "      <td>0</td>\n",
       "      <td>0.00%</td>\n",
       "    </tr>\n",
       "    <tr>\n",
       "      <td>m02928s</td>\n",
       "      <td>HMR_9410</td>\n",
       "      <td>0.2784</td>\n",
       "      <td>0</td>\n",
       "      <td>0.00%</td>\n",
       "    </tr>\n",
       "    <tr>\n",
       "      <td>m02930s</td>\n",
       "      <td>HMR_9411</td>\n",
       "      <td>0.62</td>\n",
       "      <td>0</td>\n",
       "      <td>0.00%</td>\n",
       "    </tr>\n",
       "    <tr>\n",
       "      <td>m02961s</td>\n",
       "      <td>HMR_9418</td>\n",
       "      <td>1.78</td>\n",
       "      <td>0</td>\n",
       "      <td>0.00%</td>\n",
       "    </tr>\n",
       "    <tr>\n",
       "      <td>m02969s</td>\n",
       "      <td>HMR_9429</td>\n",
       "      <td>0.6528</td>\n",
       "      <td>0</td>\n",
       "      <td>0.00%</td>\n",
       "    </tr>\n",
       "    <tr>\n",
       "      <td>m03123s</td>\n",
       "      <td>HMR_9439</td>\n",
       "      <td>1000</td>\n",
       "      <td>0</td>\n",
       "      <td>0.00%</td>\n",
       "    </tr>\n",
       "    <tr>\n",
       "      <td>m03130s</td>\n",
       "      <td>HMR_9440</td>\n",
       "      <td>1.389</td>\n",
       "      <td>0</td>\n",
       "      <td>0.00%</td>\n",
       "    </tr>\n",
       "    <tr>\n",
       "      <td>m03161s</td>\n",
       "      <td>HMR_9729</td>\n",
       "      <td>1.78</td>\n",
       "      <td>0</td>\n",
       "      <td>0.00%</td>\n",
       "    </tr>\n",
       "    <tr>\n",
       "      <td>m01451l</td>\n",
       "      <td>HMR_9736</td>\n",
       "      <td>1.189</td>\n",
       "      <td>0</td>\n",
       "      <td>0.00%</td>\n",
       "    </tr>\n",
       "  </tbody>\n",
       "</table><h4>Secretion</h4><table border=\"1\" class=\"dataframe\">\n",
       "  <thead>\n",
       "    <tr style=\"text-align: right;\">\n",
       "      <th>Metabolite</th>\n",
       "      <th>Reaction</th>\n",
       "      <th>Flux</th>\n",
       "      <th>C-Number</th>\n",
       "      <th>C-Flux</th>\n",
       "    </tr>\n",
       "  </thead>\n",
       "  <tbody>\n",
       "    <tr>\n",
       "      <td>m01596s</td>\n",
       "      <td>HMR_9058</td>\n",
       "      <td>-1000</td>\n",
       "      <td>0</td>\n",
       "      <td>0.00%</td>\n",
       "    </tr>\n",
       "    <tr>\n",
       "      <td>m02770s</td>\n",
       "      <td>HMR_9068</td>\n",
       "      <td>-934.6</td>\n",
       "      <td>0</td>\n",
       "      <td>0.00%</td>\n",
       "    </tr>\n",
       "    <tr>\n",
       "      <td>m01370s</td>\n",
       "      <td>HMR_9070</td>\n",
       "      <td>-1000</td>\n",
       "      <td>0</td>\n",
       "      <td>0.00%</td>\n",
       "    </tr>\n",
       "    <tr>\n",
       "      <td>m02578s</td>\n",
       "      <td>HMR_9073</td>\n",
       "      <td>-960.2</td>\n",
       "      <td>0</td>\n",
       "      <td>0.00%</td>\n",
       "    </tr>\n",
       "    <tr>\n",
       "      <td>m02046s</td>\n",
       "      <td>HMR_9078</td>\n",
       "      <td>-1000</td>\n",
       "      <td>0</td>\n",
       "      <td>0.00%</td>\n",
       "    </tr>\n",
       "    <tr>\n",
       "      <td>m01513s</td>\n",
       "      <td>HMR_9083</td>\n",
       "      <td>-2.193</td>\n",
       "      <td>0</td>\n",
       "      <td>0.00%</td>\n",
       "    </tr>\n",
       "    <tr>\n",
       "      <td>m01797s</td>\n",
       "      <td>HMR_9084</td>\n",
       "      <td>-0.8024</td>\n",
       "      <td>0</td>\n",
       "      <td>0.00%</td>\n",
       "    </tr>\n",
       "    <tr>\n",
       "      <td>m01983s</td>\n",
       "      <td>HMR_9085</td>\n",
       "      <td>-1.171</td>\n",
       "      <td>0</td>\n",
       "      <td>0.00%</td>\n",
       "    </tr>\n",
       "    <tr>\n",
       "      <td>m01253s</td>\n",
       "      <td>HMR_9132</td>\n",
       "      <td>-14.17</td>\n",
       "      <td>0</td>\n",
       "      <td>0.00%</td>\n",
       "    </tr>\n",
       "    <tr>\n",
       "      <td>m02819s</td>\n",
       "      <td>HMR_9133</td>\n",
       "      <td>-902</td>\n",
       "      <td>0</td>\n",
       "      <td>0.00%</td>\n",
       "    </tr>\n",
       "    <tr>\n",
       "      <td>m02403s</td>\n",
       "      <td>HMR_9135</td>\n",
       "      <td>-1000</td>\n",
       "      <td>0</td>\n",
       "      <td>0.00%</td>\n",
       "    </tr>\n",
       "    <tr>\n",
       "      <td>m02182s</td>\n",
       "      <td>HMR_9225</td>\n",
       "      <td>-1.309</td>\n",
       "      <td>0</td>\n",
       "      <td>0.00%</td>\n",
       "    </tr>\n",
       "    <tr>\n",
       "      <td>m01249s</td>\n",
       "      <td>HMR_9242</td>\n",
       "      <td>-1000</td>\n",
       "      <td>0</td>\n",
       "      <td>0.00%</td>\n",
       "    </tr>\n",
       "    <tr>\n",
       "      <td>m01260s</td>\n",
       "      <td>HMR_9247</td>\n",
       "      <td>-2.176</td>\n",
       "      <td>0</td>\n",
       "      <td>0.00%</td>\n",
       "    </tr>\n",
       "    <tr>\n",
       "      <td>m01279s</td>\n",
       "      <td>HMR_9253</td>\n",
       "      <td>-1000</td>\n",
       "      <td>0</td>\n",
       "      <td>0.00%</td>\n",
       "    </tr>\n",
       "    <tr>\n",
       "      <td>m02348s</td>\n",
       "      <td>HMR_9292</td>\n",
       "      <td>-76.83</td>\n",
       "      <td>0</td>\n",
       "      <td>0.00%</td>\n",
       "    </tr>\n",
       "    <tr>\n",
       "      <td>m01787s</td>\n",
       "      <td>HMR_9314</td>\n",
       "      <td>-0.6528</td>\n",
       "      <td>0</td>\n",
       "      <td>0.00%</td>\n",
       "    </tr>\n",
       "    <tr>\n",
       "      <td>m01833s</td>\n",
       "      <td>HMR_9318</td>\n",
       "      <td>-2.433</td>\n",
       "      <td>0</td>\n",
       "      <td>0.00%</td>\n",
       "    </tr>\n",
       "    <tr>\n",
       "      <td>m01982s</td>\n",
       "      <td>HMR_9342</td>\n",
       "      <td>-0.002849</td>\n",
       "      <td>0</td>\n",
       "      <td>0.00%</td>\n",
       "    </tr>\n",
       "    <tr>\n",
       "      <td>m02037s</td>\n",
       "      <td>HMR_9353</td>\n",
       "      <td>-3.561</td>\n",
       "      <td>0</td>\n",
       "      <td>0.00%</td>\n",
       "    </tr>\n",
       "    <tr>\n",
       "      <td>m02769s</td>\n",
       "      <td>HMR_9393</td>\n",
       "      <td>-1.309</td>\n",
       "      <td>0</td>\n",
       "      <td>0.00%</td>\n",
       "    </tr>\n",
       "    <tr>\n",
       "      <td>m02841s</td>\n",
       "      <td>HMR_9401</td>\n",
       "      <td>-421.5</td>\n",
       "      <td>0</td>\n",
       "      <td>0.00%</td>\n",
       "    </tr>\n",
       "    <tr>\n",
       "      <td>m02843s</td>\n",
       "      <td>HMR_9406</td>\n",
       "      <td>-578.5</td>\n",
       "      <td>0</td>\n",
       "      <td>0.00%</td>\n",
       "    </tr>\n",
       "    <tr>\n",
       "      <td>m02931s</td>\n",
       "      <td>HMR_9409</td>\n",
       "      <td>-0.008902</td>\n",
       "      <td>0</td>\n",
       "      <td>0.00%</td>\n",
       "    </tr>\n",
       "    <tr>\n",
       "      <td>m03118s</td>\n",
       "      <td>HMR_9437</td>\n",
       "      <td>-1000</td>\n",
       "      <td>0</td>\n",
       "      <td>0.00%</td>\n",
       "    </tr>\n",
       "    <tr>\n",
       "      <td>m03121s</td>\n",
       "      <td>HMR_9438</td>\n",
       "      <td>-166.8</td>\n",
       "      <td>0</td>\n",
       "      <td>0.00%</td>\n",
       "    </tr>\n",
       "    <tr>\n",
       "      <td>m00325s</td>\n",
       "      <td>HMR_9443</td>\n",
       "      <td>-0.01817</td>\n",
       "      <td>0</td>\n",
       "      <td>0.00%</td>\n",
       "    </tr>\n",
       "    <tr>\n",
       "      <td>m00371s</td>\n",
       "      <td>HMR_9444</td>\n",
       "      <td>-0.06072</td>\n",
       "      <td>0</td>\n",
       "      <td>0.00%</td>\n",
       "    </tr>\n",
       "  </tbody>\n",
       "</table>"
      ],
      "text/plain": [
       "<cobra.summary.model_summary.ModelSummary at 0x7f6666cc2c20>"
      ]
     },
     "execution_count": 8,
     "metadata": {},
     "output_type": "execute_result"
    }
   ],
   "source": [
    "iHep.objective = \"biomass_components\"\n",
    "iHep.summary()"
   ]
  },
  {
   "attachments": {},
   "cell_type": "markdown",
   "metadata": {},
   "source": [
    "### See exchanges"
   ]
  },
  {
   "cell_type": "code",
   "execution_count": 7,
   "metadata": {},
   "outputs": [
    {
     "name": "stdout",
     "output_type": "stream",
     "text": [
      "\n",
      "##########\n",
      "INTAKES :\n",
      "\n",
      "\n",
      "##########\n",
      "SECRETIONS :\n",
      "\n",
      "\n",
      "##########\n",
      "NEUTRALS : \n",
      "\n"
     ]
    }
   ],
   "source": [
    "importlib.reload(vu)\n",
    "vu.print_exchanges(iHep, filter = \"all\")"
   ]
  },
  {
   "cell_type": "markdown",
   "metadata": {},
   "source": [
    "### run_parcours"
   ]
  },
  {
   "cell_type": "code",
   "execution_count": null,
   "metadata": {},
   "outputs": [],
   "source": [
    "f = vu.run_parcours(HepG2_v2.reactions.HMR_4388)\n",
    "print(len(f))"
   ]
  },
  {
   "cell_type": "markdown",
   "metadata": {},
   "source": [
    "### see parcours"
   ]
  },
  {
   "cell_type": "code",
   "execution_count": null,
   "metadata": {},
   "outputs": [
    {
     "name": "stdout",
     "output_type": "stream",
     "text": [
      "1.0 3-oxo-9-cis-eicosenoyl-CoA + 1.0 H+ + 1.0 NADPH --> 1.0 3(S)-hydroxy-9-cis-eicosenoyl-CoA + 1.0 NADP+\n",
      "\n",
      "1.0 m00852c + 1.0 m02039c + 1.0 m02555c --> 1.0 m00707c + 1.0 m02554c\n",
      "FLUX : 0.12460711085509726 --- ID : HMR_2348 --- compartment : {'C_c'} \n",
      "\n",
      "---\n",
      "\n",
      "\n",
      "1.0 (7Z)-octadecenoyl-CoA + 1.0 malonyl-CoA --> 1.0 3-oxo-9-cis-eicosenoyl-CoA + 1.0 CO2 + 1.0 CoA\n",
      "\n",
      "1.0 m00116c + 1.0 m02444c --> 1.0 m00852c + 1.0 m01596c + 1.0 m01597c\n",
      "FLUX : 0.12460711085509726 --- ID : HMR_2347 --- compartment : {'C_c'} \n",
      "\n",
      "---\n",
      "\n",
      "\n",
      "0.0005 (10Z)-heptadecenoyl-CoA + 0.0005 (11Z)-docosenoyl-CoA + 0.0005 (11Z)-eicosenoyl-CoA + 0.0005 (11Z,14Z)-eicosadienoyl-CoA + 0.0005 (11Z,14Z,17Z)-eicosatrienoyl-CoA + 0.0005 (13Z)-docosenoyl-CoA + 0.0005 (13Z)-eicosenoyl-CoA + 0.0005 (13Z)-octadecenoyl-CoA + 0.0005 (13Z,16Z)-docosadienoyl-CoA + 0.0005 (15Z)-tetracosenoyl-CoA + 0.0124 (4Z,7Z,10Z,13Z,16Z)-docosapentaenoyl-CoA + 0.0269 (4Z,7Z,10Z,13Z,16Z,19Z)-docosahexaenoyl-CoA + 0.0005 (5Z,8Z,11Z)-eicosatrienoyl-CoA + 0.0043 (5Z,8Z,11Z,14Z,17Z)-eicosapentaenoyl-CoA + 0.0005 (6Z,9Z)-octadecadienoyl-CoA + 0.0027 (6Z,9Z,12Z,15Z)-octadecatetraenoyl-CoA + 0.0005 (6Z,9Z,12Z,15Z,18Z)-tetracosapentaenoyl-CoA + 0.0005 (6Z,9Z,12Z,15Z,18Z,21Z)-tetracosahexaenoyl-CoA + 0.0005 (7Z)-octadecenoyl-CoA + 0.0005 (7Z)-tetradecenoyl-CoA + 0.0031 (7Z,10Z,13Z,16Z)-docosatetraenoyl-CoA + 0.0101 (7Z,10Z,13Z,16Z,19Z)-docosapentaenoyl-CoA + 0.0005 (8Z,11Z)-eicosadienoyl-CoA + 0.0179 (8Z,11Z,14Z,17Z)-eicosatetraenoyl-CoA + 0.0005 (9E)-octadecenoyl-CoA + 0.0005 (9E)-tetradecenoyl-CoA + 0.0005 (9Z,12Z,15Z,18Z)-tetracosatetraenoyl-CoA + 0.0005 (9Z,12Z,15Z,18Z,21Z)-tetracosapentaenoyl-CoA + 0.0005 10,13,16,19-docosatetraenoyl-CoA + 0.0005 10,13,16-docosatrienoyl-CoA + 0.0005 12,15,18,21-tetracosatetraenoyl-CoA + 0.0005 13,16,19-docosatrienoyl-CoA + 0.0005 5-tetradecenoyl-CoA + 0.0053 7-hexadecenoyl-CoA + 0.0005 9-eicosenoyl-CoA + 0.0005 9-heptadecenoyl-CoA + 0.2118 arachidonyl-CoA + 0.0266 cis-vaccenoyl-CoA + 0.0228 dihomo-gamma-linolenoyl-CoA + 0.0005 docosanoyl-CoA + 0.0005 eicosanoyl-CoA + 0.0012 gamma-linolenoyl-CoA + 0.0005 heneicosanoyl-CoA + 0.0005 heptadecanoyl-CoA + 0.0005 hexacosanoyl-CoA + 0.0005 hexacosenoyl-CoA + 0.0005 lauroyl-CoA + 0.0019 linolenoyl-CoA + 0.0678 linoleoyl-CoA + 0.0056 myristoyl-CoA + 0.0005 nonadecanoyl-CoA + 0.136 oleoyl-CoA + 0.0005 palmitoleoyl-CoA + 0.0678 palmitoyl-CoA + 0.0005 pentadecanoyl-CoA + 0.3553 stearoyl-CoA + 0.0005 tetracosanoyl-CoA + 0.0005 tricosanoyl-CoA + 0.0005 tridecanoyl-CoA --> 1.0 acyl-CoA-LD-PI pool\n",
      "\n",
      "0.0005 m00004c + 0.0005 m00006c + 0.0005 m00007c + 0.0005 m00009c + 0.0005 m00012c + 0.0005 m00016c + 0.0005 m00018c + 0.0005 m00020c + 0.0005 m00023c + 0.0005 m00025c + 0.0124 m00093c + 0.0269 m00095c + 0.0005 m00101c + 0.0043 m00103c + 0.0005 m00106c + 0.0027 m00108c + 0.0005 m00110c + 0.0005 m00113c + 0.0005 m00116c + 0.0005 m00118c + 0.0031 m00119c + 0.0101 m00121c + 0.0005 m00123c + 0.0179 m00125c + 0.0005 m00127c + 0.0005 m00129c + 0.0005 m00131c + 0.0005 m00134c + 0.0005 m00262c + 0.0005 m00264c + 0.0005 m00317c + 0.0005 m00343c + 0.0005 m01141c + 0.0053 m01191c + 0.0005 m01236c + 0.0005 m01237c + 0.2118 m01364c + 0.0266 m01586c + 0.0228 m01697c + 0.0005 m01725c + 0.0005 m01773c + 0.0012 m01934c + 0.0005 m02052c + 0.0005 m02101c + 0.0005 m02110c + 0.0005 m02112c + 0.0005 m02345c + 0.0019 m02390c + 0.0678 m02391c + 0.0056 m02495c + 0.0005 m02612c + 0.136 m02647c + 0.0005 m02677c + 0.0678 m02678c + 0.0005 m02689c + 0.3553 m02941c + 0.0005 m02971c + 0.0005 m03047c + 0.0005 m03050c --> 1.0 m01273c\n",
      "FLUX : 27.115081488789933 --- ID : HMR_0551 --- compartment : {'C_c'} \n",
      "\n",
      "---\n",
      "\n",
      "\n",
      "1.0 (10Z)-heptadecenoic acid + 1.0 ATP + 1.0 CoA --> 1.0 (10Z)-heptadecenoyl-CoA + 1.0 AMP + 1.0 PPi\n",
      "\n",
      "1.0 m00003c + 1.0 m01371c + 1.0 m01597c --> 1.0 m00004c + 1.0 m01334c + 1.0 m02759c\n",
      "FLUX : 3.2467770326076817 --- ID : HMR_0241 --- compartment : {'C_c'} \n",
      "\n",
      "---\n",
      "\n",
      "\n",
      "1.0 (10Z)-heptadecenoic acid --> 1.0 (10Z)-heptadecenoic acid\n",
      "\n",
      "1.0 m00003s --> 1.0 m00003c\n",
      "FLUX : 2.9775454048136516 --- ID : HMR_0240 --- compartment : {'C_c', 'C_s'} \n",
      "\n",
      "---\n",
      "\n",
      "\n",
      "1.0 NEFA blood pool in --> 0.0048 (10Z)-heptadecenoic acid + 0.0016 (11Z,14Z)-eicosadienoic acid + 0.0016 (11Z,14Z,17Z)-eicosatrienoic acid + 0.0001 (13Z)-eicosenoic acid + 0.0001 (13Z)-octadecenoic acid + 0.0001 (13Z,16Z)-docosadienoic acid + 0.0001 (4Z,7Z,10Z,13Z,16Z)-DPA + 0.0001 (6Z,9Z)-octadecadienoic acid + 0.0001 (6Z,9Z,12Z,15Z,18Z)-TPA + 0.0001 (6Z,9Z,12Z,15Z,18Z,21Z)-THA + 0.0001 (7Z)-octadecenoic acid + 0.0001 (7Z)-tetradecenoic acid + 0.0001 (9E)-tetradecenoic acid + 0.0001 (9Z,12Z,15Z,18Z)-TTA + 0.0001 (9Z,12Z,15Z,18Z,21Z)-TPA + 0.0001 10,13,16,19-docosatetraenoic acid + 0.0001 10,13,16-docosatriynoic acid + 0.0001 12,15,18,21-tetracosatetraenoic acid + 0.0001 13,16,19-docosatrienoic acid + 0.0001 7-palmitoleic acid + 0.0001 8,11-eicosadienoic acid + 0.0001 9-eicosenoic acid + 0.0001 9-heptadecylenic acid + 0.0017 adrenic acid + 0.0137 arachidonate + 0.0007 behenic acid + 0.0005 cerotic acid + 0.0001 cis-cetoleic acid + 0.0002 cis-erucic acid + 0.0001 cis-gondoic acid + 0.0001 cis-vaccenic acid + 0.0046 DHA + 0.0025 dihomo-gamma-linolenate + 0.0019 DPA + 0.0011 eicosanoate + 0.0001 elaidate + 0.002 EPA + 0.0048 gamma-linolenate + 0.0001 henicosanoic acid + 0.0034 lauric acid + 0.0012 lignocerate + 0.071 linoleate + 0.0005 linolenate + 0.0056 margaric acid + 0.0005 mead acid + 0.0283 myristic acid + 0.0003 nervonic acid + 0.0001 nonadecylic acid + 0.3746 oleate + 0.0001 omega-3-arachidonic acid + 0.2949 palmitate + 0.0686 palmitolate + 0.003 pentadecylic acid + 0.0001 physeteric acid + 0.1031 stearate + 0.0001 stearidonic acid + 0.0002 tricosanoic acid + 0.0001 tridecylic acid + 0.0001 ximenic acid\n",
      "\n",
      "1.0 m02560s --> 0.0048 m00003s + 0.0016 m00008s + 0.0016 m00010s + 0.0001 m00017s + 0.0001 m00019s + 0.0001 m00021s + 0.0001 m00094s + 0.0001 m00104s + 0.0001 m00111s + 0.0001 m00114s + 0.0001 m00115s + 0.0001 m00117s + 0.0001 m00128s + 0.0001 m00132s + 0.0001 m00135s + 0.0001 m00260s + 0.0001 m00265s + 0.0001 m00315s + 0.0001 m00341s + 0.0001 m01197s + 0.0001 m01207s + 0.0001 m01235s + 0.0001 m01238s + 0.0017 m01291s + 0.0137 m01362s + 0.0007 m01373s + 0.0005 m01432s + 0.0001 m01582s + 0.0002 m01583s + 0.0001 m01584s + 0.0001 m01585s + 0.0046 m01689s + 0.0025 m01696s + 0.0019 m01741s + 0.0011 m01771s + 0.0001 m01778s + 0.002 m01784s + 0.0048 m01932s + 0.0001 m02053s + 0.0034 m02344s + 0.0012 m02385s + 0.071 m02387s + 0.0005 m02389s + 0.0056 m02456s + 0.0005 m02457s + 0.0283 m02494s + 0.0003 m02564s + 0.0001 m02613s + 0.3746 m02646s + 0.0001 m02648s + 0.2949 m02674s + 0.0686 m02675s + 0.003 m02690s + 0.0001 m02745s + 0.1031 m02938s + 0.0001 m02939s + 0.0002 m03045s + 0.0001 m03051s + 0.0001 m03153s\n",
      "FLUX : 620.3219593361775 --- ID : HMR_0015 --- compartment : {'C_s'} \n",
      "\n",
      "---\n",
      "\n",
      "\n",
      "1.0 NEFA blood pool in --> 1.0 NEFA blood pool in\n",
      "\n",
      "1.0 m02560x --> 1.0 m02560s\n",
      "FLUX : 620.3219593361775 --- ID : HMR_9033 --- compartment : {'C_s', 'C_x'} \n",
      "\n",
      "---\n",
      "\n",
      "\n",
      "1.0 NEFA blood pool in --> \n",
      "\n",
      "1.0 m02560x --> \n",
      "FLUX : -620.3219593361775 --- ID : EX_m02560x --- compartment : {'C_x'} \n",
      "\n",
      "---\n",
      "\n",
      "\n",
      "1.0 (11Z,14Z)-eicosadienoic acid --> 1.0 (11Z,14Z)-eicosadienoic acid\n",
      "\n",
      "1.0 m00008s --> 1.0 m00008c\n",
      "FLUX : 0.9925151349378841 --- ID : HMR_0428 --- compartment : {'C_c', 'C_s'} \n",
      "\n",
      "---\n",
      "\n",
      "\n",
      "1.0 fatty acid-LD-PE pool --> 0.0005 (10Z)-heptadecenoic acid + 0.0005 (11Z,14Z)-eicosadienoic acid + 0.0005 (11Z,14Z,17Z)-eicosatrienoic acid + 0.0005 (13Z)-eicosenoic acid + 0.0005 (13Z)-octadecenoic acid + 0.0005 (13Z,16Z)-docosadienoic acid + 0.0052 (4Z,7Z,10Z,13Z,16Z)-DPA + 0.0005 (6Z,9Z)-octadecadienoic acid + 0.0005 (6Z,9Z,12Z,15Z,18Z)-TPA + 0.0005 (6Z,9Z,12Z,15Z,18Z,21Z)-THA + 0.0005 (7Z)-octadecenoic acid + 0.0005 (7Z)-tetradecenoic acid + 0.0005 (9E)-tetradecenoic acid + 0.0005 (9Z,12Z,15Z,18Z)-TTA + 0.0005 (9Z,12Z,15Z,18Z,21Z)-TPA + 0.0005 10,13,16,19-docosatetraenoic acid + 0.0005 10,13,16-docosatriynoic acid + 0.0005 12,15,18,21-tetracosatetraenoic acid + 0.0005 13,16,19-docosatrienoic acid + 0.0005 7-palmitoleic acid + 0.0005 8,11-eicosadienoic acid + 0.0005 9-eicosenoic acid + 0.0005 9-heptadecylenic acid + 0.0007 adrenic acid + 0.2125 arachidonate + 0.0005 behenic acid + 0.0005 cerotic acid + 0.0005 cis-cetoleic acid + 0.0005 cis-erucic acid + 0.0005 cis-gondoic acid + 0.0285 cis-vaccenic acid + 0.0459 DHA + 0.0411 dihomo-gamma-linolenate + 0.0067 DPA + 0.0005 eicosanoate + 0.0005 elaidate + 0.0221 EPA + 0.0011 gamma-linolenate + 0.0005 henicosanoic acid + 0.0005 lauric acid + 0.0005 lignocerate + 0.1312 linoleate + 0.0166 linolenate + 0.0005 margaric acid + 0.0005 mead acid + 0.0319 myristic acid + 0.0005 nervonic acid + 0.0005 nonadecylic acid + 0.0619 oleate + 0.0163 omega-3-arachidonic acid + 0.1243 palmitate + 0.0327 palmitolate + 0.0005 pentadecylic acid + 0.0005 physeteric acid + 0.1983 stearate + 0.0025 stearidonic acid + 0.0005 tricosanoic acid + 0.0005 tridecylic acid + 0.0005 ximenic acid\n",
      "\n",
      "1.0 m01809c --> 0.0005 m00003c + 0.0005 m00008c + 0.0005 m00010c + 0.0005 m00017c + 0.0005 m00019c + 0.0005 m00021c + 0.0052 m00094c + 0.0005 m00104c + 0.0005 m00111c + 0.0005 m00114c + 0.0005 m00115c + 0.0005 m00117c + 0.0005 m00128c + 0.0005 m00132c + 0.0005 m00135c + 0.0005 m00260c + 0.0005 m00265c + 0.0005 m00315c + 0.0005 m00341c + 0.0005 m01197c + 0.0005 m01207c + 0.0005 m01235c + 0.0005 m01238c + 0.0007 m01291c + 0.2125 m01362c + 0.0005 m01373c + 0.0005 m01432c + 0.0005 m01582c + 0.0005 m01583c + 0.0005 m01584c + 0.0285 m01585c + 0.0459 m01689c + 0.0411 m01696c + 0.0067 m01741c + 0.0005 m01771c + 0.0005 m01778c + 0.0221 m01784c + 0.0011 m01932c + 0.0005 m02053c + 0.0005 m02344c + 0.0005 m02385c + 0.1312 m02387c + 0.0166 m02389c + 0.0005 m02456c + 0.0005 m02457c + 0.0319 m02494c + 0.0005 m02564c + 0.0005 m02613c + 0.0619 m02646c + 0.0163 m02648c + 0.1243 m02674c + 0.0327 m02675c + 0.0005 m02690c + 0.0005 m02745c + 0.1983 m02938c + 0.0025 m02939c + 0.0005 m03045c + 0.0005 m03051c + 0.0005 m03153c\n",
      "FLUX : 538.4632555880565 --- ID : HMR_0689 --- compartment : {'C_c'} \n",
      "\n",
      "---\n",
      "\n",
      "\n",
      "1.0 H2O + 1.0 PE-LD pool --> 1.0 1-acyl-PE pool + 1.0 fatty acid-LD-PE pool\n",
      "\n",
      "1.0 m02040c + 1.0 m02685c --> 1.0 m00511c + 1.0 m01809c\n",
      "FLUX : 269.25057803069177 --- ID : HMR_0643 --- compartment : {'C_c'} \n",
      "\n",
      "---\n",
      "\n",
      "\n",
      "1.0 CDP + 1.0 thioredoxin --> 1.0 dCDP + 1.0 H2O + 1.0 oxidized thioredoxin\n",
      "\n",
      "1.0 m01424c + 1.0 m02990c --> 1.0 m01643c + 1.0 m02040c + 1.0 m02666c\n",
      "FLUX : 10.828706664852206 --- ID : HMR_4619 --- compartment : {'C_c'} \n",
      "\n",
      "---\n",
      "\n",
      "\n",
      "0.18 ADP + 0.3 CDP + 0.34 GDP + 0.18 UDP --> 1.0 Pi + 1.0 RNA\n",
      "\n",
      "0.18 m01285c + 0.3 m01424c + 0.34 m01948c + 0.18 m03106c --> 1.0 m02751c + 1.0 m02847c\n",
      "FLUX : 27.071766662130514 --- ID : HMR_7162 --- compartment : {'C_c'} \n",
      "\n",
      "---\n",
      "\n",
      "\n",
      "1.0 ATP + 1.0 H2O + 1.0 linoleoyl-CoA --> 1.0 ADP + 1.0 linoleoyl-CoA + 1.0 Pi\n",
      "\n",
      "1.0 m01371c + 1.0 m02040c + 1.0 m02391c --> 1.0 m01285c + 1.0 m02391p + 1.0 m02751c\n",
      "FLUX : 0.08662965331874121 --- ID : HMR_3013 --- compartment : {'C_c', 'C_p'} \n",
      "\n",
      "---\n",
      "\n",
      "\n",
      "1.0 (13Z,16Z)-docosadienoic acid + 1.0 ATP + 1.0 CoA --> 1.0 (13Z,16Z)-docosadienoyl-CoA + 1.0 AMP + 1.0 PPi\n",
      "\n",
      "1.0 m00021c + 1.0 m01371c + 1.0 m01597c --> 1.0 m00023c + 1.0 m01334c + 1.0 m02759c\n",
      "FLUX : 0.331263823727646 --- ID : HMR_0433 --- compartment : {'C_c'} \n",
      "\n",
      "---\n",
      "\n",
      "\n",
      "1.0 (13Z,16Z)-docosadienoic acid --> 1.0 (13Z,16Z)-docosadienoic acid\n",
      "\n",
      "1.0 m00021s --> 1.0 m00021c\n",
      "FLUX : 0.062032195933617765 --- ID : HMR_0432 --- compartment : {'C_c', 'C_s'} \n",
      "\n",
      "---\n",
      "\n",
      "\n",
      "1.0 1,2-diacylglycerol-LD-TAG pool + 1.0 ATP --> 1.0 ADP + 1.0 phosphatidate-LD-TAG pool\n",
      "\n",
      "1.0 m00240c + 1.0 m01371c --> 1.0 m01285c + 1.0 m02733c\n",
      "FLUX : 9.989481898326154 --- ID : HMR_0604 --- compartment : {'C_c'} \n",
      "\n",
      "---\n",
      "\n",
      "\n",
      "1.0 1,2-diacylglycerol-LD-TAG pool + 1.0 H2O --> 1.0 1-acylglycerol-LD-TG1 pool + 1.0 fatty acid-LD-TG2 pool\n",
      "\n",
      "1.0 m00240c + 1.0 m02040c --> 1.0 m00509c + 1.0 m01814c\n",
      "FLUX : 0.08662965331881765 --- ID : HMR_0667 --- compartment : {'C_c'} \n",
      "\n",
      "---\n",
      "\n",
      "\n",
      "1.0 1,2-diacylglycerol-LD-TAG pool + 1.0 acyl-CoA-LD-TG3 pool --> 1.0 CoA + 1.0 TAG-LD pool\n",
      "\n",
      "1.0 m00240c + 1.0 m01277c --> 1.0 m01597c + 1.0 m02958c\n",
      "FLUX : 11.911577331337428 --- ID : HMR_0605 --- compartment : {'C_c'} \n",
      "\n",
      "---\n",
      "\n",
      "\n",
      "1.0 ceramide pool + 1.0 PC-LD pool --> 1.0 1,2-diacylglycerol-LD-TAG pool + 1.0 SM pool\n",
      "\n",
      "1.0 m01430c + 1.0 m02684c --> 1.0 m00240c + 1.0 m02908c\n",
      "FLUX : 27.131324548787198 --- ID : HMR_0736 --- compartment : {'C_c'} \n",
      "\n",
      "---\n",
      "\n",
      "\n",
      "1.0 dihydroceramide pool + 1.0 NADP+ --> 1.0 ceramide pool + 1.0 H+ + 1.0 NADPH\n",
      "\n",
      "1.0 m01699c + 1.0 m02554c --> 1.0 m01430c + 1.0 m02039c + 1.0 m02555c\n",
      "FLUX : 54.262649097574425 --- ID : HMR_8219 --- compartment : {'C_c'} \n",
      "\n",
      "---\n",
      "\n",
      "\n",
      "1.0 dihydroceramide pool + 1.0 H2O <-- 1.0 fatty acid-LD-SM pool + 1.0 sphinganine\n",
      "\n",
      "1.0 m01699c + 1.0 m02040c <-- 1.0 m01812c + 1.0 m02927c\n",
      "FLUX : -54.26264909757443 --- ID : HMR_0753 --- compartment : {'C_c'} \n",
      "\n",
      "---\n",
      "\n",
      "\n",
      "1.0 thioredoxin + 1.0 UDP --> 1.0 dUDP + 1.0 H2O + 1.0 oxidized thioredoxin\n",
      "\n",
      "1.0 m02990c + 1.0 m03106c --> 1.0 m01754c + 1.0 m02040c + 1.0 m02666c\n",
      "FLUX : 22.19884866294702 --- ID : HMR_4621 --- compartment : {'C_c'} \n",
      "\n",
      "---\n",
      "\n",
      "\n",
      "1.0 GDP + 1.0 thioredoxin --> 1.0 dGDP + 1.0 H2O + 1.0 oxidized thioredoxin\n",
      "\n",
      "1.0 m01948c + 1.0 m02990c --> 1.0 m01680c + 1.0 m02040c + 1.0 m02666c\n",
      "FLUX : 10.828706664852207 --- ID : HMR_4615 --- compartment : {'C_c'} \n",
      "\n",
      "---\n",
      "\n",
      "\n",
      "1.0 ADP + 1.0 GDP <-- 1.0 ATP + 1.0 GMP\n",
      "\n",
      "1.0 m01285c + 1.0 m01948c <-- 1.0 m01371c + 1.0 m02016c\n",
      "FLUX : -20.033107329976584 --- ID : HMR_4020 --- compartment : {'C_c'} \n",
      "\n",
      "---\n",
      "\n",
      "\n",
      "2.0 ADP <-- 1.0 AMP + 1.0 ATP\n",
      "\n",
      "2.0 m01285c <-- 1.0 m01334c + 1.0 m01371c\n",
      "FLUX : -180.0724585681997 --- ID : HMR_4002 --- compartment : {'C_c'} \n",
      "\n",
      "---\n",
      "\n",
      "\n",
      "1.0 1,3-bisphospho-D-glycerate + 1.0 ADP --> 1.0 3-phospho-D-glycerate + 1.0 ATP\n",
      "\n",
      "1.0 m00247c + 1.0 m01285c --> 1.0 m00913c + 1.0 m01371c\n",
      "FLUX : 1000.0 --- ID : HMR_4368 --- compartment : {'C_c'} \n",
      "\n",
      "---\n",
      "\n",
      "\n",
      "1.0 1,3-bisphospho-D-glycerate + 1.0 H+ + 1.0 NADH <-- 1.0 GAP + 1.0 NAD+ + 1.0 Pi\n",
      "\n",
      "1.0 m00247c + 1.0 m02039c + 1.0 m02553c <-- 1.0 m01939c + 1.0 m02552c + 1.0 m02751c\n",
      "FLUX : -1000.0000000000002 --- ID : HMR_4373 --- compartment : {'C_c'} \n",
      "\n",
      "---\n",
      "\n",
      "\n",
      "1.0 3-oxo-tetracosa-12,15,18,21-all-cis-tetraenoyl-CoA + 1.0 H+ + 1.0 NADPH --> 1.0 3(S)-hydroxy-tetracosa-12,15,18,21-all-cis-tetraenoyl-CoA + 1.0 NADP+\n",
      "\n",
      "1.0 m00901c + 1.0 m02039c + 1.0 m02555c --> 1.0 m00716c + 1.0 m02554c\n",
      "FLUX : 0.18691066628264574 --- ID : HMR_2524 --- compartment : {'C_c'} \n",
      "\n",
      "---\n",
      "\n",
      "\n",
      "1.0 10,13,16,19-docosatetraenoyl-CoA + 1.0 malonyl-CoA --> 1.0 3-oxo-tetracosa-12,15,18,21-all-cis-tetraenoyl-CoA + 1.0 CO2 + 1.0 CoA\n",
      "\n",
      "1.0 m00262c + 1.0 m02444c --> 1.0 m00901c + 1.0 m01596c + 1.0 m01597c\n",
      "FLUX : 0.18691066628264574 --- ID : HMR_2522 --- compartment : {'C_c'} \n",
      "\n",
      "---\n",
      "\n",
      "\n",
      "1.0 H+ + 1.0 NADPH + 1.0 trans,cis,cis,cis,cis-2,10,13,16,19-docosapentaenoyl-CoA --> 1.0 10,13,16,19-docosatetraenoyl-CoA + 1.0 NADP+\n",
      "\n",
      "1.0 m02039c + 1.0 m02555c + 1.0 m03002c --> 1.0 m00262c + 1.0 m02554c\n",
      "FLUX : 0.2492142217101944 --- ID : HMR_2520 --- compartment : {'C_c'} \n",
      "\n",
      "---\n",
      "\n",
      "\n",
      "1.0 H+ + 1.0 NADPH + 1.0 trans,cis,cis,cis,cis-2,12,15,18,21-tetracosapentaenoyl-CoA --> 1.0 12,15,18,21-tetracosatetraenoyl-CoA + 1.0 NADP+\n",
      "\n",
      "1.0 m02039c + 1.0 m02555c + 1.0 m03003c --> 1.0 m00317c + 1.0 m02554c\n",
      "FLUX : 0.062303555427548646 --- ID : HMR_2528 --- compartment : {'C_c'} \n",
      "\n",
      "---\n",
      "\n",
      "\n",
      "1.0 H+ + 1.0 NADPH + 1.0 trans,cis-2,9-eicosadienoyl-CoA --> 1.0 9-eicosenoyl-CoA + 1.0 NADP+\n",
      "\n",
      "1.0 m02039c + 1.0 m02555c + 1.0 m03018c --> 1.0 m01236c + 1.0 m02554c\n",
      "FLUX : 0.12460711085509726 --- ID : HMR_2350 --- compartment : {'C_c'} \n",
      "\n",
      "---\n",
      "\n",
      "\n",
      "1.0 3-keto-eicosa-8,11,14,17-all-cis-tetraenoyl-CoA + 1.0 H+ + 1.0 NADPH --> 1.0 3(S)-hydroxy-all-cis-8,11,14,17-eicosatetraenoyl-CoA + 1.0 NADP+\n",
      "\n",
      "1.0 m00811c + 1.0 m02039c + 1.0 m02555c --> 1.0 m00708c + 1.0 m02554c\n",
      "FLUX : 3.0147685578015397 --- ID : HMR_2478 --- compartment : {'C_c'} \n",
      "\n",
      "---\n",
      "\n",
      "\n",
      "1.0 (6Z,9Z,12Z,15Z)-octadecatetraenoyl-CoA + 1.0 malonyl-CoA --> 1.0 3-keto-eicosa-8,11,14,17-all-cis-tetraenoyl-CoA + 1.0 CO2 + 1.0 CoA\n",
      "\n",
      "1.0 m00108c + 1.0 m02444c --> 1.0 m00811c + 1.0 m01596c + 1.0 m01597c\n",
      "FLUX : 3.0147685578015397 --- ID : HMR_2475 --- compartment : {'C_c'} \n",
      "\n",
      "---\n",
      "\n",
      "\n",
      "1.0 (6Z,9Z,12Z,15Z)-octadecatetraenoyl-CoA + 1.0 AMP + 1.0 PPi <-- 1.0 ATP + 1.0 CoA + 1.0 stearidonic acid\n",
      "\n",
      "1.0 m00108c + 1.0 m01334c + 1.0 m02759c <-- 1.0 m01371c + 1.0 m01597c + 1.0 m02939c\n",
      "FLUX : -1.4081903349037592 --- ID : HMR_0353 --- compartment : {'C_c'} \n",
      "\n",
      "---\n",
      "\n",
      "\n",
      "1.0 (6Z,9Z,12Z,15Z)-octadecatetraenoyl-CoA + 1.0 L-carnitine --> 1.0 (6Z,9Z,12Z,15Z)-octadecatetraenoylcarnitine + 1.0 CoA\n",
      "\n",
      "1.0 m00108c + 1.0 m02348c --> 1.0 m00107c + 1.0 m01597c\n",
      "FLUX : 1.6552315048357458 --- ID : HMR_2714 --- compartment : {'C_c'} \n",
      "\n",
      "---\n",
      "\n",
      "\n",
      "0.0005 (10Z)-heptadecenoyl-CoA + 0.0005 (11Z)-docosenoyl-CoA + 0.0005 (11Z)-eicosenoyl-CoA + 0.0005 (11Z,14Z)-eicosadienoyl-CoA + 0.0005 (11Z,14Z,17Z)-eicosatrienoyl-CoA + 0.0005 (13Z)-docosenoyl-CoA + 0.0005 (13Z)-eicosenoyl-CoA + 0.0005 (13Z)-octadecenoyl-CoA + 0.0005 (13Z,16Z)-docosadienoyl-CoA + 0.0005 (15Z)-tetracosenoyl-CoA + 0.0039 (4Z,7Z,10Z,13Z,16Z)-docosapentaenoyl-CoA + 0.0252 (4Z,7Z,10Z,13Z,16Z,19Z)-docosahexaenoyl-CoA + 0.0005 (5Z,8Z,11Z)-eicosatrienoyl-CoA + 0.0109 (5Z,8Z,11Z,14Z,17Z)-eicosapentaenoyl-CoA + 0.0005 (6Z,9Z)-octadecadienoyl-CoA + 0.0026 (6Z,9Z,12Z,15Z)-octadecatetraenoyl-CoA + 0.0005 (6Z,9Z,12Z,15Z,18Z)-tetracosapentaenoyl-CoA + 0.0005 (6Z,9Z,12Z,15Z,18Z,21Z)-tetracosahexaenoyl-CoA + 0.0005 (7Z)-octadecenoyl-CoA + 0.0005 (7Z)-tetradecenoyl-CoA + 0.0011 (7Z,10Z,13Z,16Z)-docosatetraenoyl-CoA + 0.0056 (7Z,10Z,13Z,16Z,19Z)-docosapentaenoyl-CoA + 0.0005 (8Z,11Z)-eicosadienoyl-CoA + 0.0178 (8Z,11Z,14Z,17Z)-eicosatetraenoyl-CoA + 0.0005 (9E)-octadecenoyl-CoA + 0.0005 (9E)-tetradecenoyl-CoA + 0.0005 (9Z,12Z,15Z,18Z)-tetracosatetraenoyl-CoA + 0.0005 (9Z,12Z,15Z,18Z,21Z)-tetracosapentaenoyl-CoA + 0.0005 10,13,16,19-docosatetraenoyl-CoA + 0.0005 10,13,16-docosatrienoyl-CoA + 0.0005 12,15,18,21-tetracosatetraenoyl-CoA + 0.0005 13,16,19-docosatrienoyl-CoA + 0.0005 5-tetradecenoyl-CoA + 0.0105 7-hexadecenoyl-CoA + 0.0005 9-eicosenoyl-CoA + 0.0005 9-heptadecenoyl-CoA + 0.0709 arachidonyl-CoA + 0.0271 cis-vaccenoyl-CoA + 0.0228 dihomo-gamma-linolenoyl-CoA + 0.0005 docosanoyl-CoA + 0.0005 eicosanoyl-CoA + 0.0036 gamma-linolenoyl-CoA + 0.0005 heneicosanoyl-CoA + 0.0005 heptadecanoyl-CoA + 0.0005 hexacosanoyl-CoA + 0.0005 hexacosenoyl-CoA + 0.0005 lauroyl-CoA + 0.0047 linolenoyl-CoA + 0.2479 linoleoyl-CoA + 0.0054 myristoyl-CoA + 0.0005 nonadecanoyl-CoA + 0.1143 oleoyl-CoA + 0.0005 palmitoleoyl-CoA + 0.2781 palmitoyl-CoA + 0.0005 pentadecanoyl-CoA + 0.1271 stearoyl-CoA + 0.0005 tetracosanoyl-CoA + 0.0005 tricosanoyl-CoA + 0.0005 tridecanoyl-CoA --> 1.0 acyl-CoA-LD-PC pool\n",
      "\n",
      "0.0005 m00004c + 0.0005 m00006c + 0.0005 m00007c + 0.0005 m00009c + 0.0005 m00012c + 0.0005 m00016c + 0.0005 m00018c + 0.0005 m00020c + 0.0005 m00023c + 0.0005 m00025c + 0.0039 m00093c + 0.0252 m00095c + 0.0005 m00101c + 0.0109 m00103c + 0.0005 m00106c + 0.0026 m00108c + 0.0005 m00110c + 0.0005 m00113c + 0.0005 m00116c + 0.0005 m00118c + 0.0011 m00119c + 0.0056 m00121c + 0.0005 m00123c + 0.0178 m00125c + 0.0005 m00127c + 0.0005 m00129c + 0.0005 m00131c + 0.0005 m00134c + 0.0005 m00262c + 0.0005 m00264c + 0.0005 m00317c + 0.0005 m00343c + 0.0005 m01141c + 0.0105 m01191c + 0.0005 m01236c + 0.0005 m01237c + 0.0709 m01364c + 0.0271 m01586c + 0.0228 m01697c + 0.0005 m01725c + 0.0005 m01773c + 0.0036 m01934c + 0.0005 m02052c + 0.0005 m02101c + 0.0005 m02110c + 0.0005 m02112c + 0.0005 m02345c + 0.0047 m02390c + 0.2479 m02391c + 0.0054 m02495c + 0.0005 m02612c + 0.1143 m02647c + 0.0005 m02677c + 0.2781 m02678c + 0.0005 m02689c + 0.1271 m02941c + 0.0005 m02971c + 0.0005 m03047c + 0.0005 m03050c --> 1.0 m01271c\n",
      "FLUX : 296.7446642527514 --- ID : HMR_0548 --- compartment : {'C_c'} \n",
      "\n",
      "---\n",
      "\n",
      "\n",
      "0.0001 (10Z)-heptadecenoyl-CoA + 0.0001 (11Z)-docosenoyl-CoA + 0.0001 (11Z)-eicosenoyl-CoA + 0.0001 (11Z,14Z)-eicosadienoyl-CoA + 0.0001 (11Z,14Z,17Z)-eicosatrienoyl-CoA + 0.0001 (13Z)-docosenoyl-CoA + 0.0001 (13Z)-eicosenoyl-CoA + 0.0001 (13Z)-octadecenoyl-CoA + 0.0001 (13Z,16Z)-docosadienoyl-CoA + 0.0001 (15Z)-tetracosenoyl-CoA + 0.0008 (4Z,7Z,10Z,13Z,16Z)-docosapentaenoyl-CoA + 0.0268 (4Z,7Z,10Z,13Z,16Z,19Z)-docosahexaenoyl-CoA + 0.0001 (5Z,8Z,11Z)-eicosatrienoyl-CoA + 0.0068 (5Z,8Z,11Z,14Z,17Z)-eicosapentaenoyl-CoA + 0.0001 (6Z,9Z)-octadecadienoyl-CoA + 0.0024 (6Z,9Z,12Z,15Z)-octadecatetraenoyl-CoA + 0.0001 (6Z,9Z,12Z,15Z,18Z)-tetracosapentaenoyl-CoA + 0.0001 (6Z,9Z,12Z,15Z,18Z,21Z)-tetracosahexaenoyl-CoA + 0.0001 (7Z)-octadecenoyl-CoA + 0.0001 (7Z)-tetradecenoyl-CoA + 0.0008 (7Z,10Z,13Z,16Z)-docosatetraenoyl-CoA + 0.0053 (7Z,10Z,13Z,16Z,19Z)-docosapentaenoyl-CoA + 0.0001 (8Z,11Z)-eicosadienoyl-CoA + 0.0001 (8Z,11Z,14Z,17Z)-eicosatetraenoyl-CoA + 0.0001 (9E)-octadecenoyl-CoA + 0.0001 (9E)-tetradecenoyl-CoA + 0.0001 (9Z,12Z,15Z,18Z)-tetracosatetraenoyl-CoA + 0.0001 (9Z,12Z,15Z,18Z,21Z)-tetracosapentaenoyl-CoA + 0.0001 10,13,16,19-docosatetraenoyl-CoA + 0.0001 10,13,16-docosatrienoyl-CoA + 0.0001 12,15,18,21-tetracosatetraenoyl-CoA + 0.0001 13,16,19-docosatrienoyl-CoA + 0.0001 5-tetradecenoyl-CoA + 0.0288 7-hexadecenoyl-CoA + 0.0001 9-eicosenoyl-CoA + 0.0001 9-heptadecenoyl-CoA + 0.0544 arachidonyl-CoA + 0.0241 cis-vaccenoyl-CoA + 0.0091 dihomo-gamma-linolenoyl-CoA + 0.0001 docosanoyl-CoA + 0.0001 eicosanoyl-CoA + 0.0048 gamma-linolenoyl-CoA + 0.0001 heneicosanoyl-CoA + 0.0001 heptadecanoyl-CoA + 0.0001 hexacosanoyl-CoA + 0.0001 hexacosenoyl-CoA + 0.0001 lauroyl-CoA + 0.0031 linolenoyl-CoA + 0.16 linoleoyl-CoA + 0.0174 myristoyl-CoA + 0.0001 nonadecanoyl-CoA + 0.2632 oleoyl-CoA + 0.0001 palmitoleoyl-CoA + 0.27 palmitoyl-CoA + 0.0001 pentadecanoyl-CoA + 0.118 stearoyl-CoA + 0.0001 tetracosanoyl-CoA + 0.0001 tricosanoyl-CoA + 0.0001 tridecanoyl-CoA --> 1.0 acyl-CoA-CL pool\n",
      "\n",
      "0.0001 m00004c + 0.0001 m00006c + 0.0001 m00007c + 0.0001 m00009c + 0.0001 m00012c + 0.0001 m00016c + 0.0001 m00018c + 0.0001 m00020c + 0.0001 m00023c + 0.0001 m00025c + 0.0008 m00093c + 0.0268 m00095c + 0.0001 m00101c + 0.0068 m00103c + 0.0001 m00106c + 0.0024 m00108c + 0.0001 m00110c + 0.0001 m00113c + 0.0001 m00116c + 0.0001 m00118c + 0.0008 m00119c + 0.0053 m00121c + 0.0001 m00123c + 0.0001 m00125c + 0.0001 m00127c + 0.0001 m00129c + 0.0001 m00131c + 0.0001 m00134c + 0.0001 m00262c + 0.0001 m00264c + 0.0001 m00317c + 0.0001 m00343c + 0.0001 m01141c + 0.0288 m01191c + 0.0001 m01236c + 0.0001 m01237c + 0.0544 m01364c + 0.0241 m01586c + 0.0091 m01697c + 0.0001 m01725c + 0.0001 m01773c + 0.0048 m01934c + 0.0001 m02052c + 0.0001 m02101c + 0.0001 m02110c + 0.0001 m02112c + 0.0001 m02345c + 0.0031 m02390c + 0.16 m02391c + 0.0174 m02495c + 0.0001 m02612c + 0.2632 m02647c + 0.0001 m02677c + 0.27 m02678c + 0.0001 m02689c + 0.118 m02941c + 0.0001 m02971c + 0.0001 m03047c + 0.0001 m03050c --> 1.0 m01270c\n",
      "FLUX : 108.28706664852288 --- ID : HMR_0545 --- compartment : {'C_c'} \n",
      "\n",
      "---\n",
      "\n",
      "\n",
      "0.0001 (10Z)-heptadecenoyl-CoA + 0.0001 (11Z)-docosenoyl-CoA + 0.0001 (11Z)-eicosenoyl-CoA + 0.0001 (11Z,14Z)-eicosadienoyl-CoA + 0.0001 (11Z,14Z,17Z)-eicosatrienoyl-CoA + 0.0001 (13Z)-docosenoyl-CoA + 0.0001 (13Z)-eicosenoyl-CoA + 0.0001 (13Z)-octadecenoyl-CoA + 0.0001 (13Z,16Z)-docosadienoyl-CoA + 0.0001 (15Z)-tetracosenoyl-CoA + 0.0011 (4Z,7Z,10Z,13Z,16Z)-docosapentaenoyl-CoA + 0.0221 (4Z,7Z,10Z,13Z,16Z,19Z)-docosahexaenoyl-CoA + 0.0001 (5Z,8Z,11Z)-eicosatrienoyl-CoA + 0.0035 (5Z,8Z,11Z,14Z,17Z)-eicosapentaenoyl-CoA + 0.0001 (6Z,9Z)-octadecadienoyl-CoA + 0.0026 (6Z,9Z,12Z,15Z)-octadecatetraenoyl-CoA + 0.0001 (6Z,9Z,12Z,15Z,18Z)-tetracosapentaenoyl-CoA + 0.0001 (6Z,9Z,12Z,15Z,18Z,21Z)-tetracosahexaenoyl-CoA + 0.0001 (7Z)-octadecenoyl-CoA + 0.0001 (7Z)-tetradecenoyl-CoA + 0.0022 (7Z,10Z,13Z,16Z)-docosatetraenoyl-CoA + 0.0038 (7Z,10Z,13Z,16Z,19Z)-docosapentaenoyl-CoA + 0.0001 (8Z,11Z)-eicosadienoyl-CoA + 0.0001 (8Z,11Z,14Z,17Z)-eicosatetraenoyl-CoA + 0.0001 (9E)-octadecenoyl-CoA + 0.0001 (9E)-tetradecenoyl-CoA + 0.0001 (9Z,12Z,15Z,18Z)-tetracosatetraenoyl-CoA + 0.0001 (9Z,12Z,15Z,18Z,21Z)-tetracosapentaenoyl-CoA + 0.0001 10,13,16,19-docosatetraenoyl-CoA + 0.0001 10,13,16-docosatrienoyl-CoA + 0.0001 12,15,18,21-tetracosatetraenoyl-CoA + 0.0001 13,16,19-docosatrienoyl-CoA + 0.0001 5-tetradecenoyl-CoA + 0.014 7-hexadecenoyl-CoA + 0.0001 9-eicosenoyl-CoA + 0.0001 9-heptadecenoyl-CoA + 0.0264 arachidonyl-CoA + 0.0194 cis-vaccenoyl-CoA + 0.0141 dihomo-gamma-linolenoyl-CoA + 0.0001 docosanoyl-CoA + 0.0001 eicosanoyl-CoA + 0.0081 gamma-linolenoyl-CoA + 0.0001 heneicosanoyl-CoA + 0.0001 heptadecanoyl-CoA + 0.0001 hexacosanoyl-CoA + 0.0001 hexacosenoyl-CoA + 0.0001 lauroyl-CoA + 0.0023 linolenoyl-CoA + 0.278 linoleoyl-CoA + 0.003 myristoyl-CoA + 0.0001 nonadecanoyl-CoA + 0.4519 oleoyl-CoA + 0.0001 palmitoleoyl-CoA + 0.0849 palmitoyl-CoA + 0.0001 pentadecanoyl-CoA + 0.0584 stearoyl-CoA + 0.0001 tetracosanoyl-CoA + 0.0001 tricosanoyl-CoA + 0.0001 tridecanoyl-CoA --> 1.0 acyl-CoA-LD-TG3 pool\n",
      "\n",
      "0.0001 m00004c + 0.0001 m00006c + 0.0001 m00007c + 0.0001 m00009c + 0.0001 m00012c + 0.0001 m00016c + 0.0001 m00018c + 0.0001 m00020c + 0.0001 m00023c + 0.0001 m00025c + 0.0011 m00093c + 0.0221 m00095c + 0.0001 m00101c + 0.0035 m00103c + 0.0001 m00106c + 0.0026 m00108c + 0.0001 m00110c + 0.0001 m00113c + 0.0001 m00116c + 0.0001 m00118c + 0.0022 m00119c + 0.0038 m00121c + 0.0001 m00123c + 0.0001 m00125c + 0.0001 m00127c + 0.0001 m00129c + 0.0001 m00131c + 0.0001 m00134c + 0.0001 m00262c + 0.0001 m00264c + 0.0001 m00317c + 0.0001 m00343c + 0.0001 m01141c + 0.014 m01191c + 0.0001 m01236c + 0.0001 m01237c + 0.0264 m01364c + 0.0194 m01586c + 0.0141 m01697c + 0.0001 m01725c + 0.0001 m01773c + 0.0081 m01934c + 0.0001 m02052c + 0.0001 m02101c + 0.0001 m02110c + 0.0001 m02112c + 0.0001 m02345c + 0.0023 m02390c + 0.278 m02391c + 0.003 m02495c + 0.0001 m02612c + 0.4519 m02647c + 0.0001 m02677c + 0.0849 m02678c + 0.0001 m02689c + 0.0584 m02941c + 0.0001 m02971c + 0.0001 m03047c + 0.0001 m03050c --> 1.0 m01277c\n",
      "FLUX : 11.911577331337426 --- ID : HMR_0547 --- compartment : {'C_c'} \n",
      "\n",
      "---\n",
      "\n",
      "\n",
      "1.0 H+ + 1.0 heptadecanoyl-CoA + 1.0 NADPH + 1.0 O2 --> 1.0 (10Z)-heptadecenoyl-CoA + 2.0 H2O + 1.0 NADP+\n",
      "\n",
      "1.0 m02039c + 1.0 m02101c + 1.0 m02555c + 1.0 m02630c --> 1.0 m00004c + 2.0 m02040c + 1.0 m02554c\n",
      "FLUX : 3.162285195144852 --- ID : HMR_2288 --- compartment : {'C_c'} \n",
      "\n",
      "---\n",
      "\n",
      "\n",
      "1.0 (9Z,12Z,15Z,18Z)-tetracosatetraenoyl-CoA + 1.0 H+ + 1.0 NADPH + 1.0 O2 --> 1.0 (6Z,9Z,12Z,15Z,18Z)-tetracosapentaenoyl-CoA + 2.0 H2O + 1.0 NADP+\n",
      "\n",
      "1.0 m00131c + 1.0 m02039c + 1.0 m02555c + 1.0 m02630c --> 1.0 m00110c + 2.0 m02040c + 1.0 m02554c\n",
      "FLUX : 0.06230355542754859 --- ID : HMR_2403 --- compartment : {'C_c'} \n",
      "\n",
      "---\n",
      "\n",
      "\n",
      "1.0 (9Z,12Z,15Z,18Z)-TTA + 1.0 ATP + 1.0 CoA --> 1.0 (9Z,12Z,15Z,18Z)-tetracosatetraenoyl-CoA + 1.0 AMP + 1.0 PPi\n",
      "\n",
      "1.0 m00132c + 1.0 m01371c + 1.0 m01597c --> 1.0 m00131c + 1.0 m01334c + 1.0 m02759c\n",
      "FLUX : 0.33126382372764607 --- ID : HMR_0417 --- compartment : {'C_c'} \n",
      "\n",
      "---\n",
      "\n",
      "\n",
      "1.0 (9Z,12Z,15Z,18Z)-TTA --> 1.0 (9Z,12Z,15Z,18Z)-TTA\n",
      "\n",
      "1.0 m00132s --> 1.0 m00132c\n",
      "FLUX : 0.062032195933617765 --- ID : HMR_0416 --- compartment : {'C_c', 'C_s'} \n",
      "\n",
      "---\n",
      "\n",
      "\n",
      "1.0 (11Z,14Z,17Z)-eicosatrienoic acid + 1.0 ATP + 1.0 CoA --> 1.0 (11Z,14Z,17Z)-eicosatrienoyl-CoA + 1.0 AMP + 1.0 PPi\n",
      "\n",
      "1.0 m00010c + 1.0 m01371c + 1.0 m01597c --> 1.0 m00012c + 1.0 m01334c + 1.0 m02759c\n",
      "FLUX : 1.2617467627319123 --- ID : HMR_0381 --- compartment : {'C_c'} \n",
      "\n",
      "---\n",
      "\n",
      "\n",
      "1.0 (11Z,14Z,17Z)-eicosatrienoic acid --> 1.0 (11Z,14Z,17Z)-eicosatrienoic acid\n",
      "\n",
      "1.0 m00010s --> 1.0 m00010c\n",
      "FLUX : 0.9925151349378841 --- ID : HMR_0380 --- compartment : {'C_c', 'C_s'} \n",
      "\n",
      "---\n",
      "\n",
      "\n",
      "1.0 AMP + 1.0 PPi + 1.0 tricosanoyl-CoA <-- 1.0 ATP + 1.0 CoA + 1.0 tricosanoic acid\n",
      "\n",
      "1.0 m01334c + 1.0 m02759c + 1.0 m03047c <-- 1.0 m01371c + 1.0 m01597c + 1.0 m03045c\n",
      "FLUX : -0.3932960196612639 --- ID : HMR_0327 --- compartment : {'C_c'} \n",
      "\n",
      "---\n",
      "\n",
      "\n",
      "1.0 (11Z)-docosenoyl-CoA + 1.0 AMP + 1.0 PPi <-- 1.0 ATP + 1.0 cis-cetoleic acid + 1.0 CoA\n",
      "\n",
      "1.0 m00006c + 1.0 m01334c + 1.0 m02759c <-- 1.0 m01371c + 1.0 m01582c + 1.0 m01597c\n",
      "FLUX : -0.331263823727646 --- ID : HMR_0323 --- compartment : {'C_c'} \n",
      "\n",
      "---\n",
      "\n",
      "\n",
      "1.0 (11Z)-docosenoyl-CoA + 1.0 sn-glycerol-3-phosphate --> 1.0 1-acylglycerol-3P-11-docose + 1.0 CoA\n",
      "\n",
      "1.0 m00006c + 1.0 m02914c --> 1.0 m00441c + 1.0 m01597c\n",
      "FLUX : 0.21619252196834512 --- ID : HMR_0516 --- compartment : {'C_c'} \n",
      "\n",
      "---\n",
      "\n",
      "\n",
      "1.0 H+ + 1.0 NADPH + 1.0 trans,cis-2,11-docosadienoyl-CoA --> 1.0 (11Z)-docosenoyl-CoA + 1.0 NADP+\n",
      "\n",
      "1.0 m02039c + 1.0 m02555c + 1.0 m03011c --> 1.0 m00006c + 1.0 m02554c\n",
      "FLUX : 0.06230355542754863 --- ID : HMR_2356 --- compartment : {'C_c'} \n",
      "\n",
      "---\n",
      "\n",
      "\n",
      "1.0 6-hydroxymelatonin + 1.0 H+ --> 1.0 hydroxide + 1.0 melatonin\n",
      "\n",
      "1.0 m01161c + 1.0 m02039c --> 1.0 m02147c + 1.0 m02460c\n",
      "FLUX : 4.37565537216506e-15 --- ID : HMR_4548 --- compartment : {'C_c'} \n",
      "\n",
      "---\n",
      "\n",
      "\n",
      "1.0 H+ + 1.0 melatonin + 1.0 NADPH + 1.0 O2 --> 1.0 6-hydroxymelatonin + 1.0 H2O + 1.0 NADP+\n",
      "\n",
      "1.0 m02039c + 1.0 m02460c + 1.0 m02555c + 1.0 m02630c --> 1.0 m01161c + 1.0 m02040c + 1.0 m02554c\n",
      "FLUX : 4.37565537216506e-15 --- ID : HMR_8566 --- compartment : {'C_c'} \n",
      "\n",
      "---\n",
      "\n",
      "\n",
      "1.0 H+ + 1.0 oxidized thioredoxin --> 1.0 H+ + 1.0 oxidized thioredoxin\n",
      "\n",
      "1.0 m02039c + 1.0 m02666c --> 1.0 m02039m + 1.0 m02666m\n",
      "FLUX : 2.3901910712900914e-15 --- ID : HMR_6620 --- compartment : {'C_c', 'C_m'} \n",
      "\n",
      "---\n",
      "\n",
      "\n",
      "1.0 eicosa-(2E,8Z,11Z,14Z,17Z)-pentaenoyl-CoA + 1.0 H+ + 1.0 NADPH --> 1.0 (8Z,11Z,14Z,17Z)-eicosatetraenoyl-CoA + 1.0 NADP+\n",
      "\n",
      "1.0 m01769c + 1.0 m02039c + 1.0 m02555c --> 1.0 m00125c + 1.0 m02554c\n",
      "FLUX : 3.01476855780154 --- ID : HMR_2482 --- compartment : {'C_c'} \n",
      "\n",
      "---\n",
      "\n",
      "\n",
      "1.0 3(S)-hydroxy-all-cis-8,11,14,17-eicosatetraenoyl-CoA --> 1.0 eicosa-(2E,8Z,11Z,14Z,17Z)-pentaenoyl-CoA + 1.0 H2O\n",
      "\n",
      "1.0 m00708c --> 1.0 m01769c + 1.0 m02040c\n",
      "FLUX : 3.01476855780154 --- ID : HMR_2480 --- compartment : {'C_c'} \n",
      "\n",
      "---\n",
      "\n",
      "\n",
      "1.0 H2O + 1.0 PPi --> 2.0 Pi\n",
      "\n",
      "1.0 m02040c + 1.0 m02759c --> 2.0 m02751c\n",
      "FLUX : 564.118155952988 --- ID : HMR_3977 --- compartment : {'C_c'} \n",
      "\n",
      "---\n",
      "\n",
      "\n",
      "1.0 3(S)-hydroxy-tetracosa-12,15,18,21-all-cis-tetraenoyl-CoA --> 1.0 H2O + 1.0 trans,cis,cis,cis,cis-2,12,15,18,21-tetracosapentaenoyl-CoA\n",
      "\n",
      "1.0 m00716c --> 1.0 m02040c + 1.0 m03003c\n",
      "FLUX : 0.062303555427548646 --- ID : HMR_2526 --- compartment : {'C_c'} \n",
      "\n",
      "---\n",
      "\n",
      "\n",
      "1.0 3(S)-hydroxy-tetracosa-12,15,18,21-all-cis-tetraenoyl-CoA --> 1.0 2-trans-9,12,15,18-all-cis-tetracosapentaenoyl-CoA + 1.0 H2O\n",
      "\n",
      "1.0 m00716c --> 1.0 m00681c + 1.0 m02040c\n",
      "FLUX : 0.1246071108550971 --- ID : HMR_2399 --- compartment : {'C_c'} \n",
      "\n",
      "---\n",
      "\n",
      "\n",
      "1.0 2-trans-9,12,15,18-all-cis-tetracosapentaenoyl-CoA + 1.0 H+ + 1.0 NADPH --> 1.0 (9Z,12Z,15Z,18Z)-tetracosatetraenoyl-CoA + 1.0 NADP+\n",
      "\n",
      "1.0 m00681c + 1.0 m02039c + 1.0 m02555c --> 1.0 m00131c + 1.0 m02554c\n",
      "FLUX : 0.1246071108550971 --- ID : HMR_2401 --- compartment : {'C_c'} \n",
      "\n",
      "---\n",
      "\n",
      "\n",
      "1.0 3-oxo-11cis-docosenoyl-CoA + 1.0 H+ + 1.0 NADPH --> 1.0 3(S)-hydroxy-11-cis-docosenoyl-CoA + 1.0 NADP+\n",
      "\n",
      "1.0 m00839c + 1.0 m02039c + 1.0 m02555c --> 1.0 m00699c + 1.0 m02554c\n",
      "FLUX : 0.06230355542754863 --- ID : HMR_2354 --- compartment : {'C_c'} \n",
      "\n",
      "---\n",
      "\n",
      "\n",
      "1.0 9-eicosenoyl-CoA + 1.0 malonyl-CoA --> 1.0 3-oxo-11cis-docosenoyl-CoA + 1.0 CO2 + 1.0 CoA\n",
      "\n",
      "1.0 m01236c + 1.0 m02444c --> 1.0 m00839c + 1.0 m01596c + 1.0 m01597c\n",
      "FLUX : 0.06230355542754863 --- ID : HMR_2353 --- compartment : {'C_c'} \n",
      "\n",
      "---\n",
      "\n",
      "\n",
      "1.0 9-eicosenoic acid + 1.0 ATP + 1.0 CoA --> 1.0 9-eicosenoyl-CoA + 1.0 AMP + 1.0 PPi\n",
      "\n",
      "1.0 m01235c + 1.0 m01371c + 1.0 m01597c --> 1.0 m01236c + 1.0 m01334c + 1.0 m02759c\n",
      "FLUX : 0.331263823727646 --- ID : HMR_0297 --- compartment : {'C_c'} \n",
      "\n",
      "---\n",
      "\n",
      "\n",
      "1.0 9-eicosenoic acid --> 1.0 9-eicosenoic acid\n",
      "\n",
      "1.0 m01235s --> 1.0 m01235c\n",
      "FLUX : 0.062032195933617765 --- ID : HMR_0296 --- compartment : {'C_c', 'C_s'} \n",
      "\n",
      "---\n",
      "\n",
      "\n",
      "1.0 5-tetradecenoyl-CoA + 1.0 AMP + 1.0 PPi <-- 1.0 ATP + 1.0 CoA + 1.0 physeteric acid\n",
      "\n",
      "1.0 m01141c + 1.0 m01334c + 1.0 m02759c <-- 1.0 m01371c + 1.0 m01597c + 1.0 m02745c\n",
      "FLUX : -0.331263823727646 --- ID : HMR_0209 --- compartment : {'C_c'} \n",
      "\n",
      "---\n",
      "\n",
      "\n",
      "1.0 5-tetradecenoyl-CoA + 1.0 L-carnitine --> 1.0 CoA + 1.0 tetradecenoylcarnitine(9)\n",
      "\n",
      "1.0 m01141c + 1.0 m02348c --> 1.0 m01597c + 1.0 m02976c\n",
      "FLUX : 28.73607020983681 --- ID : HMR_2620 --- compartment : {'C_c'} \n",
      "\n",
      "---\n",
      "\n",
      "\n",
      "1.0 H+ + 1.0 myristoyl-CoA + 1.0 NADPH + 1.0 O2 --> 1.0 5-tetradecenoyl-CoA + 2.0 H2O + 1.0 NADP+\n",
      "\n",
      "1.0 m02039c + 1.0 m02495c + 1.0 m02555c + 1.0 m02630c --> 1.0 m01141c + 2.0 m02040c + 1.0 m02554c\n",
      "FLUX : 28.79837376526438 --- ID : HMR_2284 --- compartment : {'C_c'} \n",
      "\n",
      "---\n",
      "\n",
      "\n",
      "1.0 H+ + 1.0 NADH + 1.0 pyruvate --> 1.0 L-lactate + 1.0 NAD+\n",
      "\n",
      "1.0 m02039c + 1.0 m02553c + 1.0 m02819c --> 1.0 m02403c + 1.0 m02552c\n",
      "FLUX : 200.0 --- ID : HMR_4388 --- compartment : {'C_c'} \n",
      "\n",
      "---\n",
      "\n",
      "\n",
      "2.0 H+ + 2.0 O2- --> 1.0 H2O2 + 1.0 O2\n",
      "\n",
      "2.0 m02039c + 2.0 m02631c --> 1.0 m02041c + 1.0 m02630c\n",
      "FLUX : 267.1359450805978 --- ID : HMR_3960 --- compartment : {'C_c'} \n",
      "\n",
      "---\n",
      "\n",
      "\n",
      "1.0 1,2-diacylglycerol-LD-PC pool + 1.0 CDP-choline + 1.0 H+ --> 1.0 CMP + 1.0 PC-LD pool\n",
      "\n",
      "1.0 m00235c + 1.0 m01425c + 1.0 m02039c --> 1.0 m01590c + 1.0 m02684c\n",
      "FLUX : 296.7446642527515 --- ID : HMR_0625 --- compartment : {'C_c'} \n",
      "\n",
      "---\n",
      "\n",
      "\n",
      "1.0 H2O + 1.0 phosphatidate-LD-PC pool --> 1.0 1,2-diacylglycerol-LD-PC pool + 1.0 Pi\n",
      "\n",
      "1.0 m02040c + 1.0 m02728c --> 1.0 m00235c + 1.0 m02751c\n",
      "FLUX : 296.7446642527514 --- ID : HMR_0597 --- compartment : {'C_c'} \n",
      "\n",
      "---\n",
      "\n",
      "\n",
      "1.0 3(S)-hydroxy-9-cis-eicosenoyl-CoA --> 1.0 H2O + 1.0 trans,cis-2,9-eicosadienoyl-CoA\n",
      "\n",
      "1.0 m00707c --> 1.0 m02040c + 1.0 m03018c\n",
      "FLUX : 0.12460711085509728 --- ID : HMR_2349 --- compartment : {'C_c'} \n",
      "\n",
      "---\n",
      "\n",
      "\n",
      "1.0 3(S)-hydroxy-11-cis-eicosenoyl-CoA --> 1.0 H2O + 1.0 trans,cis-2,11-eicosadienoyl-CoA\n",
      "\n",
      "1.0 m00700c --> 1.0 m02040c + 1.0 m03012c\n",
      "FLUX : 0.06311763390934107 --- ID : HMR_2309 --- compartment : {'C_c'} \n",
      "\n",
      "---\n",
      "\n",
      "\n",
      "1.0 3-oxo-11-cis-eicosenoyl-CoA + 1.0 H+ + 1.0 NADPH --> 1.0 3(S)-hydroxy-11-cis-eicosenoyl-CoA + 1.0 NADP+\n",
      "\n",
      "1.0 m00840c + 1.0 m02039c + 1.0 m02555c --> 1.0 m00700c + 1.0 m02554c\n",
      "FLUX : 0.06311763390934107 --- ID : HMR_2307 --- compartment : {'C_c'} \n",
      "\n",
      "---\n",
      "\n",
      "\n",
      "1.0 malonyl-CoA + 1.0 oleoyl-CoA --> 1.0 3-oxo-11-cis-eicosenoyl-CoA + 1.0 CO2 + 1.0 CoA\n",
      "\n",
      "1.0 m02444c + 1.0 m02647c --> 1.0 m00840c + 1.0 m01596c + 1.0 m01597c\n",
      "FLUX : 0.06311763390934107 --- ID : HMR_2305 --- compartment : {'C_c'} \n",
      "\n",
      "---\n",
      "\n",
      "\n",
      "1.0 acetyl-CoA + 1.0 ATP + 1.0 H+ + 1.0 HCO3- --> 1.0 ADP + 1.0 malonyl-CoA + 1.0 Pi\n",
      "\n",
      "1.0 m01261c + 1.0 m01371c + 1.0 m02039c + 1.0 m02046c --> 1.0 m01285c + 1.0 m02444c + 1.0 m02751c\n",
      "FLUX : 4.388431731640849 --- ID : HMR_4156 --- compartment : {'C_c'} \n",
      "\n",
      "---\n",
      "\n",
      "\n",
      "1.0 acetyl-CoA <-- 1.0 acetyl-CoA\n",
      "\n",
      "1.0 m01261c <-- 1.0 m01261p\n",
      "FLUX : -415.22459265713695 --- ID : HMR_3106 --- compartment : {'C_c', 'C_p'} \n",
      "\n",
      "---\n",
      "\n",
      "\n",
      "1.0 acetoacetyl-CoA + 1.0 acetyl-CoA + 1.0 H2O --> 1.0 CoA + 1.0 HMG-CoA\n",
      "\n",
      "1.0 m01255c + 1.0 m01261c + 1.0 m02040c --> 1.0 m01597c + 1.0 m02131c\n",
      "FLUX : 136.94538697516535 --- ID : HMR_1437 --- compartment : {'C_c'} \n",
      "\n",
      "---\n",
      "\n",
      "\n",
      "1.0 acetoacetyl-CoA + 1.0 CoA <-- 2.0 acetyl-CoA\n",
      "\n",
      "1.0 m01255c + 1.0 m01597c <-- 2.0 m01261c\n",
      "FLUX : -136.94538697516535 --- ID : HMR_1434 --- compartment : {'C_c'} \n",
      "\n",
      "---\n",
      "\n",
      "\n",
      "1.0 CoA + 1.0 L-palmitoylcarnitine --> 1.0 L-carnitine + 1.0 palmitoyl-CoA\n",
      "\n",
      "1.0 m01597c + 1.0 m02411c --> 1.0 m02348c + 1.0 m02678c\n",
      "FLUX : 0.8679080240827873 --- ID : HMR_2626 --- compartment : {'C_c'} \n",
      "\n",
      "---\n",
      "\n",
      "\n",
      "1.0 (6Z,9Z)-octadecadienoyl-CoA + 1.0 sn-glycerol-3-phosphate --> 1.0 1-acylglycerol-3P-6,9-octa + 1.0 CoA\n",
      "\n",
      "1.0 m00106c + 1.0 m02914c --> 1.0 m00458c + 1.0 m01597c\n",
      "FLUX : 0.21619252196834512 --- ID : HMR_0505 --- compartment : {'C_c'} \n",
      "\n",
      "---\n",
      "\n",
      "\n",
      "1.0 (6Z,9Z)-octadecadienoyl-CoA + 1.0 malonyl-CoA --> 1.0 3-oxo-eicosadienoyl-CoA + 1.0 CO2 + 1.0 CoA\n",
      "\n",
      "1.0 m00106c + 1.0 m02444c --> 1.0 m00871c + 1.0 m01596c + 1.0 m01597c\n",
      "FLUX : 0.0623035554275486 --- ID : HMR_2361 --- compartment : {'C_c'} \n",
      "\n",
      "---\n",
      "\n",
      "\n",
      "0.0001 (10Z)-heptadecenoyl-CoA + 0.0001 (11Z)-docosenoyl-CoA + 0.0001 (11Z)-eicosenoyl-CoA + 0.0001 (11Z,14Z)-eicosadienoyl-CoA + 0.0001 (11Z,14Z,17Z)-eicosatrienoyl-CoA + 0.0001 (13Z)-docosenoyl-CoA + 0.0001 (13Z)-eicosenoyl-CoA + 0.0001 (13Z)-octadecenoyl-CoA + 0.0001 (13Z,16Z)-docosadienoyl-CoA + 0.0001 (15Z)-tetracosenoyl-CoA + 0.0016 (4Z,7Z,10Z,13Z,16Z)-docosapentaenoyl-CoA + 0.0081 (4Z,7Z,10Z,13Z,16Z,19Z)-docosahexaenoyl-CoA + 0.0001 (5Z,8Z,11Z)-eicosatrienoyl-CoA + 0.0003 (5Z,8Z,11Z,14Z,17Z)-eicosapentaenoyl-CoA + 0.0001 (6Z,9Z)-octadecadienoyl-CoA + 0.0025 (6Z,9Z,12Z,15Z)-octadecatetraenoyl-CoA + 0.0001 (6Z,9Z,12Z,15Z,18Z)-tetracosapentaenoyl-CoA + 0.0001 (6Z,9Z,12Z,15Z,18Z,21Z)-tetracosahexaenoyl-CoA + 0.0001 (7Z)-octadecenoyl-CoA + 0.0001 (7Z)-tetradecenoyl-CoA + 0.0032 (7Z,10Z,13Z,16Z)-docosatetraenoyl-CoA + 0.0018 (7Z,10Z,13Z,16Z,19Z)-docosapentaenoyl-CoA + 0.0001 (8Z,11Z)-eicosadienoyl-CoA + 0.0001 (8Z,11Z,14Z,17Z)-eicosatetraenoyl-CoA + 0.0001 (9E)-octadecenoyl-CoA + 0.0001 (9E)-tetradecenoyl-CoA + 0.0001 (9Z,12Z,15Z,18Z)-tetracosatetraenoyl-CoA + 0.0001 (9Z,12Z,15Z,18Z,21Z)-tetracosapentaenoyl-CoA + 0.0001 10,13,16,19-docosatetraenoyl-CoA + 0.0001 10,13,16-docosatrienoyl-CoA + 0.0001 12,15,18,21-tetracosatetraenoyl-CoA + 0.0001 13,16,19-docosatrienoyl-CoA + 0.0001 5-tetradecenoyl-CoA + 0.0229 7-hexadecenoyl-CoA + 0.0001 9-eicosenoyl-CoA + 0.0001 9-heptadecenoyl-CoA + 0.0521 arachidonyl-CoA + 0.0217 cis-vaccenoyl-CoA + 0.0023 dihomo-gamma-linolenoyl-CoA + 0.0001 docosanoyl-CoA + 0.0001 eicosanoyl-CoA + 0.003 gamma-linolenoyl-CoA + 0.0001 heneicosanoyl-CoA + 0.0001 heptadecanoyl-CoA + 0.0001 hexacosanoyl-CoA + 0.0001 hexacosenoyl-CoA + 0.0001 lauroyl-CoA + 0.0119 linolenoyl-CoA + 0.281 linoleoyl-CoA + 0.0024 myristoyl-CoA + 0.0001 nonadecanoyl-CoA + 0.4226 oleoyl-CoA + 0.0001 palmitoleoyl-CoA + 0.12 palmitoyl-CoA + 0.0001 pentadecanoyl-CoA + 0.0384 stearoyl-CoA + 0.0001 tetracosanoyl-CoA + 0.0001 tricosanoyl-CoA + 0.0001 tridecanoyl-CoA --> 1.0 acyl-CoA-LD-TG2 pool\n",
      "\n",
      "0.0001 m00004c + 0.0001 m00006c + 0.0001 m00007c + 0.0001 m00009c + 0.0001 m00012c + 0.0001 m00016c + 0.0001 m00018c + 0.0001 m00020c + 0.0001 m00023c + 0.0001 m00025c + 0.0016 m00093c + 0.0081 m00095c + 0.0001 m00101c + 0.0003 m00103c + 0.0001 m00106c + 0.0025 m00108c + 0.0001 m00110c + 0.0001 m00113c + 0.0001 m00116c + 0.0001 m00118c + 0.0032 m00119c + 0.0018 m00121c + 0.0001 m00123c + 0.0001 m00125c + 0.0001 m00127c + 0.0001 m00129c + 0.0001 m00131c + 0.0001 m00134c + 0.0001 m00262c + 0.0001 m00264c + 0.0001 m00317c + 0.0001 m00343c + 0.0001 m01141c + 0.0229 m01191c + 0.0001 m01236c + 0.0001 m01237c + 0.0521 m01364c + 0.0217 m01586c + 0.0023 m01697c + 0.0001 m01725c + 0.0001 m01773c + 0.003 m01934c + 0.0001 m02052c + 0.0001 m02101c + 0.0001 m02110c + 0.0001 m02112c + 0.0001 m02345c + 0.0119 m02390c + 0.281 m02391c + 0.0024 m02495c + 0.0001 m02612c + 0.4226 m02647c + 0.0001 m02677c + 0.12 m02678c + 0.0001 m02689c + 0.0384 m02941c + 0.0001 m02971c + 0.0001 m03047c + 0.0001 m03050c --> 1.0 m01276c\n",
      "FLUX : 34.25119918092755 --- ID : HMR_0546 --- compartment : {'C_c'} \n",
      "\n",
      "---\n",
      "\n",
      "\n",
      "1.0 (10Z)-heptadecenoyl-CoA + 1.0 sn-glycerol-3-phosphate --> 1.0 1-acylglycerol-3P-10-heptade + 1.0 CoA\n",
      "\n",
      "1.0 m00004c + 1.0 m02914c --> 1.0 m00438c + 1.0 m01597c\n",
      "FLUX : 0.21619252196834512 --- ID : HMR_0497 --- compartment : {'C_c'} \n",
      "\n",
      "---\n",
      "\n",
      "\n",
      "1.0 (10Z)-heptadecenoyl-CoA + 1.0 L-carnitine --> 1.0 CoA + 1.0 heptadecenoylcarnitine(7)\n",
      "\n",
      "1.0 m00004c + 1.0 m02348c --> 1.0 m01597c + 1.0 m02102c\n",
      "FLUX : 6.015494848597149 --- ID : HMR_2648 --- compartment : {'C_c'} \n",
      "\n",
      "---\n",
      "\n",
      "\n",
      "1.0 CoA + 1.0 tridecanoylcarnitine --> 1.0 L-carnitine + 1.0 tridecanoyl-CoA\n",
      "\n",
      "1.0 m01597c + 1.0 m03049c --> 1.0 m02348c + 1.0 m03050c\n",
      "FLUX : 0.06230355542754862 --- ID : HMR_2605 --- compartment : {'C_c'} \n",
      "\n",
      "---\n",
      "\n",
      "\n",
      "1.0 (13Z)-octadecenoyl-CoA + 1.0 AMP + 1.0 PPi <-- 1.0 (7Z)-octadecenoic acid + 1.0 ATP + 1.0 CoA\n",
      "\n",
      "1.0 m00020c + 1.0 m01334c + 1.0 m02759c <-- 1.0 m00115c + 1.0 m01371c + 1.0 m01597c\n",
      "FLUX : -0.331263823727646 --- ID : HMR_0271 --- compartment : {'C_c'} \n",
      "\n",
      "---\n",
      "\n",
      "\n",
      "1.0 (13Z)-octadecenoyl-CoA + 1.0 L-carnitine --> 1.0 CoA + 1.0 octadecenoylcarnitine(5)\n",
      "\n",
      "1.0 m00020c + 1.0 m02348c --> 1.0 m01597c + 1.0 m02639c\n",
      "FLUX : 0.2689602683000974 --- ID : HMR_2657 --- compartment : {'C_c'} \n",
      "\n",
      "---\n",
      "\n",
      "\n",
      "1.0 (13Z)-octadecenoic acid + 1.0 ATP + 1.0 CoA --> 1.0 (13Z)-octadecenoyl-CoA + 1.0 AMP + 1.0 PPi\n",
      "\n",
      "1.0 m00019c + 1.0 m01371c + 1.0 m01597c --> 1.0 m00020c + 1.0 m01334c + 1.0 m02759c\n",
      "FLUX : 0.33126382372764607 --- ID : HMR_0255 --- compartment : {'C_c'} \n",
      "\n",
      "---\n",
      "\n",
      "\n",
      "1.0 (13Z)-octadecenoic acid --> 1.0 (13Z)-octadecenoic acid\n",
      "\n",
      "1.0 m00019s --> 1.0 m00019c\n",
      "FLUX : 0.062032195933617765 --- ID : HMR_0254 --- compartment : {'C_c', 'C_s'} \n",
      "\n",
      "---\n",
      "\n",
      "\n",
      "1.0 arachidonyl-CoA + 1.0 ATP + 1.0 H2O --> 1.0 ADP + 1.0 arachidonyl-CoA + 1.0 Pi\n",
      "\n",
      "1.0 m01364c + 1.0 m01371c + 1.0 m02040c --> 1.0 m01285c + 1.0 m01364p + 1.0 m02751c\n",
      "FLUX : 68.56368597493993 --- ID : HMR_3014 --- compartment : {'C_c', 'C_p'} \n",
      "\n",
      "---\n",
      "\n",
      "\n",
      "1.0 arachidonyl-CoA + 1.0 sn-glycerol-3-phosphate --> 1.0 1-acylglycerol-3P-arach + 1.0 CoA\n",
      "\n",
      "1.0 m01364c + 1.0 m02914c --> 1.0 m00472c + 1.0 m01597c\n",
      "FLUX : 27.15115696870929 --- ID : HMR_0537 --- compartment : {'C_c'} \n",
      "\n",
      "---\n",
      "\n",
      "\n",
      "1.0 AMP + 1.0 arachidonyl-CoA + 1.0 PPi <-- 1.0 arachidonate + 1.0 ATP + 1.0 CoA\n",
      "\n",
      "1.0 m01334c + 1.0 m01364c + 1.0 m02759c <-- 1.0 m01362c + 1.0 m01371c + 1.0 m01597c\n",
      "FLUX : -122.92185265536764 --- ID : HMR_0409 --- compartment : {'C_c'} \n",
      "\n",
      "---\n",
      "\n",
      "\n",
      "1.0 AMP + 1.0 PPi + 1.0 propanoyl-CoA --> 1.0 ATP + 1.0 CoA + 1.0 propanoate\n",
      "\n",
      "1.0 m01334c + 1.0 m02759c + 1.0 m02774c --> 1.0 m01371c + 1.0 m01597c + 1.0 m02772c\n",
      "FLUX : 1000.0 --- ID : HMR_0153 --- compartment : {'C_c'} \n",
      "\n",
      "---\n",
      "\n",
      "\n",
      "1.0 AMP + 1.0 dihomo-gamma-linolenoyl-CoA + 1.0 PPi <-- 1.0 ATP + 1.0 CoA + 1.0 dihomo-gamma-linolenate\n",
      "\n",
      "1.0 m01334c + 1.0 m01697c + 1.0 m02759c <-- 1.0 m01371c + 1.0 m01597c + 1.0 m01696c\n",
      "FLUX : -23.681644703009567 --- ID : HMR_0405 --- compartment : {'C_c'} \n",
      "\n",
      "---\n",
      "\n",
      "\n",
      "1.0 9-heptadecenoyl-CoA + 1.0 AMP + 1.0 PPi <-- 1.0 9-heptadecylenic acid + 1.0 ATP + 1.0 CoA\n",
      "\n",
      "1.0 m01237c + 1.0 m01334c + 1.0 m02759c <-- 1.0 m01238c + 1.0 m01371c + 1.0 m01597c\n",
      "FLUX : -0.33126382372764607 --- ID : HMR_0245 --- compartment : {'C_c'} \n",
      "\n",
      "---\n",
      "\n",
      "\n",
      "1.0 9-heptadecenoyl-CoA + 1.0 sn-glycerol-3-phosphate --> 1.0 1-acylglycerol-3P-9-heptade + 1.0 CoA\n",
      "\n",
      "1.0 m01237c + 1.0 m02914c --> 1.0 m00469c + 1.0 m01597c\n",
      "FLUX : 0.21619252196834512 --- ID : HMR_0498 --- compartment : {'C_c'} \n",
      "\n",
      "---\n",
      "\n",
      "\n",
      "1.0 H+ + 1.0 heptadecanoyl-CoA + 1.0 NADPH + 1.0 O2 --> 1.0 9-heptadecenoyl-CoA + 2.0 H2O + 1.0 NADP+\n",
      "\n",
      "1.0 m02039c + 1.0 m02101c + 1.0 m02555c + 1.0 m02630c --> 1.0 m01237c + 2.0 m02040c + 1.0 m02554c\n",
      "FLUX : 0.06230355542754859 --- ID : HMR_2289 --- compartment : {'C_c'} \n",
      "\n",
      "---\n",
      "\n",
      "\n",
      "1.0 H+ + 1.0 NADPH + 1.0 trans,cis-2,11-eicosadienoyl-CoA --> 1.0 (11Z)-eicosenoyl-CoA + 1.0 NADP+\n",
      "\n",
      "1.0 m02039c + 1.0 m02555c + 1.0 m03012c --> 1.0 m00007c + 1.0 m02554c\n",
      "FLUX : 0.06311763390934107 --- ID : HMR_2311 --- compartment : {'C_c'} \n",
      "\n",
      "---\n",
      "\n",
      "\n",
      "1.0 3-oxo-13cis-docosenoyl-CoA + 1.0 H+ + 1.0 NADPH --> 1.0 3(S)-hydroxy-13-cis-docosenoyl-CoA + 1.0 NADP+\n",
      "\n",
      "1.0 m00842c + 1.0 m02039c + 1.0 m02555c --> 1.0 m00701c + 1.0 m02554c\n",
      "FLUX : 0.0008140784817925 --- ID : HMR_2317 --- compartment : {'C_c'} \n",
      "\n",
      "---\n",
      "\n",
      "\n",
      "1.0 (11Z)-eicosenoyl-CoA + 1.0 malonyl-CoA --> 1.0 3-oxo-13cis-docosenoyl-CoA + 1.0 CO2 + 1.0 CoA\n",
      "\n",
      "1.0 m00007c + 1.0 m02444c --> 1.0 m00842c + 1.0 m01596c + 1.0 m01597c\n",
      "FLUX : 0.0008140784817924999 --- ID : HMR_2315 --- compartment : {'C_c'} \n",
      "\n",
      "---\n",
      "\n",
      "\n",
      "1.0 (11Z)-eicosenoyl-CoA + 1.0 AMP + 1.0 PPi <-- 1.0 ATP + 1.0 cis-gondoic acid + 1.0 CoA\n",
      "\n",
      "1.0 m00007c + 1.0 m01334c + 1.0 m02759c <-- 1.0 m01371c + 1.0 m01584c + 1.0 m01597c\n",
      "FLUX : -0.331263823727646 --- ID : HMR_0293 --- compartment : {'C_c'} \n",
      "\n",
      "---\n",
      "\n",
      "\n",
      "1.0 (11Z)-eicosenoyl-CoA + 1.0 sn-glycerol-3-phosphate --> 1.0 1-acylglycerol-3P-11-eico + 1.0 CoA\n",
      "\n",
      "1.0 m00007c + 1.0 m02914c --> 1.0 m00442c + 1.0 m01597c\n",
      "FLUX : 0.21619252196834512 --- ID : HMR_0509 --- compartment : {'C_c'} \n",
      "\n",
      "---\n",
      "\n",
      "\n",
      "1.0 (4Z,7Z,10Z,13Z,16Z)-docosapentaenoyl-CoA + 1.0 sn-glycerol-3-phosphate --> 1.0 1-acylglycerol-3P-4,7,10,13,16-docosa + 1.0 CoA\n",
      "\n",
      "1.0 m00093c + 1.0 m02914c --> 1.0 m00451c + 1.0 m01597c\n",
      "FLUX : 1.5477938501443 --- ID : HMR_0541 --- compartment : {'C_c'} \n",
      "\n",
      "---\n",
      "\n",
      "\n",
      "1.0 (7Z,10Z,13Z,16Z)-docosatetraenoyl-CoA + 1.0 H+ + 1.0 NADPH + 1.0 O2 --> 1.0 (4Z,7Z,10Z,13Z,16Z)-docosapentaenoyl-CoA + 2.0 H2O + 1.0 NADP+\n",
      "\n",
      "1.0 m00119c + 1.0 m02039c + 1.0 m02555c + 1.0 m02630c --> 1.0 m00093c + 2.0 m02040c + 1.0 m02554c\n",
      "FLUX : 0.33381823327228716 --- ID : HMR_2393 --- compartment : {'C_c'} \n",
      "\n",
      "---\n",
      "\n",
      "\n",
      "1.0 (7Z,10Z,13Z,16Z)-docosatetraenoyl-CoA + 1.0 sn-glycerol-3-phosphate --> 1.0 1-acylglycerol-3P-7,10,13,16-docosa + 1.0 CoA\n",
      "\n",
      "1.0 m00119c + 1.0 m02914c --> 1.0 m00460c + 1.0 m01597c\n",
      "FLUX : 0.4647385323908497 --- ID : HMR_0538 --- compartment : {'C_c'} \n",
      "\n",
      "---\n",
      "\n",
      "\n",
      "1.0 (7Z,10Z,13Z,16Z)-docosatetraenoyl-CoA + 1.0 AMP + 1.0 PPi <-- 1.0 adrenic acid + 1.0 ATP + 1.0 CoA\n",
      "\n",
      "1.0 m00119c + 1.0 m01334c + 1.0 m02759c <-- 1.0 m01291c + 1.0 m01371c + 1.0 m01597c\n",
      "FLUX : -1.4314716097831413 --- ID : HMR_0413 --- compartment : {'C_c'} \n",
      "\n",
      "---\n",
      "\n",
      "\n",
      "1.0 (8Z,11Z,14Z,17Z)-eicosatetraenoyl-CoA + 1.0 AMP + 1.0 PPi <-- 1.0 ATP + 1.0 CoA + 1.0 omega-3-arachidonic acid\n",
      "\n",
      "1.0 m00125c + 1.0 m01334c + 1.0 m02759c <-- 1.0 m01371c + 1.0 m01597c + 1.0 m02648c\n",
      "FLUX : -8.838983262018939 --- ID : HMR_0357 --- compartment : {'C_c'} \n",
      "\n",
      "---\n",
      "\n",
      "\n",
      "1.0 (8Z,11Z,14Z,17Z)-eicosatetraenoyl-CoA + 1.0 malonyl-CoA --> 1.0 3-oxo-docosa-10,13,16,19-all-cis-tetraenoyl-CoA + 1.0 CO2 + 1.0 CoA\n",
      "\n",
      "1.0 m00125c + 1.0 m02444c --> 1.0 m00861c + 1.0 m01596c + 1.0 m01597c\n",
      "FLUX : 0.24921422171019444 --- ID : HMR_2515 --- compartment : {'C_c'} \n",
      "\n",
      "---\n",
      "\n",
      "\n",
      "1.0 (8Z,11Z,14Z,17Z)-eicosatetraenoyl-CoA + 1.0 sn-glycerol-3-phosphate --> 1.0 1-acylglycerol-3P-8,11,14,17-eico + 1.0 CoA\n",
      "\n",
      "1.0 m00125c + 1.0 m02914c --> 1.0 m00464c + 1.0 m01597c\n",
      "FLUX : 5.82167763144589 --- ID : HMR_0524 --- compartment : {'C_c'} \n",
      "\n",
      "---\n",
      "\n",
      "\n",
      "1.0 sn-glycerol-3-phosphate + 1.0 tridecanoyl-CoA --> 1.0 1-acylglycerol-3P-tridec + 1.0 CoA\n",
      "\n",
      "1.0 m02914c + 1.0 m03050c --> 1.0 m00502c + 1.0 m01597c\n",
      "FLUX : 0.21619252196834512 --- ID : HMR_0487 --- compartment : {'C_c'} \n",
      "\n",
      "---\n",
      "\n",
      "\n",
      "1.0 myristoyl-CoA + 1.0 sn-glycerol-3-phosphate --> 1.0 1-acylglycerol-3P-myrist + 1.0 CoA\n",
      "\n",
      "1.0 m02495c + 1.0 m02914c --> 1.0 m00493c + 1.0 m01597c\n",
      "FLUX : 2.0527102133387407 --- ID : HMR_0488 --- compartment : {'C_c'} \n",
      "\n",
      "---\n",
      "\n",
      "\n",
      "1.0 H+ + 1.0 myristoyl-CoA + 1.0 NADPH + 1.0 O2 --> 1.0 (7Z)-tetradecenoyl-CoA + 2.0 H2O + 1.0 NADP+\n",
      "\n",
      "1.0 m02039c + 1.0 m02495c + 1.0 m02555c + 1.0 m02630c --> 1.0 m00118c + 2.0 m02040c + 1.0 m02554c\n",
      "FLUX : 0.06230355542754859 --- ID : HMR_2282 --- compartment : {'C_c'} \n",
      "\n",
      "---\n",
      "\n",
      "\n",
      "1.0 H+ + 1.0 NADPH + 1.0 trans,cis,cis,cis-2,10,13,16-docosatetraenoyl-CoA --> 1.0 10,13,16-docosatrienoyl-CoA + 1.0 NADP+\n",
      "\n",
      "1.0 m02039c + 1.0 m02555c + 1.0 m03004c --> 1.0 m00264c + 1.0 m02554c\n",
      "FLUX : 0.06230355542754863 --- ID : HMR_2421 --- compartment : {'C_c'} \n",
      "\n",
      "---\n",
      "\n",
      "\n",
      "1.0 2-oxobutyrate + 1.0 CoA + 1.0 NAD+ --> 1.0 CO2 + 1.0 H+ + 1.0 NADH + 1.0 propanoyl-CoA\n",
      "\n",
      "1.0 m00671c + 1.0 m01597c + 1.0 m02552c --> 1.0 m01596c + 1.0 m02039c + 1.0 m02553c + 1.0 m02774c\n",
      "FLUX : 797.7900109763269 --- ID : HMR_8442 --- compartment : {'C_c'} \n",
      "\n",
      "---\n",
      "\n",
      "\n",
      "1.0 2-hydroxybutyrate + 1.0 NAD+ --> 1.0 2-oxobutyrate + 1.0 H+ + 1.0 NADH\n",
      "\n",
      "1.0 m00648c + 1.0 m02552c --> 1.0 m00671c + 1.0 m02039c + 1.0 m02553c\n",
      "FLUX : 797.7900109763268 --- ID : HMR_5351 --- compartment : {'C_c'} \n",
      "\n",
      "---\n",
      "\n",
      "\n",
      "1.0 2-hydroxybutyrate + 1.0 L-lactate <-- 1.0 2-hydroxybutyrate + 1.0 L-lactate\n",
      "\n",
      "1.0 m00648c + 1.0 m02403s <-- 1.0 m00648s + 1.0 m02403c\n",
      "FLUX : -797.7900109763268 --- ID : HMR_6011 --- compartment : {'C_c', 'C_s'} \n",
      "\n",
      "---\n",
      "\n",
      "\n",
      "1.0 L-lactate <-- 1.0 L-lactate\n",
      "\n",
      "1.0 m02403x <-- 1.0 m02403s\n",
      "FLUX : -677.7596969734834 --- ID : HMR_9135 --- compartment : {'C_s', 'C_x'} \n",
      "\n",
      "---\n",
      "\n",
      "\n",
      "1.0 L-lactate <-- \n",
      "\n",
      "1.0 m02403x <-- \n",
      "FLUX : 677.7596969734834 --- ID : EX_m02403x --- compartment : {'C_x'} \n",
      "\n",
      "---\n",
      "\n",
      "\n",
      "1.0 AKG + 1.0 L-lactate <-- 1.0 AKG + 1.0 L-lactate\n",
      "\n",
      "1.0 m01306c + 1.0 m02403s <-- 1.0 m01306s + 1.0 m02403c\n",
      "FLUX : -232.7998371325616 --- ID : HMR_6026 --- compartment : {'C_c', 'C_s'} \n",
      "\n",
      "---\n",
      "\n",
      "\n",
      "1.0 AKG + 1.0 L-2-aminoadipate --> 1.0 AKG + 1.0 L-2-aminoadipate\n",
      "\n",
      "1.0 m01306c + 1.0 m02322m --> 1.0 m01306m + 1.0 m02322c\n",
      "FLUX : 1000.0 --- ID : HMR_8022 --- compartment : {'C_c', 'C_m'} \n",
      "\n",
      "---\n",
      "\n",
      "\n",
      "1.0 AKG + 1.0 alanine <-- 1.0 glutamate + 1.0 pyruvate\n",
      "\n",
      "1.0 m01306c + 1.0 m01307c <-- 1.0 m01974c + 1.0 m02819c\n",
      "FLUX : -432.32058334467393 --- ID : HMR_3899 --- compartment : {'C_c'} \n",
      "\n",
      "---\n",
      "\n",
      "\n",
      "1.0 AKG + 1.0 Pi <-- 1.0 AKG + 1.0 Pi\n",
      "\n",
      "1.0 m01306c + 1.0 m02751m <-- 1.0 m01306m + 1.0 m02751c\n",
      "FLUX : -334.8795795227644 --- ID : HMR_6330 --- compartment : {'C_c', 'C_m'} \n",
      "\n",
      "---\n",
      "\n",
      "\n",
      "1.0 2-oxoadipate + 1.0 glutamate <-- 1.0 AKG + 1.0 L-2-aminoadipate\n",
      "\n",
      "1.0 m00670c + 1.0 m01974c <-- 1.0 m01306c + 1.0 m02322c\n",
      "FLUX : -1000.0 --- ID : HMR_4596 --- compartment : {'C_c'} \n",
      "\n",
      "---\n",
      "\n",
      "\n",
      "1.0 2-oxoadipate + 1.0 AKG --> 1.0 2-oxoadipate + 1.0 AKG\n",
      "\n",
      "1.0 m00670c + 1.0 m01306m --> 1.0 m00670m + 1.0 m01306c\n",
      "FLUX : 1000.0 --- ID : HMR_4237 --- compartment : {'C_c', 'C_m'} \n",
      "\n",
      "---\n",
      "\n",
      "\n",
      "1.0 AKG + 1.0 L-erythro-4-hydroxyglutamate --> 1.0 4-hydroxy-2-oxoglutarate + 1.0 glutamate\n",
      "\n",
      "1.0 m01306m + 1.0 m02358m --> 1.0 m00989m + 1.0 m01974m\n",
      "FLUX : 110.08028031815718 --- ID : HMR_4786 --- compartment : {'C_m'} \n",
      "\n",
      "---\n",
      "\n",
      "\n",
      "1.0 AKG + 1.0 O2 + 1.0 proline --> 1.0 CO2 + 1.0 succinate + 1.0 trans-4-hydroxy-L-proline\n",
      "\n",
      "1.0 m01306m + 1.0 m02630m + 1.0 m02770m --> 1.0 m01596m + 1.0 m02943m + 1.0 m03037m\n",
      "FLUX : 110.0802803181572 --- ID : HMR_4777 --- compartment : {'C_m'} \n",
      "\n",
      "---\n",
      "\n",
      "\n",
      "1.0 AKG + 1.0 H+ + 1.0 lysine + 1.0 NADPH <-- 1.0 H2O + 1.0 NADP+ + 1.0 saccharopine\n",
      "\n",
      "1.0 m01306m + 1.0 m02039m + 1.0 m02426m + 1.0 m02555m <-- 1.0 m02040m + 1.0 m02554m + 1.0 m02868m\n",
      "FLUX : -1.6391394465183915e-13 --- ID : HMR_4288 --- compartment : {'C_m'} \n",
      "\n",
      "---\n",
      "\n",
      "\n",
      "1.0 2-oxoadipate + 1.0 glutamate --> 1.0 AKG + 1.0 L-2-aminoadipate\n",
      "\n",
      "1.0 m00670m + 1.0 m01974m --> 1.0 m01306m + 1.0 m02322m\n",
      "FLUX : 1000.0000000000001 --- ID : HMR_4597 --- compartment : {'C_m'} \n",
      "\n",
      "---\n",
      "\n",
      "\n",
      "1.0 aspartate + 1.0 glutamate + 1.0 H+ --> 1.0 aspartate + 1.0 glutamate + 1.0 H+\n",
      "\n",
      "1.0 m01370m + 1.0 m01974c + 1.0 m02039c --> 1.0 m01370c + 1.0 m01974m + 1.0 m02039m\n",
      "FLUX : 27.071766662130518 --- ID : HMR_3825 --- compartment : {'C_c', 'C_m'} \n",
      "\n",
      "---\n",
      "\n",
      "\n",
      "1.0 AKG + 1.0 aspartate <-- 1.0 glutamate + 1.0 OAA\n",
      "\n",
      "1.0 m01306m + 1.0 m01370m <-- 1.0 m01974m + 1.0 m02633m\n",
      "FLUX : -3.755225541948912e-14 --- ID : HMR_3827 --- compartment : {'C_m'} \n",
      "\n",
      "---\n",
      "\n",
      "\n",
      "1.0 AKG + 1.0 H+ + 1.0 NADH + 1.0 NH3 --> 1.0 glutamate + 1.0 H2O + 1.0 NAD+\n",
      "\n",
      "1.0 m01306m + 1.0 m02039m + 1.0 m02553m + 1.0 m02578m --> 1.0 m01974m + 1.0 m02040m + 1.0 m02552m\n",
      "FLUX : 247.63819151592566 --- ID : HMR_3802 --- compartment : {'C_m'} \n",
      "\n",
      "---\n",
      "\n",
      "\n",
      "1.0 AKG + 1.0 ornithine --> 1.0 glutamate + 1.0 L-glutamate 5-semialdehyde\n",
      "\n",
      "1.0 m01306m + 1.0 m02658m --> 1.0 m01974m + 1.0 m02374m\n",
      "FLUX : 307.4019486431531 --- ID : HMR_3807 --- compartment : {'C_m'} \n",
      "\n",
      "---\n",
      "\n",
      "\n",
      "1.0 AKG + 1.0 alanine <-- 1.0 glutamate + 1.0 pyruvate\n",
      "\n",
      "1.0 m01306m + 1.0 m01307m <-- 1.0 m01974m + 1.0 m02819m\n",
      "FLUX : -110.08028031815721 --- ID : HMR_4109 --- compartment : {'C_m'} \n",
      "\n",
      "---\n",
      "\n",
      "\n",
      "1.0 alanine + 1.0 glyoxalate --> 1.0 glycine + 1.0 pyruvate\n",
      "\n",
      "1.0 m01307m + 1.0 m02007m --> 1.0 m01986m + 1.0 m02819m\n",
      "FLUX : 110.08028031815718 --- ID : HMR_4788 --- compartment : {'C_m'} \n",
      "\n",
      "---\n",
      "\n",
      "\n",
      "1.0 4-hydroxy-2-oxoglutarate --> 1.0 glyoxalate + 1.0 pyruvate\n",
      "\n",
      "1.0 m00989m --> 1.0 m02007m + 1.0 m02819m\n",
      "FLUX : 110.08028031815718 --- ID : HMR_4787 --- compartment : {'C_m'} \n",
      "\n",
      "---\n",
      "\n",
      "\n",
      "1.0 H+ + 1.0 NADH + 1.0 pyruvate --> 1.0 L-lactate + 1.0 NAD+\n",
      "\n",
      "1.0 m02039m + 1.0 m02553m + 1.0 m02819m --> 1.0 m02403m + 1.0 m02552m\n",
      "FLUX : 110.08028031815716 --- ID : HMR_4280 --- compartment : {'C_m'} \n",
      "\n",
      "---\n",
      "\n",
      "\n",
      "1.0 3(S)-hydroxy-(5Z,8Z)-tetradecadienoyl-CoA + 1.0 NAD+ --> 1.0 3-oxo-cis,cis-5,8-tetradecadienoyl-CoA + 1.0 H+ + 1.0 NADH\n",
      "\n",
      "1.0 m00696m + 1.0 m02552m --> 1.0 m00854m + 1.0 m02039m + 1.0 m02553m\n",
      "FLUX : 0.5949392648305101 --- ID : HMR_3286 --- compartment : {'C_m'} \n",
      "\n",
      "---\n",
      "\n",
      "\n",
      "1.0 H2O + 1.0 trans-2-cis,cis-5,8-tetradecatrienoyl-CoA --> 1.0 3(S)-hydroxy-(5Z,8Z)-tetradecadienoyl-CoA\n",
      "\n",
      "1.0 m02040m + 1.0 m03030m --> 1.0 m00696m\n",
      "FLUX : 0.5949392648305101 --- ID : HMR_3285 --- compartment : {'C_m'} \n",
      "\n",
      "---\n",
      "\n",
      "\n",
      "1.0 (4Z,7Z,10Z,13Z,16Z,19Z)-docosahexaenoyl-CoA + 10.0 CoA + 4.0 FAD + 10.0 H2O + 10.0 NAD+ --> 11.0 acetyl-CoA + 4.0 FADH2 + 10.0 H+ + 10.0 NADH\n",
      "\n",
      "1.0 m00095m + 10.0 m01597m + 4.0 m01802m + 10.0 m02040m + 10.0 m02552m --> 11.0 m01261m + 4.0 m01803m + 10.0 m02039m + 10.0 m02553m\n",
      "FLUX : 7.630054049787797 --- ID : HMR_3430 --- compartment : {'C_m'} \n",
      "\n",
      "---\n",
      "\n",
      "\n",
      "1.0 (4Z,7Z,10Z,13Z,16Z,19Z)-docosahexaenoyl-CoA + 1.0 L-carnitine <-- 1.0 CoA + 1.0 docosahexaenoylcarnitine\n",
      "\n",
      "1.0 m00095m + 1.0 m02348m <-- 1.0 m01597m + 1.0 m01723m\n",
      "FLUX : -7.630054049787797 --- ID : HMR_2732 --- compartment : {'C_m'} \n",
      "\n",
      "---\n",
      "\n",
      "\n",
      "1.0 (13Z)-octadecenoyl-CoA + 1.0 L-carnitine <-- 1.0 CoA + 1.0 octadecenoylcarnitine(5)\n",
      "\n",
      "1.0 m00020m + 1.0 m02348m <-- 1.0 m01597m + 1.0 m02639m\n",
      "FLUX : -0.26896026830009745 --- ID : HMR_2659 --- compartment : {'C_m'} \n",
      "\n",
      "---\n",
      "\n",
      "\n",
      "1.0 (13Z)-octadecenoyl-CoA + 8.0 CoA + 7.0 FAD + 8.0 H2O + 8.0 NAD+ --> 9.0 acetyl-CoA + 7.0 FADH2 + 8.0 H+ + 8.0 NADH\n",
      "\n",
      "1.0 m00020m + 8.0 m01597m + 7.0 m01802m + 8.0 m02040m + 8.0 m02552m --> 9.0 m01261m + 7.0 m01803m + 8.0 m02039m + 8.0 m02553m\n",
      "FLUX : 0.2689602683000974 --- ID : HMR_3406 --- compartment : {'C_m'} \n",
      "\n",
      "---\n",
      "\n",
      "\n",
      "1.0 3-oxopentanoyl-CoA + 1.0 CoA --> 1.0 acetyl-CoA + 1.0 propanoyl-CoA\n",
      "\n",
      "1.0 m00899m + 1.0 m01597m --> 1.0 m01261m + 1.0 m02774m\n",
      "FLUX : 1.6743265712198179 --- ID : HMR_3205 --- compartment : {'C_m'} \n",
      "\n",
      "---\n",
      "\n",
      "\n",
      "1.0 3-hydroxypentanoyl-CoA + 1.0 NAD+ --> 1.0 3-oxopentanoyl-CoA + 1.0 H+ + 1.0 NADH\n",
      "\n",
      "1.0 m00797m + 1.0 m02552m --> 1.0 m00899m + 1.0 m02039m + 1.0 m02553m\n",
      "FLUX : 1.6743265712198179 --- ID : HMR_3204 --- compartment : {'C_m'} \n",
      "\n",
      "---\n",
      "\n",
      "\n",
      "1.0 (2E)-pentenoyl-CoA + 1.0 H2O --> 1.0 3-hydroxypentanoyl-CoA\n",
      "\n",
      "1.0 m00063m + 1.0 m02040m --> 1.0 m00797m\n",
      "FLUX : 1.6743265712198176 --- ID : HMR_3203 --- compartment : {'C_m'} \n",
      "\n",
      "---\n",
      "\n",
      "\n",
      "1.0 FAD + 1.0 pentanoyl-CoA --> 1.0 (2E)-pentenoyl-CoA + 1.0 FADH2\n",
      "\n",
      "1.0 m01802m + 1.0 m02694m --> 1.0 m00063m + 1.0 m01803m\n",
      "FLUX : 1.6743265712198179 --- ID : HMR_3202 --- compartment : {'C_m'} \n",
      "\n",
      "---\n",
      "\n",
      "\n",
      "1.0 cis,cis-myristo-5,8-dienoyl-CoA + 1.0 FAD --> 1.0 FADH2 + 1.0 trans-2-cis,cis-5,8-tetradecatrienoyl-CoA\n",
      "\n",
      "1.0 m01576m + 1.0 m01802m --> 1.0 m01803m + 1.0 m03030m\n",
      "FLUX : 0.5949392648305101 --- ID : HMR_3284 --- compartment : {'C_m'} \n",
      "\n",
      "---\n",
      "\n",
      "\n",
      "1.0 3-oxo-cis,cis-7,10-hexadecadienoyl-CoA + 1.0 CoA --> 1.0 acetyl-CoA + 1.0 cis,cis-myristo-5,8-dienoyl-CoA\n",
      "\n",
      "1.0 m00855m + 1.0 m01597m --> 1.0 m01261m + 1.0 m01576m\n",
      "FLUX : 0.5949392648305101 --- ID : HMR_3283 --- compartment : {'C_m'} \n",
      "\n",
      "---\n",
      "\n",
      "\n",
      "1.0 (3S)-3-hydroxy-cis,cis-palmito-7,10-dienoyl-CoA + 1.0 NAD+ --> 1.0 3-oxo-cis,cis-7,10-hexadecadienoyl-CoA + 1.0 H+ + 1.0 NADH\n",
      "\n",
      "1.0 m00081m + 1.0 m02552m --> 1.0 m00855m + 1.0 m02039m + 1.0 m02553m\n",
      "FLUX : 0.59493926483051 --- ID : HMR_3282 --- compartment : {'C_m'} \n",
      "\n",
      "---\n",
      "\n",
      "\n",
      "1.0 H2O + 1.0 trans,cis,cis-2,7,10-hexadecatrienoyl-CoA --> 1.0 (3S)-3-hydroxy-cis,cis-palmito-7,10-dienoyl-CoA\n",
      "\n",
      "1.0 m02040m + 1.0 m03009m --> 1.0 m00081m\n",
      "FLUX : 0.59493926483051 --- ID : HMR_3281 --- compartment : {'C_m'} \n",
      "\n",
      "---\n",
      "\n",
      "\n",
      "1.0 (2E)-eicosenoyl-CoA + 1.0 H2O --> 1.0 3-hydroxyeicosanoyl-CoA\n",
      "\n",
      "1.0 m00043m + 1.0 m02040m --> 1.0 m00777m\n",
      "FLUX : 0.867908024082787 --- ID : HMR_3112 --- compartment : {'C_m'} \n",
      "\n",
      "---\n",
      "\n",
      "\n",
      "1.0 eicosanoyl-CoA + 1.0 FAD --> 1.0 (2E)-eicosenoyl-CoA + 1.0 FADH2\n",
      "\n",
      "1.0 m01773m + 1.0 m01802m --> 1.0 m00043m + 1.0 m01803m\n",
      "FLUX : 0.8679080240827869 --- ID : HMR_3111 --- compartment : {'C_m'} \n",
      "\n",
      "---\n",
      "\n",
      "\n",
      "1.0 CoA + 1.0 eicosanoylcarnitine --> 1.0 eicosanoyl-CoA + 1.0 L-carnitine\n",
      "\n",
      "1.0 m01597m + 1.0 m01772m --> 1.0 m01773m + 1.0 m02348m\n",
      "FLUX : 0.558018403908629 --- ID : HMR_2680 --- compartment : {'C_m'} \n",
      "\n",
      "---\n",
      "\n",
      "\n",
      "1.0 CoA <-- 1.0 CoA\n",
      "\n",
      "1.0 m01597c <-- 1.0 m01597m\n",
      "FLUX : -245.23245362368823 --- ID : HMR_4914 --- compartment : {'C_c', 'C_m'} \n",
      "\n",
      "---\n",
      "\n",
      "\n",
      "1.0 (7Z,10Z,13Z,16Z,19Z)-docosapentaenoyl-CoA + 1.0 sn-glycerol-3-phosphate --> 1.0 1-acylglycerol-3P-7,10,13,16,19-docosa + 1.0 CoA\n",
      "\n",
      "1.0 m00121c + 1.0 m02914c --> 1.0 m00459c + 1.0 m01597c\n",
      "FLUX : 1.9898950919497609 --- ID : HMR_0526 --- compartment : {'C_c'} \n",
      "\n",
      "---\n",
      "\n",
      "\n",
      "1.0 (7Z,10Z,13Z,16Z,19Z)-docosapentaenoyl-CoA + 1.0 AMP + 1.0 PPi <-- 1.0 ATP + 1.0 CoA + 1.0 DPA\n",
      "\n",
      "1.0 m00121c + 1.0 m01334c + 1.0 m02759c <-- 1.0 m01371c + 1.0 m01597c + 1.0 m01741c\n",
      "FLUX : -4.786315535178717 --- ID : HMR_0365 --- compartment : {'C_c'} \n",
      "\n",
      "---\n",
      "\n",
      "\n",
      "1.0 (7Z,10Z,13Z,16Z,19Z)-docosapentaenoyl-CoA + 1.0 malonyl-CoA --> 1.0 3-oxo-tetracosa-9,12,15,18,21-all-cis-pentaenoyl-CoA + 1.0 CO2 + 1.0 CoA\n",
      "\n",
      "1.0 m00121c + 1.0 m02444c --> 1.0 m00902c + 1.0 m01596c + 1.0 m01597c\n",
      "FLUX : 0.12460711085509728 --- ID : HMR_2497 --- compartment : {'C_c'} \n",
      "\n",
      "---\n",
      "\n",
      "\n",
      "1.0 (7Z,10Z,13Z,16Z,19Z)-docosapentaenoyl-CoA + 1.0 L-carnitine --> 1.0 (7Z,10Z,13Z,16Z,19Z)-docosapentaenoylcarnitine + 1.0 CoA\n",
      "\n",
      "1.0 m00121c + 1.0 m02348c --> 1.0 m00120c + 1.0 m01597c\n",
      "FLUX : 0.0553432838997495 --- ID : HMR_2726 --- compartment : {'C_c'} \n",
      "\n",
      "---\n",
      "\n",
      "\n",
      "1.0 L-carnitine + 1.0 octadecenoylcarnitine(7) <-- 1.0 L-carnitine + 1.0 octadecenoylcarnitine(7)\n",
      "\n",
      "1.0 m02348c + 1.0 m02640m <-- 1.0 m02348m + 1.0 m02640c\n",
      "FLUX : -49.92537552561353 --- ID : HMR_2661 --- compartment : {'C_c', 'C_m'} \n",
      "\n",
      "---\n",
      "\n",
      "\n",
      "1.0 (5Z,8Z,11Z,14Z,17Z)-eicosapentaenoylcarnitine + 1.0 L-carnitine --> 1.0 (5Z,8Z,11Z,14Z,17Z)-eicosapentaenoylcarnitine + 1.0 L-carnitine\n",
      "\n",
      "1.0 m00102c + 1.0 m02348m --> 1.0 m00102m + 1.0 m02348c\n",
      "FLUX : 5.4656475450991655 --- ID : HMR_2722 --- compartment : {'C_c', 'C_m'} \n",
      "\n",
      "---\n",
      "\n",
      "\n",
      "1.0 (5Z,8Z,11Z,14Z,17Z)-eicosapentaenoylcarnitine + 1.0 L-carnitine --> 1.0 (5Z,8Z,11Z,14Z,17Z)-eicosapentaenoylcarnitine + 1.0 L-carnitine\n",
      "\n",
      "1.0 m00102c + 1.0 m02348r --> 1.0 m00102r + 1.0 m02348c\n",
      "FLUX : 8.401153332204684e-30 --- ID : HMR_2865 --- compartment : {'C_c', 'C_r'} \n",
      "\n",
      "---\n",
      "\n",
      "\n",
      "1.0 (5Z,8Z,11Z,14Z,17Z)-eicosapentaenoyl-CoA + 1.0 L-carnitine --> 1.0 (5Z,8Z,11Z,14Z,17Z)-eicosapentaenoylcarnitine + 1.0 CoA\n",
      "\n",
      "1.0 m00103c + 1.0 m02348c --> 1.0 m00102c + 1.0 m01597c\n",
      "FLUX : 5.4656475450991655 --- ID : HMR_2720 --- compartment : {'C_c'} \n",
      "\n",
      "---\n",
      "\n",
      "\n",
      "1.0 (5Z,8Z,11Z,14Z,17Z)-eicosapentaenoyl-CoA + 1.0 sn-glycerol-3-phosphate --> 1.0 1-acylglycerol-3P-5,8,11,14,17-eico + 1.0 CoA\n",
      "\n",
      "1.0 m00103c + 1.0 m02914c --> 1.0 m00452c + 1.0 m01597c\n",
      "FLUX : 3.5356046976885405 --- ID : HMR_0525 --- compartment : {'C_c'} \n",
      "\n",
      "---\n",
      "\n",
      "\n",
      "1.0 (5Z,8Z,11Z,14Z,17Z)-eicosapentaenoyl-CoA + 1.0 AMP + 1.0 PPi <-- 1.0 ATP + 1.0 CoA + 1.0 EPA\n",
      "\n",
      "1.0 m00103c + 1.0 m01334c + 1.0 m02759c <-- 1.0 m01371c + 1.0 m01597c + 1.0 m01784c\n",
      "FLUX : -13.140681867168409 --- ID : HMR_0361 --- compartment : {'C_c'} \n",
      "\n",
      "---\n",
      "\n",
      "\n",
      "1.0 (8Z,11Z)-eicosadienoyl-CoA + 1.0 AMP + 1.0 PPi <-- 1.0 8,11-eicosadienoic acid + 1.0 ATP + 1.0 CoA\n",
      "\n",
      "1.0 m00123c + 1.0 m01334c + 1.0 m02759c <-- 1.0 m01207c + 1.0 m01371c + 1.0 m01597c\n",
      "FLUX : -0.33126382372764607 --- ID : HMR_0301 --- compartment : {'C_c'} \n",
      "\n",
      "---\n",
      "\n",
      "\n",
      "1.0 H+ + 1.0 NADPH + 1.0 trans,cis-2,8,11-eicosatrienoyl-CoA --> 1.0 (8Z,11Z)-eicosadienoyl-CoA + 1.0 NADP+\n",
      "\n",
      "1.0 m02039c + 1.0 m02555c + 1.0 m03017c --> 1.0 m00123c + 1.0 m02554c\n",
      "FLUX : 0.06230355542754859 --- ID : HMR_2364 --- compartment : {'C_c'} \n",
      "\n",
      "---\n",
      "\n",
      "\n",
      "1.0 H+ + 1.0 NADPH + 1.0 trans,cis-2,13-docosadienoyl-CoA --> 1.0 (13Z)-docosenoyl-CoA + 1.0 NADP+\n",
      "\n",
      "1.0 m02039c + 1.0 m02555c + 1.0 m03013c --> 1.0 m00016c + 1.0 m02554c\n",
      "FLUX : 0.0008140784817924999 --- ID : HMR_2321 --- compartment : {'C_c'} \n",
      "\n",
      "---\n",
      "\n",
      "\n",
      "1.0 H+ + 1.0 L-lactate <-- 1.0 H+ + 1.0 L-lactate\n",
      "\n",
      "1.0 m02039c + 1.0 m02403c <-- 1.0 m02039m + 1.0 m02403m\n",
      "FLUX : -110.08028031815715 --- ID : HMR_5411 --- compartment : {'C_c', 'C_m'} \n",
      "\n",
      "---\n",
      "\n",
      "\n",
      "1.0 3-oxo-docosa-13,16,19-all-cis-trienoyl-CoA + 1.0 H+ + 1.0 NADPH --> 1.0 3(S)-hydroxy-docosa-13,16,19-all-cis-trienoyl-CoA + 1.0 NADP+\n",
      "\n",
      "1.0 m00862c + 1.0 m02039c + 1.0 m02555c --> 1.0 m00712c + 1.0 m02554c\n",
      "FLUX : 0.06230355542754863 --- ID : HMR_2541 --- compartment : {'C_c'} \n",
      "\n",
      "---\n",
      "\n",
      "\n",
      "1.0 (11Z,14Z,17Z)-eicosatrienoyl-CoA + 1.0 malonyl-CoA --> 1.0 3-oxo-docosa-13,16,19-all-cis-trienoyl-CoA + 1.0 CO2 + 1.0 CoA\n",
      "\n",
      "1.0 m00012c + 1.0 m02444c --> 1.0 m00862c + 1.0 m01596c + 1.0 m01597c\n",
      "FLUX : 0.06230355542754863 --- ID : HMR_2540 --- compartment : {'C_c'} \n",
      "\n",
      "---\n",
      "\n",
      "\n",
      "1.0 (11Z,14Z,17Z)-eicosatrienoyl-CoA + 1.0 L-carnitine --> 1.0 (11Z,14Z,17Z)-eicosatrienoylcarnitine + 1.0 CoA\n",
      "\n",
      "1.0 m00012c + 1.0 m02348c --> 1.0 m00011c + 1.0 m01597c\n",
      "FLUX : 0.8058758281491691 --- ID : HMR_2733 --- compartment : {'C_c'} \n",
      "\n",
      "---\n",
      "\n",
      "\n",
      "1.0 (11Z,14Z,17Z)-eicosatrienoyl-CoA + 1.0 sn-glycerol-3-phosphate --> 1.0 1-acylglycerol-3P-11,14,17-eico + 1.0 CoA\n",
      "\n",
      "1.0 m00012c + 1.0 m02914c --> 1.0 m00439c + 1.0 m01597c\n",
      "FLUX : 0.21619252196834512 --- ID : HMR_0530 --- compartment : {'C_c'} \n",
      "\n",
      "---\n",
      "\n",
      "\n",
      "1.0 hexacosanoyl-CoA + 1.0 sn-glycerol-3-phosphate --> 1.0 1-acylglycerol-3P-hexacosa + 1.0 CoA\n",
      "\n",
      "1.0 m02110c + 1.0 m02914c --> 1.0 m00482c + 1.0 m01597c\n",
      "FLUX : 0.21619252196834512 --- ID : HMR_0520 --- compartment : {'C_c'} \n",
      "\n",
      "---\n",
      "\n",
      "\n",
      "1.0 AMP + 1.0 hexacosanoyl-CoA + 1.0 PPi <-- 1.0 ATP + 1.0 cerotic acid + 1.0 CoA\n",
      "\n",
      "1.0 m01334c + 1.0 m02110c + 1.0 m02759c <-- 1.0 m01371c + 1.0 m01432c + 1.0 m01597c\n",
      "FLUX : -0.579392607462117 --- ID : HMR_0341 --- compartment : {'C_c'} \n",
      "\n",
      "---\n",
      "\n",
      "\n",
      "1.0 10,13,16-docosatrienoyl-CoA + 1.0 AMP + 1.0 PPi <-- 1.0 10,13,16-docosatriynoic acid + 1.0 ATP + 1.0 CoA\n",
      "\n",
      "1.0 m00264c + 1.0 m01334c + 1.0 m02759c <-- 1.0 m00265c + 1.0 m01371c + 1.0 m01597c\n",
      "FLUX : -0.331263823727646 --- ID : HMR_0437 --- compartment : {'C_c'} \n",
      "\n",
      "---\n",
      "\n",
      "\n",
      "1.0 10,13,16-docosatrienoyl-CoA + 1.0 sn-glycerol-3-phosphate --> 1.0 1-acylglycerol-3P-10,13,16-docosa + 1.0 CoA\n",
      "\n",
      "1.0 m00264c + 1.0 m02914c --> 1.0 m00437c + 1.0 m01597c\n",
      "FLUX : 0.21619252196834512 --- ID : HMR_0544 --- compartment : {'C_c'} \n",
      "\n",
      "---\n",
      "\n",
      "\n",
      "1.0 dihomo-gamma-linolenoyl-CoA + 1.0 sn-glycerol-3-phosphate --> 1.0 1-acylglycerol-3P-dihomo-gamma + 1.0 CoA\n",
      "\n",
      "1.0 m01697c + 1.0 m02914c --> 1.0 m00476c + 1.0 m01597c\n",
      "FLUX : 7.4382648520047185 --- ID : HMR_0536 --- compartment : {'C_c'} \n",
      "\n",
      "---\n",
      "\n",
      "\n",
      "1.0 dihomo-gamma-linolenoyl-CoA + 1.0 H+ + 1.0 NADPH + 1.0 O2 --> 1.0 arachidonyl-CoA + 2.0 H2O + 1.0 NADP+\n",
      "\n",
      "1.0 m01697c + 1.0 m02039c + 1.0 m02555c + 1.0 m02630c --> 1.0 m01364c + 2.0 m02040c + 1.0 m02554c\n",
      "FLUX : 7.564930787680627 --- ID : HMR_2380 --- compartment : {'C_c'} \n",
      "\n",
      "---\n",
      "\n",
      "\n",
      "1.0 dihomo-gamma-linolenoyl-CoA + 1.0 malonyl-CoA --> 1.0 3-oxo-docosa-cis,cis,cis-10,13,16-trienoyl-CoA + 1.0 CO2 + 1.0 CoA\n",
      "\n",
      "1.0 m01697c + 1.0 m02444c --> 1.0 m00865c + 1.0 m01596c + 1.0 m01597c\n",
      "FLUX : 0.06230355542754864 --- ID : HMR_2415 --- compartment : {'C_c'} \n",
      "\n",
      "---\n",
      "\n",
      "\n",
      "1.0 (15Z)-tetracosenoyl-CoA + 1.0 malonyl-CoA --> 1.0 3-oxo-hexacosenoyl-CoA + 1.0 CO2 + 1.0 CoA\n",
      "\n",
      "1.0 m00025c + 1.0 m02444c --> 1.0 m00879c + 1.0 m01596c + 1.0 m01597c\n",
      "FLUX : 0.06230355542754859 --- ID : HMR_2332 --- compartment : {'C_c'} \n",
      "\n",
      "---\n",
      "\n",
      "\n",
      "1.0 (15Z)-tetracosenoyl-CoA + 1.0 AMP + 1.0 PPi <-- 1.0 ATP + 1.0 CoA + 1.0 nervonic acid\n",
      "\n",
      "1.0 m00025c + 1.0 m01334c + 1.0 m02759c <-- 1.0 m01371c + 1.0 m01597c + 1.0 m02564c\n",
      "FLUX : -0.4553282155948816 --- ID : HMR_0337 --- compartment : {'C_c'} \n",
      "\n",
      "---\n",
      "\n",
      "\n",
      "1.0 H+ + 1.0 NADPH + 1.0 trans,cis-2,15-tetracosadienoyl-CoA --> 1.0 (15Z)-tetracosenoyl-CoA + 1.0 NADP+\n",
      "\n",
      "1.0 m02039c + 1.0 m02555c + 1.0 m03015c --> 1.0 m00025c + 1.0 m02554c\n",
      "FLUX : 0.0005427189878616903 --- ID : HMR_2330 --- compartment : {'C_c'} \n",
      "\n",
      "---\n",
      "\n",
      "\n",
      "1.0 3-oxo-eicosadienoyl-CoA + 1.0 H+ + 1.0 NADPH --> 1.0 3(S)-hydroxy-3-oxo-eicosadienoyl-CoA + 1.0 NADP+\n",
      "\n",
      "1.0 m00871c + 1.0 m02039c + 1.0 m02555c --> 1.0 m00704c + 1.0 m02554c\n",
      "FLUX : 0.06230355542754859 --- ID : HMR_2362 --- compartment : {'C_c'} \n",
      "\n",
      "---\n",
      "\n",
      "\n",
      "1.0 3-oxo-docosa-cis,cis,cis-10,13,16-trienoyl-CoA + 1.0 H+ + 1.0 NADPH --> 1.0 3(S)-hydroxy-10,13,16-all-cis-docosatrienoyl-CoA + 1.0 NADP+\n",
      "\n",
      "1.0 m00865c + 1.0 m02039c + 1.0 m02555c --> 1.0 m00698c + 1.0 m02554c\n",
      "FLUX : 0.06230355542754864 --- ID : HMR_2417 --- compartment : {'C_c'} \n",
      "\n",
      "---\n",
      "\n",
      "\n",
      "1.0 1-acylglycerol-3P-LD-TG1 pool + 1.0 NADP+ <-- 1.0 acylglycerone-phosphate + 1.0 H+ + 1.0 NADPH\n",
      "\n",
      "1.0 m00490c + 1.0 m02554c <-- 1.0 m01278c + 1.0 m02039c + 1.0 m02555c\n",
      "FLUX : -17.082284763804363 --- ID : HMR_7591 --- compartment : {'C_c'} \n",
      "\n",
      "---\n",
      "\n",
      "\n",
      "1.0 1-acylglycerol-3P-LD-TG1 pool + 1.0 acyl-CoA-LD-TG2 pool --> 1.0 CoA + 1.0 phosphatidate-LD-TAG pool\n",
      "\n",
      "1.0 m00490c + 1.0 m01276c --> 1.0 m01597c + 1.0 m02733c\n",
      "FLUX : 17.082284763804363 --- ID : HMR_0588 --- compartment : {'C_c'} \n",
      "\n",
      "---\n",
      "\n",
      "\n",
      "1.0 acyl-CoA-LD-TG2 pool + 1.0 DHAP --> 1.0 acylglycerone-phosphate + 1.0 CoA\n",
      "\n",
      "1.0 m01276c + 1.0 m01690c --> 1.0 m01278c + 1.0 m01597c\n",
      "FLUX : 17.168914417123183 --- ID : HMR_7588 --- compartment : {'C_c'} \n",
      "\n",
      "---\n",
      "\n",
      "\n",
      "1.0 DHAP --> 1.0 GAP\n",
      "\n",
      "1.0 m01690c --> 1.0 m01939c\n",
      "FLUX : 443.66816553721634 --- ID : HMR_4391 --- compartment : {'C_c'} \n",
      "\n",
      "---\n",
      "\n",
      "\n",
      "1.0 DHAP + 1.0 H+ + 1.0 NADPH --> 1.0 NADP+ + 1.0 sn-glycerol-3-phosphate\n",
      "\n",
      "1.0 m01690c + 1.0 m02039c + 1.0 m02555c --> 1.0 m02554c + 1.0 m02914c\n",
      "FLUX : 81.77839273296432 --- ID : HMR_0478 --- compartment : {'C_c'} \n",
      "\n",
      "---\n",
      "\n",
      "\n",
      "1.0 DHAP + 1.0 GAP <-- 1.0 fructose-1,6-bisphosphate\n",
      "\n",
      "1.0 m01690c + 1.0 m01939c <-- 1.0 m01841c\n",
      "FLUX : -542.6154726873038 --- ID : HMR_4375 --- compartment : {'C_c'} \n",
      "\n",
      "---\n",
      "\n",
      "\n",
      "1.0 GAP + 1.0 sedoheptulose-7-phosphate --> 1.0 erythrose-4-phosphate + 1.0 fructose-6-phosphate\n",
      "\n",
      "1.0 m01939c + 1.0 m02884c --> 1.0 m01785c + 1.0 m01845c\n",
      "FLUX : 13.716361775479823 --- ID : HMR_4565 --- compartment : {'C_c'} \n",
      "\n",
      "---\n",
      "\n",
      "\n",
      "1.0 D-xylulose-5-phosphate + 1.0 erythrose-4-phosphate --> 1.0 fructose-6-phosphate + 1.0 GAP\n",
      "\n",
      "1.0 m01761c + 1.0 m01785c --> 1.0 m01845c + 1.0 m01939c\n",
      "FLUX : 13.716361775479825 --- ID : HMR_4404 --- compartment : {'C_c'} \n",
      "\n",
      "---\n",
      "\n",
      "\n",
      "1.0 D-xylulose-5-phosphate <-- 1.0 ribulose-5-phosphate\n",
      "\n",
      "1.0 m01761c <-- 1.0 m02846c\n",
      "FLUX : -27.432723550959654 --- ID : HMR_4477 --- compartment : {'C_c'} \n",
      "\n",
      "---\n",
      "\n",
      "\n",
      "1.0 D-xylulose-5-phosphate + 1.0 ribose-5-phosphate --> 1.0 GAP + 1.0 sedoheptulose-7-phosphate\n",
      "\n",
      "1.0 m01761c + 1.0 m02845c --> 1.0 m01939c + 1.0 m02884c\n",
      "FLUX : 13.716361775479827 --- ID : HMR_4501 --- compartment : {'C_c'} \n",
      "\n",
      "---\n",
      "\n",
      "\n",
      "1.0 ribose-1-phosphate <-- 1.0 ribose-5-phosphate\n",
      "\n",
      "1.0 m02844c <-- 1.0 m02845c\n",
      "FLUX : -1.412318023437148e-13 --- ID : HMR_4354 --- compartment : {'C_c'} \n",
      "\n",
      "---\n",
      "\n",
      "\n",
      "1.0 Pi + 1.0 uridine <-- 1.0 ribose-1-phosphate + 1.0 uracil\n",
      "\n",
      "1.0 m02751c + 1.0 m03123c <-- 1.0 m02844c + 1.0 m03118c\n",
      "FLUX : -5.955788665668715 --- ID : HMR_4579 --- compartment : {'C_c'} \n",
      "\n",
      "---\n",
      "\n",
      "\n",
      "1.0 2-deoxy-D-ribose-1-phosphate + 1.0 uracil <-- 1.0 deoxyuridine + 1.0 Pi\n",
      "\n",
      "1.0 m00639c + 1.0 m03118c <-- 1.0 m01673c + 1.0 m02751c\n",
      "FLUX : -5.955788665668714 --- ID : HMR_4680 --- compartment : {'C_c'} \n",
      "\n",
      "---\n",
      "\n",
      "\n",
      "1.0 2-deoxy-D-ribose-1-phosphate + 1.0 hypoxanthine --> 1.0 deoxyinosine + 1.0 Pi\n",
      "\n",
      "1.0 m00639c + 1.0 m02159c --> 1.0 m01671c + 1.0 m02751c\n",
      "FLUX : 840.145706112006 --- ID : HMR_4709 --- compartment : {'C_c'} \n",
      "\n",
      "---\n",
      "\n",
      "\n",
      "1.0 2-deoxy-D-ribose-1-phosphate + 1.0 guanine <-- 1.0 deoxyguanosine + 1.0 Pi\n",
      "\n",
      "1.0 m00639c + 1.0 m02037c <-- 1.0 m01669c + 1.0 m02751c\n",
      "FLUX : -834.1899174463374 --- ID : HMR_4603 --- compartment : {'C_c'} \n",
      "\n",
      "---\n",
      "\n",
      "\n",
      "1.0 GMP + 1.0 PPi <-- 1.0 guanine + 1.0 PRPP\n",
      "\n",
      "1.0 m02016c + 1.0 m02759c <-- 1.0 m02037c + 1.0 m02806c\n",
      "FLUX : -834.1899174463374 --- ID : HMR_4452 --- compartment : {'C_c'} \n",
      "\n",
      "---\n",
      "\n",
      "\n",
      "1.0 GMP + 1.0 H+ + 1.0 NADPH --> 1.0 IMP + 1.0 NADP+ + 1.0 NH3\n",
      "\n",
      "1.0 m02016c + 1.0 m02039c + 1.0 m02555c --> 1.0 m02167c + 1.0 m02554c + 1.0 m02578c\n",
      "FLUX : 814.1568101163609 --- ID : HMR_4419 --- compartment : {'C_c'} \n",
      "\n",
      "---\n",
      "\n",
      "\n",
      "1.0 ADP + 4.0 H+ + 1.0 Pi --> 1.0 ATP + 4.0 H+ + 1.0 H2O\n",
      "\n",
      "1.0 m01285m + 4.0 m02039c + 1.0 m02751m --> 1.0 m01371m + 4.0 m02039m + 1.0 m02040m\n",
      "FLUX : 1000.0 --- ID : HMR_6916 --- compartment : {'C_c', 'C_m'} \n",
      "\n",
      "---\n",
      "\n",
      "\n",
      "1.0 ATP + 1.0 glycerol --> 1.0 ADP + 1.0 sn-glycerol-3-phosphate\n",
      "\n",
      "1.0 m01371m + 1.0 m01983m --> 1.0 m01285m + 1.0 m02914m\n",
      "FLUX : 81.21529998639154 --- ID : HMR_0448 --- compartment : {'C_m'} \n",
      "\n",
      "---\n",
      "\n",
      "\n",
      "1.0 ADP + 1.0 CDP <-- 1.0 ATP + 1.0 CMP\n",
      "\n",
      "1.0 m01285m + 1.0 m01424m <-- 1.0 m01371m + 1.0 m01590m\n",
      "FLUX : -54.14353332426102 --- ID : HMR_4026 --- compartment : {'C_m'} \n",
      "\n",
      "---\n",
      "\n",
      "\n",
      "1.0 ADP + 1.0 ATP --> 1.0 ADP + 1.0 ATP\n",
      "\n",
      "1.0 m01285c + 1.0 m01371m --> 1.0 m01285m + 1.0 m01371c\n",
      "FLUX : 700.4173530469291 --- ID : HMR_6328 --- compartment : {'C_c', 'C_m'} \n",
      "\n",
      "---\n",
      "\n",
      "\n",
      "1.0 ATP + 1.0 sphingosine --> 1.0 ADP + 1.0 sphingosine-1-phosphate\n",
      "\n",
      "1.0 m01371c + 1.0 m02929c --> 1.0 m01285c + 1.0 m02930c\n",
      "FLUX : 27.180053728779054 --- ID : HMR_0773 --- compartment : {'C_c'} \n",
      "\n",
      "---\n",
      "\n",
      "\n",
      "1.0 13,16,19-docosatrienoic acid + 1.0 ATP + 1.0 CoA --> 1.0 13,16,19-docosatrienoyl-CoA + 1.0 AMP + 1.0 PPi\n",
      "\n",
      "1.0 m00341c + 1.0 m01371c + 1.0 m01597c --> 1.0 m00343c + 1.0 m01334c + 1.0 m02759c\n",
      "FLUX : 0.331263823727646 --- ID : HMR_0385 --- compartment : {'C_c'} \n",
      "\n",
      "---\n",
      "\n",
      "\n",
      "1.0 13,16,19-docosatrienoic acid --> 1.0 13,16,19-docosatrienoic acid\n",
      "\n",
      "1.0 m00341s --> 1.0 m00341c\n",
      "FLUX : 0.062032195933617765 --- ID : HMR_0384 --- compartment : {'C_c', 'C_s'} \n",
      "\n",
      "---\n",
      "\n",
      "\n",
      "1.0 AMP + 1.0 PPi + 1.0 tetracosanoyl-CoA <-- 1.0 ATP + 1.0 CoA + 1.0 lignocerate\n",
      "\n",
      "1.0 m01334c + 1.0 m02759c + 1.0 m02971c <-- 1.0 m01371c + 1.0 m01597c + 1.0 m02385c\n",
      "FLUX : -1.0136179789974418 --- ID : HMR_0331 --- compartment : {'C_c'} \n",
      "\n",
      "---\n",
      "\n",
      "\n",
      "1.0 AMP + 1.0 pentadecanoyl-CoA + 1.0 PPi <-- 1.0 ATP + 1.0 CoA + 1.0 pentadecylic acid\n",
      "\n",
      "1.0 m01334c + 1.0 m02689c + 1.0 m02759c <-- 1.0 m01371c + 1.0 m01597c + 1.0 m02690c\n",
      "FLUX : -2.130197505802561 --- ID : HMR_0213 --- compartment : {'C_c'} \n",
      "\n",
      "---\n",
      "\n",
      "\n",
      "1.0 (6Z,9Z)-octadecadienoic acid + 1.0 ATP + 1.0 CoA --> 1.0 (6Z,9Z)-octadecadienoyl-CoA + 1.0 AMP + 1.0 PPi\n",
      "\n",
      "1.0 m00104c + 1.0 m01371c + 1.0 m01597c --> 1.0 m00106c + 1.0 m01334c + 1.0 m02759c\n",
      "FLUX : 0.331263823727646 --- ID : HMR_0275 --- compartment : {'C_c'} \n",
      "\n",
      "---\n",
      "\n",
      "\n",
      "1.0 (6Z,9Z)-octadecadienoic acid --> 1.0 (6Z,9Z)-octadecadienoic acid\n",
      "\n",
      "1.0 m00104s --> 1.0 m00104c\n",
      "FLUX : 0.062032195933617765 --- ID : HMR_0274 --- compartment : {'C_c', 'C_s'} \n",
      "\n",
      "---\n",
      "\n",
      "\n",
      "1.0 10,13,16,19-docosatetraenoic acid + 1.0 ATP + 1.0 CoA --> 1.0 10,13,16,19-docosatetraenoyl-CoA + 1.0 AMP + 1.0 PPi\n",
      "\n",
      "1.0 m00260c + 1.0 m01371c + 1.0 m01597c --> 1.0 m00262c + 1.0 m01334c + 1.0 m02759c\n",
      "FLUX : 0.331263823727646 --- ID : HMR_0389 --- compartment : {'C_c'} \n",
      "\n",
      "---\n",
      "\n",
      "\n",
      "1.0 10,13,16,19-docosatetraenoic acid --> 1.0 10,13,16,19-docosatetraenoic acid\n",
      "\n",
      "1.0 m00260s --> 1.0 m00260c\n",
      "FLUX : 0.062032195933617765 --- ID : HMR_0388 --- compartment : {'C_c', 'C_s'} \n",
      "\n",
      "---\n",
      "\n",
      "\n",
      "1.0 AMP + 1.0 palmitoyl-CoA + 1.0 PPi <-- 1.0 ATP + 1.0 CoA + 1.0 palmitate\n",
      "\n",
      "1.0 m01334c + 1.0 m02678c + 1.0 m02759c <-- 1.0 m01371c + 1.0 m01597c + 1.0 m02674c\n",
      "FLUX : -333.35435192791647 --- ID : HMR_0217 --- compartment : {'C_c'} \n",
      "\n",
      "---\n",
      "\n",
      "\n",
      "1.0 AMP + 1.0 H2O --> 1.0 IMP + 1.0 NH3\n",
      "\n",
      "1.0 m01334c + 1.0 m02040c --> 1.0 m02167c + 1.0 m02578c\n",
      "FLUX : 20.03310732997668 --- ID : HMR_4080 --- compartment : {'C_c'} \n",
      "\n",
      "---\n",
      "\n",
      "\n",
      "1.0 AMP + 1.0 PPi + 1.0 stearoyl-CoA <-- 1.0 ATP + 1.0 CoA + 1.0 stearate\n",
      "\n",
      "1.0 m01334c + 1.0 m02759c + 1.0 m02941c <-- 1.0 m01371c + 1.0 m01597c + 1.0 m02938c\n",
      "FLUX : -170.73245759067154 --- ID : HMR_0249 --- compartment : {'C_c'} \n",
      "\n",
      "---\n",
      "\n",
      "\n",
      "1.0 (5Z,8Z,11Z)-eicosatrienoyl-CoA + 1.0 AMP + 1.0 PPi <-- 1.0 ATP + 1.0 CoA + 1.0 mead acid\n",
      "\n",
      "1.0 m00101c + 1.0 m01334c + 1.0 m02759c <-- 1.0 m01371c + 1.0 m01597c + 1.0 m02457c\n",
      "FLUX : -0.579392607462117 --- ID : HMR_0305 --- compartment : {'C_c'} \n",
      "\n",
      "---\n",
      "\n",
      "\n",
      "1.0 (5Z,8Z,11Z)-eicosatrienoyl-CoA + 1.0 sn-glycerol-3-phosphate --> 1.0 1-acylglycerol-3P-5,8,11-eico + 1.0 CoA\n",
      "\n",
      "1.0 m00101c + 1.0 m02914c --> 1.0 m00453c + 1.0 m01597c\n",
      "FLUX : 0.21619252196834512 --- ID : HMR_0512 --- compartment : {'C_c'} \n",
      "\n",
      "---\n",
      "\n",
      "\n",
      "1.0 (5Z,8Z,11Z)-eicosatrienoyl-CoA + 1.0 L-carnitine --> 1.0 (5Z,8Z,11Z)-eicosatrienoylcarnitine + 1.0 CoA\n",
      "\n",
      "1.0 m00101c + 1.0 m02348c --> 1.0 m00100c + 1.0 m01597c\n",
      "FLUX : 0.18582522830692236 --- ID : HMR_2693 --- compartment : {'C_c'} \n",
      "\n",
      "---\n",
      "\n",
      "\n",
      "1.0 L-carnitine + 1.0 L-octanoylcarnitine <-- 1.0 L-carnitine + 1.0 L-octanoylcarnitine\n",
      "\n",
      "1.0 m02348m + 1.0 m02409c <-- 1.0 m02348c + 1.0 m02409m\n",
      "FLUX : -276.32943001730393 --- ID : HMR_0162 --- compartment : {'C_c', 'C_m'} \n",
      "\n",
      "---\n",
      "\n",
      "\n",
      "1.0 (5Z,8Z,11Z)-eicosatrienoylcarnitine + 1.0 L-carnitine --> 1.0 (5Z,8Z,11Z)-eicosatrienoylcarnitine + 1.0 L-carnitine\n",
      "\n",
      "1.0 m00100c + 1.0 m02348m --> 1.0 m00100m + 1.0 m02348c\n",
      "FLUX : 0.18582522830692233 --- ID : HMR_2695 --- compartment : {'C_c', 'C_m'} \n",
      "\n",
      "---\n",
      "\n",
      "\n",
      "1.0 L-carnitine + 1.0 O-propanoylcarnitine --> 1.0 L-carnitine + 1.0 O-propanoylcarnitine\n",
      "\n",
      "1.0 m02348c + 1.0 m02657m --> 1.0 m02348m + 1.0 m02657c\n",
      "FLUX : 7.689821419816967 --- ID : HMR_2596 --- compartment : {'C_c', 'C_m'} \n",
      "\n",
      "---\n",
      "\n",
      "\n",
      "1.0 L-carnitine + 1.0 palmitoleoyl-carnitine <-- 1.0 L-carnitine + 1.0 palmitoleoyl-carnitine\n",
      "\n",
      "1.0 m02348c + 1.0 m02676m <-- 1.0 m02348m + 1.0 m02676c\n",
      "FLUX : -59.76826748903605 --- ID : HMR_2638 --- compartment : {'C_c', 'C_m'} \n",
      "\n",
      "---\n",
      "\n",
      "\n",
      "1.0 docosanoylcarnitine + 1.0 L-carnitine <-- 1.0 docosanoylcarnitine + 1.0 L-carnitine\n",
      "\n",
      "1.0 m01724m + 1.0 m02348c <-- 1.0 m01724c + 1.0 m02348m\n",
      "FLUX : -0.30988962017415794 --- ID : HMR_2703 --- compartment : {'C_c', 'C_m'} \n",
      "\n",
      "---\n",
      "\n",
      "\n",
      "1.0 CoA + 1.0 docosanoylcarnitine --> 1.0 docosanoyl-CoA + 1.0 L-carnitine\n",
      "\n",
      "1.0 m01597m + 1.0 m01724m --> 1.0 m01725m + 1.0 m02348m\n",
      "FLUX : 0.30988962017415794 --- ID : HMR_2704 --- compartment : {'C_m'} \n",
      "\n",
      "---\n",
      "\n",
      "\n",
      "1.0 (6Z,9Z,12Z,15Z)-octadecatetraenoyl-CoA + 8.0 CoA + 4.0 FAD + 8.0 H2O + 8.0 NAD+ --> 9.0 acetyl-CoA + 4.0 FADH2 + 8.0 H+ + 8.0 NADH\n",
      "\n",
      "1.0 m00108m + 8.0 m01597m + 4.0 m01802m + 8.0 m02040m + 8.0 m02552m --> 9.0 m01261m + 4.0 m01803m + 8.0 m02039m + 8.0 m02553m\n",
      "FLUX : 1.655231504835746 --- ID : HMR_9719 --- compartment : {'C_m'} \n",
      "\n",
      "---\n",
      "\n",
      "\n",
      "1.0 (6Z,9Z,12Z,15Z)-octadecatetraenoyl-CoA + 1.0 L-carnitine <-- 1.0 (6Z,9Z,12Z,15Z)-octadecatetraenoylcarnitine + 1.0 CoA\n",
      "\n",
      "1.0 m00108m + 1.0 m02348m <-- 1.0 m00107m + 1.0 m01597m\n",
      "FLUX : -1.6552315048357462 --- ID : HMR_2716 --- compartment : {'C_m'} \n",
      "\n",
      "---\n",
      "\n",
      "\n",
      "1.0 (10Z)-heptadecenoyl-CoA + 1.0 L-carnitine <-- 1.0 CoA + 1.0 heptadecenoylcarnitine(7)\n",
      "\n",
      "1.0 m00004m + 1.0 m02348m <-- 1.0 m01597m + 1.0 m02102m\n",
      "FLUX : -6.01549484859715 --- ID : HMR_2650 --- compartment : {'C_m'} \n",
      "\n",
      "---\n",
      "\n",
      "\n",
      "1.0 (10Z)-heptadecenoyl-CoA + 7.0 CoA + 6.0 FAD + 7.0 H2O + 7.0 NAD+ --> 7.0 acetyl-CoA + 6.0 FADH2 + 7.0 H+ + 7.0 NADH + 1.0 propanoyl-CoA\n",
      "\n",
      "1.0 m00004m + 7.0 m01597m + 6.0 m01802m + 7.0 m02040m + 7.0 m02552m --> 7.0 m01261m + 6.0 m01803m + 7.0 m02039m + 7.0 m02553m + 1.0 m02774m\n",
      "FLUX : 6.01549484859715 --- ID : HMR_3396 --- compartment : {'C_m'} \n",
      "\n",
      "---\n",
      "\n",
      "\n",
      "1.0 CoA + 1.0 L-oleoylcarnitine --> 1.0 L-carnitine + 1.0 oleoyl-CoA\n",
      "\n",
      "1.0 m01597m + 1.0 m02410m --> 1.0 m02348m + 1.0 m02647m\n",
      "FLUX : 140.29105902107952 --- ID : HMR_2665 --- compartment : {'C_m'} \n",
      "\n",
      "---\n",
      "\n",
      "\n",
      "1.0 3-oxodecanoyl-CoA + 1.0 CoA --> 1.0 acetyl-CoA + 1.0 octanoyl-CoA\n",
      "\n",
      "1.0 m00858m + 1.0 m01597m --> 1.0 m01261m + 1.0 m02644m\n",
      "FLUX : 276.32943001730393 --- ID : HMR_3146 --- compartment : {'C_m'} \n",
      "\n",
      "---\n",
      "\n",
      "\n",
      "1.0 (S)-hydroxydecanoyl-CoA + 1.0 NAD+ --> 1.0 3-oxodecanoyl-CoA + 1.0 H+ + 1.0 NADH\n",
      "\n",
      "1.0 m00181m + 1.0 m02552m --> 1.0 m00858m + 1.0 m02039m + 1.0 m02553m\n",
      "FLUX : 276.32943001730393 --- ID : HMR_3144 --- compartment : {'C_m'} \n",
      "\n",
      "---\n",
      "\n",
      "\n",
      "1.0 (2E)-decenoyl-CoA + 1.0 H2O --> 1.0 (S)-hydroxydecanoyl-CoA\n",
      "\n",
      "1.0 m00039m + 1.0 m02040m --> 1.0 m00181m\n",
      "FLUX : 276.32943001730393 --- ID : HMR_3143 --- compartment : {'C_m'} \n",
      "\n",
      "---\n",
      "\n",
      "\n",
      "1.0 (2E)-decenoyl-CoA <-- 1.0 trans-3-decenoyl-CoA\n",
      "\n",
      "1.0 m00039m <-- 1.0 m03035m\n",
      "FLUX : -0.5949392648305102 --- ID : HMR_3298 --- compartment : {'C_m'} \n",
      "\n",
      "---\n",
      "\n",
      "\n",
      "1.0 decanoyl-CoA + 1.0 FAD --> 1.0 (2E)-decenoyl-CoA + 1.0 FADH2\n",
      "\n",
      "1.0 m01650m + 1.0 m01802m --> 1.0 m00039m + 1.0 m01803m\n",
      "FLUX : 275.7344907524735 --- ID : HMR_3142 --- compartment : {'C_m'} \n",
      "\n",
      "---\n",
      "\n",
      "\n",
      "1.0 3-oxododecanoyl-CoA + 1.0 CoA --> 1.0 acetyl-CoA + 1.0 decanoyl-CoA\n",
      "\n",
      "1.0 m00868m + 1.0 m01597m --> 1.0 m01261m + 1.0 m01650m\n",
      "FLUX : 275.73449075247345 --- ID : HMR_3139 --- compartment : {'C_m'} \n",
      "\n",
      "---\n",
      "\n",
      "\n",
      "1.0 (S)-3-hydroxydodecanoyl-CoA + 1.0 NAD+ --> 1.0 3-oxododecanoyl-CoA + 1.0 H+ + 1.0 NADH\n",
      "\n",
      "1.0 m00174m + 1.0 m02552m --> 1.0 m00868m + 1.0 m02039m + 1.0 m02553m\n",
      "FLUX : 275.73449075247345 --- ID : HMR_3137 --- compartment : {'C_m'} \n",
      "\n",
      "---\n",
      "\n",
      "\n",
      "1.0 (2E)-dodecenoyl-CoA + 1.0 H2O --> 1.0 (S)-3-hydroxydodecanoyl-CoA\n",
      "\n",
      "1.0 m00042m + 1.0 m02040m --> 1.0 m00174m\n",
      "FLUX : 275.73449075247345 --- ID : HMR_3136 --- compartment : {'C_m'} \n",
      "\n",
      "---\n",
      "\n",
      "\n",
      "1.0 (2E)-dodecenoyl-CoA <-- 1.0 (3Z)-dodecenoyl-CoA\n",
      "\n",
      "1.0 m00042m <-- 1.0 m00088m\n",
      "FLUX : -164.056088827442 --- ID : HMR_3239 --- compartment : {'C_m'} \n",
      "\n",
      "---\n",
      "\n",
      "\n",
      "1.0 (2E)-dodecenoyl-CoA <-- 1.0 (5Z)-dodecenoyl-CoA\n",
      "\n",
      "1.0 m00042m <-- 1.0 m00099m\n",
      "FLUX : -109.6936430146496 --- ID : HMR_3272 --- compartment : {'C_m'} \n",
      "\n",
      "---\n",
      "\n",
      "\n",
      "1.0 FAD + 1.0 lauroyl-CoA --> 1.0 (2E)-dodecenoyl-CoA + 1.0 FADH2\n",
      "\n",
      "1.0 m01802m + 1.0 m02345m --> 1.0 m00042m + 1.0 m01803m\n",
      "FLUX : 1.98475891038187 --- ID : HMR_3135 --- compartment : {'C_m'} \n",
      "\n",
      "---\n",
      "\n",
      "\n",
      "1.0 (5Z,8Z,11Z,14Z,17Z)-eicosapentaenoyl-CoA + 9.0 CoA + 4.0 FAD + 9.0 H2O + 9.0 NAD+ --> 10.0 acetyl-CoA + 4.0 FADH2 + 9.0 H+ + 9.0 NADH\n",
      "\n",
      "1.0 m00103m + 9.0 m01597m + 4.0 m01802m + 9.0 m02040m + 9.0 m02552m --> 10.0 m01261m + 4.0 m01803m + 9.0 m02039m + 9.0 m02553m\n",
      "FLUX : 5.4656475450991655 --- ID : HMR_3428 --- compartment : {'C_m'} \n",
      "\n",
      "---\n",
      "\n",
      "\n",
      "1.0 (5Z,8Z,11Z,14Z,17Z)-eicosapentaenoyl-CoA + 1.0 L-carnitine <-- 1.0 (5Z,8Z,11Z,14Z,17Z)-eicosapentaenoylcarnitine + 1.0 CoA\n",
      "\n",
      "1.0 m00103m + 1.0 m02348m <-- 1.0 m00102m + 1.0 m01597m\n",
      "FLUX : -5.4656475450991655 --- ID : HMR_2724 --- compartment : {'C_m'} \n",
      "\n",
      "---\n",
      "\n",
      "\n",
      "1.0 L-carnitine + 1.0 tridecanoylcarnitine --> 1.0 L-carnitine + 1.0 tridecanoylcarnitine\n",
      "\n",
      "1.0 m02348c + 1.0 m03049m --> 1.0 m02348m + 1.0 m03049c\n",
      "FLUX : 0.06230355542754862 --- ID : HMR_2606 --- compartment : {'C_c', 'C_m'} \n",
      "\n",
      "---\n",
      "\n",
      "\n",
      "1.0 CoA + 1.0 eicosanoylcarnitine <-- 1.0 eicosanoyl-CoA + 1.0 L-carnitine\n",
      "\n",
      "1.0 m01597c + 1.0 m01772c <-- 1.0 m01773c + 1.0 m02348c\n",
      "FLUX : -0.5580184039086289 --- ID : HMR_2678 --- compartment : {'C_c'} \n",
      "\n",
      "---\n",
      "\n",
      "\n",
      "1.0 (9Z,12Z,15Z,18Z,21Z)-tetracosapentaenoyl-CoA + 1.0 sn-glycerol-3-phosphate --> 1.0 1-acylglycerol-3P-9,12,15,18,21-tetra + 1.0 CoA\n",
      "\n",
      "1.0 m00134c + 1.0 m02914c --> 1.0 m00466c + 1.0 m01597c\n",
      "FLUX : 0.21619252196834512 --- ID : HMR_0527 --- compartment : {'C_c'} \n",
      "\n",
      "---\n",
      "\n",
      "\n",
      "1.0 2-trans-9,12,15,18,21-all-cis-tetracosahexaenoyl-CoA + 1.0 H+ + 1.0 NADPH --> 1.0 (9Z,12Z,15Z,18Z,21Z)-tetracosapentaenoyl-CoA + 1.0 NADP+\n",
      "\n",
      "1.0 m00680c + 1.0 m02039c + 1.0 m02555c --> 1.0 m00134c + 1.0 m02554c\n",
      "FLUX : 0.12460711085509729 --- ID : HMR_2503 --- compartment : {'C_c'} \n",
      "\n",
      "---\n",
      "\n",
      "\n",
      "1.0 3(S)-hydroxy-tetracosa-9,12,15,18,21-all-cis-pentaenoyl-CoA --> 1.0 2-trans-9,12,15,18,21-all-cis-tetracosahexaenoyl-CoA + 1.0 H2O\n",
      "\n",
      "1.0 m00718c --> 1.0 m00680c + 1.0 m02040c\n",
      "FLUX : 0.12460711085509729 --- ID : HMR_2501 --- compartment : {'C_c'} \n",
      "\n",
      "---\n",
      "\n",
      "\n",
      "1.0 3-oxo-tetracosa-9,12,15,18,21-all-cis-pentaenoyl-CoA + 1.0 H+ + 1.0 NADPH --> 1.0 3(S)-hydroxy-tetracosa-9,12,15,18,21-all-cis-pentaenoyl-CoA + 1.0 NADP+\n",
      "\n",
      "1.0 m00902c + 1.0 m02039c + 1.0 m02555c --> 1.0 m00718c + 1.0 m02554c\n",
      "FLUX : 0.12460711085509728 --- ID : HMR_2499 --- compartment : {'C_c'} \n",
      "\n",
      "---\n",
      "\n",
      "\n",
      "1.0 H+ + 1.0 NADPH + 1.0 trans,cis,cis,cis-2,13,16,19-docosatetraenoyl-CoA --> 1.0 13,16,19-docosatrienoyl-CoA + 1.0 NADP+\n",
      "\n",
      "1.0 m02039c + 1.0 m02555c + 1.0 m03006c --> 1.0 m00343c + 1.0 m02554c\n",
      "FLUX : 0.06230355542754863 --- ID : HMR_2543 --- compartment : {'C_c'} \n",
      "\n",
      "---\n",
      "\n",
      "\n",
      "1.0 3-oxo-cis-15-tetracosaenoyl-CoA + 1.0 H+ + 1.0 NADPH --> 1.0 3(S)-hydroxy-cis-15-tetracosaenoyl-CoA + 1.0 NADP+\n",
      "\n",
      "1.0 m00856c + 1.0 m02039c + 1.0 m02555c --> 1.0 m00709c + 1.0 m02554c\n",
      "FLUX : 0.0005427189878616903 --- ID : HMR_2326 --- compartment : {'C_c'} \n",
      "\n",
      "---\n",
      "\n",
      "\n",
      "1.0 (13Z)-docosenoyl-CoA + 1.0 malonyl-CoA --> 1.0 3-oxo-cis-15-tetracosaenoyl-CoA + 1.0 CO2 + 1.0 CoA\n",
      "\n",
      "1.0 m00016c + 1.0 m02444c --> 1.0 m00856c + 1.0 m01596c + 1.0 m01597c\n",
      "FLUX : 0.0005427189878616903 --- ID : HMR_2324 --- compartment : {'C_c'} \n",
      "\n",
      "---\n",
      "\n",
      "\n",
      "1.0 (13Z)-docosenoyl-CoA + 1.0 sn-glycerol-3-phosphate --> 1.0 1-acylglycerol-3P-13-docose + 1.0 CoA\n",
      "\n",
      "1.0 m00016c + 1.0 m02914c --> 1.0 m00446c + 1.0 m01597c\n",
      "FLUX : 0.21619252196834512 --- ID : HMR_0515 --- compartment : {'C_c'} \n",
      "\n",
      "---\n",
      "\n",
      "\n",
      "1.0 (13Z)-docosenoyl-CoA + 1.0 AMP + 1.0 PPi <-- 1.0 ATP + 1.0 cis-erucic acid + 1.0 CoA\n",
      "\n",
      "1.0 m00016c + 1.0 m01334c + 1.0 m02759c <-- 1.0 m01371c + 1.0 m01583c + 1.0 m01597c\n",
      "FLUX : -0.3932960196612639 --- ID : HMR_0319 --- compartment : {'C_c'} \n",
      "\n",
      "---\n",
      "\n",
      "\n",
      "1.0 AMP + 1.0 lauroyl-CoA + 1.0 PPi <-- 1.0 ATP + 1.0 CoA + 1.0 lauric acid\n",
      "\n",
      "1.0 m01334c + 1.0 m02345c + 1.0 m02759c <-- 1.0 m01371c + 1.0 m01597c + 1.0 m02344c\n",
      "FLUX : -2.378326289537032 --- ID : HMR_0188 --- compartment : {'C_c'} \n",
      "\n",
      "---\n",
      "\n",
      "\n",
      "1.0 AMP + 1.0 nonadecanoyl-CoA + 1.0 PPi <-- 1.0 ATP + 1.0 CoA + 1.0 nonadecylic acid\n",
      "\n",
      "1.0 m01334c + 1.0 m02612c + 1.0 m02759c <-- 1.0 m01371c + 1.0 m01597c + 1.0 m02613c\n",
      "FLUX : -0.331263823727646 --- ID : HMR_0279 --- compartment : {'C_c'} \n",
      "\n",
      "---\n",
      "\n",
      "\n",
      "1.0 AMP + 1.0 PPi + 1.0 tridecanoyl-CoA <-- 1.0 ATP + 1.0 CoA + 1.0 tridecylic acid\n",
      "\n",
      "1.0 m01334c + 1.0 m02759c + 1.0 m03050c <-- 1.0 m01371c + 1.0 m01597c + 1.0 m03051c\n",
      "FLUX : -0.331263823727646 --- ID : HMR_0192 --- compartment : {'C_c'} \n",
      "\n",
      "---\n",
      "\n",
      "\n",
      "1.0 AMP + 1.0 heneicosanoyl-CoA + 1.0 PPi <-- 1.0 ATP + 1.0 CoA + 1.0 henicosanoic acid\n",
      "\n",
      "1.0 m01334c + 1.0 m02052c + 1.0 m02759c <-- 1.0 m01371c + 1.0 m01597c + 1.0 m02053c\n",
      "FLUX : -0.331263823727646 --- ID : HMR_0309 --- compartment : {'C_c'} \n",
      "\n",
      "---\n",
      "\n",
      "\n",
      "1.0 12,15,18,21-tetracosatetraenoic acid + 1.0 ATP + 1.0 CoA --> 1.0 12,15,18,21-tetracosatetraenoyl-CoA + 1.0 AMP + 1.0 PPi\n",
      "\n",
      "1.0 m00315c + 1.0 m01371c + 1.0 m01597c --> 1.0 m00317c + 1.0 m01334c + 1.0 m02759c\n",
      "FLUX : 0.331263823727646 --- ID : HMR_0393 --- compartment : {'C_c'} \n",
      "\n",
      "---\n",
      "\n",
      "\n",
      "1.0 12,15,18,21-tetracosatetraenoic acid --> 1.0 12,15,18,21-tetracosatetraenoic acid\n",
      "\n",
      "1.0 m00315s --> 1.0 m00315c\n",
      "FLUX : 0.062032195933617765 --- ID : HMR_0392 --- compartment : {'C_c', 'C_s'} \n",
      "\n",
      "---\n",
      "\n",
      "\n",
      "1.0 (9E)-octadecenoyl-CoA + 1.0 AMP + 1.0 PPi <-- 1.0 ATP + 1.0 CoA + 1.0 elaidate\n",
      "\n",
      "1.0 m00127c + 1.0 m01334c + 1.0 m02759c <-- 1.0 m01371c + 1.0 m01597c + 1.0 m01778c\n",
      "FLUX : -0.33126382372764607 --- ID : HMR_0267 --- compartment : {'C_c'} \n",
      "\n",
      "---\n",
      "\n",
      "\n",
      "1.0 H+ + 1.0 NADPH + 1.0 O2 + 1.0 stearoyl-CoA --> 1.0 (9E)-octadecenoyl-CoA + 2.0 H2O + 1.0 NADP+\n",
      "\n",
      "1.0 m02039c + 1.0 m02555c + 1.0 m02630c + 1.0 m02941c --> 1.0 m00127c + 2.0 m02040c + 1.0 m02554c\n",
      "FLUX : 0.06230355542754859 --- ID : HMR_2295 --- compartment : {'C_c'} \n",
      "\n",
      "---\n",
      "\n",
      "\n",
      "1.0 3-oxononadecanoyl-CoA + 1.0 H+ + 1.0 NADPH --> 1.0 3-hydroxynonadecanoyl-CoA + 1.0 NADP+\n",
      "\n",
      "1.0 m00887c + 1.0 m02039c + 1.0 m02555c --> 1.0 m00790c + 1.0 m02554c\n",
      "FLUX : 0.12487847034902799 --- ID : HMR_2260 --- compartment : {'C_c'} \n",
      "\n",
      "---\n",
      "\n",
      "\n",
      "1.0 heptadecanoyl-CoA + 1.0 malonyl-CoA --> 1.0 3-oxononadecanoyl-CoA + 1.0 CO2 + 1.0 CoA\n",
      "\n",
      "1.0 m02101c + 1.0 m02444c --> 1.0 m00887c + 1.0 m01596c + 1.0 m01597c\n",
      "FLUX : 0.124878470349028 --- ID : HMR_2259 --- compartment : {'C_c'} \n",
      "\n",
      "---\n",
      "\n",
      "\n",
      "1.0 heptadecanoyl-CoA + 1.0 sn-glycerol-3-phosphate --> 1.0 1-acylglycerol-3P-heptade + 1.0 CoA\n",
      "\n",
      "1.0 m02101c + 1.0 m02914c --> 1.0 m00481c + 1.0 m01597c\n",
      "FLUX : 0.21619252196834512 --- ID : HMR_0496 --- compartment : {'C_c'} \n",
      "\n",
      "---\n",
      "\n",
      "\n",
      "1.0 AMP + 1.0 heptadecanoyl-CoA + 1.0 PPi <-- 1.0 ATP + 1.0 CoA + 1.0 margaric acid\n",
      "\n",
      "1.0 m01334c + 1.0 m02101c + 1.0 m02759c <-- 1.0 m01371c + 1.0 m01597c + 1.0 m02456c\n",
      "FLUX : -3.743034600076624 --- ID : HMR_0237 --- compartment : {'C_c'} \n",
      "\n",
      "---\n",
      "\n",
      "\n",
      "1.0 AMP + 1.0 palmitoleoyl-CoA + 1.0 PPi <-- 1.0 ATP + 1.0 CoA + 1.0 palmitolate\n",
      "\n",
      "1.0 m01334c + 1.0 m02677c + 1.0 m02759c <-- 1.0 m01371c + 1.0 m01597c + 1.0 m02675c\n",
      "FLUX : -60.161834868191214 --- ID : HMR_0226 --- compartment : {'C_c'} \n",
      "\n",
      "---\n",
      "\n",
      "\n",
      "1.0 AMP + 1.0 eicosanoyl-CoA + 1.0 PPi <-- 1.0 ATP + 1.0 CoA + 1.0 eicosanoate\n",
      "\n",
      "1.0 m01334c + 1.0 m01773c + 1.0 m02759c <-- 1.0 m01371c + 1.0 m01597c + 1.0 m01771c\n",
      "FLUX : -0.9515857830638237 --- ID : HMR_0283 --- compartment : {'C_c'} \n",
      "\n",
      "---\n",
      "\n",
      "\n",
      "1.0 (6Z,9Z,12Z,15Z,18Z)-TPA + 1.0 ATP + 1.0 CoA --> 1.0 (6Z,9Z,12Z,15Z,18Z)-tetracosapentaenoyl-CoA + 1.0 AMP + 1.0 PPi\n",
      "\n",
      "1.0 m00111c + 1.0 m01371c + 1.0 m01597c --> 1.0 m00110c + 1.0 m01334c + 1.0 m02759c\n",
      "FLUX : 0.33126382372764607 --- ID : HMR_0421 --- compartment : {'C_c'} \n",
      "\n",
      "---\n",
      "\n",
      "\n",
      "1.0 (6Z,9Z,12Z,15Z,18Z)-TPA --> 1.0 (6Z,9Z,12Z,15Z,18Z)-TPA\n",
      "\n",
      "1.0 m00111s --> 1.0 m00111c\n",
      "FLUX : 0.062032195933617765 --- ID : HMR_0420 --- compartment : {'C_c', 'C_s'} \n",
      "\n",
      "---\n",
      "\n",
      "\n",
      "1.0 ATP + 1.0 NH3 + 1.0 UTP --> 1.0 ADP + 1.0 CTP + 1.0 Pi\n",
      "\n",
      "1.0 m01371c + 1.0 m02578c + 1.0 m03130c --> 1.0 m01285c + 1.0 m01623c + 1.0 m02751c\n",
      "FLUX : 17.867365997006157 --- ID : HMR_4032 --- compartment : {'C_c'} \n",
      "\n",
      "---\n",
      "\n",
      "\n",
      "1.0 AMP + 1.0 linoleoyl-CoA + 1.0 PPi <-- 1.0 ATP + 1.0 CoA + 1.0 linoleate\n",
      "\n",
      "1.0 m01334c + 1.0 m02391c + 1.0 m02759c <-- 1.0 m01371c + 1.0 m01597c + 1.0 m02387c\n",
      "FLUX : -181.82965848514857 --- ID : HMR_0397 --- compartment : {'C_c'} \n",
      "\n",
      "---\n",
      "\n",
      "\n",
      "1.0 (9Z,12Z,15Z,18Z,21Z)-TPA + 1.0 ATP + 1.0 CoA --> 1.0 (9Z,12Z,15Z,18Z,21Z)-tetracosapentaenoyl-CoA + 1.0 AMP + 1.0 PPi\n",
      "\n",
      "1.0 m00135c + 1.0 m01371c + 1.0 m01597c --> 1.0 m00134c + 1.0 m01334c + 1.0 m02759c\n",
      "FLUX : 0.331263823727646 --- ID : HMR_0369 --- compartment : {'C_c'} \n",
      "\n",
      "---\n",
      "\n",
      "\n",
      "1.0 (9Z,12Z,15Z,18Z,21Z)-TPA --> 1.0 (9Z,12Z,15Z,18Z,21Z)-TPA\n",
      "\n",
      "1.0 m00135s --> 1.0 m00135c\n",
      "FLUX : 0.062032195933617765 --- ID : HMR_0368 --- compartment : {'C_c', 'C_s'} \n",
      "\n",
      "---\n",
      "\n",
      "\n",
      "1.0 AMP + 1.0 hexacosenoyl-CoA + 1.0 PPi <-- 1.0 ATP + 1.0 CoA + 1.0 ximenic acid\n",
      "\n",
      "1.0 m01334c + 1.0 m02112c + 1.0 m02759c <-- 1.0 m01371c + 1.0 m01597c + 1.0 m03153c\n",
      "FLUX : -0.33126382372764607 --- ID : HMR_0345 --- compartment : {'C_c'} \n",
      "\n",
      "---\n",
      "\n",
      "\n",
      "1.0 AMP + 1.0 myristoyl-CoA + 1.0 PPi <-- 1.0 ATP + 1.0 CoA + 1.0 myristic acid\n",
      "\n",
      "1.0 m01334c + 1.0 m02495c + 1.0 m02759c <-- 1.0 m01371c + 1.0 m01597c + 1.0 m02494c\n",
      "FLUX : -34.732089302472836 --- ID : HMR_0196 --- compartment : {'C_c'} \n",
      "\n",
      "---\n",
      "\n",
      "\n",
      "1.0 AMP + 1.0 docosanoyl-CoA + 1.0 PPi <-- 1.0 ATP + 1.0 behenic acid + 1.0 CoA\n",
      "\n",
      "1.0 m01334c + 1.0 m01725c + 1.0 m02759c <-- 1.0 m01371c + 1.0 m01373c + 1.0 m01597c\n",
      "FLUX : -0.7034569993293526 --- ID : HMR_0313 --- compartment : {'C_c'} \n",
      "\n",
      "---\n",
      "\n",
      "\n",
      "1.0 AMP + 1.0 cis-vaccenoyl-CoA + 1.0 PPi <-- 1.0 ATP + 1.0 cis-vaccenic acid + 1.0 CoA\n",
      "\n",
      "1.0 m01334c + 1.0 m01586c + 1.0 m02759c <-- 1.0 m01371c + 1.0 m01585c + 1.0 m01597c\n",
      "FLUX : -15.408234980193235 --- ID : HMR_0259 --- compartment : {'C_c'} \n",
      "\n",
      "---\n",
      "\n",
      "\n",
      "1.0 7-hexadecenoyl-CoA + 1.0 AMP + 1.0 PPi <-- 1.0 7-palmitoleic acid + 1.0 ATP + 1.0 CoA\n",
      "\n",
      "1.0 m01191c + 1.0 m01334c + 1.0 m02759c <-- 1.0 m01197c + 1.0 m01371c + 1.0 m01597c\n",
      "FLUX : -0.331263823727646 --- ID : HMR_0233 --- compartment : {'C_c'} \n",
      "\n",
      "---\n",
      "\n",
      "\n",
      "1.0 7-hexadecenoyl-CoA + 1.0 L-carnitine <-- 1.0 CoA + 1.0 hexadecenoylcarnitine(9)\n",
      "\n",
      "1.0 m01191c + 1.0 m02348c <-- 1.0 m01597c + 1.0 m02117c\n",
      "FLUX : -4.971040403474402 --- ID : HMR_2633 --- compartment : {'C_c'} \n",
      "\n",
      "---\n",
      "\n",
      "\n",
      "1.0 7-hexadecenoyl-CoA + 1.0 sn-glycerol-3-phosphate --> 1.0 1-acylglycerol-3P-7-hexade + 1.0 CoA\n",
      "\n",
      "1.0 m01191c + 1.0 m02914c --> 1.0 m00461c + 1.0 m01597c\n",
      "FLUX : 4.230830325391059 --- ID : HMR_0495 --- compartment : {'C_c'} \n",
      "\n",
      "---\n",
      "\n",
      "\n",
      "1.0 H+ + 1.0 NADPH + 1.0 O2 + 1.0 palmitoyl-CoA --> 1.0 7-hexadecenoyl-CoA + 2.0 H2O + 1.0 NADP+\n",
      "\n",
      "1.0 m02039c + 1.0 m02555c + 1.0 m02630c + 1.0 m02678c --> 1.0 m01191c + 2.0 m02040c + 1.0 m02554c\n",
      "FLUX : 6.257837068092922 --- ID : HMR_2287 --- compartment : {'C_c'} \n",
      "\n",
      "---\n",
      "\n",
      "\n",
      "1.0 cystine + 1.0 H+ + 1.0 NADPH --> 2.0 cysteine + 1.0 NADP+\n",
      "\n",
      "1.0 m01629c + 1.0 m02039c + 1.0 m02555c --> 2.0 m01628c + 1.0 m02554c\n",
      "FLUX : 513.5358833310652 --- ID : HMR_3995 --- compartment : {'C_c'} \n",
      "\n",
      "---\n",
      "\n",
      "\n",
      "1.0 cystine + 1.0 glutamate --> 1.0 cystine + 1.0 glutamate\n",
      "\n",
      "1.0 m01629s + 1.0 m01974c --> 1.0 m01629c + 1.0 m01974s\n",
      "FLUX : 513.5358833310652 --- ID : HMR_4931 --- compartment : {'C_c', 'C_s'} \n",
      "\n",
      "---\n",
      "\n",
      "\n",
      "1.0 cystine --> 1.0 cystine\n",
      "\n",
      "1.0 m01629x --> 1.0 m01629s\n",
      "FLUX : 513.5358833310652 --- ID : HMR_9363 --- compartment : {'C_s', 'C_x'} \n",
      "\n",
      "---\n",
      "\n",
      "\n",
      "1.0 cystine --> \n",
      "\n",
      "1.0 m01629x --> \n",
      "FLUX : -513.5358833310652 --- ID : EX_m01629x --- compartment : {'C_x'} \n",
      "\n",
      "---\n",
      "\n",
      "\n",
      "1.0 alanine + 1.0 arginine + 1.0 asparagine + 1.0 aspartate + 1.0 cholesterol + 1.0 cholesterol-ester pool + 1.0 CL pool + 1.0 cysteine + 1.0 DNA + 1.0 DNA-5-methylcytosine + 1.0 glutamate + 1.0 glutamine + 1.0 glycine + 1.0 histidine + 1.0 isoleucine + 1.0 leucine + 1.0 lipid droplet + 1.0 lysine + 1.0 methionine + 1.0 phenylalanine + 1.0 phosphatidate-LD-TAG pool + 1.0 PI pool + 1.0 proline + 1.0 RNA + 1.0 serine + 1.0 SM pool + 1.0 threonine + 1.0 tryptophan + 1.0 tyrosine + 1.0 valine + 1.0 glycogen --> 1.0 biomass\n",
      "\n",
      "1.0 m01307c + 1.0 m01365c + 1.0 m01369c + 1.0 m01370c + 1.0 m01450c + 1.0 m01451r + 1.0 m01589c + 1.0 m01628c + 1.0 m01721n + 1.0 m01722n + 1.0 m01974c + 1.0 m01975c + 1.0 m01986c + 1.0 m02125c + 1.0 m02184c + 1.0 m02360c + 1.0 m02392c + 1.0 m02426c + 1.0 m02471c + 1.0 m02724c + 1.0 m02733c + 1.0 m02750c + 1.0 m02770c + 1.0 m02847c + 1.0 m02896c + 1.0 m02908c + 1.0 m02993c + 1.0 m03089c + 1.0 m03101c + 1.0 m03135c + 1.0 m03161c --> 1.0 temp001x\n",
      "FLUX : 27.07176666213051 --- ID : biomass_components --- compartment : {'C_c', 'C_r', 'C_x', 'C_n'} \n",
      "\n",
      "---\n",
      "\n",
      "\n",
      "1.0 alanine + 1.0 GSH --> 1.0 (5-L-glutamyl)-L-amino acid + 1.0 cys-gly\n",
      "\n",
      "1.0 m01307c + 1.0 m02026c --> 1.0 m00097s + 1.0 m01626s\n",
      "FLUX : 194.52016760385612 --- ID : HMR_8769 --- compartment : {'C_c', 'C_s'} \n",
      "\n",
      "---\n",
      "\n",
      "\n",
      "1.0 alanine + 1.0 H+ + 1.0 Na+ --> 1.0 alanine + 1.0 H+ + 1.0 Na+\n",
      "\n",
      "1.0 m01307s + 1.0 m02039c + 1.0 m02519s --> 1.0 m01307c + 1.0 m02039s + 1.0 m02519c\n",
      "FLUX : 11.406623474985361 --- ID : HMR_9605 --- compartment : {'C_c', 'C_s'} \n",
      "\n",
      "---\n",
      "\n",
      "\n",
      "1.0 alanine + 1.0 glutamine + 1.0 Na+ --> 1.0 alanine + 1.0 glutamine + 1.0 Na+\n",
      "\n",
      "1.0 m01307s + 1.0 m01975c + 1.0 m02519s --> 1.0 m01307c + 1.0 m01975s + 1.0 m02519c\n",
      "FLUX : 85.26667608948033 --- ID : HMR_5603 --- compartment : {'C_c', 'C_s'} \n",
      "\n",
      "---\n",
      "\n",
      "\n",
      "1.0 alanine <-- 1.0 alanine\n",
      "\n",
      "1.0 m01307x <-- 1.0 m01307s\n",
      "FLUX : -210.7286490786874 --- ID : HMR_9061 --- compartment : {'C_s', 'C_x'} \n",
      "\n",
      "---\n",
      "\n",
      "\n",
      "1.0 alanine <-- \n",
      "\n",
      "1.0 m01307x <-- \n",
      "FLUX : 210.72864907868737 --- ID : EX_m01307x --- compartment : {'C_x'} \n",
      "\n",
      "---\n",
      "\n",
      "\n",
      "1.0 alanine + 1.0 ornithine --> 1.0 alanine + 1.0 ornithine\n",
      "\n",
      "1.0 m01307c + 1.0 m02658s --> 1.0 m01307s + 1.0 m02658c\n",
      "FLUX : 307.4019486431531 --- ID : HMR_5940 --- compartment : {'C_c', 'C_s'} \n",
      "\n",
      "---\n",
      "\n",
      "\n",
      "1.0 ornithine --> 1.0 ornithine\n",
      "\n",
      "1.0 m02658x --> 1.0 m02658s\n",
      "FLUX : 307.4019486431531 --- ID : HMR_9087 --- compartment : {'C_s', 'C_x'} \n",
      "\n",
      "---\n",
      "\n",
      "\n",
      "1.0 ornithine --> \n",
      "\n",
      "1.0 m02658x --> \n",
      "FLUX : -307.4019486431531 --- ID : EX_m02658x --- compartment : {'C_x'} \n",
      "\n",
      "---\n",
      "\n",
      "\n",
      "1.0 arginine + 1.0 H+ + 1.0 ornithine --> 1.0 arginine + 1.0 H+ + 1.0 ornithine\n",
      "\n",
      "1.0 m01365m + 1.0 m02039c + 1.0 m02658c --> 1.0 m01365c + 1.0 m02039m + 1.0 m02658m\n",
      "FLUX : 585.1436360275022 --- ID : HMR_6307 --- compartment : {'C_c', 'C_m'} \n",
      "\n",
      "---\n",
      "\n",
      "\n",
      "1.0 arginine + 1.0 H+ --> 1.0 arginine + 1.0 H+\n",
      "\n",
      "1.0 m01365c + 1.0 m02039c --> 1.0 m01365m + 1.0 m02039m\n",
      "FLUX : 585.1436360275022 --- ID : HMR_6323 --- compartment : {'C_c', 'C_m'} \n",
      "\n",
      "---\n",
      "\n",
      "\n",
      "1.0 arginine --> 1.0 arginine\n",
      "\n",
      "1.0 m01365s --> 1.0 m01365c\n",
      "FLUX : 27.071766662130543 --- ID : HMR_5068 --- compartment : {'C_c', 'C_s'} \n",
      "\n",
      "---\n",
      "\n",
      "\n",
      "1.0 arginine --> 1.0 arginine\n",
      "\n",
      "1.0 m01365x --> 1.0 m01365s\n",
      "FLUX : 27.071766662130536 --- ID : HMR_9066 --- compartment : {'C_s', 'C_x'} \n",
      "\n",
      "---\n",
      "\n",
      "\n",
      "1.0 arginine --> \n",
      "\n",
      "1.0 m01365x --> \n",
      "FLUX : -27.071766662130536 --- ID : EX_m01365x --- compartment : {'C_x'} \n",
      "\n",
      "---\n",
      "\n",
      "\n",
      "1.0 (2E)-nonadecenoyl-CoA + 1.0 H+ + 1.0 NADPH --> 1.0 NADP+ + 1.0 nonadecanoyl-CoA\n",
      "\n",
      "1.0 m00054c + 1.0 m02039c + 1.0 m02555c --> 1.0 m02554c + 1.0 m02612c\n",
      "FLUX : 0.124878470349028 --- ID : HMR_2262 --- compartment : {'C_c'} \n",
      "\n",
      "---\n",
      "\n",
      "\n",
      "1.0 3-hydroxynonadecanoyl-CoA --> 1.0 (2E)-nonadecenoyl-CoA + 1.0 H2O\n",
      "\n",
      "1.0 m00790c --> 1.0 m00054c + 1.0 m02040c\n",
      "FLUX : 0.124878470349028 --- ID : HMR_2261 --- compartment : {'C_c'} \n",
      "\n",
      "---\n",
      "\n",
      "\n",
      "1.0 H2O + 1.0 SAH <-- 1.0 adenosine + 1.0 homocysteine\n",
      "\n",
      "1.0 m02040c + 1.0 m02871c <-- 1.0 m01280c + 1.0 m02133c\n",
      "FLUX : -4.400804367483885e-15 --- ID : HMR_3877 --- compartment : {'C_c'} \n",
      "\n",
      "---\n",
      "\n",
      "\n",
      "1.0 3(S)-hydroxy-11-cis-docosenoyl-CoA --> 1.0 H2O + 1.0 trans,cis-2,11-docosadienoyl-CoA\n",
      "\n",
      "1.0 m00699c --> 1.0 m02040c + 1.0 m03011c\n",
      "FLUX : 0.06230355542754864 --- ID : HMR_2355 --- compartment : {'C_c'} \n",
      "\n",
      "---\n",
      "\n",
      "\n",
      "1.0 3(S)-hydroxy-10,13,16-all-cis-docosatrienoyl-CoA --> 1.0 H2O + 1.0 trans,cis,cis,cis-2,10,13,16-docosatetraenoyl-CoA\n",
      "\n",
      "1.0 m00698c --> 1.0 m02040c + 1.0 m03004c\n",
      "FLUX : 0.06230355542754864 --- ID : HMR_2419 --- compartment : {'C_c'} \n",
      "\n",
      "---\n",
      "\n",
      "\n",
      "1.0 alkyl-glycerone-3-phosphate + 1.0 fatty acid-LD-TG2 pool --> 1.0 2-acyl-1-alkyl-sn-glycero-3-phosphate + 1.0 H2O\n",
      "\n",
      "1.0 m01311c + 1.0 m01814c --> 1.0 m00628c + 1.0 m02040c\n",
      "FLUX : 0.08662965331881767 --- ID : HMR_7597 --- compartment : {'C_c'} \n",
      "\n",
      "---\n",
      "\n",
      "\n",
      "1.0 alkyl-glycerone-3-phosphate <-- 1.0 alkyl-glycerone-3-phosphate\n",
      "\n",
      "1.0 m01311c <-- 1.0 m01311p\n",
      "FLUX : -0.08662965331881767 --- ID : HMR_7596 --- compartment : {'C_c', 'C_p'} \n",
      "\n",
      "---\n",
      "\n",
      "\n",
      "1.0 acylglycerone-phosphate + 1.0 hexadecanol --> 1.0 alkyl-glycerone-3-phosphate + 1.0 palmitate\n",
      "\n",
      "1.0 m01278p + 1.0 m02114p --> 1.0 m01311p + 1.0 m02674p\n",
      "FLUX : 0.08662965331881768 --- ID : HMR_7594 --- compartment : {'C_p'} \n",
      "\n",
      "---\n",
      "\n",
      "\n",
      "1.0 acylglycerone-phosphate --> 1.0 acylglycerone-phosphate\n",
      "\n",
      "1.0 m01278c --> 1.0 m01278p\n",
      "FLUX : 0.08662965331881768 --- ID : HMR_7590 --- compartment : {'C_c', 'C_p'} \n",
      "\n",
      "---\n",
      "\n",
      "\n",
      "2.0 H+ + 2.0 NADPH + 1.0 palmitoyl-CoA --> 1.0 CoA + 1.0 hexadecanol + 2.0 NADP+\n",
      "\n",
      "2.0 m02039p + 2.0 m02555p + 1.0 m02678p --> 1.0 m01597p + 1.0 m02114p + 2.0 m02554p\n",
      "FLUX : 0.08662965331881768 --- ID : HMR_0703 --- compartment : {'C_p'} \n",
      "\n",
      "---\n",
      "\n",
      "\n",
      "1.0 (S)-3-hydroxy-7-hexadecenoyl-CoA + 1.0 NAD+ --> 1.0 3-oxo-7-hexadecenoyl-CoA + 1.0 H+ + 1.0 NADH\n",
      "\n",
      "1.0 m00172p + 1.0 m02552p --> 1.0 m00849p + 1.0 m02039p + 1.0 m02553p\n",
      "FLUX : 1.2449570677160347e-19 --- ID : HMR_3348 --- compartment : {'C_p'} \n",
      "\n",
      "---\n",
      "\n",
      "\n",
      "1.0 H2O + 1.0 trans,cis-hexadeca-2,7-dienoyl-CoA --> 1.0 (S)-3-hydroxy-7-hexadecenoyl-CoA\n",
      "\n",
      "1.0 m02040p + 1.0 m03019p --> 1.0 m00172p\n",
      "FLUX : 1.2449570677160347e-19 --- ID : HMR_3347 --- compartment : {'C_p'} \n",
      "\n",
      "---\n",
      "\n",
      "\n",
      "1.0 (2E)-docosenoyl-CoA + 1.0 H2O --> 1.0 3-hydroxydocosanoyl-CoA\n",
      "\n",
      "1.0 m00040p + 1.0 m02040p --> 1.0 m00776p\n",
      "FLUX : 0.8058758281491692 --- ID : HMR_3067 --- compartment : {'C_p'} \n",
      "\n",
      "---\n",
      "\n",
      "\n",
      "1.0 docosanoyl-CoA + 1.0 O2 --> 1.0 (2E)-docosenoyl-CoA + 1.0 H2O2\n",
      "\n",
      "1.0 m01725p + 1.0 m02630p --> 1.0 m00040p + 1.0 m02041p\n",
      "FLUX : 0.8058758281491691 --- ID : HMR_3066 --- compartment : {'C_p'} \n",
      "\n",
      "---\n",
      "\n",
      "\n",
      "1.0 3-oxotetracosanoyl-CoA + 1.0 CoA --> 1.0 acetyl-CoA + 1.0 docosanoyl-CoA\n",
      "\n",
      "1.0 m00904p + 1.0 m01597p --> 1.0 m01261p + 1.0 m01725p\n",
      "FLUX : 0.8058758281491691 --- ID : HMR_3065 --- compartment : {'C_p'} \n",
      "\n",
      "---\n",
      "\n",
      "\n",
      "1.0 3-hydroxytetracosanoyl-CoA + 1.0 NAD+ --> 1.0 3-oxotetracosanoyl-CoA + 1.0 H+ + 1.0 NADH\n",
      "\n",
      "1.0 m00800p + 1.0 m02552p --> 1.0 m00904p + 1.0 m02039p + 1.0 m02553p\n",
      "FLUX : 0.8058758281491691 --- ID : HMR_3064 --- compartment : {'C_p'} \n",
      "\n",
      "---\n",
      "\n",
      "\n",
      "1.0 (2E)-tetracosenoyl-CoA + 1.0 H2O --> 1.0 3-hydroxytetracosanoyl-CoA\n",
      "\n",
      "1.0 m00064p + 1.0 m02040p --> 1.0 m00800p\n",
      "FLUX : 0.8058758281491691 --- ID : HMR_3063 --- compartment : {'C_p'} \n",
      "\n",
      "---\n",
      "\n",
      "\n",
      "1.0 O2 + 1.0 tetracosanoyl-CoA --> 1.0 (2E)-tetracosenoyl-CoA + 1.0 H2O2\n",
      "\n",
      "1.0 m02630p + 1.0 m02971p --> 1.0 m00064p + 1.0 m02041p\n",
      "FLUX : 0.805875828149169 --- ID : HMR_3062 --- compartment : {'C_p'} \n",
      "\n",
      "---\n",
      "\n",
      "\n",
      "1.0 O2 + 1.0 stearoyl-CoA --> 1.0 (2E)-octadecenoyl-CoA + 1.0 H2O2\n",
      "\n",
      "1.0 m02630p + 1.0 m02941p --> 1.0 m00057p + 1.0 m02041p\n",
      "FLUX : 0.8058758281491695 --- ID : HMR_3074 --- compartment : {'C_p'} \n",
      "\n",
      "---\n",
      "\n",
      "\n",
      "1.0 O2 + 1.0 oleoyl-CoA --> 1.0 H2O2 + 1.0 trans,cis-octadeca-2,9-dienoyl-CoA\n",
      "\n",
      "1.0 m02630p + 1.0 m02647p --> 1.0 m02041p + 1.0 m03025p\n",
      "FLUX : 1.2449570677160342e-19 --- ID : HMR_3342 --- compartment : {'C_p'} \n",
      "\n",
      "---\n",
      "\n",
      "\n",
      "1.0 cis,cis-3,6-dodecadienoyl-CoA + 1.0 O2 --> 1.0 H2O2 + 1.0 trans,cis-lauro-2,6-dienoyl-CoA\n",
      "\n",
      "1.0 m01575p + 1.0 m02630p --> 1.0 m02041p + 1.0 m03021p\n",
      "FLUX : 68.65031562825865 --- ID : HMR_3316 --- compartment : {'C_p'} \n",
      "\n",
      "---\n",
      "\n",
      "\n",
      "1.0 3-oxo-cis,cis-5,8-tetradecadienoyl-CoA + 1.0 CoA --> 1.0 acetyl-CoA + 1.0 cis,cis-3,6-dodecadienoyl-CoA\n",
      "\n",
      "1.0 m00854p + 1.0 m01597p --> 1.0 m01261p + 1.0 m01575p\n",
      "FLUX : 68.65031562825865 --- ID : HMR_3315 --- compartment : {'C_p'} \n",
      "\n",
      "---\n",
      "\n",
      "\n",
      "1.0 3(S)-hydroxy-(5Z,8Z)-tetradecadienoyl-CoA + 1.0 NAD+ --> 1.0 3-oxo-cis,cis-5,8-tetradecadienoyl-CoA + 1.0 H+ + 1.0 NADH\n",
      "\n",
      "1.0 m00696p + 1.0 m02552p --> 1.0 m00854p + 1.0 m02039p + 1.0 m02553p\n",
      "FLUX : 68.65031562825867 --- ID : HMR_3314 --- compartment : {'C_p'} \n",
      "\n",
      "---\n",
      "\n",
      "\n",
      "1.0 H2O + 1.0 trans-2-cis,cis-5,8-tetradecatrienoyl-CoA --> 1.0 3(S)-hydroxy-(5Z,8Z)-tetradecadienoyl-CoA\n",
      "\n",
      "1.0 m02040p + 1.0 m03030p --> 1.0 m00696p\n",
      "FLUX : 68.65031562825867 --- ID : HMR_3312 --- compartment : {'C_p'} \n",
      "\n",
      "---\n",
      "\n",
      "\n",
      "1.0 H2O + 1.0 trans,cis-2,13-docosadienoyl-CoA --> 1.0 3(S)-hydroxy-13-cis-docosenoyl-CoA\n",
      "\n",
      "1.0 m02040p + 1.0 m03013p --> 1.0 m00701p\n",
      "FLUX : 1.2449570677160337e-19 --- ID : HMR_3335 --- compartment : {'C_p'} \n",
      "\n",
      "---\n",
      "\n",
      "\n",
      "1.0 H2O + 1.0 trans,cis,cis-2,7,10-hexadecatrienoyl-CoA --> 1.0 (3S)-3-hydroxy-cis,cis-palmito-7,10-dienoyl-CoA\n",
      "\n",
      "1.0 m02040p + 1.0 m03009p --> 1.0 m00081p\n",
      "FLUX : 68.65031562825867 --- ID : HMR_3307 --- compartment : {'C_p'} \n",
      "\n",
      "---\n",
      "\n",
      "\n",
      "1.0 (2E)-octadecenoyl-CoA + 1.0 H2O --> 1.0 3-hydroxyoctadecanoyl-CoA\n",
      "\n",
      "1.0 m00057p + 1.0 m02040p --> 1.0 m00793p\n",
      "FLUX : 0.8058758281491696 --- ID : HMR_3075 --- compartment : {'C_p'} \n",
      "\n",
      "---\n",
      "\n",
      "\n",
      "1.0 H2O + 1.0 trans,cis-octadeca-2,9-dienoyl-CoA --> 1.0 (S)-3-hydroxyoleyleoyl-CoA\n",
      "\n",
      "1.0 m02040p + 1.0 m03025p --> 1.0 m00176p\n",
      "FLUX : 1.2449570677160344e-19 --- ID : HMR_3343 --- compartment : {'C_p'} \n",
      "\n",
      "---\n",
      "\n",
      "\n",
      "1.0 H2O + 1.0 trans,cis-lauro-2,6-dienoyl-CoA --> 1.0 (3S)-3-hydroxydodec-cis-6-enoyl-CoA\n",
      "\n",
      "1.0 m02040p + 1.0 m03021p --> 1.0 m00082p\n",
      "FLUX : 68.65031562825867 --- ID : HMR_3317 --- compartment : {'C_p'} \n",
      "\n",
      "---\n",
      "\n",
      "\n",
      "2.0 H2O2 --> 2.0 H2O + 1.0 O2\n",
      "\n",
      "2.0 m02041p --> 2.0 m02040p + 1.0 m02630p\n",
      "FLUX : 346.5742770288782 --- ID : HMR_3984 --- compartment : {'C_p'} \n",
      "\n",
      "---\n",
      "\n",
      "\n",
      "1.0 H2O2 --> 1.0 H2O2\n",
      "\n",
      "1.0 m02041c --> 1.0 m02041p\n",
      "FLUX : 346.57427702887844 --- ID : HMR_3947 --- compartment : {'C_c', 'C_p'} \n",
      "\n",
      "---\n",
      "\n",
      "\n",
      "1.0 H2O2 <-- 1.0 H2O2\n",
      "\n",
      "1.0 m02041c <-- 1.0 m02041s\n",
      "FLUX : -1000.0 --- ID : HMR_8408 --- compartment : {'C_c', 'C_s'} \n",
      "\n",
      "---\n",
      "\n",
      "\n",
      "2.0 H2O2 --> 2.0 H2O + 1.0 O2\n",
      "\n",
      "2.0 m02041c --> 2.0 m02040c + 1.0 m02630c\n",
      "FLUX : 480.92088658551415 --- ID : HMR_3980 --- compartment : {'C_c'} \n",
      "\n",
      "---\n",
      "\n",
      "\n",
      "3.0 O2 + 1.0 protoporphyrinogen IX --> 3.0 H2O2 + 1.0 protoporphyrin\n",
      "\n",
      "3.0 m02630c + 1.0 m02804c --> 3.0 m02041c + 1.0 m02803c\n",
      "FLUX : 13.76003503976965 --- ID : HMR_4757 --- compartment : {'C_c'} \n",
      "\n",
      "---\n",
      "\n",
      "\n",
      "1.0 H+ + 1.0 NADPH + 1.0 O2 + 1.0 stearoyl-CoA --> 1.0 (7Z)-octadecenoyl-CoA + 2.0 H2O + 1.0 NADP+\n",
      "\n",
      "1.0 m02039c + 1.0 m02555c + 1.0 m02630c + 1.0 m02941c --> 1.0 m00116c + 2.0 m02040c + 1.0 m02554c\n",
      "FLUX : 0.5181744900102919 --- ID : HMR_2296 --- compartment : {'C_c'} \n",
      "\n",
      "---\n",
      "\n",
      "\n",
      "4.0 ferrocytochrome C + 8.0 H+ + 1.0 O2 --> 4.0 ferricytochrome C + 4.0 H+ + 2.0 H2O\n",
      "\n",
      "4.0 m01826m + 8.0 m02039m + 1.0 m02630m --> 4.0 m01824m + 4.0 m02039c + 2.0 m02040m\n",
      "FLUX : 655.3578296169626 --- ID : HMR_6914 --- compartment : {'C_c', 'C_m'} \n",
      "\n",
      "---\n",
      "\n",
      "\n",
      "2.0 ferricytochrome C + 2.0 H+ + 1.0 ubiquinol --> 2.0 ferrocytochrome C + 4.0 H+ + 1.0 ubiquinone\n",
      "\n",
      "2.0 m01824m + 2.0 m02039m + 1.0 m03102m --> 2.0 m01826m + 4.0 m02039c + 1.0 m03103m\n",
      "FLUX : 1000.0 --- ID : HMR_6918 --- compartment : {'C_c', 'C_m'} \n",
      "\n",
      "---\n",
      "\n",
      "\n",
      "2.0 ferricytochrome C + 1.0 L-lactate --> 2.0 ferrocytochrome C + 2.0 H+ + 1.0 pyruvate\n",
      "\n",
      "2.0 m01824m + 1.0 m02403c --> 2.0 m01826m + 2.0 m02039c + 1.0 m02819c\n",
      "FLUX : 310.7156592339254 --- ID : HMR_8514 --- compartment : {'C_c', 'C_m'} \n",
      "\n",
      "---\n",
      "\n",
      "\n",
      "1.0 H+ + 1.0 L-lactate <-- 1.0 H+ + 1.0 L-lactate\n",
      "\n",
      "1.0 m02039c + 1.0 m02403c <-- 1.0 m02039p + 1.0 m02403p\n",
      "FLUX : -678.3950758892515 --- ID : HMR_3007 --- compartment : {'C_c', 'C_p'} \n",
      "\n",
      "---\n",
      "\n",
      "\n",
      "1.0 3-oxodocasa-cis,cis-13,16-dienoyl-CoA + 1.0 H+ + 1.0 NADPH --> 1.0 (3S)-hydroxy-docasa-cis,cis-13,16-dienoyl-CoA + 1.0 NADP+\n",
      "\n",
      "1.0 m00860c + 1.0 m02039c + 1.0 m02555c --> 1.0 m00085c + 1.0 m02554c\n",
      "FLUX : 0.06230355542754863 --- ID : HMR_2434 --- compartment : {'C_c'} \n",
      "\n",
      "---\n",
      "\n",
      "\n",
      "1.0 (11Z,14Z)-eicosadienoyl-CoA + 1.0 malonyl-CoA --> 1.0 3-oxodocasa-cis,cis-13,16-dienoyl-CoA + 1.0 CO2 + 1.0 CoA\n",
      "\n",
      "1.0 m00009c + 1.0 m02444c --> 1.0 m00860c + 1.0 m01596c + 1.0 m01597c\n",
      "FLUX : 0.06230355542754863 --- ID : HMR_2433 --- compartment : {'C_c'} \n",
      "\n",
      "---\n",
      "\n",
      "\n",
      "1.0 (11Z,14Z)-eicosadienoyl-CoA + 1.0 L-carnitine --> 1.0 CoA + 1.0 eicosadienoylcarnitine\n",
      "\n",
      "1.0 m00009c + 1.0 m02348c --> 1.0 m01597c + 1.0 m01770c\n",
      "FLUX : 0.8058758281491691 --- ID : HMR_2768 --- compartment : {'C_c'} \n",
      "\n",
      "---\n",
      "\n",
      "\n",
      "1.0 (11Z,14Z)-eicosadienoic acid + 1.0 ATP + 1.0 CoA --> 1.0 (11Z,14Z)-eicosadienoyl-CoA + 1.0 AMP + 1.0 PPi\n",
      "\n",
      "1.0 m00008c + 1.0 m01371c + 1.0 m01597c --> 1.0 m00009c + 1.0 m01334c + 1.0 m02759c\n",
      "FLUX : 1.2617467627319126 --- ID : HMR_0429 --- compartment : {'C_c'} \n",
      "\n",
      "---\n",
      "\n",
      "\n",
      "1.0 (13Z)-eicosenoic acid + 1.0 ATP + 1.0 CoA --> 1.0 (13Z)-eicosenoyl-CoA + 1.0 AMP + 1.0 PPi\n",
      "\n",
      "1.0 m00017c + 1.0 m01371c + 1.0 m01597c --> 1.0 m00018c + 1.0 m01334c + 1.0 m02759c\n",
      "FLUX : 0.331263823727646 --- ID : HMR_0289 --- compartment : {'C_c'} \n",
      "\n",
      "---\n",
      "\n",
      "\n",
      "1.0 (13Z)-eicosenoic acid --> 1.0 (13Z)-eicosenoic acid\n",
      "\n",
      "1.0 m00017s --> 1.0 m00017c\n",
      "FLUX : 0.062032195933617765 --- ID : HMR_0288 --- compartment : {'C_c', 'C_s'} \n",
      "\n",
      "---\n",
      "\n",
      "\n",
      "1.0 ADP + 1.0 dUDP --> 1.0 ATP + 1.0 dUMP\n",
      "\n",
      "1.0 m01285c + 1.0 m01754c --> 1.0 m01371c + 1.0 m01755c\n",
      "FLUX : 22.19884866294702 --- ID : HMR_3968 --- compartment : {'C_c'} \n",
      "\n",
      "---\n",
      "\n",
      "\n",
      "1.0 ATP + 1.0 choline --> 1.0 ADP + 1.0 phosphocholine\n",
      "\n",
      "1.0 m01371c + 1.0 m01513c --> 1.0 m01285c + 1.0 m02738c\n",
      "FLUX : 296.76090731274877 --- ID : HMR_0636 --- compartment : {'C_c'} \n",
      "\n",
      "---\n",
      "\n",
      "\n",
      "1.0 AMP + 1.0 octanoyl-CoA + 1.0 PPi --> 1.0 ATP + 1.0 CoA + 1.0 octanoic acid\n",
      "\n",
      "1.0 m01334c + 1.0 m02644c + 1.0 m02759c --> 1.0 m01371c + 1.0 m01597c + 1.0 m02642c\n",
      "FLUX : 344.9797456455626 --- ID : HMR_0174 --- compartment : {'C_c'} \n",
      "\n",
      "---\n",
      "\n",
      "\n",
      "1.0 (4Z,7Z,10Z,13Z,16Z)-DPA + 1.0 ATP + 1.0 CoA --> 1.0 (4Z,7Z,10Z,13Z,16Z)-docosapentaenoyl-CoA + 1.0 AMP + 1.0 PPi\n",
      "\n",
      "1.0 m00094c + 1.0 m01371c + 1.0 m01597c --> 1.0 m00093c + 1.0 m01334c + 1.0 m02759c\n",
      "FLUX : 2.862041124991512 --- ID : HMR_0425 --- compartment : {'C_c'} \n",
      "\n",
      "---\n",
      "\n",
      "\n",
      "1.0 (4Z,7Z,10Z,13Z,16Z)-DPA --> 1.0 (4Z,7Z,10Z,13Z,16Z)-DPA\n",
      "\n",
      "1.0 m00094s --> 1.0 m00094c\n",
      "FLUX : 0.062032195933617765 --- ID : HMR_0424 --- compartment : {'C_c', 'C_s'} \n",
      "\n",
      "---\n",
      "\n",
      "\n",
      "1.0 AMP + 1.0 gamma-linolenoyl-CoA + 1.0 PPi <-- 1.0 ATP + 1.0 CoA + 1.0 gamma-linolenate\n",
      "\n",
      "1.0 m01334c + 1.0 m01934c + 1.0 m02759c <-- 1.0 m01371c + 1.0 m01597c + 1.0 m01932c\n",
      "FLUX : -3.5698549859605144 --- ID : HMR_0401 --- compartment : {'C_c'} \n",
      "\n",
      "---\n",
      "\n",
      "\n",
      "1.0 (6Z,9Z,12Z,15Z,18Z,21Z)-THA + 1.0 ATP + 1.0 CoA --> 1.0 (6Z,9Z,12Z,15Z,18Z,21Z)-tetracosahexaenoyl-CoA + 1.0 AMP + 1.0 PPi\n",
      "\n",
      "1.0 m00114c + 1.0 m01371c + 1.0 m01597c --> 1.0 m00113c + 1.0 m01334c + 1.0 m02759c\n",
      "FLUX : 0.331263823727646 --- ID : HMR_0373 --- compartment : {'C_c'} \n",
      "\n",
      "---\n",
      "\n",
      "\n",
      "1.0 (6Z,9Z,12Z,15Z,18Z,21Z)-THA --> 1.0 (6Z,9Z,12Z,15Z,18Z,21Z)-THA\n",
      "\n",
      "1.0 m00114s --> 1.0 m00114c\n",
      "FLUX : 0.062032195933617765 --- ID : HMR_0372 --- compartment : {'C_c', 'C_s'} \n",
      "\n",
      "---\n",
      "\n",
      "\n",
      "1.0 AMP + 1.0 linolenoyl-CoA + 1.0 PPi <-- 1.0 ATP + 1.0 CoA + 1.0 linolenate\n",
      "\n",
      "1.0 m01334c + 1.0 m02390c + 1.0 m02759c <-- 1.0 m01371c + 1.0 m01597c + 1.0 m02389c\n",
      "FLUX : -9.248651022429828 --- ID : HMR_0349 --- compartment : {'C_c'} \n",
      "\n",
      "---\n",
      "\n",
      "\n",
      "1.0 (9E)-tetradecenoic acid + 1.0 ATP + 1.0 CoA --> 1.0 (9E)-tetradecenoyl-CoA + 1.0 AMP + 1.0 PPi\n",
      "\n",
      "1.0 m00128c + 1.0 m01371c + 1.0 m01597c --> 1.0 m00129c + 1.0 m01334c + 1.0 m02759c\n",
      "FLUX : 0.33126382372764607 --- ID : HMR_0200 --- compartment : {'C_c'} \n",
      "\n",
      "---\n",
      "\n",
      "\n",
      "1.0 (9E)-tetradecenoic acid --> 1.0 (9E)-tetradecenoic acid\n",
      "\n",
      "1.0 m00128s --> 1.0 m00128c\n",
      "FLUX : 0.062032195933617765 --- ID : HMR_0199 --- compartment : {'C_c', 'C_s'} \n",
      "\n",
      "---\n",
      "\n",
      "\n",
      "1.0 ATP + 1.0 fructose-6-phosphate --> 1.0 ADP + 1.0 fructose-1,6-bisphosphate\n",
      "\n",
      "1.0 m01371c + 1.0 m01845c --> 1.0 m01285c + 1.0 m01841c\n",
      "FLUX : 542.6154726873038 --- ID : HMR_4379 --- compartment : {'C_c'} \n",
      "\n",
      "---\n",
      "\n",
      "\n",
      "1.0 ATP + 1.0 cytidine --> 1.0 ADP + 1.0 CMP\n",
      "\n",
      "1.0 m01371c + 1.0 m01630c --> 1.0 m01285c + 1.0 m01590c\n",
      "FLUX : 1.0828706664851397 --- ID : HMR_4180 --- compartment : {'C_c'} \n",
      "\n",
      "---\n",
      "\n",
      "\n",
      "1.0 ADP + 1.0 CTP <-- 1.0 ATP + 1.0 CDP\n",
      "\n",
      "1.0 m01285c + 1.0 m01623c <-- 1.0 m01371c + 1.0 m01424c\n",
      "FLUX : -306.0790093978541 --- ID : HMR_4028 --- compartment : {'C_c'} \n",
      "\n",
      "---\n",
      "\n",
      "\n",
      "1.0 ADP + 1.0 dTDP <-- 1.0 ATP + 1.0 dTMP\n",
      "\n",
      "1.0 m01285c + 1.0 m01747c <-- 1.0 m01371c + 1.0 m01752c\n",
      "FLUX : -16.243059997278305 --- ID : HMR_4637 --- compartment : {'C_c'} \n",
      "\n",
      "---\n",
      "\n",
      "\n",
      "1.0 ATP + 1.0 H2O + 1.0 propanoyl-CoA --> 1.0 ADP + 1.0 Pi + 1.0 propanoyl-CoA\n",
      "\n",
      "1.0 m01371c + 1.0 m02040c + 1.0 m02774c --> 1.0 m01285c + 1.0 m02751c + 1.0 m02774p\n",
      "FLUX : 68.56368597493979 --- ID : HMR_3008 --- compartment : {'C_c', 'C_p'} \n",
      "\n",
      "---\n",
      "\n",
      "\n",
      "1.0 (7Z)-tetradecenoic acid + 1.0 ATP + 1.0 CoA --> 1.0 (7Z)-tetradecenoyl-CoA + 1.0 AMP + 1.0 PPi\n",
      "\n",
      "1.0 m00117c + 1.0 m01371c + 1.0 m01597c --> 1.0 m00118c + 1.0 m01334c + 1.0 m02759c\n",
      "FLUX : 0.33126382372764607 --- ID : HMR_0204 --- compartment : {'C_c'} \n",
      "\n",
      "---\n",
      "\n",
      "\n",
      "1.0 (7Z)-tetradecenoic acid --> 1.0 (7Z)-tetradecenoic acid\n",
      "\n",
      "1.0 m00117s --> 1.0 m00117c\n",
      "FLUX : 0.062032195933617765 --- ID : HMR_0203 --- compartment : {'C_c', 'C_s'} \n",
      "\n",
      "---\n",
      "\n",
      "\n",
      "1.0 ADP + 1.0 PEP --> 1.0 ATP + 1.0 pyruvate\n",
      "\n",
      "1.0 m01285c + 1.0 m02696c --> 1.0 m01371c + 1.0 m02819c\n",
      "FLUX : 989.171293335148 --- ID : HMR_4358 --- compartment : {'C_c'} \n",
      "\n",
      "---\n",
      "\n",
      "\n",
      "1.0 ADP + 1.0 thioredoxin --> 1.0 dADP + 1.0 H2O + 1.0 oxidized thioredoxin\n",
      "\n",
      "1.0 m01285c + 1.0 m02990c --> 1.0 m01637c + 1.0 m02040c + 1.0 m02666c\n",
      "FLUX : 16.243059997278305 --- ID : HMR_4612 --- compartment : {'C_c'} \n",
      "\n",
      "---\n",
      "\n",
      "\n",
      "1.0 ATP + 1.0 beta-D-glucose --> 1.0 ADP + 1.0 beta-D-glucose-6-phosphate\n",
      "\n",
      "1.0 m01371c + 1.0 m01388c --> 1.0 m01285c + 1.0 m01389c\n",
      "FLUX : 542.2545157984748 --- ID : HMR_7746 --- compartment : {'C_c'} \n",
      "\n",
      "---\n",
      "\n",
      "\n",
      "1.0 ATP + 1.0 ethanolamine --> 1.0 ADP + 1.0 ethanolamine-phosphate\n",
      "\n",
      "1.0 m01371c + 1.0 m01797c --> 1.0 m01285c + 1.0 m01798c\n",
      "FLUX : 0.021657413329710096 --- ID : HMR_0648 --- compartment : {'C_c'} \n",
      "\n",
      "---\n",
      "\n",
      "\n",
      "1.0 ATP + 1.0 H2O + 1.0 palmitoyl-CoA --> 1.0 ADP + 1.0 palmitoyl-CoA + 1.0 Pi\n",
      "\n",
      "1.0 m01371c + 1.0 m02040c + 1.0 m02678c --> 1.0 m01285c + 1.0 m02678p + 1.0 m02751c\n",
      "FLUX : 82.68454762193313 --- ID : HMR_3011 --- compartment : {'C_c', 'C_p'} \n",
      "\n",
      "---\n",
      "\n",
      "\n",
      "1.0 ATP + 1.0 CoA + 1.0 oleate --> 1.0 AMP + 1.0 oleoyl-CoA + 1.0 PPi\n",
      "\n",
      "1.0 m01371c + 1.0 m01597c + 1.0 m02646c --> 1.0 m01334c + 1.0 m02647c + 1.0 m02759c\n",
      "FLUX : 265.70348148823285 --- ID : HMR_0263 --- compartment : {'C_c'} \n",
      "\n",
      "---\n",
      "\n",
      "\n",
      "1.0 ADP + 1.0 GTP <-- 1.0 ATP + 1.0 GDP\n",
      "\n",
      "1.0 m01285c + 1.0 m02034c <-- 1.0 m01371c + 1.0 m01948c\n",
      "FLUX : -357.51536605590206 --- ID : HMR_4016 --- compartment : {'C_c'} \n",
      "\n",
      "---\n",
      "\n",
      "\n",
      "1.0 ADP + 1.0 UDP <-- 1.0 ATP + 1.0 UMP\n",
      "\n",
      "1.0 m01285c + 1.0 m03106c <-- 1.0 m01371c + 1.0 m03114c\n",
      "FLUX : -10.828706664852206 --- ID : HMR_4008 --- compartment : {'C_c'} \n",
      "\n",
      "---\n",
      "\n",
      "\n",
      "1.0 UDP-glucose --> 1.0 UDP + 1.0 glycogen\n",
      "\n",
      "1.0 m03108c --> 1.0 m03106c + 1.0 m03161c\n",
      "FLUX : 27.071766662130514 --- ID : HMR_9727 --- compartment : {'C_c'} \n",
      "\n",
      "---\n",
      "\n",
      "\n",
      "1.0 glucose-1-phosphate + 1.0 UTP --> 1.0 PPi + 1.0 UDP-glucose\n",
      "\n",
      "1.0 m01967c + 1.0 m03130c --> 1.0 m02759c + 1.0 m03108c\n",
      "FLUX : 27.07176666213052 --- ID : HMR_3944 --- compartment : {'C_c'} \n",
      "\n",
      "---\n",
      "\n",
      "\n",
      "1.0 glucose-1-phosphate <-- 1.0 glucose-6-phosphate\n",
      "\n",
      "1.0 m01967c <-- 1.0 m01968c\n",
      "FLUX : -27.07176666213052 --- ID : HMR_4396 --- compartment : {'C_c'} \n",
      "\n",
      "---\n",
      "\n",
      "\n",
      "1.0 fructose-6-phosphate --> 1.0 glucose-6-phosphate\n",
      "\n",
      "1.0 m01845c --> 1.0 m01968c\n",
      "FLUX : 27.071766662130514 --- ID : HMR_4381 --- compartment : {'C_c'} \n",
      "\n",
      "---\n",
      "\n",
      "\n",
      "1.0 beta-D-glucose-6-phosphate --> 1.0 fructose-6-phosphate\n",
      "\n",
      "1.0 m01389c --> 1.0 m01845c\n",
      "FLUX : 542.2545157984748 --- ID : HMR_7749 --- compartment : {'C_c'} \n",
      "\n",
      "---\n",
      "\n",
      "\n",
      "1.0 UTP <-- 1.0 UTP\n",
      "\n",
      "1.0 m03130c <-- 1.0 m03130s\n",
      "FLUX : -44.939132659136675 --- ID : HMR_4947 --- compartment : {'C_c', 'C_s'} \n",
      "\n",
      "---\n",
      "\n",
      "\n",
      "1.0 UTP --> 1.0 UTP\n",
      "\n",
      "1.0 m03130x --> 1.0 m03130s\n",
      "FLUX : 44.939132659136675 --- ID : HMR_9440 --- compartment : {'C_s', 'C_x'} \n",
      "\n",
      "---\n",
      "\n",
      "\n",
      "1.0 UTP --> \n",
      "\n",
      "1.0 m03130x --> \n",
      "FLUX : -44.939132659136675 --- ID : EX_m03130x --- compartment : {'C_x'} \n",
      "\n",
      "---\n",
      "\n",
      "\n",
      "1.0 CDP-diacylglycerol-LD-PI pool + 1.0 PPi <-- 1.0 CTP + 1.0 phosphatidate-LD-PI pool\n",
      "\n",
      "1.0 m01427c + 1.0 m02759c <-- 1.0 m01623c + 1.0 m02730c\n",
      "FLUX : -27.115081488789922 --- ID : HMR_0607 --- compartment : {'C_c'} \n",
      "\n",
      "---\n",
      "\n",
      "\n",
      "1.0 CDP-diacylglycerol-LD-PI pool + 1.0 inositol --> 1.0 CMP + 1.0 PI pool\n",
      "\n",
      "1.0 m01427c + 1.0 m02171c --> 1.0 m01590c + 1.0 m02750c\n",
      "FLUX : 27.11508148878992 --- ID : HMR_0610 --- compartment : {'C_c'} \n",
      "\n",
      "---\n",
      "\n",
      "\n",
      "1.0 inositol <-- 1.0 inositol\n",
      "\n",
      "1.0 m02171c <-- 1.0 m02171s\n",
      "FLUX : -27.11508148878992 --- ID : HMR_4861 --- compartment : {'C_c', 'C_s'} \n",
      "\n",
      "---\n",
      "\n",
      "\n",
      "1.0 inositol --> 1.0 inositol\n",
      "\n",
      "1.0 m02171x --> 1.0 m02171s\n",
      "FLUX : 27.11508148878992 --- ID : HMR_9361 --- compartment : {'C_s', 'C_x'} \n",
      "\n",
      "---\n",
      "\n",
      "\n",
      "1.0 inositol --> \n",
      "\n",
      "1.0 m02171x --> \n",
      "FLUX : -27.115081488789922 --- ID : EX_m02171x --- compartment : {'C_x'} \n",
      "\n",
      "---\n",
      "\n",
      "\n",
      "1.0 CDP + 1.0 dADP --> 1.0 CMP + 1.0 dATP\n",
      "\n",
      "1.0 m01424c + 1.0 m01637c --> 1.0 m01590c + 1.0 m01642c\n",
      "FLUX : 32.4861199945566 --- ID : HMR_8469 --- compartment : {'C_c'} \n",
      "\n",
      "---\n",
      "\n",
      "\n",
      "1.0 CDP + 1.0 GDP <-- 1.0 CMP + 1.0 GTP\n",
      "\n",
      "1.0 m01424c + 1.0 m01948c <-- 1.0 m01590c + 1.0 m02034c\n",
      "FLUX : -357.51536605590206 --- ID : HMR_3967 --- compartment : {'C_c'} \n",
      "\n",
      "---\n",
      "\n",
      "\n",
      "1.0 1-alkyl-2-acylglycerol + 1.0 CDP-ethanolamine --> 1.0 1-alkyl-2-acylglycerophosphoethanolamine + 1.0 CMP\n",
      "\n",
      "1.0 m00514c + 1.0 m01428c --> 1.0 m00515c + 1.0 m01590c\n",
      "FLUX : 0.021657413329704413 --- ID : HMR_7599 --- compartment : {'C_c'} \n",
      "\n",
      "---\n",
      "\n",
      "\n",
      "1.0 2-acyl-1-alkyl-sn-glycero-3-phosphate + 1.0 H2O --> 1.0 1-alkyl-2-acylglycerol + 1.0 Pi\n",
      "\n",
      "1.0 m00628c + 1.0 m02040c --> 1.0 m00514c + 1.0 m02751c\n",
      "FLUX : 0.08662965331881767 --- ID : HMR_7598 --- compartment : {'C_c'} \n",
      "\n",
      "---\n",
      "\n",
      "\n",
      "1.0 3(S)-hydroxy-13-cis-docosenoyl-CoA --> 1.0 H2O + 1.0 trans,cis-2,13-docosadienoyl-CoA\n",
      "\n",
      "1.0 m00701c --> 1.0 m02040c + 1.0 m03013c\n",
      "FLUX : 0.0008140784817925 --- ID : HMR_2319 --- compartment : {'C_c'} \n",
      "\n",
      "---\n",
      "\n",
      "\n",
      "1.0 3(S)-hydroxy-docosa-13,16,19-all-cis-trienoyl-CoA --> 1.0 H2O + 1.0 trans,cis,cis,cis-2,13,16,19-docosatetraenoyl-CoA\n",
      "\n",
      "1.0 m00712c --> 1.0 m02040c + 1.0 m03006c\n",
      "FLUX : 0.06230355542754864 --- ID : HMR_2542 --- compartment : {'C_c'} \n",
      "\n",
      "---\n",
      "\n",
      "\n",
      "1.0 3(S)-hydroxy-3-oxo-eicosadienoyl-CoA --> 1.0 H2O + 1.0 trans,cis-2,8,11-eicosatrienoyl-CoA\n",
      "\n",
      "1.0 m00704c --> 1.0 m02040c + 1.0 m03017c\n",
      "FLUX : 0.06230355542754859 --- ID : HMR_2363 --- compartment : {'C_c'} \n",
      "\n",
      "---\n",
      "\n",
      "\n",
      "1.0 formaldehyde + 1.0 H+ + 1.0 NADPH + 1.0 sarcosine --> 1.0 dimethylglycine + 1.0 H2O + 1.0 NADP+\n",
      "\n",
      "1.0 m01831c + 1.0 m02039c + 1.0 m02555c + 1.0 m02880c --> 1.0 m01708c + 1.0 m02040c + 1.0 m02554c\n",
      "FLUX : 27.07176666213051 --- ID : HMR_4700 --- compartment : {'C_c'} \n",
      "\n",
      "---\n",
      "\n",
      "\n",
      "1.0 methanol + 1.0 NAD+ --> 1.0 formaldehyde + 1.0 H+ + 1.0 NADH\n",
      "\n",
      "1.0 m02470c + 1.0 m02552c --> 1.0 m01831c + 1.0 m02039c + 1.0 m02553c\n",
      "FLUX : 27.071766662130507 --- ID : HMR_4202 --- compartment : {'C_c'} \n",
      "\n",
      "---\n",
      "\n",
      "\n",
      "1.0 methanol <-- 1.0 methanol\n",
      "\n",
      "1.0 m02470c <-- 1.0 m02470s\n",
      "FLUX : -27.071766662130507 --- ID : HMR_5296 --- compartment : {'C_c', 'C_s'} \n",
      "\n",
      "---\n",
      "\n",
      "\n",
      "1.0 methanol --> 1.0 methanol\n",
      "\n",
      "1.0 m02470x --> 1.0 m02470s\n",
      "FLUX : 27.071766662130507 --- ID : HMR_9372 --- compartment : {'C_s', 'C_x'} \n",
      "\n",
      "---\n",
      "\n",
      "\n",
      "1.0 methanol --> \n",
      "\n",
      "1.0 m02470x --> \n",
      "FLUX : -27.071766662130507 --- ID : EX_m02470x --- compartment : {'C_x'} \n",
      "\n",
      "---\n",
      "\n",
      "\n",
      "1.0 (9Z,12Z,15Z,18Z,21Z)-tetracosapentaenoyl-CoA + 1.0 H+ + 1.0 NADH + 1.0 O2 --> 1.0 (6Z,9Z,12Z,15Z,18Z,21Z)-tetracosahexaenoyl-CoA + 2.0 H2O + 1.0 NAD+\n",
      "\n",
      "1.0 m00134c + 1.0 m02039c + 1.0 m02553c + 1.0 m02630c --> 1.0 m00113c + 2.0 m02040c + 1.0 m02552c\n",
      "FLUX : 0.06230355542754865 --- ID : HMR_2505 --- compartment : {'C_c'} \n",
      "\n",
      "---\n",
      "\n",
      "\n",
      "1.0 3-oxo-hexacosenoyl-CoA + 1.0 H+ + 1.0 NADPH --> 1.0 3(S)-hydroxy-hexacosenoyl-CoA + 1.0 NADP+\n",
      "\n",
      "1.0 m00879c + 1.0 m02039c + 1.0 m02555c --> 1.0 m00715c + 1.0 m02554c\n",
      "FLUX : 0.0623035554275486 --- ID : HMR_2334 --- compartment : {'C_c'} \n",
      "\n",
      "---\n",
      "\n",
      "\n",
      "1.0 3-oxoheneicosanoyl-CoA + 1.0 H+ + 1.0 NADPH --> 1.0 3-hydroxyheneicosanoyl-CoA + 1.0 NADP+\n",
      "\n",
      "1.0 m00873c + 1.0 m02039c + 1.0 m02555c --> 1.0 m00778c + 1.0 m02554c\n",
      "FLUX : 0.06257491492147944 --- ID : HMR_2264 --- compartment : {'C_c'} \n",
      "\n",
      "---\n",
      "\n",
      "\n",
      "1.0 malonyl-CoA + 1.0 nonadecanoyl-CoA --> 1.0 3-oxoheneicosanoyl-CoA + 1.0 CO2 + 1.0 CoA\n",
      "\n",
      "1.0 m02444c + 1.0 m02612c --> 1.0 m00873c + 1.0 m01596c + 1.0 m01597c\n",
      "FLUX : 0.06257491492147944 --- ID : HMR_2263 --- compartment : {'C_c'} \n",
      "\n",
      "---\n",
      "\n",
      "\n",
      "1.0 cis-vaccenoyl-CoA + 1.0 malonyl-CoA --> 1.0 3-oxo-13-cis-eicosenoyl-CoA + 1.0 CO2 + 1.0 CoA\n",
      "\n",
      "1.0 m01586c + 1.0 m02444c --> 1.0 m00843c + 1.0 m01596c + 1.0 m01597c\n",
      "FLUX : 0.06230355542754864 --- ID : HMR_2342 --- compartment : {'C_c'} \n",
      "\n",
      "---\n",
      "\n",
      "\n",
      "1.0 H+ + 1.0 NADPH + 1.0 O2 + 1.0 stearoyl-CoA --> 1.0 cis-vaccenoyl-CoA + 2.0 H2O + 1.0 NADP+\n",
      "\n",
      "1.0 m02039c + 1.0 m02555c + 1.0 m02630c + 1.0 m02941c --> 1.0 m01586c + 2.0 m02040c + 1.0 m02554c\n",
      "FLUX : 56.91863016929413 --- ID : HMR_2293 --- compartment : {'C_c'} \n",
      "\n",
      "---\n",
      "\n",
      "\n",
      "1.0 H+ + 1.0 NADPH + 1.0 trans,cis,cis-2,13,16-docasatrienoyl-CoA --> 1.0 (13Z,16Z)-docosadienoyl-CoA + 1.0 NADP+\n",
      "\n",
      "1.0 m02039c + 1.0 m02555c + 1.0 m03008c --> 1.0 m00023c + 1.0 m02554c\n",
      "FLUX : 0.06230355542754863 --- ID : HMR_2436 --- compartment : {'C_c'} \n",
      "\n",
      "---\n",
      "\n",
      "\n",
      "1.0 CTP + 1.0 phosphocholine --> 1.0 CDP-choline + 1.0 H+ + 1.0 PPi\n",
      "\n",
      "1.0 m01623c + 1.0 m02738c --> 1.0 m01425c + 1.0 m02039c + 1.0 m02759c\n",
      "FLUX : 296.80963649274065 --- ID : HMR_0638 --- compartment : {'C_c'} \n",
      "\n",
      "---\n",
      "\n",
      "\n",
      "1.0 CTP + 1.0 ethanolamine-phosphate --> 1.0 CDP-ethanolamine + 1.0 PPi\n",
      "\n",
      "1.0 m01623c + 1.0 m01798c --> 1.0 m01428c + 1.0 m02759c\n",
      "FLUX : 0.021657413329704413 --- ID : HMR_0651 --- compartment : {'C_c'} \n",
      "\n",
      "---\n",
      "\n",
      "\n",
      "1.0 ethanolamine-phosphate + 1.0 hexadecanal --> 1.0 sphinganine-1-phosphate\n",
      "\n",
      "1.0 m01798c + 1.0 m02113c --> 1.0 m02928c\n",
      "FLUX : 27.180053728779054 --- ID : HMR_0748 --- compartment : {'C_c'} \n",
      "\n",
      "---\n",
      "\n",
      "\n",
      "1.0 sphingosine-1-phosphate --> 1.0 ethanolamine-phosphate + 1.0 hexadecenal\n",
      "\n",
      "1.0 m02930c --> 1.0 m01798c + 1.0 m02116c\n",
      "FLUX : 27.180053728779058 --- ID : HMR_0779 --- compartment : {'C_c'} \n",
      "\n",
      "---\n",
      "\n",
      "\n",
      "1.0 H+ + 1.0 hexadecenal + 1.0 NADPH --> 1.0 hexadecanal + 1.0 NADP+\n",
      "\n",
      "1.0 m02039c + 1.0 m02116c + 1.0 m02555c --> 1.0 m02113c + 1.0 m02554c\n",
      "FLUX : 27.18005372877905 --- ID : HMR_0781 --- compartment : {'C_c'} \n",
      "\n",
      "---\n",
      "\n",
      "\n",
      "1.0 H+ + 1.0 NADPH + 1.0 trans,cis-2,17-hexacosadienoyl-CoA --> 1.0 hexacosenoyl-CoA + 1.0 NADP+\n",
      "\n",
      "1.0 m02039c + 1.0 m02555c + 1.0 m03016c --> 1.0 m02112c + 1.0 m02554c\n",
      "FLUX : 0.06230355542754859 --- ID : HMR_2338 --- compartment : {'C_c'} \n",
      "\n",
      "---\n",
      "\n",
      "\n",
      "1.0 (2E)-heneicosenoyl-CoA + 1.0 H+ + 1.0 NADPH --> 1.0 heneicosanoyl-CoA + 1.0 NADP+\n",
      "\n",
      "1.0 m00044c + 1.0 m02039c + 1.0 m02555c --> 1.0 m02052c + 1.0 m02554c\n",
      "FLUX : 0.06257491492147944 --- ID : HMR_2266 --- compartment : {'C_c'} \n",
      "\n",
      "---\n",
      "\n",
      "\n",
      "1.0 3-hydroxyheneicosanoyl-CoA --> 1.0 (2E)-heneicosenoyl-CoA + 1.0 H2O\n",
      "\n",
      "1.0 m00778c --> 1.0 m00044c + 1.0 m02040c\n",
      "FLUX : 0.06257491492147944 --- ID : HMR_2265 --- compartment : {'C_c'} \n",
      "\n",
      "---\n",
      "\n",
      "\n",
      "1.0 1,2-diacylglycerol-LD-SM pool + 1.0 H2O --> 1.0 1-acylglycerol-LD-SM pool + 1.0 fatty acid-LD-SM pool\n",
      "\n",
      "1.0 m00239c + 1.0 m02040c --> 1.0 m00508c + 1.0 m01812c\n",
      "FLUX : 27.131324548787216 --- ID : HMR_0672 --- compartment : {'C_c'} \n",
      "\n",
      "---\n",
      "\n",
      "\n",
      "1.0 H2O + 1.0 phosphatidate-LD-SM pool --> 1.0 1,2-diacylglycerol-LD-SM pool + 1.0 Pi\n",
      "\n",
      "1.0 m02040c + 1.0 m02732c --> 1.0 m00239c + 1.0 m02751c\n",
      "FLUX : 27.131324548787212 --- ID : HMR_0601 --- compartment : {'C_c'} \n",
      "\n",
      "---\n",
      "\n",
      "\n",
      "1.0 3(S)-hydroxy-cis-15-tetracosaenoyl-CoA --> 1.0 H2O + 1.0 trans,cis-2,15-tetracosadienoyl-CoA\n",
      "\n",
      "1.0 m00709c --> 1.0 m02040c + 1.0 m03015c\n",
      "FLUX : 0.0005427189878616903 --- ID : HMR_2328 --- compartment : {'C_c'} \n",
      "\n",
      "---\n",
      "\n",
      "\n",
      "1.0 H2O + 1.0 SM pool --> 1.0 fatty acid-LD-TG1 pool + 1.0 sphingosylphosphorylcholine\n",
      "\n",
      "1.0 m02040c + 1.0 m02908c --> 1.0 m01813c + 1.0 m02931c\n",
      "FLUX : 0.04872917999183513 --- ID : HMR_8245 --- compartment : {'C_c'} \n",
      "\n",
      "---\n",
      "\n",
      "\n",
      "1.0 H2O + 1.0 sphingosylphosphorylcholine --> 1.0 phosphocholine + 1.0 sphingosine\n",
      "\n",
      "1.0 m02040c + 1.0 m02931c --> 1.0 m02738c + 1.0 m02929c\n",
      "FLUX : 0.0487291799918349 --- ID : HMR_8246 --- compartment : {'C_c'} \n",
      "\n",
      "---\n",
      "\n",
      "\n",
      "1.0 H2O + 4.0 porphobilinogen --> 1.0 hydroxymethylbilane + 4.0 NH3\n",
      "\n",
      "1.0 m02040c + 4.0 m02756c --> 1.0 m02151c + 4.0 m02578c\n",
      "FLUX : 13.76003503976965 --- ID : HMR_4746 --- compartment : {'C_c'} \n",
      "\n",
      "---\n",
      "\n",
      "\n",
      "1.0 hydroxymethylbilane --> 1.0 H2O + 1.0 uroporphyrinogen III\n",
      "\n",
      "1.0 m02151c --> 1.0 m02040c + 1.0 m03128c\n",
      "FLUX : 13.76003503976965 --- ID : HMR_4748 --- compartment : {'C_c'} \n",
      "\n",
      "---\n",
      "\n",
      "\n",
      "1.0 H+ + 1.0 NADPH + 1.0 retinoate --> 1.0 H2O + 1.0 NADP+ + 1.0 retinal\n",
      "\n",
      "1.0 m02039c + 1.0 m02555c + 1.0 m02833c --> 1.0 m02040c + 1.0 m02554c + 1.0 m02832c\n",
      "FLUX : 4.7913944295302353e-14 --- ID : HMR_8698 --- compartment : {'C_c'} \n",
      "\n",
      "---\n",
      "\n",
      "\n",
      "1.0 H+ <-- 1.0 H+\n",
      "\n",
      "1.0 m02039c <-- 1.0 m02039n\n",
      "FLUX : -27.071766662130514 --- ID : HMR_1095 --- compartment : {'C_c', 'C_n'} \n",
      "\n",
      "---\n",
      "\n",
      "\n",
      "1.0 3-oxo-13-cis-eicosenoyl-CoA + 1.0 H+ + 1.0 NADPH --> 1.0 3(S)-hydroxy-13-cis-eicosenoyl-CoA + 1.0 NADP+\n",
      "\n",
      "1.0 m00843c + 1.0 m02039c + 1.0 m02555c --> 1.0 m00702c + 1.0 m02554c\n",
      "FLUX : 0.06230355542754865 --- ID : HMR_2343 --- compartment : {'C_c'} \n",
      "\n",
      "---\n",
      "\n",
      "\n",
      "1.0 CO2 + 1.0 H2O --> 1.0 H+ + 1.0 HCO3-\n",
      "\n",
      "1.0 m01596c + 1.0 m02040c --> 1.0 m02039c + 1.0 m02046c\n",
      "FLUX : 1000.0 --- ID : HMR_3955 --- compartment : {'C_c'} \n",
      "\n",
      "---\n",
      "\n",
      "\n",
      "1.0 CO2 --> 1.0 CO2\n",
      "\n",
      "1.0 m01596c --> 1.0 m01596s\n",
      "FLUX : 1000.0 --- ID : HMR_4919 --- compartment : {'C_c', 'C_s'} \n",
      "\n",
      "---\n",
      "\n",
      "\n",
      "1.0 PS-LD pool --> 1.0 CO2 + 1.0 PE-LD pool\n",
      "\n",
      "1.0 m02808c --> 1.0 m01596c + 1.0 m02685c\n",
      "FLUX : 269.342622037343 --- ID : HMR_0627 --- compartment : {'C_c'} \n",
      "\n",
      "---\n",
      "\n",
      "\n",
      "0.19 1,2-diacylglycerol-LD-TAG pool + 0.0014 1-acyl-PE pool + 0.0024 1-radyl-2-acyl-sn-glycero-3-phosphocholine + 0.0006 2-lysolecithin pool + 0.005 cholesterol + 0.34 cholesterol-ester pool + 0.005 fatty acid-LD-TG1 pool + 0.0008 O-1-alk-1-enyl-2-acyl-sn-glycero-3-phosphoethanolamine + 0.0092 PC-LD pool + 0.0034 PE-LD pool + 0.0016 PI pool + 0.0002 PS-LD pool + 0.0004 SM pool + 0.44 TAG-LD pool --> 1.0 lipid droplet\n",
      "\n",
      "0.19 m00240c + 0.0014 m00511c + 0.0024 m00560c + 0.0006 m00656c + 0.005 m01450c + 0.34 m01451c + 0.005 m01813c + 0.0008 m02629c + 0.0092 m02684c + 0.0034 m02685c + 0.0016 m02750c + 0.0002 m02808c + 0.0004 m02908c + 0.44 m02958c --> 1.0 m02392c\n",
      "FLUX : 27.071766662130518 --- ID : HMR_0031 --- compartment : {'C_c'} \n",
      "\n",
      "---\n",
      "\n",
      "\n",
      "1.0 1-acyl-PE pool + 1.0 H2O --> 1.0 fatty acid-LD-PE pool + 1.0 sn-glycerol-3-PE\n",
      "\n",
      "1.0 m00511c + 1.0 m02040c --> 1.0 m01809c + 1.0 m02913c\n",
      "FLUX : 269.21267755736477 --- ID : HMR_0645 --- compartment : {'C_c'} \n",
      "\n",
      "---\n",
      "\n",
      "\n",
      "2.0 5-aminolevulinate --> 2.0 H2O + 1.0 porphobilinogen\n",
      "\n",
      "2.0 m01074c --> 2.0 m02040c + 1.0 m02756c\n",
      "FLUX : 55.0401401590786 --- ID : HMR_4744 --- compartment : {'C_c'} \n",
      "\n",
      "---\n",
      "\n",
      "\n",
      "1.0 5-aminolevulinate <-- 1.0 5-aminolevulinate\n",
      "\n",
      "1.0 m01074c <-- 1.0 m01074m\n",
      "FLUX : -110.08028031815721 --- ID : HMR_4743 --- compartment : {'C_c', 'C_m'} \n",
      "\n",
      "---\n",
      "\n",
      "\n",
      "1.0 glycine + 1.0 succinyl-CoA --> 1.0 5-aminolevulinate + 1.0 CO2 + 1.0 CoA\n",
      "\n",
      "1.0 m01986m + 1.0 m02944m --> 1.0 m01074m + 1.0 m01596m + 1.0 m01597m\n",
      "FLUX : 110.0802803181572 --- ID : HMR_4742 --- compartment : {'C_m'} \n",
      "\n",
      "---\n",
      "\n",
      "\n",
      "1.0 ADP + 1.0 Pi + 1.0 succinyl-CoA <-- 1.0 ATP + 1.0 CoA + 1.0 succinate\n",
      "\n",
      "1.0 m01285m + 1.0 m02751m + 1.0 m02944m <-- 1.0 m01371m + 1.0 m01597m + 1.0 m02943m\n",
      "FLUX : -110.08028031815718 --- ID : HMR_4152 --- compartment : {'C_m'} \n",
      "\n",
      "---\n",
      "\n",
      "\n",
      "1.0 ADP + 1.0 CTP <-- 1.0 ATP + 1.0 CDP\n",
      "\n",
      "1.0 m01285m + 1.0 m01623m <-- 1.0 m01371m + 1.0 m01424m\n",
      "FLUX : -54.14353332426102 --- ID : HMR_4030 --- compartment : {'C_m'} \n",
      "\n",
      "---\n",
      "\n",
      "\n",
      "1.0 CTP + 1.0 phosphatidate-CL pool --> 1.0 CDP-diacylglycerol-CL pool + 1.0 PPi\n",
      "\n",
      "1.0 m01623m + 1.0 m02727m --> 1.0 m01426m + 1.0 m02759m\n",
      "FLUX : 54.14353332426102 --- ID : HMR_0581 --- compartment : {'C_m'} \n",
      "\n",
      "---\n",
      "\n",
      "\n",
      "1.0 1-acylglycerol-3P-CL pool + 1.0 acyl-CoA-CL pool --> 1.0 CoA + 1.0 phosphatidate-CL pool\n",
      "\n",
      "1.0 m00475m + 1.0 m01270m --> 1.0 m01597m + 1.0 m02727m\n",
      "FLUX : 54.143533324261035 --- ID : HMR_0580 --- compartment : {'C_m'} \n",
      "\n",
      "---\n",
      "\n",
      "\n",
      "1.0 acyl-CoA-CL pool + 1.0 sn-glycerol-3-phosphate --> 1.0 1-acylglycerol-3P-CL pool + 1.0 CoA\n",
      "\n",
      "1.0 m01270m + 1.0 m02914m --> 1.0 m00475m + 1.0 m01597m\n",
      "FLUX : 54.143533324261035 --- ID : HMR_0579 --- compartment : {'C_m'} \n",
      "\n",
      "---\n",
      "\n",
      "\n",
      "1.0 acyl-CoA-CL pool --> 1.0 acyl-CoA-CL pool\n",
      "\n",
      "1.0 m01270c --> 1.0 m01270m\n",
      "FLUX : 108.28706664852207 --- ID : HMR_0578 --- compartment : {'C_c', 'C_m'} \n",
      "\n",
      "---\n",
      "\n",
      "\n",
      "1.0 CDP-diacylglycerol-CL pool + 1.0 sn-glycerol-3-phosphate --> 1.0 CMP + 1.0 PGP-CL pool\n",
      "\n",
      "1.0 m01426m + 1.0 m02914m --> 1.0 m01590m + 1.0 m02717m\n",
      "FLUX : 27.071766662130507 --- ID : HMR_0582 --- compartment : {'C_m'} \n",
      "\n",
      "---\n",
      "\n",
      "\n",
      "1.0 CDP-diacylglycerol-CL pool + 1.0 PG-CL pool --> 1.0 CL pool + 1.0 CMP\n",
      "\n",
      "1.0 m01426m + 1.0 m02715m --> 1.0 m01589m + 1.0 m01590m\n",
      "FLUX : 27.07176666213051 --- ID : HMR_0586 --- compartment : {'C_m'} \n",
      "\n",
      "---\n",
      "\n",
      "\n",
      "1.0 H2O + 1.0 PGP-CL pool --> 1.0 PG-CL pool + 1.0 Pi\n",
      "\n",
      "1.0 m02040m + 1.0 m02717m --> 1.0 m02715m + 1.0 m02751m\n",
      "FLUX : 27.07176666213051 --- ID : HMR_0584 --- compartment : {'C_m'} \n",
      "\n",
      "---\n",
      "\n",
      "\n",
      "1.0 (2E)-pentadecenoyl-CoA + 1.0 H2O --> 1.0 3-hydroxypentadecanoyl-CoA\n",
      "\n",
      "1.0 m00061m + 1.0 m02040m --> 1.0 m00795m\n",
      "FLUX : 1.7366301266473665 --- ID : HMR_3183 --- compartment : {'C_m'} \n",
      "\n",
      "---\n",
      "\n",
      "\n",
      "1.0 FAD + 1.0 pentadecanoyl-CoA --> 1.0 (2E)-pentadecenoyl-CoA + 1.0 FADH2\n",
      "\n",
      "1.0 m01802m + 1.0 m02689m --> 1.0 m00061m + 1.0 m01803m\n",
      "FLUX : 1.7366301266473665 --- ID : HMR_3182 --- compartment : {'C_m'} \n",
      "\n",
      "---\n",
      "\n",
      "\n",
      "1.0 FAD + 1.0 nonanoyl-CoA --> 1.0 (2E)-nonenoyl-CoA + 1.0 FADH2\n",
      "\n",
      "1.0 m01802m + 1.0 m02616m --> 1.0 m00056m + 1.0 m01803m\n",
      "FLUX : 1.674326571219818 --- ID : HMR_3194 --- compartment : {'C_m'} \n",
      "\n",
      "---\n",
      "\n",
      "\n",
      "1.0 FAD + 1.0 stearoyl-CoA --> 1.0 (2E)-octadecenoyl-CoA + 1.0 FADH2\n",
      "\n",
      "1.0 m01802m + 1.0 m02941m --> 1.0 m00057m + 1.0 m01803m\n",
      "FLUX : 0.8679080240827872 --- ID : HMR_3115 --- compartment : {'C_m'} \n",
      "\n",
      "---\n",
      "\n",
      "\n",
      "1.0 (7Z)-tetradecenoyl-CoA + 1.0 FAD --> 1.0 FADH2 + 1.0 trans,cis-myristo-2,7-dienoyl-CoA\n",
      "\n",
      "1.0 m00118m + 1.0 m01802m --> 1.0 m01803m + 1.0 m03023m\n",
      "FLUX : 109.6936430146496 --- ID : HMR_3258 --- compartment : {'C_m'} \n",
      "\n",
      "---\n",
      "\n",
      "\n",
      "1.0 3-oxopalmitoleoyl-CoA + 1.0 CoA --> 1.0 (7Z)-tetradecenoyl-CoA + 1.0 acetyl-CoA\n",
      "\n",
      "1.0 m00894m + 1.0 m01597m --> 1.0 m00118m + 1.0 m01261m\n",
      "FLUX : 109.6936430146496 --- ID : HMR_3256 --- compartment : {'C_m'} \n",
      "\n",
      "---\n",
      "\n",
      "\n",
      "1.0 (S)-3-hydroxypalmitoleoyl-CoA + 1.0 NAD+ --> 1.0 3-oxopalmitoleoyl-CoA + 1.0 H+ + 1.0 NADH\n",
      "\n",
      "1.0 m00177m + 1.0 m02552m --> 1.0 m00894m + 1.0 m02039m + 1.0 m02553m\n",
      "FLUX : 109.69364301464958 --- ID : HMR_3254 --- compartment : {'C_m'} \n",
      "\n",
      "---\n",
      "\n",
      "\n",
      "1.0 H2O + 1.0 trans,cis-hexadeca-2,9-dienoyl-CoA --> 1.0 (S)-3-hydroxypalmitoleoyl-CoA\n",
      "\n",
      "1.0 m02040m + 1.0 m03020m --> 1.0 m00177m\n",
      "FLUX : 109.69364301464958 --- ID : HMR_3252 --- compartment : {'C_m'} \n",
      "\n",
      "---\n",
      "\n",
      "\n",
      "1.0 H2O + 1.0 NADP+ + 1.0 saccharopine <-- 1.0 2-aminoadipate 6-semialdehyde + 1.0 glutamate + 1.0 H+ + 1.0 NADPH\n",
      "\n",
      "1.0 m02040m + 1.0 m02554m + 1.0 m02868m <-- 1.0 m00631m + 1.0 m01974m + 1.0 m02039m + 1.0 m02555m\n",
      "FLUX : -1.6391394465183915e-13 --- ID : HMR_4668 --- compartment : {'C_m'} \n",
      "\n",
      "---\n",
      "\n",
      "\n",
      "1.0 2-aminoadipate 6-semialdehyde + 1.0 H2O + 1.0 NAD+ <-- 1.0 H+ + 1.0 L-2-aminoadipate + 1.0 NADH\n",
      "\n",
      "1.0 m00631m + 1.0 m02040m + 1.0 m02552m <-- 1.0 m02039m + 1.0 m02322m + 1.0 m02553m\n",
      "FLUX : -1.6391394465183918e-13 --- ID : HMR_4739 --- compartment : {'C_m'} \n",
      "\n",
      "---\n",
      "\n",
      "\n",
      "1.0 (2E)-docosenoyl-CoA + 1.0 H2O --> 1.0 3-hydroxydocosanoyl-CoA\n",
      "\n",
      "1.0 m00040m + 1.0 m02040m --> 1.0 m00776m\n",
      "FLUX : 0.309889620174158 --- ID : HMR_3108 --- compartment : {'C_m'} \n",
      "\n",
      "---\n",
      "\n",
      "\n",
      "1.0 docosanoyl-CoA + 1.0 FAD --> 1.0 (2E)-docosenoyl-CoA + 1.0 FADH2\n",
      "\n",
      "1.0 m01725m + 1.0 m01802m --> 1.0 m00040m + 1.0 m01803m\n",
      "FLUX : 0.30988962017415794 --- ID : HMR_3107 --- compartment : {'C_m'} \n",
      "\n",
      "---\n",
      "\n",
      "\n",
      "1.0 FAD + 1.0 oleoyl-CoA --> 1.0 FADH2 + 1.0 trans,cis-octadeca-2,9-dienoyl-CoA\n",
      "\n",
      "1.0 m01802m + 1.0 m02647m --> 1.0 m01803m + 1.0 m03025m\n",
      "FLUX : 140.29105902107952 --- ID : HMR_3226 --- compartment : {'C_m'} \n",
      "\n",
      "---\n",
      "\n",
      "\n",
      "1.0 FAD + 1.0 undecanoyl-CoA --> 1.0 (2E)-undecenoyl-CoA + 1.0 FADH2\n",
      "\n",
      "1.0 m01802m + 1.0 m03116m --> 1.0 m00071m + 1.0 m01803m\n",
      "FLUX : 1.674326571219818 --- ID : HMR_3190 --- compartment : {'C_m'} \n",
      "\n",
      "---\n",
      "\n",
      "\n",
      "1.0 3-methylcrotonyl-CoA + 1.0 FADH2 --> 1.0 FAD + 1.0 isovaleryl-CoA\n",
      "\n",
      "1.0 m00826m + 1.0 m01803m --> 1.0 m01802m + 1.0 m02189m\n",
      "FLUX : 110.08028031815718 --- ID : HMR_3770 --- compartment : {'C_m'} \n",
      "\n",
      "---\n",
      "\n",
      "\n",
      "1.0 3-methylcrotonyl-CoA + 1.0 ubiquinol <-- 1.0 isovaleryl-CoA + 1.0 ubiquinone\n",
      "\n",
      "1.0 m00826m + 1.0 m03102m <-- 1.0 m02189m + 1.0 m03103m\n",
      "FLUX : -110.0802803181572 --- ID : HMR_3769 --- compartment : {'C_m'} \n",
      "\n",
      "---\n",
      "\n",
      "\n",
      "1.0 fumarate + 1.0 ubiquinol <-- 1.0 succinate + 1.0 ubiquinone\n",
      "\n",
      "1.0 m01862m + 1.0 m03102m <-- 1.0 m02943m + 1.0 m03103m\n",
      "FLUX : -1000.0 --- ID : HMR_4652 --- compartment : {'C_m'} \n",
      "\n",
      "---\n",
      "\n",
      "\n",
      "1.0 fumarate + 1.0 H2O --> 1.0 malate\n",
      "\n",
      "1.0 m01862m + 1.0 m02040m --> 1.0 m02439m\n",
      "FLUX : 449.25510859827386 --- ID : HMR_4410 --- compartment : {'C_m'} \n",
      "\n",
      "---\n",
      "\n",
      "\n",
      "1.0 fumarate + 1.0 malate --> 1.0 fumarate + 1.0 malate\n",
      "\n",
      "1.0 m01862c + 1.0 m02439m --> 1.0 m01862m + 1.0 m02439c\n",
      "FLUX : 449.25510859827375 --- ID : HMR_4855 --- compartment : {'C_c', 'C_m'} \n",
      "\n",
      "---\n",
      "\n",
      "\n",
      "1.0 fumarate + 1.0 H2O <-- 1.0 malate\n",
      "\n",
      "1.0 m01862c + 1.0 m02040c <-- 1.0 m02439c\n",
      "FLUX : -449.25510859827375 --- ID : HMR_4408 --- compartment : {'C_c'} \n",
      "\n",
      "---\n",
      "\n",
      "\n",
      "1.0 1-acylglycerol-LD-TG1 pool + 1.0 H2O --> 1.0 fatty acid-LD-TG1 pool + 1.0 glycerol\n",
      "\n",
      "1.0 m00509c + 1.0 m02040c --> 1.0 m01813c + 1.0 m01983c\n",
      "FLUX : 0.08662965331881765 --- ID : HMR_0679 --- compartment : {'C_c'} \n",
      "\n",
      "---\n",
      "\n",
      "\n",
      "1.0 dUMP + 1.0 H2O --> 1.0 deoxyuridine + 1.0 Pi\n",
      "\n",
      "1.0 m01755c + 1.0 m02040c --> 1.0 m01673c + 1.0 m02751c\n",
      "FLUX : 5.955788665668715 --- ID : HMR_4642 --- compartment : {'C_c'} \n",
      "\n",
      "---\n",
      "\n",
      "\n",
      "1.0 5,10-methylene-THF + 1.0 dUMP --> 1.0 dihydrofolate + 1.0 dTMP\n",
      "\n",
      "1.0 m01045c + 1.0 m01755c --> 1.0 m01700c + 1.0 m01752c\n",
      "FLUX : 16.24305999727831 --- ID : HMR_4644 --- compartment : {'C_c'} \n",
      "\n",
      "---\n",
      "\n",
      "\n",
      "1.0 5,10-methenyl-THF + 1.0 NADH --> 1.0 5,10-methylene-THF + 1.0 NAD+\n",
      "\n",
      "1.0 m01044c + 1.0 m02553c --> 1.0 m01045c + 1.0 m02552c\n",
      "FLUX : 1000.0 --- ID : HMR_8144 --- compartment : {'C_c'} \n",
      "\n",
      "---\n",
      "\n",
      "\n",
      "1.0 5,10-methenyl-THF + 1.0 NADPH <-- 1.0 5,10-methylene-THF + 1.0 NADP+\n",
      "\n",
      "1.0 m01044c + 1.0 m02555c <-- 1.0 m01045c + 1.0 m02554c\n",
      "FLUX : -1000.0000000000002 --- ID : HMR_4442 --- compartment : {'C_c'} \n",
      "\n",
      "---\n",
      "\n",
      "\n",
      "1.0 H+ + 1.0 myristoyl-CoA + 1.0 NADPH + 1.0 O2 --> 1.0 (9E)-tetradecenoyl-CoA + 2.0 H2O + 1.0 NADP+\n",
      "\n",
      "1.0 m02039c + 1.0 m02495c + 1.0 m02555c + 1.0 m02630c --> 1.0 m00129c + 2.0 m02040c + 1.0 m02554c\n",
      "FLUX : 0.06230355542754859 --- ID : HMR_2281 --- compartment : {'C_c'} \n",
      "\n",
      "---\n",
      "\n",
      "\n",
      "1.0 3-oxotricosanoyl-CoA + 1.0 H+ + 1.0 NADPH --> 1.0 3-hydroxytricosanoyl-CoA + 1.0 NADP+\n",
      "\n",
      "1.0 m00907c + 1.0 m02039c + 1.0 m02555c --> 1.0 m00802c + 1.0 m02554c\n",
      "FLUX : 0.00027135949393092447 --- ID : HMR_2268 --- compartment : {'C_c'} \n",
      "\n",
      "---\n",
      "\n",
      "\n",
      "1.0 heneicosanoyl-CoA + 1.0 malonyl-CoA --> 1.0 3-oxotricosanoyl-CoA + 1.0 CO2 + 1.0 CoA\n",
      "\n",
      "1.0 m02052c + 1.0 m02444c --> 1.0 m00907c + 1.0 m01596c + 1.0 m01597c\n",
      "FLUX : 0.00027135949393092447 --- ID : HMR_2267 --- compartment : {'C_c'} \n",
      "\n",
      "---\n",
      "\n",
      "\n",
      "1.0 heneicosanoyl-CoA + 1.0 sn-glycerol-3-phosphate --> 1.0 1-acylglycerol-3P-heneico + 1.0 CoA\n",
      "\n",
      "1.0 m02052c + 1.0 m02914c --> 1.0 m00480c + 1.0 m01597c\n",
      "FLUX : 0.21619252196834512 --- ID : HMR_0513 --- compartment : {'C_c'} \n",
      "\n",
      "---\n",
      "\n",
      "\n",
      "1.0 sn-glycerol-3-phosphate + 1.0 stearoyl-CoA --> 1.0 1-acylglycerol-3P-stea + 1.0 CoA\n",
      "\n",
      "1.0 m02914c + 1.0 m02941c --> 1.0 m00499c + 1.0 m01597c\n",
      "FLUX : 51.094358067224405 --- ID : HMR_0499 --- compartment : {'C_c'} \n",
      "\n",
      "---\n",
      "\n",
      "\n",
      "1.0 13,16,19-docosatrienoyl-CoA + 1.0 sn-glycerol-3-phosphate --> 1.0 1-acylglycerol-3P-13,16,19-doco + 1.0 CoA\n",
      "\n",
      "1.0 m00343c + 1.0 m02914c --> 1.0 m00444c + 1.0 m01597c\n",
      "FLUX : 0.21619252196834512 --- ID : HMR_0531 --- compartment : {'C_c'} \n",
      "\n",
      "---\n",
      "\n",
      "\n",
      "1.0 palmitoleoyl-CoA + 1.0 sn-glycerol-3-phosphate --> 1.0 1-acylglycerol-3P-palmn + 1.0 CoA\n",
      "\n",
      "1.0 m02677c + 1.0 m02914c --> 1.0 m00497c + 1.0 m01597c\n",
      "FLUX : 0.21619252196834512 --- ID : HMR_0494 --- compartment : {'C_c'} \n",
      "\n",
      "---\n",
      "\n",
      "\n",
      "1.0 CoA + 1.0 palmitoleoyl-carnitine <-- 1.0 L-carnitine + 1.0 palmitoleoyl-CoA\n",
      "\n",
      "1.0 m01597c + 1.0 m02676c <-- 1.0 m02348c + 1.0 m02677c\n",
      "FLUX : -59.76826748903604 --- ID : HMR_2636 --- compartment : {'C_c'} \n",
      "\n",
      "---\n",
      "\n",
      "\n",
      "1.0 nonadecanoyl-CoA + 1.0 sn-glycerol-3-phosphate --> 1.0 1-acylglycerol-3P-nanode + 1.0 CoA\n",
      "\n",
      "1.0 m02612c + 1.0 m02914c --> 1.0 m00494c + 1.0 m01597c\n",
      "FLUX : 0.21619252196834512 --- ID : HMR_0506 --- compartment : {'C_c'} \n",
      "\n",
      "---\n",
      "\n",
      "\n",
      "1.0 9-eicosenoyl-CoA + 1.0 sn-glycerol-3-phosphate --> 1.0 1-acylglycerol-3P-9-eicose + 1.0 CoA\n",
      "\n",
      "1.0 m01236c + 1.0 m02914c --> 1.0 m00468c + 1.0 m01597c\n",
      "FLUX : 0.21619252196834512 --- ID : HMR_0510 --- compartment : {'C_c'} \n",
      "\n",
      "---\n",
      "\n",
      "\n",
      "1.0 (9E)-tetradecenoyl-CoA + 1.0 sn-glycerol-3-phosphate --> 1.0 1-acylglycerol-3P-9-tetrade + 1.0 CoA\n",
      "\n",
      "1.0 m00129c + 1.0 m02914c --> 1.0 m00471c + 1.0 m01597c\n",
      "FLUX : 0.21619252196834512 --- ID : HMR_0489 --- compartment : {'C_c'} \n",
      "\n",
      "---\n",
      "\n",
      "\n",
      "1.0 (11Z,14Z)-eicosadienoyl-CoA + 1.0 sn-glycerol-3-phosphate --> 1.0 1-acylglycerol-3P-11,14-eicosa + 1.0 CoA\n",
      "\n",
      "1.0 m00009c + 1.0 m02914c --> 1.0 m00440c + 1.0 m01597c\n",
      "FLUX : 0.21619252196834512 --- ID : HMR_0542 --- compartment : {'C_c'} \n",
      "\n",
      "---\n",
      "\n",
      "\n",
      "1.0 hexacosenoyl-CoA + 1.0 sn-glycerol-3-phosphate --> 1.0 1-acylglycerol-3P-hexecose + 1.0 CoA\n",
      "\n",
      "1.0 m02112c + 1.0 m02914c --> 1.0 m00483c + 1.0 m01597c\n",
      "FLUX : 0.21619252196834512 --- ID : HMR_0521 --- compartment : {'C_c'} \n",
      "\n",
      "---\n",
      "\n",
      "\n",
      "1.0 (13Z)-octadecenoyl-CoA + 1.0 sn-glycerol-3-phosphate --> 1.0 1-acylglycerol-3P-13-octade + 1.0 CoA\n",
      "\n",
      "1.0 m00020c + 1.0 m02914c --> 1.0 m00448c + 1.0 m01597c\n",
      "FLUX : 0.21619252196834512 --- ID : HMR_0500 --- compartment : {'C_c'} \n",
      "\n",
      "---\n",
      "\n",
      "\n",
      "1.0 10,13,16,19-docosatetraenoyl-CoA + 1.0 sn-glycerol-3-phosphate --> 1.0 1-acylglycerol-3P-10,13,16,19-doco + 1.0 CoA\n",
      "\n",
      "1.0 m00262c + 1.0 m02914c --> 1.0 m00436c + 1.0 m01597c\n",
      "FLUX : 0.21619252196834512 --- ID : HMR_0532 --- compartment : {'C_c'} \n",
      "\n",
      "---\n",
      "\n",
      "\n",
      "1.0 (8Z,11Z)-eicosadienoyl-CoA + 1.0 sn-glycerol-3-phosphate --> 1.0 1-acylglycerol-3P-8,11-eico + 1.0 CoA\n",
      "\n",
      "1.0 m00123c + 1.0 m02914c --> 1.0 m00465c + 1.0 m01597c\n",
      "FLUX : 0.21619252196834512 --- ID : HMR_0511 --- compartment : {'C_c'} \n",
      "\n",
      "---\n",
      "\n",
      "\n",
      "1.0 (13Z,16Z)-docosadienoyl-CoA + 1.0 sn-glycerol-3-phosphate --> 1.0 1-acylglycerol-3P-13,16-docosa + 1.0 CoA\n",
      "\n",
      "1.0 m00023c + 1.0 m02914c --> 1.0 m00445c + 1.0 m01597c\n",
      "FLUX : 0.21619252196834512 --- ID : HMR_0543 --- compartment : {'C_c'} \n",
      "\n",
      "---\n",
      "\n",
      "\n",
      "1.0 (7Z)-tetradecenoyl-CoA + 1.0 sn-glycerol-3-phosphate --> 1.0 1-acylglycerol-3P-7-tetrade + 1.0 CoA\n",
      "\n",
      "1.0 m00118c + 1.0 m02914c --> 1.0 m00463c + 1.0 m01597c\n",
      "FLUX : 0.21619252196834512 --- ID : HMR_0490 --- compartment : {'C_c'} \n",
      "\n",
      "---\n",
      "\n",
      "\n",
      "1.0 linolenoyl-CoA + 1.0 sn-glycerol-3-phosphate --> 1.0 1-acylglycerol-3P-linolen + 1.0 CoA\n",
      "\n",
      "1.0 m02390c + 1.0 m02914c --> 1.0 m00492c + 1.0 m01597c\n",
      "FLUX : 1.6497035109325366 --- ID : HMR_0522 --- compartment : {'C_c'} \n",
      "\n",
      "---\n",
      "\n",
      "\n",
      "1.0 H+ + 1.0 linolenoyl-CoA + 1.0 NADPH + 1.0 O2 --> 1.0 (6Z,9Z,12Z,15Z)-octadecatetraenoyl-CoA + 2.0 H2O + 1.0 NADP+\n",
      "\n",
      "1.0 m02039c + 1.0 m02390c + 1.0 m02555c + 1.0 m02630c --> 1.0 m00108c + 2.0 m02040c + 1.0 m02554c\n",
      "FLUX : 5.382053129955124 --- ID : HMR_2472 --- compartment : {'C_c'} \n",
      "\n",
      "---\n",
      "\n",
      "\n",
      "1.0 D-glucitol + 1.0 NADP+ <-- 1.0 glucose + 1.0 H+ + 1.0 NADPH\n",
      "\n",
      "1.0 m01682c + 1.0 m02554c <-- 1.0 m01965c + 1.0 m02039c + 1.0 m02555c\n",
      "FLUX : -457.745484201525 --- ID : HMR_4316 --- compartment : {'C_c'} \n",
      "\n",
      "---\n",
      "\n",
      "\n",
      "1.0 D-glucitol --> 1.0 D-glucitol\n",
      "\n",
      "1.0 m01682c --> 1.0 m01682s\n",
      "FLUX : 457.745484201525 --- ID : HMR_4312 --- compartment : {'C_c', 'C_s'} \n",
      "\n",
      "---\n",
      "\n",
      "\n",
      "1.0 D-glucitol <-- 1.0 D-glucitol\n",
      "\n",
      "1.0 m01682x <-- 1.0 m01682s\n",
      "FLUX : -457.745484201525 --- ID : HMR_9685 --- compartment : {'C_s', 'C_x'} \n",
      "\n",
      "---\n",
      "\n",
      "\n",
      "1.0 D-glucitol <-- \n",
      "\n",
      "1.0 m01682x <-- \n",
      "FLUX : 457.745484201525 --- ID : EX_m01682x --- compartment : {'C_x'} \n",
      "\n",
      "---\n",
      "\n",
      "\n",
      "1.0 folate + 1.0 H+ + 1.0 NADPH <-- 1.0 dihydrofolate + 1.0 NADP+\n",
      "\n",
      "1.0 m01830c + 1.0 m02039c + 1.0 m02555c <-- 1.0 m01700c + 1.0 m02554c\n",
      "FLUX : -1000.0 --- ID : HMR_4655 --- compartment : {'C_c'} \n",
      "\n",
      "---\n",
      "\n",
      "\n",
      "1.0 folate + 1.0 H+ + 1.0 NADH --> 1.0 dihydrofolate + 1.0 NAD+\n",
      "\n",
      "1.0 m01830c + 1.0 m02039c + 1.0 m02553c --> 1.0 m01700c + 1.0 m02552c\n",
      "FLUX : 1000.0 --- ID : HMR_4654 --- compartment : {'C_c'} \n",
      "\n",
      "---\n",
      "\n",
      "\n",
      "1.0 folate + 1.0 hydroxide --> 1.0 folate + 1.0 hydroxide\n",
      "\n",
      "1.0 m01830c + 1.0 m02147s --> 1.0 m01830s + 1.0 m02147c\n",
      "FLUX : 1.5542415312690001e-13 --- ID : HMR_7684 --- compartment : {'C_c', 'C_s'} \n",
      "\n",
      "---\n",
      "\n",
      "\n",
      "1.0 hydroxide + 1.0 THF <-- 1.0 hydroxide + 1.0 THF\n",
      "\n",
      "1.0 m02147s + 1.0 m02980c <-- 1.0 m02147c + 1.0 m02980s\n",
      "FLUX : -1.5979980849906508e-13 --- ID : HMR_7685 --- compartment : {'C_c', 'C_s'} \n",
      "\n",
      "---\n",
      "\n",
      "\n",
      "1.0 hydroxide <-- 1.0 hydroxide\n",
      "\n",
      "1.0 m02147x <-- 1.0 m02147s\n",
      "FLUX : -4.375655372165058e-15 --- ID : HMR_9386 --- compartment : {'C_s', 'C_x'} \n",
      "\n",
      "---\n",
      "\n",
      "\n",
      "1.0 hydroxide <-- \n",
      "\n",
      "1.0 m02147x <-- \n",
      "FLUX : 4.375655372165058e-15 --- ID : EX_m02147x --- compartment : {'C_x'} \n",
      "\n",
      "---\n",
      "\n",
      "\n",
      "1.0 serine + 1.0 THF --> 1.0 5,10-methylene-THF + 1.0 glycine + 1.0 H2O\n",
      "\n",
      "1.0 m02896c + 1.0 m02980c --> 1.0 m01045c + 1.0 m01986c + 1.0 m02040c\n",
      "FLUX : 16.243059997278557 --- ID : HMR_3845 --- compartment : {'C_c'} \n",
      "\n",
      "---\n",
      "\n",
      "\n",
      "1.0 PC-LD pool + 1.0 serine --> 1.0 choline + 1.0 PS-LD pool\n",
      "\n",
      "1.0 m02684c + 1.0 m02896c --> 1.0 m01513c + 1.0 m02808c\n",
      "FLUX : 269.3480363906754 --- ID : HMR_0623 --- compartment : {'C_c'} \n",
      "\n",
      "---\n",
      "\n",
      "\n",
      "1.0 cholesterol + 1.0 PC-LD pool --> 1.0 2-lysolecithin pool + 1.0 cholesterol-ester pool\n",
      "\n",
      "1.0 m01450c + 1.0 m02684c --> 1.0 m00656c + 1.0 m01451c\n",
      "FLUX : 0.01624305999727831 --- ID : HMR_0634 --- compartment : {'C_c'} \n",
      "\n",
      "---\n",
      "\n",
      "\n",
      "1.0 cholesterol <-- 1.0 cholesterol\n",
      "\n",
      "1.0 m01450c <-- 1.0 m01450s\n",
      "FLUX : -221.74353615929454 --- ID : HMR_0018 --- compartment : {'C_c', 'C_s'} \n",
      "\n",
      "---\n",
      "\n",
      "\n",
      "1.0 cholesterol + 1.0 H+ + 1.0 NADPH + 1.0 O2 --> 1.0 24-hydroxycholesterol + 1.0 H2O + 1.0 NADP+\n",
      "\n",
      "1.0 m01450c + 1.0 m02039c + 1.0 m02555c + 1.0 m02630c --> 1.0 m00610c + 1.0 m02040c + 1.0 m02554c\n",
      "FLUX : 194.5201676038561 --- ID : HMR_1735 --- compartment : {'C_c'} \n",
      "\n",
      "---\n",
      "\n",
      "\n",
      "1.0 3-oxo-docosa-10,13,16,19-all-cis-tetraenoyl-CoA + 1.0 H+ + 1.0 NADPH --> 1.0 3(S)-hydroxy-docosa-10,13,16,19-all-cis-tetraenoyl-CoA + 1.0 NADP+\n",
      "\n",
      "1.0 m00861c + 1.0 m02039c + 1.0 m02555c --> 1.0 m00711c + 1.0 m02554c\n",
      "FLUX : 0.2492142217101944 --- ID : HMR_2516 --- compartment : {'C_c'} \n",
      "\n",
      "---\n",
      "\n",
      "\n",
      "1.0 H+ + 1.0 NADPH + 1.0 trans,cis-2,13-eicosadienoyl-CoA --> 1.0 (13Z)-eicosenoyl-CoA + 1.0 NADP+\n",
      "\n",
      "1.0 m02039c + 1.0 m02555c + 1.0 m03014c --> 1.0 m00018c + 1.0 m02554c\n",
      "FLUX : 0.06230355542754865 --- ID : HMR_2345 --- compartment : {'C_c'} \n",
      "\n",
      "---\n",
      "\n",
      "\n",
      "1.0 H+ + 1.0 lysine + 1.0 ornithine --> 1.0 H+ + 1.0 lysine + 1.0 ornithine\n",
      "\n",
      "1.0 m02039c + 1.0 m02426c + 1.0 m02658m --> 1.0 m02039m + 1.0 m02426m + 1.0 m02658c\n",
      "FLUX : 277.7416873843492 --- ID : HMR_6302 --- compartment : {'C_c', 'C_m'} \n",
      "\n",
      "---\n",
      "\n",
      "\n",
      "1.0 Fe2+ + 1.0 protoporphyrin --> 2.0 H+ + 1.0 heme\n",
      "\n",
      "1.0 m01821m + 1.0 m02803m --> 2.0 m02039c + 1.0 m02049m\n",
      "FLUX : 13.76003503976965 --- ID : HMR_4758 --- compartment : {'C_c', 'C_m'} \n",
      "\n",
      "---\n",
      "\n",
      "\n",
      "1.0 Fe2+ --> 1.0 Fe2+\n",
      "\n",
      "1.0 m01821c --> 1.0 m01821m\n",
      "FLUX : 13.760035039769651 --- ID : HMR_5420 --- compartment : {'C_c', 'C_m'} \n",
      "\n",
      "---\n",
      "\n",
      "\n",
      "1.0 Fe2+ + 1.0 H+ --> 1.0 Fe2+ + 1.0 H+\n",
      "\n",
      "1.0 m01821s + 1.0 m02039s --> 1.0 m01821c + 1.0 m02039c\n",
      "FLUX : 13.760035039769647 --- ID : HMR_5987 --- compartment : {'C_c', 'C_s'} \n",
      "\n",
      "---\n",
      "\n",
      "\n",
      "1.0 Fe2+ --> 1.0 Fe2+\n",
      "\n",
      "1.0 m01821x --> 1.0 m01821s\n",
      "FLUX : 13.760035039769647 --- ID : HMR_9076 --- compartment : {'C_s', 'C_x'} \n",
      "\n",
      "---\n",
      "\n",
      "\n",
      "1.0 Fe2+ --> \n",
      "\n",
      "1.0 m01821x --> \n",
      "FLUX : -13.760035039769647 --- ID : EX_m01821x --- compartment : {'C_x'} \n",
      "\n",
      "---\n",
      "\n",
      "\n",
      "1.0 H+ + 1.0 Na+ --> 1.0 H+ + 1.0 Na+\n",
      "\n",
      "1.0 m02039c + 1.0 m02519s --> 1.0 m02039s + 1.0 m02519c\n",
      "FLUX : 189.9224200713195 --- ID : HMR_5430 --- compartment : {'C_c', 'C_s'} \n",
      "\n",
      "---\n",
      "\n",
      "\n",
      "1.0 1-alkyl-2-acylglycerophosphoethanolamine + 1.0 H+ + 1.0 NADPH + 1.0 O2 --> 2.0 H2O + 1.0 NADP+ + 1.0 O-1-alk-1-enyl-2-acyl-sn-glycero-3-phosphoethanolamine\n",
      "\n",
      "1.0 m00515c + 1.0 m02039c + 1.0 m02555c + 1.0 m02630c --> 2.0 m02040c + 1.0 m02554c + 1.0 m02629c\n",
      "FLUX : 0.021657413329704413 --- ID : HMR_7601 --- compartment : {'C_c'} \n",
      "\n",
      "---\n",
      "\n",
      "\n",
      "1.0 (2E)-tricosenoyl-CoA + 1.0 H+ + 1.0 NADPH --> 1.0 NADP+ + 1.0 tricosanoyl-CoA\n",
      "\n",
      "1.0 m00067c + 1.0 m02039c + 1.0 m02555c --> 1.0 m02554c + 1.0 m03047c\n",
      "FLUX : 0.00027135949393092447 --- ID : HMR_2270 --- compartment : {'C_c'} \n",
      "\n",
      "---\n",
      "\n",
      "\n",
      "1.0 3-hydroxytricosanoyl-CoA --> 1.0 (2E)-tricosenoyl-CoA + 1.0 H2O\n",
      "\n",
      "1.0 m00802c --> 1.0 m00067c + 1.0 m02040c\n",
      "FLUX : 0.00027135949393092447 --- ID : HMR_2269 --- compartment : {'C_c'} \n",
      "\n",
      "---\n",
      "\n",
      "\n",
      "1.0 3(S)-hydroxy-13-cis-eicosenoyl-CoA --> 1.0 H2O + 1.0 trans,cis-2,13-eicosadienoyl-CoA\n",
      "\n",
      "1.0 m00702c --> 1.0 m02040c + 1.0 m03014c\n",
      "FLUX : 0.062303555427548646 --- ID : HMR_2344 --- compartment : {'C_c'} \n",
      "\n",
      "---\n",
      "\n",
      "\n",
      "1.0 (3S)-hydroxy-docasa-cis,cis-13,16-dienoyl-CoA --> 1.0 H2O + 1.0 trans,cis,cis-2,13,16-docasatrienoyl-CoA\n",
      "\n",
      "1.0 m00085c --> 1.0 m02040c + 1.0 m03008c\n",
      "FLUX : 0.06230355542754864 --- ID : HMR_2435 --- compartment : {'C_c'} \n",
      "\n",
      "---\n",
      "\n",
      "\n",
      "1.0 3(S)-hydroxy-hexacosenoyl-CoA --> 1.0 H2O + 1.0 trans,cis-2,17-hexacosadienoyl-CoA\n",
      "\n",
      "1.0 m00715c --> 1.0 m02040c + 1.0 m03016c\n",
      "FLUX : 0.06230355542754859 --- ID : HMR_2336 --- compartment : {'C_c'} \n",
      "\n",
      "---\n",
      "\n",
      "\n",
      "1.0 3(S)-hydroxy-docosa-10,13,16,19-all-cis-tetraenoyl-CoA --> 1.0 H2O + 1.0 trans,cis,cis,cis,cis-2,10,13,16,19-docosapentaenoyl-CoA\n",
      "\n",
      "1.0 m00711c --> 1.0 m02040c + 1.0 m03002c\n",
      "FLUX : 0.24921422171019442 --- ID : HMR_2518 --- compartment : {'C_c'} \n",
      "\n",
      "---\n",
      "\n",
      "\n",
      "1.0 coproporphyrinogen III + 1.0 O2 --> 2.0 CO2 + 2.0 H2O + 1.0 protoporphyrinogen IX\n",
      "\n",
      "1.0 m01606c + 1.0 m02630c --> 2.0 m01596c + 2.0 m02040c + 1.0 m02804c\n",
      "FLUX : 13.76003503976965 --- ID : HMR_4752 --- compartment : {'C_c'} \n",
      "\n",
      "---\n",
      "\n",
      "\n",
      "1.0 uroporphyrinogen III --> 4.0 CO2 + 1.0 coproporphyrinogen III\n",
      "\n",
      "1.0 m03128c --> 4.0 m01596c + 1.0 m01606c\n",
      "FLUX : 13.760035039769647 --- ID : HMR_4750 --- compartment : {'C_c'} \n",
      "\n",
      "---\n",
      "\n",
      "\n",
      "1.0 formate + 1.0 NAD+ --> 1.0 CO2 + 1.0 H+ + 1.0 NADH\n",
      "\n",
      "1.0 m01833c + 1.0 m02552c --> 1.0 m01596c + 1.0 m02039c + 1.0 m02553c\n",
      "FLUX : 598.6755690109611 --- ID : HMR_8758 --- compartment : {'C_c'} \n",
      "\n",
      "---\n",
      "\n",
      "\n",
      "1.0 formate + 1.0 L-lactate --> 1.0 formate + 1.0 L-lactate\n",
      "\n",
      "1.0 m01833s + 1.0 m02403c --> 1.0 m01833c + 1.0 m02403s\n",
      "FLUX : 598.6755690109611 --- ID : HMR_6038 --- compartment : {'C_c', 'C_s'} \n",
      "\n",
      "---\n",
      "\n",
      "\n",
      "1.0 formate --> 1.0 formate\n",
      "\n",
      "1.0 m01833x --> 1.0 m01833s\n",
      "FLUX : 598.6755690109611 --- ID : HMR_9318 --- compartment : {'C_s', 'C_x'} \n",
      "\n",
      "---\n",
      "\n",
      "\n",
      "1.0 formate --> \n",
      "\n",
      "1.0 m01833x --> \n",
      "FLUX : -598.6755690109612 --- ID : EX_m01833x --- compartment : {'C_x'} \n",
      "\n",
      "---\n",
      "\n",
      "\n",
      "1.0 L-lactate + 1.0 retinoate --> 1.0 L-lactate + 1.0 retinoate\n",
      "\n",
      "1.0 m02403c + 1.0 m02833s --> 1.0 m02403s + 1.0 m02833c\n",
      "FLUX : 4.7913944295302353e-14 --- ID : HMR_6049 --- compartment : {'C_c', 'C_s'} \n",
      "\n",
      "---\n",
      "\n",
      "\n",
      "1.0 (R)-3-hydroxybutanoate + 1.0 L-lactate --> 1.0 (R)-3-hydroxybutanoate + 1.0 L-lactate\n",
      "\n",
      "1.0 m00157c + 1.0 m02403s --> 1.0 m00157s + 1.0 m02403c\n",
      "FLUX : 951.5057201463662 --- ID : HMR_6050 --- compartment : {'C_c', 'C_s'} \n",
      "\n",
      "---\n",
      "\n",
      "\n",
      "1.0 (R)-3-hydroxybutanoate + 1.0 H+ --> 1.0 (R)-3-hydroxybutanoate + 1.0 H+\n",
      "\n",
      "1.0 m00157m + 1.0 m02039c --> 1.0 m00157c + 1.0 m02039m\n",
      "FLUX : 951.5057201463662 --- ID : HMR_5015 --- compartment : {'C_c', 'C_m'} \n",
      "\n",
      "---\n",
      "\n",
      "\n",
      "1.0 (R)-3-hydroxybutanoate + 1.0 NAD+ <-- 1.0 acetoacetate + 1.0 H+ + 1.0 NADH\n",
      "\n",
      "1.0 m00157m + 1.0 m02552m <-- 1.0 m01253m + 1.0 m02039m + 1.0 m02553m\n",
      "FLUX : -951.5057201463662 --- ID : HMR_4461 --- compartment : {'C_m'} \n",
      "\n",
      "---\n",
      "\n",
      "\n",
      "1.0 (S)-3-hydroxyoleyleoyl-CoA + 1.0 NAD+ --> 1.0 3-oxooleoyl-CoA + 1.0 H+ + 1.0 NADH\n",
      "\n",
      "1.0 m00176m + 1.0 m02552m --> 1.0 m00893m + 1.0 m02039m + 1.0 m02553m\n",
      "FLUX : 140.29105902107952 --- ID : HMR_3228 --- compartment : {'C_m'} \n",
      "\n",
      "---\n",
      "\n",
      "\n",
      "1.0 H2O + 1.0 trans,cis-octadeca-2,9-dienoyl-CoA --> 1.0 (S)-3-hydroxyoleyleoyl-CoA\n",
      "\n",
      "1.0 m02040m + 1.0 m03025m --> 1.0 m00176m\n",
      "FLUX : 140.29105902107952 --- ID : HMR_3227 --- compartment : {'C_m'} \n",
      "\n",
      "---\n",
      "\n",
      "\n",
      "2.0 H2O + 1.0 L-1-pyrroline-3-hydroxy-5-carboxylate + 1.0 NAD+ --> 1.0 H+ + 1.0 L-erythro-4-hydroxyglutamate + 1.0 NADH\n",
      "\n",
      "2.0 m02040m + 1.0 m02320m + 1.0 m02552m --> 1.0 m02039m + 1.0 m02358m + 1.0 m02553m\n",
      "FLUX : 110.0802803181572 --- ID : HMR_4784 --- compartment : {'C_m'} \n",
      "\n",
      "---\n",
      "\n",
      "\n",
      "1.0 1-pyrroline-5-carboxylate + 1.0 H2O <-- 1.0 L-glutamate 5-semialdehyde\n",
      "\n",
      "1.0 m00559m + 1.0 m02040m <-- 1.0 m02374m\n",
      "FLUX : -110.0802803181572 --- ID : HMR_3820 --- compartment : {'C_m'} \n",
      "\n",
      "---\n",
      "\n",
      "\n",
      "1.0 1-pyrroline-5-carboxylate + 1.0 ubiquinol --> 1.0 proline + 1.0 ubiquinone\n",
      "\n",
      "1.0 m00559m + 1.0 m03102m --> 1.0 m02770m + 1.0 m03103m\n",
      "FLUX : 110.0802803181572 --- ID : HMR_3838 --- compartment : {'C_m'} \n",
      "\n",
      "---\n",
      "\n",
      "\n",
      "1.0 (2E)-nonenoyl-CoA + 1.0 H2O --> 1.0 3-hydroxynonanoyl-CoA\n",
      "\n",
      "1.0 m00056m + 1.0 m02040m --> 1.0 m00792m\n",
      "FLUX : 1.674326571219818 --- ID : HMR_3195 --- compartment : {'C_m'} \n",
      "\n",
      "---\n",
      "\n",
      "\n",
      "1.0 (11Z,14Z,17Z)-eicosatrienoyl-CoA + 9.0 CoA + 6.0 FAD + 9.0 H2O + 9.0 NAD+ --> 10.0 acetyl-CoA + 6.0 FADH2 + 9.0 H+ + 9.0 NADH\n",
      "\n",
      "1.0 m00012m + 9.0 m01597m + 6.0 m01802m + 9.0 m02040m + 9.0 m02552m --> 10.0 m01261m + 6.0 m01803m + 9.0 m02039m + 9.0 m02553m\n",
      "FLUX : 0.8058758281491691 --- ID : HMR_3431 --- compartment : {'C_m'} \n",
      "\n",
      "---\n",
      "\n",
      "\n",
      "1.0 (11Z,14Z,17Z)-eicosatrienoyl-CoA + 1.0 L-carnitine <-- 1.0 (11Z,14Z,17Z)-eicosatrienoylcarnitine + 1.0 CoA\n",
      "\n",
      "1.0 m00012m + 1.0 m02348m <-- 1.0 m00011m + 1.0 m01597m\n",
      "FLUX : -0.8058758281491691 --- ID : HMR_2735 --- compartment : {'C_m'} \n",
      "\n",
      "---\n",
      "\n",
      "\n",
      "1.0 CoA + 1.0 O-propanoylcarnitine <-- 1.0 L-carnitine + 1.0 propanoyl-CoA\n",
      "\n",
      "1.0 m01597m + 1.0 m02657m <-- 1.0 m02348m + 1.0 m02774m\n",
      "FLUX : -7.689821419816969 --- ID : HMR_2598 --- compartment : {'C_m'} \n",
      "\n",
      "---\n",
      "\n",
      "\n",
      "1.0 CoA + 1.0 L-octanoylcarnitine <-- 1.0 L-carnitine + 1.0 octanoyl-CoA\n",
      "\n",
      "1.0 m01597m + 1.0 m02409m <-- 1.0 m02348m + 1.0 m02644m\n",
      "FLUX : -276.32943001730393 --- ID : HMR_0163 --- compartment : {'C_m'} \n",
      "\n",
      "---\n",
      "\n",
      "\n",
      "1.0 CoA + 1.0 dodecanoylcarnitine --> 1.0 lauroyl-CoA + 1.0 L-carnitine\n",
      "\n",
      "1.0 m01597m + 1.0 m01729m --> 1.0 m02345m + 1.0 m02348m\n",
      "FLUX : 1.9847589103818697 --- ID : HMR_2604 --- compartment : {'C_m'} \n",
      "\n",
      "---\n",
      "\n",
      "\n",
      "1.0 acetoacetyl-CoA + 1.0 acetyl-CoA + 1.0 H2O --> 1.0 CoA + 1.0 HMG-CoA\n",
      "\n",
      "1.0 m01255m + 1.0 m01261m + 1.0 m02040m --> 1.0 m01597m + 1.0 m02131m\n",
      "FLUX : 814.5603331712007 --- ID : HMR_1573 --- compartment : {'C_m'} \n",
      "\n",
      "---\n",
      "\n",
      "\n",
      "1.0 acetoacetyl-CoA + 1.0 CoA <-- 2.0 acetyl-CoA\n",
      "\n",
      "1.0 m01255m + 1.0 m01597m <-- 2.0 m01261m\n",
      "FLUX : -814.5603331712007 --- ID : HMR_3885 --- compartment : {'C_m'} \n",
      "\n",
      "---\n",
      "\n",
      "\n",
      "1.0 3-oxomyrist-5-enoyl-CoA + 1.0 CoA --> 1.0 (3Z)-dodecenoyl-CoA + 1.0 acetyl-CoA\n",
      "\n",
      "1.0 m00885m + 1.0 m01597m --> 1.0 m00088m + 1.0 m01261m\n",
      "FLUX : 164.056088827442 --- ID : HMR_3237 --- compartment : {'C_m'} \n",
      "\n",
      "---\n",
      "\n",
      "\n",
      "1.0 cis-(3S)-hydroxytetradec-5-enoyl-CoA + 1.0 NAD+ --> 1.0 3-oxomyrist-5-enoyl-CoA + 1.0 H+ + 1.0 NADH\n",
      "\n",
      "1.0 m01573m + 1.0 m02552m --> 1.0 m00885m + 1.0 m02039m + 1.0 m02553m\n",
      "FLUX : 164.056088827442 --- ID : HMR_3236 --- compartment : {'C_m'} \n",
      "\n",
      "---\n",
      "\n",
      "\n",
      "1.0 H2O + 1.0 trans,cis-myristo-2,5-dienoyl-CoA --> 1.0 cis-(3S)-hydroxytetradec-5-enoyl-CoA\n",
      "\n",
      "1.0 m02040m + 1.0 m03022m --> 1.0 m01573m\n",
      "FLUX : 164.05608882744195 --- ID : HMR_3235 --- compartment : {'C_m'} \n",
      "\n",
      "---\n",
      "\n",
      "\n",
      "1.0 (11Z,14Z)-eicosadienoyl-CoA + 9.0 CoA + 7.0 FAD + 9.0 H2O + 9.0 NAD+ --> 10.0 acetyl-CoA + 7.0 FADH2 + 9.0 H+ + 9.0 NADH\n",
      "\n",
      "1.0 m00009m + 9.0 m01597m + 7.0 m01802m + 9.0 m02040m + 9.0 m02552m --> 10.0 m01261m + 7.0 m01803m + 9.0 m02039m + 9.0 m02553m\n",
      "FLUX : 0.8058758281491691 --- ID : HMR_3423 --- compartment : {'C_m'} \n",
      "\n",
      "---\n",
      "\n",
      "\n",
      "1.0 (11Z,14Z)-eicosadienoyl-CoA + 1.0 L-carnitine <-- 1.0 CoA + 1.0 eicosadienoylcarnitine\n",
      "\n",
      "1.0 m00009m + 1.0 m02348m <-- 1.0 m01597m + 1.0 m01770m\n",
      "FLUX : -0.8058758281491691 --- ID : HMR_2770 --- compartment : {'C_m'} \n",
      "\n",
      "---\n",
      "\n",
      "\n",
      "1.0 7-hexadecenoyl-CoA + 1.0 L-carnitine --> 1.0 CoA + 1.0 hexadecenoylcarnitine(9)\n",
      "\n",
      "1.0 m01191m + 1.0 m02348m --> 1.0 m01597m + 1.0 m02117m\n",
      "FLUX : 4.971040403474402 --- ID : HMR_2635 --- compartment : {'C_m'} \n",
      "\n",
      "---\n",
      "\n",
      "\n",
      "1.0 7-hexadecenoyl-CoA + 1.0 FAD --> 1.0 FADH2 + 1.0 trans,cis-hexadeca-2,7-dienoyl-CoA\n",
      "\n",
      "1.0 m01191m + 1.0 m01802m --> 1.0 m01803m + 1.0 m03019m\n",
      "FLUX : 135.32001861760514 --- ID : HMR_3230 --- compartment : {'C_m'} \n",
      "\n",
      "---\n",
      "\n",
      "\n",
      "1.0 3-oxooleoyl-CoA + 1.0 CoA --> 1.0 7-hexadecenoyl-CoA + 1.0 acetyl-CoA\n",
      "\n",
      "1.0 m00893m + 1.0 m01597m --> 1.0 m01191m + 1.0 m01261m\n",
      "FLUX : 140.29105902107952 --- ID : HMR_3229 --- compartment : {'C_m'} \n",
      "\n",
      "---\n",
      "\n",
      "\n",
      "1.0 CoA + 1.0 L-palmitoylcarnitine <-- 1.0 L-carnitine + 1.0 palmitoyl-CoA\n",
      "\n",
      "1.0 m01597m + 1.0 m02411m <-- 1.0 m02348m + 1.0 m02678m\n",
      "FLUX : -0.8679080240827873 --- ID : HMR_2630 --- compartment : {'C_m'} \n",
      "\n",
      "---\n",
      "\n",
      "\n",
      "1.0 3-oxoeicosanoyl-CoA + 1.0 CoA --> 1.0 acetyl-CoA + 1.0 stearoyl-CoA\n",
      "\n",
      "1.0 m00872m + 1.0 m01597m --> 1.0 m01261m + 1.0 m02941m\n",
      "FLUX : 0.867908024082787 --- ID : HMR_3114 --- compartment : {'C_m'} \n",
      "\n",
      "---\n",
      "\n",
      "\n",
      "1.0 3-hydroxyeicosanoyl-CoA + 1.0 NAD+ --> 1.0 3-oxoeicosanoyl-CoA + 1.0 H+ + 1.0 NADH\n",
      "\n",
      "1.0 m00777m + 1.0 m02552m --> 1.0 m00872m + 1.0 m02039m + 1.0 m02553m\n",
      "FLUX : 0.867908024082787 --- ID : HMR_3113 --- compartment : {'C_m'} \n",
      "\n",
      "---\n",
      "\n",
      "\n",
      "1.0 H+ + 1.0 NADH + 1.0 OAA <-- 1.0 malate + 1.0 NAD+\n",
      "\n",
      "1.0 m02039m + 1.0 m02553m + 1.0 m02633m <-- 1.0 m02439m + 1.0 m02552m\n",
      "FLUX : -3.755225541948912e-14 --- ID : HMR_4141 --- compartment : {'C_m'} \n",
      "\n",
      "---\n",
      "\n",
      "\n",
      "1.0 H+ + 1.0 NADPH + 1.0 oxidized thioredoxin --> 1.0 NADP+ + 1.0 thioredoxin\n",
      "\n",
      "1.0 m02039m + 1.0 m02555m + 1.0 m02666m --> 1.0 m02554m + 1.0 m02990m\n",
      "FLUX : 2.3901910712900914e-15 --- ID : HMR_8482 --- compartment : {'C_m'} \n",
      "\n",
      "---\n",
      "\n",
      "\n",
      "1.0 3alpha,7alpha,12alpha,24(S)-tetrahydroxy-5beta-cholestan-27-al + 3.0 H+ + 1.0 NADPH + 1.0 O2 --> 1.0 H2O + 1.0 NADP+ + 1.0 tetraHCA\n",
      "\n",
      "1.0 m00746m + 3.0 m02039m + 1.0 m02555m + 1.0 m02630m --> 1.0 m02040m + 1.0 m02554m + 1.0 m02977m\n",
      "FLUX : 194.5201676038561 --- ID : HMR_1750 --- compartment : {'C_m'} \n",
      "\n",
      "---\n",
      "\n",
      "\n",
      "1.0 5beta-cholestan-3alpha,7alpha,12alpha,24(S),27-pentol + 1.0 NADPH + 1.0 O2 --> 1.0 3alpha,7alpha,12alpha,24(S)-tetrahydroxy-5beta-cholestan-27-al + 1.0 H+ + 1.0 H2O + 1.0 NADP+\n",
      "\n",
      "1.0 m01076m + 1.0 m02555m + 1.0 m02630m --> 1.0 m00746m + 1.0 m02039m + 1.0 m02040m + 1.0 m02554m\n",
      "FLUX : 194.52016760385604 --- ID : HMR_1748 --- compartment : {'C_m'} \n",
      "\n",
      "---\n",
      "\n",
      "\n",
      "1.0 5beta-cholestan-3alpha,7alpha,12alpha,24(S)-tetrol + 1.0 H+ + 1.0 NADPH + 1.0 O2 --> 1.0 5beta-cholestan-3alpha,7alpha,12alpha,24(S),27-pentol + 1.0 H2O + 1.0 NADP+\n",
      "\n",
      "1.0 m01077m + 1.0 m02039m + 1.0 m02555m + 1.0 m02630m --> 1.0 m01076m + 1.0 m02040m + 1.0 m02554m\n",
      "FLUX : 194.52016760385607 --- ID : HMR_1746 --- compartment : {'C_m'} \n",
      "\n",
      "---\n",
      "\n",
      "\n",
      "1.0 5beta-cholestan-3alpha,7alpha,12alpha,24(S)-tetrol --> 1.0 5beta-cholestan-3alpha,7alpha,12alpha,24(S)-tetrol\n",
      "\n",
      "1.0 m01077c --> 1.0 m01077m\n",
      "FLUX : 194.52016760385607 --- ID : HMR_1744 --- compartment : {'C_c', 'C_m'} \n",
      "\n",
      "---\n",
      "\n",
      "\n",
      "1.0 5beta-cholestan-7alpha,12alpha,24(S)-triol-3-one + 1.0 H+ + 1.0 NADPH --> 1.0 5beta-cholestan-3alpha,7alpha,12alpha,24(S)-tetrol + 1.0 NADP+\n",
      "\n",
      "1.0 m01081c + 1.0 m02039c + 1.0 m02555c --> 1.0 m01077c + 1.0 m02554c\n",
      "FLUX : 194.52016760385612 --- ID : HMR_1742 --- compartment : {'C_c'} \n",
      "\n",
      "---\n",
      "\n",
      "\n",
      "1.0 4-cholesten-7alpha,12alpha,24(S)-triol-3-one + 1.0 H+ + 1.0 NADPH --> 1.0 5beta-cholestan-7alpha,12alpha,24(S)-triol-3-one + 1.0 NADP+\n",
      "\n",
      "1.0 m00976c + 1.0 m02039c + 1.0 m02555c --> 1.0 m01081c + 1.0 m02554c\n",
      "FLUX : 194.52016760385612 --- ID : HMR_1740 --- compartment : {'C_c'} \n",
      "\n",
      "---\n",
      "\n",
      "\n",
      "1.0 4-cholesten-7alpha,24(S)-diol-3-one + 1.0 H+ + 1.0 NADPH + 1.0 O2 --> 1.0 4-cholesten-7alpha,12alpha,24(S)-triol-3-one + 1.0 H2O + 1.0 NADP+\n",
      "\n",
      "1.0 m00978c + 1.0 m02039c + 1.0 m02555c + 1.0 m02630c --> 1.0 m00976c + 1.0 m02040c + 1.0 m02554c\n",
      "FLUX : 194.52016760385612 --- ID : HMR_1739 --- compartment : {'C_c'} \n",
      "\n",
      "---\n",
      "\n",
      "\n",
      "1.0 cholest-5-ene-3beta,7alpha,24(S)-triol + 1.0 NAD+ --> 1.0 4-cholesten-7alpha,24(S)-diol-3-one + 1.0 H+ + 1.0 NADH\n",
      "\n",
      "1.0 m01446c + 1.0 m02552c --> 1.0 m00978c + 1.0 m02039c + 1.0 m02553c\n",
      "FLUX : 194.52016760385612 --- ID : HMR_1738 --- compartment : {'C_c'} \n",
      "\n",
      "---\n",
      "\n",
      "\n",
      "1.0 24-hydroxycholesterol + 1.0 H+ + 1.0 NADPH + 1.0 O2 --> 1.0 cholest-5-ene-3beta,7alpha,24(S)-triol + 1.0 H2O + 1.0 NADP+\n",
      "\n",
      "1.0 m00610c + 1.0 m02039c + 1.0 m02555c + 1.0 m02630c --> 1.0 m01446c + 1.0 m02040c + 1.0 m02554c\n",
      "FLUX : 194.5201676038561 --- ID : HMR_1737 --- compartment : {'C_c'} \n",
      "\n",
      "---\n",
      "\n",
      "\n",
      "1.0 H+ + 1.0 NADPH + 1.0 oxidized thioredoxin --> 1.0 NADP+ + 1.0 thioredoxin\n",
      "\n",
      "1.0 m02039c + 1.0 m02555c + 1.0 m02666c --> 1.0 m02554c + 1.0 m02990c\n",
      "FLUX : 60.09932198992973 --- ID : HMR_3931 --- compartment : {'C_c'} \n",
      "\n",
      "---\n",
      "\n",
      "\n",
      "1.0 H+ + 1.0 lysine --> 1.0 H+ + 1.0 lysine\n",
      "\n",
      "1.0 m02039c + 1.0 m02426m --> 1.0 m02039m + 1.0 m02426c\n",
      "FLUX : 277.74168738434935 --- ID : HMR_6321 --- compartment : {'C_c', 'C_m'} \n",
      "\n",
      "---\n",
      "\n",
      "\n",
      "1.0 11-cis-retinal + 1.0 H+ + 1.0 NADH --> 1.0 11-cis-retinol + 1.0 NAD+\n",
      "\n",
      "1.0 m00290c + 1.0 m02039c + 1.0 m02553c --> 1.0 m00291c + 1.0 m02552c\n",
      "FLUX : 215.78522167417444 --- ID : HMR_6638 --- compartment : {'C_c'} \n",
      "\n",
      "---\n",
      "\n",
      "\n",
      "1.0 retinal --> 1.0 11-cis-retinal\n",
      "\n",
      "1.0 m02832c --> 1.0 m00290c\n",
      "FLUX : 215.78522167417447 --- ID : HMR_6651 --- compartment : {'C_c'} \n",
      "\n",
      "---\n",
      "\n",
      "\n",
      "1.0 NADP+ + 1.0 retinol --> 1.0 H+ + 1.0 NADPH + 1.0 retinal\n",
      "\n",
      "1.0 m02554c + 1.0 m02834c --> 1.0 m02039c + 1.0 m02555c + 1.0 m02832c\n",
      "FLUX : 215.78522167417438 --- ID : HMR_6630 --- compartment : {'C_c'} \n",
      "\n",
      "---\n",
      "\n",
      "\n",
      "1.0 3-dehydrosphinganine + 1.0 H+ + 1.0 NADPH --> 1.0 NADP+ + 1.0 sphinganine\n",
      "\n",
      "1.0 m00769c + 1.0 m02039c + 1.0 m02555c --> 1.0 m02554c + 1.0 m02927c\n",
      "FLUX : 27.082595368795364 --- ID : HMR_0741 --- compartment : {'C_c'} \n",
      "\n",
      "---\n",
      "\n",
      "\n",
      "1.0 palmitoyl-CoA + 1.0 serine --> 1.0 3-dehydrosphinganine + 1.0 CO2 + 1.0 CoA\n",
      "\n",
      "1.0 m02678c + 1.0 m02896c --> 1.0 m00769c + 1.0 m01596c + 1.0 m01597c\n",
      "FLUX : 27.08259536879536 --- ID : HMR_0738 --- compartment : {'C_c'} \n",
      "\n",
      "---\n",
      "\n",
      "\n",
      "1.0 palmitoyl-CoA + 1.0 sn-glycerol-3-phosphate --> 1.0 1-acylglycerol-3P-palm + 1.0 CoA\n",
      "\n",
      "1.0 m02678c + 1.0 m02914c --> 1.0 m00496c + 1.0 m01597c\n",
      "FLUX : 99.47524142730461 --- ID : HMR_0493 --- compartment : {'C_c'} \n",
      "\n",
      "---\n",
      "\n",
      "\n",
      "1.0 cis-vaccenoyl-CoA + 1.0 sn-glycerol-3-phosphate --> 1.0 1-acylglycerol-3P-cis-vac + 1.0 CoA\n",
      "\n",
      "1.0 m01586c + 1.0 m02914c --> 1.0 m00474c + 1.0 m01597c\n",
      "FLUX : 9.992090570911436 --- ID : HMR_0501 --- compartment : {'C_c'} \n",
      "\n",
      "---\n",
      "\n",
      "\n",
      "1.0 CoA + 1.0 octadecenoylcarnitine(7) <-- 1.0 cis-vaccenoyl-CoA + 1.0 L-carnitine\n",
      "\n",
      "1.0 m01597c + 1.0 m02640c <-- 1.0 m01586c + 1.0 m02348c\n",
      "FLUX : -49.92537552561353 --- ID : HMR_2660 --- compartment : {'C_c'} \n",
      "\n",
      "---\n",
      "\n",
      "\n",
      "1.0 (6Z,9Z,12Z,15Z,18Z,21Z)-tetracosahexaenoyl-CoA + 1.0 sn-glycerol-3-phosphate --> 1.0 1-acylglycerol-3P-6,9,12,15,18,21-tetra + 1.0 CoA\n",
      "\n",
      "1.0 m00113c + 1.0 m02914c --> 1.0 m00455c + 1.0 m01597c\n",
      "FLUX : 0.21619252196834512 --- ID : HMR_0528 --- compartment : {'C_c'} \n",
      "\n",
      "---\n",
      "\n",
      "\n",
      "1.0 sn-glycerol-3-phosphate + 1.0 tricosanoyl-CoA --> 1.0 1-acylglycerol-3P-trico + 1.0 CoA\n",
      "\n",
      "1.0 m02914c + 1.0 m03047c --> 1.0 m00501c + 1.0 m01597c\n",
      "FLUX : 0.21619252196834512 --- ID : HMR_0517 --- compartment : {'C_c'} \n",
      "\n",
      "---\n",
      "\n",
      "\n",
      "1.0 12,15,18,21-tetracosatetraenoyl-CoA + 1.0 sn-glycerol-3-phosphate --> 1.0 1-acylglycerol-3P-12,15,18,21-tetra + 1.0 CoA\n",
      "\n",
      "1.0 m00317c + 1.0 m02914c --> 1.0 m00443c + 1.0 m01597c\n",
      "FLUX : 0.21619252196834512 --- ID : HMR_0533 --- compartment : {'C_c'} \n",
      "\n",
      "---\n",
      "\n",
      "\n",
      "1.0 5-tetradecenoyl-CoA + 1.0 sn-glycerol-3-phosphate --> 1.0 1-acylglycerol-3P-5-tetrade + 1.0 CoA\n",
      "\n",
      "1.0 m01141c + 1.0 m02914c --> 1.0 m00454c + 1.0 m01597c\n",
      "FLUX : 0.21619252196834512 --- ID : HMR_0491 --- compartment : {'C_c'} \n",
      "\n",
      "---\n",
      "\n",
      "\n",
      "1.0 eicosanoyl-CoA + 1.0 sn-glycerol-3-phosphate --> 1.0 1-acylglycerol-3P-eico + 1.0 CoA\n",
      "\n",
      "1.0 m01773c + 1.0 m02914c --> 1.0 m00478c + 1.0 m01597c\n",
      "FLUX : 0.21619252196834512 --- ID : HMR_0507 --- compartment : {'C_c'} \n",
      "\n",
      "---\n",
      "\n",
      "\n",
      "1.0 (6Z,9Z,12Z,15Z)-octadecatetraenoyl-CoA + 1.0 sn-glycerol-3-phosphate --> 1.0 1-acylglycerol-3P-6,9,12,15-octa + 1.0 CoA\n",
      "\n",
      "1.0 m00108c + 1.0 m02914c --> 1.0 m00457c + 1.0 m01597c\n",
      "FLUX : 0.8990094961744609 --- ID : HMR_0523 --- compartment : {'C_c'} \n",
      "\n",
      "---\n",
      "\n",
      "\n",
      "1.0 (9Z,12Z,15Z,18Z)-tetracosatetraenoyl-CoA + 1.0 sn-glycerol-3-phosphate --> 1.0 1-acylglycerol-3P-9,12,15,18-tetraco + 1.0 CoA\n",
      "\n",
      "1.0 m00131c + 1.0 m02914c --> 1.0 m00467c + 1.0 m01597c\n",
      "FLUX : 0.21619252196834512 --- ID : HMR_0539 --- compartment : {'C_c'} \n",
      "\n",
      "---\n",
      "\n",
      "\n",
      "1.0 oleoyl-CoA + 1.0 sn-glycerol-3-phosphate --> 1.0 1-acylglycerol-3P-ol + 1.0 CoA\n",
      "\n",
      "1.0 m02647c + 1.0 m02914c --> 1.0 m00495c + 1.0 m01597c\n",
      "FLUX : 39.26057700404094 --- ID : HMR_0502 --- compartment : {'C_c'} \n",
      "\n",
      "---\n",
      "\n",
      "\n",
      "1.0 CoA + 1.0 L-oleoylcarnitine <-- 1.0 L-carnitine + 1.0 oleoyl-CoA\n",
      "\n",
      "1.0 m01597c + 1.0 m02410c <-- 1.0 m02348c + 1.0 m02647c\n",
      "FLUX : -140.29105902107952 --- ID : HMR_2663 --- compartment : {'C_c'} \n",
      "\n",
      "---\n",
      "\n",
      "\n",
      "1.0 (4Z,7Z,10Z,13Z,16Z,19Z)-docosahexaenoyl-CoA + 1.0 sn-glycerol-3-phosphate --> 1.0 1-acylglycerol-3P-4,7,10,13,16,19-doco + 1.0 CoA\n",
      "\n",
      "1.0 m00095c + 1.0 m02914c --> 1.0 m00450c + 1.0 m01597c\n",
      "FLUX : 8.288755204864145 --- ID : HMR_0529 --- compartment : {'C_c'} \n",
      "\n",
      "---\n",
      "\n",
      "\n",
      "1.0 (4Z,7Z,10Z,13Z,16Z,19Z)-docosahexaenoyl-CoA + 1.0 L-carnitine --> 1.0 CoA + 1.0 docosahexaenoylcarnitine\n",
      "\n",
      "1.0 m00095c + 1.0 m02348c --> 1.0 m01597c + 1.0 m01723c\n",
      "FLUX : 7.630054049787795 --- ID : HMR_2730 --- compartment : {'C_c'} \n",
      "\n",
      "---\n",
      "\n",
      "\n",
      "1.0 (4Z,7Z,10Z,13Z,16Z,19Z)-docosahexaenoyl-CoA + 1.0 AMP + 1.0 PPi <-- 1.0 ATP + 1.0 CoA + 1.0 DHA\n",
      "\n",
      "1.0 m00095c + 1.0 m01334c + 1.0 m02759c <-- 1.0 m01371c + 1.0 m01597c + 1.0 m01689c\n",
      "FLUX : -27.568944444438213 --- ID : HMR_0377 --- compartment : {'C_c'} \n",
      "\n",
      "---\n",
      "\n",
      "\n",
      "1.0 ADP-ribose + 1.0 H2O --> 1.0 AMP + 1.0 ribose-5-phosphate\n",
      "\n",
      "1.0 m01288c + 1.0 m02040c --> 1.0 m01334c + 1.0 m02845c\n",
      "FLUX : 41.14908532643962 --- ID : HMR_7144 --- compartment : {'C_c'} \n",
      "\n",
      "---\n",
      "\n",
      "\n",
      "1.0 ADP-ribose <-- 1.0 ADP-ribose\n",
      "\n",
      "1.0 m01288c <-- 1.0 m01288s\n",
      "FLUX : -41.149085326439625 --- ID : HMR_7905 --- compartment : {'C_c', 'C_s'} \n",
      "\n",
      "---\n",
      "\n",
      "\n",
      "1.0 ADP-ribose --> 1.0 ADP-ribose\n",
      "\n",
      "1.0 m01288x --> 1.0 m01288s\n",
      "FLUX : 41.149085326439625 --- ID : HMR_9141 --- compartment : {'C_s', 'C_x'} \n",
      "\n",
      "---\n",
      "\n",
      "\n",
      "1.0 ADP-ribose --> \n",
      "\n",
      "1.0 m01288x --> \n",
      "FLUX : -41.149085326439625 --- ID : EX_m01288x --- compartment : {'C_x'} \n",
      "\n",
      "---\n",
      "\n",
      "\n",
      "1.0 1-acylglycerol-LD-SM pool + 1.0 H2O --> 1.0 fatty acid-LD-SM pool + 1.0 glycerol\n",
      "\n",
      "1.0 m00508c + 1.0 m02040c --> 1.0 m01812c + 1.0 m01983c\n",
      "FLUX : 27.131324548787216 --- ID : HMR_0684 --- compartment : {'C_c'} \n",
      "\n",
      "---\n",
      "\n",
      "\n",
      "1.0 2-phospho-D-glycerate --> 1.0 H2O + 1.0 PEP\n",
      "\n",
      "1.0 m00674c --> 1.0 m02040c + 1.0 m02696c\n",
      "FLUX : 1000.0 --- ID : HMR_4363 --- compartment : {'C_c'} \n",
      "\n",
      "---\n",
      "\n",
      "\n",
      "1.0 2-phospho-D-glycerate <-- 1.0 3-phospho-D-glycerate\n",
      "\n",
      "1.0 m00674c <-- 1.0 m00913c\n",
      "FLUX : -1000.0 --- ID : HMR_4365 --- compartment : {'C_c'} \n",
      "\n",
      "---\n",
      "\n",
      "\n",
      "1.0 H2O --> 1.0 H2O\n",
      "\n",
      "1.0 m02040c --> 1.0 m02040s\n",
      "FLUX : 506.39009353660214 --- ID : HMR_4885 --- compartment : {'C_c', 'C_s'} \n",
      "\n",
      "---\n",
      "\n",
      "\n",
      "1.0 H2O + 1.0 sn-glycerol-3-PE --> 1.0 ethanolamine + 1.0 sn-glycerol-3-phosphate\n",
      "\n",
      "1.0 m02040c + 1.0 m02913c --> 1.0 m01797c + 1.0 m02914c\n",
      "FLUX : 269.21267755736477 --- ID : HMR_0646 --- compartment : {'C_c'} \n",
      "\n",
      "---\n",
      "\n",
      "\n",
      "1.0 H2O + 1.0 sphinganine-1-phosphate --> 1.0 Pi + 1.0 sphinganine\n",
      "\n",
      "1.0 m02040c + 1.0 m02928c --> 1.0 m02751c + 1.0 m02927c\n",
      "FLUX : 27.18005372877906 --- ID : HMR_0746 --- compartment : {'C_c'} \n",
      "\n",
      "---\n",
      "\n",
      "\n",
      "1.0 H+ + 1.0 NADPH + 1.0 O2 + 1.0 oleoyl-CoA --> 1.0 (6Z,9Z)-octadecadienoyl-CoA + 2.0 H2O + 1.0 NADP+\n",
      "\n",
      "1.0 m02039c + 1.0 m02555c + 1.0 m02630c + 1.0 m02647c --> 1.0 m00106c + 2.0 m02040c + 1.0 m02554c\n",
      "FLUX : 0.12460711085509722 --- ID : HMR_2359 --- compartment : {'C_c'} \n",
      "\n",
      "---\n",
      "\n",
      "\n",
      "1.0 H+ + 1.0 NADH + 1.0 NADP+ --> 1.0 H+ + 1.0 NAD+ + 1.0 NADPH\n",
      "\n",
      "1.0 m02039c + 1.0 m02553m + 1.0 m02554m --> 1.0 m02039m + 1.0 m02552m + 1.0 m02555m\n",
      "FLUX : 474.07516175824156 --- ID : HMR_4271 --- compartment : {'C_c', 'C_m'} \n",
      "\n",
      "---\n",
      "\n",
      "\n",
      "1.0 dihydrofolate + 1.0 H+ + 1.0 NADH --> 1.0 NAD+ + 1.0 THF\n",
      "\n",
      "1.0 m01700c + 1.0 m02039c + 1.0 m02553c --> 1.0 m02552c + 1.0 m02980c\n",
      "FLUX : 1000.0 --- ID : HMR_4332 --- compartment : {'C_c'} \n",
      "\n",
      "---\n",
      "\n",
      "\n",
      "1.0 dihydrofolate + 1.0 H+ + 1.0 NADPH <-- 1.0 NADP+ + 1.0 THF\n",
      "\n",
      "1.0 m01700c + 1.0 m02039c + 1.0 m02555c <-- 1.0 m02554c + 1.0 m02980c\n",
      "FLUX : -983.7569400027218 --- ID : HMR_4333 --- compartment : {'C_c'} \n",
      "\n",
      "---\n",
      "\n",
      "\n",
      "1.0 glutamine + 1.0 H+ --> 1.0 glutamine + 1.0 H+\n",
      "\n",
      "1.0 m01975c + 1.0 m02039c --> 1.0 m01975m + 1.0 m02039m\n",
      "FLUX : 220.56642485379524 --- ID : HMR_5101 --- compartment : {'C_c', 'C_m'} \n",
      "\n",
      "---\n",
      "\n",
      "\n",
      "1.0 glutamine + 1.0 Na+ + 1.0 tyrosine --> 1.0 glutamine + 1.0 Na+ + 1.0 tyrosine\n",
      "\n",
      "1.0 m01975s + 1.0 m02519s + 1.0 m03101c --> 1.0 m01975c + 1.0 m02519c + 1.0 m03101s\n",
      "FLUX : 332.90486760540614 --- ID : HMR_5623 --- compartment : {'C_c', 'C_s'} \n",
      "\n",
      "---\n",
      "\n",
      "\n",
      "1.0 glutamine --> 1.0 glutamine\n",
      "\n",
      "1.0 m01975x --> 1.0 m01975s\n",
      "FLUX : 247.63819151592583 --- ID : HMR_9063 --- compartment : {'C_s', 'C_x'} \n",
      "\n",
      "---\n",
      "\n",
      "\n",
      "1.0 glutamine --> \n",
      "\n",
      "1.0 m01975x --> \n",
      "FLUX : -247.63819151592583 --- ID : EX_m01975x --- compartment : {'C_x'} \n",
      "\n",
      "---\n",
      "\n",
      "\n",
      "1.0 glycine + 1.0 Na+ + 1.0 tyrosine --> 1.0 glycine + 1.0 Na+ + 1.0 tyrosine\n",
      "\n",
      "1.0 m01986s + 1.0 m02519s + 1.0 m03101c --> 1.0 m01986c + 1.0 m02519c + 1.0 m03101s\n",
      "FLUX : 10.828706664851955 --- ID : HMR_5593 --- compartment : {'C_c', 'C_s'} \n",
      "\n",
      "---\n",
      "\n",
      "\n",
      "1.0 H2O + 1.0 LTD4 --> 1.0 glycine + 1.0 leukotriene E4\n",
      "\n",
      "1.0 m02040s + 1.0 m02418s --> 1.0 m01986s + 1.0 m02369s\n",
      "FLUX : 10.828706664851953 --- ID : HMR_1085 --- compartment : {'C_s'} \n",
      "\n",
      "---\n",
      "\n",
      "\n",
      "1.0 H2O + 1.0 O2 + 1.0 spermine monoaldehyde --> 1.0 H2O2 + 1.0 NH3 + 1.0 spermine dialdehyde\n",
      "\n",
      "1.0 m02040s + 1.0 m02630s + 1.0 m02925s --> 1.0 m02041s + 1.0 m02578s + 1.0 m02924s\n",
      "FLUX : 1.0397490242239346e-13 --- ID : HMR_6935 --- compartment : {'C_s'} \n",
      "\n",
      "---\n",
      "\n",
      "\n",
      "4.0 H2O + 1.0 pentaglutamyl-folate(THF) --> 4.0 glutamate + 1.0 THF\n",
      "\n",
      "4.0 m02040s + 1.0 m02692s --> 4.0 m01974s + 1.0 m02980s\n",
      "FLUX : 1.5484943523062973e-13 --- ID : HMR_8132 --- compartment : {'C_s'} \n",
      "\n",
      "---\n",
      "\n",
      "\n",
      "1.0 adenosine + 1.0 H2O --> 1.0 inosine + 1.0 NH3\n",
      "\n",
      "1.0 m01280s + 1.0 m02040s --> 1.0 m02170s + 1.0 m02578s\n",
      "FLUX : 5.955788665668574 --- ID : HMR_4482 --- compartment : {'C_s'} \n",
      "\n",
      "---\n",
      "\n",
      "\n",
      "1.0 adenosine --> 1.0 adenosine\n",
      "\n",
      "1.0 m01280x --> 1.0 m01280s\n",
      "FLUX : 5.955788665668578 --- ID : HMR_9254 --- compartment : {'C_s', 'C_x'} \n",
      "\n",
      "---\n",
      "\n",
      "\n",
      "1.0 adenosine --> \n",
      "\n",
      "1.0 m01280x --> \n",
      "FLUX : -5.955788665668578 --- ID : EX_m01280x --- compartment : {'C_x'} \n",
      "\n",
      "---\n",
      "\n",
      "\n",
      "1.0 adenosine + 1.0 inosine <-- 1.0 adenosine + 1.0 inosine\n",
      "\n",
      "1.0 m01280c + 1.0 m02170s <-- 1.0 m01280s + 1.0 m02170c\n",
      "FLUX : -4.400804367483885e-15 --- ID : HMR_4844 --- compartment : {'C_c', 'C_s'} \n",
      "\n",
      "---\n",
      "\n",
      "\n",
      "1.0 inosine <-- 1.0 inosine\n",
      "\n",
      "1.0 m02170c <-- 1.0 m02170s\n",
      "FLUX : -5.955788665668577 --- ID : HMR_5042 --- compartment : {'C_c', 'C_s'} \n",
      "\n",
      "---\n",
      "\n",
      "\n",
      "1.0 inosine + 1.0 Pi --> 1.0 hypoxanthine + 1.0 ribose-1-phosphate\n",
      "\n",
      "1.0 m02170c + 1.0 m02751c --> 1.0 m02159c + 1.0 m02844c\n",
      "FLUX : 5.955788665668573 --- ID : HMR_4574 --- compartment : {'C_c'} \n",
      "\n",
      "---\n",
      "\n",
      "\n",
      "1.0 malate + 1.0 Pi --> 1.0 malate + 1.0 Pi\n",
      "\n",
      "1.0 m02439m + 1.0 m02751c --> 1.0 m02439c + 1.0 m02751m\n",
      "FLUX : 7.3526646981364e-14 --- ID : HMR_4865 --- compartment : {'C_c', 'C_m'} \n",
      "\n",
      "---\n",
      "\n",
      "\n",
      "1.0 H+ + 1.0 Pi --> 1.0 H+ + 1.0 Pi\n",
      "\n",
      "1.0 m02039c + 1.0 m02751c --> 1.0 m02039m + 1.0 m02751m\n",
      "FLUX : 419.6813068484261 --- ID : HMR_5043 --- compartment : {'C_c', 'C_m'} \n",
      "\n",
      "---\n",
      "\n",
      "\n",
      "1.0 H+ + 1.0 pyruvate --> 1.0 H+ + 1.0 pyruvate\n",
      "\n",
      "1.0 m02039c + 1.0 m02819c --> 1.0 m02039p + 1.0 m02819p\n",
      "FLUX : 678.3950758892515 --- ID : HMR_4930 --- compartment : {'C_c', 'C_p'} \n",
      "\n",
      "---\n",
      "\n",
      "\n",
      "1.0 dGDP + 1.0 PEP --> 1.0 dGTP + 1.0 pyruvate\n",
      "\n",
      "1.0 m01680c + 1.0 m02696c --> 1.0 m01688c + 1.0 m02819c\n",
      "FLUX : 10.828706664852206 --- ID : HMR_4573 --- compartment : {'C_c'} \n",
      "\n",
      "---\n",
      "\n",
      "\n",
      "0.3 dATP + 0.2 dCTP + 0.2 dGTP + 0.3 dTTP --> 1.0 DNA + 1.0 PPi\n",
      "\n",
      "0.3 m01642c + 0.2 m01645c + 0.2 m01688c + 0.3 m01753c --> 1.0 m01721c + 1.0 m02759c\n",
      "FLUX : 54.14353332426102 --- ID : HMR_7160 --- compartment : {'C_c'} \n",
      "\n",
      "---\n",
      "\n",
      "\n",
      "1.0 dADP + 1.0 dTTP <-- 1.0 dATP + 1.0 dTDP\n",
      "\n",
      "1.0 m01637c + 1.0 m01753c <-- 1.0 m01642c + 1.0 m01747c\n",
      "FLUX : -16.243059997278305 --- ID : HMR_6614 --- compartment : {'C_c'} \n",
      "\n",
      "---\n",
      "\n",
      "\n",
      "1.0 dCDP + 1.0 UDP --> 1.0 dCTP + 1.0 UMP\n",
      "\n",
      "1.0 m01643c + 1.0 m03106c --> 1.0 m01645c + 1.0 m03114c\n",
      "FLUX : 10.828706664852206 --- ID : HMR_7871 --- compartment : {'C_c'} \n",
      "\n",
      "---\n",
      "\n",
      "\n",
      "1.0 DNA --> 1.0 DNA\n",
      "\n",
      "1.0 m01721c --> 1.0 m01721n\n",
      "FLUX : 54.14353332426102 --- ID : HMR_8639 --- compartment : {'C_c', 'C_n'} \n",
      "\n",
      "---\n",
      "\n",
      "\n",
      "1.0 DNA + 1.0 SAM --> 1.0 DNA-5-methylcytosine + 1.0 H+ + 1.0 SAH\n",
      "\n",
      "1.0 m01721n + 1.0 m02877n --> 1.0 m01722n + 1.0 m02039n + 1.0 m02871n\n",
      "FLUX : 27.071766662130514 --- ID : HMR_8641 --- compartment : {'C_n'} \n",
      "\n",
      "---\n",
      "\n",
      "\n",
      "1.0 SAM --> 1.0 SAM\n",
      "\n",
      "1.0 m02877c --> 1.0 m02877n\n",
      "FLUX : 27.07176666213051 --- ID : HMR_7765 --- compartment : {'C_c', 'C_n'} \n",
      "\n",
      "---\n",
      "\n",
      "\n",
      "1.0 dimethylglycine + 1.0 SAH --> 1.0 SAM + 1.0 sarcosine\n",
      "\n",
      "1.0 m01708c + 1.0 m02871c --> 1.0 m02877c + 1.0 m02880c\n",
      "FLUX : 27.07176666213051 --- ID : HMR_4701 --- compartment : {'C_c'} \n",
      "\n",
      "---\n",
      "\n",
      "\n",
      "1.0 betaine + 1.0 homocysteine <-- 1.0 dimethylglycine + 1.0 methionine\n",
      "\n",
      "1.0 m01393c + 1.0 m02133c <-- 1.0 m01708c + 1.0 m02471c\n",
      "FLUX : -4.400804367483885e-15 --- ID : HMR_4699 --- compartment : {'C_c'} \n",
      "\n",
      "---\n",
      "\n",
      "\n",
      "1.0 betaine + 2.0 Na+ <-- 1.0 betaine + 2.0 Na+\n",
      "\n",
      "1.0 m01393s + 2.0 m02519s <-- 1.0 m01393c + 2.0 m02519c\n",
      "FLUX : -4.400804367483885e-15 --- ID : HMR_8889 --- compartment : {'C_c', 'C_s'} \n",
      "\n",
      "---\n",
      "\n",
      "\n",
      "1.0 betaine <-- 1.0 betaine\n",
      "\n",
      "1.0 m01393x <-- 1.0 m01393s\n",
      "FLUX : -4.400804367483885e-15 --- ID : HMR_9341 --- compartment : {'C_s', 'C_x'} \n",
      "\n",
      "---\n",
      "\n",
      "\n",
      "1.0 betaine <-- \n",
      "\n",
      "1.0 m01393x <-- \n",
      "FLUX : 4.400804367483885e-15 --- ID : EX_m01393x --- compartment : {'C_x'} \n",
      "\n",
      "---\n",
      "\n",
      "\n",
      "1.0 HCO3- + 1.0 Na+ --> 1.0 HCO3- + 1.0 Na+\n",
      "\n",
      "1.0 m02046c + 1.0 m02519c --> 1.0 m02046s + 1.0 m02519s\n",
      "FLUX : 1000.0 --- ID : HMR_5432 --- compartment : {'C_c', 'C_s'} \n",
      "\n",
      "---\n",
      "\n",
      "\n",
      "1.0 HCO3- + 1.0 thyroxine --> 1.0 HCO3- + 1.0 thyroxine\n",
      "\n",
      "1.0 m02046c + 1.0 m02998s --> 1.0 m02046s + 1.0 m02998c\n",
      "FLUX : 190.13173587221547 --- ID : HMR_6096 --- compartment : {'C_c', 'C_s'} \n",
      "\n",
      "---\n",
      "\n",
      "\n",
      "1.0 cholate + 1.0 GSH + 1.0 HCO3- <-- 1.0 cholate + 1.0 GSH + 1.0 HCO3-\n",
      "\n",
      "1.0 m01445s + 1.0 m02026c + 1.0 m02046c <-- 1.0 m01445c + 1.0 m02026s + 1.0 m02046s\n",
      "FLUX : -194.52016760385612 --- ID : HMR_1875 --- compartment : {'C_c', 'C_s'} \n",
      "\n",
      "---\n",
      "\n",
      "\n",
      "1.0 cholate <-- 1.0 cholate\n",
      "\n",
      "1.0 m01445x <-- 1.0 m01445s\n",
      "FLUX : -194.52016760385615 --- ID : HMR_9280 --- compartment : {'C_s', 'C_x'} \n",
      "\n",
      "---\n",
      "\n",
      "\n",
      "1.0 cholate <-- \n",
      "\n",
      "1.0 m01445x <-- \n",
      "FLUX : 194.52016760385618 --- ID : EX_m01445x --- compartment : {'C_x'} \n",
      "\n",
      "---\n",
      "\n",
      "\n",
      "1.0 cholate --> 1.0 cholate\n",
      "\n",
      "1.0 m01445p --> 1.0 m01445c\n",
      "FLUX : 194.52016760385612 --- ID : HMR_1665 --- compartment : {'C_c', 'C_p'} \n",
      "\n",
      "---\n",
      "\n",
      "\n",
      "1.0 choloyl-CoA + 1.0 H2O --> 1.0 cholate + 1.0 CoA\n",
      "\n",
      "1.0 m01514p + 1.0 m02040p --> 1.0 m01445p + 1.0 m01597p\n",
      "FLUX : 194.5201676038561 --- ID : HMR_1663 --- compartment : {'C_p'} \n",
      "\n",
      "---\n",
      "\n",
      "\n",
      "1.0 3alpha,7alpha,12alpha-trihydroxy-5beta-24-oxocholestanoyl-CoA + 1.0 CoA --> 1.0 choloyl-CoA + 1.0 propanoyl-CoA\n",
      "\n",
      "1.0 m00748p + 1.0 m01597p --> 1.0 m01514p + 1.0 m02774p\n",
      "FLUX : 194.5201676038561 --- ID : HMR_1652 --- compartment : {'C_p'} \n",
      "\n",
      "---\n",
      "\n",
      "\n",
      "1.0 (24R,25R)3alpha,7alpha,12alpha,24-tetrahydroxy-5beta-cholestanoyl-CoA + 1.0 NAD+ --> 1.0 3alpha,7alpha,12alpha-trihydroxy-5beta-24-oxocholestanoyl-CoA + 1.0 H+ + 1.0 NADH\n",
      "\n",
      "1.0 m00036p + 1.0 m02552p --> 1.0 m00748p + 1.0 m02039p + 1.0 m02553p\n",
      "FLUX : 194.5201676038561 --- ID : HMR_1646 --- compartment : {'C_p'} \n",
      "\n",
      "---\n",
      "\n",
      "\n",
      "1.0 25(R)TetraHCA-CoA --> 1.0 (24R,25R)3alpha,7alpha,12alpha,24-tetrahydroxy-5beta-cholestanoyl-CoA\n",
      "\n",
      "1.0 m00615p --> 1.0 m00036p\n",
      "FLUX : 194.52016760385607 --- ID : HMR_1760 --- compartment : {'C_p'} \n",
      "\n",
      "---\n",
      "\n",
      "\n",
      "1.0 25(R)TetraHCA-CoA --> 1.0 25(R)TetraHCA-CoA\n",
      "\n",
      "1.0 m00615c --> 1.0 m00615p\n",
      "FLUX : 194.52016760385604 --- ID : HMR_1758 --- compartment : {'C_c', 'C_p'} \n",
      "\n",
      "---\n",
      "\n",
      "\n",
      "1.0 ATP + 1.0 CoA + 1.0 tetraHCA --> 1.0 25(R)TetraHCA-CoA + 1.0 AMP + 1.0 H2O + 1.0 PPi\n",
      "\n",
      "1.0 m01371c + 1.0 m01597c + 1.0 m02977c --> 1.0 m00615c + 1.0 m01334c + 1.0 m02040c + 1.0 m02759c\n",
      "FLUX : 194.52016760385607 --- ID : HMR_1754 --- compartment : {'C_c'} \n",
      "\n",
      "---\n",
      "\n",
      "\n",
      "1.0 (13Z)-eicosenoyl-CoA + 1.0 sn-glycerol-3-phosphate --> 1.0 1-acylglycerol-3P-13-eicose + 1.0 CoA\n",
      "\n",
      "1.0 m00018c + 1.0 m02914c --> 1.0 m00447c + 1.0 m01597c\n",
      "FLUX : 0.21619252196834512 --- ID : HMR_0508 --- compartment : {'C_c'} \n",
      "\n",
      "---\n",
      "\n",
      "\n",
      "1.0 sn-glycerol-3-phosphate + 1.0 tetracosanoyl-CoA --> 1.0 1-acylglycerol-3P-tetraco + 1.0 CoA\n",
      "\n",
      "1.0 m02914c + 1.0 m02971c --> 1.0 m00500c + 1.0 m01597c\n",
      "FLUX : 0.21619252196834512 --- ID : HMR_0518 --- compartment : {'C_c'} \n",
      "\n",
      "---\n",
      "\n",
      "\n",
      "1.0 linoleoyl-CoA + 1.0 sn-glycerol-3-phosphate --> 1.0 1-acylglycerol-3P-lin + 1.0 CoA\n",
      "\n",
      "1.0 m02391c + 1.0 m02914c --> 1.0 m00491c + 1.0 m01597c\n",
      "FLUX : 76.07968790691672 --- ID : HMR_0534 --- compartment : {'C_c'} \n",
      "\n",
      "---\n",
      "\n",
      "\n",
      "1.0 pentadecanoyl-CoA + 1.0 sn-glycerol-3-phosphate --> 1.0 1-acylglycerol-3P-pentade + 1.0 CoA\n",
      "\n",
      "1.0 m02689c + 1.0 m02914c --> 1.0 m00498c + 1.0 m01597c\n",
      "FLUX : 0.21619252196834512 --- ID : HMR_0492 --- compartment : {'C_c'} \n",
      "\n",
      "---\n",
      "\n",
      "\n",
      "1.0 CoA + 1.0 pentadecanoylcarnitine <-- 1.0 L-carnitine + 1.0 pentadecanoyl-CoA\n",
      "\n",
      "1.0 m01597c + 1.0 m02688c <-- 1.0 m02348c + 1.0 m02689c\n",
      "FLUX : -1.7366301266473667 --- ID : HMR_2623 --- compartment : {'C_c'} \n",
      "\n",
      "---\n",
      "\n",
      "\n",
      "1.0 lauroyl-CoA + 1.0 sn-glycerol-3-phosphate --> 1.0 1-acylglycerol-3P-laur + 1.0 CoA\n",
      "\n",
      "1.0 m02345c + 1.0 m02914c --> 1.0 m00484c + 1.0 m01597c\n",
      "FLUX : 0.21619252196834512 --- ID : HMR_0486 --- compartment : {'C_c'} \n",
      "\n",
      "---\n",
      "\n",
      "\n",
      "1.0 CoA + 1.0 dodecanoylcarnitine <-- 1.0 lauroyl-CoA + 1.0 L-carnitine\n",
      "\n",
      "1.0 m01597c + 1.0 m01729c <-- 1.0 m02345c + 1.0 m02348c\n",
      "FLUX : -1.9847589103818697 --- ID : HMR_2602 --- compartment : {'C_c'} \n",
      "\n",
      "---\n",
      "\n",
      "\n",
      "1.0 (9E)-octadecenoyl-CoA + 1.0 sn-glycerol-3-phosphate --> 1.0 1-acylglycerol-3P-9-octade + 1.0 CoA\n",
      "\n",
      "1.0 m00127c + 1.0 m02914c --> 1.0 m00470c + 1.0 m01597c\n",
      "FLUX : 0.21619252196834512 --- ID : HMR_0503 --- compartment : {'C_c'} \n",
      "\n",
      "---\n",
      "\n",
      "\n",
      "1.0 (6Z,9Z,12Z,15Z,18Z)-tetracosapentaenoyl-CoA + 1.0 sn-glycerol-3-phosphate --> 1.0 1-acylglycerol-3P-6,9,12,15,18-tetraco + 1.0 CoA\n",
      "\n",
      "1.0 m00110c + 1.0 m02914c --> 1.0 m00456c + 1.0 m01597c\n",
      "FLUX : 0.21619252196834512 --- ID : HMR_0540 --- compartment : {'C_c'} \n",
      "\n",
      "---\n",
      "\n",
      "\n",
      "1.0 (15Z)-tetracosenoyl-CoA + 1.0 sn-glycerol-3-phosphate --> 1.0 1-acylglycerol-3P-15-tetra + 1.0 CoA\n",
      "\n",
      "1.0 m00025c + 1.0 m02914c --> 1.0 m00449c + 1.0 m01597c\n",
      "FLUX : 0.21619252196834512 --- ID : HMR_0519 --- compartment : {'C_c'} \n",
      "\n",
      "---\n",
      "\n",
      "\n",
      "1.0 gamma-linolenoyl-CoA + 1.0 sn-glycerol-3-phosphate --> 1.0 1-acylglycerol-3P-gamma-lin + 1.0 CoA\n",
      "\n",
      "1.0 m01934c + 1.0 m02914c --> 1.0 m00479c + 1.0 m01597c\n",
      "FLUX : 1.1550815381940274 --- ID : HMR_0535 --- compartment : {'C_c'} \n",
      "\n",
      "---\n",
      "\n",
      "\n",
      "1.0 CoA + 1.0 gamma-linolenoylcarnitine <-- 1.0 gamma-linolenoyl-CoA + 1.0 L-carnitine\n",
      "\n",
      "1.0 m01597c + 1.0 m01933c <-- 1.0 m01934c + 1.0 m02348c\n",
      "FLUX : -0.5949392648305099 --- ID : HMR_2746 --- compartment : {'C_c'} \n",
      "\n",
      "---\n",
      "\n",
      "\n",
      "1.0 1-acylglycerol-3P-LD-PI pool + 1.0 acyl-CoA-LD-PI pool --> 1.0 CoA + 1.0 phosphatidate-LD-PI pool\n",
      "\n",
      "1.0 m00487c + 1.0 m01273c --> 1.0 m01597c + 1.0 m02730c\n",
      "FLUX : 27.115081488789926 --- ID : HMR_0592 --- compartment : {'C_c'} \n",
      "\n",
      "---\n",
      "\n",
      "\n",
      "0.0005 1-acylglycerol-3P-10,13,16,19-doco + 0.0005 1-acylglycerol-3P-10,13,16-docosa + 0.0005 1-acylglycerol-3P-10-heptade + 0.0005 1-acylglycerol-3P-11,14,17-eico + 0.0005 1-acylglycerol-3P-11,14-eicosa + 0.0005 1-acylglycerol-3P-11-docose + 0.0005 1-acylglycerol-3P-11-eico + 0.0005 1-acylglycerol-3P-12,15,18,21-tetra + 0.0005 1-acylglycerol-3P-13,16,19-doco + 0.0005 1-acylglycerol-3P-13,16-docosa + 0.0005 1-acylglycerol-3P-13-docose + 0.0005 1-acylglycerol-3P-13-eicose + 0.0005 1-acylglycerol-3P-13-octade + 0.0005 1-acylglycerol-3P-15-tetra + 0.0269 1-acylglycerol-3P-4,7,10,13,16,19-doco + 0.0124 1-acylglycerol-3P-4,7,10,13,16-docosa + 0.0043 1-acylglycerol-3P-5,8,11,14,17-eico + 0.0005 1-acylglycerol-3P-5,8,11-eico + 0.0005 1-acylglycerol-3P-5-tetrade + 0.0005 1-acylglycerol-3P-6,9,12,15,18,21-tetra + 0.0005 1-acylglycerol-3P-6,9,12,15,18-tetraco + 0.0027 1-acylglycerol-3P-6,9,12,15-octa + 0.0005 1-acylglycerol-3P-6,9-octa + 0.0101 1-acylglycerol-3P-7,10,13,16,19-docosa + 0.0031 1-acylglycerol-3P-7,10,13,16-docosa + 0.0053 1-acylglycerol-3P-7-hexade + 0.0005 1-acylglycerol-3P-7-octade + 0.0005 1-acylglycerol-3P-7-tetrade + 0.0179 1-acylglycerol-3P-8,11,14,17-eico + 0.0005 1-acylglycerol-3P-8,11-eico + 0.0005 1-acylglycerol-3P-9,12,15,18,21-tetra + 0.0005 1-acylglycerol-3P-9,12,15,18-tetraco + 0.0005 1-acylglycerol-3P-9-eicose + 0.0005 1-acylglycerol-3P-9-heptade + 0.0005 1-acylglycerol-3P-9-octade + 0.0005 1-acylglycerol-3P-9-tetrade + 0.2118 1-acylglycerol-3P-arach + 0.0266 1-acylglycerol-3P-cis-vac + 0.0228 1-acylglycerol-3P-dihomo-gamma + 0.0005 1-acylglycerol-3P-docosa + 0.0005 1-acylglycerol-3P-eico + 0.0012 1-acylglycerol-3P-gamma-lin + 0.0005 1-acylglycerol-3P-heneico + 0.0005 1-acylglycerol-3P-heptade + 0.0005 1-acylglycerol-3P-hexacosa + 0.0005 1-acylglycerol-3P-hexecose + 0.0005 1-acylglycerol-3P-laur + 0.0678 1-acylglycerol-3P-lin + 0.0019 1-acylglycerol-3P-linolen + 0.0056 1-acylglycerol-3P-myrist + 0.0005 1-acylglycerol-3P-nanode + 0.136 1-acylglycerol-3P-ol + 0.0678 1-acylglycerol-3P-palm + 0.0005 1-acylglycerol-3P-palmn + 0.0005 1-acylglycerol-3P-pentade + 0.3553 1-acylglycerol-3P-stea + 0.0005 1-acylglycerol-3P-tetraco + 0.0005 1-acylglycerol-3P-trico + 0.0005 1-acylglycerol-3P-tridec --> 1.0 1-acylglycerol-3P-LD-PI pool\n",
      "\n",
      "0.0005 m00436c + 0.0005 m00437c + 0.0005 m00438c + 0.0005 m00439c + 0.0005 m00440c + 0.0005 m00441c + 0.0005 m00442c + 0.0005 m00443c + 0.0005 m00444c + 0.0005 m00445c + 0.0005 m00446c + 0.0005 m00447c + 0.0005 m00448c + 0.0005 m00449c + 0.0269 m00450c + 0.0124 m00451c + 0.0043 m00452c + 0.0005 m00453c + 0.0005 m00454c + 0.0005 m00455c + 0.0005 m00456c + 0.0027 m00457c + 0.0005 m00458c + 0.0101 m00459c + 0.0031 m00460c + 0.0053 m00461c + 0.0005 m00462c + 0.0005 m00463c + 0.0179 m00464c + 0.0005 m00465c + 0.0005 m00466c + 0.0005 m00467c + 0.0005 m00468c + 0.0005 m00469c + 0.0005 m00470c + 0.0005 m00471c + 0.2118 m00472c + 0.0266 m00474c + 0.0228 m00476c + 0.0005 m00477c + 0.0005 m00478c + 0.0012 m00479c + 0.0005 m00480c + 0.0005 m00481c + 0.0005 m00482c + 0.0005 m00483c + 0.0005 m00484c + 0.0678 m00491c + 0.0019 m00492c + 0.0056 m00493c + 0.0005 m00494c + 0.136 m00495c + 0.0678 m00496c + 0.0005 m00497c + 0.0005 m00498c + 0.3553 m00499c + 0.0005 m00500c + 0.0005 m00501c + 0.0005 m00502c --> 1.0 m00487c\n",
      "FLUX : 27.11508148878993 --- ID : HMR_0559 --- compartment : {'C_c'} \n",
      "\n",
      "---\n",
      "\n",
      "\n",
      "0.002 1-acylglycerol-3P-10,13,16,19-doco + 0.002 1-acylglycerol-3P-10,13,16-docosa + 0.002 1-acylglycerol-3P-10-heptade + 0.002 1-acylglycerol-3P-11,14,17-eico + 0.002 1-acylglycerol-3P-11,14-eicosa + 0.002 1-acylglycerol-3P-11-docose + 0.002 1-acylglycerol-3P-11-eico + 0.002 1-acylglycerol-3P-12,15,18,21-tetra + 0.002 1-acylglycerol-3P-13,16,19-doco + 0.002 1-acylglycerol-3P-13,16-docosa + 0.002 1-acylglycerol-3P-13-docose + 0.002 1-acylglycerol-3P-13-eicose + 0.002 1-acylglycerol-3P-13-octade + 0.002 1-acylglycerol-3P-15-tetra + 0.003 1-acylglycerol-3P-4,7,10,13,16,19-doco + 0.002 1-acylglycerol-3P-4,7,10,13,16-docosa + 0.0068 1-acylglycerol-3P-5,8,11,14,17-eico + 0.002 1-acylglycerol-3P-5,8,11-eico + 0.002 1-acylglycerol-3P-5-tetrade + 0.002 1-acylglycerol-3P-6,9,12,15,18,21-tetra + 0.002 1-acylglycerol-3P-6,9,12,15,18-tetraco + 0.002 1-acylglycerol-3P-6,9,12,15-octa + 0.002 1-acylglycerol-3P-6,9-octa + 0.002 1-acylglycerol-3P-7,10,13,16,19-docosa + 0.002 1-acylglycerol-3P-7,10,13,16-docosa + 0.0358 1-acylglycerol-3P-7-hexade + 0.002 1-acylglycerol-3P-7-octade + 0.002 1-acylglycerol-3P-7-tetrade + 0.002 1-acylglycerol-3P-8,11,14,17-eico + 0.002 1-acylglycerol-3P-8,11-eico + 0.002 1-acylglycerol-3P-9,12,15,18,21-tetra + 0.002 1-acylglycerol-3P-9,12,15,18-tetraco + 0.002 1-acylglycerol-3P-9-eicose + 0.002 1-acylglycerol-3P-9-heptade + 0.002 1-acylglycerol-3P-9-octade + 0.002 1-acylglycerol-3P-9-tetrade + 0.0136 1-acylglycerol-3P-arach + 0.0453 1-acylglycerol-3P-cis-vac + 0.002 1-acylglycerol-3P-dihomo-gamma + 0.002 1-acylglycerol-3P-docosa + 0.002 1-acylglycerol-3P-eico + 0.002 1-acylglycerol-3P-gamma-lin + 0.002 1-acylglycerol-3P-heneico + 0.002 1-acylglycerol-3P-heptade + 0.002 1-acylglycerol-3P-hexacosa + 0.002 1-acylglycerol-3P-hexecose + 0.002 1-acylglycerol-3P-laur + 0.025 1-acylglycerol-3P-lin + 0.0075 1-acylglycerol-3P-linolen + 0.011 1-acylglycerol-3P-myrist + 0.002 1-acylglycerol-3P-nanode + 0.061 1-acylglycerol-3P-ol + 0.557 1-acylglycerol-3P-palm + 0.002 1-acylglycerol-3P-palmn + 0.002 1-acylglycerol-3P-pentade + 0.138 1-acylglycerol-3P-stea + 0.002 1-acylglycerol-3P-tetraco + 0.002 1-acylglycerol-3P-trico + 0.002 1-acylglycerol-3P-tridec --> 1.0 1-acylglycerol-3P-LD-SM pool\n",
      "\n",
      "0.002 m00436c + 0.002 m00437c + 0.002 m00438c + 0.002 m00439c + 0.002 m00440c + 0.002 m00441c + 0.002 m00442c + 0.002 m00443c + 0.002 m00444c + 0.002 m00445c + 0.002 m00446c + 0.002 m00447c + 0.002 m00448c + 0.002 m00449c + 0.003 m00450c + 0.002 m00451c + 0.0068 m00452c + 0.002 m00453c + 0.002 m00454c + 0.002 m00455c + 0.002 m00456c + 0.002 m00457c + 0.002 m00458c + 0.002 m00459c + 0.002 m00460c + 0.0358 m00461c + 0.002 m00462c + 0.002 m00463c + 0.002 m00464c + 0.002 m00465c + 0.002 m00466c + 0.002 m00467c + 0.002 m00468c + 0.002 m00469c + 0.002 m00470c + 0.002 m00471c + 0.0136 m00472c + 0.0453 m00474c + 0.002 m00476c + 0.002 m00477c + 0.002 m00478c + 0.002 m00479c + 0.002 m00480c + 0.002 m00481c + 0.002 m00482c + 0.002 m00483c + 0.002 m00484c + 0.025 m00491c + 0.0075 m00492c + 0.011 m00493c + 0.002 m00494c + 0.061 m00495c + 0.557 m00496c + 0.002 m00497c + 0.002 m00498c + 0.138 m00499c + 0.002 m00500c + 0.002 m00501c + 0.002 m00502c --> 1.0 m00489c\n",
      "FLUX : 27.13132454878722 --- ID : HMR_0560 --- compartment : {'C_c'} \n",
      "\n",
      "---\n",
      "\n",
      "\n",
      "0.0005 1-acylglycerol-3P-10,13,16,19-doco + 0.0005 1-acylglycerol-3P-10,13,16-docosa + 0.0005 1-acylglycerol-3P-10-heptade + 0.0005 1-acylglycerol-3P-11,14,17-eico + 0.0005 1-acylglycerol-3P-11,14-eicosa + 0.0005 1-acylglycerol-3P-11-docose + 0.0005 1-acylglycerol-3P-11-eico + 0.0005 1-acylglycerol-3P-12,15,18,21-tetra + 0.0005 1-acylglycerol-3P-13,16,19-doco + 0.0005 1-acylglycerol-3P-13,16-docosa + 0.0005 1-acylglycerol-3P-13-docose + 0.0005 1-acylglycerol-3P-13-eicose + 0.0005 1-acylglycerol-3P-13-octade + 0.0005 1-acylglycerol-3P-15-tetra + 0.0252 1-acylglycerol-3P-4,7,10,13,16,19-doco + 0.0039 1-acylglycerol-3P-4,7,10,13,16-docosa + 0.0109 1-acylglycerol-3P-5,8,11,14,17-eico + 0.0005 1-acylglycerol-3P-5,8,11-eico + 0.0005 1-acylglycerol-3P-5-tetrade + 0.0005 1-acylglycerol-3P-6,9,12,15,18,21-tetra + 0.0005 1-acylglycerol-3P-6,9,12,15,18-tetraco + 0.0026 1-acylglycerol-3P-6,9,12,15-octa + 0.0005 1-acylglycerol-3P-6,9-octa + 0.0056 1-acylglycerol-3P-7,10,13,16,19-docosa + 0.0011 1-acylglycerol-3P-7,10,13,16-docosa + 0.0105 1-acylglycerol-3P-7-hexade + 0.0005 1-acylglycerol-3P-7-octade + 0.0005 1-acylglycerol-3P-7-tetrade + 0.0178 1-acylglycerol-3P-8,11,14,17-eico + 0.0005 1-acylglycerol-3P-8,11-eico + 0.0005 1-acylglycerol-3P-9,12,15,18,21-tetra + 0.0005 1-acylglycerol-3P-9,12,15,18-tetraco + 0.0005 1-acylglycerol-3P-9-eicose + 0.0005 1-acylglycerol-3P-9-heptade + 0.0005 1-acylglycerol-3P-9-octade + 0.0005 1-acylglycerol-3P-9-tetrade + 0.0709 1-acylglycerol-3P-arach + 0.0271 1-acylglycerol-3P-cis-vac + 0.0228 1-acylglycerol-3P-dihomo-gamma + 0.0005 1-acylglycerol-3P-docosa + 0.0005 1-acylglycerol-3P-eico + 0.0036 1-acylglycerol-3P-gamma-lin + 0.0005 1-acylglycerol-3P-heneico + 0.0005 1-acylglycerol-3P-heptade + 0.0005 1-acylglycerol-3P-hexacosa + 0.0005 1-acylglycerol-3P-hexecose + 0.0005 1-acylglycerol-3P-laur + 0.2479 1-acylglycerol-3P-lin + 0.0047 1-acylglycerol-3P-linolen + 0.0054 1-acylglycerol-3P-myrist + 0.0005 1-acylglycerol-3P-nanode + 0.1143 1-acylglycerol-3P-ol + 0.2781 1-acylglycerol-3P-palm + 0.0005 1-acylglycerol-3P-palmn + 0.0005 1-acylglycerol-3P-pentade + 0.1271 1-acylglycerol-3P-stea + 0.0005 1-acylglycerol-3P-tetraco + 0.0005 1-acylglycerol-3P-trico + 0.0005 1-acylglycerol-3P-tridec --> 1.0 1-acylglycerol-3P-LD-PC pool\n",
      "\n",
      "0.0005 m00436c + 0.0005 m00437c + 0.0005 m00438c + 0.0005 m00439c + 0.0005 m00440c + 0.0005 m00441c + 0.0005 m00442c + 0.0005 m00443c + 0.0005 m00444c + 0.0005 m00445c + 0.0005 m00446c + 0.0005 m00447c + 0.0005 m00448c + 0.0005 m00449c + 0.0252 m00450c + 0.0039 m00451c + 0.0109 m00452c + 0.0005 m00453c + 0.0005 m00454c + 0.0005 m00455c + 0.0005 m00456c + 0.0026 m00457c + 0.0005 m00458c + 0.0056 m00459c + 0.0011 m00460c + 0.0105 m00461c + 0.0005 m00462c + 0.0005 m00463c + 0.0178 m00464c + 0.0005 m00465c + 0.0005 m00466c + 0.0005 m00467c + 0.0005 m00468c + 0.0005 m00469c + 0.0005 m00470c + 0.0005 m00471c + 0.0709 m00472c + 0.0271 m00474c + 0.0228 m00476c + 0.0005 m00477c + 0.0005 m00478c + 0.0036 m00479c + 0.0005 m00480c + 0.0005 m00481c + 0.0005 m00482c + 0.0005 m00483c + 0.0005 m00484c + 0.2479 m00491c + 0.0047 m00492c + 0.0054 m00493c + 0.0005 m00494c + 0.1143 m00495c + 0.2781 m00496c + 0.0005 m00497c + 0.0005 m00498c + 0.1271 m00499c + 0.0005 m00500c + 0.0005 m00501c + 0.0005 m00502c --> 1.0 m00485c\n",
      "FLUX : 296.7446642527514 --- ID : HMR_0556 --- compartment : {'C_c'} \n",
      "\n",
      "---\n",
      "\n",
      "\n",
      "1.0 (7Z)-octadecenoyl-CoA + 1.0 sn-glycerol-3-phosphate --> 1.0 1-acylglycerol-3P-7-octade + 1.0 CoA\n",
      "\n",
      "1.0 m00116c + 1.0 m02914c --> 1.0 m00462c + 1.0 m01597c\n",
      "FLUX : 0.21619252196834512 --- ID : HMR_0504 --- compartment : {'C_c'} \n",
      "\n",
      "---\n",
      "\n",
      "\n",
      "1.0 docosanoyl-CoA + 1.0 sn-glycerol-3-phosphate --> 1.0 1-acylglycerol-3P-docosa + 1.0 CoA\n",
      "\n",
      "1.0 m01725c + 1.0 m02914c --> 1.0 m00477c + 1.0 m01597c\n",
      "FLUX : 0.21619252196834512 --- ID : HMR_0514 --- compartment : {'C_c'} \n",
      "\n",
      "---\n",
      "\n",
      "\n",
      "1.0 CoA + 1.0 docosanoylcarnitine <-- 1.0 docosanoyl-CoA + 1.0 L-carnitine\n",
      "\n",
      "1.0 m01597c + 1.0 m01724c <-- 1.0 m01725c + 1.0 m02348c\n",
      "FLUX : -0.30988962017415794 --- ID : HMR_2702 --- compartment : {'C_c'} \n",
      "\n",
      "---\n",
      "\n",
      "\n",
      "1.0 CoA + 1.0 L-octanoylcarnitine --> 1.0 L-carnitine + 1.0 octanoyl-CoA\n",
      "\n",
      "1.0 m01597c + 1.0 m02409c --> 1.0 m02348c + 1.0 m02644c\n",
      "FLUX : 344.9797456455626 --- ID : HMR_3032 --- compartment : {'C_c'} \n",
      "\n",
      "---\n",
      "\n",
      "\n",
      "1.0 CoA + 1.0 O-propanoylcarnitine --> 1.0 L-carnitine + 1.0 propanoyl-CoA\n",
      "\n",
      "1.0 m01597c + 1.0 m02657c --> 1.0 m02348c + 1.0 m02774c\n",
      "FLUX : 270.773674998613 --- ID : HMR_2594 --- compartment : {'C_c'} \n",
      "\n",
      "---\n",
      "\n",
      "\n",
      "1.0 1-acylglycerol-3P-LD-SM pool + 1.0 acyl-CoA-LD-SM pool --> 1.0 CoA + 1.0 phosphatidate-LD-SM pool\n",
      "\n",
      "1.0 m00489c + 1.0 m01275c --> 1.0 m01597c + 1.0 m02732c\n",
      "FLUX : 27.13132454878722 --- ID : HMR_0593 --- compartment : {'C_c'} \n",
      "\n",
      "---\n",
      "\n",
      "\n",
      "1.0 ceramide pool + 1.0 CoA --> 1.0 acyl-CoA-LD-SM pool + 1.0 sphingosine\n",
      "\n",
      "1.0 m01430c + 1.0 m01597c --> 1.0 m01275c + 1.0 m02929c\n",
      "FLUX : 27.13132454878722 --- ID : HMR_0758 --- compartment : {'C_c'} \n",
      "\n",
      "---\n",
      "\n",
      "\n",
      "1.0 1-acylglycerol-3P-LD-PC pool + 1.0 acyl-CoA-LD-PC pool --> 1.0 CoA + 1.0 phosphatidate-LD-PC pool\n",
      "\n",
      "1.0 m00485c + 1.0 m01271c --> 1.0 m01597c + 1.0 m02728c\n",
      "FLUX : 296.7446642527514 --- ID : HMR_0589 --- compartment : {'C_c'} \n",
      "\n",
      "---\n",
      "\n",
      "\n",
      "1.0 L-carnitine + 1.0 O-propanoylcarnitine --> 1.0 L-carnitine + 1.0 O-propanoylcarnitine\n",
      "\n",
      "1.0 m02348c + 1.0 m02657p --> 1.0 m02348p + 1.0 m02657c\n",
      "FLUX : 263.083853578796 --- ID : HMR_3035 --- compartment : {'C_c', 'C_p'} \n",
      "\n",
      "---\n",
      "\n",
      "\n",
      "1.0 dodecanoylcarnitine + 1.0 L-carnitine <-- 1.0 dodecanoylcarnitine + 1.0 L-carnitine\n",
      "\n",
      "1.0 m01729m + 1.0 m02348c <-- 1.0 m01729c + 1.0 m02348m\n",
      "FLUX : -1.9847589103818697 --- ID : HMR_2603 --- compartment : {'C_c', 'C_m'} \n",
      "\n",
      "---\n",
      "\n",
      "\n",
      "1.0 L-carnitine + 1.0 L-oleoylcarnitine <-- 1.0 L-carnitine + 1.0 L-oleoylcarnitine\n",
      "\n",
      "1.0 m02348c + 1.0 m02410m <-- 1.0 m02348m + 1.0 m02410c\n",
      "FLUX : -140.2910590210795 --- ID : HMR_2664 --- compartment : {'C_c', 'C_m'} \n",
      "\n",
      "---\n",
      "\n",
      "\n",
      "1.0 (7Z,10Z,13Z,16Z,19Z)-docosapentaenoylcarnitine + 1.0 L-carnitine --> 1.0 (7Z,10Z,13Z,16Z,19Z)-docosapentaenoylcarnitine + 1.0 L-carnitine\n",
      "\n",
      "1.0 m00120c + 1.0 m02348m --> 1.0 m00120m + 1.0 m02348c\n",
      "FLUX : 0.055343283899749504 --- ID : HMR_2727 --- compartment : {'C_c', 'C_m'} \n",
      "\n",
      "---\n",
      "\n",
      "\n",
      "1.0 docosahexaenoylcarnitine + 1.0 L-carnitine <-- 1.0 docosahexaenoylcarnitine + 1.0 L-carnitine\n",
      "\n",
      "1.0 m01723m + 1.0 m02348c <-- 1.0 m01723c + 1.0 m02348m\n",
      "FLUX : -7.630054049787796 --- ID : HMR_2731 --- compartment : {'C_c', 'C_m'} \n",
      "\n",
      "---\n",
      "\n",
      "\n",
      "1.0 (6Z,9Z,12Z,15Z)-octadecatetraenoylcarnitine + 1.0 L-carnitine --> 1.0 (6Z,9Z,12Z,15Z)-octadecatetraenoylcarnitine + 1.0 L-carnitine\n",
      "\n",
      "1.0 m00107c + 1.0 m02348m --> 1.0 m00107m + 1.0 m02348c\n",
      "FLUX : 1.655231504835746 --- ID : HMR_2715 --- compartment : {'C_c', 'C_m'} \n",
      "\n",
      "---\n",
      "\n",
      "\n",
      "1.0 eicosadienoylcarnitine + 1.0 L-carnitine <-- 1.0 eicosadienoylcarnitine + 1.0 L-carnitine\n",
      "\n",
      "1.0 m01770m + 1.0 m02348c <-- 1.0 m01770c + 1.0 m02348m\n",
      "FLUX : -0.8058758281491691 --- ID : HMR_2769 --- compartment : {'C_c', 'C_m'} \n",
      "\n",
      "---\n",
      "\n",
      "\n",
      "1.0 L-carnitine + 1.0 L-octanoylcarnitine --> 1.0 L-carnitine + 1.0 L-octanoylcarnitine\n",
      "\n",
      "1.0 m02348c + 1.0 m02409p --> 1.0 m02348p + 1.0 m02409c\n",
      "FLUX : 68.65031562825865 --- ID : HMR_3033 --- compartment : {'C_c', 'C_p'} \n",
      "\n",
      "---\n",
      "\n",
      "\n",
      "1.0 L-carnitine + 1.0 L-palmitoylcarnitine --> 1.0 L-carnitine + 1.0 L-palmitoylcarnitine\n",
      "\n",
      "1.0 m02348c + 1.0 m02411m --> 1.0 m02348m + 1.0 m02411c\n",
      "FLUX : 0.8679080240827874 --- ID : HMR_2629 --- compartment : {'C_c', 'C_m'} \n",
      "\n",
      "---\n",
      "\n",
      "\n",
      "1.0 L-carnitine + 1.0 Na+ --> 1.0 L-carnitine + 1.0 Na+\n",
      "\n",
      "1.0 m02348s + 1.0 m02519s --> 1.0 m02348c + 1.0 m02519c\n",
      "FLUX : 7.447212650776237e-14 --- ID : HMR_8677 --- compartment : {'C_c', 'C_s'} \n",
      "\n",
      "---\n",
      "\n",
      "\n",
      "1.0 L-carnitine --> 1.0 L-carnitine\n",
      "\n",
      "1.0 m02348x --> 1.0 m02348s\n",
      "FLUX : 7.447212650776237e-14 --- ID : HMR_9292 --- compartment : {'C_s', 'C_x'} \n",
      "\n",
      "---\n",
      "\n",
      "\n",
      "1.0 L-carnitine --> \n",
      "\n",
      "1.0 m02348x --> \n",
      "FLUX : -7.447212650776238e-14 --- ID : EX_m02348x --- compartment : {'C_x'} \n",
      "\n",
      "---\n",
      "\n",
      "\n",
      "1.0 lysine + 1.0 Na+ + 1.0 serine --> 1.0 lysine + 1.0 Na+ + 1.0 serine\n",
      "\n",
      "1.0 m02426c + 1.0 m02519s + 1.0 m02896s --> 1.0 m02426s + 1.0 m02519c + 1.0 m02896c\n",
      "FLUX : 366.8172250810102 --- ID : HMR_5842 --- compartment : {'C_c', 'C_s'} \n",
      "\n",
      "---\n",
      "\n",
      "\n",
      "1.0 lysine --> 1.0 lysine\n",
      "\n",
      "1.0 m02426s --> 1.0 m02426c\n",
      "FLUX : 393.88899174314054 --- ID : HMR_5071 --- compartment : {'C_c', 'C_s'} \n",
      "\n",
      "---\n",
      "\n",
      "\n",
      "1.0 lysine --> 1.0 lysine\n",
      "\n",
      "1.0 m02426x --> 1.0 m02426s\n",
      "FLUX : 27.071766662130397 --- ID : HMR_9041 --- compartment : {'C_s', 'C_x'} \n",
      "\n",
      "---\n",
      "\n",
      "\n",
      "1.0 lysine --> \n",
      "\n",
      "1.0 m02426x --> \n",
      "FLUX : -27.071766662130397 --- ID : EX_m02426x --- compartment : {'C_x'} \n",
      "\n",
      "---\n",
      "\n",
      "\n",
      "1.0 DHA + 1.0 Na+ --> 1.0 DHA + 1.0 Na+\n",
      "\n",
      "1.0 m01689s + 1.0 m02519s --> 1.0 m01689c + 1.0 m02519c\n",
      "FLUX : 2.8534810129464163 --- ID : HMR_8945 --- compartment : {'C_c', 'C_s'} \n",
      "\n",
      "---\n",
      "\n",
      "\n",
      "1.0 methionine + 1.0 serine <-- 1.0 methionine + 1.0 serine\n",
      "\n",
      "1.0 m02471c + 1.0 m02896s <-- 1.0 m02471s + 1.0 m02896c\n",
      "FLUX : -27.071766662130347 --- ID : HMR_5500 --- compartment : {'C_c', 'C_s'} \n",
      "\n",
      "---\n",
      "\n",
      "\n",
      "1.0 serine --> 1.0 serine\n",
      "\n",
      "1.0 m02896x --> 1.0 m02896s\n",
      "FLUX : 339.7454584188799 --- ID : HMR_9069 --- compartment : {'C_s', 'C_x'} \n",
      "\n",
      "---\n",
      "\n",
      "\n",
      "1.0 serine --> \n",
      "\n",
      "1.0 m02896x --> \n",
      "FLUX : -339.7454584188799 --- ID : EX_m02896x --- compartment : {'C_x'} \n",
      "\n",
      "---\n",
      "\n",
      "\n",
      "1.0 methionine --> 1.0 methionine\n",
      "\n",
      "1.0 m02471x --> 1.0 m02471s\n",
      "FLUX : 27.071766662130347 --- ID : HMR_9042 --- compartment : {'C_s', 'C_x'} \n",
      "\n",
      "---\n",
      "\n",
      "\n",
      "1.0 methionine --> \n",
      "\n",
      "1.0 m02471x --> \n",
      "FLUX : -27.071766662130347 --- ID : EX_m02471x --- compartment : {'C_x'} \n",
      "\n",
      "---\n",
      "\n",
      "\n",
      "1.0 gamma-linolenoylcarnitine + 1.0 L-carnitine <-- 1.0 gamma-linolenoylcarnitine + 1.0 L-carnitine\n",
      "\n",
      "1.0 m01933m + 1.0 m02348c <-- 1.0 m01933c + 1.0 m02348m\n",
      "FLUX : -0.59493926483051 --- ID : HMR_2748 --- compartment : {'C_c', 'C_m'} \n",
      "\n",
      "---\n",
      "\n",
      "\n",
      "1.0 CoA + 1.0 gamma-linolenoylcarnitine --> 1.0 gamma-linolenoyl-CoA + 1.0 L-carnitine\n",
      "\n",
      "1.0 m01597m + 1.0 m01933m --> 1.0 m01934m + 1.0 m02348m\n",
      "FLUX : 0.59493926483051 --- ID : HMR_2750 --- compartment : {'C_m'} \n",
      "\n",
      "---\n",
      "\n",
      "\n",
      "1.0 (5Z,8Z,11Z)-eicosatrienoyl-CoA + 1.0 L-carnitine <-- 1.0 (5Z,8Z,11Z)-eicosatrienoylcarnitine + 1.0 CoA\n",
      "\n",
      "1.0 m00101m + 1.0 m02348m <-- 1.0 m00100m + 1.0 m01597m\n",
      "FLUX : -0.18582522830692236 --- ID : HMR_2697 --- compartment : {'C_m'} \n",
      "\n",
      "---\n",
      "\n",
      "\n",
      "1.0 (5Z,8Z,11Z)-eicosatrienoyl-CoA + 9.0 CoA + 6.0 FAD + 9.0 H2O + 9.0 NAD+ --> 10.0 acetyl-CoA + 6.0 FADH2 + 9.0 H+ + 9.0 NADH\n",
      "\n",
      "1.0 m00101m + 9.0 m01597m + 6.0 m01802m + 9.0 m02040m + 9.0 m02552m --> 10.0 m01261m + 6.0 m01803m + 9.0 m02039m + 9.0 m02553m\n",
      "FLUX : 0.18582522830692233 --- ID : HMR_3414 --- compartment : {'C_m'} \n",
      "\n",
      "---\n",
      "\n",
      "\n",
      "1.0 (7Z,10Z,13Z,16Z,19Z)-docosapentaenoyl-CoA + 1.0 L-carnitine <-- 1.0 (7Z,10Z,13Z,16Z,19Z)-docosapentaenoylcarnitine + 1.0 CoA\n",
      "\n",
      "1.0 m00121m + 1.0 m02348m <-- 1.0 m00120m + 1.0 m01597m\n",
      "FLUX : -0.055343283899749504 --- ID : HMR_2729 --- compartment : {'C_m'} \n",
      "\n",
      "---\n",
      "\n",
      "\n",
      "1.0 (7Z,10Z,13Z,16Z,19Z)-docosapentaenoyl-CoA + 10.0 CoA + 5.0 FAD + 10.0 H2O + 10.0 NAD+ --> 11.0 acetyl-CoA + 5.0 FADH2 + 10.0 H+ + 10.0 NADH\n",
      "\n",
      "1.0 m00121m + 10.0 m01597m + 5.0 m01802m + 10.0 m02040m + 10.0 m02552m --> 11.0 m01261m + 5.0 m01803m + 10.0 m02039m + 10.0 m02553m\n",
      "FLUX : 0.055343283899749504 --- ID : HMR_3429 --- compartment : {'C_m'} \n",
      "\n",
      "---\n",
      "\n",
      "\n",
      "1.0 3-oxopentadecanoyl-CoA + 1.0 CoA --> 1.0 acetyl-CoA + 1.0 tridecanoyl-CoA\n",
      "\n",
      "1.0 m00897m + 1.0 m01597m --> 1.0 m01261m + 1.0 m03050m\n",
      "FLUX : 1.7366301266473665 --- ID : HMR_3185 --- compartment : {'C_m'} \n",
      "\n",
      "---\n",
      "\n",
      "\n",
      "1.0 3-hydroxypentadecanoyl-CoA + 1.0 NAD+ --> 1.0 3-oxopentadecanoyl-CoA + 1.0 H+ + 1.0 NADH\n",
      "\n",
      "1.0 m00795m + 1.0 m02552m --> 1.0 m00897m + 1.0 m02039m + 1.0 m02553m\n",
      "FLUX : 1.7366301266473665 --- ID : HMR_3184 --- compartment : {'C_m'} \n",
      "\n",
      "---\n",
      "\n",
      "\n",
      "1.0 3-hydroxyoctadecanoyl-CoA + 1.0 NAD+ --> 1.0 3-oxooctadecanoyl-CoA + 1.0 H+ + 1.0 NADH\n",
      "\n",
      "1.0 m00793m + 1.0 m02552m --> 1.0 m00890m + 1.0 m02039m + 1.0 m02553m\n",
      "FLUX : 0.8679080240827873 --- ID : HMR_3117 --- compartment : {'C_m'} \n",
      "\n",
      "---\n",
      "\n",
      "\n",
      "1.0 (2E)-octadecenoyl-CoA + 1.0 H2O --> 1.0 3-hydroxyoctadecanoyl-CoA\n",
      "\n",
      "1.0 m00057m + 1.0 m02040m --> 1.0 m00793m\n",
      "FLUX : 0.8679080240827873 --- ID : HMR_3116 --- compartment : {'C_m'} \n",
      "\n",
      "---\n",
      "\n",
      "\n",
      "1.0 asparagine + 1.0 H2O --> 1.0 aspartate + 1.0 NH3\n",
      "\n",
      "1.0 m01369m + 1.0 m02040m --> 1.0 m01370m + 1.0 m02578m\n",
      "FLUX : 27.07176666213044 --- ID : HMR_3862 --- compartment : {'C_m'} \n",
      "\n",
      "---\n",
      "\n",
      "\n",
      "1.0 asparagine --> 1.0 asparagine\n",
      "\n",
      "1.0 m01369c --> 1.0 m01369m\n",
      "FLUX : 27.07176666213044 --- ID : HMR_5096 --- compartment : {'C_c', 'C_m'} \n",
      "\n",
      "---\n",
      "\n",
      "\n",
      "1.0 asparagine + 1.0 homoserine <-- 1.0 asparagine + 1.0 homoserine\n",
      "\n",
      "1.0 m01369c + 1.0 m02136s <-- 1.0 m01369s + 1.0 m02136c\n",
      "FLUX : -54.14353332426096 --- ID : HMR_5570 --- compartment : {'C_c', 'C_s'} \n",
      "\n",
      "---\n",
      "\n",
      "\n",
      "1.0 homoserine + 1.0 tyrosine <-- 1.0 homoserine + 1.0 tyrosine\n",
      "\n",
      "1.0 m02136c + 1.0 m03101s <-- 1.0 m02136s + 1.0 m03101c\n",
      "FLUX : -108.28706664852197 --- ID : HMR_5548 --- compartment : {'C_c', 'C_s'} \n",
      "\n",
      "---\n",
      "\n",
      "\n",
      "1.0 homoserine + 1.0 phenylalanine --> 1.0 homoserine + 1.0 phenylalanine\n",
      "\n",
      "1.0 m02136c + 1.0 m02724s --> 1.0 m02136s + 1.0 m02724c\n",
      "FLUX : 27.07176666213051 --- ID : HMR_5540 --- compartment : {'C_c', 'C_s'} \n",
      "\n",
      "---\n",
      "\n",
      "\n",
      "1.0 homoserine + 1.0 valine --> 1.0 homoserine + 1.0 valine\n",
      "\n",
      "1.0 m02136c + 1.0 m03135s --> 1.0 m02136s + 1.0 m03135c\n",
      "FLUX : 27.071766662130514 --- ID : HMR_5573 --- compartment : {'C_c', 'C_s'} \n",
      "\n",
      "---\n",
      "\n",
      "\n",
      "1.0 valine --> 1.0 valine\n",
      "\n",
      "1.0 m03135x --> 1.0 m03135s\n",
      "FLUX : 27.07176666213051 --- ID : HMR_9046 --- compartment : {'C_s', 'C_x'} \n",
      "\n",
      "---\n",
      "\n",
      "\n",
      "1.0 valine --> \n",
      "\n",
      "1.0 m03135x --> \n",
      "FLUX : -27.071766662130514 --- ID : EX_m03135x --- compartment : {'C_x'} \n",
      "\n",
      "---\n",
      "\n",
      "\n",
      "1.0 phenylalanine --> 1.0 phenylalanine\n",
      "\n",
      "1.0 m02724x --> 1.0 m02724s\n",
      "FLUX : 27.071766662130507 --- ID : HMR_9043 --- compartment : {'C_s', 'C_x'} \n",
      "\n",
      "---\n",
      "\n",
      "\n",
      "1.0 phenylalanine --> \n",
      "\n",
      "1.0 m02724x --> \n",
      "FLUX : -27.071766662130507 --- ID : EX_m02724x --- compartment : {'C_x'} \n",
      "\n",
      "---\n",
      "\n",
      "\n",
      "1.0 tyrosine --> 1.0 tyrosine\n",
      "\n",
      "1.0 m03101x --> 1.0 m03101s\n",
      "FLUX : 27.071766662130482 --- ID : HMR_9064 --- compartment : {'C_s', 'C_x'} \n",
      "\n",
      "---\n",
      "\n",
      "\n",
      "1.0 tyrosine --> \n",
      "\n",
      "1.0 m03101x --> \n",
      "FLUX : -27.07176666213048 --- ID : EX_m03101x --- compartment : {'C_x'} \n",
      "\n",
      "---\n",
      "\n",
      "\n",
      "1.0 tyrosine --> 1.0 tyrosine\n",
      "\n",
      "1.0 m03101c --> 1.0 m03101s\n",
      "FLUX : 466.76405909482867 --- ID : HMR_5074 --- compartment : {'C_c', 'C_s'} \n",
      "\n",
      "---\n",
      "\n",
      "\n",
      "1.0 proline + 1.0 tyrosine <-- 1.0 proline + 1.0 tyrosine\n",
      "\n",
      "1.0 m02770c + 1.0 m03101s <-- 1.0 m02770s + 1.0 m03101c\n",
      "FLUX : -27.071766662130514 --- ID : HMR_5544 --- compartment : {'C_c', 'C_s'} \n",
      "\n",
      "---\n",
      "\n",
      "\n",
      "1.0 cysteine + 1.0 tyrosine --> 1.0 cysteine + 1.0 tyrosine\n",
      "\n",
      "1.0 m01628c + 1.0 m03101s --> 1.0 m01628s + 1.0 m03101c\n",
      "FLUX : 972.9282333378695 --- ID : HMR_5542 --- compartment : {'C_c', 'C_s'} \n",
      "\n",
      "---\n",
      "\n",
      "\n",
      "1.0 cysteine + 1.0 tryptophan --> 1.0 cysteine + 1.0 tryptophan\n",
      "\n",
      "1.0 m01628c + 1.0 m03089s --> 1.0 m01628s + 1.0 m03089c\n",
      "FLUX : 27.07176666213051 --- ID : HMR_5525 --- compartment : {'C_c', 'C_s'} \n",
      "\n",
      "---\n",
      "\n",
      "\n",
      "1.0 tryptophan --> 1.0 tryptophan\n",
      "\n",
      "1.0 m03089x --> 1.0 m03089s\n",
      "FLUX : 27.07176666213051 --- ID : HMR_9045 --- compartment : {'C_s', 'C_x'} \n",
      "\n",
      "---\n",
      "\n",
      "\n",
      "1.0 tryptophan --> \n",
      "\n",
      "1.0 m03089x --> \n",
      "FLUX : -27.07176666213051 --- ID : EX_m03089x --- compartment : {'C_x'} \n",
      "\n",
      "---\n",
      "\n",
      "\n",
      "1.0 cysteine <-- 1.0 cysteine\n",
      "\n",
      "1.0 m01628x <-- 1.0 m01628s\n",
      "FLUX : -1000.0 --- ID : HMR_9065 --- compartment : {'C_s', 'C_x'} \n",
      "\n",
      "---\n",
      "\n",
      "\n",
      "1.0 cysteine <-- \n",
      "\n",
      "1.0 m01628x <-- \n",
      "FLUX : 1000.0 --- ID : EX_m01628x --- compartment : {'C_x'} \n",
      "\n",
      "---\n",
      "\n",
      "\n",
      "1.0 proline --> 1.0 proline\n",
      "\n",
      "1.0 m02770x --> 1.0 m02770s\n",
      "FLUX : 27.071766662130518 --- ID : HMR_9068 --- compartment : {'C_s', 'C_x'} \n",
      "\n",
      "---\n",
      "\n",
      "\n",
      "1.0 proline --> \n",
      "\n",
      "1.0 m02770x --> \n",
      "FLUX : -27.071766662130518 --- ID : EX_m02770x --- compartment : {'C_x'} \n",
      "\n",
      "---\n",
      "\n",
      "\n",
      "1.0 asparagine --> 1.0 asparagine\n",
      "\n",
      "1.0 m01369x --> 1.0 m01369s\n",
      "FLUX : 54.14353332426096 --- ID : HMR_9062 --- compartment : {'C_s', 'C_x'} \n",
      "\n",
      "---\n",
      "\n",
      "\n",
      "1.0 asparagine --> \n",
      "\n",
      "1.0 m01369x --> \n",
      "FLUX : -54.14353332426096 --- ID : EX_m01369x --- compartment : {'C_x'} \n",
      "\n",
      "---\n",
      "\n",
      "\n",
      "1.0 H2O + 1.0 trans,cis-myristo-2,7-dienoyl-CoA --> 1.0 cis-(3S)-hydroxytetradec-7-enoyl-CoA\n",
      "\n",
      "1.0 m02040m + 1.0 m03023m --> 1.0 m01574m\n",
      "FLUX : 109.6936430146496 --- ID : HMR_3260 --- compartment : {'C_m'} \n",
      "\n",
      "---\n",
      "\n",
      "\n",
      "1.0 (2E)-tridecenoyl-CoA + 1.0 H2O --> 1.0 3-hydroxytridecanoyl-CoA\n",
      "\n",
      "1.0 m00069m + 1.0 m02040m --> 1.0 m00804m\n",
      "FLUX : 1.674326571219818 --- ID : HMR_3187 --- compartment : {'C_m'} \n",
      "\n",
      "---\n",
      "\n",
      "\n",
      "1.0 FAD + 1.0 tridecanoyl-CoA --> 1.0 (2E)-tridecenoyl-CoA + 1.0 FADH2\n",
      "\n",
      "1.0 m01802m + 1.0 m03050m --> 1.0 m00069m + 1.0 m01803m\n",
      "FLUX : 1.6743265712198179 --- ID : HMR_3186 --- compartment : {'C_m'} \n",
      "\n",
      "---\n",
      "\n",
      "\n",
      "1.0 5-tetradecenoyl-CoA + 1.0 FAD --> 1.0 FADH2 + 1.0 trans,cis-myristo-2,5-dienoyl-CoA\n",
      "\n",
      "1.0 m01141m + 1.0 m01802m --> 1.0 m01803m + 1.0 m03022m\n",
      "FLUX : 164.05608882744198 --- ID : HMR_3234 --- compartment : {'C_m'} \n",
      "\n",
      "---\n",
      "\n",
      "\n",
      "1.0 3-oxo-7-hexadecenoyl-CoA + 1.0 CoA --> 1.0 5-tetradecenoyl-CoA + 1.0 acetyl-CoA\n",
      "\n",
      "1.0 m00849m + 1.0 m01597m --> 1.0 m01141m + 1.0 m01261m\n",
      "FLUX : 135.32001861760517 --- ID : HMR_3233 --- compartment : {'C_m'} \n",
      "\n",
      "---\n",
      "\n",
      "\n",
      "1.0 (S)-3-hydroxy-7-hexadecenoyl-CoA + 1.0 NAD+ --> 1.0 3-oxo-7-hexadecenoyl-CoA + 1.0 H+ + 1.0 NADH\n",
      "\n",
      "1.0 m00172m + 1.0 m02552m --> 1.0 m00849m + 1.0 m02039m + 1.0 m02553m\n",
      "FLUX : 135.32001861760514 --- ID : HMR_3232 --- compartment : {'C_m'} \n",
      "\n",
      "---\n",
      "\n",
      "\n",
      "1.0 H2O + 1.0 trans,cis-hexadeca-2,7-dienoyl-CoA --> 1.0 (S)-3-hydroxy-7-hexadecenoyl-CoA\n",
      "\n",
      "1.0 m02040m + 1.0 m03019m --> 1.0 m00172m\n",
      "FLUX : 135.32001861760514 --- ID : HMR_3231 --- compartment : {'C_m'} \n",
      "\n",
      "---\n",
      "\n",
      "\n",
      "1.0 (2E)-heptenoyl-CoA + 1.0 H2O --> 1.0 3-hydroxyheptanoyl-CoA\n",
      "\n",
      "1.0 m00048m + 1.0 m02040m --> 1.0 m00782m\n",
      "FLUX : 1.674326571219818 --- ID : HMR_3199 --- compartment : {'C_m'} \n",
      "\n",
      "---\n",
      "\n",
      "\n",
      "1.0 FAD + 1.0 heptanoyl-CoA --> 1.0 (2E)-heptenoyl-CoA + 1.0 FADH2\n",
      "\n",
      "1.0 m01802m + 1.0 m02107m --> 1.0 m00048m + 1.0 m01803m\n",
      "FLUX : 1.674326571219818 --- ID : HMR_3198 --- compartment : {'C_m'} \n",
      "\n",
      "---\n",
      "\n",
      "\n",
      "1.0 4-cis-decenoyl-CoA + 1.0 FAD --> 1.0 2-trans-4-cis-decadienoyl-CoA + 1.0 FADH2\n",
      "\n",
      "1.0 m00980m + 1.0 m01802m --> 1.0 m00678m + 1.0 m01803m\n",
      "FLUX : 0.5949392648305101 --- ID : HMR_3294 --- compartment : {'C_m'} \n",
      "\n",
      "---\n",
      "\n",
      "\n",
      "1.0 3-oxolaur-6-cis-enoyl-CoA + 1.0 CoA --> 1.0 4-cis-decenoyl-CoA + 1.0 acetyl-CoA\n",
      "\n",
      "1.0 m00883m + 1.0 m01597m --> 1.0 m00980m + 1.0 m01261m\n",
      "FLUX : 0.5949392648305101 --- ID : HMR_3293 --- compartment : {'C_m'} \n",
      "\n",
      "---\n",
      "\n",
      "\n",
      "1.0 (3S)-3-hydroxydodec-cis-6-enoyl-CoA + 1.0 NAD+ --> 1.0 3-oxolaur-6-cis-enoyl-CoA + 1.0 H+ + 1.0 NADH\n",
      "\n",
      "1.0 m00082m + 1.0 m02552m --> 1.0 m00883m + 1.0 m02039m + 1.0 m02553m\n",
      "FLUX : 0.5949392648305101 --- ID : HMR_3292 --- compartment : {'C_m'} \n",
      "\n",
      "---\n",
      "\n",
      "\n",
      "1.0 H2O + 1.0 trans,cis-lauro-2,6-dienoyl-CoA --> 1.0 (3S)-3-hydroxydodec-cis-6-enoyl-CoA\n",
      "\n",
      "1.0 m02040m + 1.0 m03021m --> 1.0 m00082m\n",
      "FLUX : 0.5949392648305101 --- ID : HMR_3290 --- compartment : {'C_m'} \n",
      "\n",
      "---\n",
      "\n",
      "\n",
      "1.0 (2E,6Z,9Z,12Z)-octadecatetraenoyl-CoA + 1.0 H2O --> 1.0 3(S)-hydroxy-(6Z,9Z,12Z)-octadecatrienoyl-CoA\n",
      "\n",
      "1.0 m00073m + 1.0 m02040m --> 1.0 m00697m\n",
      "FLUX : 0.59493926483051 --- ID : HMR_3453 --- compartment : {'C_m'} \n",
      "\n",
      "---\n",
      "\n",
      "\n",
      "1.0 FAD + 1.0 gamma-linolenoyl-CoA --> 1.0 (2E,6Z,9Z,12Z)-octadecatetraenoyl-CoA + 1.0 FADH2\n",
      "\n",
      "1.0 m01802m + 1.0 m01934m --> 1.0 m00073m + 1.0 m01803m\n",
      "FLUX : 0.59493926483051 --- ID : HMR_3452 --- compartment : {'C_m'} \n",
      "\n",
      "---\n",
      "\n",
      "\n",
      "1.0 FAD + 1.0 palmitoleoyl-CoA --> 1.0 FADH2 + 1.0 trans,cis-hexadeca-2,9-dienoyl-CoA\n",
      "\n",
      "1.0 m01802m + 1.0 m02677m --> 1.0 m01803m + 1.0 m03020m\n",
      "FLUX : 109.69364301464958 --- ID : HMR_3250 --- compartment : {'C_m'} \n",
      "\n",
      "---\n",
      "\n",
      "\n",
      "1.0 cis,cis-3,6-dodecadienoyl-CoA + 1.0 FAD --> 1.0 FADH2 + 1.0 trans,cis-lauro-2,6-dienoyl-CoA\n",
      "\n",
      "1.0 m01575m + 1.0 m01802m --> 1.0 m01803m + 1.0 m03021m\n",
      "FLUX : 0.5949392648305101 --- ID : HMR_3288 --- compartment : {'C_m'} \n",
      "\n",
      "---\n",
      "\n",
      "\n",
      "1.0 3-oxo-cis,cis-5,8-tetradecadienoyl-CoA + 1.0 CoA --> 1.0 acetyl-CoA + 1.0 cis,cis-3,6-dodecadienoyl-CoA\n",
      "\n",
      "1.0 m00854m + 1.0 m01597m --> 1.0 m01261m + 1.0 m01575m\n",
      "FLUX : 0.5949392648305101 --- ID : HMR_3287 --- compartment : {'C_m'} \n",
      "\n",
      "---\n",
      "\n",
      "\n",
      "1.0 CoA + 1.0 tridecanoylcarnitine <-- 1.0 L-carnitine + 1.0 tridecanoyl-CoA\n",
      "\n",
      "1.0 m01597m + 1.0 m03049m <-- 1.0 m02348m + 1.0 m03050m\n",
      "FLUX : -0.062303555427548625 --- ID : HMR_2607 --- compartment : {'C_m'} \n",
      "\n",
      "---\n",
      "\n",
      "\n",
      "1.0 3-oxononanoyl-CoA + 1.0 CoA --> 1.0 acetyl-CoA + 1.0 heptanoyl-CoA\n",
      "\n",
      "1.0 m00889m + 1.0 m01597m --> 1.0 m01261m + 1.0 m02107m\n",
      "FLUX : 1.674326571219818 --- ID : HMR_3197 --- compartment : {'C_m'} \n",
      "\n",
      "---\n",
      "\n",
      "\n",
      "1.0 3-hydroxynonanoyl-CoA + 1.0 NAD+ --> 1.0 3-oxononanoyl-CoA + 1.0 H+ + 1.0 NADH\n",
      "\n",
      "1.0 m00792m + 1.0 m02552m --> 1.0 m00889m + 1.0 m02039m + 1.0 m02553m\n",
      "FLUX : 1.674326571219818 --- ID : HMR_3196 --- compartment : {'C_m'} \n",
      "\n",
      "---\n",
      "\n",
      "\n",
      "1.0 cis-(3S)-hydroxytetradec-7-enoyl-CoA + 1.0 NAD+ --> 1.0 3-oxomyrist-7-enoyl-CoA + 1.0 H+ + 1.0 NADH\n",
      "\n",
      "1.0 m01574m + 1.0 m02552m --> 1.0 m00886m + 1.0 m02039m + 1.0 m02553m\n",
      "FLUX : 109.6936430146496 --- ID : HMR_3262 --- compartment : {'C_m'} \n",
      "\n",
      "---\n",
      "\n",
      "\n",
      "1.0 (S)-3-hydroxy-11-cis-octadecenoyl-CoA + 1.0 NAD+ --> 1.0 3-oxo-11-cis-octadecenoyl-CoA + 1.0 H+ + 1.0 NADH\n",
      "\n",
      "1.0 m00170m + 1.0 m02552m --> 1.0 m00841m + 1.0 m02039m + 1.0 m02553m\n",
      "FLUX : 49.92537552561353 --- ID : HMR_3246 --- compartment : {'C_m'} \n",
      "\n",
      "---\n",
      "\n",
      "\n",
      "1.0 H2O + 1.0 trans,cis-octadeca-2,11-dienoyl-CoA --> 1.0 (S)-3-hydroxy-11-cis-octadecenoyl-CoA\n",
      "\n",
      "1.0 m02040m + 1.0 m03024m --> 1.0 m00170m\n",
      "FLUX : 49.92537552561353 --- ID : HMR_3245 --- compartment : {'C_m'} \n",
      "\n",
      "---\n",
      "\n",
      "\n",
      "2.0 H2O2 --> 2.0 H2O + 1.0 O2\n",
      "\n",
      "2.0 m02041m --> 2.0 m02040m + 1.0 m02630m\n",
      "FLUX : 116.72949709211636 --- ID : HMR_3982 --- compartment : {'C_m'} \n",
      "\n",
      "---\n",
      "\n",
      "\n",
      "2.0 H+ + 2.0 O2- --> 1.0 H2O2 + 1.0 O2\n",
      "\n",
      "2.0 m02039m + 2.0 m02631m --> 1.0 m02041m + 1.0 m02630m\n",
      "FLUX : 232.8640549194022 --- ID : HMR_8410 --- compartment : {'C_m'} \n",
      "\n",
      "---\n",
      "\n",
      "\n",
      "1.0 3(S)-hydroxy-(6Z,9Z,12Z)-octadecatrienoyl-CoA + 1.0 NAD+ --> 1.0 3-oxo-(6Z,9Z,12Z)-octadecatrienoyl-CoA + 1.0 H+ + 1.0 NADH\n",
      "\n",
      "1.0 m00697m + 1.0 m02552m --> 1.0 m00834m + 1.0 m02039m + 1.0 m02553m\n",
      "FLUX : 0.59493926483051 --- ID : HMR_3454 --- compartment : {'C_m'} \n",
      "\n",
      "---\n",
      "\n",
      "\n",
      "1.0 3-hydroxytridecanoyl-CoA + 1.0 NAD+ --> 1.0 3-oxotridecanoyl-CoA + 1.0 H+ + 1.0 NADH\n",
      "\n",
      "1.0 m00804m + 1.0 m02552m --> 1.0 m00909m + 1.0 m02039m + 1.0 m02553m\n",
      "FLUX : 1.674326571219818 --- ID : HMR_3188 --- compartment : {'C_m'} \n",
      "\n",
      "---\n",
      "\n",
      "\n",
      "1.0 3-hydroxydocosanoyl-CoA + 1.0 NAD+ --> 1.0 3-oxodocosanoyl-CoA + 1.0 H+ + 1.0 NADH\n",
      "\n",
      "1.0 m00776m + 1.0 m02552m --> 1.0 m00866m + 1.0 m02039m + 1.0 m02553m\n",
      "FLUX : 0.309889620174158 --- ID : HMR_3109 --- compartment : {'C_m'} \n",
      "\n",
      "---\n",
      "\n",
      "\n",
      "1.0 3-hydroxyheptanoyl-CoA + 1.0 NAD+ --> 1.0 3-oxoheptanoyl-CoA + 1.0 H+ + 1.0 NADH\n",
      "\n",
      "1.0 m00782m + 1.0 m02552m --> 1.0 m00877m + 1.0 m02039m + 1.0 m02553m\n",
      "FLUX : 1.674326571219818 --- ID : HMR_3200 --- compartment : {'C_m'} \n",
      "\n",
      "---\n",
      "\n",
      "\n",
      "1.0 2-trans-4-cis-decadienoyl-CoA + 1.0 NAD+ --> 1.0 H+ + 1.0 NADH + 1.0 trans-3-decenoyl-CoA\n",
      "\n",
      "1.0 m00678m + 1.0 m02552m --> 1.0 m02039m + 1.0 m02553m + 1.0 m03035m\n",
      "FLUX : 0.5949392648305101 --- ID : HMR_3296 --- compartment : {'C_m'} \n",
      "\n",
      "---\n",
      "\n",
      "\n",
      "1.0 3-hydroxyundecanoyl-CoA + 1.0 NAD+ --> 1.0 3-oxoundecanoyl-CoA + 1.0 H+ + 1.0 NADH\n",
      "\n",
      "1.0 m00806m + 1.0 m02552m --> 1.0 m00911m + 1.0 m02039m + 1.0 m02553m\n",
      "FLUX : 1.674326571219818 --- ID : HMR_3192 --- compartment : {'C_m'} \n",
      "\n",
      "---\n",
      "\n",
      "\n",
      "1.0 (2E)-undecenoyl-CoA + 1.0 H2O --> 1.0 3-hydroxyundecanoyl-CoA\n",
      "\n",
      "1.0 m00071m + 1.0 m02040m --> 1.0 m00806m\n",
      "FLUX : 1.674326571219818 --- ID : HMR_3191 --- compartment : {'C_m'} \n",
      "\n",
      "---\n",
      "\n",
      "\n",
      "1.0 glutamine + 1.0 H2O --> 1.0 glutamate + 1.0 NH3\n",
      "\n",
      "1.0 m01975m + 1.0 m02040m --> 1.0 m01974m + 1.0 m02578m\n",
      "FLUX : 220.5664248537952 --- ID : HMR_3892 --- compartment : {'C_m'} \n",
      "\n",
      "---\n",
      "\n",
      "\n",
      "1.0 glutamate + 1.0 H+ + 1.0 NADH <-- 1.0 H2O + 1.0 L-glutamate 5-semialdehyde + 1.0 NAD+\n",
      "\n",
      "1.0 m01974m + 1.0 m02039m + 1.0 m02553m <-- 1.0 m02040m + 1.0 m02374m + 1.0 m02552m\n",
      "FLUX : -197.32166832499593 --- ID : HMR_3806 --- compartment : {'C_m'} \n",
      "\n",
      "---\n",
      "\n",
      "\n",
      "1.0 (2E,4Z,7Z,10Z)-hexadecatetraenoyl-CoA + 1.0 H+ + 1.0 NADPH --> 1.0 (3Z,7Z,10Z)-hexadecatrienoyl-CoA + 1.0 NADP+\n",
      "\n",
      "1.0 m00072m + 1.0 m02039m + 1.0 m02555m --> 1.0 m00089m + 1.0 m02554m\n",
      "FLUX : 0.5949392648305101 --- ID : HMR_3457 --- compartment : {'C_m'} \n",
      "\n",
      "---\n",
      "\n",
      "\n",
      "1.0 (4Z,7Z,10Z)-hexadecatrienoyl-CoA + 1.0 O2 --> 1.0 (2E,4Z,7Z,10Z)-hexadecatetraenoyl-CoA + 1.0 H2O2\n",
      "\n",
      "1.0 m00091m + 1.0 m02630m --> 1.0 m00072m + 1.0 m02041m\n",
      "FLUX : 0.59493926483051 --- ID : HMR_3456 --- compartment : {'C_m'} \n",
      "\n",
      "---\n",
      "\n",
      "\n",
      "1.0 (4Z,7Z,10Z)-hexadecatrienoyl-CoA + 1.0 acetyl-CoA <-- 1.0 3-oxo-(6Z,9Z,12Z)-octadecatrienoyl-CoA + 1.0 CoA\n",
      "\n",
      "1.0 m00091m + 1.0 m01261m <-- 1.0 m00834m + 1.0 m01597m\n",
      "FLUX : -0.5949392648305101 --- ID : HMR_3455 --- compartment : {'C_m'} \n",
      "\n",
      "---\n",
      "\n",
      "\n",
      "1.0 3-oxooctadecanoyl-CoA + 1.0 CoA --> 1.0 acetyl-CoA + 1.0 palmitoyl-CoA\n",
      "\n",
      "1.0 m00890m + 1.0 m01597m --> 1.0 m01261m + 1.0 m02678m\n",
      "FLUX : 0.8679080240827873 --- ID : HMR_3118 --- compartment : {'C_m'} \n",
      "\n",
      "---\n",
      "\n",
      "\n",
      "1.0 5-tetradecenoyl-CoA + 1.0 L-carnitine <-- 1.0 CoA + 1.0 tetradecenoylcarnitine(9)\n",
      "\n",
      "1.0 m01141m + 1.0 m02348m <-- 1.0 m01597m + 1.0 m02976m\n",
      "FLUX : -28.736070209836814 --- ID : HMR_2622 --- compartment : {'C_m'} \n",
      "\n",
      "---\n",
      "\n",
      "\n",
      "1.0 L-carnitine --> 1.0 L-carnitine\n",
      "\n",
      "1.0 m02348c --> 1.0 m02348m\n",
      "FLUX : 2.029255589653638e-14 --- ID : HMR_2590 --- compartment : {'C_c', 'C_m'} \n",
      "\n",
      "---\n",
      "\n",
      "\n",
      "1.0 L-carnitine + 1.0 octadecenoylcarnitine(5) <-- 1.0 L-carnitine + 1.0 octadecenoylcarnitine(5)\n",
      "\n",
      "1.0 m02348c + 1.0 m02639m <-- 1.0 m02348m + 1.0 m02639c\n",
      "FLUX : -0.2689602683000974 --- ID : HMR_2658 --- compartment : {'C_c', 'C_m'} \n",
      "\n",
      "---\n",
      "\n",
      "\n",
      "1.0 heptadecenoylcarnitine(7) + 1.0 L-carnitine <-- 1.0 heptadecenoylcarnitine(7) + 1.0 L-carnitine\n",
      "\n",
      "1.0 m02102m + 1.0 m02348c <-- 1.0 m02102c + 1.0 m02348m\n",
      "FLUX : -6.015494848597149 --- ID : HMR_2649 --- compartment : {'C_c', 'C_m'} \n",
      "\n",
      "---\n",
      "\n",
      "\n",
      "1.0 hexadecenoylcarnitine(9) + 1.0 L-carnitine --> 1.0 hexadecenoylcarnitine(9) + 1.0 L-carnitine\n",
      "\n",
      "1.0 m02117m + 1.0 m02348c --> 1.0 m02117c + 1.0 m02348m\n",
      "FLUX : 4.971040403474402 --- ID : HMR_2634 --- compartment : {'C_c', 'C_m'} \n",
      "\n",
      "---\n",
      "\n",
      "\n",
      "1.0 (11Z,14Z,17Z)-eicosatrienoylcarnitine + 1.0 L-carnitine --> 1.0 (11Z,14Z,17Z)-eicosatrienoylcarnitine + 1.0 L-carnitine\n",
      "\n",
      "1.0 m00011c + 1.0 m02348m --> 1.0 m00011m + 1.0 m02348c\n",
      "FLUX : 0.8058758281491691 --- ID : HMR_2734 --- compartment : {'C_c', 'C_m'} \n",
      "\n",
      "---\n",
      "\n",
      "\n",
      "1.0 CoA + 1.0 pentadecanoylcarnitine --> 1.0 L-carnitine + 1.0 pentadecanoyl-CoA\n",
      "\n",
      "1.0 m01597m + 1.0 m02688m --> 1.0 m02348m + 1.0 m02689m\n",
      "FLUX : 1.7366301266473665 --- ID : HMR_2625 --- compartment : {'C_m'} \n",
      "\n",
      "---\n",
      "\n",
      "\n",
      "1.0 3-oxomyrist-7-enoyl-CoA + 1.0 CoA --> 1.0 (5Z)-dodecenoyl-CoA + 1.0 acetyl-CoA\n",
      "\n",
      "1.0 m00886m + 1.0 m01597m --> 1.0 m00099m + 1.0 m01261m\n",
      "FLUX : 109.6936430146496 --- ID : HMR_3264 --- compartment : {'C_m'} \n",
      "\n",
      "---\n",
      "\n",
      "\n",
      "1.0 3-oxotridecanoyl-CoA + 1.0 CoA --> 1.0 acetyl-CoA + 1.0 undecanoyl-CoA\n",
      "\n",
      "1.0 m00909m + 1.0 m01597m --> 1.0 m01261m + 1.0 m03116m\n",
      "FLUX : 1.6743265712198183 --- ID : HMR_3189 --- compartment : {'C_m'} \n",
      "\n",
      "---\n",
      "\n",
      "\n",
      "1.0 3-oxoheptanoyl-CoA + 1.0 CoA --> 1.0 acetyl-CoA + 1.0 pentanoyl-CoA\n",
      "\n",
      "1.0 m00877m + 1.0 m01597m --> 1.0 m01261m + 1.0 m02694m\n",
      "FLUX : 1.6743265712198179 --- ID : HMR_3201 --- compartment : {'C_m'} \n",
      "\n",
      "---\n",
      "\n",
      "\n",
      "1.0 3-oxoundecanoyl-CoA + 1.0 CoA --> 1.0 acetyl-CoA + 1.0 nonanoyl-CoA\n",
      "\n",
      "1.0 m00911m + 1.0 m01597m --> 1.0 m01261m + 1.0 m02616m\n",
      "FLUX : 1.674326571219818 --- ID : HMR_3193 --- compartment : {'C_m'} \n",
      "\n",
      "---\n",
      "\n",
      "\n",
      "1.0 CoA + 1.0 octadecenoylcarnitine(7) --> 1.0 cis-vaccenoyl-CoA + 1.0 L-carnitine\n",
      "\n",
      "1.0 m01597m + 1.0 m02640m --> 1.0 m01586m + 1.0 m02348m\n",
      "FLUX : 49.92537552561353 --- ID : HMR_2662 --- compartment : {'C_m'} \n",
      "\n",
      "---\n",
      "\n",
      "\n",
      "1.0 CoA + 1.0 palmitoleoyl-carnitine --> 1.0 L-carnitine + 1.0 palmitoleoyl-CoA\n",
      "\n",
      "1.0 m01597m + 1.0 m02676m --> 1.0 m02348m + 1.0 m02677m\n",
      "FLUX : 59.76826748903605 --- ID : HMR_2640 --- compartment : {'C_m'} \n",
      "\n",
      "---\n",
      "\n",
      "\n",
      "1.0 3-oxodocosanoyl-CoA + 1.0 CoA --> 1.0 acetyl-CoA + 1.0 eicosanoyl-CoA\n",
      "\n",
      "1.0 m00866m + 1.0 m01597m --> 1.0 m01261m + 1.0 m01773m\n",
      "FLUX : 0.30988962017415805 --- ID : HMR_3110 --- compartment : {'C_m'} \n",
      "\n",
      "---\n",
      "\n",
      "\n",
      "1.0 3-oxo-11-cis-octadecenoyl-CoA + 1.0 CoA --> 1.0 acetyl-CoA + 1.0 palmitoleoyl-CoA\n",
      "\n",
      "1.0 m00841m + 1.0 m01597m --> 1.0 m01261m + 1.0 m02677m\n",
      "FLUX : 49.925375525613546 --- ID : HMR_3247 --- compartment : {'C_m'} \n",
      "\n",
      "---\n",
      "\n",
      "\n",
      "1.0 HMG-CoA --> 1.0 acetoacetate + 1.0 acetyl-CoA\n",
      "\n",
      "1.0 m02131m --> 1.0 m01253m + 1.0 m01261m\n",
      "FLUX : 951.5057201463661 --- ID : HMR_1577 --- compartment : {'C_m'} \n",
      "\n",
      "---\n",
      "\n",
      "\n",
      "1.0 HMG-CoA --> 1.0 HMG-CoA\n",
      "\n",
      "1.0 m02131c --> 1.0 m02131m\n",
      "FLUX : 136.94538697516543 --- ID : HMR_1572 --- compartment : {'C_c', 'C_m'} \n",
      "\n",
      "---\n",
      "\n",
      "\n",
      "1.0 L-carnitine + 1.0 tetradecenoylcarnitine(9) <-- 1.0 L-carnitine + 1.0 tetradecenoylcarnitine(9)\n",
      "\n",
      "1.0 m02348c + 1.0 m02976m <-- 1.0 m02348m + 1.0 m02976c\n",
      "FLUX : -28.736070209836814 --- ID : HMR_2621 --- compartment : {'C_c', 'C_m'} \n",
      "\n",
      "---\n",
      "\n",
      "\n",
      "1.0 eicosanoylcarnitine + 1.0 L-carnitine <-- 1.0 eicosanoylcarnitine + 1.0 L-carnitine\n",
      "\n",
      "1.0 m01772m + 1.0 m02348c <-- 1.0 m01772c + 1.0 m02348m\n",
      "FLUX : -0.558018403908629 --- ID : HMR_2679 --- compartment : {'C_c', 'C_m'} \n",
      "\n",
      "---\n",
      "\n",
      "\n",
      "1.0 L-carnitine + 1.0 pentadecanoylcarnitine <-- 1.0 L-carnitine + 1.0 pentadecanoylcarnitine\n",
      "\n",
      "1.0 m02348c + 1.0 m02688m <-- 1.0 m02348m + 1.0 m02688c\n",
      "FLUX : -1.7366301266473663 --- ID : HMR_2624 --- compartment : {'C_c', 'C_m'} \n",
      "\n",
      "---\n",
      "\n",
      "\n",
      "1.0 cis-vaccenoyl-CoA + 1.0 FAD --> 1.0 FADH2 + 1.0 trans,cis-octadeca-2,11-dienoyl-CoA\n",
      "\n",
      "1.0 m01586m + 1.0 m01802m --> 1.0 m01803m + 1.0 m03024m\n",
      "FLUX : 49.92537552561353 --- ID : HMR_3244 --- compartment : {'C_m'} \n",
      "\n",
      "---\n",
      "\n",
      "\n",
      "1.0 FADH2 + 1.0 fumarate --> 1.0 FAD + 1.0 succinate\n",
      "\n",
      "1.0 m01803m + 1.0 m01862m --> 1.0 m01802m + 1.0 m02943m\n",
      "FLUX : 1000.0 --- ID : HMR_8743 --- compartment : {'C_m'} \n",
      "\n",
      "---\n",
      "\n",
      "\n",
      "1.0 O2 --> 1.0 O2\n",
      "\n",
      "1.0 m02630c --> 1.0 m02630m\n",
      "FLUX : 1000.0 --- ID : HMR_4898 --- compartment : {'C_c', 'C_m'} \n",
      "\n",
      "---\n",
      "\n",
      "\n",
      "1.0 O2 <-- 1.0 O2\n",
      "\n",
      "1.0 m02630c <-- 1.0 m02630s\n",
      "FLUX : -1000.0 --- ID : HMR_4896 --- compartment : {'C_c', 'C_s'} \n",
      "\n",
      "---\n",
      "\n",
      "\n",
      "1.0 H2O + 1.0 O2 + 1.0 spermine --> 1.0 H2O2 + 1.0 NH3 + 1.0 spermine monoaldehyde\n",
      "\n",
      "1.0 m02040s + 1.0 m02630s + 1.0 m02926s --> 1.0 m02041s + 1.0 m02578s + 1.0 m02925s\n",
      "FLUX : 1.0397490242239346e-13 --- ID : HMR_6932 --- compartment : {'C_s'} \n",
      "\n",
      "---\n",
      "\n",
      "\n",
      "1.0 H2O <-- 1.0 H2O\n",
      "\n",
      "1.0 m02040x <-- 1.0 m02040s\n",
      "FLUX : -366.92407848015966 --- ID : HMR_9047 --- compartment : {'C_s', 'C_x'} \n",
      "\n",
      "---\n",
      "\n",
      "\n",
      "1.0 H2O <-- \n",
      "\n",
      "1.0 m02040x <-- \n",
      "FLUX : 366.92407848015966 --- ID : EX_m02040x --- compartment : {'C_x'} \n",
      "\n",
      "---\n",
      "\n",
      "\n",
      "1.0 deoxyadenosine + 1.0 H2O --> 1.0 deoxyinosine + 1.0 NH3\n",
      "\n",
      "1.0 m01666s + 1.0 m02040s --> 1.0 m01671s + 1.0 m02578s\n",
      "FLUX : 122.68151972592105 --- ID : HMR_8473 --- compartment : {'C_s'} \n",
      "\n",
      "---\n",
      "\n",
      "\n",
      "1.0 deoxyadenosine --> 1.0 deoxyadenosine\n",
      "\n",
      "1.0 m01666x --> 1.0 m01666s\n",
      "FLUX : 122.68151972592105 --- ID : HMR_9297 --- compartment : {'C_s', 'C_x'} \n",
      "\n",
      "---\n",
      "\n",
      "\n",
      "1.0 deoxyadenosine --> \n",
      "\n",
      "1.0 m01666x --> \n",
      "FLUX : -122.68151972592105 --- ID : EX_m01666x --- compartment : {'C_x'} \n",
      "\n",
      "---\n",
      "\n",
      "\n",
      "1.0 deoxyinosine <-- 1.0 deoxyinosine\n",
      "\n",
      "1.0 m01671x <-- 1.0 m01671s\n",
      "FLUX : -962.827225837927 --- ID : HMR_9305 --- compartment : {'C_s', 'C_x'} \n",
      "\n",
      "---\n",
      "\n",
      "\n",
      "1.0 deoxyinosine <-- \n",
      "\n",
      "1.0 m01671x <-- \n",
      "FLUX : 962.8272258379269 --- ID : EX_m01671x --- compartment : {'C_x'} \n",
      "\n",
      "---\n",
      "\n",
      "\n",
      "1.0 deoxyinosine --> 1.0 deoxyinosine\n",
      "\n",
      "1.0 m01671c --> 1.0 m01671s\n",
      "FLUX : 840.145706112006 --- ID : HMR_6369 --- compartment : {'C_c', 'C_s'} \n",
      "\n",
      "---\n",
      "\n",
      "\n",
      "1.0 NH3 <-- 1.0 NH3\n",
      "\n",
      "1.0 m02578x <-- 1.0 m02578s\n",
      "FLUX : -1000.0 --- ID : HMR_9073 --- compartment : {'C_s', 'C_x'} \n",
      "\n",
      "---\n",
      "\n",
      "\n",
      "1.0 NH3 <-- \n",
      "\n",
      "1.0 m02578x <-- \n",
      "FLUX : 1000.0 --- ID : EX_m02578x --- compartment : {'C_x'} \n",
      "\n",
      "---\n",
      "\n",
      "\n",
      "1.0 NH3 --> 1.0 NH3\n",
      "\n",
      "1.0 m02578c --> 1.0 m02578s\n",
      "FLUX : 871.3626916084102 --- ID : HMR_4873 --- compartment : {'C_c', 'C_s'} \n",
      "\n",
      "---\n",
      "\n",
      "\n",
      "1.0 O2 --> 1.0 O2\n",
      "\n",
      "1.0 m02630x --> 1.0 m02630s\n",
      "FLUX : 1000.0 --- ID : HMR_9048 --- compartment : {'C_s', 'C_x'} \n",
      "\n",
      "---\n",
      "\n",
      "\n",
      "1.0 O2 --> \n",
      "\n",
      "1.0 m02630x --> \n",
      "FLUX : -1000.0000000000001 --- ID : EX_m02630x --- compartment : {'C_x'} \n",
      "\n",
      "---\n",
      "\n",
      "\n",
      "1.0 spermine --> 1.0 spermine\n",
      "\n",
      "1.0 m02926x --> 1.0 m02926s\n",
      "FLUX : 1.0397490242239348e-13 --- ID : HMR_9715 --- compartment : {'C_s', 'C_x'} \n",
      "\n",
      "---\n",
      "\n",
      "\n",
      "1.0 spermine --> \n",
      "\n",
      "1.0 m02926x --> \n",
      "FLUX : -1.0397490242239346e-13 --- ID : EX_m02926x --- compartment : {'C_x'} \n",
      "\n",
      "---\n",
      "\n",
      "\n",
      "1.0 H2O2 --> 1.0 H2O2\n",
      "\n",
      "1.0 m02041x --> 1.0 m02041s\n",
      "FLUX : 999.9999999999998 --- ID : HMR_9354 --- compartment : {'C_s', 'C_x'} \n",
      "\n",
      "---\n",
      "\n",
      "\n",
      "1.0 H2O2 --> \n",
      "\n",
      "1.0 m02041x --> \n",
      "FLUX : -1000.0 --- ID : EX_m02041x --- compartment : {'C_x'} \n",
      "\n",
      "---\n",
      "\n",
      "\n",
      "1.0 H2O2 + 1.0 urate <-- 1.0 alloxan + 1.0 urea\n",
      "\n",
      "1.0 m02041s + 1.0 m03120s <-- 1.0 m01315s + 1.0 m03121s\n",
      "FLUX : -4.1589960968957385e-13 --- ID : HMR_6603 --- compartment : {'C_s'} \n",
      "\n",
      "---\n",
      "\n",
      "\n",
      "1.0 urate <-- 1.0 urate\n",
      "\n",
      "1.0 m03120x <-- 1.0 m03120s\n",
      "FLUX : -4.1589960968957385e-13 --- ID : HMR_9075 --- compartment : {'C_s', 'C_x'} \n",
      "\n",
      "---\n",
      "\n",
      "\n",
      "1.0 NADP+ + 1.0 trans-4-hydroxy-L-proline --> 1.0 H+ + 1.0 L-1-pyrroline-3-hydroxy-5-carboxylate + 1.0 NADPH\n",
      "\n",
      "1.0 m02554m + 1.0 m03037m --> 1.0 m02039m + 1.0 m02320m + 1.0 m02555m\n",
      "FLUX : 110.0802803181572 --- ID : HMR_4781 --- compartment : {'C_m'} \n",
      "\n",
      "---\n",
      "\n",
      "\n",
      "1.0 (3Z,7Z,10Z)-hexadecatrienoyl-CoA --> 1.0 trans,cis,cis-2,7,10-hexadecatrienoyl-CoA\n",
      "\n",
      "1.0 m00089m --> 1.0 m03009m\n",
      "FLUX : 0.5949392648305101 --- ID : HMR_3458 --- compartment : {'C_m'} \n",
      "\n",
      "---\n",
      "\n",
      "\n",
      "1.0 H2O + 1.0 PPi --> 2.0 Pi\n",
      "\n",
      "1.0 m02040m + 1.0 m02759m --> 2.0 m02751m\n",
      "FLUX : 54.14353332426103 --- ID : HMR_6912 --- compartment : {'C_m'} \n",
      "\n",
      "---\n",
      "\n",
      "\n",
      "1.0 O2- --> 1.0 O2-\n",
      "\n",
      "1.0 m02631c --> 1.0 m02631m\n",
      "FLUX : 465.72810983880447 --- ID : HMR_8411 --- compartment : {'C_c', 'C_m'} \n",
      "\n",
      "---\n",
      "\n",
      "\n",
      "1.0 O2- <-- 1.0 O2-\n",
      "\n",
      "1.0 m02631c <-- 1.0 m02631s\n",
      "FLUX : -1000.0 --- ID : HMR_3959 --- compartment : {'C_c', 'C_s'} \n",
      "\n",
      "---\n",
      "\n",
      "\n",
      "1.0 O2- --> 1.0 O2-\n",
      "\n",
      "1.0 m02631x --> 1.0 m02631s\n",
      "FLUX : 999.9999999999999 --- ID : HMR_9383 --- compartment : {'C_s', 'C_x'} \n",
      "\n",
      "---\n",
      "\n",
      "\n",
      "1.0 O2- --> \n",
      "\n",
      "1.0 m02631x --> \n",
      "FLUX : -1000.0 --- ID : EX_m02631x --- compartment : {'C_x'} \n",
      "\n",
      "---\n",
      "\n",
      "\n",
      "1.0 CoA + 1.0 L-octanoylcarnitine <-- 1.0 L-carnitine + 1.0 octanoyl-CoA\n",
      "\n",
      "1.0 m01597p + 1.0 m02409p <-- 1.0 m02348p + 1.0 m02644p\n",
      "FLUX : -68.65031562825865 --- ID : HMR_3034 --- compartment : {'C_p'} \n",
      "\n",
      "---\n",
      "\n",
      "\n",
      "1.0 3-oxopalmitoyl-CoA + 1.0 CoA <-- 1.0 acetyl-CoA + 1.0 myristoyl-CoA\n",
      "\n",
      "1.0 m00895p + 1.0 m01597p <-- 1.0 m01261p + 1.0 m02495p\n",
      "FLUX : -1.2449570677160347e-19 --- ID : HMR_3081 --- compartment : {'C_p'} \n",
      "\n",
      "---\n",
      "\n",
      "\n",
      "1.0 (S)-3-hydroxyhexadecanoyl-CoA + 1.0 NAD+ <-- 1.0 3-oxopalmitoyl-CoA + 1.0 H+ + 1.0 NADH\n",
      "\n",
      "1.0 m00175p + 1.0 m02552p <-- 1.0 m00895p + 1.0 m02039p + 1.0 m02553p\n",
      "FLUX : -1.244957067716035e-19 --- ID : HMR_3080 --- compartment : {'C_p'} \n",
      "\n",
      "---\n",
      "\n",
      "\n",
      "1.0 (2E)-hexadecenoyl-CoA + 1.0 H2O <-- 1.0 (S)-3-hydroxyhexadecanoyl-CoA\n",
      "\n",
      "1.0 m00051p + 1.0 m02040p <-- 1.0 m00175p\n",
      "FLUX : -1.244957067716035e-19 --- ID : HMR_3079 --- compartment : {'C_p'} \n",
      "\n",
      "---\n",
      "\n",
      "\n",
      "1.0 O2 + 1.0 palmitoyl-CoA <-- 1.0 (2E)-hexadecenoyl-CoA + 1.0 H2O2\n",
      "\n",
      "1.0 m02630p + 1.0 m02678p <-- 1.0 m00051p + 1.0 m02041p\n",
      "FLUX : -1.244957067716035e-19 --- ID : HMR_3078 --- compartment : {'C_p'} \n",
      "\n",
      "---\n",
      "\n",
      "\n",
      "1.0 myristoyl-CoA + 1.0 O2 <-- 1.0 (2E)-tetradecenoyl-CoA + 1.0 H2O2\n",
      "\n",
      "1.0 m02495p + 1.0 m02630p <-- 1.0 m00066p + 1.0 m02041p\n",
      "FLUX : -1.244957067716035e-19 --- ID : HMR_3082 --- compartment : {'C_p'} \n",
      "\n",
      "---\n",
      "\n",
      "\n",
      "1.0 5-tetradecenoyl-CoA + 1.0 O2 --> 1.0 H2O2 + 1.0 trans,cis-myristo-2,5-dienoyl-CoA\n",
      "\n",
      "1.0 m01141p + 1.0 m02630p --> 1.0 m02041p + 1.0 m03022p\n",
      "FLUX : 1.244957067716035e-19 --- ID : HMR_3350 --- compartment : {'C_p'} \n",
      "\n",
      "---\n",
      "\n",
      "\n",
      "1.0 3-oxo-7-hexadecenoyl-CoA + 1.0 CoA --> 1.0 5-tetradecenoyl-CoA + 1.0 acetyl-CoA\n",
      "\n",
      "1.0 m00849p + 1.0 m01597p --> 1.0 m01141p + 1.0 m01261p\n",
      "FLUX : 1.2449570677160347e-19 --- ID : HMR_3349 --- compartment : {'C_p'} \n",
      "\n",
      "---\n",
      "\n",
      "\n",
      "1.0 3-oxo-13cis-docosenoyl-CoA + 1.0 CoA --> 1.0 (11Z)-eicosenoyl-CoA + 1.0 acetyl-CoA\n",
      "\n",
      "1.0 m00842p + 1.0 m01597p --> 1.0 m00007p + 1.0 m01261p\n",
      "FLUX : 1.244957067716034e-19 --- ID : HMR_3337 --- compartment : {'C_p'} \n",
      "\n",
      "---\n",
      "\n",
      "\n",
      "1.0 3(S)-hydroxy-13-cis-docosenoyl-CoA + 1.0 NAD+ --> 1.0 3-oxo-13cis-docosenoyl-CoA + 1.0 H+ + 1.0 NADH\n",
      "\n",
      "1.0 m00701p + 1.0 m02552p --> 1.0 m00842p + 1.0 m02039p + 1.0 m02553p\n",
      "FLUX : 1.244957067716034e-19 --- ID : HMR_3336 --- compartment : {'C_p'} \n",
      "\n",
      "---\n",
      "\n",
      "\n",
      "1.0 (S)-3-hydroxytetradecanoyl-CoA + 1.0 NAD+ <-- 1.0 3-oxotetradecanoyl-CoA + 1.0 H+ + 1.0 NADH\n",
      "\n",
      "1.0 m00178p + 1.0 m02552p <-- 1.0 m00906p + 1.0 m02039p + 1.0 m02553p\n",
      "FLUX : -1.244957067716035e-19 --- ID : HMR_3084 --- compartment : {'C_p'} \n",
      "\n",
      "---\n",
      "\n",
      "\n",
      "1.0 (2E)-tetradecenoyl-CoA + 1.0 H2O <-- 1.0 (S)-3-hydroxytetradecanoyl-CoA\n",
      "\n",
      "1.0 m00066p + 1.0 m02040p <-- 1.0 m00178p\n",
      "FLUX : -1.244957067716035e-19 --- ID : HMR_3083 --- compartment : {'C_p'} \n",
      "\n",
      "---\n",
      "\n",
      "\n",
      "1.0 H2O + 1.0 trans,cis-myristo-2,5-dienoyl-CoA --> 1.0 cis-(3S)-hydroxytetradec-5-enoyl-CoA\n",
      "\n",
      "1.0 m02040p + 1.0 m03022p --> 1.0 m01573p\n",
      "FLUX : 1.244957067716035e-19 --- ID : HMR_3351 --- compartment : {'C_p'} \n",
      "\n",
      "---\n",
      "\n",
      "\n",
      "1.0 H2O + 1.0 trans,cis-2,15-tetracosadienoyl-CoA --> 1.0 3(S)-hydroxy-cis-15-tetracosaenoyl-CoA\n",
      "\n",
      "1.0 m02040p + 1.0 m03015p --> 1.0 m00709p\n",
      "FLUX : 1.2449570677160337e-19 --- ID : HMR_3331 --- compartment : {'C_p'} \n",
      "\n",
      "---\n",
      "\n",
      "\n",
      "1.0 (2E,6Z,9Z,12Z)-octadecatetraenoyl-CoA + 1.0 H2O --> 1.0 3(S)-hydroxy-(6Z,9Z,12Z)-octadecatrienoyl-CoA\n",
      "\n",
      "1.0 m00073p + 1.0 m02040p --> 1.0 m00697p\n",
      "FLUX : 68.56368597493994 --- ID : HMR_3467 --- compartment : {'C_p'} \n",
      "\n",
      "---\n",
      "\n",
      "\n",
      "1.0 gamma-linolenoyl-CoA + 1.0 O2 --> 1.0 (2E,6Z,9Z,12Z)-octadecatetraenoyl-CoA + 1.0 H2O2\n",
      "\n",
      "1.0 m01934p + 1.0 m02630p --> 1.0 m00073p + 1.0 m02041p\n",
      "FLUX : 68.56368597493993 --- ID : HMR_3466 --- compartment : {'C_p'} \n",
      "\n",
      "---\n",
      "\n",
      "\n",
      "1.0 3-oxo-dihomo-gamma-linolenoyl-CoA + 1.0 CoA --> 1.0 acetyl-CoA + 1.0 gamma-linolenoyl-CoA\n",
      "\n",
      "1.0 m00859p + 1.0 m01597p --> 1.0 m01261p + 1.0 m01934p\n",
      "FLUX : 68.56368597493992 --- ID : HMR_3465 --- compartment : {'C_p'} \n",
      "\n",
      "---\n",
      "\n",
      "\n",
      "1.0 3(S)-hydroxy-dihomo-gamma-linolenoyl-CoA + 1.0 NAD+ --> 1.0 3-oxo-dihomo-gamma-linolenoyl-CoA + 1.0 H+ + 1.0 NADH\n",
      "\n",
      "1.0 m00710p + 1.0 m02552p --> 1.0 m00859p + 1.0 m02039p + 1.0 m02553p\n",
      "FLUX : 68.56368597493992 --- ID : HMR_3464 --- compartment : {'C_p'} \n",
      "\n",
      "---\n",
      "\n",
      "\n",
      "1.0 H2O + 1.0 trans-2-cis,cis,cis-8,11,14-eicosatetraenoyl-CoA --> 1.0 3(S)-hydroxy-dihomo-gamma-linolenoyl-CoA\n",
      "\n",
      "1.0 m02040p + 1.0 m03029p --> 1.0 m00710p\n",
      "FLUX : 68.56368597493993 --- ID : HMR_3463 --- compartment : {'C_p'} \n",
      "\n",
      "---\n",
      "\n",
      "\n",
      "1.0 H2O + 1.0 palmitoyl-CoA --> 1.0 CoA + 1.0 palmitate\n",
      "\n",
      "1.0 m02040p + 1.0 m02678p --> 1.0 m01597p + 1.0 m02674p\n",
      "FLUX : 83.40379379676348 --- ID : HMR_0709 --- compartment : {'C_p'} \n",
      "\n",
      "---\n",
      "\n",
      "\n",
      "1.0 (2E)-eicosenoyl-CoA + 1.0 H2O --> 1.0 3-hydroxyeicosanoyl-CoA\n",
      "\n",
      "1.0 m00043p + 1.0 m02040p --> 1.0 m00777p\n",
      "FLUX : 0.8058758281491694 --- ID : HMR_3071 --- compartment : {'C_p'} \n",
      "\n",
      "---\n",
      "\n",
      "\n",
      "1.0 eicosanoyl-CoA + 1.0 O2 --> 1.0 (2E)-eicosenoyl-CoA + 1.0 H2O2\n",
      "\n",
      "1.0 m01773p + 1.0 m02630p --> 1.0 m00043p + 1.0 m02041p\n",
      "FLUX : 0.8058758281491692 --- ID : HMR_3070 --- compartment : {'C_p'} \n",
      "\n",
      "---\n",
      "\n",
      "\n",
      "1.0 3-oxodocosanoyl-CoA + 1.0 CoA --> 1.0 acetyl-CoA + 1.0 eicosanoyl-CoA\n",
      "\n",
      "1.0 m00866p + 1.0 m01597p --> 1.0 m01261p + 1.0 m01773p\n",
      "FLUX : 0.8058758281491692 --- ID : HMR_3069 --- compartment : {'C_p'} \n",
      "\n",
      "---\n",
      "\n",
      "\n",
      "1.0 3-hydroxydocosanoyl-CoA + 1.0 NAD+ --> 1.0 3-oxodocosanoyl-CoA + 1.0 H+ + 1.0 NADH\n",
      "\n",
      "1.0 m00776p + 1.0 m02552p --> 1.0 m00866p + 1.0 m02039p + 1.0 m02553p\n",
      "FLUX : 0.8058758281491692 --- ID : HMR_3068 --- compartment : {'C_p'} \n",
      "\n",
      "---\n",
      "\n",
      "\n",
      "1.0 cis-(3S)-hydroxytetradec-5-enoyl-CoA + 1.0 NAD+ --> 1.0 3-oxomyrist-5-enoyl-CoA + 1.0 H+ + 1.0 NADH\n",
      "\n",
      "1.0 m01573p + 1.0 m02552p --> 1.0 m00885p + 1.0 m02039p + 1.0 m02553p\n",
      "FLUX : 1.2449570677160347e-19 --- ID : HMR_3352 --- compartment : {'C_p'} \n",
      "\n",
      "---\n",
      "\n",
      "\n",
      "1.0 3(S)-hydroxy-(6Z,9Z,12Z)-octadecatrienoyl-CoA + 1.0 NAD+ --> 1.0 3-oxo-(6Z,9Z,12Z)-octadecatrienoyl-CoA + 1.0 H+ + 1.0 NADH\n",
      "\n",
      "1.0 m00697p + 1.0 m02552p --> 1.0 m00834p + 1.0 m02039p + 1.0 m02553p\n",
      "FLUX : 68.56368597493994 --- ID : HMR_3468 --- compartment : {'C_p'} \n",
      "\n",
      "---\n",
      "\n",
      "\n",
      "1.0 (3S)-3-hydroxydodec-cis-6-enoyl-CoA + 1.0 NAD+ --> 1.0 3-oxolaur-6-cis-enoyl-CoA + 1.0 H+ + 1.0 NADH\n",
      "\n",
      "1.0 m00082p + 1.0 m02552p --> 1.0 m00883p + 1.0 m02039p + 1.0 m02553p\n",
      "FLUX : 68.65031562825867 --- ID : HMR_3319 --- compartment : {'C_p'} \n",
      "\n",
      "---\n",
      "\n",
      "\n",
      "1.0 H+ + 1.0 NADH + 1.0 pyruvate --> 1.0 L-lactate + 1.0 NAD+\n",
      "\n",
      "1.0 m02039p + 1.0 m02553p + 1.0 m02819p --> 1.0 m02403p + 1.0 m02552p\n",
      "FLUX : 678.3950758892516 --- ID : HMR_4281 --- compartment : {'C_p'} \n",
      "\n",
      "---\n",
      "\n",
      "\n",
      "1.0 3(S)-hydroxy-hexacosenoyl-CoA + 1.0 NAD+ --> 1.0 3-oxo-hexacosenoyl-CoA + 1.0 H+ + 1.0 NADH\n",
      "\n",
      "1.0 m00715p + 1.0 m02552p --> 1.0 m00879p + 1.0 m02039p + 1.0 m02553p\n",
      "FLUX : 1.2449570677160335e-19 --- ID : HMR_3328 --- compartment : {'C_p'} \n",
      "\n",
      "---\n",
      "\n",
      "\n",
      "1.0 H2O + 1.0 trans,cis-2,17-hexacosadienoyl-CoA --> 1.0 3(S)-hydroxy-hexacosenoyl-CoA\n",
      "\n",
      "1.0 m02040p + 1.0 m03016p --> 1.0 m00715p\n",
      "FLUX : 1.2449570677160332e-19 --- ID : HMR_3327 --- compartment : {'C_p'} \n",
      "\n",
      "---\n",
      "\n",
      "\n",
      "1.0 (2E)-decenoyl-CoA + 1.0 H2O --> 1.0 (S)-hydroxydecanoyl-CoA\n",
      "\n",
      "1.0 m00039p + 1.0 m02040p --> 1.0 m00181p\n",
      "FLUX : 68.65031562825864 --- ID : HMR_3091 --- compartment : {'C_p'} \n",
      "\n",
      "---\n",
      "\n",
      "\n",
      "1.0 (2E)-decenoyl-CoA <-- 1.0 trans-3-decenoyl-CoA\n",
      "\n",
      "1.0 m00039p <-- 1.0 m03035p\n",
      "FLUX : -68.65031562825867 --- ID : HMR_3323 --- compartment : {'C_p'} \n",
      "\n",
      "---\n",
      "\n",
      "\n",
      "1.0 2-trans-4-cis-decadienoyl-CoA + 1.0 NAD+ --> 1.0 H+ + 1.0 NADH + 1.0 trans-3-decenoyl-CoA\n",
      "\n",
      "1.0 m00678p + 1.0 m02552p --> 1.0 m02039p + 1.0 m02553p + 1.0 m03035p\n",
      "FLUX : 68.65031562825867 --- ID : HMR_3322 --- compartment : {'C_p'} \n",
      "\n",
      "---\n",
      "\n",
      "\n",
      "1.0 4-cis-decenoyl-CoA --> 1.0 2-trans-4-cis-decadienoyl-CoA + 2.0 H+\n",
      "\n",
      "1.0 m00980p --> 1.0 m00678p + 2.0 m02039p\n",
      "FLUX : 68.65031562825867 --- ID : HMR_3321 --- compartment : {'C_p'} \n",
      "\n",
      "---\n",
      "\n",
      "\n",
      "1.0 3-oxolaur-6-cis-enoyl-CoA + 1.0 CoA --> 1.0 4-cis-decenoyl-CoA + 1.0 acetyl-CoA\n",
      "\n",
      "1.0 m00883p + 1.0 m01597p --> 1.0 m00980p + 1.0 m01261p\n",
      "FLUX : 68.65031562825867 --- ID : HMR_3320 --- compartment : {'C_p'} \n",
      "\n",
      "---\n",
      "\n",
      "\n",
      "1.0 3-oxooleoyl-CoA + 1.0 CoA --> 1.0 7-hexadecenoyl-CoA + 1.0 acetyl-CoA\n",
      "\n",
      "1.0 m00893p + 1.0 m01597p --> 1.0 m01191p + 1.0 m01261p\n",
      "FLUX : 1.2449570677160347e-19 --- ID : HMR_3345 --- compartment : {'C_p'} \n",
      "\n",
      "---\n",
      "\n",
      "\n",
      "1.0 (S)-3-hydroxyoleyleoyl-CoA + 1.0 NAD+ --> 1.0 3-oxooleoyl-CoA + 1.0 H+ + 1.0 NADH\n",
      "\n",
      "1.0 m00176p + 1.0 m02552p --> 1.0 m00893p + 1.0 m02039p + 1.0 m02553p\n",
      "FLUX : 1.2449570677160344e-19 --- ID : HMR_3344 --- compartment : {'C_p'} \n",
      "\n",
      "---\n",
      "\n",
      "\n",
      "1.0 3-hydroxyeicosanoyl-CoA + 1.0 NAD+ --> 1.0 3-oxoeicosanoyl-CoA + 1.0 H+ + 1.0 NADH\n",
      "\n",
      "1.0 m00777p + 1.0 m02552p --> 1.0 m00872p + 1.0 m02039p + 1.0 m02553p\n",
      "FLUX : 0.8058758281491694 --- ID : HMR_3072 --- compartment : {'C_p'} \n",
      "\n",
      "---\n",
      "\n",
      "\n",
      "1.0 (S)-hydroxydecanoyl-CoA + 1.0 NAD+ --> 1.0 3-oxodecanoyl-CoA + 1.0 H+ + 1.0 NADH\n",
      "\n",
      "1.0 m00181p + 1.0 m02552p --> 1.0 m00858p + 1.0 m02039p + 1.0 m02553p\n",
      "FLUX : 68.65031562825865 --- ID : HMR_3092 --- compartment : {'C_p'} \n",
      "\n",
      "---\n",
      "\n",
      "\n",
      "1.0 (3S)-3-hydroxy-cis,cis-palmito-7,10-dienoyl-CoA + 1.0 NAD+ --> 1.0 3-oxo-cis,cis-7,10-hexadecadienoyl-CoA + 1.0 H+ + 1.0 NADH\n",
      "\n",
      "1.0 m00081p + 1.0 m02552p --> 1.0 m00855p + 1.0 m02039p + 1.0 m02553p\n",
      "FLUX : 68.65031562825867 --- ID : HMR_3309 --- compartment : {'C_p'} \n",
      "\n",
      "---\n",
      "\n",
      "\n",
      "1.0 3(S)-hydroxy-11-cis-eicosenoyl-CoA + 1.0 NAD+ --> 1.0 3-oxo-11-cis-eicosenoyl-CoA + 1.0 H+ + 1.0 NADH\n",
      "\n",
      "1.0 m00700p + 1.0 m02552p --> 1.0 m00840p + 1.0 m02039p + 1.0 m02553p\n",
      "FLUX : 1.2449570677160342e-19 --- ID : HMR_3340 --- compartment : {'C_p'} \n",
      "\n",
      "---\n",
      "\n",
      "\n",
      "1.0 H2O + 1.0 trans,cis-2,11-eicosadienoyl-CoA --> 1.0 3(S)-hydroxy-11-cis-eicosenoyl-CoA\n",
      "\n",
      "1.0 m02040p + 1.0 m03012p --> 1.0 m00700p\n",
      "FLUX : 1.2449570677160342e-19 --- ID : HMR_3339 --- compartment : {'C_p'} \n",
      "\n",
      "---\n",
      "\n",
      "\n",
      "1.0 (2E)-hexacosenoyl-CoA + 1.0 H2O --> 1.0 3-hydroxyhexacosanoyl-CoA\n",
      "\n",
      "1.0 m00049p + 1.0 m02040p --> 1.0 m00783p\n",
      "FLUX : 0.18582522830692252 --- ID : HMR_3058 --- compartment : {'C_p'} \n",
      "\n",
      "---\n",
      "\n",
      "\n",
      "1.0 hexacosanoyl-CoA + 1.0 O2 --> 1.0 (2E)-hexacosenoyl-CoA + 1.0 H2O2\n",
      "\n",
      "1.0 m02110p + 1.0 m02630p --> 1.0 m00049p + 1.0 m02041p\n",
      "FLUX : 0.18582522830692258 --- ID : HMR_3057 --- compartment : {'C_p'} \n",
      "\n",
      "---\n",
      "\n",
      "\n",
      "1.0 hexacosanoyl-CoA --> 1.0 hexacosanoyl-CoA\n",
      "\n",
      "1.0 m02110c --> 1.0 m02110p\n",
      "FLUX : 0.18582522830692255 --- ID : HMR_3022 --- compartment : {'C_c', 'C_p'} \n",
      "\n",
      "---\n",
      "\n",
      "\n",
      "1.0 (15Z)-tetracosenoyl-CoA + 1.0 O2 --> 1.0 H2O2 + 1.0 trans,cis-2,15-tetracosadienoyl-CoA\n",
      "\n",
      "1.0 m00025p + 1.0 m02630p --> 1.0 m02041p + 1.0 m03015p\n",
      "FLUX : 1.2449570677160337e-19 --- ID : HMR_3330 --- compartment : {'C_p'} \n",
      "\n",
      "---\n",
      "\n",
      "\n",
      "1.0 3-oxo-hexacosenoyl-CoA + 1.0 CoA --> 1.0 (15Z)-tetracosenoyl-CoA + 1.0 acetyl-CoA\n",
      "\n",
      "1.0 m00879p + 1.0 m01597p --> 1.0 m00025p + 1.0 m01261p\n",
      "FLUX : 1.2449570677160335e-19 --- ID : HMR_3329 --- compartment : {'C_p'} \n",
      "\n",
      "---\n",
      "\n",
      "\n",
      "1.0 CoA + 1.0 O-propanoylcarnitine <-- 1.0 L-carnitine + 1.0 propanoyl-CoA\n",
      "\n",
      "1.0 m01597p + 1.0 m02657p <-- 1.0 m02348p + 1.0 m02774p\n",
      "FLUX : -263.08385357879587 --- ID : HMR_3037 --- compartment : {'C_p'} \n",
      "\n",
      "---\n",
      "\n",
      "\n",
      "1.0 3-oxolinoleoyl-CoA + 1.0 CoA --> 1.0 acetyl-CoA + 1.0 cis,cis-palmito-7,10-dienoyl-CoA\n",
      "\n",
      "1.0 m00884p + 1.0 m01597p --> 1.0 m01261p + 1.0 m01577p\n",
      "FLUX : 0.0866296533187412 --- ID : HMR_3305 --- compartment : {'C_p'} \n",
      "\n",
      "---\n",
      "\n",
      "\n",
      "1.0 (3S)-3-hydroxylinoleoyl-CoA + 1.0 NAD+ --> 1.0 3-oxolinoleoyl-CoA + 1.0 H+ + 1.0 NADH\n",
      "\n",
      "1.0 m00083p + 1.0 m02552p --> 1.0 m00884p + 1.0 m02039p + 1.0 m02553p\n",
      "FLUX : 0.08662965331874121 --- ID : HMR_3304 --- compartment : {'C_p'} \n",
      "\n",
      "---\n",
      "\n",
      "\n",
      "1.0 H2O + 1.0 trans,cis,cis-2,9,12-octadecatrienoyl-CoA --> 1.0 (3S)-3-hydroxylinoleoyl-CoA\n",
      "\n",
      "1.0 m02040p + 1.0 m03010p --> 1.0 m00083p\n",
      "FLUX : 0.08662965331874121 --- ID : HMR_3302 --- compartment : {'C_p'} \n",
      "\n",
      "---\n",
      "\n",
      "\n",
      "1.0 linoleoyl-CoA + 1.0 O2 --> 1.0 H2O2 + 1.0 trans,cis,cis-2,9,12-octadecatrienoyl-CoA\n",
      "\n",
      "1.0 m02391p + 1.0 m02630p --> 1.0 m02041p + 1.0 m03010p\n",
      "FLUX : 0.08662965331874121 --- ID : HMR_3301 --- compartment : {'C_p'} \n",
      "\n",
      "---\n",
      "\n",
      "\n",
      "1.0 hexacosenoyl-CoA + 1.0 O2 --> 1.0 H2O2 + 1.0 trans,cis-2,17-hexacosadienoyl-CoA\n",
      "\n",
      "1.0 m02112p + 1.0 m02630p --> 1.0 m02041p + 1.0 m03016p\n",
      "FLUX : 1.2449570677160332e-19 --- ID : HMR_3326 --- compartment : {'C_p'} \n",
      "\n",
      "---\n",
      "\n",
      "\n",
      "1.0 arachidonyl-CoA + 1.0 O2 --> 1.0 2-trans-cis,cis,cis,cis-4,8,11,14-eicosapentaenoyl-CoA + 1.0 H2O2\n",
      "\n",
      "1.0 m01364p + 1.0 m02630p --> 1.0 m00682p + 1.0 m02041p\n",
      "FLUX : 68.56368597493993 --- ID : HMR_3459 --- compartment : {'C_p'} \n",
      "\n",
      "---\n",
      "\n",
      "\n",
      "1.0 (11Z)-eicosenoyl-CoA + 1.0 O2 --> 1.0 H2O2 + 1.0 trans,cis-2,11-eicosadienoyl-CoA\n",
      "\n",
      "1.0 m00007p + 1.0 m02630p --> 1.0 m02041p + 1.0 m03012p\n",
      "FLUX : 1.2449570677160342e-19 --- ID : HMR_3338 --- compartment : {'C_p'} \n",
      "\n",
      "---\n",
      "\n",
      "\n",
      "1.0 cis,cis-myristo-5,8-dienoyl-CoA + 1.0 O2 --> 1.0 H2O2 + 1.0 trans-2-cis,cis-5,8-tetradecatrienoyl-CoA\n",
      "\n",
      "1.0 m01576p + 1.0 m02630p --> 1.0 m02041p + 1.0 m03030p\n",
      "FLUX : 68.65031562825867 --- ID : HMR_3311 --- compartment : {'C_p'} \n",
      "\n",
      "---\n",
      "\n",
      "\n",
      "1.0 3-oxo-cis,cis-7,10-hexadecadienoyl-CoA + 1.0 CoA --> 1.0 acetyl-CoA + 1.0 cis,cis-myristo-5,8-dienoyl-CoA\n",
      "\n",
      "1.0 m00855p + 1.0 m01597p --> 1.0 m01261p + 1.0 m01576p\n",
      "FLUX : 68.65031562825867 --- ID : HMR_3310 --- compartment : {'C_p'} \n",
      "\n",
      "---\n",
      "\n",
      "\n",
      "1.0 3-oxotetradecanoyl-CoA + 1.0 CoA <-- 1.0 acetyl-CoA + 1.0 lauroyl-CoA\n",
      "\n",
      "1.0 m00906p + 1.0 m01597p <-- 1.0 m01261p + 1.0 m02345p\n",
      "FLUX : -1.2449570677160347e-19 --- ID : HMR_3085 --- compartment : {'C_p'} \n",
      "\n",
      "---\n",
      "\n",
      "\n",
      "1.0 3-oxomyrist-5-enoyl-CoA + 1.0 CoA --> 1.0 (3Z)-dodecenoyl-CoA + 1.0 acetyl-CoA\n",
      "\n",
      "1.0 m00885p + 1.0 m01597p --> 1.0 m00088p + 1.0 m01261p\n",
      "FLUX : 1.2449570677160347e-19 --- ID : HMR_3353 --- compartment : {'C_p'} \n",
      "\n",
      "---\n",
      "\n",
      "\n",
      "1.0 3-oxo-cis-15-tetracosaenoyl-CoA + 1.0 CoA --> 1.0 (13Z)-docosenoyl-CoA + 1.0 acetyl-CoA\n",
      "\n",
      "1.0 m00856p + 1.0 m01597p --> 1.0 m00016p + 1.0 m01261p\n",
      "FLUX : 1.2449570677160337e-19 --- ID : HMR_3333 --- compartment : {'C_p'} \n",
      "\n",
      "---\n",
      "\n",
      "\n",
      "1.0 3(S)-hydroxy-cis-15-tetracosaenoyl-CoA + 1.0 NAD+ --> 1.0 3-oxo-cis-15-tetracosaenoyl-CoA + 1.0 H+ + 1.0 NADH\n",
      "\n",
      "1.0 m00709p + 1.0 m02552p --> 1.0 m00856p + 1.0 m02039p + 1.0 m02553p\n",
      "FLUX : 1.2449570677160337e-19 --- ID : HMR_3332 --- compartment : {'C_p'} \n",
      "\n",
      "---\n",
      "\n",
      "\n",
      "1.0 3-hydroxyhexacosanoyl-CoA + 1.0 NAD+ --> 1.0 3-oxohexacosanoyl-CoA + 1.0 H+ + 1.0 NADH\n",
      "\n",
      "1.0 m00783p + 1.0 m02552p --> 1.0 m00878p + 1.0 m02039p + 1.0 m02553p\n",
      "FLUX : 0.18582522830692258 --- ID : HMR_3059 --- compartment : {'C_p'} \n",
      "\n",
      "---\n",
      "\n",
      "\n",
      "1.0 3-hydroxyoctadecanoyl-CoA + 1.0 NAD+ --> 1.0 3-oxooctadecanoyl-CoA + 1.0 H+ + 1.0 NADH\n",
      "\n",
      "1.0 m00793p + 1.0 m02552p --> 1.0 m00890p + 1.0 m02039p + 1.0 m02553p\n",
      "FLUX : 0.8058758281491696 --- ID : HMR_3076 --- compartment : {'C_p'} \n",
      "\n",
      "---\n",
      "\n",
      "\n",
      "1.0 3-oxooctadecanoyl-CoA + 1.0 CoA --> 1.0 acetyl-CoA + 1.0 palmitoyl-CoA\n",
      "\n",
      "1.0 m00890p + 1.0 m01597p --> 1.0 m01261p + 1.0 m02678p\n",
      "FLUX : 0.8058758281491695 --- ID : HMR_3077 --- compartment : {'C_p'} \n",
      "\n",
      "---\n",
      "\n",
      "\n",
      "1.0 (4Z,7Z,10Z)-hexadecatrienoyl-CoA + 1.0 acetyl-CoA <-- 1.0 3-oxo-(6Z,9Z,12Z)-octadecatrienoyl-CoA + 1.0 CoA\n",
      "\n",
      "1.0 m00091p + 1.0 m01261p <-- 1.0 m00834p + 1.0 m01597p\n",
      "FLUX : -68.56368597493994 --- ID : HMR_3469 --- compartment : {'C_p'} \n",
      "\n",
      "---\n",
      "\n",
      "\n",
      "1.0 (4Z,7Z,10Z)-hexadecatrienoyl-CoA + 1.0 O2 --> 1.0 (2E,4Z,7Z,10Z)-hexadecatetraenoyl-CoA + 1.0 H2O2\n",
      "\n",
      "1.0 m00091p + 1.0 m02630p --> 1.0 m00072p + 1.0 m02041p\n",
      "FLUX : 68.56368597493994 --- ID : HMR_3470 --- compartment : {'C_p'} \n",
      "\n",
      "---\n",
      "\n",
      "\n",
      "1.0 7-hexadecenoyl-CoA + 1.0 O2 --> 1.0 H2O2 + 1.0 trans,cis-hexadeca-2,7-dienoyl-CoA\n",
      "\n",
      "1.0 m01191p + 1.0 m02630p --> 1.0 m02041p + 1.0 m03019p\n",
      "FLUX : 1.2449570677160344e-19 --- ID : HMR_3346 --- compartment : {'C_p'} \n",
      "\n",
      "---\n",
      "\n",
      "\n",
      "1.0 lauroyl-CoA + 1.0 O2 <-- 1.0 (2E)-dodecenoyl-CoA + 1.0 H2O2\n",
      "\n",
      "1.0 m02345p + 1.0 m02630p <-- 1.0 m00042p + 1.0 m02041p\n",
      "FLUX : -1.244957067716035e-19 --- ID : HMR_3086 --- compartment : {'C_p'} \n",
      "\n",
      "---\n",
      "\n",
      "\n",
      "1.0 (13Z)-docosenoyl-CoA + 1.0 O2 --> 1.0 H2O2 + 1.0 trans,cis-2,13-docosadienoyl-CoA\n",
      "\n",
      "1.0 m00016p + 1.0 m02630p --> 1.0 m02041p + 1.0 m03013p\n",
      "FLUX : 1.2449570677160337e-19 --- ID : HMR_3334 --- compartment : {'C_p'} \n",
      "\n",
      "---\n",
      "\n",
      "\n",
      "1.0 cis,cis-palmito-7,10-dienoyl-CoA + 1.0 O2 --> 1.0 H2O2 + 1.0 trans,cis,cis-2,7,10-hexadecatrienoyl-CoA\n",
      "\n",
      "1.0 m01577p + 1.0 m02630p --> 1.0 m02041p + 1.0 m03009p\n",
      "FLUX : 0.08662965331874121 --- ID : HMR_3306 --- compartment : {'C_p'} \n",
      "\n",
      "---\n",
      "\n",
      "\n",
      "1.0 (3Z,7Z,10Z)-hexadecatrienoyl-CoA --> 1.0 trans,cis,cis-2,7,10-hexadecatrienoyl-CoA\n",
      "\n",
      "1.0 m00089p --> 1.0 m03009p\n",
      "FLUX : 68.56368597493993 --- ID : HMR_3472 --- compartment : {'C_p'} \n",
      "\n",
      "---\n",
      "\n",
      "\n",
      "1.0 (2E,4Z,7Z,10Z)-hexadecatetraenoyl-CoA + 1.0 H+ + 1.0 NADPH --> 1.0 (3Z,7Z,10Z)-hexadecatrienoyl-CoA + 1.0 NADP+\n",
      "\n",
      "1.0 m00072p + 1.0 m02039p + 1.0 m02555p --> 1.0 m00089p + 1.0 m02554p\n",
      "FLUX : 68.56368597493993 --- ID : HMR_3471 --- compartment : {'C_p'} \n",
      "\n",
      "---\n",
      "\n",
      "\n",
      "1.0 2-trans-cis,cis,cis,cis-4,8,11,14-eicosapentaenoyl-CoA + 1.0 H+ + 1.0 NADPH --> 1.0 NADP+ + 1.0 trans-3-cis-8,11,14-eicosatetraenoyl-CoA\n",
      "\n",
      "1.0 m00682p + 1.0 m02039p + 1.0 m02555p --> 1.0 m02554p + 1.0 m03034p\n",
      "FLUX : 68.56368597493992 --- ID : HMR_3461 --- compartment : {'C_p'} \n",
      "\n",
      "---\n",
      "\n",
      "\n",
      "1.0 NADPH --> 1.0 NADPH\n",
      "\n",
      "1.0 m02555c --> 1.0 m02555p\n",
      "FLUX : 137.30063125651748 --- ID : HMR_7779 --- compartment : {'C_c', 'C_p'} \n",
      "\n",
      "---\n",
      "\n",
      "\n",
      "1.0 NADP+ --> 1.0 NADP+\n",
      "\n",
      "1.0 m02554p --> 1.0 m02554c\n",
      "FLUX : 137.30063125651748 --- ID : HMR_7777 --- compartment : {'C_c', 'C_p'} \n",
      "\n",
      "---\n",
      "\n",
      "\n",
      "1.0 trans-3-cis-8,11,14-eicosatetraenoyl-CoA --> 1.0 trans-2-cis,cis,cis-8,11,14-eicosatetraenoyl-CoA\n",
      "\n",
      "1.0 m03034p --> 1.0 m03029p\n",
      "FLUX : 68.56368597493992 --- ID : HMR_3462 --- compartment : {'C_p'} \n",
      "\n",
      "---\n",
      "\n",
      "\n",
      "1.0 (2E)-dodecenoyl-CoA <-- 1.0 (3Z)-dodecenoyl-CoA\n",
      "\n",
      "1.0 m00042p <-- 1.0 m00088p\n",
      "FLUX : -1.244957067716035e-19 --- ID : HMR_3355 --- compartment : {'C_p'} \n",
      "\n",
      "---\n",
      "\n",
      "\n",
      "1.0 3-oxodecanoyl-CoA + 1.0 CoA --> 1.0 acetyl-CoA + 1.0 octanoyl-CoA\n",
      "\n",
      "1.0 m00858p + 1.0 m01597p --> 1.0 m01261p + 1.0 m02644p\n",
      "FLUX : 68.65031562825865 --- ID : HMR_3093 --- compartment : {'C_p'} \n",
      "\n",
      "---\n",
      "\n",
      "\n",
      "1.0 3-oxo-11-cis-eicosenoyl-CoA + 1.0 CoA --> 1.0 acetyl-CoA + 1.0 oleoyl-CoA\n",
      "\n",
      "1.0 m00840p + 1.0 m01597p --> 1.0 m01261p + 1.0 m02647p\n",
      "FLUX : 1.2449570677160342e-19 --- ID : HMR_3341 --- compartment : {'C_p'} \n",
      "\n",
      "---\n",
      "\n",
      "\n",
      "1.0 3-oxohexacosanoyl-CoA + 1.0 CoA --> 1.0 acetyl-CoA + 1.0 tetracosanoyl-CoA\n",
      "\n",
      "1.0 m00878p + 1.0 m01597p --> 1.0 m01261p + 1.0 m02971p\n",
      "FLUX : 0.18582522830692255 --- ID : HMR_3060 --- compartment : {'C_p'} \n",
      "\n",
      "---\n",
      "\n",
      "\n",
      "1.0 3-oxoeicosanoyl-CoA + 1.0 CoA --> 1.0 acetyl-CoA + 1.0 stearoyl-CoA\n",
      "\n",
      "1.0 m00872p + 1.0 m01597p --> 1.0 m01261p + 1.0 m02941p\n",
      "FLUX : 0.8058758281491694 --- ID : HMR_3073 --- compartment : {'C_p'} \n",
      "\n",
      "---\n",
      "\n",
      "\n",
      "1.0 tetracosanoyl-CoA --> 1.0 tetracosanoyl-CoA\n",
      "\n",
      "1.0 m02971c --> 1.0 m02971p\n",
      "FLUX : 0.6200505998422464 --- ID : HMR_3019 --- compartment : {'C_c', 'C_p'} \n",
      "\n",
      "---\n",
      "\n",
      "\n",
      "1.0 palmitate --> 1.0 palmitate\n",
      "\n",
      "1.0 m02674p --> 1.0 m02674c\n",
      "FLUX : 83.4904234500823 --- ID : HMR_9678 --- compartment : {'C_c', 'C_p'} \n",
      "\n",
      "---\n",
      "\n",
      "\n",
      "1.0 palmitate --> 1.0 palmitate\n",
      "\n",
      "1.0 m02674s --> 1.0 m02674c\n",
      "FLUX : 182.93294580823874 --- ID : HMR_0216 --- compartment : {'C_c', 'C_s'} \n",
      "\n",
      "---\n",
      "\n",
      "\n",
      "1.0 tetraHCA --> 1.0 tetraHCA\n",
      "\n",
      "1.0 m02977m --> 1.0 m02977c\n",
      "FLUX : 194.5201676038561 --- ID : HMR_1752 --- compartment : {'C_c', 'C_m'} \n",
      "\n",
      "---\n",
      "\n",
      "\n",
      "1.0 IMP + 1.0 PPi --> 1.0 hypoxanthine + 1.0 PRPP\n",
      "\n",
      "1.0 m02167c + 1.0 m02759c --> 1.0 m02159c + 1.0 m02806c\n",
      "FLUX : 834.1899174463375 --- ID : HMR_4418 --- compartment : {'C_c'} \n",
      "\n",
      "---\n",
      "\n",
      "\n",
      "1.0 GSH --> 1.0 GSH\n",
      "\n",
      "1.0 m02026x --> 1.0 m02026s\n",
      "FLUX : 194.52016760385612 --- ID : HMR_9351 --- compartment : {'C_s', 'C_x'} \n",
      "\n",
      "---\n",
      "\n",
      "\n",
      "1.0 GSH --> \n",
      "\n",
      "1.0 m02026x --> \n",
      "FLUX : -194.52016760385615 --- ID : EX_m02026x --- compartment : {'C_x'} \n",
      "\n",
      "---\n",
      "\n",
      "\n",
      "1.0 HCO3- <-- 1.0 HCO3-\n",
      "\n",
      "1.0 m02046x <-- 1.0 m02046s\n",
      "FLUX : -995.6115682683592 --- ID : HMR_9078 --- compartment : {'C_s', 'C_x'} \n",
      "\n",
      "---\n",
      "\n",
      "\n",
      "1.0 HCO3- <-- \n",
      "\n",
      "1.0 m02046x <-- \n",
      "FLUX : 995.6115682683591 --- ID : EX_m02046x --- compartment : {'C_x'} \n",
      "\n",
      "---\n",
      "\n",
      "\n",
      "1.0 thyroxine --> 1.0 thyroxine\n",
      "\n",
      "1.0 m02998c --> 1.0 m02998s\n",
      "FLUX : 190.13173587221547 --- ID : HMR_6055 --- compartment : {'C_c', 'C_s'} \n",
      "\n",
      "---\n",
      "\n",
      "\n",
      "1.0 SAH <-- 1.0 SAH\n",
      "\n",
      "1.0 m02871c <-- 1.0 m02871n\n",
      "FLUX : -27.071766662130514 --- ID : HMR_7767 --- compartment : {'C_c', 'C_n'} \n",
      "\n",
      "---\n",
      "\n",
      "\n",
      "1.0 glutamate <-- 1.0 glutamate\n",
      "\n",
      "1.0 m01974x <-- 1.0 m01974s\n",
      "FLUX : -513.5358833310659 --- ID : HMR_9071 --- compartment : {'C_s', 'C_x'} \n",
      "\n",
      "---\n",
      "\n",
      "\n",
      "1.0 glutamate <-- \n",
      "\n",
      "1.0 m01974x <-- \n",
      "FLUX : 513.5358833310659 --- ID : EX_m01974x --- compartment : {'C_x'} \n",
      "\n",
      "---\n",
      "\n",
      "\n",
      "1.0 THF --> 1.0 THF\n",
      "\n",
      "1.0 m02980x --> 1.0 m02980s\n",
      "FLUX : 4.950373268435344e-15 --- ID : HMR_9421 --- compartment : {'C_s', 'C_x'} \n",
      "\n",
      "---\n",
      "\n",
      "\n",
      "1.0 spermine dialdehyde <-- 1.0 spermine dialdehyde\n",
      "\n",
      "1.0 m02924x <-- 1.0 m02924s\n",
      "FLUX : -1.0397490242239348e-13 --- ID : HMR_9692 --- compartment : {'C_s', 'C_x'} \n",
      "\n",
      "---\n",
      "\n",
      "\n",
      "1.0 spermine dialdehyde <-- \n",
      "\n",
      "1.0 m02924x <-- \n",
      "FLUX : 1.0397490242239346e-13 --- ID : EX_m02924x --- compartment : {'C_x'} \n",
      "\n",
      "---\n",
      "\n",
      "\n",
      "1.0 LTD4 --> 1.0 LTD4\n",
      "\n",
      "1.0 m02418x --> 1.0 m02418s\n",
      "FLUX : 10.828706664851952 --- ID : HMR_9367 --- compartment : {'C_s', 'C_x'} \n",
      "\n",
      "---\n",
      "\n",
      "\n",
      "1.0 LTD4 --> \n",
      "\n",
      "1.0 m02418x --> \n",
      "FLUX : -10.828706664851953 --- ID : EX_m02418x --- compartment : {'C_x'} \n",
      "\n",
      "---\n",
      "\n",
      "\n",
      "1.0 leukotriene E4 <-- 1.0 leukotriene E4\n",
      "\n",
      "1.0 m02369x <-- 1.0 m02369s\n",
      "FLUX : -10.828706664851953 --- ID : HMR_9368 --- compartment : {'C_s', 'C_x'} \n",
      "\n",
      "---\n",
      "\n",
      "\n",
      "1.0 leukotriene E4 <-- \n",
      "\n",
      "1.0 m02369x <-- \n",
      "FLUX : 10.828706664851966 --- ID : EX_m02369x --- compartment : {'C_x'} \n",
      "\n",
      "---\n",
      "\n",
      "\n",
      "1.0 ethanolamine --> 1.0 ethanolamine\n",
      "\n",
      "1.0 m01797c --> 1.0 m01797s\n",
      "FLUX : 269.191020144035 --- ID : HMR_7896 --- compartment : {'C_c', 'C_s'} \n",
      "\n",
      "---\n",
      "\n",
      "\n",
      "1.0 ethanolamine <-- 1.0 ethanolamine\n",
      "\n",
      "1.0 m01797x <-- 1.0 m01797s\n",
      "FLUX : -269.191020144035 --- ID : HMR_9084 --- compartment : {'C_s', 'C_x'} \n",
      "\n",
      "---\n",
      "\n",
      "\n",
      "1.0 ethanolamine <-- \n",
      "\n",
      "1.0 m01797x <-- \n",
      "FLUX : 269.191020144035 --- ID : EX_m01797x --- compartment : {'C_x'} \n",
      "\n",
      "---\n",
      "\n",
      "\n",
      "1.0 glycerol <-- 1.0 glycerol\n",
      "\n",
      "1.0 m01983c <-- 1.0 m01983s\n",
      "FLUX : -53.997345784285514 --- ID : HMR_0444 --- compartment : {'C_c', 'C_s'} \n",
      "\n",
      "---\n",
      "\n",
      "\n",
      "1.0 glycerol --> 1.0 glycerol\n",
      "\n",
      "1.0 m01983c --> 1.0 m01983m\n",
      "FLUX : 81.21529998639154 --- ID : HMR_0446 --- compartment : {'C_c', 'C_m'} \n",
      "\n",
      "---\n",
      "\n",
      "\n",
      "1.0 glycerol --> 1.0 glycerol\n",
      "\n",
      "1.0 m01983x --> 1.0 m01983s\n",
      "FLUX : 53.99734578428551 --- ID : HMR_9085 --- compartment : {'C_s', 'C_x'} \n",
      "\n",
      "---\n",
      "\n",
      "\n",
      "1.0 glycerol --> \n",
      "\n",
      "1.0 m01983x --> \n",
      "FLUX : -53.99734578428551 --- ID : EX_m01983x --- compartment : {'C_x'} \n",
      "\n",
      "---\n",
      "\n",
      "\n",
      "1.0 ribose-5-phosphate --> 1.0 ribulose-5-phosphate\n",
      "\n",
      "1.0 m02845c --> 1.0 m02846c\n",
      "FLUX : 27.432723550959654 --- ID : HMR_4352 --- compartment : {'C_c'} \n",
      "\n",
      "---\n",
      "\n",
      "\n",
      "1.0 CO2 <-- 1.0 CO2\n",
      "\n",
      "1.0 m01596c <-- 1.0 m01596m\n",
      "FLUX : -220.16056063631441 --- ID : HMR_4922 --- compartment : {'C_c', 'C_m'} \n",
      "\n",
      "---\n",
      "\n",
      "\n",
      "1.0 11-cis-retinol --> 1.0 retinol\n",
      "\n",
      "1.0 m00291c --> 1.0 m02834c\n",
      "FLUX : 215.78522167417438 --- ID : HMR_8711 --- compartment : {'C_c'} \n",
      "\n",
      "---\n",
      "\n",
      "\n",
      "1.0 (R)-3-hydroxybutanoate <-- 1.0 (R)-3-hydroxybutanoate\n",
      "\n",
      "1.0 m00157x <-- 1.0 m00157s\n",
      "FLUX : -951.5057201463662 --- ID : HMR_9134 --- compartment : {'C_s', 'C_x'} \n",
      "\n",
      "---\n",
      "\n",
      "\n",
      "1.0 (R)-3-hydroxybutanoate <-- \n",
      "\n",
      "1.0 m00157x <-- \n",
      "FLUX : 951.5057201463663 --- ID : EX_m00157x --- compartment : {'C_x'} \n",
      "\n",
      "---\n",
      "\n",
      "\n",
      "1.0 retinoate --> 1.0 retinoate\n",
      "\n",
      "1.0 m02833x --> 1.0 m02833s\n",
      "FLUX : 4.791394429530236e-14 --- ID : HMR_9404 --- compartment : {'C_s', 'C_x'} \n",
      "\n",
      "---\n",
      "\n",
      "\n",
      "1.0 retinoate --> \n",
      "\n",
      "1.0 m02833x --> \n",
      "FLUX : -4.791394429530236e-14 --- ID : EX_m02833x --- compartment : {'C_x'} \n",
      "\n",
      "---\n",
      "\n",
      "\n",
      "1.0 H+ <-- 1.0 H+\n",
      "\n",
      "1.0 m02039x <-- 1.0 m02039s\n",
      "FLUX : -187.56900850653517 --- ID : HMR_9079 --- compartment : {'C_s', 'C_x'} \n",
      "\n",
      "---\n",
      "\n",
      "\n",
      "1.0 H+ <-- \n",
      "\n",
      "1.0 m02039x <-- \n",
      "FLUX : 187.56900850653517 --- ID : EX_m02039x --- compartment : {'C_x'} \n",
      "\n",
      "---\n",
      "\n",
      "\n",
      "1.0 protoporphyrin --> 1.0 protoporphyrin\n",
      "\n",
      "1.0 m02803c --> 1.0 m02803m\n",
      "FLUX : 13.76003503976965 --- ID : HMR_4756 --- compartment : {'C_c', 'C_m'} \n",
      "\n",
      "---\n",
      "\n",
      "\n",
      "1.0 heme <-- 1.0 heme\n",
      "\n",
      "1.0 m02049c <-- 1.0 m02049m\n",
      "FLUX : -13.76003503976965 --- ID : HMR_4760 --- compartment : {'C_c', 'C_m'} \n",
      "\n",
      "---\n",
      "\n",
      "\n",
      "1.0 heme --> 1.0 heme\n",
      "\n",
      "1.0 m02049c --> 1.0 m02049s\n",
      "FLUX : 13.760035039769651 --- ID : HMR_7735 --- compartment : {'C_c', 'C_s'} \n",
      "\n",
      "---\n",
      "\n",
      "\n",
      "1.0 heme <-- 1.0 heme\n",
      "\n",
      "1.0 m02049x <-- 1.0 m02049s\n",
      "FLUX : -13.760035039769651 --- ID : HMR_9107 --- compartment : {'C_s', 'C_x'} \n",
      "\n",
      "---\n",
      "\n",
      "\n",
      "1.0 heme <-- \n",
      "\n",
      "1.0 m02049x <-- \n",
      "FLUX : 13.760035039769651 --- ID : EX_m02049x --- compartment : {'C_x'} \n",
      "\n",
      "---\n",
      "\n",
      "\n",
      "1.0 cholesterol --> 1.0 cholesterol\n",
      "\n",
      "1.0 m01450x --> 1.0 m01450s\n",
      "FLUX : 221.74353615929454 --- ID : HMR_9285 --- compartment : {'C_s', 'C_x'} \n",
      "\n",
      "---\n",
      "\n",
      "\n",
      "1.0 cholesterol --> \n",
      "\n",
      "1.0 m01450x --> \n",
      "FLUX : -221.74353615929454 --- ID : EX_m01450x --- compartment : {'C_x'} \n",
      "\n",
      "---\n",
      "\n",
      "\n",
      "1.0 cholesterol-ester pool <-- 1.0 cholesterol-ester pool\n",
      "\n",
      "1.0 m01451c <-- 1.0 m01451r\n",
      "FLUX : -9.188157605127099 --- ID : HMR_0020 --- compartment : {'C_c', 'C_r'} \n",
      "\n",
      "---\n",
      "\n",
      "\n",
      "1.0 cholesterol-ester pool --> 1.0 cholesterol-ester pool\n",
      "\n",
      "1.0 m01451l --> 1.0 m01451r\n",
      "FLUX : 36.25992426725761 --- ID : HMR_3597 --- compartment : {'C_r', 'C_l'} \n",
      "\n",
      "---\n",
      "\n",
      "\n",
      "1.0 cholesterol-ester pool --> 1.0 cholesterol-ester pool\n",
      "\n",
      "1.0 temp006x --> 1.0 m01451l\n",
      "FLUX : 36.2599242672576 --- ID : HMR_9736 --- compartment : {'C_x', 'C_l'} \n",
      "\n",
      "---\n",
      "\n",
      "\n",
      "1.0 cholesterol-ester pool --> \n",
      "\n",
      "1.0 temp006x --> \n",
      "FLUX : -36.2599242672576 --- ID : EX_temp006x --- compartment : {'C_x'} \n",
      "\n",
      "---\n",
      "\n",
      "\n",
      "1.0 choline <-- 1.0 choline\n",
      "\n",
      "1.0 m01513c <-- 1.0 m01513s\n",
      "FLUX : -27.412870922073385 --- ID : HMR_4954 --- compartment : {'C_c', 'C_s'} \n",
      "\n",
      "---\n",
      "\n",
      "\n",
      "1.0 choline --> 1.0 choline\n",
      "\n",
      "1.0 m01513x --> 1.0 m01513s\n",
      "FLUX : 27.412870922073385 --- ID : HMR_9083 --- compartment : {'C_s', 'C_x'} \n",
      "\n",
      "---\n",
      "\n",
      "\n",
      "1.0 choline --> \n",
      "\n",
      "1.0 m01513x --> \n",
      "FLUX : -27.412870922073388 --- ID : EX_m01513x --- compartment : {'C_x'} \n",
      "\n",
      "---\n",
      "\n",
      "\n",
      "1.0 folate <-- 1.0 folate\n",
      "\n",
      "1.0 m01830x <-- 1.0 m01830s\n",
      "FLUX : -1.5542415312690001e-13 --- ID : HMR_9146 --- compartment : {'C_s', 'C_x'} \n",
      "\n",
      "---\n",
      "\n",
      "\n",
      "1.0 folate <-- \n",
      "\n",
      "1.0 m01830x <-- \n",
      "FLUX : 1.5542415312690001e-13 --- ID : EX_m01830x --- compartment : {'C_x'} \n",
      "\n",
      "---\n",
      "\n",
      "\n",
      "1.0 beta-D-glucose <-- 1.0 glucose\n",
      "\n",
      "1.0 m01388c <-- 1.0 m01965c\n",
      "FLUX : -542.2545157984748 --- ID : HMR_7745 --- compartment : {'C_c'} \n",
      "\n",
      "---\n",
      "\n",
      "\n",
      "1.0 glucose <-- 1.0 glucose\n",
      "\n",
      "1.0 m01965c <-- 1.0 m01965s\n",
      "FLUX : -1000.0 --- ID : HMR_5029 --- compartment : {'C_c', 'C_s'} \n",
      "\n",
      "---\n",
      "\n",
      "\n",
      "1.0 glucose --> 1.0 glucose\n",
      "\n",
      "1.0 m01965x --> 1.0 m01965s\n",
      "FLUX : 999.9999999999999 --- ID : HMR_9034 --- compartment : {'C_s', 'C_x'} \n",
      "\n",
      "---\n",
      "\n",
      "\n",
      "1.0 glucose --> \n",
      "\n",
      "1.0 m01965x --> \n",
      "FLUX : -1000.0 --- ID : EX_m01965x --- compartment : {'C_x'} \n",
      "\n",
      "---\n",
      "\n",
      "\n",
      "1.0 CL pool <-- 1.0 CL pool\n",
      "\n",
      "1.0 m01589c <-- 1.0 m01589m\n",
      "FLUX : -27.071766662130514 --- ID : HMR_0587 --- compartment : {'C_c', 'C_m'} \n",
      "\n",
      "---\n",
      "\n",
      "\n",
      "1.0 1-alkyl-2-acylglycerol + 1.0 CDP-choline --> 1.0 1-radyl-2-acyl-sn-glycero-3-phosphocholine + 1.0 CMP\n",
      "\n",
      "1.0 m00514c + 1.0 m01425c --> 1.0 m00560c + 1.0 m01590c\n",
      "FLUX : 0.06497223998911325 --- ID : HMR_7600 --- compartment : {'C_c'} \n",
      "\n",
      "---\n",
      "\n",
      "\n",
      "1.0 CO2 --> 1.0 CO2\n",
      "\n",
      "1.0 m01596s --> 1.0 m01596x\n",
      "FLUX : 1000.0 --- ID : HMR_9058 --- compartment : {'C_s', 'C_x'} \n",
      "\n",
      "---\n",
      "\n",
      "\n",
      "1.0 CO2 <-- \n",
      "\n",
      "1.0 m01596x <-- \n",
      "FLUX : 1000.0000000000001 --- ID : EX_m01596x --- compartment : {'C_x'} \n",
      "\n",
      "---\n",
      "\n",
      "\n",
      "1.0 oleate --> 1.0 oleate\n",
      "\n",
      "1.0 m02646s --> 1.0 m02646c\n",
      "FLUX : 232.37260596733208 --- ID : HMR_0262 --- compartment : {'C_c', 'C_s'} \n",
      "\n",
      "---\n",
      "\n",
      "\n",
      "1.0 cytidine <-- 1.0 cytidine\n",
      "\n",
      "1.0 m01630c <-- 1.0 m01630s\n",
      "FLUX : -1.08287066648514 --- ID : HMR_5003 --- compartment : {'C_c', 'C_s'} \n",
      "\n",
      "---\n",
      "\n",
      "\n",
      "1.0 cytidine --> 1.0 cytidine\n",
      "\n",
      "1.0 m01630x --> 1.0 m01630s\n",
      "FLUX : 1.08287066648514 --- ID : HMR_9295 --- compartment : {'C_s', 'C_x'} \n",
      "\n",
      "---\n",
      "\n",
      "\n",
      "1.0 cytidine --> \n",
      "\n",
      "1.0 m01630x --> \n",
      "FLUX : -1.0828706664851397 --- ID : EX_m01630x --- compartment : {'C_x'} \n",
      "\n",
      "---\n",
      "\n",
      "\n",
      "1.0 linolenate --> 1.0 linolenate\n",
      "\n",
      "1.0 m02389s --> 1.0 m02389c\n",
      "FLUX : 0.31016097966808875 --- ID : HMR_0348 --- compartment : {'C_c', 'C_s'} \n",
      "\n",
      "---\n",
      "\n",
      "\n",
      "1.0 gamma-linolenate --> 1.0 gamma-linolenate\n",
      "\n",
      "1.0 m01932s --> 1.0 m01932c\n",
      "FLUX : 2.977545404813652 --- ID : HMR_0400 --- compartment : {'C_c', 'C_s'} \n",
      "\n",
      "---\n",
      "\n",
      "\n",
      "1.0 octanoic acid <-- 1.0 octanoic acid\n",
      "\n",
      "1.0 m02642s <-- 1.0 m02642c\n",
      "FLUX : -344.9797456455627 --- ID : HMR_0173 --- compartment : {'C_c', 'C_s'} \n",
      "\n",
      "---\n",
      "\n",
      "\n",
      "1.0 octanoic acid <-- 1.0 octanoic acid\n",
      "\n",
      "1.0 m02642x <-- 1.0 m02642s\n",
      "FLUX : -344.97974564556273 --- ID : HMR_9813 --- compartment : {'C_s', 'C_x'} \n",
      "\n",
      "---\n",
      "\n",
      "\n",
      "1.0 octanoic acid <-- \n",
      "\n",
      "1.0 m02642x <-- \n",
      "FLUX : 344.97974564556273 --- ID : EX_m02642x --- compartment : {'C_x'} \n",
      "\n",
      "---\n",
      "\n",
      "\n",
      "1.0 (5-L-glutamyl)-L-amino acid <-- 1.0 (5-L-glutamyl)-L-amino acid\n",
      "\n",
      "1.0 m00097x <-- 1.0 m00097s\n",
      "FLUX : -194.52016760385612 --- ID : HMR_9338 --- compartment : {'C_s', 'C_x'} \n",
      "\n",
      "---\n",
      "\n",
      "\n",
      "1.0 (5-L-glutamyl)-L-amino acid <-- \n",
      "\n",
      "1.0 m00097x <-- \n",
      "FLUX : 194.52016760385612 --- ID : EX_m00097x --- compartment : {'C_x'} \n",
      "\n",
      "---\n",
      "\n",
      "\n",
      "1.0 cys-gly <-- 1.0 cys-gly\n",
      "\n",
      "1.0 m01626x <-- 1.0 m01626s\n",
      "FLUX : -194.52016760385612 --- ID : HMR_9279 --- compartment : {'C_s', 'C_x'} \n",
      "\n",
      "---\n",
      "\n",
      "\n",
      "1.0 cys-gly <-- \n",
      "\n",
      "1.0 m01626x <-- \n",
      "FLUX : 194.52016760385612 --- ID : EX_m01626x --- compartment : {'C_x'} \n",
      "\n",
      "---\n",
      "\n",
      "\n",
      "1.0 histidine <-- 1.0 histidine\n",
      "\n",
      "1.0 m02125c <-- 1.0 m02125s\n",
      "FLUX : -27.07176666213051 --- ID : HMR_5070 --- compartment : {'C_c', 'C_s'} \n",
      "\n",
      "---\n",
      "\n",
      "\n",
      "1.0 histidine --> 1.0 histidine\n",
      "\n",
      "1.0 m02125x --> 1.0 m02125s\n",
      "FLUX : 27.07176666213051 --- ID : HMR_9038 --- compartment : {'C_s', 'C_x'} \n",
      "\n",
      "---\n",
      "\n",
      "\n",
      "1.0 histidine --> \n",
      "\n",
      "1.0 m02125x --> \n",
      "FLUX : -27.07176666213051 --- ID : EX_m02125x --- compartment : {'C_x'} \n",
      "\n",
      "---\n",
      "\n",
      "\n",
      "1.0 isoleucine <-- 1.0 isoleucine\n",
      "\n",
      "1.0 m02184c <-- 1.0 m02184s\n",
      "FLUX : -27.07176666213051 --- ID : HMR_5092 --- compartment : {'C_c', 'C_s'} \n",
      "\n",
      "---\n",
      "\n",
      "\n",
      "1.0 isoleucine --> 1.0 isoleucine\n",
      "\n",
      "1.0 m02184x --> 1.0 m02184s\n",
      "FLUX : 27.07176666213051 --- ID : HMR_9039 --- compartment : {'C_s', 'C_x'} \n",
      "\n",
      "---\n",
      "\n",
      "\n",
      "1.0 isoleucine --> \n",
      "\n",
      "1.0 m02184x --> \n",
      "FLUX : -27.07176666213051 --- ID : EX_m02184x --- compartment : {'C_x'} \n",
      "\n",
      "---\n",
      "\n",
      "\n",
      "1.0 leucine <-- 1.0 leucine\n",
      "\n",
      "1.0 m02360c <-- 1.0 m02360s\n",
      "FLUX : -27.07176666213051 --- ID : HMR_5085 --- compartment : {'C_c', 'C_s'} \n",
      "\n",
      "---\n",
      "\n",
      "\n",
      "1.0 leucine --> 1.0 leucine\n",
      "\n",
      "1.0 m02360x --> 1.0 m02360s\n",
      "FLUX : 27.071766662130507 --- ID : HMR_9040 --- compartment : {'C_s', 'C_x'} \n",
      "\n",
      "---\n",
      "\n",
      "\n",
      "1.0 leucine --> \n",
      "\n",
      "1.0 m02360x --> \n",
      "FLUX : -27.071766662130507 --- ID : EX_m02360x --- compartment : {'C_x'} \n",
      "\n",
      "---\n",
      "\n",
      "\n",
      "1.0 threonine --> 1.0 threonine\n",
      "\n",
      "1.0 m02993s --> 1.0 m02993c\n",
      "FLUX : 27.07176666213051 --- ID : HMR_5091 --- compartment : {'C_c', 'C_s'} \n",
      "\n",
      "---\n",
      "\n",
      "\n",
      "1.0 threonine --> 1.0 threonine\n",
      "\n",
      "1.0 m02993x --> 1.0 m02993s\n",
      "FLUX : 27.071766662130507 --- ID : HMR_9044 --- compartment : {'C_s', 'C_x'} \n",
      "\n",
      "---\n",
      "\n",
      "\n",
      "1.0 threonine --> \n",
      "\n",
      "1.0 m02993x --> \n",
      "FLUX : -27.071766662130507 --- ID : EX_m02993x --- compartment : {'C_x'} \n",
      "\n",
      "---\n",
      "\n",
      "\n",
      "1.0 biomass <-- \n",
      "\n",
      "1.0 temp001x <-- \n",
      "FLUX : 27.07176666213051 --- ID : EX_temp001x --- compartment : {'C_x'} \n",
      "\n",
      "---\n",
      "\n",
      "\n",
      "1.0 7-palmitoleic acid --> 1.0 7-palmitoleic acid\n",
      "\n",
      "1.0 m01197s --> 1.0 m01197c\n",
      "FLUX : 0.062032195933617765 --- ID : HMR_0232 --- compartment : {'C_c', 'C_s'} \n",
      "\n",
      "---\n",
      "\n",
      "\n",
      "1.0 cis-vaccenic acid --> 1.0 cis-vaccenic acid\n",
      "\n",
      "1.0 m01585s --> 1.0 m01585c\n",
      "FLUX : 0.06203219593361776 --- ID : HMR_0258 --- compartment : {'C_c', 'C_s'} \n",
      "\n",
      "---\n",
      "\n",
      "\n",
      "1.0 behenic acid --> 1.0 behenic acid\n",
      "\n",
      "1.0 m01373s --> 1.0 m01373c\n",
      "FLUX : 0.4342253715353243 --- ID : HMR_0312 --- compartment : {'C_c', 'C_s'} \n",
      "\n",
      "---\n",
      "\n",
      "\n",
      "1.0 myristic acid --> 1.0 myristic acid\n",
      "\n",
      "1.0 m02494s --> 1.0 m02494c\n",
      "FLUX : 17.555111449213825 --- ID : HMR_0195 --- compartment : {'C_c', 'C_s'} \n",
      "\n",
      "---\n",
      "\n",
      "\n",
      "1.0 ximenic acid --> 1.0 ximenic acid\n",
      "\n",
      "1.0 m03153s --> 1.0 m03153c\n",
      "FLUX : 0.062032195933617765 --- ID : HMR_0344 --- compartment : {'C_c', 'C_s'} \n",
      "\n",
      "---\n",
      "\n",
      "\n",
      "1.0 linoleate --> 1.0 linoleate\n",
      "\n",
      "1.0 m02387s --> 1.0 m02387c\n",
      "FLUX : 111.18327935199554 --- ID : HMR_0396 --- compartment : {'C_c', 'C_s'} \n",
      "\n",
      "---\n",
      "\n",
      "\n",
      "1.0 linoleate --> 1.0 linoleate\n",
      "\n",
      "1.0 m02387x --> 1.0 m02387s\n",
      "FLUX : 67.14042023912694 --- ID : HMR_9035 --- compartment : {'C_s', 'C_x'} \n",
      "\n",
      "---\n",
      "\n",
      "\n",
      "1.0 linoleate --> \n",
      "\n",
      "1.0 m02387x --> \n",
      "FLUX : -67.14042023912694 --- ID : EX_m02387x --- compartment : {'C_x'} \n",
      "\n",
      "---\n",
      "\n",
      "\n",
      "1.0 eicosanoate --> 1.0 eicosanoate\n",
      "\n",
      "1.0 m01771s --> 1.0 m01771c\n",
      "FLUX : 0.6823541552697954 --- ID : HMR_0282 --- compartment : {'C_c', 'C_s'} \n",
      "\n",
      "---\n",
      "\n",
      "\n",
      "1.0 palmitolate --> 1.0 palmitolate\n",
      "\n",
      "1.0 m02675s --> 1.0 m02675c\n",
      "FLUX : 42.55408641046177 --- ID : HMR_0225 --- compartment : {'C_c', 'C_s'} \n",
      "\n",
      "---\n",
      "\n",
      "\n",
      "1.0 margaric acid --> 1.0 margaric acid\n",
      "\n",
      "1.0 m02456s --> 1.0 m02456c\n",
      "FLUX : 3.4738029722825945 --- ID : HMR_0236 --- compartment : {'C_c', 'C_s'} \n",
      "\n",
      "---\n",
      "\n",
      "\n",
      "1.0 elaidate --> 1.0 elaidate\n",
      "\n",
      "1.0 m01778s --> 1.0 m01778c\n",
      "FLUX : 0.062032195933617765 --- ID : HMR_0266 --- compartment : {'C_c', 'C_s'} \n",
      "\n",
      "---\n",
      "\n",
      "\n",
      "1.0 henicosanoic acid --> 1.0 henicosanoic acid\n",
      "\n",
      "1.0 m02053s --> 1.0 m02053c\n",
      "FLUX : 0.062032195933617765 --- ID : HMR_0308 --- compartment : {'C_c', 'C_s'} \n",
      "\n",
      "---\n",
      "\n",
      "\n",
      "1.0 tridecylic acid --> 1.0 tridecylic acid\n",
      "\n",
      "1.0 m03051s --> 1.0 m03051c\n",
      "FLUX : 0.062032195933617765 --- ID : HMR_0191 --- compartment : {'C_c', 'C_s'} \n",
      "\n",
      "---\n",
      "\n",
      "\n",
      "1.0 nonadecylic acid --> 1.0 nonadecylic acid\n",
      "\n",
      "1.0 m02613s --> 1.0 m02613c\n",
      "FLUX : 0.062032195933617765 --- ID : HMR_0278 --- compartment : {'C_c', 'C_s'} \n",
      "\n",
      "---\n",
      "\n",
      "\n",
      "1.0 lauric acid --> 1.0 lauric acid\n",
      "\n",
      "1.0 m02344s --> 1.0 m02344c\n",
      "FLUX : 2.1090946617430033 --- ID : HMR_0187 --- compartment : {'C_c', 'C_s'} \n",
      "\n",
      "---\n",
      "\n",
      "\n",
      "1.0 cis-erucic acid --> 1.0 cis-erucic acid\n",
      "\n",
      "1.0 m01583s --> 1.0 m01583c\n",
      "FLUX : 0.12406439186723554 --- ID : HMR_0318 --- compartment : {'C_c', 'C_s'} \n",
      "\n",
      "---\n",
      "\n",
      "\n",
      "1.0 mead acid --> 1.0 mead acid\n",
      "\n",
      "1.0 m02457s --> 1.0 m02457c\n",
      "FLUX : 0.31016097966808875 --- ID : HMR_0304 --- compartment : {'C_c', 'C_s'} \n",
      "\n",
      "---\n",
      "\n",
      "\n",
      "1.0 stearate --> 1.0 stearate\n",
      "\n",
      "1.0 m02938s --> 1.0 m02938c\n",
      "FLUX : 63.9551940075599 --- ID : HMR_0248 --- compartment : {'C_c', 'C_s'} \n",
      "\n",
      "---\n",
      "\n",
      "\n",
      "1.0 pentadecylic acid --> 1.0 pentadecylic acid\n",
      "\n",
      "1.0 m02690s --> 1.0 m02690c\n",
      "FLUX : 1.8609658780085325 --- ID : HMR_0212 --- compartment : {'C_c', 'C_s'} \n",
      "\n",
      "---\n",
      "\n",
      "\n",
      "1.0 lignocerate --> 1.0 lignocerate\n",
      "\n",
      "1.0 m02385s --> 1.0 m02385c\n",
      "FLUX : 0.7443863512034129 --- ID : HMR_0330 --- compartment : {'C_c', 'C_s'} \n",
      "\n",
      "---\n",
      "\n",
      "\n",
      "1.0 deoxyguanosine <-- 1.0 deoxyguanosine\n",
      "\n",
      "1.0 m01669c <-- 1.0 m01669s\n",
      "FLUX : -834.1899174463374 --- ID : HMR_6366 --- compartment : {'C_c', 'C_s'} \n",
      "\n",
      "---\n",
      "\n",
      "\n",
      "1.0 deoxyguanosine --> 1.0 deoxyguanosine\n",
      "\n",
      "1.0 m01669x --> 1.0 m01669s\n",
      "FLUX : 834.1899174463375 --- ID : HMR_9300 --- compartment : {'C_s', 'C_x'} \n",
      "\n",
      "---\n",
      "\n",
      "\n",
      "1.0 deoxyguanosine --> \n",
      "\n",
      "1.0 m01669x --> \n",
      "FLUX : -834.1899174463375 --- ID : EX_m01669x --- compartment : {'C_x'} \n",
      "\n",
      "---\n",
      "\n",
      "\n",
      "1.0 uridine --> 1.0 uridine\n",
      "\n",
      "1.0 m03123c --> 1.0 m03123s\n",
      "FLUX : 5.955788665668715 --- ID : HMR_5035 --- compartment : {'C_c', 'C_s'} \n",
      "\n",
      "---\n",
      "\n",
      "\n",
      "1.0 uridine <-- 1.0 uridine\n",
      "\n",
      "1.0 m03123x <-- 1.0 m03123s\n",
      "FLUX : -5.955788665668716 --- ID : HMR_9439 --- compartment : {'C_s', 'C_x'} \n",
      "\n",
      "---\n",
      "\n",
      "\n",
      "1.0 uridine <-- \n",
      "\n",
      "1.0 m03123x <-- \n",
      "FLUX : 5.955788665668716 --- ID : EX_m03123x --- compartment : {'C_x'} \n",
      "\n",
      "---\n",
      "\n",
      "\n",
      "1.0 nervonic acid --> 1.0 nervonic acid\n",
      "\n",
      "1.0 m02564s --> 1.0 m02564c\n",
      "FLUX : 0.18609658780085322 --- ID : HMR_0336 --- compartment : {'C_c', 'C_s'} \n",
      "\n",
      "---\n",
      "\n",
      "\n",
      "1.0 10,13,16-docosatriynoic acid --> 1.0 10,13,16-docosatriynoic acid\n",
      "\n",
      "1.0 m00265s --> 1.0 m00265c\n",
      "FLUX : 0.062032195933617765 --- ID : HMR_0436 --- compartment : {'C_c', 'C_s'} \n",
      "\n",
      "---\n",
      "\n",
      "\n",
      "1.0 cerotic acid --> 1.0 cerotic acid\n",
      "\n",
      "1.0 m01432s --> 1.0 m01432c\n",
      "FLUX : 0.31016097966808875 --- ID : HMR_0340 --- compartment : {'C_c', 'C_s'} \n",
      "\n",
      "---\n",
      "\n",
      "\n",
      "1.0 8,11-eicosadienoic acid --> 1.0 8,11-eicosadienoic acid\n",
      "\n",
      "1.0 m01207s --> 1.0 m01207c\n",
      "FLUX : 0.062032195933617765 --- ID : HMR_0300 --- compartment : {'C_c', 'C_s'} \n",
      "\n",
      "---\n",
      "\n",
      "\n",
      "1.0 EPA --> 1.0 EPA\n",
      "\n",
      "1.0 m01784s --> 1.0 m01784c\n",
      "FLUX : 1.2406439186723552 --- ID : HMR_0360 --- compartment : {'C_c', 'C_s'} \n",
      "\n",
      "---\n",
      "\n",
      "\n",
      "1.0 (5Z,8Z,11Z,14Z,17Z)-eicosapentaenoyl-CoA + 1.0 L-carnitine <-- 1.0 (5Z,8Z,11Z,14Z,17Z)-eicosapentaenoylcarnitine + 1.0 CoA\n",
      "\n",
      "1.0 m00103r + 1.0 m02348r <-- 1.0 m00102r + 1.0 m01597r\n",
      "FLUX : -8.401153332204683e-30 --- ID : HMR_2866 --- compartment : {'C_r'} \n",
      "\n",
      "---\n",
      "\n",
      "\n",
      "1.0 DPA --> 1.0 DPA\n",
      "\n",
      "1.0 m01741s --> 1.0 m01741c\n",
      "FLUX : 1.1786117227387374 --- ID : HMR_0364 --- compartment : {'C_c', 'C_s'} \n",
      "\n",
      "---\n",
      "\n",
      "\n",
      "1.0 AKG --> 1.0 AKG\n",
      "\n",
      "1.0 m01306x --> 1.0 m01306s\n",
      "FLUX : 232.7998371325616 --- ID : HMR_9259 --- compartment : {'C_s', 'C_x'} \n",
      "\n",
      "---\n",
      "\n",
      "\n",
      "1.0 AKG --> \n",
      "\n",
      "1.0 m01306x --> \n",
      "FLUX : -232.7998371325616 --- ID : EX_m01306x --- compartment : {'C_x'} \n",
      "\n",
      "---\n",
      "\n",
      "\n",
      "1.0 2-hydroxybutyrate --> 1.0 2-hydroxybutyrate\n",
      "\n",
      "1.0 m00648x --> 1.0 m00648s\n",
      "FLUX : 797.7900109763268 --- ID : HMR_9216 --- compartment : {'C_s', 'C_x'} \n",
      "\n",
      "---\n",
      "\n",
      "\n",
      "1.0 2-hydroxybutyrate --> \n",
      "\n",
      "1.0 m00648x --> \n",
      "FLUX : -797.7900109763269 --- ID : EX_m00648x --- compartment : {'C_x'} \n",
      "\n",
      "---\n",
      "\n",
      "\n",
      "1.0 omega-3-arachidonic acid --> 1.0 omega-3-arachidonic acid\n",
      "\n",
      "1.0 m02648s --> 1.0 m02648c\n",
      "FLUX : 0.062032195933617765 --- ID : HMR_0356 --- compartment : {'C_c', 'C_s'} \n",
      "\n",
      "---\n",
      "\n",
      "\n",
      "1.0 adrenic acid --> 1.0 adrenic acid\n",
      "\n",
      "1.0 m01291s --> 1.0 m01291c\n",
      "FLUX : 1.0545473308715017 --- ID : HMR_0412 --- compartment : {'C_c', 'C_s'} \n",
      "\n",
      "---\n",
      "\n",
      "\n",
      "1.0 cis-gondoic acid --> 1.0 cis-gondoic acid\n",
      "\n",
      "1.0 m01584s --> 1.0 m01584c\n",
      "FLUX : 0.062032195933617765 --- ID : HMR_0292 --- compartment : {'C_c', 'C_s'} \n",
      "\n",
      "---\n",
      "\n",
      "\n",
      "1.0 9-heptadecylenic acid --> 1.0 9-heptadecylenic acid\n",
      "\n",
      "1.0 m01238s --> 1.0 m01238c\n",
      "FLUX : 0.062032195933617765 --- ID : HMR_0244 --- compartment : {'C_c', 'C_s'} \n",
      "\n",
      "---\n",
      "\n",
      "\n",
      "1.0 dihomo-gamma-linolenate --> 1.0 dihomo-gamma-linolenate\n",
      "\n",
      "1.0 m01696s --> 1.0 m01696c\n",
      "FLUX : 1.5508048983404439 --- ID : HMR_0404 --- compartment : {'C_c', 'C_s'} \n",
      "\n",
      "---\n",
      "\n",
      "\n",
      "1.0 butyrate + 1.0 propanoate <-- 1.0 butyrate + 1.0 propanoate\n",
      "\n",
      "1.0 m01410c + 1.0 m02772s <-- 1.0 m01410s + 1.0 m02772c\n",
      "FLUX : -1000.0 --- ID : HMR_6043 --- compartment : {'C_c', 'C_s'} \n",
      "\n",
      "---\n",
      "\n",
      "\n",
      "1.0 butyrate <-- 1.0 butyrate\n",
      "\n",
      "1.0 m01410s <-- 1.0 m01410c\n",
      "FLUX : -1000.0 --- ID : HMR_0155 --- compartment : {'C_c', 'C_s'} \n",
      "\n",
      "---\n",
      "\n",
      "\n",
      "1.0 propanoate <-- 1.0 propanoate\n",
      "\n",
      "1.0 m02772x <-- 1.0 m02772s\n",
      "FLUX : -1000.0 --- ID : HMR_9808 --- compartment : {'C_s', 'C_x'} \n",
      "\n",
      "---\n",
      "\n",
      "\n",
      "1.0 propanoate <-- \n",
      "\n",
      "1.0 m02772x <-- \n",
      "FLUX : 1000.0 --- ID : EX_m02772x --- compartment : {'C_x'} \n",
      "\n",
      "---\n",
      "\n",
      "\n",
      "1.0 arachidonate --> 1.0 arachidonate\n",
      "\n",
      "1.0 m01362s --> 1.0 m01362c\n",
      "FLUX : 8.498410842905633 --- ID : HMR_0408 --- compartment : {'C_c', 'C_s'} \n",
      "\n",
      "---\n",
      "\n",
      "\n",
      "1.0 (7Z)-octadecenoic acid --> 1.0 (7Z)-octadecenoic acid\n",
      "\n",
      "1.0 m00115s --> 1.0 m00115c\n",
      "FLUX : 0.062032195933617765 --- ID : HMR_0270 --- compartment : {'C_c', 'C_s'} \n",
      "\n",
      "---\n",
      "\n",
      "\n",
      "1.0 physeteric acid --> 1.0 physeteric acid\n",
      "\n",
      "1.0 m02745s --> 1.0 m02745c\n",
      "FLUX : 0.062032195933617765 --- ID : HMR_0208 --- compartment : {'C_c', 'C_s'} \n",
      "\n",
      "---\n",
      "\n",
      "\n",
      "1.0 cis-cetoleic acid --> 1.0 cis-cetoleic acid\n",
      "\n",
      "1.0 m01582s --> 1.0 m01582c\n",
      "FLUX : 0.062032195933617765 --- ID : HMR_0322 --- compartment : {'C_c', 'C_s'} \n",
      "\n",
      "---\n",
      "\n",
      "\n",
      "1.0 tricosanoic acid --> 1.0 tricosanoic acid\n",
      "\n",
      "1.0 m03045s --> 1.0 m03045c\n",
      "FLUX : 0.12406439186723554 --- ID : HMR_0326 --- compartment : {'C_c', 'C_s'} \n",
      "\n",
      "---\n",
      "\n",
      "\n",
      "1.0 stearidonic acid --> 1.0 stearidonic acid\n",
      "\n",
      "1.0 m02939s --> 1.0 m02939c\n",
      "FLUX : 0.06203219593361777 --- ID : HMR_0352 --- compartment : {'C_c', 'C_s'} \n",
      "\n",
      "---\n",
      "\n",
      "\n"
     ]
    }
   ],
   "source": [
    "for reaction, flux in f.items() :\n",
    "    vu.print_reactions(HepG2_v2.reactions.get_by_id(reaction), flux)\n",
    "    print(f\"FLUX : {flux} --- ID : {HepG2_v2.reactions.get_by_id(reaction).id} --- compartment : {HepG2_v2.reactions.get_by_id(reaction).compartments} \\n\\n---\\n\\n\")"
   ]
  }
 ],
 "metadata": {
  "kernelspec": {
   "display_name": "metabo",
   "language": "python",
   "name": "python3"
  },
  "language_info": {
   "codemirror_mode": {
    "name": "ipython",
    "version": 3
   },
   "file_extension": ".py",
   "mimetype": "text/x-python",
   "name": "python",
   "nbconvert_exporter": "python",
   "pygments_lexer": "ipython3",
   "version": "3.10.9"
  },
  "orig_nbformat": 4,
  "vscode": {
   "interpreter": {
    "hash": "25266e4d94cab7cb84ec1584ccf76a3b99346593b5e5752e0efad26d43237999"
   }
  }
 },
 "nbformat": 4,
 "nbformat_minor": 2
}
